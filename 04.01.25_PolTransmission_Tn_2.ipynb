{
 "cells": [
  {
   "cell_type": "code",
   "execution_count": 1,
   "id": "319045a4-edf5-4a62-b401-2218c7679be1",
   "metadata": {},
   "outputs": [
    {
     "name": "stdout",
     "output_type": "stream",
     "text": [
      "F:\\LANL\\analysis\n",
      "F:\\LANL\\sample_data/pol_unpol/sampledata_runs12400-12404/\n"
     ]
    }
   ],
   "source": [
    "import numpy as np\n",
    "import matplotlib.pyplot as plt\n",
    "#import uproot\n",
    "import pandas as pd\n",
    "import scipy.optimize as opt\n",
    "import math\n",
    "import statistics as st\n",
    "import os\n",
    "import PyQt5\n",
    "from numba import njit\n",
    "import time\n",
    "from numba.core.errors import NumbaDeprecationWarning, NumbaPendingDeprecationWarning\n",
    "\n",
    "print(os.getcwd())\n",
    "os.chdir('F:/LANL/sample_data/')\n",
    "folder = '/pol_unpol/sampledata_runs12400-12404/'\n",
    "print(os.getcwd() + folder)\n",
    "\n",
    "%matplotlib qt\n",
    "\n",
    "run_num = \"12401\" \n",
    "\n",
    "#chan_enab = [0,1,2,3,4,5,6,7,8,9,10,11,12,13,14,15,16,17,18,19,20,21,22,23,24,25]\n",
    "chan_enab = [23,24,25]\n",
    "\n",
    "read_data = []\n",
    "fileLength = []\n",
    "\n",
    "for el in chan_enab:\n",
    "    f = open(os.getcwd()+folder + 'run' + run_num + \"_ch\" + str(el) + \".bin\", 'rb')\n",
    "    read_data.append(np.fromfile(file=f, dtype=np.uint16))\n",
    "    f.close()\n",
    "    fileLength.append(len(read_data[-1]))"
   ]
  },
  {
   "cell_type": "markdown",
   "id": "12ff448e-fd59-42e0-b8b2-adb846e9318c",
   "metadata": {},
   "source": [
    "Store the big header for each channel in arrays"
   ]
  },
  {
   "cell_type": "code",
   "execution_count": 2,
   "id": "bcc0522c-582d-4057-b357-70512dd0fcd2",
   "metadata": {},
   "outputs": [
    {
     "name": "stdout",
     "output_type": "stream",
     "text": [
      "For channel 23, BoardID is 31; record length is 45000; num Samples is 9000; event counter is 185000; dec factor is 32; chan dec is 1; postTrig is 80; group start is 7000; group end is 16000; epoch time is 1706404819; first event size is 18040; and ETTT is 1199560067\n",
      "\n",
      "For channel 24, BoardID is 31; record length is 45000; num Samples is 9000; event counter is 185000; dec factor is 32; chan dec is 1; postTrig is 80; group start is 7000; group end is 16000; epoch time is 1706404819; first event size is 18040; and ETTT is 1199560067\n",
      "\n",
      "For channel 25, BoardID is 31; record length is 45000; num Samples is 45000; event counter is 185000; dec factor is 32; chan dec is 1; postTrig is 80; group start is 0; group end is 45000; epoch time is 1706404819; first event size is 90040; and ETTT is 1199560067\n",
      "\n",
      "Target is La\n",
      "Foil is empty\n",
      "Shutter is open: True\n",
      "Facility t0 is on: True\n",
      "Spin flipper is on: True\n",
      "Spin filter is on: True\n",
      "Target is present: True\n",
      "Foil is present: False\n"
     ]
    }
   ],
   "source": [
    "BoardID = []\n",
    "recordLength = []\n",
    "numSamples = []\n",
    "eventCounter = []\n",
    "decFactor = []\n",
    "chanDec = []\n",
    "postTrig = []\n",
    "groupStart = []\n",
    "groupEnd = []\n",
    "timestamp= []\n",
    "sizeFirstEvent = []\n",
    "TTT = []\n",
    "\n",
    "targetDict = {0: \"La\", 1: \"Tb2O3\", 2: \"Yb2O3\", 3: \"Sm2O3\", 4: \"Er2O3\", 5: \"Ho2O3\", 6: \"other\"}\n",
    "foilDict = {0: \"TBD\", 1: \"TBD\", 2: \"TBD\", 3: \"TBD\", 4: \"TBD\", 5: \"TBD\", 6: \"other\"}\n",
    "\n",
    "target=(read_data[0][5]&0x00F0)>>4\n",
    "foil=read_data[0][5]&0x000F\n",
    "targetFlag = read_data[0][5]>>8&1\n",
    "foilFlag = read_data[0][5]>>9&1\n",
    "spinFiltFlag = read_data[0][5]>>10&1\n",
    "spinFlipFlag = read_data[0][5]>>11&1\n",
    "shutterFlag = read_data[0][5]>>12&1\n",
    "facilityTrigFlag = read_data[0][5]>>13&1\n",
    "\n",
    "if targetFlag:\n",
    "    target=targetDict[(read_data[0][5]&0x00F0)>>4]\n",
    "    \n",
    "else:\n",
    "    target = \"empty\"\n",
    "    \n",
    "    \n",
    "if foilFlag:\n",
    "    foil=foilDict[read_data[0][5]&0x000F]\n",
    "else:\n",
    "    foil = \"empty\"\n",
    "\n",
    "for i in range(0,len(chan_enab)):\n",
    "    BoardID.append(read_data[i][9]>>8)\n",
    "    recordLength.append(((read_data[i][9]&0x00FF)<<16)+read_data[i][8])\n",
    "    numSamples.append(((read_data[i][11]&0x00FF)<<16)+read_data[i][10])\n",
    "    eventCounter.append(read_data[i][6]+(read_data[i][7]<<16))\n",
    "    BoardID.append(read_data[i][9]>>8)  \n",
    "    decFactor.append(read_data[i][11]>>8)\n",
    "    chanDec.append(read_data[i][13]>>8)\n",
    "    postTrig.append(read_data[i][15]>>8)\n",
    "    groupStart.append(((read_data[i][13]&0x00FF)<<16)+read_data[i][12])\n",
    "    groupEnd.append(((read_data[i][15]&0x00FF)<<16)+read_data[i][14])\n",
    "    \n",
    "    timestamp.append(read_data[i][16]+(read_data[i][17]<<16)+(read_data[i][18]<<32)+(read_data[i][19]<<40))  \n",
    "    sizeFirstEvent.append(read_data[i][0]+(read_data[i][1]<<16))\n",
    "    TTT.append(read_data[i][2]+(read_data[i][3]<<16)+(read_data[i][4]<<32))\n",
    "    \n",
    "    print(\"For channel \" + str(chan_enab[i]) + \", BoardID is \" + str(BoardID[i])\n",
    "          + \"; record length is \" + str(recordLength[i]) + \"; num Samples is \" \n",
    "          + str(numSamples[i]) + \"; event counter is \" + str(eventCounter[i]) + \"; dec factor is \" + str(decFactor[i]) + \"; chan dec is \" \n",
    "          + str(chanDec[i]) + \"; postTrig is \" + str(postTrig[i]) + \"; group start is \" + str(groupStart[i]) + \"; group end is \" + str(groupEnd[i])\n",
    "          + \"; epoch time is \" + str(timestamp[i]) +  \"; first event size is \" + str(sizeFirstEvent[i]) + \"; and ETTT is \" + str(TTT[i]) + \"\\n\")\n",
    "    \n",
    "print(\"Target is \" + target)\n",
    "print(\"Foil is \" + foil)\n",
    "print(\"Shutter is open: \" + str(bool(shutterFlag)))\n",
    "print(\"Facility t0 is on: \" + str(bool(facilityTrigFlag)))\n",
    "print(\"Spin flipper is on: \" + str(bool(spinFlipFlag)))\n",
    "print(\"Spin filter is on: \" + str(bool(spinFiltFlag)))\n",
    "print(\"Target is present: \" + str(bool(targetFlag)))\n",
    "print(\"Foil is present: \" + str(bool(foilFlag)))\n",
    "\n",
    "BoardID = np.asarray(BoardID) \n",
    "recordLength = np.asarray(recordLength)\n",
    "numSamples = np.asarray(numSamples)\n",
    "eventCounter = np.asarray(eventCounter)\n",
    "decFactor = np.asarray(decFactor)\n",
    "chanDec = np.asarray(chanDec)\n",
    "postTrig = np.asarray(postTrig)\n",
    "groupStart = np.asarray(groupStart)\n",
    "groupEnd = np.asarray(groupEnd)\n",
    "timestamp = np.asarray(timestamp)\n",
    "sizeFirstEvent = np.asarray(sizeFirstEvent)\n",
    "TTT = np.asarray(TTT)"
   ]
  },
  {
   "cell_type": "markdown",
   "id": "9a9958e3-eb29-4529-b2bf-eaff422b6419",
   "metadata": {},
   "source": [
    "Determine the time axis for each channel"
   ]
  },
  {
   "cell_type": "code",
   "execution_count": 3,
   "id": "762903b1-1b4a-43a9-bd31-137f31cb6168",
   "metadata": {},
   "outputs": [
    {
     "name": "stdout",
     "output_type": "stream",
     "text": [
      "Pretime for channel 23 is 9000.0; start time is -1024000.0; end time is 3584000.0; resolution is 512ns\n",
      "Pretime for channel 24 is 9000.0; start time is -1024000.0; end time is 3584000.0; resolution is 512ns\n",
      "Pretime for channel 25 is 9000.0; start time is -4608000.0; end time is 18432000.0; resolution is 512ns\n",
      "45000\n",
      "17.578125\n"
     ]
    }
   ],
   "source": [
    "preTime = []\n",
    "startTime = []\n",
    "endTime = []\n",
    "resolution = []\n",
    "xs = [] \n",
    "\n",
    "for i in range(0,len(chan_enab)):\n",
    "    preTime.append((100-postTrig[i])*recordLength[i]/100)\n",
    "    startTime.append((-1*preTime[i]*16*decFactor[i] + groupStart[i]*16*decFactor[i]))\n",
    "    endTime.append((-1*preTime[i]*16*decFactor[i] + groupEnd[i]*16*decFactor[i]))\n",
    "    resolution.append(16*chanDec[i]*decFactor[i])\n",
    "    print(\"Pretime for channel\", chan_enab[i],\"is \" + str(preTime[i]) + \"; start time is \" + str(startTime[i]) + \"; end time is \" + str(endTime[i]) \n",
    "          + \"; resolution is \" + str(resolution[i]) + \"ns\")\n",
    "    xs.append(np.arange(startTime[i],(numSamples[i])*resolution[i]+startTime[i], resolution[i]))\n",
    "print(len(xs[2]))\n",
    "print(preTime[0]/512)"
   ]
  },
  {
   "cell_type": "code",
   "execution_count": 4,
   "id": "c493ccce",
   "metadata": {},
   "outputs": [
    {
     "name": "stdout",
     "output_type": "stream",
     "text": [
      "[ 9000  9000 45000]\n"
     ]
    }
   ],
   "source": [
    "print(numSamples)"
   ]
  },
  {
   "cell_type": "markdown",
   "id": "b8276405-f7a7-4ee7-8952-3a1445c14ccb",
   "metadata": {},
   "source": [
    "Put ADC values in arrays for each channel (one array per event, an array of events per channel) and put the miniheader information in an array"
   ]
  },
  {
   "cell_type": "code",
   "execution_count": 5,
   "id": "945d0f45-5996-4019-9ec3-43c76a7e3130",
   "metadata": {},
   "outputs": [
    {
     "name": "stdout",
     "output_type": "stream",
     "text": [
      "23 done\n",
      "24 done\n",
      "25 done\n"
     ]
    }
   ],
   "source": [
    "ys_arr = []\n",
    "ETTT_arr = []\n",
    "eventcount_arr = []\n",
    "\n",
    "for i in range(0,len(chan_enab)):\n",
    "    eventCount = 0\n",
    "    byteCounter = 0\n",
    "    ys_arr.append([])\n",
    "    eventcount_arr.append([])\n",
    "    \n",
    "    #byte counter is really 2bytecounter, lol\n",
    "    while byteCounter < fileLength[i]:\n",
    "        if byteCounter == 0:\n",
    "            ETTT_arr.append([])\n",
    "            eventcount_arr.append([])\n",
    "            ETTT_arr[i].append(TTT[i])\n",
    "            eventcount_arr[i].append(eventCounter[i])\n",
    "            byteCounter = 20\n",
    "        else:\n",
    "            ETTT_arr[i].append(read_data[i][byteCounter]+(read_data[i][byteCounter+1]<<16)+(read_data[i][byteCounter+2]<<32))\n",
    "            eventcount_arr[i].append(read_data[i][byteCounter+4]+(read_data[i][byteCounter+5]<<16))\n",
    "            byteCounter += 6\n",
    "        for j in range(0, numSamples[i]):\n",
    "            if j == 0:\n",
    "                ys_arr[i].append([])\n",
    "            ys_arr[i][eventCount].append(read_data[i][byteCounter]) \n",
    "            byteCounter += 1\n",
    "        eventCount += 1\n",
    "    print(str(chan_enab[i]) + ' done')\n",
    "\n",
    "#read_data.clear()\n",
    "    #times_arr.append(list(map(list, zip(*headers_arr[i][1:])))[0])"
   ]
  },
  {
   "cell_type": "code",
   "execution_count": 6,
   "id": "48fc5f43",
   "metadata": {},
   "outputs": [
    {
     "name": "stdout",
     "output_type": "stream",
     "text": [
      "3\n"
     ]
    }
   ],
   "source": [
    "print(len(fileLength))"
   ]
  },
  {
   "cell_type": "code",
   "execution_count": 7,
   "id": "91f989a9",
   "metadata": {},
   "outputs": [],
   "source": [
    "# start=time.time()\n",
    "\n",
    "# @njit\n",
    "# def dataread(data, channels, fileLen, numSamps):\n",
    "#     numRuns = int((fileLen[0]-20-numSamps[0])/(numSamps[0]+6)+1)\n",
    "#     ys_arr = np.zeros((len(channels), numRuns,numSamps[0]), dtype=np.uint16)\n",
    "#     ETTT_arr = np.zeros((len(channels), numRuns), dtype=np.intc)\n",
    "#     eventcount_arr = np.zeros((len(channels), numRuns), dtype=np.intc)\n",
    "#     for i in range(0,len(channels)):\n",
    "#         eventCount = 0\n",
    "#         byteCounter = 0\n",
    "#             #byte counter is really 2bytecounter, lol\n",
    "#         while byteCounter < fileLen[i]:\n",
    "#             if byteCounter == 0:\n",
    "#                 ETTT_arr[i]=TTT[i]\n",
    "#                 #ETTT_arr[i].append(TTT[i])\n",
    "#                 eventcount_arr[i]=(eventCounter[i])\n",
    "#                 byteCounter = 20\n",
    "#             else:\n",
    "#                 ETTT_arr[i]=(data[i][byteCounter]+(data[i][byteCounter+1]<<16)+(data[i][byteCounter+2]<<32))\n",
    "#                 eventcount_arr[i]=(data[i][byteCounter+4]+(data[i][byteCounter+5]<<16))\n",
    "#                 byteCounter += 6\n",
    "#             for j in range(0, numSamps[i]):\n",
    "#                 #if j == 0:\n",
    "#                     #ys_arr[i].append([])\n",
    "#                 #print(byteCounter)\n",
    "#                 ys_arr[i][eventCount][j]=data[i][byteCounter]\n",
    "#                 byteCounter += 1\n",
    "#             eventCount += 1\n",
    "#     return ys_arr, ETTT_arr, eventcount_arr\n",
    "\n",
    "# @njit\n",
    "# def dataread_He(data, channels, fileLen, numSamps):\n",
    "#     numRuns = int((fileLen[0]-20-numSamps[-1])/(numSamps[-1]+6)+1)\n",
    "#     ys_arr = np.zeros((len(channels), numRuns,numSamps[-1]), dtype=np.uint16)\n",
    "#     ETTT_arr = np.zeros((len(channels), numRuns), dtype=np.intc)\n",
    "#     eventcount_arr = np.zeros((len(channels), numRuns), dtype=np.intc)\n",
    "#     for i in range(0,len(channels)):\n",
    "#         eventCount = 0\n",
    "#         byteCounter = 0\n",
    "#             #byte counter is really 2bytecounter, lol\n",
    "#         while byteCounter < fileLen[i]:\n",
    "#             if byteCounter == 0:\n",
    "#                 ETTT_arr[i]=TTT[i]\n",
    "#                 #ETTT_arr[i].append(TTT[i])\n",
    "#                 eventcount_arr[i]=(eventCounter[i])\n",
    "#                 byteCounter = 20\n",
    "#             else:\n",
    "#                 ETTT_arr[i]=(data[i][byteCounter]+(data[i][byteCounter+1]<<16)+(data[i][byteCounter+2]<<32))\n",
    "#                 eventcount_arr[i]=(data[i][byteCounter+4]+(data[i][byteCounter+5]<<16))\n",
    "#                 byteCounter += 6\n",
    "#             for j in range(0, numSamps[i]):\n",
    "#                 #if j == 0:\n",
    "#                     #ys_arr[i].append([])\n",
    "#                 #print(byteCounter)\n",
    "#                 ys_arr[i][eventCount][j]=data[i][byteCounter]\n",
    "#                 byteCounter += 1\n",
    "#             eventCount += 1\n",
    "#     return ys_arr, ETTT_arr, eventcount_arr\n",
    "\n",
    "# start=time.time()\n",
    "# ys_arrHe, ETTT_arrHe, eventcount_arrHe  = dataread_He(read_data, [25], fileLength, numSamples) ##hardcoded channel 25 for He\n",
    "# # ys_arr, ETTT_arr, eventcount_arr  = dataread(read_data, chan_enab[:-1], fileLength, numSamples) ##hardcoded channels for coils\n",
    "\n",
    "# end = time.time()\n",
    "# print('dataread from binary time: ' + str(end-start))"
   ]
  },
  {
   "cell_type": "markdown",
   "id": "8ec628b4-06e7-4922-8888-6c49ae5a439a",
   "metadata": {},
   "source": [
    "Calculate the time difference between each event within a file - used to check for dropping pulses. It seems that if we make the record window 49.152 ms long, we miss every other pulse (at 20 Hz). This is not that surprising - we presumably will not need a lot of data (or any) with the full 50 ms time window."
   ]
  },
  {
   "cell_type": "code",
   "execution_count": 8,
   "id": "a24e8d6f-120a-407a-a0dd-f8ae41dc45dd",
   "metadata": {},
   "outputs": [],
   "source": [
    "# timeDif=[]\n",
    "# for i in range(0,len(chan_enab)):\n",
    "#     timeDif.append([])\n",
    "#     for j in range(len(ETTT_arr[i])-1):\n",
    "#         timeDif[i].append((ETTT_arr[i][j+1]-ETTT_arr[i][j])*8)\n",
    "#     print(\"Min time difference for channel\", chan_enab[i], \"is\", min(timeDif[i]), \"ns\")\n",
    "#     print(\"Max time difference for channel\", chan_enab[i], \"is\", max(timeDif[i]), \"ns \\n\")\n",
    "# #print(timeDif)"
   ]
  },
  {
   "cell_type": "markdown",
   "id": "43eaafbc-18bb-43a4-9f55-39501aff3109",
   "metadata": {},
   "source": [
    "Plot each channels' events"
   ]
  },
  {
   "cell_type": "code",
   "execution_count": 9,
   "id": "8347b77a",
   "metadata": {},
   "outputs": [],
   "source": [
    "# print(len(ys_arrHe[0]))\n",
    "# print(len(ys_arr))\n",
    "# print((len(ys_arr[-1][0])),(len(ys_arr[0][0])) )\n",
    "\n",
    "# # ys_arr=ys_arr.tolist()\n",
    "# # # ys_arr=ys_arr.tolist()\n",
    "# # ys_arr.append(ys_arrHe[0])\n",
    "# print(len(ys_arr))\n",
    "# print((len(ys_arr[-1][0])),(len(ys_arr[0][0])) )\n",
    "# plt.plot(ys_arr[0][0])"
   ]
  },
  {
   "cell_type": "code",
   "execution_count": 10,
   "id": "3cc44baf-dbc9-481d-9483-44dfdacf5e41",
   "metadata": {
    "scrolled": true
   },
   "outputs": [
    {
     "name": "stdout",
     "output_type": "stream",
     "text": [
      "9000\n",
      "9000\n"
     ]
    },
    {
     "data": {
      "image/png": "[encoded data removed]",
      "text/plain": [
       "<Figure size 640x480 with 1 Axes>"
      ]
     },
     "metadata": {},
     "output_type": "display_data"
    },
    {
     "name": "stdout",
     "output_type": "stream",
     "text": [
      "sums length:3\n",
      "5000\n",
      "3\n",
      "45000\n",
      "9000\n",
      "45000\n"
     ]
    }
   ],
   "source": [
    "## remake this for thesis\n",
    "\n",
    "#switchs = [31, 74, 117, 160, 203, 246, 289, 332]\n",
    "#%matplotlib notebook\n",
    "%matplotlib inline\n",
    "\n",
    "baseL = 0\n",
    "baseR = 1500\n",
    "intgrL = 0 # bin 1800 looks OK for integral, but start at 0...\n",
    "intgrR = 8999\n",
    "HeintgrL = 7000 # 3He data is a different size\n",
    "HeintgrR = 16000\n",
    "sums = []\n",
    "ys_basesub = [] \n",
    "legend = ['NaI', '6Li', '3He']\n",
    "#statesID = ['111', '101', '100', '110','101','110','111','100','111']\n",
    "#switchpulses = np.arange(230,575,43)\n",
    "#print(switchpulses)\n",
    "#p=8\n",
    "pulse = 20\n",
    "#print(pulse)\n",
    "\n",
    "#%matplotlib qt\n",
    "#%matplotlib inline\n",
    "#for i in range(0,len(chan_enab)):\n",
    "for i in range(0,3):\n",
    "    tempys_basesub = []\n",
    "    tempsums =[]\n",
    "    s=pulse\n",
    "    t=s+1\n",
    "    for j in range(0, len(ys_arr[i])): ##baseline subtract all pulses and take integral of all pulses\n",
    "        if i==2: ## currently 3He is i=2. change if changing # of channels\n",
    "            tempys_basesub.append(ys_arr[i][j] - np.mean(ys_arr[i][j][baseL:baseR]))\n",
    "            tempsums.append(sum(tempys_basesub[j][HeintgrL:HeintgrR]))  ## Need to change sums array format if also doing LO/R\n",
    "        else:\n",
    "            tempys_basesub.append(ys_arr[i][j] - np.mean(ys_arr[i][j][baseL:baseR]))\n",
    "            #print(np.mean(ys_arr[i][j][200:6000]))\n",
    "            tempsums.append(sum(tempys_basesub[j][intgrL:intgrR]))  ## Need to change sums array format if also doing LO/R\n",
    "    ys_basesub.append(tempys_basesub)\n",
    "    sums.append(tempsums)\n",
    "    #print(len(ys_basesub))\n",
    "    for j in range(s, t): ## plot only interested pulses\n",
    "        #ys_basesub.append(ys_arr[i][j] - np.mean(ys_arr[i][j][200:6000]))\n",
    "        #print(sum(ys_basesub[i][j])) \n",
    "        plt.plot(xs[i], tempys_basesub[j] , label=legend[i] +', Integral = ') #+str(sums[1][j])) ## sums[j] will not work for more than just TR   \n",
    "\n",
    "#plt.xlim(-50000, 900000)\n",
    "#plt.ylim(3000,4100)\n",
    "plt.title('Detector signals') \n",
    "plt.xlabel(\"time from trigger (ns)\")\n",
    "plt.ylabel(\"ADC\")\n",
    "print(len(xs[0]))\n",
    "print(len(ys_arr[0][0]))\n",
    "plt.axvline(xs[0][baseL], ls = '--')\n",
    "plt.axvline(xs[0][baseR], ls = '--')\n",
    "plt.axvline(xs[2][HeintgrL], ls = '--', c ='r')\n",
    "plt.axvline(xs[2][HeintgrR], ls = '--', c ='r')\n",
    "\n",
    "#plt.text(1.5e7, 1200, 'test', fontsize=12)\n",
    "plt.legend()\n",
    "plt.show()\n",
    "\n",
    "print('sums length:'+ str(len(sums)))\n",
    "print(len(sums[2]))\n",
    "\n",
    "#print(np.array(expectedSumsTR)+np.array(expectedSumsR))\n",
    "\n",
    "print(len(sums))\n",
    "print(len(ys_arr[2][0]))\n",
    "print(len(ys_arr[1][0]))\n",
    "print(len(xs[2]))\n",
    "#plt.hist(sums, 100)\n",
    "#plt.show("
   ]
  },
  {
   "cell_type": "code",
   "execution_count": 11,
   "id": "34c0bdc0",
   "metadata": {
    "scrolled": false
   },
   "outputs": [
    {
     "name": "stdout",
     "output_type": "stream",
     "text": [
      "6659492.999999903\n",
      "[-0.09933333 -0.09933333 -0.09933333 ... -2.09933333 -1.09933333\n",
      " -1.09933333]\n",
      "[-1.49160504e-08 -1.49160504e-08 -1.49160504e-08 ... -3.15239213e-07\n",
      " -1.65077632e-07 -1.65077632e-07]\n",
      "9000\n",
      "9000\n"
     ]
    },
    {
     "data": {
      "image/png": "[encoded data removed]",
      "text/plain": [
       "<Figure size 640x480 with 1 Axes>"
      ]
     },
     "metadata": {},
     "output_type": "display_data"
    },
    {
     "name": "stdout",
     "output_type": "stream",
     "text": [
      "sums length:3\n",
      "5000\n",
      "-62620.90266665234\n",
      "-9458.186441799298\n",
      "-9458.186441798223\n"
     ]
    }
   ],
   "source": [
    "## Divide NaI and 6Li by 3He integral (normalize), then take integral of NaI and 6Li\n",
    "baseL = 0\n",
    "baseR = 1500\n",
    "intgrL = 0 # bin 1800 looks OK for integral, but start at 0...\n",
    "intgrR = 8999\n",
    "HeintgrL = 7000 # 3He data is a different size\n",
    "HeintgrR = 16000\n",
    "#res =2.3 ms\n",
    "sums = []\n",
    "sums_norm = []\n",
    "ys_basesub = []\n",
    "ys_base_norm = [] \n",
    "legend = ['NaI', '6Li', '3He']\n",
    "#statesID = ['111', '101', '100', '110','101','110','111','100','111']\n",
    "#switchpulses = np.arange(230,575,43)\n",
    "#print(switchpulses)\n",
    "#p=8\n",
    "pulse = 20\n",
    "#print(pulse)\n",
    "## t_to_eV = 0.5*(1.6749286*10**(-27))*((27.3/TIME))**2*(6.24151*10**18 [J/eV])\n",
    "\n",
    "#%matplotlib qt\n",
    "#for i in range(0,len(chan_enab)):\n",
    "for i in (range(0,3)):\n",
    "    tempys_basesub = []\n",
    "    tempsums =[]\n",
    "    s=pulse\n",
    "    t=s+1\n",
    "    for j in range(0, len(ys_arr[i])): ##baseline subtract all pulses and take integral of all pulses\n",
    "        if i==2: ## currently 3He is i=2. change if changing # of channels\n",
    "            tempys_basesub.append(ys_arr[i][j] - np.mean(ys_arr[i][j][baseL:baseR]))\n",
    "            tempsums.append(sum(tempys_basesub[j][HeintgrL:HeintgrR]))  ## Need to change sums array format if also doing LO/R\n",
    "        else:\n",
    "            tempys_basesub.append(ys_arr[i][j] - np.mean(ys_arr[i][j][baseL:baseR]))\n",
    "            #print(np.mean(ys_arr[i][j][200:6000]))\n",
    "            tempsums.append(sum(tempys_basesub[j][intgrL:intgrR]))  ## Need to change sums array format if also doing LO/R\n",
    "    ys_basesub.append(tempys_basesub)\n",
    "    sums.append(tempsums)\n",
    "    #print(len(ys_basesub))\n",
    "    for j in range(s, t): ## plot only interested pulses\n",
    "        #ys_basesub.append(ys_arr[i][j] - np.mean(ys_arr[i][j][200:6000]))\n",
    "        #print(sum(ys_basesub[i][j])) \n",
    "        plt.plot(xs[i], tempys_basesub[j] , label=legend[i] +', Integral = ') #+str(sums[1][j])) ## sums[j] will not work for more than just TR   \n",
    " \n",
    "        \n",
    "## now normalize NaI and 6Li (can we do this in the forloop above?)\n",
    "\n",
    "print(sums[2][pulse])\n",
    "print((ys_basesub[1][pulse]))\n",
    "print((ys_basesub[1][pulse]/sums[2][pulse]))\n",
    "\n",
    "for i in (range(0,2)):\n",
    "    tempys_base_norm = []\n",
    "    tempsums =[]\n",
    "    s=pulse\n",
    "    t=s+1\n",
    "    for j in range(0, len(ys_arr[i])): ##baseline subtract all pulses and take integral of all pulses\n",
    "        tempys_base_norm.append(ys_basesub[i][j]/(sums[2][j]/1000000))\n",
    "        tempsums.append(sum(tempys_base_norm[j][intgrL:intgrR]))  ## Need to change sums array format if also doing LO/R    \n",
    "    ys_base_norm.append(tempys_base_norm)\n",
    "    sums_norm.append(tempsums)\n",
    "    #print(len(ys_basesub))\n",
    "    for j in range(s, t): ## plot only interested pulses\n",
    "        #ys_basesub.append(ys_arr[i][j] - np.mean(ys_arr[i][j][200:6000]))\n",
    "        #print(sum(ys_basesub[i][j])) \n",
    "        plt.plot(xs[i], tempys_base_norm[j] , label=legend[i] +', normalized') #+str(sums[1][j])) ## sums[j] will not work for more than just TR   \n",
    "        \n",
    "\n",
    "#plt.xlim(-50000, 900000)\n",
    "#plt.ylim(3000,4100)\n",
    "plt.title('Detector signals') \n",
    "plt.xlabel(\"time from trigger (ns)\")\n",
    "plt.ylabel(\"ADC\")\n",
    "print(len(xs[0]))\n",
    "print(len(ys_arr[0][0]))\n",
    "plt.axvline(xs[0][baseL], ls = '--')\n",
    "plt.axvline(xs[0][baseR], ls = '--')\n",
    "plt.axvline(xs[1][intgrL], ls = '--', c ='g')\n",
    "plt.axvline(xs[1][intgrR], ls = '--', c ='g')\n",
    "plt.axvline(xs[2][HeintgrL], ls = '--', c ='r')\n",
    "plt.axvline(xs[2][HeintgrR], ls = '--', c ='r')\n",
    "\n",
    "#plt.text(1.5e7, 1200, 'test', fontsize=12)\n",
    "plt.legend()\n",
    "plt.show()\n",
    "\n",
    "print('sums length:'+ str(len(sums)))\n",
    "print(len(sums[2]))\n",
    "\n",
    "#print(np.array(expectedSumsTR)+np.array(expectedSumsR))\n",
    "\n",
    "print((sums[1][0]))\n",
    "print((sums_norm[1][0]))\n",
    "print((sums[1][0]/(sums[2][0]/1000000))) ##These are basically the same, so we can just use sums/normfactor\n",
    "#plt.hist(sums, 100)\n",
    "#plt.show("
   ]
  },
  {
   "cell_type": "markdown",
   "id": "004f0313",
   "metadata": {},
   "source": [
    "## Add up all 5000 pulses\n"
   ]
  },
  {
   "cell_type": "code",
   "execution_count": 12,
   "id": "1b3927e2",
   "metadata": {},
   "outputs": [
    {
     "data": {
      "image/png": "[encoded data removed]",
      "text/plain": [
       "<Figure size 640x480 with 1 Axes>"
      ]
     },
     "metadata": {},
     "output_type": "display_data"
    },
    {
     "name": "stdout",
     "output_type": "stream",
     "text": [
      "2\n",
      "9000\n"
     ]
    }
   ],
   "source": [
    "\n",
    "\n",
    "baseL = 0\n",
    "baseR = 1500\n",
    "intgrL = 0 # bin 1800 looks OK for integral, but start at 0...\n",
    "intgrR = 8999\n",
    "HeintgrL = 7000 # 3He data is a different size\n",
    "HeintgrR = 16000\n",
    "#res =2.3 ms\n",
    "sums = []\n",
    "sums_norm = []\n",
    "ys_basesub = []\n",
    "ys_base_norm = [] \n",
    "legend = ['NaI', '6Li', '3He']\n",
    "#statesID = ['111', '101', '100', '110','101','110','111','100','111']\n",
    "#switchpulses = np.arange(230,575,43)\n",
    "#print(switchpulses)\n",
    "#p=8\n",
    "pulse = 20\n",
    "#print(pulse)\n",
    "## t_to_eV = 0.5*(1.6749286*10**(-27))*((27.3/TIME))**2*(6.24151*10**18 [J/eV])\n",
    "\n",
    "#%matplotlib qt\n",
    "#for i in range(0,len(chan_enab)):\n",
    "for i in (range(0,3)):\n",
    "    tempys_basesub = []\n",
    "    tempsums =[]\n",
    "    s=pulse\n",
    "    t=s+1\n",
    "    for j in range(0, len(ys_arr[i])): ##baseline subtract all pulses and take integral of all pulses\n",
    "        if i==2: ## currently 3He is i=2. change if changing # of channels\n",
    "            tempys_basesub.append(ys_arr[i][j] - np.mean(ys_arr[i][j][baseL:baseR]))\n",
    "            tempsums.append(sum(tempys_basesub[j][HeintgrL:HeintgrR]))  ## Need to change sums array format if also doing LO/R\n",
    "        else:\n",
    "            tempys_basesub.append(ys_arr[i][j] - np.mean(ys_arr[i][j][baseL:baseR]))\n",
    "            #print(np.mean(ys_arr[i][j][200:6000]))\n",
    "            tempsums.append(sum(tempys_basesub[j][intgrL:intgrR]))  ## Need to change sums array format if also doing LO/R\n",
    "    ys_basesub.append(tempys_basesub)\n",
    "    sums.append(tempsums)\n",
    "    #print(len(ys_basesub))\n",
    "    #for j in range(s, t): ## plot only interested pulses\n",
    "        #ys_basesub.append(ys_arr[i][j] - np.mean(ys_arr[i][j][200:6000]))\n",
    "        #print(sum(ys_basesub[i][j])) \n",
    "        #plt.plot(xs[i], tempys_basesub[j] , label=legend[i] +', Integral = ') #+str(sums[1][j])) ## sums[j] will not work for more than just TR   \n",
    " \n",
    "        \n",
    "## now normalize NaI and 6Li (can we do this in the forloop above?)\n",
    "## also add all 5000 pulses together\n",
    "\n",
    "added_pulses = [] \n",
    "\n",
    "for i in (range(0,2)):\n",
    "    tempys_base_norm = []\n",
    "    tempsums =[]\n",
    "    added_pulses.append(np.zeros(len(ys_basesub[i][0]))) ## make zeros array of length equal to window of cahnnel \n",
    "    s=pulse\n",
    "    t=s+1\n",
    "    for j in range(0, len(ys_arr[i])): ##baseline subtract all pulses and take integral of all pulses\n",
    "        tempys_base_norm.append(ys_basesub[i][j]/(sums[2][j]/1000000))\n",
    "        tempsums.append(sum(tempys_base_norm[j][intgrL:intgrR]))## Need to change sums array format if also doing LO/R    \n",
    "        added_pulses[i] = added_pulses[i]+np.array(tempys_base_norm[j])\n",
    "    ys_base_norm.append(tempys_base_norm)\n",
    "    sums_norm.append(tempsums)\n",
    "    #print(len(ys_basesub))\n",
    "    #for j in range(s, t): ## plot only interested pulses\n",
    "        #ys_basesub.append(ys_arr[i][j] - np.mean(ys_arr[i][j][200:6000]))\n",
    "        #print(sum(ys_basesub[i][j])) \n",
    "        #plt.plot(xs[i], tempys_base_norm[j] , label=legend[i] +', normalized') #+str(sums[1][j])) ## sums[j] will not work for more than just TR         \n",
    "    plt.plot(xs[i], added_pulses[i] , label=legend[i] +', 5000 pulses added') \n",
    "    \n",
    "#plt.xlim(-50000, 900000)\n",
    "#plt.ylim(3000,4100)\n",
    "plt.title('Detector signals') \n",
    "plt.xlabel(\"time from trigger (ns)\")\n",
    "plt.ylabel(\"ADC\")\n",
    "\n",
    "plt.axvline(xs[0][baseL], ls = '--')\n",
    "plt.axvline(xs[0][baseR], ls = '--')\n",
    "#plt.axvline(xs[1][intgrL], ls = '--', c ='g')\n",
    "#plt.axvline(xs[1][intgrR], ls = '--', c ='g')\n",
    "#plt.axvline(xs[2][HeintgrL], ls = '--', c ='r')\n",
    "#plt.axvline(xs[2][HeintgrR], ls = '--', c ='r')\n",
    "\n",
    "#plt.text(1.5e7, 1200, 'test', fontsize=12)\n",
    "plt.legend()\n",
    "plt.show()\n",
    "\n",
    "print(len(added_pulses))\n",
    "print(len(added_pulses[1]))\n"
   ]
  },
  {
   "cell_type": "code",
   "execution_count": null,
   "id": "e9d1b82f",
   "metadata": {
    "scrolled": false
   },
   "outputs": [],
   "source": [
    "# %matplotlib qt\n",
    "unpol_run_num = '09920'\n",
    "\n",
    "T_0 = np.genfromtxt('F:/LANL/sample_data/pol_unpol/unpol_'+unpol_run_num+ '.csv', delimiter=\",\")\n",
    "T_n = added_pulses[1]\n",
    "\n",
    "Npol_Nunpol = T_n[2001:]/T_0[2001:]\n",
    "\n",
    "plt.plot(xs[1][2001:], Npol_Nunpol) \n",
    "    \n",
    "#plt.xlim(-50000, 900000)\n",
    "#plt.ylim(3000,4100)\n",
    "plt.title('3He N_pol/N_unpol ratio') \n",
    "plt.xlabel(\"TOF (ns)\")\n",
    "plt.ylabel(\"Npol/Nunpol\")\n",
    "\n",
    "#plt.axvline(xs[0][baseL], ls = '--')\n",
    "#plt.axvline(xs[0][baseR], ls = '--')\n",
    "#plt.axvline(xs[1][intgrL], ls = '--', c ='g')\n",
    "#plt.axvline(xs[1][intgrR], ls = '--', c ='g')\n",
    "#plt.axvline(xs[2][HeintgrL], ls = '--', c ='r')\n",
    "#plt.axvline(xs[2][HeintgrR], ls = '--', c ='r')\n",
    "\n",
    "#plt.text(1.5e7, 1200, 'test', fontsize=12)\n",
    "plt.legend()\n",
    "plt.show()\n"
   ]
  },
  {
   "cell_type": "code",
   "execution_count": 40,
   "id": "6cfc370e",
   "metadata": {},
   "outputs": [
    {
     "data": {
      "text/plain": [
       "[<matplotlib.lines.Line2D at 0x1c6fd434580>]"
      ]
     },
     "execution_count": 40,
     "metadata": {},
     "output_type": "execute_result"
    },
    {
     "data": {
      "image/png": "[encoded data removed]",
      "text/plain": [
       "<Figure size 640x480 with 1 Axes>"
      ]
     },
     "metadata": {},
     "output_type": "display_data"
    }
   ],
   "source": [
    "plt.plot(T_0)\n",
    "plt.plot(T_n)"
   ]
  },
  {
   "cell_type": "code",
   "execution_count": 26,
   "id": "de5e35a2",
   "metadata": {},
   "outputs": [
    {
     "name": "stdout",
     "output_type": "stream",
     "text": [
      "512.0\n",
      "3715192.794799804\n"
     ]
    }
   ],
   "source": [
    "print(xs[1][2001])\n",
    "x_E = 3.895662*10**(-6)*(1/(xs[1][2001:-1]*10**(-9))**2)\n",
    "print(x_E[1])"
   ]
  },
  {
   "cell_type": "code",
   "execution_count": 34,
   "id": "8df10b61",
   "metadata": {},
   "outputs": [
    {
     "data": {
      "text/plain": [
       "[<matplotlib.lines.Line2D at 0x1c6fc0cce80>]"
      ]
     },
     "execution_count": 34,
     "metadata": {},
     "output_type": "execute_result"
    },
    {
     "data": {
      "image/png": "[encoded data removed]",
      "text/plain": [
       "<Figure size 640x480 with 1 Axes>"
      ]
     },
     "metadata": {},
     "output_type": "display_data"
    }
   ],
   "source": [
    "plt.plot(np.sqrt(np.absolute(1 - (T_0[2001:]**2/T_n[2001:]**2))))"
   ]
  },
  {
   "cell_type": "markdown",
   "id": "204dbb57",
   "metadata": {},
   "source": [
    "First attempt at converting to energy"
   ]
  },
  {
   "cell_type": "code",
   "execution_count": 25,
   "id": "f29bab0c",
   "metadata": {},
   "outputs": [
    {
     "name": "stderr",
     "output_type": "stream",
     "text": [
      "No artists with labels found to put in legend.  Note that artists whose label start with an underscore are ignored when legend() is called with no argument.\n"
     ]
    },
    {
     "name": "stdout",
     "output_type": "stream",
     "text": [
      "6998\n",
      "102.37440620551811\n",
      "204800.0\n",
      "14860771.179199215\n",
      "5.12e-07\n"
     ]
    },
    {
     "data": {
      "image/png": "[encoded data removed]",
      "text/plain": [
       "<Figure size 640x480 with 1 Axes>"
      ]
     },
     "metadata": {},
     "output_type": "display_data"
    }
   ],
   "source": [
    "T_0 = np.genfromtxt(\"F:/LANL/sample_data/pol_unpol/unpol_09919.csv\", delimiter=\",\")\n",
    "T_0 = T_0[2001:-1]\n",
    "T_n = added_pulses[1][2001:-1]\n",
    "print(len(T_0**2/T_n**2))\n",
    "x_E = 3.895662*10**(-6)*(1/(xs[1][2001:-1]*10**(-9))**2)\n",
    "print((x_E[380]))\n",
    "print(xs[1][2400])\n",
    "print(3.895662*10**(-6)*(1/(512*10**(-9)))**2)\n",
    "print((512*10**(-9)))\n",
    "\n",
    "\n",
    "P_E = np.sqrt(np.absolute(1 - (T_0**2/T_n**2)))\n",
    "\n",
    "plt.plot(x_E[380:-1], P_E[380:-1]) \n",
    "    \n",
    "#plt.xlim(-50000, 900000)\n",
    "#plt.ylim(3000,4100)\n",
    "plt.title('3He Polarization P(E)') \n",
    "plt.xlabel(\"E [eV]\")\n",
    "plt.ylabel(\"P(E)\")\n",
    "\n",
    "#plt.axvline(xs[0][baseL], ls = '--')\n",
    "#plt.axvline(xs[0][baseR], ls = '--')\n",
    "#plt.axvline(xs[1][intgrL], ls = '--', c ='g')\n",
    "#plt.axvline(xs[1][intgrR], ls = '--', c ='g')\n",
    "#plt.axvline(xs[2][HeintgrL], ls = '--', c ='r')\n",
    "#plt.axvline(xs[2][HeintgrR], ls = '--', c ='r')\n",
    "\n",
    "#plt.text(1.5e7, 1200, 'test', fontsize=12)\n",
    "plt.legend()\n",
    "plt.show()\n"
   ]
  },
  {
   "cell_type": "markdown",
   "id": "b772c09f",
   "metadata": {},
   "source": [
    "Now get the final sum over all pulses"
   ]
  },
  {
   "cell_type": "code",
   "execution_count": 9,
   "id": "3392ba35",
   "metadata": {
    "scrolled": true
   },
   "outputs": [
    {
     "name": "stdout",
     "output_type": "stream",
     "text": [
      "6652627.0427999925\n",
      "[[726399252.2521336], [-47553734.12199138]]\n",
      "Sum for all spin states of run12400: -47553734.12199138\n"
     ]
    }
   ],
   "source": [
    "## sum the sums... Only 6Li is important for this, but keeping it general\n",
    "\n",
    "legend = ['NaI', '6Li']\n",
    "sumTot = []\n",
    "for i in (range(0,2)):\n",
    "    tempsum = []\n",
    "    tempsum.append(sum(sums[i]/(np.array(sums[2])/1000000)))\n",
    "    sumTot.append(tempsum)\n",
    "    \n",
    "print(np.mean(sums[2]))\n",
    "    \n",
    "print(sumTot)\n",
    "print('Sum for all spin states of run' + run_num + ': ' + str(sumTot[1][0]))"
   ]
  },
  {
   "cell_type": "markdown",
   "id": "8a28eb6f",
   "metadata": {},
   "source": [
    "Plot in terms of eV?"
   ]
  },
  {
   "cell_type": "code",
   "execution_count": 26,
   "id": "334fa605",
   "metadata": {},
   "outputs": [
    {
     "name": "stdout",
     "output_type": "stream",
     "text": [
      "9000\n",
      "9000\n",
      "[5.120000e+02 1.024000e+03 1.536000e+03 ... 3.582464e+06 3.582976e+06\n",
      " 3.583488e+06]\n",
      "[1.48607711e-29 3.71519278e-30 1.65119679e-30 ... 3.03541166e-37\n",
      " 3.03454421e-37 3.03367714e-37]\n"
     ]
    }
   ],
   "source": [
    "## Need to look after 0. Only look at resonance regions.\n",
    "## t_to_eV = 0.5*(1.6749286*10**(-27))*((27.3/TIME))**2*(6.24151*10**18 [J/eV])\n",
    "testeV = 0.5*(1.6749286*10**(-27))*(27.3/(np.array(xs[1][2001:])*10**9))**2*(6.24151*10**18)\n",
    "for i in (range(0,2)):\n",
    "    tempys_basesub = []\n",
    "    tempsums =[]\n",
    "    s=pulse\n",
    "    t=s+1\n",
    "    for j in range(0, len(ys_arr[i])): ##baseline subtract all pulses and take integral of all pulses\n",
    "        if i==2: ## currently 3He is i=2. change if changing # of channels\n",
    "            tempys_basesub.append(ys_arr[i][j] - np.mean(ys_arr[i][j][baseL:baseR]))\n",
    "            tempsums.append(sum(tempys_basesub[j][HeintgrL:HeintgrR]))  ## Need to change sums array format if also doing LO/R\n",
    "        else:\n",
    "            tempys_basesub.append(ys_arr[i][j] - np.mean(ys_arr[i][j][baseL:baseR]))\n",
    "            #print(np.mean(ys_arr[i][j][200:6000]))\n",
    "            tempsums.append(sum(tempys_basesub[j][intgrL:intgrR]))  ## Need to change sums array format if also doing LO/R\n",
    "    ys_basesub.append(tempys_basesub)\n",
    "    sums.append(tempsums)\n",
    "    #print(len(ys_basesub))\n",
    "    for j in range(s, t): ## plot only interested pulses\n",
    "        #ys_basesub.append(ys_arr[i][j] - np.mean(ys_arr[i][j][200:6000]))\n",
    "        #print(sum(ys_basesub[i][j])) \n",
    "        plt.plot(testeV, tempys_basesub[j][2001:] , label=legend[i] +', Integral = ') #+str(sums[1][j])) ## sums[j] will not work for more than just TR   \n",
    "\n",
    "plt.title('Detector signals') \n",
    "plt.xlabel(\"eV\")\n",
    "plt.ylabel(\"ADC\")\n",
    "print(len(xs[0]))\n",
    "print(len(ys_arr[0][0]))\n",
    "#plt.axvline(xs[0][baseL], ls = '--')\n",
    "#plt.axvline(xs[0][baseR], ls = '--')\n",
    "#plt.axvline(testeV[intgrL], ls = '--', c ='g')\n",
    "#plt.axvline(testeV[intgrR], ls = '--', c ='g')\n",
    "#plt.axvline(xs[2][HeintgrL], ls = '--', c ='r')\n",
    "#plt.axvline(xs[2][HeintgrR], ls = '--', c ='r')\n",
    "\n",
    "#plt.text(1.5e7, 1200, 'test', fontsize=12)\n",
    "plt.legend()\n",
    "plt.show()\n",
    "print(xs[1][2001:])\n",
    "print(testeV)"
   ]
  },
  {
   "cell_type": "code",
   "execution_count": null,
   "id": "4b0a4945",
   "metadata": {},
   "outputs": [],
   "source": []
  },
  {
   "cell_type": "code",
   "execution_count": null,
   "id": "cc8e6501",
   "metadata": {},
   "outputs": [],
   "source": []
  },
  {
   "cell_type": "code",
   "execution_count": null,
   "id": "f4ce5018",
   "metadata": {},
   "outputs": [],
   "source": []
  },
  {
   "cell_type": "code",
   "execution_count": null,
   "id": "f39ea35b",
   "metadata": {},
   "outputs": [],
   "source": []
  },
  {
   "cell_type": "code",
   "execution_count": null,
   "id": "b201a4ca",
   "metadata": {},
   "outputs": [],
   "source": []
  },
  {
   "cell_type": "code",
   "execution_count": null,
   "id": "7f2c8667",
   "metadata": {},
   "outputs": [],
   "source": []
  },
  {
   "cell_type": "markdown",
   "id": "6ad6e5d7",
   "metadata": {},
   "source": [
    "## older SF stuff"
   ]
  },
  {
   "cell_type": "code",
   "execution_count": 8,
   "id": "e93ff4e4",
   "metadata": {},
   "outputs": [
    {
     "name": "stdout",
     "output_type": "stream",
     "text": [
      "[974515.00199964 936179.22399994 975085.73533334 946074.0853335\n",
      " 956966.17666671 940943.62866666 963640.02533324 945226.96800023\n",
      " 993454.70400038]\n",
      "[-63718.27533335 -62157.608      -63476.67466667 -62421.94266669\n",
      " -61866.         -61884.34933335 -63441.75600001 -64378.96666666\n",
      " -62743.83733334]\n",
      "[37273269.79600207 37690246.97534942 37648681.45802363 37170611.38800599\n",
      " 36896463.00266942 37285983.69603391 37598406.80201846 37789491.5986473\n",
      " 37631863.84996781]\n",
      "[37209551.52066872 37628089.36734942 37585204.78335696 37108189.44533931\n",
      " 36834597.00266942 37224099.34670056 37534965.04601846 37725112.63198064\n",
      " 37569120.01263448]\n"
     ]
    }
   ],
   "source": [
    "sumsLO = []\n",
    "sumsTR = []\n",
    "sumsR = []\n",
    "\n",
    "ys_basesub = []\n",
    "legend = ['LO', 'TR', 'R']\n",
    "statesID = ['111', '101', '100', '110','101','110','111','100','111']\n",
    "switchpulses = np.arange(230,575,43)\n",
    "\n",
    "for j in switchpulses:\n",
    "    ys_basesub.append(ys_arr[0] - np.mean(ys_arr[0][j][baseL:baseR]))\n",
    "    sumsLO.append(sum(ys_basesub[0][j][60:-1]))\n",
    "    #print((len(ys_basesub)))\n",
    "    ys_basesub = []\n",
    "for j in switchpulses:\n",
    "    ys_basesub.append(ys_arr[1] - np.mean(ys_arr[1][j][baseL:baseR]))\n",
    "    sumsTR.append(sum(ys_basesub[0][j][60:-1]))\n",
    "    #print((len(ys_basesub)))\n",
    "    ys_basesub = []\n",
    "for j in switchpulses:\n",
    "    ys_basesub.append(ys_arr[2] - np.mean(ys_arr[2][j][baseL:baseR]))\n",
    "    sumsR.append(sum(ys_basesub[0][j][60:-1]))\n",
    "    #print((len(ys_basesub)))\n",
    "    ys_basesub = []\n",
    "    \n",
    "sumsLO =np.array(sumsLO)\n",
    "sumsTR =np.array(sumsTR)\n",
    "sumsR =np.array(sumsR)\n",
    "    \n",
    "print(sumsLO)\n",
    "print(sumsTR)\n",
    "print(sumsR)\n",
    "print(sumsTR+sumsR)"
   ]
  },
  {
   "cell_type": "code",
   "execution_count": 9,
   "id": "32eaa46f",
   "metadata": {},
   "outputs": [
    {
     "name": "stdout",
     "output_type": "stream",
     "text": [
      "SF OK\n",
      "SF OK\n",
      "SF OK\n",
      "SF OK\n",
      "SF OK\n",
      "SF ERROR!\n",
      "SF OK\n",
      "SF OK\n",
      "SF OK\n",
      "SF OK\n",
      "SF OK\n",
      "SF OK\n",
      "SF ERROR!\n",
      "SF OK\n",
      "SF OK\n",
      "SF OK\n",
      "SF OK\n",
      "SF OK\n",
      "SF OK\n",
      "SF ERROR!\n",
      "SF OK\n",
      "SF OK\n",
      "SF OK\n",
      "SF OK\n",
      "SF OK\n",
      "SF OK\n",
      "SF ERROR!\n",
      "SF OK\n",
      "SF OK\n",
      "SF OK\n",
      "SF OK\n",
      "SF OK\n",
      "SF OK\n",
      "SF ERROR!\n",
      "SF OK\n",
      "SF OK\n",
      "SF OK\n",
      "SF OK\n",
      "SF OK\n",
      "SF OK\n",
      "SF ERROR!\n",
      "SF OK\n",
      "SF OK\n",
      "SF OK\n",
      "SF OK\n",
      "SF OK\n",
      "SF OK\n",
      "SF ERROR!\n",
      "SF OK\n",
      "SF OK\n",
      "SF OK\n",
      "SF OK\n",
      "SF OK\n",
      "SF OK\n",
      "SF ERROR!\n",
      "SF OK\n",
      "SF OK\n",
      "SF OK\n",
      "SF OK\n",
      "SF OK\n",
      "SF OK\n",
      "SF ERROR!\n",
      "SF OK\n",
      "SF OK\n",
      "SF OK\n",
      "SF OK\n",
      "SF OK\n",
      "SF OK\n",
      "SF ERROR!\n",
      "SF OK\n",
      "SF OK\n",
      "SF OK\n",
      "SF OK\n",
      "SF OK\n",
      "SF OK\n",
      "SF ERROR!\n",
      "SF OK\n",
      "SF OK\n",
      "SF OK\n",
      "SF OK\n",
      "SF OK\n",
      "[[  15   15]\n",
      " [  42   58]\n",
      " [  42  101]\n",
      " [  42  144]\n",
      " [  42  187]\n",
      " [  42  230]\n",
      " [  85  316]\n",
      " [  42  359]\n",
      " [  42  402]\n",
      " [  42  445]\n",
      " [  42  488]\n",
      " [  42  531]\n",
      " [  42  574]\n",
      " [  85  660]\n",
      " [  42  703]\n",
      " [  42  746]\n",
      " [  42  789]\n",
      " [  42  832]\n",
      " [  42  875]\n",
      " [  42  918]\n",
      " [  85 1004]\n",
      " [  42 1047]\n",
      " [  42 1090]\n",
      " [  42 1133]\n",
      " [  42 1176]\n",
      " [  42 1219]\n",
      " [  42 1262]\n",
      " [  85 1348]\n",
      " [  42 1391]\n",
      " [  42 1434]\n",
      " [  42 1477]\n",
      " [  42 1520]\n",
      " [  42 1563]\n",
      " [  42 1606]\n",
      " [  85 1692]\n",
      " [  42 1735]\n",
      " [  42 1778]\n",
      " [  42 1821]\n",
      " [  42 1864]\n",
      " [  42 1907]\n",
      " [  42 1950]\n",
      " [  85 2036]\n",
      " [  42 2079]\n",
      " [  42 2122]\n",
      " [  42 2165]\n",
      " [  42 2208]\n",
      " [  42 2251]\n",
      " [  42 2294]\n",
      " [  85 2380]\n",
      " [  42 2423]\n",
      " [  42 2466]\n",
      " [  42 2509]\n",
      " [  42 2552]\n",
      " [  42 2595]\n",
      " [  42 2638]\n",
      " [  85 2724]\n",
      " [  42 2767]\n",
      " [  42 2810]\n",
      " [  42 2853]\n",
      " [  42 2896]\n",
      " [  42 2939]\n",
      " [  42 2982]\n",
      " [  85 3068]\n",
      " [  42 3111]\n",
      " [  42 3154]\n",
      " [  42 3197]\n",
      " [  42 3240]\n",
      " [  42 3283]\n",
      " [  42 3326]\n",
      " [  85 3412]\n",
      " [  42 3455]\n",
      " [  42 3498]\n",
      " [  42 3541]\n",
      " [  42 3584]\n",
      " [  42 3627]\n",
      " [  42 3670]\n",
      " [  85 3756]\n",
      " [  42 3799]\n",
      " [  42 3842]\n",
      " [  42 3885]\n",
      " [  42 3928]\n",
      " [  42 3971]]\n"
     ]
    }
   ],
   "source": [
    "##Threshold testing\n",
    "TRThresh = 32 ## Note the threshold can change from statechange to statechange. Need to figure out a good value.\n",
    "RThresh = 30\n",
    "ys_basesub = []\n",
    "where = []\n",
    "pulseswitch_list = []\n",
    "zeros=0\n",
    "zeros_arr = []\n",
    "switchbin = []\n",
    "States_full = [zeros_arr,switchbin]\n",
    "\n",
    "#for i in range(0,len(chan_enab)):\n",
    "for i in range(1,2):\n",
    "    s=pulse\n",
    "    t=s+1\n",
    "    for j in range(0, len(ys_arr[i])):\n",
    "    #for j in range(s, t):\n",
    "        ys_basesub.append(ys_arr[i][j] - np.mean(ys_arr[i][j][200:6000]))\n",
    "        thresh_xing = np.diff(np.absolute(ys_basesub[j]) > TRThresh, prepend=False)\n",
    "        xing = np.argwhere(thresh_xing)[:,0]\n",
    "        #print(len(xing))\n",
    "        if len(xing)== 0:\n",
    "            #pulseswitch_list.append(0)  ## can now get rid of this, but illustrrates non-switch and switch pulses\n",
    "            zeros+=1\n",
    "        else:\n",
    "            #pulseswitch_list.append(xing[0])  ## can now get rid of this, but illustrrates non-switch and switch pulses\n",
    "            switchbin.append(j)\n",
    "            zeros_arr.append(zeros)\n",
    "            zeros=0\n",
    "        \n",
    "#for pulse in pulseswitch_list:\n",
    "#    #print(pulse)\n",
    "#    if pulse==0:\n",
    "#        #print(zeros[0])\n",
    "#        zeros+=1\n",
    "#    else:\n",
    "#        switchbin.append(pulse)\n",
    "#        zeros_arr.append(zeros)\n",
    "#        zeros=0\n",
    "        \n",
    "States_full = np.array(States_full).T\n",
    "            \n",
    "for state in States_full[1:]:\n",
    "    if state[0]!=42:\n",
    "        print('SF ERROR!')\n",
    "    else:\n",
    "        print('SF OK')\n",
    "        #where.append(np.where(ys_basesub[j] > TRThresh))\n",
    "        #print(np.mean(ys_arr[i][j][200:6000]))\n",
    "        #print(sum(ys_basesub[i][j]))\n",
    "        #sums.append(sum(ys_basesub[i][j][9000:-1]))\n",
    "        #plt.plot(xs[i], ys_basesub[i][j], label=legend[i]+', Integral = '+str(sums[i]))\n",
    "\n",
    "#print(pulseswitch_list)\n",
    "print(States_full)\n",
    "#print(zeros)"
   ]
  },
  {
   "cell_type": "markdown",
   "id": "83ac0d58",
   "metadata": {},
   "source": [
    "BELOW IS TESTING"
   ]
  },
  {
   "cell_type": "code",
   "execution_count": 9,
   "id": "8cc0ba04",
   "metadata": {},
   "outputs": [
    {
     "name": "stdout",
     "output_type": "stream",
     "text": [
      "1062.9626315789474\n",
      "1080.0126315789473\n",
      "1092.0129824561404\n",
      "6000\n"
     ]
    }
   ],
   "source": [
    "#print(np.mean(ys_arr[0][0:6000]))\n",
    "ys_basesub = []\n",
    "\n",
    "#for i in range(0,len(chan_enab)):\n",
    "#    ys_basesub.append(ys_arr[i] - np.mean(ys_arr[i][0:6000]))\n",
    "#    print(np.mean(ys_arr[i][0:6000]))\n",
    "\n",
    "for i in range(0,len(chan_enab)):\n",
    "#for i in range(0,1):\n",
    "    s=pulse\n",
    "    t=s+1\n",
    "    #for j in range(0, len(ys_arr[i])):\n",
    "    for j in range(s, t):\n",
    "        ys_basesub.append(ys_arr[i] - np.mean(ys_arr[i][j][300:6000]))\n",
    "        print(np.mean(ys_arr[i][j][300:6000]))\n",
    "        sums.append(sum(ys_arr[i][j]))\n",
    "        plt.plot(xs[i], ys_basesub[i][j], label=legend[i]+', Integral = '+str(sums[i]))\n",
    "\n",
    "#plt.xlim(-50000, 900000)\n",
    "#plt.ylim(3000,4100)\n",
    "plt.title('SF state transition '+statesID[p]+' -> '+statesID[p+1])\n",
    "plt.xlabel(\"time from trigger (ns)\")\n",
    "plt.ylabel(\"ADC\")\n",
    "#plt.text(1.5e7, 1200, 'test', fontsize=12)\n",
    "plt.legend()\n",
    "plt.show()\n",
    "    \n",
    "print(len(ys_basesub[0][26][0:6000]))"
   ]
  },
  {
   "cell_type": "code",
   "execution_count": 10,
   "id": "2da65ed8",
   "metadata": {},
   "outputs": [
    {
     "name": "stdout",
     "output_type": "stream",
     "text": [
      "[  31   74  117  160  203  246  289  332  375  418  461  504  547  590\n",
      "  633  676  719  762  805  848  891  934  977 1020 1063 1106 1149 1192\n",
      " 1235 1278 1321 1364 1407 1450 1493 1536 1579 1622 1665 1708 1751 1794\n",
      " 1837 1880]\n"
     ]
    },
    {
     "ename": "IndexError",
     "evalue": "list index out of range",
     "output_type": "error",
     "traceback": [
      "\u001b[0;31m---------------------------------------------------------------------------\u001b[0m",
      "\u001b[0;31mIndexError\u001b[0m                                Traceback (most recent call last)",
      "Input \u001b[0;32mIn [10]\u001b[0m, in \u001b[0;36m<cell line: 25>\u001b[0;34m()\u001b[0m\n\u001b[1;32m     25\u001b[0m \u001b[38;5;28;01mfor\u001b[39;00m i \u001b[38;5;129;01min\u001b[39;00m \u001b[38;5;28mrange\u001b[39m(\u001b[38;5;241m4\u001b[39m,\u001b[38;5;241m5\u001b[39m):\n\u001b[1;32m     26\u001b[0m     \u001b[38;5;28;01mfor\u001b[39;00m j \u001b[38;5;129;01min\u001b[39;00m switchs:\n\u001b[0;32m---> 27\u001b[0m         plt\u001b[38;5;241m.\u001b[39mplot(\u001b[43mxs\u001b[49m\u001b[43m[\u001b[49m\u001b[43mi\u001b[49m\u001b[43m]\u001b[49m, ys_arr[i][j])\n\u001b[1;32m     28\u001b[0m         sums\u001b[38;5;241m.\u001b[39mappend(\u001b[38;5;28msum\u001b[39m(ys_arr[i][j]))\n\u001b[1;32m     29\u001b[0m \u001b[38;5;66;03m#plt.xlim(-50000, 900000)\u001b[39;00m\n\u001b[1;32m     30\u001b[0m \u001b[38;5;66;03m#plt.ylim(3000,4100)\u001b[39;00m\n",
      "\u001b[0;31mIndexError\u001b[0m: list index out of range"
     ]
    }
   ],
   "source": [
    "#switchs = [31, 74, 117, 160, 203, 246, 289, 332]\n",
    "#%matplotlib notebook\n",
    "sums = []\n",
    "switchs = np.arange(31,1923,43)\n",
    "print(switchs)\n",
    "ys_basesub = []\n",
    "\n",
    "for i in range(0,len(chan_enab)):\n",
    "    ys_basesub.append(ys_arr[i] - np.mean(ys_arr[0][0:6000]))\n",
    "    \n",
    "#%matplotlib qt\n",
    "#for i in range(0,len(chan_enab)):\n",
    "#for i in range(2,5):\n",
    "#    s=375\n",
    "#    t=s+1\n",
    "#    #for j in range(0, len(ys_arr[i])):\n",
    "#    for j in range(s, t):\n",
    "#        plt.plot(xs[i], ys_arr[i][j])\n",
    "#for i in range(2,5):\n",
    "#    s=332\n",
    "#    t=s+1\n",
    "#    #for j in range(0, len(ys_arr[i])):\n",
    "#    for j in range(s, t):\n",
    "#        plt.plot(xs[i], ys_arr[i][j])\n",
    "for i in range(4,5):\n",
    "    for j in switchs:\n",
    "        plt.plot(xs[i], ys_arr[i][j])\n",
    "        sums.append(sum(ys_arr[i][j]))\n",
    "#plt.xlim(-50000, 900000)\n",
    "#plt.ylim(3000,4100)\n",
    "plt.xlabel(\"time from trigger (ns)\")\n",
    "plt.show()\n",
    "print(sums)\n",
    "print(len(ys_arr[1]))\n",
    "plt.hist(sums, 100)\n",
    "plt.show()"
   ]
  },
  {
   "cell_type": "code",
   "execution_count": null,
   "id": "02f234e6",
   "metadata": {},
   "outputs": [],
   "source": [
    "pulse = 289\n",
    "for i in range(4,5):\n",
    "    for j in switchs:\n",
    "        plt.plot(xs[i], ys_arr[i][pulse])\n",
    "print(ys_arr[4][pulse])\n",
    "print(sum(ys_arr[4][pulse]))"
   ]
  },
  {
   "cell_type": "markdown",
   "id": "9d29989c",
   "metadata": {},
   "source": [
    "summation for all channels"
   ]
  },
  {
   "cell_type": "code",
   "execution_count": null,
   "id": "f31cd15a",
   "metadata": {},
   "outputs": [],
   "source": [
    "NaIthres=3500\n",
    "Li6thres=200\n",
    "Hethres=0\n",
    "NaIsign=\"pos\"\n",
    "Li6sign=\"neg\"\n",
    "Hesign=\"\"\n",
    "threshold_array=[NaIthres,NaIthres,NaIthres,NaIthres,NaIthres,NaIthres,NaIthres,NaIthres,NaIthres,NaIthres,\n",
    "                 NaIthres,NaIthres,NaIthres,NaIthres,NaIthres,NaIthres,NaIthres,NaIthres,NaIthres,NaIthres,\n",
    "                NaIthres,NaIthres,NaIthres,NaIthres,Li6thres,Hethres]\n",
    "threshold_sign=[NaIsign,NaIsign,NaIsign,NaIsign,NaIsign,NaIsign,NaIsign,NaIsign,NaIsign,NaIsign,NaIsign,\n",
    "                NaIsign,NaIsign,NaIsign,NaIsign,NaIsign,NaIsign,NaIsign,NaIsign,NaIsign,NaIsign,NaIsign,\n",
    "                NaIsign,NaIsign,Li6sign,Hesign]\n",
    "xCrosses=[]#outer array is crossing arrays for given channel, inner array is crossing for each event\n",
    "modeCrosses=[] #single array with one value per channel\n",
    "xValues=[]\n",
    "xtimems=[]\n",
    "\n",
    "extendedRange=3\n",
    "for i in range(0,len(chan_enab)):\n",
    "    xCrosses.append([])\n",
    "    xValues.append([])\n",
    "    for j in ys_arr[i]:\n",
    "        newj = np.array(j)\n",
    "        if threshold_sign[i] == \"pos\":\n",
    "            thresh_xing = np.diff(newj > threshold_array[i], prepend=False)\n",
    "        elif threshold_sign[i] == \"neg\":\n",
    "            thresh_xing = np.diff(newj < threshold_array[i], prepend=False)\n",
    "        xing = np.argwhere(thresh_xing)[:,0]\n",
    "        xCrosses[i].append(xing[0])\n",
    "    modeCrosses.append(st.mode(xCrosses[i])) #find the most typical crossing value for each channel\n",
    "    xValues[i].append(np.arange(len(ys_arr[i][0])+2*extendedRange)-modeCrosses[i])\n",
    "    xtimems.append(xValues[i][-1]*resolution[i]*10**(-6))\n",
    "print(len(xtimems[1]))\n",
    "print(modeCrosses)\n",
    "print(xValues[0])\n",
    "\n",
    "                       "
   ]
  },
  {
   "cell_type": "code",
   "execution_count": null,
   "id": "ec4ab4a6",
   "metadata": {},
   "outputs": [],
   "source": [
    "#print(xCrosses)\n",
    "extendedRange = 3\n",
    "\n",
    "\n",
    "time_array=[]\n",
    "time_nparray=[]\n",
    "failedRuns=[]\n",
    "for i in range(0,len(chan_enab)):\n",
    "#for i in range(0,2):\n",
    "    time_array.append(np.zeros(len(ys_arr[i][0])+2*extendedRange))\n",
    "    time_nparray.append([])\n",
    "    for j in range(0, len(ys_arr[i])):\n",
    "        shiftedWave = ys_arr[i][j][:] - np.mean(ys_arr[i][j][0:int(xing[0]*0.80)]) #this subtracts the baseline -\n",
    "        #baseline is based on the first 80% of samples before the threshold crossing\n",
    "        offset = xCrosses[i][j]-modeCrosses[i]\n",
    "        if (abs(offset) < extendedRange+1):\n",
    "            for k in range(len(shiftedWave)):\n",
    "                time_array[i][k-offset+extendedRange]=time_array[i][k-offset+extendedRange]+shiftedWave[k]\n",
    "                #may need to switch this to subtracting offset\n",
    "        else:\n",
    "            failedRuns.append([i,j])\n",
    "    time_nparray[i]=np.array(time_array[i])\n",
    "#print(xCrosses)\n",
    "print(len(time_nparray[0]))"
   ]
  },
  {
   "cell_type": "code",
   "execution_count": null,
   "id": "0976c330",
   "metadata": {},
   "outputs": [],
   "source": [
    "for i in range(0,len(chan_enab)):\n",
    "#for i in range(0,1):\n",
    "    plt.plot(xtimems[i],time_nparray[i])\n",
    "    plt.xlabel('Time [ms]')\n",
    "    plt.ylabel('counts (arb)')\n",
    "    #plt.xlim(-0.1,0.2)\n",
    "    #plt.ylim(-600000,0)\n",
    "plt.show()"
   ]
  },
  {
   "cell_type": "code",
   "execution_count": null,
   "id": "594b74fd",
   "metadata": {},
   "outputs": [],
   "source": [
    "\n",
    "d = {\"right\": [0,1,8,9,10,11,14,15,16,17,18,19],\n",
    "     \"left\": [2,3,4,5,6,7,12,13,20,21,22,23],\n",
    "     \"up\": [12,13,14,15,16,17,18,19,20,21,22,23],\n",
    "     \"down\": [0,1,2,3,4,5,6,7,8,9,10,11],\n",
    "     \"corner\": [0,3,6,9,12,15,18,21],\n",
    "     \"noncorner\": [1,2,4,5,7,8,10,11,13,14,16,17,19,20,22,23],\n",
    "     \"top\": [0,1,2,3,4,11,12,13,14,15,16,23],\n",
    "     \"bottom\": [5,6,7,8,9,10,17,18,19,20,21,22],\n",
    "     \"Li6\": [24],\n",
    "     \"NaI\": [0,1,2,3,4,5,6,7,8,9,10,11,12,13,14,15,16,17,18,19,20,21,22,23],\n",
    "     \"He3\": [25]\n",
    "    }"
   ]
  },
  {
   "cell_type": "code",
   "execution_count": null,
   "id": "0e1de062",
   "metadata": {},
   "outputs": [],
   "source": [
    "type1=\"up\"\n",
    "type2=\"down\"\n",
    "type1_array=np.zeros(len(ys_arr[0][0]))\n",
    "type2_array=np.zeros(len(ys_arr[0][0]))\n",
    "for i in d[type1]: \n",
    "    type1_array = np.add(type1_array, time_nparray[i])\n",
    "    \n",
    "for i in d[type2]:\n",
    "    type2_array = np.add(type2_array, time_nparray[i])\n",
    "    plt.title(type1 + \" in blue, \" + type2 + \" in red\")\n",
    "plt.plot(xtimems[0], type1_array/len(d[type1]),'b', lw=1)\n",
    "plt.plot(xtimems[0], type2_array/len(d[type2]),'r',lw=1)\n",
    "plt.show()"
   ]
  },
  {
   "cell_type": "code",
   "execution_count": null,
   "id": "2d051c3c",
   "metadata": {},
   "outputs": [],
   "source": []
  },
  {
   "cell_type": "code",
   "execution_count": null,
   "id": "c21e543d",
   "metadata": {},
   "outputs": [],
   "source": []
  }
 ],
 "metadata": {
  "kernelspec": {
   "display_name": "Python 3 (ipykernel)",
   "language": "python",
   "name": "python3"
  },
  "language_info": {
   "codemirror_mode": {
    "name": "ipython",
    "version": 3
   },
   "file_extension": ".py",
   "mimetype": "text/x-python",
   "name": "python",
   "nbconvert_exporter": "python",
   "pygments_lexer": "ipython3",
   "version": "3.9.13"
  }
 },
 "nbformat": 4,
 "nbformat_minor": 5
}
