{
 "cells": [
  {
   "cell_type": "code",
   "execution_count": 1,
   "metadata": {},
   "outputs": [
    {
     "name": "stdout",
     "output_type": "stream",
     "text": [
      "processing data: debug_sample/runs12034-12363//run12036\n",
      "saving processed data to F:\\LANL/processed_data/debug_sample/runs12034-12363/asym_D/12036_asym_D\n",
      "Channel is [ 0  1  2  3  4  5  6  7  8  9 10 11 24]\n"
     ]
    }
   ],
   "source": [
    "import sys\n",
    "import numpy as np\n",
    "import matplotlib.pyplot as plt\n",
    "#import uproot\n",
    "import pandas as pd\n",
    "import statistics as st\n",
    "import os\n",
    "from numba import njit\n",
    "import time\n",
    "from numba.core.errors import NumbaDeprecationWarning, NumbaPendingDeprecationWarning\n",
    "import warnings\n",
    "from loguru import logger\n",
    "from datetime import datetime\n",
    "import h5py\n",
    "import gzip\n",
    "\n",
    "# warnings.simplefilter('ignore', category=NumbaDeprecationWarning)\n",
    "# warnings.simplefilter('ignore', category=NumbaPendingDeprecationWarning)\n",
    "# warnings.simplefilter(action='ignore', category=pd.errors.PerformanceWarning)\n",
    "\n",
    "# for arg in sys.argv:\n",
    "#     run_num=str(arg).zfill(5)\n",
    "#     # print(run_num)\n",
    "\n",
    "# chan_enab = int(sys.argv[-1])\n",
    "# run_start=str(sys.argv[1]).zfill(5)\n",
    "# run_end=str(sys.argv[2]).zfill(5)\n",
    "# run_num=str(sys.argv[3]).zfill(5)\n",
    "\n",
    "run_num = '12036'\n",
    "os.chdir('F:/LANL/')\n",
    "datadir = 'sample_data/'\n",
    "runs_folder = 'runs12034-12363/'\n",
    "uniquefolder = 'debug_sample/'+runs_folder\n",
    "# uniquefolder = 'La_sample/'\n",
    "# SFNormFile = 'SF_Norm_files/'+uniquefolder+run_num\n",
    "SFNormFile = 'SF_Norm_files/'+runs_folder+run_num\n",
    "# AsymSavename = '****testing testing testing'\n",
    "\n",
    "# print(os.getcwd())\n",
    "\n",
    "# os.chdir('F:/LANL/')\n",
    "# datadir = 'D:/LANSCE_FP12_2023/data/' ## add directory of hard drive\n",
    "# uniquefolder = \"runs\" + str(run_start) + \"-\" + str(run_end) +\"/\"\n",
    "# SFNormFile = 'SF_Norm_files/'+uniquefolder+run_num\n",
    "\n",
    "statefileloc = 'F:\\LANL\\SF_Norm_files\\TR_R_expected_avgs_stds_afterclip.csv'\n",
    "processedONOFFfolder = '/processed_data/'+uniquefolder+'ONOFF_D/'\n",
    "processedasymfolder = '/processed_data/'+uniquefolder+'asym_D/'\n",
    "ONOFFSavename = os.getcwd()+processedONOFFfolder+run_num+'_ONOFF_D'\n",
    "AsymSavename = os.getcwd()+processedasymfolder+run_num+'_asym_D'\n",
    "# logger.add(\"F:/LANL/processed_data/\" + uniquefolder + '0_ErrorLog_'+run_start+'_'+run_end+'_D.txt', delay = False)\n",
    "\n",
    "# cannot handle all 24 detectors at once, memory issue... can look into np.empty and deleting variables if needed ##\n",
    "# chan_enab = np.array([0,1,2,3,4,5,6,7,8,9,10,11,12,13,14,15,16,17,18,19,20,21,22,23,24]) ## all\n",
    "chan_enab = np.array([0,1,2,3,4,5,6,7,8,9,10,11,24]) ## downstream\n",
    "# chan_enab = np.array([12,13,14,15,16,17,18,19,20,21,22,23,24]) ## upstream\n",
    "\n",
    "print('processing data: ' + uniquefolder + '/run' + run_num)\n",
    "\n",
    "# print(os.getcwd()+processedpulsefolder)\n",
    "# if not os.path.exists(os.getcwd()+processedpmfolder) or not os.path.exists(os.getcwd()+processedasymfolder):\n",
    "#     # Create the directory\n",
    "#     os.makedirs(os.getcwd()+processedpmfolder)\n",
    "#     os.makedirs(os.getcwd()+processedasymfolder)\n",
    "#     print(\"Directory created successfully\")\n",
    "# else:\n",
    "#     pass\n",
    "\n",
    "# print(os.getcwd() + folder)\n",
    "\n",
    "# get_ipython().run_line_magic('matplotlib', 'qt')\n",
    "\n",
    "start = time.time()\n",
    "fullstart = time.time()\n",
    "\n",
    "read_data = []\n",
    "fileLength = []\n",
    "\n",
    "def open_file():\n",
    "    for el in chan_enab:\n",
    "        # f = open(datadir + folder + 'run' + run_num + \"_ch\" + str(el) + \".bin\", 'rb')\n",
    "        f = open(datadir+uniquefolder + 'run' + str(run_num) + \"_ch\" +str(el) + \".bin\", 'rb')\n",
    "        read_data.append(np.fromfile(file=f, dtype=np.uint16))\n",
    "        f.close()\n",
    "        fileLength.append(len(read_data[-1]))\n",
    "    return read_data, fileLength\n",
    "\n",
    "open_file()\n",
    "\n",
    "fileLength = np.asarray(fileLength)\n",
    "read_data = np.asarray(read_data) ## in detector's case, all are the same size samples, so can do read_data as np array\n",
    "\n",
    "if chan_enab[-1] != 24:\n",
    "    emessage = ('last channel is not 6Li detector')\n",
    "    logger.error(run_num + emessage)\n",
    "    raise Exception(emessage)\n",
    "\n",
    "end = time.time()\n",
    "\n",
    "# print('file open time: ' + str(end-start))            \n",
    "print('saving processed data to ' + AsymSavename)\n",
    "print(\"Channel is \" + str(chan_enab))"
   ]
  },
  {
   "cell_type": "code",
   "execution_count": 2,
   "metadata": {},
   "outputs": [
    {
     "name": "stdout",
     "output_type": "stream",
     "text": [
      "Target is La\n"
     ]
    }
   ],
   "source": [
    "# Store the big header for each channel in arrays\n",
    "\n",
    "BoardID = []\n",
    "recordLength = []\n",
    "numSamples = []\n",
    "eventCounter = []\n",
    "decFactor = []\n",
    "chanDec = []\n",
    "postTrig = []\n",
    "groupStart = []\n",
    "groupEnd = []\n",
    "timestamp= []\n",
    "sizeFirstEvent = []\n",
    "TTT = []\n",
    "\n",
    "targetDict = {0: \"La\", 1: \"Tb2O3\", 2: \"Yb2O3\", 3: \"Sm2O3\", 4: \"Er2O3\", 5: \"Ho2O3\", 6: \"other\"}\n",
    "foilDict = {0: \"TBD\", 1: \"TBD\", 2: \"TBD\", 3: \"TBD\", 4: \"TBD\", 5: \"TBD\", 6: \"other\"}\n",
    "\n",
    "target=(read_data[0][5]&0x00F0)>>4\n",
    "foil=read_data[0][5]&0x000F\n",
    "targetFlag = read_data[0][5]>>8&1\n",
    "foilFlag = read_data[0][5]>>9&1\n",
    "spinFiltFlag = read_data[0][5]>>10&1\n",
    "spinFlipFlag = read_data[0][5]>>11&1\n",
    "shutterFlag = read_data[0][5]>>12&1\n",
    "facilityTrigFlag = read_data[0][5]>>13&1\n",
    "\n",
    "if targetFlag:\n",
    "    target=targetDict[(read_data[0][5]&0x00F0)>>4]\n",
    "else:\n",
    "    target = \"empty\"\n",
    "if foilFlag:\n",
    "    foil=foilDict[read_data[0][5]&0x000F]\n",
    "else:\n",
    "    foil = \"empty\"\n",
    "for i in range(0,len(chan_enab)):\n",
    "    BoardID.append(read_data[i][9]>>8)\n",
    "    recordLength.append(((read_data[i][9]&0x00FF)<<16)+read_data[i][8])\n",
    "    numSamples.append(((read_data[i][11]&0x00FF)<<16)+read_data[i][10])\n",
    "    eventCounter.append(read_data[i][6]+(read_data[i][7]<<16))\n",
    "    BoardID.append(read_data[i][9]>>8)  \n",
    "    decFactor.append(read_data[i][11]>>8)\n",
    "    chanDec.append(read_data[i][13]>>8)\n",
    "    postTrig.append(read_data[i][15]>>8)\n",
    "    groupStart.append(((read_data[i][13]&0x00FF)<<16)+read_data[i][12])\n",
    "    groupEnd.append(((read_data[i][15]&0x00FF)<<16)+read_data[i][14])\n",
    "    \n",
    "    timestamp.append(read_data[i][16]+(read_data[i][17]<<16)+(read_data[i][18]<<32)+(read_data[i][19]<<40))  \n",
    "    sizeFirstEvent.append(read_data[i][0]+(read_data[i][1]<<16))\n",
    "    TTT.append(read_data[i][2]+(read_data[i][3]<<16)+(read_data[i][4]<<32))\n",
    "    \n",
    "#     print(\"For channel \" + str(chan_enab[i]) + \", BoardID is \" + str(BoardID[i])\n",
    "#           + \"; record length is \" + str(recordLength[i]) + \"; num Samples is \" \n",
    "#           + str(numSamples[i]) + \"; event counter is \" + str(eventCounter[i]) + \"; dec factor is \" + str(decFactor[i]) + \"; chan dec is \" \n",
    "#           + str(chanDec[i]) + \"; postTrig is \" + str(postTrig[i]) + \"; group start is \" + str(groupStart[i]) + \"; group end is \" + str(groupEnd[i])\n",
    "#           + \"; epoch time is \" + str(timestamp[i]) +  \"; first event size is \" + str(sizeFirstEvent[i]) + \"; and ETTT is \" + str(TTT[i]) + \"\\n\")\n",
    "\n",
    "BoardID = np.asarray(BoardID) \n",
    "recordLength = np.asarray(recordLength)\n",
    "numSamples = np.asarray(numSamples)\n",
    "eventCounter = np.asarray(eventCounter)\n",
    "decFactor = np.asarray(decFactor)\n",
    "chanDec = np.asarray(chanDec)\n",
    "postTrig = np.asarray(postTrig)\n",
    "groupStart = np.asarray(groupStart)\n",
    "groupEnd = np.asarray(groupEnd)\n",
    "timestamp = np.asarray(timestamp)\n",
    "sizeFirstEvent = np.asarray(sizeFirstEvent)\n",
    "TTT = np.asarray(TTT)\n",
    "\n",
    "print(\"Target is \" + target)\n",
    "# print(\"Foil is \" + foil)\n",
    "# print(\"Shutter is open: \" + str(bool(shutterFlag)))\n",
    "# print(\"Facility t0 is on: \" + str(bool(facilityTrigFlag)))\n",
    "# print(\"Spin flipper is on: \" + str(bool(spinFlipFlag)))\n",
    "# print(\"Spin filter is on: \" + str(bool(spinFiltFlag)))\n",
    "# print(\"Target is present: \" + str(bool(targetFlag)))\n",
    "# print(\"Foil is present: \" + str(bool(foilFlag)))"
   ]
  },
  {
   "cell_type": "code",
   "execution_count": 3,
   "metadata": {},
   "outputs": [],
   "source": [
    "# Determine the time axis for each channel\n",
    "\n",
    "preTime = []\n",
    "startTime = []\n",
    "endTime = []\n",
    "resolution = []\n",
    "xs = [] \n",
    "\n",
    "for i in range(0,len(chan_enab)):\n",
    "    preTime.append((100-postTrig[i])*recordLength[i]/100)\n",
    "    startTime.append((-1*preTime[i]*16*decFactor[i] + groupStart[i]*16*decFactor[i]))\n",
    "    endTime.append((-1*preTime[i]*16*decFactor[i] + groupEnd[i]*16*decFactor[i]))\n",
    "    resolution.append(16*chanDec[i]*decFactor[i])\n",
    "#     print(\"Pretime for channel\", chan_enab[i],\"is \" + str(preTime[i]) + \"; start time is \" + str(startTime[i]) + \"; end time is \" + str(endTime[i]) \n",
    "#           + \"; resolution is \" + str(resolution[i]) + \"ns\")\n",
    "    xs.append(np.arange(startTime[i],(numSamples[i])*resolution[i]+startTime[i], resolution[i]))\n",
    "\n",
    "np.asarray(preTime)\n",
    "np.asarray(startTime)\n",
    "np.asarray(endTime)\n",
    "np.asarray(resolution)\n",
    "\n",
    "xs = np.asarray(xs) ## can convert xs to np array here because all detectors same numsamples"
   ]
  },
  {
   "cell_type": "code",
   "execution_count": 4,
   "metadata": {},
   "outputs": [
    {
     "name": "stderr",
     "output_type": "stream",
     "text": [
      "C:\\Users\\gabeo\\anaconda3\\lib\\site-packages\\numba\\core\\ir_utils.py:2152: NumbaPendingDeprecationWarning: \u001b[1m\n",
      "Encountered the use of a type that is scheduled for deprecation: type 'reflected list' found for argument 'channels' of function 'dataread'.\n",
      "\n",
      "For more information visit https://numba.readthedocs.io/en/stable/reference/deprecation.html#deprecation-of-reflection-for-list-and-set-types\n",
      "\u001b[1m\n",
      "File \"C:\\Users\\gabeo\\AppData\\Local\\Temp\\ipykernel_13368\\2559654803.py\", line 4:\u001b[0m\n",
      "\u001b[1m@njit\n",
      "\u001b[1mdef dataread(data, channels, fileLen, numSamps):\n",
      "\u001b[0m\u001b[1m^\u001b[0m\u001b[0m\n",
      "\u001b[0m\n",
      "  warnings.warn(NumbaPendingDeprecationWarning(msg, loc=loc))\n"
     ]
    },
    {
     "name": "stdout",
     "output_type": "stream",
     "text": [
      "dataread from binary time: 2.972991943359375\n"
     ]
    }
   ],
   "source": [
    "start=time.time()\n",
    "\n",
    "@njit\n",
    "def dataread(data, channels, fileLen, numSamps):\n",
    "    numRuns = int((fileLen[0]-20-numSamps[0])/(numSamps[0]+6)+1)\n",
    "    ys_arr = np.zeros((len(channels), numRuns,numSamps[0]), dtype=np.uint16)\n",
    "    ETTT_arr = np.zeros((len(channels), numRuns), dtype=np.intc)\n",
    "    eventcount_arr = np.zeros((len(channels), numRuns), dtype=np.intc)\n",
    "    for i in range(0,len(channels)):\n",
    "        eventCount = 0\n",
    "        byteCounter = 0\n",
    "            #byte counter is really 2bytecounter, lol\n",
    "        while byteCounter < fileLen[i]:\n",
    "            if byteCounter == 0:\n",
    "                ETTT_arr[i]=TTT[i]\n",
    "                #ETTT_arr[i].append(TTT[i])\n",
    "                eventcount_arr[i]=(eventCounter[i])\n",
    "                byteCounter = 20\n",
    "            else:\n",
    "                ETTT_arr[i]=(data[i][byteCounter]+(data[i][byteCounter+1]<<16)+(data[i][byteCounter+2]<<32))\n",
    "                eventcount_arr[i]=(data[i][byteCounter+4]+(data[i][byteCounter+5]<<16))\n",
    "                byteCounter += 6\n",
    "            for j in range(0, numSamps[i]):\n",
    "                #if j == 0:\n",
    "                    #ys_arr[i].append([])\n",
    "                #print(byteCounter)\n",
    "                ys_arr[i][eventCount][j]=data[i][byteCounter]\n",
    "                byteCounter += 1\n",
    "            eventCount += 1\n",
    "    return ys_arr, ETTT_arr, eventcount_arr\n",
    "\n",
    "start=time.time()\n",
    "ys_arrHe, ETTT_arrHe, eventcount_arrHe  = dataread(read_data, [25], fileLength, numSamples) ##hardcoded channel 25 for He\n",
    "ys_arr, ETTT_arr, eventcount_arr  = dataread(read_data, chan_enab, fileLength, numSamples) ##hardcoded channels for coils\n",
    "\n",
    "end = time.time()\n",
    "print('dataread from binary time: ' + str(end-start))"
   ]
  },
  {
   "cell_type": "code",
   "execution_count": 5,
   "metadata": {},
   "outputs": [],
   "source": [
    "timeDif=[]\n",
    "for i in range(0,len(chan_enab)):\n",
    "    timeDif.append([])\n",
    "    for j in range(len(ETTT_arr[i])-1):\n",
    "        timeDif[i].append((ETTT_arr[i][j+1]-ETTT_arr[i][j])*8)\n",
    "#     print(\"Min time difference for channel\", chan_enab[i], \"is\", min(timeDif[i]), \"ns\")\n",
    "#     print(\"Max time difference for channel\", chan_enab[i], \"is\", max(timeDif[i]), \"ns \\n\")\n",
    "#print(timeDif)"
   ]
  },
  {
   "cell_type": "code",
   "execution_count": 6,
   "metadata": {},
   "outputs": [],
   "source": [
    "# Load in SF and He normalization information ##\n",
    "# SFNormFile2 = 'F:/LANL/SF_Norm_files/runs12034-12363/12036.h5' ## change sf norm file here or use default\n",
    "\n",
    "try:\n",
    "    df_SF = pd.read_hdf(SFNormFile + '.h5', key='df_0')\n",
    "#     df_SF = pd.read_hdf(SFNormFile2, key='df_0')\n",
    "    df_HE = pd.read_hdf(SFNormFile + '.h5', key='df_1')\n",
    "#     df_HE = pd.read_hdf(SFNormFile2, key='df_1')\n",
    "except Exception as e:\n",
    "    logger.error(run_num + ' failed during SFNormFile load')\n",
    "    logger.exception(e)\n",
    "\n",
    "SF_Sort_arr = df_SF[['nicknames', 'transition_locations']].to_numpy().T\n",
    "He_Norm_arr = df_HE[['pulse', 'norms']].to_numpy().T\n",
    "\n",
    "NormFactor = 1000000  ## He integrals are huge, this normalizes all of those by a constant value for ease of use\n",
    "HeNorms= (He_Norm_arr[1])/NormFactor\n",
    "\n",
    "# print(SF_Sort_arr)\n",
    "# print(He_Norm_arr[1]/NormFactor)"
   ]
  },
  {
   "cell_type": "code",
   "execution_count": 7,
   "metadata": {},
   "outputs": [
    {
     "name": "stdout",
     "output_type": "stream",
     "text": [
      "[6.39088617 6.52615669 6.54345419 ... 6.80943631 6.73468644 6.72288975]\n"
     ]
    }
   ],
   "source": [
    "print(HeNorms)"
   ]
  },
  {
   "cell_type": "code",
   "execution_count": 8,
   "metadata": {},
   "outputs": [
    {
     "name": "stdout",
     "output_type": "stream",
     "text": [
      "plotting and/or base subtraction time: 4.388762950897217\n"
     ]
    }
   ],
   "source": [
    "# basesub and plotting ##\n",
    "start = time.time()\n",
    "\n",
    "baseL = 0\n",
    "baseR = int(((preTime[0]-groupStart[0])*0.70)/chanDec[0])  ##70% before the trigger\n",
    "numRuns = int((fileLength[0]-20-numSamples[0])/(numSamples[0]+6)+1)\n",
    "legend =  ['NaI', 'R']\n",
    "\n",
    "s = 20 ## pulse to look at\n",
    "t=s+1\n",
    "\n",
    "#  dont know why this is so slow ##\n",
    "def plotter(ys, xs, baseR, numpoints):\n",
    "    tempys_basesub = np.zeros((len(ys), numRuns,numpoints[0]), dtype=float)\n",
    "    for i in range((len(ys))):\n",
    "        for pulse in range((len(eventcount_arr[0]))): ## all have 5000 pulses\n",
    "            tempys_basesub[i][pulse]=np.subtract(ys[i][pulse], np.mean(ys[i][pulse][baseL:baseR]))\n",
    "        for j in range(s, t): ## plot only interested pulses\n",
    "            plt.plot(xs[i], tempys_basesub[i][j]) #label=legend[i]) #+str(sums[1][j])) ## sums[j] will not work for more than just TR   \n",
    "            plt.axvline(xs[0][baseL], ls = '--')\n",
    "            plt.axvline(xs[0][baseR], ls = '--')\n",
    "            #plt.axvline(xs[0][int(((preTime[0]-groupStart[0])*0.70)/chanDec[0])], ls = '--', c ='m')\n",
    "            plt.axvline(xs[0][baseR+5], ls = '--', c ='r') ## BaseR+5 line marks the beginning of the integral, until the end of samples.\n",
    "#             plt.title('SF state transition' + transitions[p]) \n",
    "#             plt.xlabel(\"time from trigger (ns)\")\n",
    "#             plt.ylabel(\"ADC\")\n",
    "            plt.legend()\n",
    "            \n",
    "# plotter(ys_arr[9:], xs[9:], baseR, numSamples) ##plot coils\n",
    "\n",
    "@njit ## jit is faster for large # channels, slower for small # channels\n",
    "def basesub(ys, baseRight, numpoints): \n",
    "    tempys_basesub = np.zeros((numRuns,numpoints[0]), dtype=np.float64)\n",
    "    for pulse in range((len(eventcount_arr[0]))): ## all have 5000 pulses\n",
    "        tempys_basesub[pulse]=np.subtract(ys[pulse], np.mean(ys[pulse][baseL:baseRight]))\n",
    "    return tempys_basesub\n",
    "\n",
    "@njit ## jit is faster for large # channels, slower for small # channels\n",
    "def basesub_norm(ys, baseRight, numpoints): \n",
    "    tempys_basesub = np.zeros((numRuns,numpoints[0]), dtype=np.float64)\n",
    "    for pulse in range((len(eventcount_arr[0]))): ## all have 5000 pulses\n",
    "        tempys_basesub[pulse]=np.subtract(ys[pulse], np.mean(ys[pulse][baseL:baseRight]))\n",
    "        tempys_basesub[pulse]=tempys_basesub[pulse]/HeNorms[pulse] \n",
    "    return tempys_basesub\n",
    "\n",
    "ys_basesub = np.zeros((len(ys_arr), numRuns,numSamples[0]), dtype=np.float64)\n",
    "# ys_basesub_norm = np.zeros((len(ys_arr), numRuns,numSamples[0]), dtype=np.float64)\n",
    "\n",
    "for i in range(len(ys_basesub)): ## feeding y arrays into function 1 channel at  a time is faster than all at once\n",
    "    ys_basesub[i] = basesub(ys_arr[i], baseR, numSamples)\n",
    "# for i in range(len(ys_basesub)): ## feeding y arrays into function 1 channel at  a time is faster than all at once\n",
    "#     ys_basesub[i] = basesub_norm(ys_arr[i], baseR, numSamples)\n",
    "\n",
    "ys_basesub[-1] = ys_basesub[-1]*-1 ## invert 6Li to positive signal. Comment out if not using\n",
    "# ys_basesub_norm[-1] = ys_basesub_norm[-1]*-1 ## invert 6Li to positive signal. Comment out if not using\n",
    "\n",
    "end = time.time()\n",
    "print('plotting and/or base subtraction time: ' + str(end-start))            "
   ]
  },
  {
   "cell_type": "code",
   "execution_count": 9,
   "metadata": {},
   "outputs": [
    {
     "name": "stdout",
     "output_type": "stream",
     "text": [
      "finding offset time: 1.074965238571167\n"
     ]
    }
   ],
   "source": [
    "# use 6Li t0 for all instead of for themselves individually ##\n",
    "\n",
    "start = time.time()\n",
    "\n",
    "NaIthresh=2000\n",
    "Li6thresh=1000\n",
    "threshold_array = (np.full(len(ys_basesub), NaIthresh))\n",
    "threshold_array[-1] = Li6thresh\n",
    "\n",
    "# njit ## numba does not support reversed, but this could be changed if it's slow\n",
    "def find_offset(ys, thresharr):\n",
    "    xCrosses = np.zeros((len(ys), numRuns)) #outer array is crossing arrays for given channel, inner array is crossing for each event\n",
    "    offset = np.zeros((len(ys), numRuns), dtype=np.int32) ##offset in bins for each channel, each pulse\n",
    "    modeCrosses = np.zeros((len(ys)), dtype=np.float64)\n",
    "    for i in reversed(range(len(ys))):\n",
    "        #xValues.append([])\n",
    "        for p in range(len(ys[i])):\n",
    "            xing = np.argmax(ys[i][p] > thresharr[i])\n",
    "            #print(xing)\n",
    "            xCrosses[i][p] = xing\n",
    "        modeCrosses[i] = (st.mode(xCrosses[i])) #find the most typical crossing value for each channel\n",
    "        for p in range(len(xCrosses[i])):\n",
    "            offset[i][p] = (modeCrosses[-1] - xCrosses[i][p]) ## make sure this is the correct sign!!! \n",
    "    if (np.all(xCrosses[-1])) == False:\n",
    "        emessage = ('ERROR: 6Li threshold was not reached for at least one pulse')\n",
    "        logger.error(run_num + emessage)\n",
    "        raise Exception(emessage)\n",
    "    return offset, xCrosses, modeCrosses\n",
    "                           \n",
    "offset, xCrosses, modeCrosses = find_offset(ys_basesub, threshold_array)\n",
    "\n",
    "end = time.time()\n",
    "print('finding offset time: ' + str(end-start))  "
   ]
  },
  {
   "cell_type": "code",
   "execution_count": 10,
   "metadata": {},
   "outputs": [
    {
     "name": "stdout",
     "output_type": "stream",
     "text": [
      "aligning and cutting time: 17.671366930007935\n"
     ]
    }
   ],
   "source": [
    "# extend all arrays by a value, check that the max number of offset on 6Li is less than that value ##\n",
    "start = time.time()\n",
    "\n",
    "extendedRange = 3 ## must be a positive value which to extend ys_arr\n",
    "if abs(max(offset[-1], key = abs)) > extendedRange: ## if the max offset of 6Li is >extendedRange, something is wrong\n",
    "    emessage = ('ERROR: largest offset greater than extended range')\n",
    "    logger.error(run_num + emessage)\n",
    "    raise Exception(emessage)\n",
    "\n",
    "try:\n",
    "    ys_ext = np.zeros((len(ys_basesub), len(ys_basesub[0]), len(ys_basesub[0][0])+extendedRange*2), dtype=np.float64)\n",
    "    ys_cut = np.zeros((len(ys_basesub), len(ys_basesub[0]), (len(ys_ext[0][0])-((extendedRange*2)+1)*2)))\n",
    "    xs_cut = np.zeros((len(ys_cut), len(ys_cut[0][0])))\n",
    "except Exception as e:\n",
    "    logger.error(run_num + ' failed during ys_cut array creation')\n",
    "    logger.exception(e)\n",
    "\n",
    "# cant use jit because np.pad is not supported ##\n",
    "def align_cut(ys, xs_arr, extendedr):\n",
    "    tempys_ext = np.zeros((len(ys), len(ys[0])+extendedr*2), dtype=np.float64)\n",
    "    tempys_cut = np.zeros((len(ys), (len(tempys_ext[0])-((extendedr*2)+1)*2)))\n",
    "    tempxs_cut = np.zeros(len(tempys_cut[0]))\n",
    "    for p in range(len(ys)):\n",
    "        tempys_ext[p] = np.pad(ys[p], extendedr, 'constant', constant_values=(0))\n",
    "        tempys_ext[p] = np.roll(tempys_ext[p],offset[-1][p]) ## assumes 6Li at -1 position\n",
    "        tempys_cut[p] = tempys_ext[p][((extendedr*2)+1):-((extendedr*2)+1)].copy() ## cut by 7 (if extRange == 3)\n",
    "        tempys_cut[p] = tempys_cut[p]/HeNorms[p] ## normalize by 3He integral  ## comment out if using basesub_norm\n",
    "    x_cut_amt = int((len(ys[0]) - len(tempys_cut[0]))/2)\n",
    "    tempxs_cut = xs_arr[x_cut_amt:-x_cut_amt].copy()\n",
    "    return tempys_cut, tempxs_cut\n",
    "\n",
    "# looping every channel through function is 5x faster ##\n",
    "try:\n",
    "    for i in range(len(ys_basesub)):\n",
    "        ys_cut[i], xs_cut[i] = align_cut(ys_basesub[i], xs[i], extendedRange)\n",
    "except Exception as e:\n",
    "    logger.error(run_num + ' failed aligning and cutting')\n",
    "    logger.exception(e)\n",
    "    \n",
    "# checkp = 2053\n",
    "# print(offset[-1][checkp]) ## checking offset for one example checkpulse\n",
    "# print('original index for checkpulse: '+str(np.argmax(ys_basesub[0][checkp]> 2000))) ## we can follow the index as it changes with extension/cut\n",
    "# #print('extended range index for checkpulse: '+str(np.argmax(ys_ext[0][checkp]> 2000)))\n",
    "# print('cut array index for checkpulse: '+str(np.argmax((ys_cut[0][checkp]*HeNorms[checkp])> 2000)))\n",
    "\n",
    "del ys_ext ## might help with memory issues\n",
    "del ys_basesub\n",
    "\n",
    "end = time.time()\n",
    "print('aligning and cutting time: ' + str(end-start))            "
   ]
  },
  {
   "cell_type": "code",
   "execution_count": 11,
   "metadata": {},
   "outputs": [
    {
     "name": "stdout",
     "output_type": "stream",
     "text": [
      "   nicknames transition transition_locations  sumsTR_R      TR_R_avgs  \\\n",
      "0          5   110->111                   34 -176668.0 -176792.000000   \n",
      "1          6   111->100                   79  -65902.0  -65831.928571   \n",
      "2          7   100->111                  124  -26859.0  -27038.142857   \n",
      "3          0   111->101                  169  118351.0  118376.285714   \n",
      "4          1   101->100                  214 -116370.0 -116373.000000   \n",
      "5          2   100->110                  259  339922.0  339886.785714   \n",
      "6          3   110->101                  304   65670.0   65682.857143   \n",
      "7          4   101->110                  349   26975.0   27045.769231   \n",
      "8          5   110->111                  394 -176859.0 -176792.000000   \n",
      "9          6   111->100                  439  -65805.0  -65831.928571   \n",
      "\n",
      "   TR_R_stds  \n",
      "0  88.216455  \n",
      "1  33.128461  \n",
      "2  65.543723  \n",
      "3  30.029577  \n",
      "4  10.085350  \n",
      "5  57.348781  \n",
      "6  40.735834  \n",
      "7  54.193604  \n",
      "8  88.216455  \n",
      "9  33.128461  \n"
     ]
    }
   ],
   "source": [
    "print(df_SF[0:10])"
   ]
  },
  {
   "cell_type": "markdown",
   "metadata": {},
   "source": [
    "## begin SF organization ##"
   ]
  },
  {
   "cell_type": "code",
   "execution_count": 12,
   "metadata": {},
   "outputs": [
    {
     "name": "stdout",
     "output_type": "stream",
     "text": [
      "13 sequences with sequence order: [6, 7, 0, 1, 2, 3, 4, 5]\n"
     ]
    }
   ],
   "source": [
    "def organize_SF(SFsort_info): ## sometimes pulse 0 has the state switch. In that case, need to account by if clauses below\n",
    "    counter = 0\n",
    "    seq = 0\n",
    "    seq_arr = ([[],[],[]])\n",
    "    smallerseq = []\n",
    "    smallerstateis = []\n",
    "    for i in range(len(SFsort_info[1])-(np.mod((len(SFsort_info[1])), 8))):  ##111 mod 8 = 7, so essentially 111-7 = 104\n",
    "        counter = counter+1\n",
    "        if counter < 8:\n",
    "            if (SF_Sort_arr[1][i]) == 0: ## catches state switches at pulse 0\n",
    "                smallerstateis.append([(SFsort_info[1][i])+5,(SFsort_info[1][i+1])])\n",
    "                smallerseq.append(SFsort_info[0][i+1])\n",
    "                seq = seq+1\n",
    "                continue\n",
    "            smallerstateis.append([(SFsort_info[1][i])+5,(SFsort_info[1][i+1])])\n",
    "            smallerseq.append(SFsort_info[0][i+1])\n",
    "        elif counter == 8:\n",
    "            if ((SF_Sort_arr[1][i])+45) >= 5000: ## breaks for state switches at pulse 0\n",
    "                print(((SF_Sort_arr[1][i])+5))\n",
    "                seq = seq+1\n",
    "                seq_arr[0].append(seq)\n",
    "                seq_arr[1].append(smallerseq)   \n",
    "                seq_arr[2].append(smallerstateis)\n",
    "                seq_arr[0] = [x-1 for x in seq_arr[0]] ## reset so sequences are 1-14 instead of 2-15\n",
    "                break\n",
    "            seq = seq+1 ## otherwise continue regular sorting\n",
    "            smallerstateis.append([(SFsort_info[1][i])+5,(SFsort_info[1][i+1])])\n",
    "            smallerseq.append(SFsort_info[0][i+1])\n",
    "            seq_arr[0].append(seq)\n",
    "            seq_arr[1].append(smallerseq)   \n",
    "            seq_arr[2].append(smallerstateis)\n",
    "            smallerseq = []\n",
    "            smallerstateis = []\n",
    "            counter  = 0\n",
    "    return seq_arr\n",
    "\n",
    "def find_leftover(SFsort_info, seq_arr): ## in case we want to use the other 6 states left over\n",
    "    left = [[seq_arr[0][-1]+1],[],[]]\n",
    "    counter = 0\n",
    "    for i in range((len(SFsort_info[1])-(np.mod((len(SFsort_info[1])), 8))), len(SFsort_info[1])-1):\n",
    "        counter = counter+1\n",
    "        if counter < 8:\n",
    "            left[1].append(SFsort_info[0][i+1])\n",
    "            left[2].append([(SFsort_info[1][i])+5,(SFsort_info[1][i+1])])\n",
    "    return left\n",
    "\n",
    "try:\n",
    "    sequence = organize_SF(SF_Sort_arr)\n",
    "    if len(sequence[0]) == 14: ## catches state switches at pulse 0, leftovers are at the end of the regular sequence\n",
    "        leftovers = [[sequence[0][-1]],[sequence[1][-1]],[sequence[2][-1]]]\n",
    "        for i in range(len(sequence)):\n",
    "            sequence[i].pop(-1) ## deletes the leftovers sequence for state switches at pulse 0\n",
    "    else:\n",
    "        leftovers = find_leftover(SF_Sort_arr, sequence) ## otherwise can use normal function\n",
    "except Exception as e:\n",
    "    logger.error(run_num + ' failed during sequencing')\n",
    "    logger.exception(e)\n",
    "\n",
    "# print('sequences '+str(sequence[0]))\n",
    "print(str(len(sequence[0]))+' sequences with sequence order: '+str(sequence[1][0]))\n",
    "# print(leftovers)"
   ]
  },
  {
   "cell_type": "code",
   "execution_count": 13,
   "metadata": {},
   "outputs": [
    {
     "name": "stdout",
     "output_type": "stream",
     "text": [
      "[[1, 2, 3, 4, 5, 6, 7, 8, 9, 10, 11, 12, 13], [[6, 7, 0, 1, 2, 3, 4, 5], [6, 7, 0, 1, 2, 3, 4, 5], [6, 7, 0, 1, 2, 3, 4, 5], [6, 7, 0, 1, 2, 3, 4, 5], [6, 7, 0, 1, 2, 3, 4, 5], [6, 7, 0, 1, 2, 3, 4, 5], [6, 7, 0, 1, 2, 3, 4, 5], [6, 7, 0, 1, 2, 3, 4, 5], [6, 7, 0, 1, 2, 3, 4, 5], [6, 7, 0, 1, 2, 3, 4, 5], [6, 7, 0, 1, 2, 3, 4, 5], [6, 7, 0, 1, 2, 3, 4, 5], [6, 7, 0, 1, 2, 3, 4, 5]], [[[39, 79], [84, 124], [129, 169], [174, 214], [219, 259], [264, 304], [309, 349], [354, 394]], [[399, 439], [444, 484], [489, 529], [534, 574], [579, 619], [624, 664], [669, 709], [714, 754]], [[759, 799], [804, 844], [849, 889], [894, 934], [939, 979], [984, 1024], [1029, 1069], [1074, 1114]], [[1119, 1159], [1164, 1204], [1209, 1249], [1254, 1294], [1299, 1339], [1344, 1384], [1389, 1429], [1434, 1474]], [[1479, 1519], [1524, 1564], [1569, 1609], [1614, 1654], [1659, 1699], [1704, 1744], [1749, 1789], [1794, 1834]], [[1839, 1879], [1884, 1924], [1929, 1969], [1974, 2014], [2019, 2059], [2064, 2104], [2109, 2149], [2154, 2194]], [[2199, 2239], [2244, 2284], [2289, 2329], [2334, 2374], [2379, 2419], [2424, 2464], [2469, 2509], [2514, 2554]], [[2559, 2599], [2604, 2644], [2649, 2689], [2694, 2734], [2739, 2779], [2784, 2824], [2829, 2869], [2874, 2914]], [[2919, 2959], [2964, 3004], [3009, 3049], [3054, 3094], [3099, 3139], [3144, 3184], [3189, 3229], [3234, 3274]], [[3279, 3319], [3324, 3364], [3369, 3409], [3414, 3454], [3459, 3499], [3504, 3544], [3549, 3589], [3594, 3634]], [[3639, 3679], [3684, 3724], [3729, 3769], [3774, 3814], [3819, 3859], [3864, 3904], [3909, 3949], [3954, 3994]], [[3999, 4039], [4044, 4084], [4089, 4129], [4134, 4174], [4179, 4219], [4224, 4264], [4269, 4309], [4314, 4354]], [[4359, 4399], [4404, 4444], [4449, 4489], [4494, 4534], [4539, 4579], [4584, 4624], [4629, 4669], [4674, 4714]]]]\n"
     ]
    }
   ],
   "source": [
    "print(sequence)"
   ]
  },
  {
   "cell_type": "code",
   "execution_count": 14,
   "metadata": {},
   "outputs": [
    {
     "name": "stdout",
     "output_type": "stream",
     "text": [
      "summing pulses into their states time: 2.403150796890259\n"
     ]
    }
   ],
   "source": [
    "#  add up pulses for their respective state, in each 8 step sequence ##\n",
    "#  turning into a by-channel function 06.13.24 ##\n",
    "\n",
    "start = time.time()\n",
    "sequence = np.asarray(sequence, dtype = object)\n",
    "\n",
    "ON_sums = np.zeros((len(ys_cut), len(sequence[0]), len(ys_cut[0][0])), dtype=np.float64) ## 13 channels, 13 sequences, added pulses for ON\n",
    "OFF_sums = np.zeros((len(ys_cut), len(sequence[0]), len(ys_cut[0][0])), dtype=np.float64) ## 13 channels, 13 sequences, added pulses for OFF\n",
    "\n",
    "# @njit\n",
    "def add_pulse(ys, SFarr):\n",
    "    temp_ON = np.zeros((len(SFarr[0]), len(ys[0])), dtype=np.float64)\n",
    "    temp_OFF = np.zeros((len(SFarr[0]), len(ys[0])), dtype=np.float64)\n",
    "    for seq in range(0, len(SFarr[0])): ## for every sequence\n",
    "    #         print('seq:' +str(SFarr[0][seq]))\n",
    "#         print('seq:' +str(seq))\n",
    "        for state in range(0, len(SFarr[1][0])): ## for every state in the sequence\n",
    "    #         print(\"states loop \" + str(range(0, len(SFarr[1][0]))[0]) + ' - ' +  str(range(0, len(SFarr[1][0]))[-1]))\n",
    "            s = SFarr[1][seq][state] ## try this to condense code. Basically, the state currently at\n",
    "            if s==0 or s==3 or s==5 or s==6: ## these are ON states\n",
    "#                 print('ON \"s\" state '+str(s))\n",
    "#                 print('\"state\" ' +str(state) + ' from ' + str(range((SFarr[2][seq][state][0]),(SFarr[2][seq][state][1]))))\n",
    "#                 print('sums from '+str(range((SFarr[2][seq][state][0]),(SFarr[2][seq][state][1]))[0]) +\n",
    "#                 ' - ' +str(range((SFarr[2][seq][state][0]),(SFarr[2][seq][state][1]))[-1]) + '\\n')\n",
    "                for p in range((SFarr[2][seq][state][0]),(SFarr[2][seq][state][1])): ##From 20-60 for example. SFarr[2] is the array of start to end pulses to sum\n",
    "                    temp_ON[seq] = np.add(temp_ON[seq],ys[p]) ## start with zeros, add to each iteratively\n",
    "            if s==1 or s==2 or s==4 or s==7: ## these are OFF states\n",
    "#                 print('OFF \"s\" state '+str(s))\n",
    "#                 print('\"state\" ' +str(state) + ' from ' + str(range((SFarr[2][seq][state][0]),(SFarr[2][seq][state][1]))))\n",
    "#                 print('sums from '+str(range((SFarr[2][seq][state][0]),(SFarr[2][seq][state][1]))[0]) +\n",
    "#                 ' - ' +str(range((SFarr[2][seq][state][0]),(SFarr[2][seq][state][1]))[-1]) + '\\n')\n",
    "                for p in range((SFarr[2][seq][state][0]),(SFarr[2][seq][state][1])):\n",
    "                    temp_OFF[seq] = np.add(temp_OFF[seq],ys[p])\n",
    "    return temp_ON, temp_OFF\n",
    "\n",
    "for i in range(len(ys_cut)):\n",
    "#     print('#################### channel: ' + str(i) + ' ##########################')\n",
    "    ON_sums[i], OFF_sums[i] = add_pulse(ys_cut[i], sequence)\n",
    "    \n",
    "# for i in range(len(ys_basesub)-12):\n",
    "#     print('#################### channel: ' + str(i) + ' ##########################')\n",
    "#     ON_sums[i], OFF_sums[i], ON_minus_sums[i], ON_plus_sums[i] = add_pulse(ys_basesub[i], sequence)\n",
    "\n",
    "end = time.time()\n",
    "print('summing pulses into their states time: ' + str(end-start))  "
   ]
  },
  {
   "cell_type": "code",
   "execution_count": 15,
   "metadata": {},
   "outputs": [
    {
     "name": "stdout",
     "output_type": "stream",
     "text": [
      "13\n",
      "13\n",
      "8992\n"
     ]
    },
    {
     "data": {
      "text/plain": [
       "[<matplotlib.lines.Line2D at 0x12d71e0b910>]"
      ]
     },
     "execution_count": 15,
     "metadata": {},
     "output_type": "execute_result"
    },
    {
     "data": {
      "image/png": "[encoded data removed]",
      "text/plain": [
       "<Figure size 640x480 with 1 Axes>"
      ]
     },
     "metadata": {},
     "output_type": "display_data"
    }
   ],
   "source": [
    "print(len(ON_sums))\n",
    "print(len(ON_sums[1]))\n",
    "print(len(ON_sums[1][1]))\n",
    "plt.plot(ON_sums[-1][0])"
   ]
  },
  {
   "cell_type": "code",
   "execution_count": 16,
   "metadata": {},
   "outputs": [
    {
     "name": "stdout",
     "output_type": "stream",
     "text": [
      "bg_ fitting time: 8.448585748672485\n"
     ]
    }
   ],
   "source": [
    "from scipy import odr\n",
    "start = time.time()\n",
    "\n",
    "bg_region1_beg = 4180\n",
    "bg_region1_end = 5450\n",
    "bg_region2_beg = 6250\n",
    "bg_region2_end = 8991\n",
    "bg_reg1 = [bg_region1_beg,bg_region1_end]\n",
    "bg_reg2 = [bg_region2_beg,bg_region2_end]\n",
    "fullrange = bg_reg2[1]-bg_reg1[0]\n",
    "# print(bg_reg1[0])\n",
    "\n",
    "def bg_fitsubtract(bef_res_reg, aft_res_reg, ys): ## before/after resonance region [start:end] respectively, ys[ch] to fit\n",
    "    binstot = aft_res_reg[1]-bef_res_reg[0]  ## total number of bins in whole region\n",
    "    x1 = np.arange(bef_res_reg[0], bef_res_reg[1],1)\n",
    "    x2 = np.arange(aft_res_reg[0], aft_res_reg[1],1)\n",
    "    x = np.append(x1,x2)\n",
    "    fullx = np.arange(bef_res_reg[0], aft_res_reg[1],1) ## an array of every x bin in entire region\n",
    "    ys_bgsub = []\n",
    "#     seq_bgsub = []\n",
    "    for seq in range(0, len(ys)): ## number of sequences, usually 13\n",
    "        fitdata1 = ys[seq][bef_res_reg[0]: bef_res_reg[1]]\n",
    "        fitdata2 = ys[seq][aft_res_reg[0]: aft_res_reg[1]]\n",
    "        datasplice = np.append(fitdata1, fitdata2)\n",
    "#         x = np.linspace(0, len(datasplice),len(datasplice))\n",
    "        y = datasplice\n",
    "        data = odr.Data(x, y)\n",
    "        poly_model3 = odr.polynomial(3)  # using third order polynomial model\n",
    "        odr_obj = odr.ODR(data, poly_model3)\n",
    "        output = odr_obj.run()  # running ODR fitting\n",
    "        poly3 = np.poly1d(output.beta[::-1])\n",
    "        poly_y3 = poly3(x)\n",
    "        fullpoly_y3 = poly3(fullx)\n",
    "        bgsubtracted = ys[seq][bef_res_reg[0]:aft_res_reg[1]] - fullpoly_y3  ## subtracts RealData-BackgroundFit\n",
    "#         seq_bgsub.append(bgsubtracted)\n",
    "        ys_bgsub.append(bgsubtracted)\n",
    "#     ys_bgsub.append(seq_bgsub)\n",
    "    return ys_bgsub\n",
    "\n",
    "ON_bgsub = np.zeros((len(ON_sums),len(ON_sums[0]),fullrange), dtype = np.float64) ## channels, sequences, range of bg_ subtraction\n",
    "OFF_bgsub = np.zeros((len(ON_sums),len(ON_sums[0]),fullrange), dtype = np.float64) ## channels, sequences, range of bg_ subtraction\n",
    "\n",
    "# testfunc = [] ## channels, sequences, range of bg_ subtraction\n",
    "for i in range(0, len(ON_sums)-1):\n",
    "#     testfunc.append(bg_fitsubtract(bg_reg1,bg_reg2, ON_sums[i]))\n",
    "    if chan_enab[i] == 24:\n",
    "        emessage = ('bg_ fit does not work for 6Li yet')\n",
    "#         logger.error(run_num + emessage)\n",
    "        raise Exception(emessage)\n",
    "#     print(chan_enab[i])\n",
    "    ON_bgsub[i] = bg_fitsubtract(bg_reg1,bg_reg2, ON_sums[i])\n",
    "    OFF_bgsub[i] = bg_fitsubtract(bg_reg1,bg_reg2, OFF_sums[i])\n",
    "    \n",
    "# for i in range(len(testfunc)):\n",
    "#     plt.plot(xs_cut[1][bg_reg1[0]:bg_reg2[1]]*1e-6, testfunc[i], lw = '1.0', label='3rd Order polynomial background subtracted')\n",
    "\n",
    "end = time.time()\n",
    "print('bg_ fitting time: ' + str(end-start))  "
   ]
  },
  {
   "cell_type": "code",
   "execution_count": 17,
   "metadata": {},
   "outputs": [
    {
     "name": "stdout",
     "output_type": "stream",
     "text": [
      "[4180, 5450]\n",
      "[6250, 8991]\n",
      "[4180 4181 4182 ... 8988 8989 8990]\n",
      "4811\n"
     ]
    }
   ],
   "source": [
    "print(bg_reg1)\n",
    "print(bg_reg2)\n",
    "\n",
    "x = np.arange(bg_reg1[0], bg_reg2[1],1)\n",
    "print(x)\n",
    "print(len(x))\n",
    "\n"
   ]
  },
  {
   "cell_type": "code",
   "execution_count": 18,
   "metadata": {},
   "outputs": [
    {
     "name": "stdout",
     "output_type": "stream",
     "text": [
      "[111.07450689  -7.50769673  64.35111182  45.21556334 144.71232519\n",
      "  31.03861078  37.29835869  30.77749253  12.39657475  62.36899084]\n",
      "[-24.35530079 -49.65121737  19.21512233 192.65261126  38.55937511\n",
      " 108.29329319 154.01565227 250.00005258 147.05553702  -2.4146863 ]\n",
      "[ 13.18609806  69.14131367 109.33895009 119.7816137   -1.44792053\n",
      " -71.98905191  40.04121226 -47.87784706 -40.66011601 -16.50824105]\n",
      "[ 53.30396891  42.04472033  36.50948494 -25.51465944  60.3956623\n",
      "   4.29243841  92.6405872  -69.83981875 -53.54468341  57.7739913 ]\n",
      "[-10.51962796 -75.12176366 -38.96078754 -25.90981603  83.58339748\n",
      " 227.9822442  200.66127917 105.08454342 -13.17472087  -2.29184956]\n",
      "[ 27.38859811  16.44889231 -16.73121736  67.50256056  -7.58622772\n",
      "   5.29531688   2.16379492  12.47029242  10.45142664   0.63290927]\n",
      "[-107.05504001  -74.56341549   73.81846392  128.56758656  -25.67392518\n",
      "  -28.22746323  -12.63947228   13.42310326   30.0845418  -143.72189469]\n",
      "[ -5.25893359 -42.53694903 -75.57648136  53.00555984  12.93440575\n",
      " -31.08150716  97.55465677 131.24222924 146.59041676 -39.1765334 ]\n",
      "\n",
      "[-64.09851719  89.19103748 -24.91521802 -69.14259483 -38.93705461\n",
      " 108.2841172    0.84123203   1.26593175 269.41440055  28.61666061]\n",
      "[ 23.00081209  -6.78946427  33.01302683 -16.10315598 -60.05070781\n",
      " -16.63706415 -24.25134165  66.89102699 -13.04712378  -1.00250335]\n",
      "[168.15869031  58.42308439   2.48704974  54.41281622 123.17097167\n",
      "   8.19486112  21.17470288 -58.48320262 124.29598502  61.11622964]\n",
      "[142.27555715  -4.57619508  -0.70122007  -2.71838716 -40.46035648\n",
      " -13.50301127  21.83717159 159.90674788  61.22005815 -66.6997349 ]\n",
      "[ 22.51341481 108.8575378   41.20048556  -0.34792859  22.67220919\n",
      " 203.60283332 101.87112533 128.14818077 110.80761297  29.83973422]\n",
      "[ 94.16363674 -12.34935788 -67.63967219  84.52805185  60.61544085\n",
      " 114.70919226 208.17121545  -2.13619186  55.46782849  22.71120562]\n",
      "[-27.62338596  38.19599136  73.73639357 134.82023194  63.32285923\n",
      " 288.38586093 204.67290805  92.19770192  42.405415    27.26601675]\n",
      "[  6.65869933 143.54279493  63.63937182  83.4009878   62.48546148\n",
      "  78.07008179 194.2054353   20.00899975 -51.52757525 -38.27435192]\n"
     ]
    },
    {
     "data": {
      "image/png": "[encoded data removed]",
      "text/plain": [
       "<Figure size 640x480 with 1 Axes>"
      ]
     },
     "metadata": {},
     "output_type": "display_data"
    }
   ],
   "source": [
    "\n",
    "# print((testfunc))\n",
    "# print((testfunc[0]))\n",
    "## making sure these are all different\n",
    "print((ON_bgsub[0][0][50:60]))\n",
    "print((ON_bgsub[0][1][50:60]))\n",
    "print((ON_bgsub[0][-1][50:60]))\n",
    "print((ON_bgsub[0][-2][50:60]))\n",
    "print((ON_bgsub[3][0][50:60]))\n",
    "print((ON_bgsub[3][1][50:60]))\n",
    "print((ON_bgsub[3][-1][50:60]))\n",
    "print((ON_bgsub[3][-2][50:60]))\n",
    "print()\n",
    "print((OFF_bgsub[0][0][50:60]))\n",
    "print((OFF_bgsub[0][1][50:60]))\n",
    "print((OFF_bgsub[0][-1][50:60]))\n",
    "print((OFF_bgsub[0][-2][50:60]))\n",
    "print((OFF_bgsub[3][0][50:60]))\n",
    "print((OFF_bgsub[3][1][50:60]))\n",
    "print((OFF_bgsub[3][-1][50:60]))\n",
    "print((OFF_bgsub[3][-2][50:60]))\n",
    "\n",
    "for i in range(len(ON_bgsub)):\n",
    "    plt.plot(xs_cut[1][bg_reg1[0]:bg_reg2[1]]*1e-6, ON_bgsub[i][0], lw = '1.0', label='3rd Order polynomial background subtracted')"
   ]
  },
  {
   "cell_type": "code",
   "execution_count": 19,
   "metadata": {},
   "outputs": [
    {
     "name": "stdout",
     "output_type": "stream",
     "text": [
      "13\n",
      "13\n",
      "8992\n",
      "8992\n",
      "8992\n",
      "8992\n",
      "1118208.0\n",
      "1768448.0\n",
      "2178048.0\n",
      "[1118208. 1118720. 1119232. ... 3579904. 3580416. 3580928.]\n",
      "4011\n"
     ]
    }
   ],
   "source": [
    "%matplotlib qt\n",
    "print(len(ON_sums))\n",
    "print(len(ON_sums[0]))\n",
    "print(len(ON_sums[0][0]))\n",
    "print(len(ON_sums[0][1]))\n",
    "print(len(ON_sums[0][2]))\n",
    "print(len(ON_sums[0][3]))\n",
    "plt.plot(xs_cut[1], ON_sums[1][0])\n",
    "plt.axvline(xs_cut[1][bg_reg1[0]])\n",
    "plt.axvline(xs_cut[1][bg_reg1[1]])\n",
    "plt.axvline(xs_cut[1][5850], color = 'r')\n",
    "plt.axvline(xs_cut[1][6250])\n",
    "plt.axvline(xs_cut[1][bg_reg2[1]])\n",
    "print(xs_cut[1][bg_reg1[0]])\n",
    "print(xs_cut[1][bg_reg1[1]])\n",
    "print(xs_cut[1][6250])\n",
    "test_polyreg = ON_sums[1][0][bg_reg1[0]:bg_reg1[1]]\n",
    "test_polyregx = xs_cut[1][bg_reg1[0]:bg_reg1[1]]\n",
    "test_polyreg2 = ON_sums[1][0][6250:bg_reg2[1]]\n",
    "test_polyregx2 = xs_cut[1][6250:bg_reg2[1]]\n",
    "plt.plot(test_polyregx, test_polyreg, color = 'y')\n",
    "plt.plot(test_polyregx2, test_polyreg2, color = 'y')\n",
    "test_poly_splice = np.append(test_polyreg, test_polyreg2)\n",
    "test_poly_splicex = np.append(test_polyregx, test_polyregx2)\n",
    "print(test_poly_splicex)\n",
    "print(len(test_poly_splice))"
   ]
  },
  {
   "cell_type": "code",
   "execution_count": 20,
   "metadata": {},
   "outputs": [],
   "source": [
    "from scipy import odr\n",
    "\n",
    "# x = np.linspace(0.0, 5.0)\n",
    "# y = np.sin(x)\n",
    "test_polyreg = ON_sums[1][0][bg_reg1[0]:bg_reg1[1]]\n",
    "test_polyregx = xs_cut[1][bg_reg1[0]:bg_reg1[1]]\n",
    "test_polyreg2 = ON_sums[1][0][6250:bg_reg2[1]]\n",
    "test_polyregx2 = xs_cut[1][6250:bg_reg2[1]]\n",
    "plt.plot(test_polyregx, test_polyreg, color = 'y')\n",
    "plt.plot(test_polyregx2, test_polyreg2, color = 'y')\n",
    "test_poly_splice = np.append(test_polyreg, test_polyreg2)\n",
    "test_poly_splicex = np.append(test_polyregx, test_polyregx2)\n",
    "# x = np.linspace(0, len(fit_reg),len(fit_reg))+xs"
   ]
  },
  {
   "cell_type": "code",
   "execution_count": 21,
   "metadata": {},
   "outputs": [
    {
     "name": "stdout",
     "output_type": "stream",
     "text": [
      "4011\n",
      "486.63121033326354\n",
      "4811\n",
      "461.63707309756603\n",
      "4811\n",
      "4811\n",
      "4011\n"
     ]
    }
   ],
   "source": [
    "%matplotlib qt\n",
    "from scipy import odr\n",
    "\n",
    "# x = np.linspace(0.0, 5.0)\n",
    "# y = np.sin(x)\n",
    "y = test_poly_splice\n",
    "# fit_reg = test_poly_splice\n",
    "# x = np.linspace(0, len(y),len(y))\n",
    "x1 = np.arange(bg_reg1[0], bg_reg1[1],1)\n",
    "x2 = np.arange(bg_reg2[0], bg_reg2[1],1)\n",
    "x = np.append(x1,x2)\n",
    "# x = np.linspace(0, test_poly_splicex[-1],len(fit_reg))\n",
    "\n",
    "print(len(x))\n",
    "\n",
    "# y = test_poly_splice\n",
    "y = test_poly_splice\n",
    "data = odr.Data(x, y)\n",
    "poly_model2 = odr.polynomial(2)  # using third order polynomial model\n",
    "odr_obj = odr.ODR(data, poly_model2)\n",
    "output = odr_obj.run()  # running ODR fitting\n",
    "poly2 = np.poly1d(output.beta[::-1])\n",
    "poly_y2 = poly2(x)\n",
    "print(poly_y2[1])\n",
    "# fullx = np.linspace(0, len(ON_sums[1][0][bg_reg1[0]:bg_reg2[1]]),len(ON_sums[1][0][bg_reg1[0]:bg_reg2[1]]))\n",
    "fullx = np.arange(bg_reg1[0], bg_reg2[1],1)\n",
    "print(len(fullx))\n",
    "fullpoly_y2 = poly2(fullx)\n",
    "\n",
    "poly_model3 = odr.polynomial(3)  # using third order polynomial model\n",
    "odr_obj = odr.ODR(data, poly_model3)\n",
    "output = odr_obj.run()  # running ODR fitting\n",
    "poly3 = np.poly1d(output.beta[::-1])\n",
    "poly_y3 = poly3(x)\n",
    "print(poly_y3[1])\n",
    "# fullx = np.linspace(0, len(ON_sums[1][0][bg_reg1[0]:bg_reg2[1]]),len(ON_sums[1][0][bg_reg1[0]:bg_reg2[1]]))\n",
    "# fullx = np.linspace(0, len(ON_sums[1][0][bg_reg1[0]:bg_reg2[1]]),len(ON_sums[1][0][bg_reg1[0]:bg_reg2[1]]))\n",
    "print(len(fullx))\n",
    "fullpoly_y3 = poly3(fullx)\n",
    "print(len(fullpoly_y3))\n",
    "\n",
    "plt.plot(x, y, label=\"input data\")\n",
    "# plt.plot(x, (((poly_y2)*-1)+(poly_y2[0]*2)), label=\"polynomial ODR\")\n",
    "# plt.plot(x, (poly_y2), label=\"2nd order polynomial ODR\")\n",
    "# plt.plot(x[0:1270], (poly_y2[0:1270]), label=\"beginning?\")\n",
    "# plt.plot(x, (((poly_y3)*-1)+(poly_y3[0]*2)), label=\"polynomial ODR\")\n",
    "plt.plot(x, (poly_y3), label=\"3rd order polynomial ODR\")\n",
    "plt.plot(fullx, (fullpoly_y3), label=\"3rd order polynomial ODR\")\n",
    "# plt.plot(x[0:1270], (poly_y3[0:1270]), label=\"beginning?\")\n",
    "# plt.axvline(x[2180], color ='r')\n",
    "plt.title('fits to background data') \n",
    "plt.xlabel(\"bins\", fontsize = '12')\n",
    "plt.ylabel(\"ADC\", fontsize = '12')\n",
    "plt.legend()\n",
    "plt.show()\n",
    "print(len(poly_y2))\n"
   ]
  },
  {
   "cell_type": "code",
   "execution_count": 22,
   "metadata": {},
   "outputs": [],
   "source": [
    "plt.plot(xs_cut[1], ON_sums[1][0])\n",
    "\n",
    "plt.plot(xs_cut[1][bg_reg1[1]:6250], ON_sums[1][0][bg_reg1[1]:6250], label=\"input data\")\n",
    "# plt.plot(test_poly_splicex, (((poly_y)*-1)+(poly_y[0]*2)), label=\"polynomial ODR\")\n",
    "plt.plot(test_poly_splicex, (poly_y2), label=\"2nd order polynomial ODR\")\n",
    "plt.plot(test_poly_splicex, (poly_y3), label=\"3rd order polynomial ODR\")\n",
    "\n",
    "plt.legend()\n",
    "plt.show()"
   ]
  },
  {
   "cell_type": "code",
   "execution_count": 23,
   "metadata": {},
   "outputs": [],
   "source": [
    "plt.plot(xs_cut[1]*1e-6, ON_sums[1][0], lw = '1.0')\n",
    "# plt.plot(test_poly_splicex, y, label=\"Background input data\")\n",
    "plt.plot(test_polyregx*1e-6, test_polyreg, label='Background input data', color ='#ff7f0eff', lw = '1.0')\n",
    "plt.plot(test_polyregx2*1e-6, test_polyreg2, color = '#ff7f0eff', lw = '1.0')\n",
    "plt.plot(xs_cut[1][bg_reg1[1]:6250]*1e-6, ON_sums[1][0][bg_reg1[1]:6250], label=\"Resonance region\", color = 'r', lw = '1.0')\n",
    "# plt.plot(test_poly_splicex, (((poly_y)*-1)+(poly_y[0]*2)), label=\"polynomial ODR\")\n",
    "# plt.plot(test_poly_splicex, (poly_y), label=\"polynomial ODR\")\n",
    "plt.plot(xs_cut[1][bg_reg1[0]:bg_reg2[1]]*1e-6, (fullpoly_y2), label=\"2nd order background polynomial fit\", color = 'magenta', lw = '3.0', ls = '-')\n",
    "plt.plot(xs_cut[1][bg_reg1[0]:bg_reg2[1]]*1e-6, (fullpoly_y3), label=\"3rd order background polynomial fit\", color = 'g', lw = '3.0', ls = ':')\n",
    "# plt.plot(xs_cut[1][bg_reg1[0]:bg_reg2[1]]*1e-6, (poly_y2), label=\"2nd order background polynomial fit\", color = 'magenta', lw = '3.0', ls = '-')\n",
    "# plt.plot(xs_cut[1][bg_reg1[0]:bg_reg2[1]]*1e-6, (poly_y3), label=\"3rd order background polynomial fit\", color = 'g', lw = '3.0', ls = ':')\n",
    "\n",
    "plt.title('Fits to background (On sums, 160 pulses in 1 sequence)') \n",
    "plt.xlabel(\"tof (ms)\")\n",
    "plt.ylabel(\"Counts (arbitrary)\")\n",
    "plt.xlabel(\"tof (ms)\", fontsize = '12')\n",
    "plt.ylabel(\"ADC\", fontsize = '12')\n",
    "plt.legend()\n",
    "plt.show()"
   ]
  },
  {
   "cell_type": "code",
   "execution_count": null,
   "metadata": {},
   "outputs": [],
   "source": []
  },
  {
   "cell_type": "code",
   "execution_count": 111,
   "metadata": {},
   "outputs": [],
   "source": [
    "plt.plot(xs_cut[1]*1e-6, ON_sums[1][0], lw = '1.0')\n",
    "reg_full = ON_sums[1][0][bg_reg1[0]:8992]\n",
    "xs_bg_reg = xs_cut[1][bg_reg1[0]:bg_reg2[1]]*1e-6  ## new 11.21.24\n",
    "# left = ON_sums[1][0][bg_reg1[0]:bg_reg1[1]]-poly_y[0:1270]\n",
    "# right = ON_sums[1][0][6250:bg_reg2[1]]-poly_y[1270:]\n",
    "bgsubtracted2 = ON_sums[1][0][bg_reg1[0]:bg_reg2[1]] - fullpoly_y2\n",
    "bgsubtracted3 = ON_sums[1][0][bg_reg1[0]:bg_reg2[1]] - fullpoly_y3\n",
    "bgsubtracted2OFF = OFF_sums[1][0][bg_reg1[0]:bg_reg2[1]] - fullpoly_y2\n",
    "\n",
    "# plt.plot(test_polyregx, left, color = 'y')\n",
    "# plt.plot(test_polyregx2, right, color = 'r')\n",
    "plt.plot(xs_cut[1][bg_reg1[0]:8992]*1e-6, reg_full, color = '#ff7f0eff', lw = '1.0', label = 'full bg_ subtraction region')\n",
    "\n",
    "# res_only = np.append(left,ON_sums[1][0][bg_reg1[1]:6250])\n",
    "# res_only = np.append(res_only,right)\n",
    "plt.plot(xs_bg_reg, bgsubtracted2, color = 'r', lw = '1.0', label='2nd Order polynomial background subtracted')\n",
    "# plt.plot(xs_cut[1][bg_reg1[0]:bg_reg2[1]]*1e-6, bgsubtracted3, color = 'g', lw = '1.0', label='3rd Order polynomial background subtracted')\n",
    "# plt.plot(xs_cut[1][bg_reg1[0]:bg_reg2[1]]*1e-6, OFF_sums[1][0][bg_reg1[0]:bg_reg2[1]]-ON_sums[1][0][bg_reg1[0]:bg_reg2[1]], color = 'g', lw = '1.0', label='simple subtraction')\n",
    "# plt.plot(xs_cut[1][bg_reg1[0]:bg_reg2[1]]*1e-6, OFF_bgsub[1][0]-ON_bgsub[1][0], color = 'm', lw = '1.0', label='fit subtraction?')\n",
    "\n",
    "plt.axhline(0, ls='--')\n",
    "\n",
    "plt.title('Fits to background (On sums, 160 pulses in 1 sequence)') \n",
    "plt.xlabel(\"tof (ms)\")\n",
    "plt.ylabel(\"Counts (arbitrary)\")\n",
    "plt.xlabel(\"tof (ms)\", fontsize = '12')\n",
    "plt.ylabel(\"ADC\", fontsize = '12')\n",
    "plt.legend()\n",
    "plt.show()\n"
   ]
  },
  {
   "cell_type": "code",
   "execution_count": 29,
   "metadata": {},
   "outputs": [
    {
     "name": "stdout",
     "output_type": "stream",
     "text": [
      "[-461.66872657 -461.6370731  -461.6053824  ... -286.17578776 -286.21913013\n",
      " -286.26254094]\n",
      "[-467.08254142 -467.04754848 -467.01251754 ... -286.07465439 -286.123068\n",
      " -286.17155431]\n",
      "[  79.63744516 -139.36974854   24.19290166 ...   51.56799882  -81.48918699\n",
      "  -57.82290277]\n",
      "[ -16.43320231 -132.70170788  -47.03146727 ...    9.7021881  -104.31219871\n",
      "   -3.0115005 ]\n"
     ]
    },
    {
     "data": {
      "text/plain": [
       "[<matplotlib.lines.Line2D at 0x12dc59fc7f0>]"
      ]
     },
     "execution_count": 29,
     "metadata": {},
     "output_type": "execute_result"
    }
   ],
   "source": [
    "print(ON_bgsub[1][0] - ON_sums[1][0][bg_reg1[0]:bg_reg2[1]])\n",
    "print(OFF_bgsub[1][0] - OFF_sums[1][0][bg_reg1[0]:bg_reg2[1]])\n",
    "print(OFF_bgsub[1][0] - ON_bgsub[1][0])\n",
    "print(OFF_sums[1][1][bg_reg1[0]:bg_reg2[1]]-ON_sums[1][1][bg_reg1[0]:bg_reg2[1]])\n",
    "plt.plot(xs_cut[1][bg_reg1[0]:bg_reg2[1]]*1e-6,ON_bgsub[1][0] - ON_sums[1][0][bg_reg1[0]:bg_reg2[1]])"
   ]
  },
  {
   "cell_type": "markdown",
   "metadata": {},
   "source": [
    "now OFF ones"
   ]
  },
  {
   "cell_type": "code",
   "execution_count": null,
   "metadata": {},
   "outputs": [],
   "source": []
  },
  {
   "cell_type": "code",
   "execution_count": 30,
   "metadata": {},
   "outputs": [
    {
     "name": "stdout",
     "output_type": "stream",
     "text": [
      "4011\n",
      "520.0024114411128\n",
      "4811\n",
      "4011\n"
     ]
    }
   ],
   "source": [
    "test_polyreg = OFF_sums[1][0][bg_reg1[0]:bg_reg1[1]]\n",
    "test_polyregx = xs_cut[1][bg_reg1[0]:bg_reg1[1]]\n",
    "test_polyreg2 = OFF_sums[1][0][6250:bg_reg2[1]]\n",
    "test_polyregx2 = xs_cut[1][6250:bg_reg2[1]]\n",
    "# plt.plot(test_polyregx, test_polyreg, color = 'y')\n",
    "# plt.plot(test_polyregx2, test_polyreg2, color = 'y')\n",
    "test_poly_splice = np.append(test_polyreg, test_polyreg2)\n",
    "test_poly_splicex = np.append(test_polyregx, test_polyregx2)\n",
    "y = test_poly_splice\n",
    "x = np.linspace(0, len(y),len(y))\n",
    "# x = np.linspace(0, test_poly_splicex[-1],len(fit_reg))\n",
    "\n",
    "print(len(x))\n",
    "\n",
    "data = odr.Data(x, y)\n",
    "poly_model3 = odr.polynomial(3)  # using third order polynomial model\n",
    "odr_obj = odr.ODR(data, poly_model3)\n",
    "output = odr_obj.run()  # running ODR fitting\n",
    "poly3 = np.poly1d(output.beta[::-1])\n",
    "poly_y3 = poly3(x)\n",
    "print(poly_y3[1])\n",
    "fullx = np.linspace(0, len(OFF_sums[1][0][bg_reg1[0]:bg_reg2[1]]),len(OFF_sums[1][0][bg_reg1[0]:bg_reg2[1]]))\n",
    "print(len(fullx))\n",
    "fullpoly_y3OFF = poly3(fullx)\n",
    "\n",
    "plt.plot(x, y, label=\"input data\")\n",
    "# plt.plot(x[0:1270], (poly_y2[0:1270]), label=\"beginning?\")\n",
    "# plt.plot(x, (((poly_y3)*-1)+(poly_y3[0]*2)), label=\"polynomial ODR\")\n",
    "plt.plot(x, (poly_y3), label=\"3rd order polynomial ODR\")\n",
    "# plt.plot(x[0:1270], (poly_y3[0:1270]), label=\"beginning?\")\n",
    "# plt.axvline(x[2180], color ='r')\n",
    "plt.title('fits to background data OFF pulses') \n",
    "plt.xlabel(\"bins\", fontsize = '12')\n",
    "plt.ylabel(\"ADC\", fontsize = '12')\n",
    "plt.legend()\n",
    "plt.show()\n",
    "print(len(poly_y2))"
   ]
  },
  {
   "cell_type": "code",
   "execution_count": 31,
   "metadata": {},
   "outputs": [],
   "source": [
    "plt.plot(xs_cut[1]*1e-6, ON_sums[1][0], lw = '1.0')\n",
    "reg_full = ON_sums[1][0][bg_reg1[0]:8992]\n",
    "# left = ON_sums[1][0][bg_reg1[0]:bg_reg1[1]]-poly_y[0:1270]\n",
    "# right = ON_sums[1][0][6250:bg_reg2[1]]-poly_y[1270:]\n",
    "bgsubtracted = ON_sums[1][0][bg_reg1[0]:bg_reg2[1]] - fullpoly_y3\n",
    "# plt.plot(test_polyregx, left, color = 'y')\n",
    "# plt.plot(test_polyregx2, right, color = 'r')\n",
    "# plt.plot(xs_cut[1][bg_reg1[0]:8992]*1e-6, reg_full, color = '#ff7f0eff', lw = '1.0', label = 'full fitting region')\n",
    "\n",
    "# res_only = np.append(left,ON_sums[1][0][bg_reg1[1]:6250])\n",
    "# res_only = np.append(res_only,right)\n",
    "plt.plot(xs_cut[1][bg_reg1[0]:bg_reg2[1]]*1e-6, bgsubtracted, color = 'g', lw = '1.0', label='3rd Order polynomial background subtracted')\n",
    "plt.axhline(0, ls='--')\n",
    "\n",
    "plt.title('Fits to background (On sums, 160 pulses in 1 sequence)') \n",
    "plt.xlabel(\"tof (ms)\")\n",
    "plt.ylabel(\"Counts (arbitrary)\")\n",
    "plt.xlabel(\"tof (ms)\", fontsize = '12')\n",
    "plt.ylabel(\"ADC\", fontsize = '12')\n",
    "plt.legend()\n",
    "plt.show()"
   ]
  },
  {
   "cell_type": "code",
   "execution_count": null,
   "metadata": {},
   "outputs": [],
   "source": []
  },
  {
   "cell_type": "code",
   "execution_count": null,
   "metadata": {},
   "outputs": [],
   "source": []
  },
  {
   "cell_type": "markdown",
   "metadata": {},
   "source": [
    "Now voigt"
   ]
  },
  {
   "cell_type": "code",
   "execution_count": 32,
   "metadata": {},
   "outputs": [],
   "source": [
    "# plt.plot(xs_cut[0], ON_sums[-1][0])\n",
    "# plt.plot(xs_cut[0], ON_sums[-1][1])\n",
    "# plt.plot(xs_cut[0], ON_sums[-1][2])\n",
    "# plt.plot(xs_cut[0], ON_sums[-1][3])\n",
    "# plt.plot(xs_cut[0], ON_sums[-1][4])"
   ]
  },
  {
   "cell_type": "code",
   "execution_count": null,
   "metadata": {},
   "outputs": [],
   "source": []
  },
  {
   "cell_type": "code",
   "execution_count": null,
   "metadata": {},
   "outputs": [],
   "source": []
  },
  {
   "cell_type": "code",
   "execution_count": 33,
   "metadata": {},
   "outputs": [],
   "source": [
    "from scipy.special import voigt_profile\n",
    "from scipy.optimize import curve_fit\n",
    "voigt_profile(2, 1., 1.)\n",
    "fig, ax = plt.subplots(figsize=(8, 8))\n",
    "x = np.linspace(-10, 10, 500)\n",
    "parameters_list = [(1.5, 0., \"solid\"), (1.3, 0.5, \"dashed\"),\n",
    "                   (0., 1.8, \"dotted\"), (1., 1., \"dashdot\")]\n",
    "for params in parameters_list:\n",
    "    sigma, gamma, linestyle = params\n",
    "    voigt = voigt_profile(x, sigma, gamma)\n",
    "    ax.plot(x, voigt, label=rf\"$\\sigma={sigma},\\, \\gamma={gamma}$\",\n",
    "            ls=linestyle)\n",
    "plt.legend()\n",
    "plt.show()"
   ]
  },
  {
   "cell_type": "code",
   "execution_count": 34,
   "metadata": {},
   "outputs": [
    {
     "name": "stdout",
     "output_type": "stream",
     "text": [
      "[-3992. -3990. -3988. ... 13986. 13988. 13990.]\n"
     ]
    }
   ],
   "source": [
    "print(xs_cut[0]/256)"
   ]
  },
  {
   "cell_type": "code",
   "execution_count": 145,
   "metadata": {},
   "outputs": [
    {
     "data": {
      "text/plain": [
       "[<matplotlib.lines.Line2D at 0x12dd0fb58e0>]"
      ]
     },
     "execution_count": 145,
     "metadata": {},
     "output_type": "execute_result"
    }
   ],
   "source": [
    "from scipy.special import voigt_profile\n",
    "from scipy.optimize import curve_fit\n",
    "res_region_beg = 5450\n",
    "res_region_end = 6250\n",
    "res_reg = [res_region_beg,res_region_end]\n",
    "\n",
    "## checks that the resonance region and bg region do not overlap 11.21.24\n",
    "if res_reg[0] < bg_reg1[1] or res_reg[1]>bg_reg2[0]:\n",
    "    emessage = ('Declared Background region and Resonance region have overlapping fitting regions')\n",
    "    logger.error(run_num + emessage)\n",
    "    raise Exception(emessage)\n",
    "\n",
    "## manual fitting\n",
    "# sigma = 60\n",
    "# gamma = 30\n",
    "# beg = 5800\n",
    "# end = 5900\n",
    "sigma = 0.05\n",
    "gamma = 0.09\n",
    "beg = 5800\n",
    "end = 5900\n",
    "\n",
    "shift = 1.98\n",
    "mult = 100\n",
    "\n",
    "# xdata = np.arange(-(res_reg[1]-res_reg[0])/2,(res_reg[1]-res_reg[0])/2,1)  ## centered around 0 for initial fitting\n",
    "xdata = xs_cut[0][res_reg[0]:res_reg[1]]*1e-6\n",
    "\n",
    "ydata = ON_bgsub[1][0][bg_reg1[1]-bg_reg1[0]:bg_reg2[0]-bg_reg1[0]]\n",
    "\n",
    "voigt = voigt_profile(xdata-shift, sigma, gamma)*mult\n",
    "# print(voigt)\n",
    "# def voigt2(x, sig, gam, xshift, amp):\n",
    "#     fit = voigt_profile(x-xshift, sig, gam)*amp\n",
    "#     return fit\n",
    "\n",
    "plt.plot(xdata, voigt)\n",
    "plt.plot(xdata,ydata)"
   ]
  },
  {
   "cell_type": "code",
   "execution_count": 149,
   "metadata": {},
   "outputs": [
    {
     "name": "stdout",
     "output_type": "stream",
     "text": [
      "1270\n",
      "2070\n",
      "[5450, 6250]\n",
      "800\n"
     ]
    }
   ],
   "source": [
    "print(bg_reg1[1]-bg_reg1[0])\n",
    "print(bg_reg2[0]-bg_reg1[0])\n",
    "print(res_reg)\n",
    "print(res_reg[1]-res_reg[0])\n"
   ]
  },
  {
   "cell_type": "code",
   "execution_count": 102,
   "metadata": {},
   "outputs": [
    {
     "name": "stdout",
     "output_type": "stream",
     "text": [
      "[1.768448 1.76896  1.769472 1.769984 1.770496 1.771008 1.77152  1.772032\n",
      " 1.772544 1.773056 1.773568 1.77408  1.774592 1.775104 1.775616 1.776128\n",
      " 1.77664  1.777152 1.777664 1.778176 1.778688 1.7792   1.779712 1.780224\n",
      " 1.780736 1.781248 1.78176  1.782272 1.782784 1.783296 1.783808 1.78432\n",
      " 1.784832 1.785344 1.785856 1.786368 1.78688  1.787392 1.787904 1.788416\n",
      " 1.788928 1.78944  1.789952 1.790464 1.790976 1.791488 1.792    1.792512\n",
      " 1.793024 1.793536 1.794048 1.79456  1.795072 1.795584 1.796096 1.796608\n",
      " 1.79712  1.797632 1.798144 1.798656 1.799168 1.79968  1.800192 1.800704\n",
      " 1.801216 1.801728 1.80224  1.802752 1.803264 1.803776 1.804288 1.8048\n",
      " 1.805312 1.805824 1.806336 1.806848 1.80736  1.807872 1.808384 1.808896\n",
      " 1.809408 1.80992  1.810432 1.810944 1.811456 1.811968 1.81248  1.812992\n",
      " 1.813504 1.814016 1.814528 1.81504  1.815552 1.816064 1.816576 1.817088\n",
      " 1.8176   1.818112 1.818624 1.819136 1.819648 1.82016  1.820672 1.821184\n",
      " 1.821696 1.822208 1.82272  1.823232 1.823744 1.824256 1.824768 1.82528\n",
      " 1.825792 1.826304 1.826816 1.827328 1.82784  1.828352 1.828864 1.829376\n",
      " 1.829888 1.8304   1.830912 1.831424 1.831936 1.832448 1.83296  1.833472\n",
      " 1.833984 1.834496 1.835008 1.83552  1.836032 1.836544 1.837056 1.837568\n",
      " 1.83808  1.838592 1.839104 1.839616 1.840128 1.84064  1.841152 1.841664\n",
      " 1.842176 1.842688 1.8432   1.843712 1.844224 1.844736 1.845248 1.84576\n",
      " 1.846272 1.846784 1.847296 1.847808 1.84832  1.848832 1.849344 1.849856\n",
      " 1.850368 1.85088  1.851392 1.851904 1.852416 1.852928 1.85344  1.853952\n",
      " 1.854464 1.854976 1.855488 1.856    1.856512 1.857024 1.857536 1.858048\n",
      " 1.85856  1.859072 1.859584 1.860096 1.860608 1.86112  1.861632 1.862144\n",
      " 1.862656 1.863168 1.86368  1.864192 1.864704 1.865216 1.865728 1.86624\n",
      " 1.866752 1.867264 1.867776 1.868288 1.8688   1.869312 1.869824 1.870336\n",
      " 1.870848 1.87136  1.871872 1.872384 1.872896 1.873408 1.87392  1.874432\n",
      " 1.874944 1.875456 1.875968 1.87648  1.876992 1.877504 1.878016 1.878528\n",
      " 1.87904  1.879552 1.880064 1.880576 1.881088 1.8816   1.882112 1.882624\n",
      " 1.883136 1.883648 1.88416  1.884672 1.885184 1.885696 1.886208 1.88672\n",
      " 1.887232 1.887744 1.888256 1.888768 1.88928  1.889792 1.890304 1.890816\n",
      " 1.891328 1.89184  1.892352 1.892864 1.893376 1.893888 1.8944   1.894912\n",
      " 1.895424 1.895936 1.896448 1.89696  1.897472 1.897984 1.898496 1.899008\n",
      " 1.89952  1.900032 1.900544 1.901056 1.901568 1.90208  1.902592 1.903104\n",
      " 1.903616 1.904128 1.90464  1.905152 1.905664 1.906176 1.906688 1.9072\n",
      " 1.907712 1.908224 1.908736 1.909248 1.90976  1.910272 1.910784 1.911296\n",
      " 1.911808 1.91232  1.912832 1.913344 1.913856 1.914368 1.91488  1.915392\n",
      " 1.915904 1.916416 1.916928 1.91744  1.917952 1.918464 1.918976 1.919488\n",
      " 1.92     1.920512 1.921024 1.921536 1.922048 1.92256  1.923072 1.923584\n",
      " 1.924096 1.924608 1.92512  1.925632 1.926144 1.926656 1.927168 1.92768\n",
      " 1.928192 1.928704 1.929216 1.929728 1.93024  1.930752 1.931264 1.931776\n",
      " 1.932288 1.9328   1.933312 1.933824 1.934336 1.934848 1.93536  1.935872\n",
      " 1.936384 1.936896 1.937408 1.93792  1.938432 1.938944 1.939456 1.939968\n",
      " 1.94048  1.940992 1.941504 1.942016 1.942528 1.94304  1.943552 1.944064\n",
      " 1.944576 1.945088 1.9456   1.946112 1.946624 1.947136 1.947648 1.94816\n",
      " 1.948672 1.949184 1.949696 1.950208 1.95072  1.951232 1.951744 1.952256\n",
      " 1.952768 1.95328  1.953792 1.954304 1.954816 1.955328 1.95584  1.956352\n",
      " 1.956864 1.957376 1.957888 1.9584   1.958912 1.959424 1.959936 1.960448\n",
      " 1.96096  1.961472 1.961984 1.962496 1.963008 1.96352  1.964032 1.964544\n",
      " 1.965056 1.965568 1.96608  1.966592 1.967104 1.967616 1.968128 1.96864\n",
      " 1.969152 1.969664 1.970176 1.970688 1.9712   1.971712 1.972224 1.972736\n",
      " 1.973248 1.97376  1.974272 1.974784 1.975296 1.975808 1.97632  1.976832\n",
      " 1.977344 1.977856 1.978368 1.97888  1.979392 1.979904 1.980416 1.980928\n",
      " 1.98144  1.981952 1.982464 1.982976 1.983488 1.984    1.984512 1.985024\n",
      " 1.985536 1.986048 1.98656  1.987072 1.987584 1.988096 1.988608 1.98912\n",
      " 1.989632 1.990144 1.990656 1.991168 1.99168  1.992192 1.992704 1.993216\n",
      " 1.993728 1.99424  1.994752 1.995264 1.995776 1.996288 1.9968   1.997312\n",
      " 1.997824 1.998336 1.998848 1.99936  1.999872 2.000384 2.000896 2.001408\n",
      " 2.00192  2.002432 2.002944 2.003456 2.003968 2.00448  2.004992 2.005504\n",
      " 2.006016 2.006528 2.00704  2.007552 2.008064 2.008576 2.009088 2.0096\n",
      " 2.010112 2.010624 2.011136 2.011648 2.01216  2.012672 2.013184 2.013696\n",
      " 2.014208 2.01472  2.015232 2.015744 2.016256 2.016768 2.01728  2.017792\n",
      " 2.018304 2.018816 2.019328 2.01984  2.020352 2.020864 2.021376 2.021888\n",
      " 2.0224   2.022912 2.023424 2.023936 2.024448 2.02496  2.025472 2.025984\n",
      " 2.026496 2.027008 2.02752  2.028032 2.028544 2.029056 2.029568 2.03008\n",
      " 2.030592 2.031104 2.031616 2.032128 2.03264  2.033152 2.033664 2.034176\n",
      " 2.034688 2.0352   2.035712 2.036224 2.036736 2.037248 2.03776  2.038272\n",
      " 2.038784 2.039296 2.039808 2.04032  2.040832 2.041344 2.041856 2.042368\n",
      " 2.04288  2.043392 2.043904 2.044416 2.044928 2.04544  2.045952 2.046464\n",
      " 2.046976 2.047488 2.048    2.048512 2.049024 2.049536 2.050048 2.05056\n",
      " 2.051072 2.051584 2.052096 2.052608 2.05312  2.053632 2.054144 2.054656\n",
      " 2.055168 2.05568  2.056192 2.056704 2.057216 2.057728 2.05824  2.058752\n",
      " 2.059264 2.059776 2.060288 2.0608   2.061312 2.061824 2.062336 2.062848\n",
      " 2.06336  2.063872 2.064384 2.064896 2.065408 2.06592  2.066432 2.066944\n",
      " 2.067456 2.067968 2.06848  2.068992 2.069504 2.070016 2.070528 2.07104\n",
      " 2.071552 2.072064 2.072576 2.073088 2.0736   2.074112 2.074624 2.075136\n",
      " 2.075648 2.07616  2.076672 2.077184 2.077696 2.078208 2.07872  2.079232\n",
      " 2.079744 2.080256 2.080768 2.08128  2.081792 2.082304 2.082816 2.083328\n",
      " 2.08384  2.084352 2.084864 2.085376 2.085888 2.0864   2.086912 2.087424\n",
      " 2.087936 2.088448 2.08896  2.089472 2.089984 2.090496 2.091008 2.09152\n",
      " 2.092032 2.092544 2.093056 2.093568 2.09408  2.094592 2.095104 2.095616\n",
      " 2.096128 2.09664  2.097152 2.097664 2.098176 2.098688 2.0992   2.099712\n",
      " 2.100224 2.100736 2.101248 2.10176  2.102272 2.102784 2.103296 2.103808\n",
      " 2.10432  2.104832 2.105344 2.105856 2.106368 2.10688  2.107392 2.107904\n",
      " 2.108416 2.108928 2.10944  2.109952 2.110464 2.110976 2.111488 2.112\n",
      " 2.112512 2.113024 2.113536 2.114048 2.11456  2.115072 2.115584 2.116096\n",
      " 2.116608 2.11712  2.117632 2.118144 2.118656 2.119168 2.11968  2.120192\n",
      " 2.120704 2.121216 2.121728 2.12224  2.122752 2.123264 2.123776 2.124288\n",
      " 2.1248   2.125312 2.125824 2.126336 2.126848 2.12736  2.127872 2.128384\n",
      " 2.128896 2.129408 2.12992  2.130432 2.130944 2.131456 2.131968 2.13248\n",
      " 2.132992 2.133504 2.134016 2.134528 2.13504  2.135552 2.136064 2.136576\n",
      " 2.137088 2.1376   2.138112 2.138624 2.139136 2.139648 2.14016  2.140672\n",
      " 2.141184 2.141696 2.142208 2.14272  2.143232 2.143744 2.144256 2.144768\n",
      " 2.14528  2.145792 2.146304 2.146816 2.147328 2.14784  2.148352 2.148864\n",
      " 2.149376 2.149888 2.1504   2.150912 2.151424 2.151936 2.152448 2.15296\n",
      " 2.153472 2.153984 2.154496 2.155008 2.15552  2.156032 2.156544 2.157056\n",
      " 2.157568 2.15808  2.158592 2.159104 2.159616 2.160128 2.16064  2.161152\n",
      " 2.161664 2.162176 2.162688 2.1632   2.163712 2.164224 2.164736 2.165248\n",
      " 2.16576  2.166272 2.166784 2.167296 2.167808 2.16832  2.168832 2.169344\n",
      " 2.169856 2.170368 2.17088  2.171392 2.171904 2.172416 2.172928 2.17344\n",
      " 2.173952 2.174464 2.174976 2.175488 2.176    2.176512 2.177024 2.177536]\n"
     ]
    }
   ],
   "source": [
    "print(xdata)"
   ]
  },
  {
   "cell_type": "code",
   "execution_count": 103,
   "metadata": {},
   "outputs": [
    {
     "name": "stdout",
     "output_type": "stream",
     "text": [
      "[ 1.58266717e+01 -2.44821727e+01 -1.25020263e+01  1.58652762e+02\n",
      "  2.99367057e+01 -5.57728488e+01 -6.32707832e+01 -8.49923196e+01\n",
      "  3.63822161e+01 -8.51527307e+00  3.17877631e+01 -3.31609494e+01\n",
      " -1.21791006e+01  4.46455756e+01  3.66255455e+01 -1.90158945e+01\n",
      " -1.12230103e+01 -2.27119999e+01  1.56570648e+01 -2.52010018e+01\n",
      " -5.58057822e+01 -5.79983212e+01  5.27957122e+01  1.28943931e+02\n",
      "  7.98736909e+01  1.03032810e+02 -3.28085514e+01 -3.19193176e+01\n",
      "  1.74255246e+02  6.32045609e+01 -6.43901389e+01 -5.19082134e+01\n",
      "  4.61201646e+01 -5.44401149e+01 -9.99767610e+01 -1.91709117e+02\n",
      " -9.50348066e+01 -3.80928583e+01 -6.20242598e+01  1.83819839e+01\n",
      "  5.56670694e+00 -1.37484763e+02 -7.27142086e+01 -4.79607512e+01\n",
      " -8.75192765e+01 -1.18354140e+02 -3.64790956e+01 -5.02017941e+01\n",
      " -9.46049083e+00  6.61032950e+00 -8.94245738e+01  4.27592258e+01\n",
      " -2.41288902e+01 -1.40036340e+02 -1.31439883e+02  1.69385970e+01\n",
      "  5.89522426e+01 -9.57479101e+00 -2.77795611e+01  4.72933461e+01\n",
      "  4.98219209e+00 -6.35270127e+01  4.26259240e+00  1.05890698e+02\n",
      "  3.26994524e+01  1.06811445e+02 -2.00118838e+00 -2.67850237e+01\n",
      "  1.55360213e+02  7.70496205e+01 -2.36675101e+01  5.13809340e+01\n",
      "  3.56567547e+01 -2.62237346e+01 -6.35370329e+01 -5.80772832e+01\n",
      "  9.85742824e+00 -7.30407797e+01 -9.71655490e+01 -7.95478708e+01\n",
      "  7.01024418e-01 -1.02588805e+00 -4.53657131e+01  2.05936258e+01\n",
      " -1.05682664e+02 -1.61934412e+02 -3.41255321e+01  5.43125314e+01\n",
      "  6.28432905e+01 -2.21658421e+01 -7.59138446e+01 -2.44052101e+01\n",
      "  1.58511858e+01  1.29218203e+01 -1.31047130e+02 -7.83105685e+01\n",
      " -1.92728679e+01 -4.00010112e+01  5.01331207e+01 -3.02123571e+01\n",
      "  1.40490830e+02 -6.64833109e+01 -5.66996400e+01 -1.24404300e+02\n",
      " -4.44830617e+01 -8.20947409e+01 -3.93600352e+01 -5.49593351e+01\n",
      " -4.42025320e+01 -9.34995271e+00  1.81854274e+00  2.44652875e+01\n",
      "  7.17337966e+01  5.61410444e+01 -3.24760509e+01 -2.30458690e+01\n",
      " -1.34045862e+02  1.00869243e+01  1.10436346e+02  4.65871585e+01\n",
      " -9.60149655e+01 -8.47812643e+00 -4.81212171e+01 -4.59098633e+01\n",
      "  3.79072998e+01  9.13426165e+01  1.78667169e+01  4.96949916e+01\n",
      " -4.21615873e+01  3.76220524e+01 -5.34434479e+01 -6.16327940e+00\n",
      " -1.27888744e+01 -4.36485040e+01 -3.39910125e+01  5.48429661e+01\n",
      " -1.21648331e+02 -5.13459516e+01  9.56085422e+01  5.21731629e+01\n",
      " -3.12748652e+01  2.52570666e+01  2.41757832e+01  2.67893304e+01\n",
      "  3.99374521e+01  7.51289339e+01 -2.92037351e+01 -2.38302014e+01\n",
      "  4.02258342e+01  5.64007816e+01  9.45165230e+00 -6.29568158e+01\n",
      " -7.08844273e+01 -8.24492152e+01 -4.99348079e+01 -5.69849974e+01\n",
      " -1.17937798e+00 -6.51082646e+01  2.31163237e+01  1.08649617e+01\n",
      " -5.98513220e+01  4.49778706e+01  2.74515652e+01 -8.73383789e+00\n",
      " -3.71787612e+01 -4.55816772e+01  6.21758622e+01  2.40335832e+01\n",
      "  1.12812316e+02 -1.99398305e+01 -5.76977699e+01 -3.25753209e+01\n",
      "  6.96303057e+01  1.93093840e+01 -5.55484556e+01 -7.57784586e+01\n",
      " -1.29480168e+02 -9.71303444e+01 -5.42244151e+01  7.83102641e+01\n",
      "  4.80212631e+01  1.15790670e+02  1.31969359e+01  3.76098139e+01\n",
      "  3.76341675e+01  1.29520330e+01 -3.03413143e-01  8.37797824e+00\n",
      "  8.92404116e+01 -3.71604895e+00 -1.06775014e+02 -2.16637119e+01\n",
      " -6.00566707e+01  6.05452848e+01  5.93508915e+01 -9.31938492e+01\n",
      "  7.34602282e+00  9.12495671e+01  8.03364231e+01  4.59695211e+01\n",
      " -3.02585998e+01 -1.18908699e+01 -6.61734715e+01  3.17739037e+01\n",
      " -4.01621338e+01 -1.08815772e+02  7.08552911e+00  1.67574520e+01\n",
      "  3.11192497e+01  1.65392438e+01  1.41514422e+02 -3.80223802e+01\n",
      " -4.96708360e+01  3.21489477e+01  8.52789581e+01  1.23491592e+02\n",
      "  7.57367772e+01  3.51630574e+01  8.63465187e+01  2.26088960e+01\n",
      " -3.59243570e+01  5.78311009e+01  4.92067847e+01  2.41143395e+01\n",
      "  1.19876655e+02  9.32905455e+00 -5.59993113e+00  5.43844805e+01\n",
      "  1.91038771e+01 -1.14576991e+01  1.07825993e+02  1.41230173e+02\n",
      "  1.95712984e+02  7.14863928e+01 -3.81528577e+01  4.91147336e+01\n",
      " -5.05655991e+01  3.94392348e+01  1.80001017e+02  6.06301253e+01\n",
      "  1.04078204e+02  2.00694421e+01 -5.46105623e+01  4.81882942e+01\n",
      " -3.48985576e+01  1.50399171e+02  2.60429380e+02  1.54523509e+01\n",
      "  3.57081851e+01  1.12419767e+02  1.19380715e+01  3.45378962e+01\n",
      "  3.12211243e+01  2.83901667e+01 -2.33287031e+01 -3.85309280e+00\n",
      "  9.58031535e+01 -8.50750272e+01  9.79172880e+00  1.56391949e+02\n",
      "  8.88093122e+01  1.18680488e+02  1.33226684e+02  4.99785568e+01\n",
      " -7.42469802e+00  1.03405289e+02  9.43410767e+01 -7.17337915e+01\n",
      " -3.31439672e+01  3.48942367e+01  2.03347738e+02  1.07436933e+02\n",
      "  1.18524230e+00  1.28214274e+01 -1.16155483e+01  5.29167383e+01\n",
      "  9.52436274e+01  3.36985084e+01 -2.52768079e+01  9.90136903e+01\n",
      "  1.04456897e+02 -6.24351092e+01 -5.15028604e+01  1.01438032e+02\n",
      "  1.99018214e+01  5.15030109e+01  8.58239516e+01  5.40213509e+01\n",
      "  2.26781204e+00  1.30692459e+02 -1.72114449e+01 -5.30748587e+01\n",
      "  1.23822177e+02  5.79115516e+01  6.38888346e+01  2.16466815e+01\n",
      "  1.97222472e+01  1.07192963e+02  9.40591952e+01  8.20332970e+01\n",
      "  1.92463549e+01  6.99775784e+01  1.90024866e+01  1.16317989e+02\n",
      "  1.12151394e+02  1.04814283e+02  1.29171836e+02 -1.83603359e+01\n",
      "  1.38348208e+02  1.49637638e+02  7.19998755e+01  8.97098309e+01\n",
      "  4.36970226e+01  1.03926715e+02  1.38511171e+02  1.96351754e+02\n",
      "  1.44995796e+02  1.42654873e+01  2.28780312e+02  1.16315210e+02\n",
      "  7.29770744e+01  1.08739465e+02  1.15849846e+02  1.41066838e+02\n",
      "  1.22104532e+02 -2.48963157e+01  1.24090708e+01  3.96674168e+01\n",
      "  1.06016597e+02  1.86241926e+02  5.50448208e+01  9.92542257e+01\n",
      "  1.01196276e+02  6.72511839e+01  2.05211876e+02  7.38496782e+01\n",
      "  1.84522785e+01  9.72232882e+00  1.41669650e+02  2.57140447e+01\n",
      "  1.94272087e+01  6.25746403e+01  8.60257225e+01  1.84055850e+02\n",
      "  1.25548317e+02  6.68606695e+01 -7.74247976e+01  7.96995294e+01\n",
      "  1.28462089e+02  1.38233394e+02  1.16792747e+01  1.32388948e+01\n",
      "  1.08021898e+02  1.09181015e+02  2.05040109e+02  7.13933116e+01\n",
      "  1.52922161e+02  1.11700321e+02  6.75682760e+01  1.38559801e+02\n",
      "  8.53578013e+01  2.17386910e+02  1.09930258e+02  9.93027106e+01\n",
      "  8.63505975e+01  3.91969790e+01  4.63694084e+01  1.20686798e+02\n",
      "  2.09131465e+02  7.63299611e+01  1.12738110e+02  1.10028141e+02\n",
      "  1.58044037e+02  1.71735220e+01  1.76195141e+02  1.05928176e+02\n",
      "  1.83560425e+02  1.30403018e+02  3.26465157e+02  1.70128561e+02\n",
      "  6.28872622e+01  3.67404663e+01  1.34157856e+02  2.51685859e+02\n",
      "  9.84054690e+01  5.86800316e+01  9.03681026e+01  2.87854255e+01\n",
      "  1.03606210e+02  1.03143201e+02  3.52839068e+01  3.48139264e+01\n",
      "  4.29589009e+01 -8.41369714e-02  7.08375399e+01  6.52873374e+01\n",
      " -1.48201015e+01  4.83592407e+01 -2.43723355e+01  1.36265827e+02\n",
      "  1.94077946e+02  8.69568971e+01  8.07117246e+01  1.85980481e+02\n",
      "  1.73724794e+02  1.11426641e+02  6.98595150e+01  4.84149137e+01\n",
      "  1.32207429e+02  1.26910100e+02  9.28016171e+01  1.81383607e+01\n",
      "  1.27407516e+02  1.55802603e+02  1.03864042e+02  8.43774848e+01\n",
      "  1.68311265e+02  6.63181779e+01  1.32261653e+02  8.80375037e+01\n",
      "  1.35422665e+02  1.23108257e+02  9.67645760e+01  1.66228080e+02\n",
      "  1.46857720e+02  1.11243339e+02  1.29195922e+02  5.12870244e+01\n",
      "  2.54598147e+01 -7.73924456e+00 -1.63360274e+01  4.99557275e+01\n",
      "  1.35939380e+02  1.38547094e+02  6.57082606e+01  6.27474584e+01\n",
      "  9.20806664e+01  1.67106026e+01  8.59101529e+01  7.94401549e+01\n",
      "  4.44894692e+00  4.93516775e+01  5.53216265e+01  8.47409411e+01\n",
      "  1.08416292e+02  7.63659853e+01  1.52740999e+02  1.59578213e+02\n",
      "  7.86218935e+01  1.20040879e+02  1.13526332e+02  1.72415643e+02\n",
      "  1.01057963e+02  1.33240721e+01  2.47136592e+01  3.67399985e+01\n",
      "  5.41557803e+01  5.76912849e+01  6.21049793e+01  1.17849637e+02\n",
      "  1.64996479e+02  5.52477680e+01  4.02119073e+01  4.71583036e+01\n",
      "  4.06126042e+00 -3.46489787e+01  9.02928288e+01  7.61732960e+01\n",
      "  3.85371119e+01  1.14601455e+02  3.89358870e+01  9.90670974e+01\n",
      "  1.76197079e+02  2.19509179e+01  1.76779724e+02  2.08371711e+02\n",
      "  4.98489679e+01  4.24456400e+01  1.17683692e+02  3.93450830e+01\n",
      "  4.82201919e+00  2.97201847e+01  2.39423186e+01  7.79790180e+01\n",
      " -3.12104254e+01  1.47944371e+02  6.93949769e+01  1.03660914e+01\n",
      "  4.22610905e+01  6.50930984e+01  2.17679616e+02  3.43542462e+01\n",
      "  1.96326031e+01  2.82341633e+01  2.14153856e+01  3.53458291e+01\n",
      "  2.47548694e+00  3.16202524e+01  4.07350351e+01  6.36261686e+01\n",
      "  1.29520295e+02  1.00617513e+02  1.49855422e+02  2.22515765e+01\n",
      "  1.50442545e+02  1.90857133e+02  5.78589001e+01  2.16722622e+01\n",
      "  1.28277207e+02  3.81622374e+01  4.25925468e+01  1.76385804e+02\n",
      " -7.11915835e+00  4.07339011e+01  8.52241047e+01  8.65780023e+01\n",
      "  1.52902117e+02  1.02972667e+02  8.47588164e+01  6.99389971e+01\n",
      "  2.80710150e+01  6.09819659e+01  3.35552314e+01 -4.14193762e+01\n",
      "  1.33345069e+01  2.13578204e+02  5.53972918e+01  3.45695705e+01\n",
      "  8.38332254e+01  1.08377577e+02 -5.52887091e+01  2.39564187e+01\n",
      " -3.07393671e+01 -7.96258203e+00 -3.48632486e+01 -4.53053748e+01\n",
      "  2.36649273e+01  1.22659035e+02 -1.37385670e+00 -8.17141608e+01\n",
      " -8.42529340e+01 -3.08142896e+01 -8.80182824e+01 -2.07070912e+01\n",
      " -4.23237542e+01 -1.36009578e+02  5.84966829e+01  2.25990523e+01\n",
      "  5.71358094e+01 -4.22316628e+01 -6.16689391e+01 -5.42043333e+01\n",
      " -6.11818895e+01  7.63139538e+01  6.02378818e+01  3.95202787e-01\n",
      "  1.02719899e+01  1.25392762e+02  1.04695048e+02 -4.51704139e+00\n",
      " -6.73445659e+01 -9.39918065e+00  1.20118821e+01  8.19984890e+00\n",
      "  7.38853465e+01  5.34655831e+01  4.90800933e+01  8.10270610e+01\n",
      " -2.15464095e+01 -5.07212925e+01 -1.29792445e+01 -4.36794345e-01\n",
      "  2.00915381e+01 -5.48931340e+01  3.83599615e+01  7.33142185e+01\n",
      "  6.56605363e+01  4.22980123e+01 -8.15299849e+01 -2.29187673e+01\n",
      "  7.11217243e+01 -1.17572859e+01 -6.62982648e+01  3.88403375e+01\n",
      "  5.85862247e+01  1.66078148e+02  9.50886119e+00  5.87892933e+01\n",
      "  8.04222752e+01 -4.08463851e+01 -3.50450349e+01  4.19264284e+01\n",
      "  5.99892187e+01 -8.06870132e+01 -4.22560614e+01 -1.73861136e+01\n",
      " -2.42117424e+01  6.06200595e+01  2.76570020e+01 -7.67993158e+01\n",
      " -9.09677052e+01  3.55673012e+00  5.13195759e+01  5.31361244e+01\n",
      "  1.84859687e+01 -2.77174915e+01  6.56813684e-01  5.51111299e+01\n",
      "  5.90957504e+01  1.22946727e+01  2.77265230e+01  2.01684989e+01\n",
      " -1.23707331e+02  3.39868243e+01 -1.21560185e+01 -7.33644725e+01\n",
      "  2.96682534e+00 -2.62021913e+01 -5.90681495e+01 -1.00427433e+02\n",
      " -1.47892267e+01 -9.08251955e+01  5.32288241e+00 -8.68212396e+01\n",
      " -3.34765251e+01  6.95480189e+01 -2.23221748e-01 -9.32927779e+01\n",
      " -1.73556807e+00  3.20811222e+01  6.26875825e+01 -3.68058681e+01\n",
      " -1.11955925e+02 -8.80460649e+01 -1.31214558e+02  3.25249272e+01\n",
      "  8.78240842e+01  1.24122734e+02  5.98870625e+01  3.96561829e+01\n",
      " -9.09756221e+01 -6.26445782e+01  1.39194225e+01  5.75740830e+01\n",
      "  6.38789822e+01 -2.85594340e+01 -2.25102402e+01 -4.32287787e+01\n",
      " -1.50804383e+02  2.72636276e+00 -9.26034364e-01  7.92619818e+01\n",
      " -6.11074844e-01  6.55694318e+00 -1.11403424e+02  1.71255246e+01\n",
      " -6.31118389e+01 -1.67934750e+01  7.86829910e+01 -5.57221908e+01\n",
      " -7.39881378e+01 -2.18714295e+00  5.88035220e+01  5.69480491e+01\n",
      "  3.25954857e+01  7.26999709e+00  1.89529165e+01  4.92969314e-01\n",
      " -8.92821046e+00 -8.68866061e+01 -1.35047462e+01  4.59644812e+00\n",
      " -3.72532879e+01  3.27621968e+01  8.78063317e+01  2.86954804e+01\n",
      " -4.82017370e+01 -4.38188981e+00 -7.72914353e+01 -4.40766487e+01\n",
      " -1.19280476e+02 -5.27298443e+01 -1.11867517e+02  7.54977093e+01\n",
      "  1.58634585e+01  8.16822423e+01 -7.92215529e+01  4.02436162e+01\n",
      "  1.43565667e+02  4.58184579e+00  5.07698391e+01 -9.42105887e+01\n",
      " -1.05499469e+02 -1.93701205e+01 -7.17082551e+01 -4.15532904e+01\n",
      " -2.74874935e+01 -6.98541631e+01  6.43295369e+01 -2.99962485e+01\n",
      "  1.01327754e+02 -7.81296151e+00 -5.89355912e+01 -6.26958670e+01\n",
      " -1.32382636e+02 -2.45109326e+01  1.37030046e+02 -3.14052974e+01\n",
      " -5.53260065e+01  2.97363059e+00  4.00226811e+01 -2.11290868e+01\n",
      " -3.67418688e+01  1.04110266e+02 -4.90951095e+01 -5.35867813e+01\n",
      " -8.46395879e+00 -6.95915941e+00 -1.47399082e+01  2.15863180e+01\n",
      "  1.02697206e+01 -3.93929580e+01 -7.78415220e+01 -6.68374024e+01\n",
      "  9.21502134e+01  4.51996410e+00  4.71017294e+00 -3.07949639e+01\n",
      " -2.78946592e+01  2.57437183e+01 -3.03553206e+01  3.99170545e+01\n",
      " -5.05813326e+01  1.50007323e+01  3.19938060e+00 -1.99564970e+01\n",
      " -8.16020175e+01 -1.41651693e+02 -1.47437529e+01  1.63402777e+02\n",
      "  2.60876524e+00 -1.04983653e+02  4.16253371e+01 -2.79708409e+01\n",
      " -5.58040862e+01 -6.56370683e-01 -2.35180048e+01 -2.26377635e+01\n",
      "  1.03871548e+02  7.63670707e+01 -4.72800233e+01 -2.25791316e+01\n",
      "  5.32491543e+01 -4.52523683e+01 -2.23094535e+01 -5.72112842e+01\n",
      " -9.51078508e+01 -1.16668264e+02  2.05806902e+00 -4.16191067e+00\n",
      " -9.30231933e+01 -7.37442410e+01 -1.15044415e+02  1.57942209e+01\n",
      "  1.08137686e+01 -4.74678185e+01 -5.34125742e+01 -3.38208534e+01\n",
      " -5.87831514e+01  2.34818860e+01  2.36550661e+01 -1.28012426e+01\n",
      " -5.85612994e+00  2.48555475e+01  2.34304878e+01 -3.45072212e+01\n",
      " -4.92876772e+01 -2.84912874e+01 -1.26688173e+02 -1.00774220e+01\n",
      " -2.71898395e+01  2.68565736e-01  8.75642562e+01 -2.64580985e+01\n",
      " -2.16257472e+01 -9.20161678e+01 -9.82631473e+01 -7.47469989e+01\n",
      "  1.00430549e+01  2.11476335e+00  3.40786744e+01  2.32690900e+01\n",
      " -4.68824591e+01 -1.50974189e+01 -2.36468107e+01  6.12547260e+00\n",
      "  4.27329685e+01 -9.37226921e+00 -1.73479695e+01 -6.67998738e+01]\n"
     ]
    }
   ],
   "source": [
    "# xdata = np.arange(-(res_reg[1]-res_reg[0])/2,(res_reg[1]-res_reg[0])/2,1)\n",
    "# print(xdata)\n",
    "ydata = ON_bgsub[1][0][bg_reg1[1]-bg_reg1[0]:bg_reg2[0]-bg_reg1[0]]\n",
    "print(ydata)"
   ]
  },
  {
   "cell_type": "code",
   "execution_count": 104,
   "metadata": {},
   "outputs": [],
   "source": [
    "def rebin(ys, xs, rebinfactor):\n",
    "    outys = ys.reshape(-1, rebinfactor).mean(axis=1)\n",
    "    outxs = xs.reshape(-1, rebinfactor).mean(axis=1)\n",
    "    return outys, outxs\n"
   ]
  },
  {
   "cell_type": "code",
   "execution_count": 131,
   "metadata": {},
   "outputs": [
    {
     "name": "stdout",
     "output_type": "stream",
     "text": [
      "[ 0.0873466  -0.0919887   1.96389844  7.44750923]\n",
      "[[ 8.89759935e-05 -2.26564729e-04 -4.01927223e-07 -9.05641503e-03]\n",
      " [-2.26564729e-04  6.16495051e-04  1.04978569e-06  2.69557047e-02]\n",
      " [-4.01927223e-07  1.04978569e-06  8.92940524e-06  4.13137325e-05]\n",
      " [-9.05641503e-03  2.69557047e-02  4.13137325e-05  1.41657171e+00]]\n"
     ]
    }
   ],
   "source": [
    "def voigt2(x, sig, gam, xshift, amp):\n",
    "    fit = voigt_profile(x-xshift, sig, gam)*amp\n",
    "    return fit\n",
    "\n",
    "popt, pcov = curve_fit(voigt2, xdata, ydata)\n",
    "print(popt)\n",
    "print(pcov)\n",
    "\n",
    "fitted_curve = voigt2(xdata, popt[0],popt[1],popt[2],popt[3],)\n",
    "\n",
    "rebinf = 4\n",
    "rawdat_rebin, xs_cut_rebin = rebin(ydata, xdata, rebinf)"
   ]
  },
  {
   "cell_type": "code",
   "execution_count": 138,
   "metadata": {},
   "outputs": [],
   "source": [
    "## plotting voigt fit ##\n",
    "\n",
    "# plt.plot(xs_cut[1]*1e-6, ON_sums[1][0], lw = '1.0')\n",
    "\n",
    "# plt.plot(xdata, voigt, label = 'manual fit')\n",
    "\n",
    "fitted_curve = voigt2(xdata, popt[0],popt[1],popt[2],popt[3],)\n",
    "plt.plot(xdata, fitted_curve, label = rf\"Voigt fit, $\\sigma={round(popt[0],2)},\\, \\gamma={round(popt[1],2)}$\")\n",
    "\n",
    "rebinf = 2\n",
    "rawdat_rebin, xs_cut_rebin = rebin(ydata, xdata, rebinf)\n",
    "\n",
    "# plt.plot(xdata,ydata, label = r'rawdata')\n",
    "plt.plot(xs_cut_rebin,rawdat_rebin, label = rf'rawdata, rebin {rebinf}')\n",
    "\n",
    "plt.title('Fits to background (On sums, 160 pulses in 1 sequence)') \n",
    "plt.xlabel(\"tof (ms)\")\n",
    "plt.ylabel(\"Counts (arbitrary)\")\n",
    "plt.xlabel(\"tof (ms)\", fontsize = '12')\n",
    "plt.ylabel(\"ADC\", fontsize = '12')\n",
    "plt.legend()\n",
    "plt.show()\n",
    "plt.legend()\n",
    "plt.show()"
   ]
  },
  {
   "cell_type": "code",
   "execution_count": 122,
   "metadata": {},
   "outputs": [],
   "source": [
    "## more plotting ##\n",
    "\n",
    "plt.plot(xs_cut[1]*1e-6, ON_sums[1][0], lw = '1.0')\n",
    "\n",
    "# plt.plot(xdata, voigt, label = 'manual fit')\n",
    "\n",
    "fitted_curve = voigt2(xdata, popt[0],popt[1],popt[2],popt[3],)\n",
    "plt.plot(xdata, fitted_curve, label = rf\"Voigt fit, $\\sigma={round(popt[0],2)},\\, \\gamma={round(popt[1],2)}$\")\n",
    "\n",
    "rebinf = 4\n",
    "rawdat_rebin, xs_cut_rebin = rebin(ydata, xdata, rebinf)\n",
    "\n",
    "# plt.plot(xdata,ydata, label = r'rawdata')\n",
    "plt.plot(xs_cut_rebin,rawdat_rebin, label = rf'rawdata for voigt fit, rebin {rebinf}')\n",
    "\n",
    "plt.axhline(y=0, ls = '--', lw = '0.5')\n",
    "plt.title('Voigt fit to background (On sums, 160 pulses in 1 sequence)') \n",
    "plt.xlabel(\"tof (ms)\")\n",
    "plt.ylabel(\"Counts (arbitrary)\")\n",
    "plt.xlabel(\"tof (ms)\", fontsize = '12')\n",
    "plt.ylabel(\"ADC\", fontsize = '12')\n",
    "plt.legend()\n",
    "plt.show()\n",
    "plt.legend()\n",
    "plt.show()"
   ]
  },
  {
   "cell_type": "code",
   "execution_count": 130,
   "metadata": {},
   "outputs": [],
   "source": [
    "## more more plotting ##\n",
    "\n",
    "plt.plot(xs_cut[1]*1e-6, ON_sums[1][0], lw = '1.0')\n",
    "\n",
    "rebinf = 4\n",
    "rawdat_rebin, xs_cut_rebin = rebin(ydata, xdata, rebinf)\n",
    "ys_region_rebin, xs_region_rebin = rebin(bgsubtracted2[3:], xs_bg_reg[3:], rebinf)\n",
    "\n",
    "\n",
    "# plt.plot(xs_bg_reg, bgsubtracted2, color = 'orange', lw = '1.0', label='2nd Order polynomial background subtracted')\n",
    "plt.plot(xs_region_rebin, ys_region_rebin, color = 'orange', lw = '1.0', label='2nd Order polynomial background subtracted')\n",
    "plt.plot(xs_cut_rebin,rawdat_rebin, label = rf'rawdata for voigt fit, rebin {rebinf}', color = 'g')\n",
    "\n",
    "# plt.plot(xdata, voigt, label = 'manual fit')\n",
    "\n",
    "# plt.plot(xdata,ydata, label = r'rawdata')\n",
    "\n",
    "fitted_curve = voigt2(xdata, popt[0],popt[1],popt[2],popt[3],)\n",
    "plt.plot(xdata, fitted_curve, label = rf\"Voigt fit, $\\sigma={round(popt[0],2)},\\, \\gamma={round(popt[1],2)}$\", color = 'r')\n",
    "\n",
    "plt.axhline(y=0, ls = '--', lw = '0.5')\n",
    "plt.title('Voigt fit to background (On sums, 160 pulses in 1 sequence)') \n",
    "plt.xlabel(\"tof (ms)\")\n",
    "plt.ylabel(\"Counts (arbitrary)\")\n",
    "plt.xlabel(\"tof (ms)\", fontsize = '12')\n",
    "plt.ylabel(\"ADC\", fontsize = '12')\n",
    "plt.legend()\n",
    "plt.show()\n",
    "plt.legend()\n",
    "plt.show()"
   ]
  },
  {
   "cell_type": "code",
   "execution_count": 137,
   "metadata": {},
   "outputs": [
    {
     "name": "stdout",
     "output_type": "stream",
     "text": [
      "101.14246629700477\n",
      "-16.478186809814233\n",
      "20014.35237426118\n"
     ]
    }
   ],
   "source": [
    "# print(fitted_curve)\n",
    "print(max(fitted_curve))\n",
    "print(min(fitted_curve))\n",
    "\n",
    "print(sum(fitted_curve))"
   ]
  },
  {
   "cell_type": "code",
   "execution_count": null,
   "metadata": {},
   "outputs": [],
   "source": []
  },
  {
   "cell_type": "code",
   "execution_count": null,
   "metadata": {},
   "outputs": [],
   "source": []
  },
  {
   "cell_type": "code",
   "execution_count": null,
   "metadata": {},
   "outputs": [],
   "source": []
  },
  {
   "cell_type": "code",
   "execution_count": 67,
   "metadata": {},
   "outputs": [
    {
     "name": "stdout",
     "output_type": "stream",
     "text": [
      "1270\n",
      "2070\n",
      "4811\n",
      "800\n",
      "800\n"
     ]
    },
    {
     "ename": "ValueError",
     "evalue": "callable <ufunc 'voigt_profile'> is not supported by signature",
     "output_type": "error",
     "traceback": [
      "\u001b[1;31m---------------------------------------------------------------------------\u001b[0m",
      "\u001b[1;31mValueError\u001b[0m                                Traceback (most recent call last)",
      "\u001b[1;32m~\\AppData\\Local\\Temp\\ipykernel_13368\\859810942.py\u001b[0m in \u001b[0;36m<module>\u001b[1;34m\u001b[0m\n\u001b[0;32m     37\u001b[0m \u001b[0mplt\u001b[0m\u001b[1;33m.\u001b[0m\u001b[0mplot\u001b[0m\u001b[1;33m(\u001b[0m\u001b[0mxdata\u001b[0m\u001b[1;33m,\u001b[0m\u001b[0mydata\u001b[0m\u001b[1;33m)\u001b[0m\u001b[1;33m\u001b[0m\u001b[1;33m\u001b[0m\u001b[0m\n\u001b[0;32m     38\u001b[0m \u001b[0mplt\u001b[0m\u001b[1;33m.\u001b[0m\u001b[0mshow\u001b[0m\u001b[1;33m(\u001b[0m\u001b[1;33m)\u001b[0m\u001b[1;33m\u001b[0m\u001b[1;33m\u001b[0m\u001b[0m\n\u001b[1;32m---> 39\u001b[1;33m \u001b[0mpopt\u001b[0m\u001b[1;33m,\u001b[0m \u001b[0mpcov\u001b[0m \u001b[1;33m=\u001b[0m \u001b[0mcurve_fit\u001b[0m\u001b[1;33m(\u001b[0m\u001b[0mvoigt_profile\u001b[0m\u001b[1;33m,\u001b[0m \u001b[0mxdata\u001b[0m\u001b[1;33m,\u001b[0m \u001b[0mydata\u001b[0m\u001b[1;33m)\u001b[0m\u001b[1;33m\u001b[0m\u001b[1;33m\u001b[0m\u001b[0m\n\u001b[0m\u001b[0;32m     40\u001b[0m \u001b[0mplt\u001b[0m\u001b[1;33m.\u001b[0m\u001b[0mplot\u001b[0m\u001b[1;33m(\u001b[0m\u001b[0mxs_cut\u001b[0m\u001b[1;33m[\u001b[0m\u001b[1;36m1\u001b[0m\u001b[1;33m]\u001b[0m\u001b[1;33m[\u001b[0m\u001b[0mbg_reg1\u001b[0m\u001b[1;33m[\u001b[0m\u001b[1;36m1\u001b[0m\u001b[1;33m]\u001b[0m\u001b[1;33m:\u001b[0m\u001b[1;36m6250\u001b[0m\u001b[1;33m]\u001b[0m\u001b[1;33m,\u001b[0m \u001b[0mON_sums\u001b[0m\u001b[1;33m[\u001b[0m\u001b[1;36m1\u001b[0m\u001b[1;33m]\u001b[0m\u001b[1;33m[\u001b[0m\u001b[1;36m0\u001b[0m\u001b[1;33m]\u001b[0m\u001b[1;33m[\u001b[0m\u001b[0mbg_reg1\u001b[0m\u001b[1;33m[\u001b[0m\u001b[1;36m1\u001b[0m\u001b[1;33m]\u001b[0m\u001b[1;33m:\u001b[0m\u001b[1;36m6250\u001b[0m\u001b[1;33m]\u001b[0m\u001b[1;33m,\u001b[0m \u001b[0mlabel\u001b[0m\u001b[1;33m=\u001b[0m\u001b[1;34m\"input data\"\u001b[0m\u001b[1;33m)\u001b[0m\u001b[1;33m\u001b[0m\u001b[1;33m\u001b[0m\u001b[0m\n\u001b[0;32m     41\u001b[0m \u001b[0mplt\u001b[0m\u001b[1;33m.\u001b[0m\u001b[0mplot\u001b[0m\u001b[1;33m(\u001b[0m\u001b[0mxdata\u001b[0m\u001b[1;33m,\u001b[0m \u001b[0mvoigt\u001b[0m\u001b[1;33m)\u001b[0m\u001b[1;33m\u001b[0m\u001b[1;33m\u001b[0m\u001b[0m\n",
      "\u001b[1;32m~\\anaconda3\\lib\\site-packages\\scipy\\optimize\\_minpack_py.py\u001b[0m in \u001b[0;36mcurve_fit\u001b[1;34m(f, xdata, ydata, p0, sigma, absolute_sigma, check_finite, bounds, method, jac, full_output, **kwargs)\u001b[0m\n\u001b[0;32m    752\u001b[0m     \u001b[1;32mif\u001b[0m \u001b[0mp0\u001b[0m \u001b[1;32mis\u001b[0m \u001b[1;32mNone\u001b[0m\u001b[1;33m:\u001b[0m\u001b[1;33m\u001b[0m\u001b[1;33m\u001b[0m\u001b[0m\n\u001b[0;32m    753\u001b[0m         \u001b[1;31m# determine number of parameters by inspecting the function\u001b[0m\u001b[1;33m\u001b[0m\u001b[1;33m\u001b[0m\u001b[0m\n\u001b[1;32m--> 754\u001b[1;33m         \u001b[0msig\u001b[0m \u001b[1;33m=\u001b[0m \u001b[0m_getfullargspec\u001b[0m\u001b[1;33m(\u001b[0m\u001b[0mf\u001b[0m\u001b[1;33m)\u001b[0m\u001b[1;33m\u001b[0m\u001b[1;33m\u001b[0m\u001b[0m\n\u001b[0m\u001b[0;32m    755\u001b[0m         \u001b[0margs\u001b[0m \u001b[1;33m=\u001b[0m \u001b[0msig\u001b[0m\u001b[1;33m.\u001b[0m\u001b[0margs\u001b[0m\u001b[1;33m\u001b[0m\u001b[1;33m\u001b[0m\u001b[0m\n\u001b[0;32m    756\u001b[0m         \u001b[1;32mif\u001b[0m \u001b[0mlen\u001b[0m\u001b[1;33m(\u001b[0m\u001b[0margs\u001b[0m\u001b[1;33m)\u001b[0m \u001b[1;33m<\u001b[0m \u001b[1;36m2\u001b[0m\u001b[1;33m:\u001b[0m\u001b[1;33m\u001b[0m\u001b[1;33m\u001b[0m\u001b[0m\n",
      "\u001b[1;32m~\\anaconda3\\lib\\site-packages\\scipy\\_lib\\_util.py\u001b[0m in \u001b[0;36mgetfullargspec_no_self\u001b[1;34m(func)\u001b[0m\n\u001b[0;32m    362\u001b[0m \u001b[1;33m\u001b[0m\u001b[0m\n\u001b[0;32m    363\u001b[0m     \"\"\"\n\u001b[1;32m--> 364\u001b[1;33m     \u001b[0msig\u001b[0m \u001b[1;33m=\u001b[0m \u001b[0minspect\u001b[0m\u001b[1;33m.\u001b[0m\u001b[0msignature\u001b[0m\u001b[1;33m(\u001b[0m\u001b[0mfunc\u001b[0m\u001b[1;33m)\u001b[0m\u001b[1;33m\u001b[0m\u001b[1;33m\u001b[0m\u001b[0m\n\u001b[0m\u001b[0;32m    365\u001b[0m     args = [\n\u001b[0;32m    366\u001b[0m         \u001b[0mp\u001b[0m\u001b[1;33m.\u001b[0m\u001b[0mname\u001b[0m \u001b[1;32mfor\u001b[0m \u001b[0mp\u001b[0m \u001b[1;32min\u001b[0m \u001b[0msig\u001b[0m\u001b[1;33m.\u001b[0m\u001b[0mparameters\u001b[0m\u001b[1;33m.\u001b[0m\u001b[0mvalues\u001b[0m\u001b[1;33m(\u001b[0m\u001b[1;33m)\u001b[0m\u001b[1;33m\u001b[0m\u001b[1;33m\u001b[0m\u001b[0m\n",
      "\u001b[1;32m~\\anaconda3\\lib\\inspect.py\u001b[0m in \u001b[0;36msignature\u001b[1;34m(obj, follow_wrapped)\u001b[0m\n\u001b[0;32m   3111\u001b[0m \u001b[1;32mdef\u001b[0m \u001b[0msignature\u001b[0m\u001b[1;33m(\u001b[0m\u001b[0mobj\u001b[0m\u001b[1;33m,\u001b[0m \u001b[1;33m*\u001b[0m\u001b[1;33m,\u001b[0m \u001b[0mfollow_wrapped\u001b[0m\u001b[1;33m=\u001b[0m\u001b[1;32mTrue\u001b[0m\u001b[1;33m)\u001b[0m\u001b[1;33m:\u001b[0m\u001b[1;33m\u001b[0m\u001b[1;33m\u001b[0m\u001b[0m\n\u001b[0;32m   3112\u001b[0m     \u001b[1;34m\"\"\"Get a signature object for the passed callable.\"\"\"\u001b[0m\u001b[1;33m\u001b[0m\u001b[1;33m\u001b[0m\u001b[0m\n\u001b[1;32m-> 3113\u001b[1;33m     \u001b[1;32mreturn\u001b[0m \u001b[0mSignature\u001b[0m\u001b[1;33m.\u001b[0m\u001b[0mfrom_callable\u001b[0m\u001b[1;33m(\u001b[0m\u001b[0mobj\u001b[0m\u001b[1;33m,\u001b[0m \u001b[0mfollow_wrapped\u001b[0m\u001b[1;33m=\u001b[0m\u001b[0mfollow_wrapped\u001b[0m\u001b[1;33m)\u001b[0m\u001b[1;33m\u001b[0m\u001b[1;33m\u001b[0m\u001b[0m\n\u001b[0m\u001b[0;32m   3114\u001b[0m \u001b[1;33m\u001b[0m\u001b[0m\n\u001b[0;32m   3115\u001b[0m \u001b[1;33m\u001b[0m\u001b[0m\n",
      "\u001b[1;32m~\\anaconda3\\lib\\inspect.py\u001b[0m in \u001b[0;36mfrom_callable\u001b[1;34m(cls, obj, follow_wrapped)\u001b[0m\n\u001b[0;32m   2860\u001b[0m     \u001b[1;32mdef\u001b[0m \u001b[0mfrom_callable\u001b[0m\u001b[1;33m(\u001b[0m\u001b[0mcls\u001b[0m\u001b[1;33m,\u001b[0m \u001b[0mobj\u001b[0m\u001b[1;33m,\u001b[0m \u001b[1;33m*\u001b[0m\u001b[1;33m,\u001b[0m \u001b[0mfollow_wrapped\u001b[0m\u001b[1;33m=\u001b[0m\u001b[1;32mTrue\u001b[0m\u001b[1;33m)\u001b[0m\u001b[1;33m:\u001b[0m\u001b[1;33m\u001b[0m\u001b[1;33m\u001b[0m\u001b[0m\n\u001b[0;32m   2861\u001b[0m         \u001b[1;34m\"\"\"Constructs Signature for the given callable object.\"\"\"\u001b[0m\u001b[1;33m\u001b[0m\u001b[1;33m\u001b[0m\u001b[0m\n\u001b[1;32m-> 2862\u001b[1;33m         return _signature_from_callable(obj, sigcls=cls,\n\u001b[0m\u001b[0;32m   2863\u001b[0m                                         follow_wrapper_chains=follow_wrapped)\n\u001b[0;32m   2864\u001b[0m \u001b[1;33m\u001b[0m\u001b[0m\n",
      "\u001b[1;32m~\\anaconda3\\lib\\inspect.py\u001b[0m in \u001b[0;36m_signature_from_callable\u001b[1;34m(obj, follow_wrapper_chains, skip_bound_arg, sigcls)\u001b[0m\n\u001b[0;32m   2424\u001b[0m         \u001b[1;32mraise\u001b[0m \u001b[0mValueError\u001b[0m\u001b[1;33m(\u001b[0m\u001b[0mmsg\u001b[0m\u001b[1;33m)\u001b[0m\u001b[1;33m\u001b[0m\u001b[1;33m\u001b[0m\u001b[0m\n\u001b[0;32m   2425\u001b[0m \u001b[1;33m\u001b[0m\u001b[0m\n\u001b[1;32m-> 2426\u001b[1;33m     \u001b[1;32mraise\u001b[0m \u001b[0mValueError\u001b[0m\u001b[1;33m(\u001b[0m\u001b[1;34m'callable {!r} is not supported by signature'\u001b[0m\u001b[1;33m.\u001b[0m\u001b[0mformat\u001b[0m\u001b[1;33m(\u001b[0m\u001b[0mobj\u001b[0m\u001b[1;33m)\u001b[0m\u001b[1;33m)\u001b[0m\u001b[1;33m\u001b[0m\u001b[1;33m\u001b[0m\u001b[0m\n\u001b[0m\u001b[0;32m   2427\u001b[0m \u001b[1;33m\u001b[0m\u001b[0m\n\u001b[0;32m   2428\u001b[0m \u001b[1;33m\u001b[0m\u001b[0m\n",
      "\u001b[1;31mValueError\u001b[0m: callable <ufunc 'voigt_profile'> is not supported by signature"
     ]
    }
   ],
   "source": [
    "from scipy.special import voigt_profile\n",
    "from scipy.optimize import curve_fit\n",
    "Resregion_beg = 5450\n",
    "Resregion_end = 6250\n",
    "Resreg = [Resregion_beg,Resregion_end]\n",
    "# voigt_profile(2, 1., 1.)\n",
    "# fig, ax = plt.subplots(figsize=(8, 8))\n",
    "# x = np.linspace(-10, 10, 500)\n",
    "# parameters_list = [(1.5, 0., \"solid\"), (1.3, 0.5, \"dashed\"),\n",
    "#                    (0., 1.8, \"dotted\"), (1., 1., \"dashdot\")]\n",
    "# for params in parameters_list:\n",
    "#     sigma, gamma, linestyle = params\n",
    "#     voigt = voigt_profile(x, sigma, gamma)\n",
    "#     ax.plot(x, voigt, label=rf\"$\\sigma={sigma},\\, \\gamma={gamma}$\",\n",
    "#             ls=linestyle)\n",
    "sigma = 60\n",
    "gamma = 30\n",
    "beg = 5800\n",
    "end = 5900\n",
    "print(bg_reg1[1]-bg_reg1[0])\n",
    "print(bg_reg2[0]-bg_reg1[0])\n",
    "print(len(ON_bgsub[1][0]))\n",
    "# xdata = xs_cut[1][bg_reg1[0]:bg_reg2[1]]*1e-6\n",
    "# xdata = np.arange(Resreg[0],Resreg[1],1)\n",
    "xdata = np.arange(-(Resreg[1]-Resreg[0])/2,(Resreg[1]-Resreg[0])/2,1)\n",
    "# print(xdata[380:420])\n",
    "print(len(xdata))\n",
    "# ydata = ON_sums[1][0][bg_reg1[1]:6250]\n",
    "# xdata = xs_cut[1][beg:end]\n",
    "# ydata = ON_sums[1][0][beg:end]\n",
    "ydata = ON_bgsub[1][0][bg_reg1[1]-bg_reg1[0]:bg_reg2[0]-bg_reg1[0]]\n",
    "print(len(ydata))\n",
    "\n",
    "voigt = voigt_profile(xdata, sigma, gamma)*30000\n",
    "# print(voigt)\n",
    "plt.plot(xdata, voigt)\n",
    "plt.plot(xdata,ydata)\n",
    "plt.show()\n",
    "popt, pcov = curve_fit(voigt_profile, xdata, ydata)\n",
    "plt.plot(xs_cut[1][bg_reg1[1]:6250], ON_sums[1][0][bg_reg1[1]:6250], label=\"input data\")\n",
    "plt.plot(xdata, voigt)\n",
    "popt, pcov = curve_fit(voigt, xdata, ydata)\n",
    "\n",
    "# popt\n",
    "# array([2.56274217, 1.37268521, 0.47427475])\n",
    "\n",
    "# plt.plot(xdata, func(xdata, *popt), 'r-',\n",
    "\n",
    "#          label='fit: a=%5.3f, b=%5.3f, c=%5.3f' % tuple(popt))"
   ]
  },
  {
   "cell_type": "markdown",
   "metadata": {},
   "source": [
    "all_ONOFF = np.zeros((len(ON_sums),2, len(ON_sums[0][0])), dtype=np.float64) ## all summed ON[0] and OFF[1] pulses for each channel, not each sequence\n",
    "\n",
    "def all_onoff(ON_arr, OFF_arr):\n",
    "    tempallON = np.zeros((len(ON_arr[0])), dtype=np.float64)\n",
    "    tempallOFF = np.zeros((len(ON_arr[0])), dtype=np.float64)\n",
    "    for seq in range(0, len(ON_arr)): ## number of sequences\n",
    "        tempallON = np.add(ON_arr[seq],tempallON)\n",
    "        tempallOFF = np.add(OFF_arr[seq],tempallOFF)\n",
    "    return tempallON, tempallOFF\n",
    "\n",
    "for i in range(len(ON_sums)):\n",
    "    all_ONOFF[i][0], all_ONOFF[i][1] = all_onoff(ON_sums[i], OFF_sums[i]) ## channel, ON[0] or OFF[1], summed wave\n",
    "    # print('ch done')"
   ]
  },
  {
   "cell_type": "code",
   "execution_count": 16,
   "metadata": {},
   "outputs": [
    {
     "name": "stdout",
     "output_type": "stream",
     "text": [
      "13\n",
      "13\n",
      "8992\n",
      "13\n",
      "2\n",
      "8992\n"
     ]
    }
   ],
   "source": [
    "print(len(ON_sums))\n",
    "print(len(ON_sums[0]))\n",
    "print(len(ON_sums[0][0]))\n",
    "print(len(all_ONOFF))\n",
    "print(len(all_ONOFF[0]))\n",
    "print(len(all_ONOFF[0][0]))"
   ]
  },
  {
   "cell_type": "code",
   "execution_count": 17,
   "metadata": {},
   "outputs": [
    {
     "ename": "FileNotFoundError",
     "evalue": "[Errno 2] Unable to create file (unable to open file: name = 'F:\\LANL/processed_data/debug_sample/runs12034-12363/ONOFF_D/12036_ONOFF_D.h5', errno = 2, error message = 'No such file or directory', flags = 13, o_flags = 302)",
     "output_type": "error",
     "traceback": [
      "\u001b[1;31m---------------------------------------------------------------------------\u001b[0m",
      "\u001b[1;31mFileNotFoundError\u001b[0m                         Traceback (most recent call last)",
      "\u001b[1;32m~\\AppData\\Local\\Temp\\ipykernel_10384\\1013525241.py\u001b[0m in \u001b[0;36m<module>\u001b[1;34m\u001b[0m\n\u001b[0;32m      2\u001b[0m \u001b[1;31m# testch = 0\u001b[0m\u001b[1;33m\u001b[0m\u001b[1;33m\u001b[0m\u001b[0m\n\u001b[0;32m      3\u001b[0m \u001b[1;33m\u001b[0m\u001b[0m\n\u001b[1;32m----> 4\u001b[1;33m \u001b[1;32mwith\u001b[0m \u001b[0mh5py\u001b[0m\u001b[1;33m.\u001b[0m\u001b[0mFile\u001b[0m\u001b[1;33m(\u001b[0m\u001b[0mONOFFSavename\u001b[0m\u001b[1;33m+\u001b[0m\u001b[1;34m'.h5'\u001b[0m\u001b[1;33m,\u001b[0m \u001b[1;34m'w'\u001b[0m\u001b[1;33m)\u001b[0m \u001b[1;32mas\u001b[0m \u001b[0mhdf5_file\u001b[0m\u001b[1;33m:\u001b[0m\u001b[1;33m\u001b[0m\u001b[1;33m\u001b[0m\u001b[0m\n\u001b[0m\u001b[0;32m      5\u001b[0m \u001b[1;31m#     hdf5_file.create_dataset('ch '+str(np.char.zfill(str(chan_enab[0]), 2)), data=all_ONOFF[0], compression=\"gzip\")\u001b[0m\u001b[1;33m\u001b[0m\u001b[1;33m\u001b[0m\u001b[0m\n\u001b[0;32m      6\u001b[0m \u001b[1;31m#     hdf5_file.create_dataset('ch '+str(np.char.zfill(str(chan_enab[0]), 2)), data=all_ONOFF[0])\u001b[0m\u001b[1;33m\u001b[0m\u001b[1;33m\u001b[0m\u001b[0m\n",
      "\u001b[1;32m~\\anaconda3\\lib\\site-packages\\h5py\\_hl\\files.py\u001b[0m in \u001b[0;36m__init__\u001b[1;34m(self, name, mode, driver, libver, userblock_size, swmr, rdcc_nslots, rdcc_nbytes, rdcc_w0, track_order, fs_strategy, fs_persist, fs_threshold, fs_page_size, page_buf_size, min_meta_keep, min_raw_keep, locking, alignment_threshold, alignment_interval, **kwds)\u001b[0m\n\u001b[0;32m    531\u001b[0m                                  \u001b[0mfs_persist\u001b[0m\u001b[1;33m=\u001b[0m\u001b[0mfs_persist\u001b[0m\u001b[1;33m,\u001b[0m \u001b[0mfs_threshold\u001b[0m\u001b[1;33m=\u001b[0m\u001b[0mfs_threshold\u001b[0m\u001b[1;33m,\u001b[0m\u001b[1;33m\u001b[0m\u001b[1;33m\u001b[0m\u001b[0m\n\u001b[0;32m    532\u001b[0m                                  fs_page_size=fs_page_size)\n\u001b[1;32m--> 533\u001b[1;33m                 \u001b[0mfid\u001b[0m \u001b[1;33m=\u001b[0m \u001b[0mmake_fid\u001b[0m\u001b[1;33m(\u001b[0m\u001b[0mname\u001b[0m\u001b[1;33m,\u001b[0m \u001b[0mmode\u001b[0m\u001b[1;33m,\u001b[0m \u001b[0muserblock_size\u001b[0m\u001b[1;33m,\u001b[0m \u001b[0mfapl\u001b[0m\u001b[1;33m,\u001b[0m \u001b[0mfcpl\u001b[0m\u001b[1;33m,\u001b[0m \u001b[0mswmr\u001b[0m\u001b[1;33m=\u001b[0m\u001b[0mswmr\u001b[0m\u001b[1;33m)\u001b[0m\u001b[1;33m\u001b[0m\u001b[1;33m\u001b[0m\u001b[0m\n\u001b[0m\u001b[0;32m    534\u001b[0m \u001b[1;33m\u001b[0m\u001b[0m\n\u001b[0;32m    535\u001b[0m             \u001b[1;32mif\u001b[0m \u001b[0misinstance\u001b[0m\u001b[1;33m(\u001b[0m\u001b[0mlibver\u001b[0m\u001b[1;33m,\u001b[0m \u001b[0mtuple\u001b[0m\u001b[1;33m)\u001b[0m\u001b[1;33m:\u001b[0m\u001b[1;33m\u001b[0m\u001b[1;33m\u001b[0m\u001b[0m\n",
      "\u001b[1;32m~\\anaconda3\\lib\\site-packages\\h5py\\_hl\\files.py\u001b[0m in \u001b[0;36mmake_fid\u001b[1;34m(name, mode, userblock_size, fapl, fcpl, swmr)\u001b[0m\n\u001b[0;32m    230\u001b[0m         \u001b[0mfid\u001b[0m \u001b[1;33m=\u001b[0m \u001b[0mh5f\u001b[0m\u001b[1;33m.\u001b[0m\u001b[0mcreate\u001b[0m\u001b[1;33m(\u001b[0m\u001b[0mname\u001b[0m\u001b[1;33m,\u001b[0m \u001b[0mh5f\u001b[0m\u001b[1;33m.\u001b[0m\u001b[0mACC_EXCL\u001b[0m\u001b[1;33m,\u001b[0m \u001b[0mfapl\u001b[0m\u001b[1;33m=\u001b[0m\u001b[0mfapl\u001b[0m\u001b[1;33m,\u001b[0m \u001b[0mfcpl\u001b[0m\u001b[1;33m=\u001b[0m\u001b[0mfcpl\u001b[0m\u001b[1;33m)\u001b[0m\u001b[1;33m\u001b[0m\u001b[1;33m\u001b[0m\u001b[0m\n\u001b[0;32m    231\u001b[0m     \u001b[1;32melif\u001b[0m \u001b[0mmode\u001b[0m \u001b[1;33m==\u001b[0m \u001b[1;34m'w'\u001b[0m\u001b[1;33m:\u001b[0m\u001b[1;33m\u001b[0m\u001b[1;33m\u001b[0m\u001b[0m\n\u001b[1;32m--> 232\u001b[1;33m         \u001b[0mfid\u001b[0m \u001b[1;33m=\u001b[0m \u001b[0mh5f\u001b[0m\u001b[1;33m.\u001b[0m\u001b[0mcreate\u001b[0m\u001b[1;33m(\u001b[0m\u001b[0mname\u001b[0m\u001b[1;33m,\u001b[0m \u001b[0mh5f\u001b[0m\u001b[1;33m.\u001b[0m\u001b[0mACC_TRUNC\u001b[0m\u001b[1;33m,\u001b[0m \u001b[0mfapl\u001b[0m\u001b[1;33m=\u001b[0m\u001b[0mfapl\u001b[0m\u001b[1;33m,\u001b[0m \u001b[0mfcpl\u001b[0m\u001b[1;33m=\u001b[0m\u001b[0mfcpl\u001b[0m\u001b[1;33m)\u001b[0m\u001b[1;33m\u001b[0m\u001b[1;33m\u001b[0m\u001b[0m\n\u001b[0m\u001b[0;32m    233\u001b[0m     \u001b[1;32melif\u001b[0m \u001b[0mmode\u001b[0m \u001b[1;33m==\u001b[0m \u001b[1;34m'a'\u001b[0m\u001b[1;33m:\u001b[0m\u001b[1;33m\u001b[0m\u001b[1;33m\u001b[0m\u001b[0m\n\u001b[0;32m    234\u001b[0m         \u001b[1;31m# Open in append mode (read/write).\u001b[0m\u001b[1;33m\u001b[0m\u001b[1;33m\u001b[0m\u001b[0m\n",
      "\u001b[1;32mh5py\\_objects.pyx\u001b[0m in \u001b[0;36mh5py._objects.with_phil.wrapper\u001b[1;34m()\u001b[0m\n",
      "\u001b[1;32mh5py\\_objects.pyx\u001b[0m in \u001b[0;36mh5py._objects.with_phil.wrapper\u001b[1;34m()\u001b[0m\n",
      "\u001b[1;32mh5py\\h5f.pyx\u001b[0m in \u001b[0;36mh5py.h5f.create\u001b[1;34m()\u001b[0m\n",
      "\u001b[1;31mFileNotFoundError\u001b[0m: [Errno 2] Unable to create file (unable to open file: name = 'F:\\LANL/processed_data/debug_sample/runs12034-12363/ONOFF_D/12036_ONOFF_D.h5', errno = 2, error message = 'No such file or directory', flags = 13, o_flags = 302)"
     ]
    }
   ],
   "source": [
    "start = time.time()\n",
    "# testch = 0\n",
    "\n",
    "with h5py.File(ONOFFSavename+'.h5', 'w') as hdf5_file:\n",
    "#     hdf5_file.create_dataset('ch '+str(np.char.zfill(str(chan_enab[0]), 2)), data=all_ONOFF[0], compression=\"gzip\")\n",
    "#     hdf5_file.create_dataset('ch '+str(np.char.zfill(str(chan_enab[0]), 2)), data=all_ONOFF[0])\n",
    "    hdf5_file.create_dataset('xs ', data=xs_cut[0]) ## all xs are the same, even though they are per channel...\n",
    "    hdf5_file.attrs['sequences'] = len(sequence[0])\n",
    "    hdf5_file.attrs['rownames'] = ['ON_Row0', 'OFF_Row1']\n",
    "    for i in range(0,len(ys_cut)):\n",
    "#         with h5py.File('test_allONOFFs'+'.h5', 'a') as hdf5_file:\n",
    "#         hdf5_file.create_dataset('ch '+str(np.char.zfill(str(chan_enab[i]), 2)), data=all_ONOFF[i], compression=\"gzip\")\n",
    "        hdf5_file.create_dataset('ch '+str(np.char.zfill(str(chan_enab[i]), 2)), data=all_ONOFF[i])\n",
    "#     a = hdf5_file.create_dataset('ch '+str(np.char.zfill(str(chan_enab[0]), 2)), data=all_ONOFF[0])\n",
    "#     a.attrs['rownames'] = ['ON_Row0', 'OFF_Row1']\n",
    "#     a.attrs['sequences'] = len(sequence[0])\n",
    "        \n",
    "end = time.time()\n",
    "print('saving hdf5: ' + str(end-start))    "
   ]
  },
  {
   "cell_type": "code",
   "execution_count": null,
   "metadata": {},
   "outputs": [],
   "source": [
    "## testing reaad\n",
    "with h5py.File(ONOFFSavename+'.h5', 'r') as f:\n",
    "    print(f.attrs.keys())\n",
    "    print(f.attrs.get('sequences'))\n",
    "    print(f.attrs.get('rownames'))\n",
    "    f.close()\n",
    "    \n",
    "# f = h5py.File('test_allONOFFs'+'.h5', 'r')\n",
    "# # print(f['ch 00'].attrs.get('sequences'))\n",
    "# f.close()"
   ]
  },
  {
   "cell_type": "code",
   "execution_count": null,
   "metadata": {},
   "outputs": [],
   "source": [
    "asym_ch = np.zeros((len(ON_sums), len(ON_sums[0][0])), dtype=np.float64) ## 1 Asym for each channel, not for each sequence (can change?)\n",
    "# asym_pm = np.zeros((len(ONOFF_plus_sums),2, len(ONOFF_plus_sums[0][0][0])), dtype=np.float64) ## 1 Asym for each channel, not for each sequence (can change?)\n",
    "\n",
    "def asym2(ON_arr, OFF_arr):\n",
    "    tempasym = np.zeros((len(ON_arr[0])), dtype=np.float64)\n",
    "    for seq in range(0, len(ON_arr)): ## number of sequences\n",
    "        seqasym = ((ON_arr[seq]-OFF_arr[seq]) / (ON_arr[seq]+OFF_arr[seq]))\n",
    "        tempasym = np.add(seqasym,tempasym)\n",
    "    normedasym = tempasym/len(ON_arr)\n",
    "    return normedasym\n",
    "\n",
    "for i in range(len(ON_sums)):\n",
    "    asym_ch[i] = asym2(ON_sums[i], OFF_sums[i])\n",
    "#     asym_pm[i][0] = asym2(ONOFF_plus_sums[i][0], ONOFF_plus_sums[i][1])\n",
    "#     asym_pm[i][1] = asym2(ONOFF_minus_sums[i][0], ONOFF_minus_sums[i][1])"
   ]
  },
  {
   "cell_type": "code",
   "execution_count": null,
   "metadata": {},
   "outputs": [],
   "source": [
    "print((asym_ch).shape)\n",
    "print(asym_ch[0].shape)"
   ]
  },
  {
   "cell_type": "code",
   "execution_count": null,
   "metadata": {},
   "outputs": [],
   "source": [
    "%matplotlib qt\n",
    "ch = 2\n",
    "plt.title(f'Summed Pulses for channel {ch}')\n",
    "plt.plot(xs_cut[ch]*1e-6, all_ONOFF[ch][0], label='ON states')\n",
    "# plt.plot(xs_cut[ch], all_ONOFF[ch][1], label='OFF states')\n",
    "# plt.plot(xs_cut[ch], asym_ch_raw[ch], label='asymmetry')  ## there's no point in looking at asym for one channel. Need more data\n",
    "# plt.plot(fullx, asym_ch_bg[ch], label='asymmetry')  # division by 0 is a problem...\n",
    "plt.plot((fullx-2000+8)*(decFactor[1]*16*1e-6), asym_ch_bg[ch], label='asymmetry')  # division by 0 is a problem...\n",
    "\n",
    "plt.axvline(x = 1.97, label='p-wave peak?')\n",
    "\n",
    "plt.legend()\n",
    "plt.show()"
   ]
  },
  {
   "cell_type": "code",
   "execution_count": 21,
   "metadata": {},
   "outputs": [
    {
     "name": "stdout",
     "output_type": "stream",
     "text": [
      "saving hdf5: 0.061153411865234375\n"
     ]
    }
   ],
   "source": [
    "start = time.time()\n",
    "\n",
    "with h5py.File(AsymSavename+'.h5', 'w') as hdf5_file:\n",
    "#     hdf5_file.create_dataset('ch '+str(np.char.zfill(str(chan_enab[0]), 2)), data=all_ONOFF[0], compression=\"gzip\")\n",
    "    hdf5_file.create_dataset('xs ', data=xs_cut[0])\n",
    "    hdf5_file.attrs['sequences'] = len(sequence[0])\n",
    "    for i in range(0,len(ys_cut)):\n",
    "        hdf5_file.create_dataset('ch '+str(np.char.zfill(str(chan_enab[i]), 2)), data=asym_ch[i])\n",
    "        \n",
    "# f = gzip.GzipFile(\"testcompressednparr.npy.gz\", \"w\")\n",
    "# np.save(file=f, arr=ys_cut)\n",
    "# f.close()\n",
    "        \n",
    "end = time.time()\n",
    "print('saving hdf5: ' + str(end-start))    "
   ]
  },
  {
   "cell_type": "code",
   "execution_count": null,
   "metadata": {},
   "outputs": [],
   "source": [
    "## testing reaad\n",
    "with h5py.File(AsymSavename+'.h5', 'r') as f:\n",
    "    print(f.attrs.keys())\n",
    "    print(f.attrs.get('sequences'))\n",
    "    print(f.attrs.get('rownames'))\n",
    "    f.close()"
   ]
  },
  {
   "cell_type": "code",
   "execution_count": null,
   "metadata": {},
   "outputs": [],
   "source": [
    "# start = time.time()\n",
    "\n",
    "# np.save(os.getcwd() + '/testnpysave', asym_ch)\n",
    "# np.save(os.getcwd() + '/processed_data/'+ 'xs_cut', xs_cut)\n",
    "# # np.save(os.getcwd() + pmSavename, asym_pm)\n",
    "# # np.save(os.getcwd() + AsymSavename, Asym)\n",
    "# end = time.time()\n",
    "# print('saving as npy ' + str(end-start))  "
   ]
  },
  {
   "cell_type": "code",
   "execution_count": null,
   "metadata": {},
   "outputs": [],
   "source": [
    "fullend = time.time()\n",
    "print('full processing time: ' + str(fullend-fullstart))  \n",
    "print('finished ' + str(datetime.now())) \n",
    "print('\\n')"
   ]
  },
  {
   "cell_type": "markdown",
   "metadata": {},
   "source": [
    "## end of data processing ##"
   ]
  },
  {
   "cell_type": "markdown",
   "metadata": {},
   "source": [
    "## saving to hdf5 ##"
   ]
  },
  {
   "cell_type": "code",
   "execution_count": 28,
   "metadata": {},
   "outputs": [],
   "source": [
    "import h5py\n",
    "import gzip"
   ]
  },
  {
   "cell_type": "code",
   "execution_count": 25,
   "metadata": {},
   "outputs": [
    {
     "name": "stdout",
     "output_type": "stream",
     "text": [
      "11\n",
      "<class 'numpy.ndarray'>\n"
     ]
    }
   ],
   "source": [
    "b = np.char.zfill(str(chan_enab[11]), 2)\n",
    "print(b)\n",
    "print(type(b))\n",
    "ch_list = str(chan_enab)"
   ]
  },
  {
   "cell_type": "code",
   "execution_count": 30,
   "metadata": {},
   "outputs": [],
   "source": [
    "## straight numpy save\n",
    "# Save the NumPy array to an HDF5 file\n",
    "with h5py.File('testtesttest_ysh5'+'.h5', 'w') as hdf5_file:\n",
    "    hdf5_file.create_dataset('dataset', data=ys_cut)\n",
    "\n",
    "# # Read the NumPy array from the HDF5 file\n",
    "# with h5py.File(hdf5_file_path, 'r') as hdf5_file:\n",
    "#     loaded_array = hdf5_file['dataset'][:]"
   ]
  },
  {
   "cell_type": "code",
   "execution_count": 30,
   "metadata": {},
   "outputs": [
    {
     "name": "stdout",
     "output_type": "stream",
     "text": [
      "saving hdf5: 8.730424404144287\n"
     ]
    }
   ],
   "source": [
    "# try compression\n",
    "start = time.time()\n",
    "\n",
    "testch = 0\n",
    "\n",
    "with h5py.File('test_addingmultipleys'+'.h5', 'w') as hdf5_file:\n",
    "#     hdf5_file.create_dataset('ch '+str(chan_enab[testch]), data=ys_cut[testch])\n",
    "#     hdf5_file.create_dataset('ch '+str(np.char.zfill(str(chan_enab[0]), 2)), data=ys_cut[0], compression=\"gzip\")\n",
    "    hdf5_file.create_dataset('ch '+str(np.char.zfill(str(chan_enab[0]), 2)), data=ys_cut[testch])\n",
    "    \n",
    "# i = 2\n",
    "# with h5py.File('test_addingmultipleys'+'.h5', 'a') as hdf5_file:\n",
    "#     hdf5_file.create_dataset('ch '+str(chan_enab[i]), data=ys_cut[i])\n",
    "\n",
    "for i in range(1,len(ys_cut)):\n",
    "    with h5py.File('test_addingmultipleys'+'.h5', 'a') as hdf5_file:\n",
    "#         hdf5_file.create_dataset('ch '+str(np.char.zfill(str(chan_enab[i]), 2)), data=ys_cut[i], compression=\"gzip\")\n",
    "        hdf5_file.create_dataset('ch '+str(np.char.zfill(str(chan_enab[i]), 2)), data=ys_cut[i])\n",
    "        \n",
    "# f = gzip.GzipFile(\"testcompressednparr.npy.gz\", \"w\")\n",
    "# np.save(file=f, arr=ys_cut)\n",
    "# f.close()\n",
    "        \n",
    "end = time.time()\n",
    "print('saving hdf5: ' + str(end-start))"
   ]
  },
  {
   "cell_type": "code",
   "execution_count": 29,
   "metadata": {},
   "outputs": [
    {
     "name": "stdout",
     "output_type": "stream",
     "text": [
      "saving hdf5: 8.799411296844482\n"
     ]
    }
   ],
   "source": [
    "# Save the NumPy array to an HDF5 file\n",
    "start = time.time()\n",
    "\n",
    "testch = 0\n",
    "\n",
    "with h5py.File('test_addingmultipleys'+'.h5', 'w') as hdf5_file:\n",
    "#     hdf5_file.create_dataset('ch '+str(chan_enab[testch]), data=ys_cut[testch])\n",
    "    hdf5_file.create_dataset('ch '+str(np.char.zfill(str(chan_enab[0]), 2)), data=ys_cut[testch])\n",
    "\n",
    "    \n",
    "# i = 2\n",
    "# with h5py.File('test_addingmultipleys'+'.h5', 'a') as hdf5_file:\n",
    "#     hdf5_file.create_dataset('ch '+str(chan_enab[i]), data=ys_cut[i])\n",
    "\n",
    "for i in range(1,len(ys_cut)):\n",
    "    with h5py.File('test_addingmultipleys'+'.h5', 'a') as hdf5_file:\n",
    "        hdf5_file.create_dataset('ch '+str(np.char.zfill(str(chan_enab[i]), 2)), data=ys_cut[i])\n",
    "        \n",
    "end = time.time()\n",
    "print('saving hdf5: ' + str(end-start))    "
   ]
  },
  {
   "cell_type": "code",
   "execution_count": 33,
   "metadata": {},
   "outputs": [
    {
     "name": "stdout",
     "output_type": "stream",
     "text": [
      "saving hdf5: 236.83496618270874\n"
     ]
    }
   ],
   "source": [
    "## try compressed np array\n",
    "start = time.time()\n",
    "\n",
    "f = gzip.GzipFile(\"testcompressednparr.npy.gz\", \"w\")\n",
    "np.save(file=f, arr=ys_cut)\n",
    "f.close()\n",
    "\n",
    "end = time.time()\n",
    "print('saving hdf5: ' + str(end-start))   "
   ]
  },
  {
   "cell_type": "code",
   "execution_count": null,
   "metadata": {},
   "outputs": [],
   "source": []
  },
  {
   "cell_type": "code",
   "execution_count": null,
   "metadata": {},
   "outputs": [],
   "source": []
  },
  {
   "cell_type": "code",
   "execution_count": null,
   "metadata": {},
   "outputs": [],
   "source": []
  },
  {
   "cell_type": "code",
   "execution_count": 28,
   "metadata": {},
   "outputs": [],
   "source": [
    "testdf = pd.DataFrame(ys_cut[0])\n",
    "# print(testdf)\n",
    "testdf.to_hdf('testing1chdf.h5', key='df', mode='w')"
   ]
  },
  {
   "cell_type": "code",
   "execution_count": 12,
   "metadata": {},
   "outputs": [
    {
     "name": "stdout",
     "output_type": "stream",
     "text": [
      "aligning and cutting time: 10.02809476852417\n"
     ]
    }
   ],
   "source": [
    "start = time.time()\n",
    "\n",
    "np.save('testing_cutys_npoutput', ys_cut)\n",
    "\n",
    "end = time.time()\n",
    "print('aligning and cutting time: ' + str(end-start))   "
   ]
  },
  {
   "cell_type": "code",
   "execution_count": null,
   "metadata": {},
   "outputs": [],
   "source": []
  },
  {
   "cell_type": "code",
   "execution_count": null,
   "metadata": {},
   "outputs": [],
   "source": []
  },
  {
   "cell_type": "markdown",
   "metadata": {},
   "source": [
    "## older stuff ##"
   ]
  },
  {
   "cell_type": "code",
   "execution_count": 18,
   "metadata": {},
   "outputs": [
    {
     "name": "stdout",
     "output_type": "stream",
     "text": [
      "summing pulses into their states time: 0.7072417736053467\n"
     ]
    }
   ],
   "source": [
    "# OLD: changed to just saving ON and OFF pulses. Keeping if needed in later use. 09.30.2024\n",
    "\n",
    "#  add up pulses for their respective state, in each 8 step sequence ##\n",
    "#  turning into a by-channel function 06.13.24 ##\n",
    "\n",
    "start = time.time()\n",
    "sequence = np.asarray(sequence, dtype = object)\n",
    "\n",
    "# added_pulses = np.zeros((len(ys_cut), len(sequence[0]), 8, len(ys_cut[0][0])), dtype=np.float64) ## 13 sequences, 8 stages each works?\n",
    "# i channels, 13 sequences each, 8 states each sequence, 8992 num points ##\n",
    "\n",
    "ON_sums = np.zeros((len(ys_cut), len(sequence[0]), len(ys_cut[0][0])), dtype=np.float64) ## 13 channels, 13 sequences, added pulses for ON\n",
    "OFF_sums = np.zeros((len(ys_cut), len(sequence[0]), len(ys_cut[0][0])), dtype=np.float64) ## 13 channels, 13 sequences, added pulses for OFF\n",
    "ONOFF_minus_sums = np.zeros((len(ys_cut), len(sequence[0]),2, len(ys_cut[0][0])), dtype=np.float64) ## 13 channels, 13 sequences, added pulses for ON\n",
    "ONOFF_plus_sums = np.zeros((len(ys_cut), len(sequence[0]),2, len(ys_cut[0][0])), dtype=np.float64) ## 13 channels, 13 sequences, added pulses for OFF\n",
    "\n",
    "# ON_OFF_sums = np.zeros((len(ys_cut), len(sequence[0]), 2, len(ys_cut[0][0])), dtype=np.float64) ## 13 sequences, 2 for ON or OFF for each sequence\n",
    "# ON_sums = np.zeros((len(ys_basesub), len(sequence[0]), len(ys_basesub[0][0])), dtype=np.float64) ## 13 channels, 13 sequences, added pulses for ON\n",
    "# OFF_sums = np.zeros((len(ys_basesub), len(sequence[0]), len(ys_basesub[0][0])), dtype=np.float64) ## 13 channels, 13 sequences, added pulses for OFF\n",
    "# ON_minus_sums = np.zeros((len(ys_basesub), len(sequence[0]),2, len(ys_basesub[0][0])), dtype=np.float64) ## 13 channels, 13 sequences, added pulses for ON\n",
    "# ON_plus_sums = np.zeros((len(ys_basesub), len(sequence[0]),2, len(ys_basesub[0][0])), dtype=np.float64) ## 13 channels, 13 sequences, added pulses for OFF\n",
    "# ON_minus/plus_sums have their 2 for associated OFF states in the second array\n",
    "\n",
    "# @njit\n",
    "def add_pulse(ys, SFarr):\n",
    "#     tempadded_p = np.zeros((len(SFarr[0]), 8, len(ys[0])), dtype=np.float64)\n",
    "    temp_ON = np.zeros((len(SFarr[0]), len(ys[0])), dtype=np.float64)\n",
    "    temp_OFF = np.zeros((len(SFarr[0]), len(ys[0])), dtype=np.float64)\n",
    "    temp_ONOFF_min = np.zeros((len(SFarr[0]),2, len(ys[0])), dtype=np.float64)\n",
    "    temp_ONOFF_plu = np.zeros((len(SFarr[0]),2, len(ys[0])), dtype=np.float64)\n",
    "    for seq in range(0, len(SFarr[0])): ## for every sequence\n",
    "    #         print('seq:' +str(SFarr[0][seq]))\n",
    "#         print('seq:' +str(seq))\n",
    "        for state in range(0, len(SFarr[1][0])): ## for every state in the sequence\n",
    "    #         print(\"states loop \" + str(range(0, len(SFarr[1][0]))[0]) + ' - ' +  str(range(0, len(SFarr[1][0]))[-1]))\n",
    "            s = SFarr[1][seq][state] ## try this to condense code. Basically, the state currently at\n",
    "            if s==0 or s==3 or s==5 or s==6: ## these are ON states\n",
    "#                 print('ON \"s\" state '+str(s))\n",
    "#                 print('\"state\" ' +str(state) + ' from ' + str(range((SFarr[2][seq][state][0]),(SFarr[2][seq][state][1]))))\n",
    "#                 print('sums from '+str(range((SFarr[2][seq][state][0]),(SFarr[2][seq][state][1]))[0]) +\n",
    "#                 ' - ' +str(range((SFarr[2][seq][state][0]),(SFarr[2][seq][state][1]))[-1]) + '\\n')\n",
    "                for p in range((SFarr[2][seq][state][0]),(SFarr[2][seq][state][1])): ##From 20-60 for example. SFarr[2] is the array of start to end pulses to sum\n",
    "                    temp_ON[seq] = np.add(temp_ON[seq],ys[p]) ## start with zeros, add to each iteratively\n",
    "#                     print(p)\n",
    "                #         below is for splitting up into ON(-) and ON(+) and their associated OFF states (1 state forward for -, 1 state backward for +)\n",
    "                if s==0 or s==6: ## these or ON(-) states\n",
    "                    OFF_i = np.where(np.asarray(SFarr[1][0])==s+1)[0][0] ## find where in sequence state = s(ON-)+1    \n",
    "    #                 print('ON(-) \"s\" ' +str(s) + ' from ' + str(range((SFarr[2][seq][state][0]),(SFarr[2][seq][state][1]))))\n",
    "                    for p in range((SFarr[2][seq][state][0]),(SFarr[2][seq][state][1])): ##From 20-60 for example. SFarr[2] is the array of start to end pulses to sum\n",
    "                        temp_ONOFF_min[seq][0] = np.add(temp_ONOFF_min[seq][0],ys[p]) ## start with zeros, add to each iteratively\n",
    "    #                 print('OFF state ' + str(SFarr[1][seq][OFF_i]))\n",
    "                    for p in range((SFarr[2][seq][OFF_i][0]),(SFarr[2][seq][OFF_i][1])): ##From 20-60 for example. SFarr[2] is the array of start to end pulses to sum\n",
    "                        temp_ONOFF_min[seq][1] = np.add(temp_ONOFF_min[seq][1],ys[p]) ## start with zeros, add to each iteratively\n",
    "                if s==3 or s==5: ## these or ON(+) states\n",
    "                    OFF_i = np.where(np.asarray(SFarr[1][0])==s-1)[0][0] ## find where in sequence state = s(ON+)-1    \n",
    "    #                 print('ON(+) \"s\" ' +str(s) + ' from ' + str(range((SFarr[2][seq][state][0]),(SFarr[2][seq][state][1]))))\n",
    "                    for p in range((SFarr[2][seq][state][0]),(SFarr[2][seq][state][1])): ##From 20-60 for example. SFarr[2] is the array of start to end pulses to sum\n",
    "                        temp_ONOFF_plu[seq][0] = np.add(temp_ONOFF_plu[seq][0],ys[p]) ## start with zeros, add to each iteratively\n",
    "    #                 print('OFF state ' + str(SFarr[1][seq][OFF_i]))\n",
    "                    for p in range((SFarr[2][seq][OFF_i][0]),(SFarr[2][seq][OFF_i][1])): ##From 20-60 for example. SFarr[2] is the array of start to end pulses to sum\n",
    "                        temp_ONOFF_plu[seq][1] = np.add(temp_ONOFF_plu[seq][1],ys[p]) ## start with zeros, add to each iteratively\n",
    "            if s==1 or s==2 or s==4 or s==7: ## these are OFF states\n",
    "#                 print('OFF \"s\" state '+str(s))\n",
    "#                 print('\"state\" ' +str(state) + ' from ' + str(range((SFarr[2][seq][state][0]),(SFarr[2][seq][state][1]))))\n",
    "#                 print('sums from '+str(range((SFarr[2][seq][state][0]),(SFarr[2][seq][state][1]))[0]) +\n",
    "#                 ' - ' +str(range((SFarr[2][seq][state][0]),(SFarr[2][seq][state][1]))[-1]) + '\\n')\n",
    "                for p in range((SFarr[2][seq][state][0]),(SFarr[2][seq][state][1])): ##From 20-60 for example. SFarr[2] is the array of start to end pulses to sum\n",
    "                    temp_OFF[seq] = np.add(temp_OFF[seq],ys[p]) ## start with zeros, add to each iteratively\n",
    "#                     print(p)\n",
    "    return temp_ON, temp_OFF, temp_ONOFF_min, temp_ONOFF_plu\n",
    "\n",
    "for i in range(len(ys_cut)):\n",
    "#     print('#################### channel: ' + str(i) + ' ##########################')\n",
    "    ON_sums[i], OFF_sums[i], ONOFF_minus_sums[i], ONOFF_plus_sums[i] = add_pulse(ys_cut[i], sequence)\n",
    "    \n",
    "# for i in range(len(ys_basesub)-12):\n",
    "#     print('#################### channel: ' + str(i) + ' ##########################')\n",
    "#     ON_sums[i], OFF_sums[i], ON_minus_sums[i], ON_plus_sums[i] = add_pulse(ys_basesub[i], sequence)\n",
    "\n",
    "end = time.time()\n",
    "print('summing pulses into their states time: ' + str(end-start))  "
   ]
  },
  {
   "cell_type": "code",
   "execution_count": null,
   "metadata": {},
   "outputs": [],
   "source": []
  }
 ],
 "metadata": {
  "kernelspec": {
   "display_name": "Python 3 (ipykernel)",
   "language": "python",
   "name": "python3"
  },
  "language_info": {
   "codemirror_mode": {
    "name": "ipython",
    "version": 3
   },
   "file_extension": ".py",
   "mimetype": "text/x-python",
   "name": "python",
   "nbconvert_exporter": "python",
   "pygments_lexer": "ipython3",
   "version": "3.9.13"
  }
 },
 "nbformat": 4,
 "nbformat_minor": 2
}
