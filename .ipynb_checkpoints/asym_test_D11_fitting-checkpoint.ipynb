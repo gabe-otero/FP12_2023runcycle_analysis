{
 "cells": [
  {
   "cell_type": "code",
   "execution_count": 1,
   "metadata": {},
   "outputs": [
    {
     "name": "stdout",
     "output_type": "stream",
     "text": [
      "processing data: debug_sample/runs12034-12363//run12036\n",
      "saving processed data to F:/LANL/testing_asyms\n",
      "Channel is [ 0  1  2  3  4  5  6  7  8  9 10 11 24]\n"
     ]
    }
   ],
   "source": [
    "import sys\n",
    "import numpy as np\n",
    "import matplotlib.pyplot as plt\n",
    "#import uproot\n",
    "import pandas as pd\n",
    "import statistics as st\n",
    "import os\n",
    "from numba import njit\n",
    "import time\n",
    "from numba.core.errors import NumbaDeprecationWarning, NumbaPendingDeprecationWarning\n",
    "import warnings\n",
    "from loguru import logger\n",
    "from datetime import datetime\n",
    "import h5py\n",
    "import gzip\n",
    "\n",
    "# warnings.simplefilter('ignore', category=NumbaDeprecationWarning)\n",
    "# warnings.simplefilter('ignore', category=NumbaPendingDeprecationWarning)\n",
    "# warnings.simplefilter(action='ignore', category=pd.errors.PerformanceWarning)\n",
    "\n",
    "# for arg in sys.argv:\n",
    "#     run_num=str(arg).zfill(5)\n",
    "#     # print(run_num)\n",
    "\n",
    "# chan_enab = int(sys.argv[-1])\n",
    "# run_start=str(sys.argv[1]).zfill(5)\n",
    "# run_end=str(sys.argv[2]).zfill(5)\n",
    "# run_num=str(sys.argv[3]).zfill(5)\n",
    "\n",
    "run_num = '12036'\n",
    "os.chdir('F:/LANL/')\n",
    "datadir = 'sample_data/'\n",
    "runs_folder = 'runs12034-12363/'\n",
    "uniquefolder = 'debug_sample/'+runs_folder\n",
    "# uniquefolder = 'La_sample/'\n",
    "# SFNormFile = 'SF_Norm_files/'+uniquefolder+run_num\n",
    "SFNormFile = 'SF_Norm_files/'+runs_folder+run_num\n",
    "# AsymSavename = '****testing testing testing'\n",
    "\n",
    "# print(os.getcwd())\n",
    "\n",
    "# os.chdir('F:/LANL/')\n",
    "# datadir = 'D:/LANSCE_FP12_2023/data/' ## add directory of hard drive\n",
    "# uniquefolder = \"runs\" + str(run_start) + \"-\" + str(run_end) +\"/\"\n",
    "# SFNormFile = 'SF_Norm_files/'+uniquefolder+run_num\n",
    "# statefileloc = 'F:\\LANL\\SF_Norm_files\\TR_R_expected_avgs_stds_afterclip.csv'\n",
    "# processedONOFFfolder = '/processed_data/'+uniquefolder+'ONOFF_D/'\n",
    "# processedasymfolder = '/processed_data/'+uniquefolder+'asym_D/'\n",
    "# processedasymfolder_bg = '/processed_data/'+uniquefolder+'asym_bg_D/'\n",
    "# ONOFFSavename = os.getcwd()+processedONOFFfolder+run_num+'_ONOFF_D'\n",
    "# AsymSavename = os.getcwd()+processedasymfolder+run_num+'_asym_D'\n",
    "# AsymSavename_bg = os.getcwd()+processedasymfolder_bg+run_num+'_asym_bg_D'\n",
    "# logger.add(\"F:/LANL/processed_data/\" + uniquefolder + '0_ErrorLog_'+run_start+'_'+run_end+'_D.txt', delay = False)\n",
    "\n",
    "# cannot handle all 24 detectors at once, memory issue... can look into np.empty and deleting variables if needed ##\n",
    "# chan_enab = np.array([0,1,2,3,4,5,6,7,8,9,10,11,12,13,14,15,16,17,18,19,20,21,22,23,24]) ## all\n",
    "chan_enab = np.array([0,1,2,3,4,5,6,7,8,9,10,11,24]) ## downstream\n",
    "# chan_enab = np.array([12,13,14,15,16,17,18,19,20,21,22,23,24]) ## upstream\n",
    "\n",
    "print('processing data: ' + uniquefolder + '/run' + run_num)\n",
    "\n",
    "# if not os.path.exists(os.getcwd()+processedONOFFfolder) or not os.path.exists(os.getcwd()+processedasymfolder) or not os.path.exists(os.getcwd()+processedasymfolder_bg):\n",
    "#     # Create the directory\n",
    "#     os.makedirs(os.getcwd()+processedONOFFfolder)\n",
    "#     os.makedirs(os.getcwd()+processedasymfolder)\n",
    "#     os.makedirs(os.getcwd()+processedasymfolder_bg)\n",
    "#     print(\"Directory created successfully\")\n",
    "# else:\n",
    "#     pass\n",
    "\n",
    "# print(os.getcwd() + folder)\n",
    "\n",
    "# get_ipython().run_line_magic('matplotlib', 'qt')\n",
    "\n",
    "start = time.time()\n",
    "fullstart = time.time()\n",
    "\n",
    "read_data = []\n",
    "fileLength = []\n",
    "\n",
    "def open_file():\n",
    "    for el in chan_enab:\n",
    "        # f = open(datadir + folder + 'run' + run_num + \"_ch\" + str(el) + \".bin\", 'rb')\n",
    "        f = open(datadir+uniquefolder + 'run' + str(run_num) + \"_ch\" +str(el) + \".bin\", 'rb')\n",
    "        read_data.append(np.fromfile(file=f, dtype=np.uint16))\n",
    "        f.close()\n",
    "        fileLength.append(len(read_data[-1]))\n",
    "    return read_data, fileLength\n",
    "\n",
    "open_file()\n",
    "\n",
    "fileLength = np.asarray(fileLength)\n",
    "read_data = np.asarray(read_data) ## in detector's case, all are the same size samples, so can do read_data as np array\n",
    "\n",
    "if chan_enab[-1] != 24:\n",
    "    emessage = ('last channel is not 6Li detector')\n",
    "    logger.error(run_num + emessage)\n",
    "    raise Exception(emessage)\n",
    "\n",
    "end = time.time()\n",
    "\n",
    "# print('file open time: ' + str(end-start))            \n",
    "print('saving processed data to ' + AsymSavename)\n",
    "print(\"Channel is \" + str(chan_enab))"
   ]
  },
  {
   "cell_type": "code",
   "execution_count": 2,
   "metadata": {},
   "outputs": [
    {
     "name": "stdout",
     "output_type": "stream",
     "text": [
      "Target is La\n"
     ]
    }
   ],
   "source": [
    "# Store the big header for each channel in arrays\n",
    "\n",
    "BoardID = []\n",
    "recordLength = []\n",
    "numSamples = []\n",
    "eventCounter = []\n",
    "decFactor = []\n",
    "chanDec = []\n",
    "postTrig = []\n",
    "groupStart = []\n",
    "groupEnd = []\n",
    "timestamp= []\n",
    "sizeFirstEvent = []\n",
    "TTT = []\n",
    "\n",
    "targetDict = {0: \"La\", 1: \"Tb2O3\", 2: \"Yb2O3\", 3: \"Sm2O3\", 4: \"Er2O3\", 5: \"Ho2O3\", 6: \"other\"}\n",
    "foilDict = {0: \"TBD\", 1: \"TBD\", 2: \"TBD\", 3: \"TBD\", 4: \"TBD\", 5: \"TBD\", 6: \"other\"}\n",
    "\n",
    "target=(read_data[0][5]&0x00F0)>>4\n",
    "foil=read_data[0][5]&0x000F\n",
    "targetFlag = read_data[0][5]>>8&1\n",
    "foilFlag = read_data[0][5]>>9&1\n",
    "spinFiltFlag = read_data[0][5]>>10&1\n",
    "spinFlipFlag = read_data[0][5]>>11&1\n",
    "shutterFlag = read_data[0][5]>>12&1\n",
    "facilityTrigFlag = read_data[0][5]>>13&1\n",
    "\n",
    "if targetFlag:\n",
    "    target=targetDict[(read_data[0][5]&0x00F0)>>4]\n",
    "else:\n",
    "    target = \"empty\"\n",
    "if foilFlag:\n",
    "    foil=foilDict[read_data[0][5]&0x000F]\n",
    "else:\n",
    "    foil = \"empty\"\n",
    "for i in range(0,len(chan_enab)):\n",
    "    BoardID.append(read_data[i][9]>>8)\n",
    "    recordLength.append(((read_data[i][9]&0x00FF)<<16)+read_data[i][8])\n",
    "    numSamples.append(((read_data[i][11]&0x00FF)<<16)+read_data[i][10])\n",
    "    eventCounter.append(read_data[i][6]+(read_data[i][7]<<16))\n",
    "    BoardID.append(read_data[i][9]>>8)  \n",
    "    decFactor.append(read_data[i][11]>>8)\n",
    "    chanDec.append(read_data[i][13]>>8)\n",
    "    postTrig.append(read_data[i][15]>>8)\n",
    "    groupStart.append(((read_data[i][13]&0x00FF)<<16)+read_data[i][12])\n",
    "    groupEnd.append(((read_data[i][15]&0x00FF)<<16)+read_data[i][14])\n",
    "    \n",
    "    timestamp.append(read_data[i][16]+(read_data[i][17]<<16)+(read_data[i][18]<<32)+(read_data[i][19]<<40))  \n",
    "    sizeFirstEvent.append(read_data[i][0]+(read_data[i][1]<<16))\n",
    "    TTT.append(read_data[i][2]+(read_data[i][3]<<16)+(read_data[i][4]<<32))\n",
    "    \n",
    "#     print(\"For channel \" + str(chan_enab[i]) + \", BoardID is \" + str(BoardID[i])\n",
    "#           + \"; record length is \" + str(recordLength[i]) + \"; num Samples is \" \n",
    "#           + str(numSamples[i]) + \"; event counter is \" + str(eventCounter[i]) + \"; dec factor is \" + str(decFactor[i]) + \"; chan dec is \" \n",
    "#           + str(chanDec[i]) + \"; postTrig is \" + str(postTrig[i]) + \"; group start is \" + str(groupStart[i]) + \"; group end is \" + str(groupEnd[i])\n",
    "#           + \"; epoch time is \" + str(timestamp[i]) +  \"; first event size is \" + str(sizeFirstEvent[i]) + \"; and ETTT is \" + str(TTT[i]) + \"\\n\")\n",
    "\n",
    "BoardID = np.asarray(BoardID) \n",
    "recordLength = np.asarray(recordLength)\n",
    "numSamples = np.asarray(numSamples)\n",
    "eventCounter = np.asarray(eventCounter)\n",
    "decFactor = np.asarray(decFactor)\n",
    "chanDec = np.asarray(chanDec)\n",
    "postTrig = np.asarray(postTrig)\n",
    "groupStart = np.asarray(groupStart)\n",
    "groupEnd = np.asarray(groupEnd)\n",
    "timestamp = np.asarray(timestamp)\n",
    "sizeFirstEvent = np.asarray(sizeFirstEvent)\n",
    "TTT = np.asarray(TTT)\n",
    "\n",
    "print(\"Target is \" + target)\n",
    "# print(\"Foil is \" + foil)\n",
    "# print(\"Shutter is open: \" + str(bool(shutterFlag)))\n",
    "# print(\"Facility t0 is on: \" + str(bool(facilityTrigFlag)))\n",
    "# print(\"Spin flipper is on: \" + str(bool(spinFlipFlag)))\n",
    "# print(\"Spin filter is on: \" + str(bool(spinFiltFlag)))\n",
    "# print(\"Target is present: \" + str(bool(targetFlag)))\n",
    "# print(\"Foil is present: \" + str(bool(foilFlag)))"
   ]
  },
  {
   "cell_type": "code",
   "execution_count": 3,
   "metadata": {},
   "outputs": [],
   "source": [
    "# Determine the time axis for each channel\n",
    "\n",
    "preTime = []\n",
    "startTime = []\n",
    "endTime = []\n",
    "resolution = []\n",
    "xs = [] \n",
    "\n",
    "for i in range(0,len(chan_enab)):\n",
    "    preTime.append((100-postTrig[i])*recordLength[i]/100)\n",
    "    startTime.append((-1*preTime[i]*16*decFactor[i] + groupStart[i]*16*decFactor[i]))\n",
    "    endTime.append((-1*preTime[i]*16*decFactor[i] + groupEnd[i]*16*decFactor[i]))\n",
    "    resolution.append(16*chanDec[i]*decFactor[i])\n",
    "#     print(\"Pretime for channel\", chan_enab[i],\"is \" + str(preTime[i]) + \"; start time is \" + str(startTime[i]) + \"; end time is \" + str(endTime[i]) \n",
    "#           + \"; resolution is \" + str(resolution[i]) + \"ns\")\n",
    "    xs.append(np.arange(startTime[i],(numSamples[i])*resolution[i]+startTime[i], resolution[i]))\n",
    "\n",
    "np.asarray(preTime)\n",
    "np.asarray(startTime)\n",
    "np.asarray(endTime)\n",
    "np.asarray(resolution)\n",
    "\n",
    "xs = np.asarray(xs) ## can convert xs to np array here because all detectors same numsamples"
   ]
  },
  {
   "cell_type": "code",
   "execution_count": 4,
   "metadata": {},
   "outputs": [
    {
     "name": "stderr",
     "output_type": "stream",
     "text": [
      "C:\\Users\\gabeo\\anaconda3\\lib\\site-packages\\numba\\core\\ir_utils.py:2152: NumbaPendingDeprecationWarning: \u001b[1m\n",
      "Encountered the use of a type that is scheduled for deprecation: type 'reflected list' found for argument 'channels' of function 'dataread'.\n",
      "\n",
      "For more information visit https://numba.readthedocs.io/en/stable/reference/deprecation.html#deprecation-of-reflection-for-list-and-set-types\n",
      "\u001b[1m\n",
      "File \"C:\\Users\\gabeo\\AppData\\Local\\Temp\\ipykernel_2176\\2559654803.py\", line 4:\u001b[0m\n",
      "\u001b[1m@njit\n",
      "\u001b[1mdef dataread(data, channels, fileLen, numSamps):\n",
      "\u001b[0m\u001b[1m^\u001b[0m\u001b[0m\n",
      "\u001b[0m\n",
      "  warnings.warn(NumbaPendingDeprecationWarning(msg, loc=loc))\n"
     ]
    },
    {
     "name": "stdout",
     "output_type": "stream",
     "text": [
      "dataread from binary time: 2.129854440689087\n"
     ]
    }
   ],
   "source": [
    "start=time.time()\n",
    "\n",
    "@njit\n",
    "def dataread(data, channels, fileLen, numSamps):\n",
    "    numRuns = int((fileLen[0]-20-numSamps[0])/(numSamps[0]+6)+1)\n",
    "    ys_arr = np.zeros((len(channels), numRuns,numSamps[0]), dtype=np.uint16)\n",
    "    ETTT_arr = np.zeros((len(channels), numRuns), dtype=np.intc)\n",
    "    eventcount_arr = np.zeros((len(channels), numRuns), dtype=np.intc)\n",
    "    for i in range(0,len(channels)):\n",
    "        eventCount = 0\n",
    "        byteCounter = 0\n",
    "            #byte counter is really 2bytecounter, lol\n",
    "        while byteCounter < fileLen[i]:\n",
    "            if byteCounter == 0:\n",
    "                ETTT_arr[i]=TTT[i]\n",
    "                #ETTT_arr[i].append(TTT[i])\n",
    "                eventcount_arr[i]=(eventCounter[i])\n",
    "                byteCounter = 20\n",
    "            else:\n",
    "                ETTT_arr[i]=(data[i][byteCounter]+(data[i][byteCounter+1]<<16)+(data[i][byteCounter+2]<<32))\n",
    "                eventcount_arr[i]=(data[i][byteCounter+4]+(data[i][byteCounter+5]<<16))\n",
    "                byteCounter += 6\n",
    "            for j in range(0, numSamps[i]):\n",
    "                #if j == 0:\n",
    "                    #ys_arr[i].append([])\n",
    "                #print(byteCounter)\n",
    "                ys_arr[i][eventCount][j]=data[i][byteCounter]\n",
    "                byteCounter += 1\n",
    "            eventCount += 1\n",
    "    return ys_arr, ETTT_arr, eventcount_arr\n",
    "\n",
    "start=time.time()\n",
    "ys_arrHe, ETTT_arrHe, eventcount_arrHe  = dataread(read_data, [25], fileLength, numSamples) ##hardcoded channel 25 for He\n",
    "ys_arr, ETTT_arr, eventcount_arr  = dataread(read_data, chan_enab, fileLength, numSamples) ##hardcoded channels for coils\n",
    "\n",
    "end = time.time()\n",
    "print('dataread from binary time: ' + str(end-start))"
   ]
  },
  {
   "cell_type": "code",
   "execution_count": 5,
   "metadata": {},
   "outputs": [],
   "source": [
    "timeDif=[]\n",
    "for i in range(0,len(chan_enab)):\n",
    "    timeDif.append([])\n",
    "    for j in range(len(ETTT_arr[i])-1):\n",
    "        timeDif[i].append((ETTT_arr[i][j+1]-ETTT_arr[i][j])*8)\n",
    "#     print(\"Min time difference for channel\", chan_enab[i], \"is\", min(timeDif[i]), \"ns\")\n",
    "#     print(\"Max time difference for channel\", chan_enab[i], \"is\", max(timeDif[i]), \"ns \\n\")\n",
    "#print(timeDif)"
   ]
  },
  {
   "cell_type": "code",
   "execution_count": 6,
   "metadata": {},
   "outputs": [],
   "source": [
    "# Load in SF and He normalization information ##\n",
    "# SFNormFile2 = 'F:/LANL/SF_Norm_files/runs12034-12363/12036.h5' ## change sf norm file here or use default\n",
    "\n",
    "try:\n",
    "    df_SF = pd.read_hdf(SFNormFile + '.h5', key='df_0')\n",
    "#     df_SF = pd.read_hdf(SFNormFile2, key='df_0')\n",
    "    df_HE = pd.read_hdf(SFNormFile + '.h5', key='df_1')\n",
    "#     df_HE = pd.read_hdf(SFNormFile2, key='df_1')\n",
    "except Exception as e:\n",
    "    logger.error(run_num + ' failed during SFNormFile load')\n",
    "    logger.exception(e)\n",
    "\n",
    "SF_Sort_arr = df_SF[['nicknames', 'transition_locations']].to_numpy().T\n",
    "He_Norm_arr = df_HE[['pulse', 'norms']].to_numpy().T\n",
    "\n",
    "NormFactor = 1000000  ## He integrals are huge, this normalizes all of those by a constant value for ease of use\n",
    "HeNorms= (He_Norm_arr[1])/NormFactor\n",
    "\n",
    "# print(SF_Sort_arr)\n",
    "# print(He_Norm_arr[1]/NormFactor)"
   ]
  },
  {
   "cell_type": "code",
   "execution_count": 7,
   "metadata": {},
   "outputs": [
    {
     "name": "stdout",
     "output_type": "stream",
     "text": [
      "[6.39088617 6.52615669 6.54345419 ... 6.80943631 6.73468644 6.72288975]\n"
     ]
    }
   ],
   "source": [
    "print(HeNorms)"
   ]
  },
  {
   "cell_type": "code",
   "execution_count": 8,
   "metadata": {},
   "outputs": [
    {
     "name": "stdout",
     "output_type": "stream",
     "text": [
      "plotting and/or base subtraction time: 5.120668888092041\n"
     ]
    }
   ],
   "source": [
    "# basesub and plotting ##\n",
    "start = time.time()\n",
    "\n",
    "baseL = 0\n",
    "baseR = int(((preTime[0]-groupStart[0])*0.70)/chanDec[0])  ##70% before the trigger\n",
    "numRuns = int((fileLength[0]-20-numSamples[0])/(numSamples[0]+6)+1)\n",
    "legend =  ['NaI', 'R']\n",
    "\n",
    "s = 20 ## pulse to look at\n",
    "t=s+1\n",
    "\n",
    "#  dont know why this is so slow ##\n",
    "def plotter(ys, xs, baseR, numpoints):\n",
    "    tempys_basesub = np.zeros((len(ys), numRuns,numpoints[0]), dtype=float)\n",
    "    for i in range((len(ys))):\n",
    "        for pulse in range((len(eventcount_arr[0]))): ## all have 5000 pulses\n",
    "            tempys_basesub[i][pulse]=np.subtract(ys[i][pulse], np.mean(ys[i][pulse][baseL:baseR]))\n",
    "        for j in range(s, t): ## plot only interested pulses\n",
    "            plt.plot(xs[i], tempys_basesub[i][j]) #label=legend[i]) #+str(sums[1][j])) ## sums[j] will not work for more than just TR   \n",
    "            plt.axvline(xs[0][baseL], ls = '--')\n",
    "            plt.axvline(xs[0][baseR], ls = '--')\n",
    "            #plt.axvline(xs[0][int(((preTime[0]-groupStart[0])*0.70)/chanDec[0])], ls = '--', c ='m')\n",
    "            plt.axvline(xs[0][baseR+5], ls = '--', c ='r') ## BaseR+5 line marks the beginning of the integral, until the end of samples.\n",
    "#             plt.title('SF state transition' + transitions[p]) \n",
    "#             plt.xlabel(\"time from trigger (ns)\")\n",
    "#             plt.ylabel(\"ADC\")\n",
    "            plt.legend()\n",
    "            \n",
    "# plotter(ys_arr[9:], xs[9:], baseR, numSamples) ##plot coils\n",
    "\n",
    "@njit ## jit is faster for large # channels, slower for small # channels\n",
    "def basesub(ys, baseRight, numpoints): \n",
    "    tempys_basesub = np.zeros((numRuns,numpoints[0]), dtype=np.float64)\n",
    "    for pulse in range((len(eventcount_arr[0]))): ## all have 5000 pulses\n",
    "        tempys_basesub[pulse]=np.subtract(ys[pulse], np.mean(ys[pulse][baseL:baseRight]))\n",
    "    return tempys_basesub\n",
    "\n",
    "@njit ## jit is faster for large # channels, slower for small # channels\n",
    "def basesub_norm(ys, baseRight, numpoints): \n",
    "    tempys_basesub = np.zeros((numRuns,numpoints[0]), dtype=np.float64)\n",
    "    for pulse in range((len(eventcount_arr[0]))): ## all have 5000 pulses\n",
    "        tempys_basesub[pulse]=np.subtract(ys[pulse], np.mean(ys[pulse][baseL:baseRight]))\n",
    "        tempys_basesub[pulse]=tempys_basesub[pulse]/HeNorms[pulse] \n",
    "    return tempys_basesub\n",
    "\n",
    "ys_basesub = np.zeros((len(ys_arr), numRuns,numSamples[0]), dtype=np.float64)\n",
    "# ys_basesub_norm = np.zeros((len(ys_arr), numRuns,numSamples[0]), dtype=np.float64)\n",
    "\n",
    "for i in range(len(ys_basesub)): ## feeding y arrays into function 1 channel at  a time is faster than all at once\n",
    "    ys_basesub[i] = basesub(ys_arr[i], baseR, numSamples)\n",
    "# for i in range(len(ys_basesub)): ## feeding y arrays into function 1 channel at  a time is faster than all at once\n",
    "#     ys_basesub[i] = basesub_norm(ys_arr[i], baseR, numSamples)\n",
    "\n",
    "ys_basesub[-1] = ys_basesub[-1]*-1 ## invert 6Li to positive signal. Comment out if not using\n",
    "# ys_basesub_norm[-1] = ys_basesub_norm[-1]*-1 ## invert 6Li to positive signal. Comment out if not using\n",
    "\n",
    "end = time.time()\n",
    "print('plotting and/or base subtraction time: ' + str(end-start))            "
   ]
  },
  {
   "cell_type": "code",
   "execution_count": 9,
   "metadata": {},
   "outputs": [
    {
     "name": "stdout",
     "output_type": "stream",
     "text": [
      "finding offset time: 0.7751214504241943\n"
     ]
    }
   ],
   "source": [
    "# use 6Li t0 for all instead of for themselves individually ##\n",
    "\n",
    "start = time.time()\n",
    "\n",
    "NaIthresh=2000\n",
    "Li6thresh=1000\n",
    "threshold_array = (np.full(len(ys_basesub), NaIthresh))\n",
    "threshold_array[-1] = Li6thresh\n",
    "\n",
    "# njit ## numba does not support reversed, but this could be changed if it's slow\n",
    "def find_offset(ys, thresharr):\n",
    "    xCrosses = np.zeros((len(ys), numRuns)) #outer array is crossing arrays for given channel, inner array is crossing for each event\n",
    "    offset = np.zeros((len(ys), numRuns), dtype=np.int32) ##offset in bins for each channel, each pulse\n",
    "    modeCrosses = np.zeros((len(ys)), dtype=np.float64)\n",
    "    for i in reversed(range(len(ys))):\n",
    "        #xValues.append([])\n",
    "        for p in range(len(ys[i])):\n",
    "            xing = np.argmax(ys[i][p] > thresharr[i])\n",
    "            #print(xing)\n",
    "            xCrosses[i][p] = xing\n",
    "        modeCrosses[i] = (st.mode(xCrosses[i])) #find the most typical crossing value for each channel\n",
    "        for p in range(len(xCrosses[i])):\n",
    "            offset[i][p] = (modeCrosses[-1] - xCrosses[i][p]) ## make sure this is the correct sign!!! \n",
    "    if (np.all(xCrosses[-1])) == False:\n",
    "        emessage = ('ERROR: 6Li threshold was not reached for at least one pulse')\n",
    "        logger.error(run_num + emessage)\n",
    "        raise Exception(emessage)\n",
    "    return offset, xCrosses, modeCrosses\n",
    "                           \n",
    "offset, xCrosses, modeCrosses = find_offset(ys_basesub, threshold_array)\n",
    "\n",
    "end = time.time()\n",
    "print('finding offset time: ' + str(end-start))  "
   ]
  },
  {
   "cell_type": "code",
   "execution_count": 10,
   "metadata": {},
   "outputs": [
    {
     "name": "stdout",
     "output_type": "stream",
     "text": [
      "aligning and cutting time: 10.368535995483398\n"
     ]
    }
   ],
   "source": [
    "# extend all arrays by a value, check that the max number of offset on 6Li is less than that value ##\n",
    "start = time.time()\n",
    "\n",
    "extendedRange = 3 ## must be a positive value which to extend ys_arr\n",
    "if abs(max(offset[-1], key = abs)) > extendedRange: ## if the max offset of 6Li is >extendedRange, something is wrong\n",
    "    emessage = ('ERROR: largest offset greater than extended range')\n",
    "    logger.error(run_num + emessage)\n",
    "    raise Exception(emessage)\n",
    "\n",
    "try:\n",
    "    ys_ext = np.zeros((len(ys_basesub), len(ys_basesub[0]), len(ys_basesub[0][0])+extendedRange*2), dtype=np.float64)\n",
    "    ys_cut = np.zeros((len(ys_basesub), len(ys_basesub[0]), (len(ys_ext[0][0])-((extendedRange*2)+1)*2)))\n",
    "    xs_cut = np.zeros((len(ys_cut), len(ys_cut[0][0])))\n",
    "except Exception as e:\n",
    "    logger.error(run_num + ' failed during ys_cut array creation')\n",
    "    logger.exception(e)\n",
    "\n",
    "# cant use jit because np.pad is not supported ##\n",
    "def align_cut(ys, xs_arr, extendedr):\n",
    "    tempys_ext = np.zeros((len(ys), len(ys[0])+extendedr*2), dtype=np.float64)\n",
    "    tempys_cut = np.zeros((len(ys), (len(tempys_ext[0])-((extendedr*2)+1)*2)))\n",
    "    tempxs_cut = np.zeros(len(tempys_cut[0]))\n",
    "    for p in range(len(ys)):\n",
    "        tempys_ext[p] = np.pad(ys[p], extendedr, 'constant', constant_values=(0))\n",
    "        tempys_ext[p] = np.roll(tempys_ext[p],offset[-1][p]) ## assumes 6Li at -1 position\n",
    "        tempys_cut[p] = tempys_ext[p][((extendedr*2)+1):-((extendedr*2)+1)].copy() ## cut by 7 (if extRange == 3)\n",
    "        tempys_cut[p] = tempys_cut[p]/HeNorms[p] ## normalize by 3He integral  ## comment out if using basesub_norm\n",
    "    x_cut_amt = int((len(ys[0]) - len(tempys_cut[0]))/2)\n",
    "    tempxs_cut = xs_arr[x_cut_amt:-x_cut_amt].copy()\n",
    "    return tempys_cut, tempxs_cut\n",
    "\n",
    "# looping every channel through function is 5x faster ##\n",
    "try:\n",
    "    for i in range(len(ys_basesub)):\n",
    "        ys_cut[i], xs_cut[i] = align_cut(ys_basesub[i], xs[i], extendedRange)\n",
    "except Exception as e:\n",
    "    logger.error(run_num + ' failed aligning and cutting')\n",
    "    logger.exception(e)\n",
    "    \n",
    "# checkp = 2053\n",
    "# print(offset[-1][checkp]) ## checking offset for one example checkpulse\n",
    "# print('original index for checkpulse: '+str(np.argmax(ys_basesub[0][checkp]> 2000))) ## we can follow the index as it changes with extension/cut\n",
    "# #print('extended range index for checkpulse: '+str(np.argmax(ys_ext[0][checkp]> 2000)))\n",
    "# print('cut array index for checkpulse: '+str(np.argmax((ys_cut[0][checkp]*HeNorms[checkp])> 2000)))\n",
    "\n",
    "del ys_ext ## might help with memory issues\n",
    "del ys_basesub\n",
    "\n",
    "end = time.time()\n",
    "print('aligning and cutting time: ' + str(end-start))            "
   ]
  },
  {
   "cell_type": "code",
   "execution_count": 11,
   "metadata": {},
   "outputs": [
    {
     "name": "stdout",
     "output_type": "stream",
     "text": [
      "   nicknames transition transition_locations  sumsTR_R      TR_R_avgs  \\\n",
      "0          5   110->111                   34 -176668.0 -176792.000000   \n",
      "1          6   111->100                   79  -65902.0  -65831.928571   \n",
      "2          7   100->111                  124  -26859.0  -27038.142857   \n",
      "3          0   111->101                  169  118351.0  118376.285714   \n",
      "4          1   101->100                  214 -116370.0 -116373.000000   \n",
      "5          2   100->110                  259  339922.0  339886.785714   \n",
      "6          3   110->101                  304   65670.0   65682.857143   \n",
      "7          4   101->110                  349   26975.0   27045.769231   \n",
      "8          5   110->111                  394 -176859.0 -176792.000000   \n",
      "9          6   111->100                  439  -65805.0  -65831.928571   \n",
      "\n",
      "   TR_R_stds  \n",
      "0  88.216455  \n",
      "1  33.128461  \n",
      "2  65.543723  \n",
      "3  30.029577  \n",
      "4  10.085350  \n",
      "5  57.348781  \n",
      "6  40.735834  \n",
      "7  54.193604  \n",
      "8  88.216455  \n",
      "9  33.128461  \n"
     ]
    }
   ],
   "source": [
    "print(df_SF[0:10])"
   ]
  },
  {
   "cell_type": "markdown",
   "metadata": {},
   "source": [
    "## begin SF organization ##"
   ]
  },
  {
   "cell_type": "code",
   "execution_count": 12,
   "metadata": {},
   "outputs": [
    {
     "name": "stdout",
     "output_type": "stream",
     "text": [
      "13 sequences with sequence order: [6, 7, 0, 1, 2, 3, 4, 5]\n"
     ]
    }
   ],
   "source": [
    "def organize_SF(SFsort_info): ## sometimes pulse 0 has the state switch. In that case, need to account by if clauses below\n",
    "    counter = 0\n",
    "    seq = 0\n",
    "    seq_arr = ([[],[],[]])\n",
    "    smallerseq = []\n",
    "    smallerstateis = []\n",
    "    for i in range(len(SFsort_info[1])-(np.mod((len(SFsort_info[1])), 8))):  ##111 mod 8 = 7, so essentially 111-7 = 104\n",
    "        counter = counter+1\n",
    "        if counter < 8:\n",
    "            if (SF_Sort_arr[1][i]) == 0: ## catches state switches at pulse 0\n",
    "                smallerstateis.append([(SFsort_info[1][i])+5,(SFsort_info[1][i+1])])\n",
    "                smallerseq.append(SFsort_info[0][i+1])\n",
    "                seq = seq+1\n",
    "                continue\n",
    "            smallerstateis.append([(SFsort_info[1][i])+5,(SFsort_info[1][i+1])])\n",
    "            smallerseq.append(SFsort_info[0][i+1])\n",
    "        elif counter == 8:\n",
    "            if ((SF_Sort_arr[1][i])+45) >= 5000: ## breaks for state switches at pulse 0\n",
    "                print(((SF_Sort_arr[1][i])+5))\n",
    "                seq = seq+1\n",
    "                seq_arr[0].append(seq)\n",
    "                seq_arr[1].append(smallerseq)   \n",
    "                seq_arr[2].append(smallerstateis)\n",
    "                seq_arr[0] = [x-1 for x in seq_arr[0]] ## reset so sequences are 1-14 instead of 2-15\n",
    "                break\n",
    "            seq = seq+1 ## otherwise continue regular sorting\n",
    "            smallerstateis.append([(SFsort_info[1][i])+5,(SFsort_info[1][i+1])])\n",
    "            smallerseq.append(SFsort_info[0][i+1])\n",
    "            seq_arr[0].append(seq)\n",
    "            seq_arr[1].append(smallerseq)   \n",
    "            seq_arr[2].append(smallerstateis)\n",
    "            smallerseq = []\n",
    "            smallerstateis = []\n",
    "            counter  = 0\n",
    "    return seq_arr\n",
    "\n",
    "def find_leftover(SFsort_info, seq_arr): ## in case we want to use the other 6 states left over\n",
    "    left = [[seq_arr[0][-1]+1],[],[]]\n",
    "    counter = 0\n",
    "    for i in range((len(SFsort_info[1])-(np.mod((len(SFsort_info[1])), 8))), len(SFsort_info[1])-1):\n",
    "        counter = counter+1\n",
    "        if counter < 8:\n",
    "            left[1].append(SFsort_info[0][i+1])\n",
    "            left[2].append([(SFsort_info[1][i])+5,(SFsort_info[1][i+1])])\n",
    "    return left\n",
    "\n",
    "try:\n",
    "    sequence = organize_SF(SF_Sort_arr)\n",
    "    if len(sequence[0]) == 14: ## catches state switches at pulse 0, leftovers are at the end of the regular sequence\n",
    "        leftovers = [[sequence[0][-1]],[sequence[1][-1]],[sequence[2][-1]]]\n",
    "        for i in range(len(sequence)):\n",
    "            sequence[i].pop(-1) ## deletes the leftovers sequence for state switches at pulse 0\n",
    "    else:\n",
    "        leftovers = find_leftover(SF_Sort_arr, sequence) ## otherwise can use normal function\n",
    "except Exception as e:\n",
    "    logger.error(run_num + ' failed during sequencing')\n",
    "    logger.exception(e)\n",
    "\n",
    "# print('sequences '+str(sequence[0]))\n",
    "print(str(len(sequence[0]))+' sequences with sequence order: '+str(sequence[1][0]))\n",
    "# print(leftovers)"
   ]
  },
  {
   "cell_type": "code",
   "execution_count": 13,
   "metadata": {},
   "outputs": [
    {
     "name": "stdout",
     "output_type": "stream",
     "text": [
      "[[1, 2, 3, 4, 5, 6, 7, 8, 9, 10, 11, 12, 13], [[6, 7, 0, 1, 2, 3, 4, 5], [6, 7, 0, 1, 2, 3, 4, 5], [6, 7, 0, 1, 2, 3, 4, 5], [6, 7, 0, 1, 2, 3, 4, 5], [6, 7, 0, 1, 2, 3, 4, 5], [6, 7, 0, 1, 2, 3, 4, 5], [6, 7, 0, 1, 2, 3, 4, 5], [6, 7, 0, 1, 2, 3, 4, 5], [6, 7, 0, 1, 2, 3, 4, 5], [6, 7, 0, 1, 2, 3, 4, 5], [6, 7, 0, 1, 2, 3, 4, 5], [6, 7, 0, 1, 2, 3, 4, 5], [6, 7, 0, 1, 2, 3, 4, 5]], [[[39, 79], [84, 124], [129, 169], [174, 214], [219, 259], [264, 304], [309, 349], [354, 394]], [[399, 439], [444, 484], [489, 529], [534, 574], [579, 619], [624, 664], [669, 709], [714, 754]], [[759, 799], [804, 844], [849, 889], [894, 934], [939, 979], [984, 1024], [1029, 1069], [1074, 1114]], [[1119, 1159], [1164, 1204], [1209, 1249], [1254, 1294], [1299, 1339], [1344, 1384], [1389, 1429], [1434, 1474]], [[1479, 1519], [1524, 1564], [1569, 1609], [1614, 1654], [1659, 1699], [1704, 1744], [1749, 1789], [1794, 1834]], [[1839, 1879], [1884, 1924], [1929, 1969], [1974, 2014], [2019, 2059], [2064, 2104], [2109, 2149], [2154, 2194]], [[2199, 2239], [2244, 2284], [2289, 2329], [2334, 2374], [2379, 2419], [2424, 2464], [2469, 2509], [2514, 2554]], [[2559, 2599], [2604, 2644], [2649, 2689], [2694, 2734], [2739, 2779], [2784, 2824], [2829, 2869], [2874, 2914]], [[2919, 2959], [2964, 3004], [3009, 3049], [3054, 3094], [3099, 3139], [3144, 3184], [3189, 3229], [3234, 3274]], [[3279, 3319], [3324, 3364], [3369, 3409], [3414, 3454], [3459, 3499], [3504, 3544], [3549, 3589], [3594, 3634]], [[3639, 3679], [3684, 3724], [3729, 3769], [3774, 3814], [3819, 3859], [3864, 3904], [3909, 3949], [3954, 3994]], [[3999, 4039], [4044, 4084], [4089, 4129], [4134, 4174], [4179, 4219], [4224, 4264], [4269, 4309], [4314, 4354]], [[4359, 4399], [4404, 4444], [4449, 4489], [4494, 4534], [4539, 4579], [4584, 4624], [4629, 4669], [4674, 4714]]]]\n"
     ]
    }
   ],
   "source": [
    "print(sequence)"
   ]
  },
  {
   "cell_type": "code",
   "execution_count": 14,
   "metadata": {},
   "outputs": [
    {
     "name": "stdout",
     "output_type": "stream",
     "text": [
      "summing pulses into their states time: 0.45900988578796387\n"
     ]
    }
   ],
   "source": [
    "#  add up pulses for their respective state, in each 8 step sequence ##\n",
    "#  turning into a by-channel function 06.13.24 ##\n",
    "\n",
    "start = time.time()\n",
    "sequence = np.asarray(sequence, dtype = object)\n",
    "\n",
    "ON_sums = np.zeros((len(ys_cut), len(sequence[0]), len(ys_cut[0][0])), dtype=np.float64) ## 13 channels, 13 sequences, added pulses for ON\n",
    "OFF_sums = np.zeros((len(ys_cut), len(sequence[0]), len(ys_cut[0][0])), dtype=np.float64) ## 13 channels, 13 sequences, added pulses for OFF\n",
    "\n",
    "# @njit\n",
    "def add_pulse(ys, SFarr):\n",
    "    temp_ON = np.zeros((len(SFarr[0]), len(ys[0])), dtype=np.float64)\n",
    "    temp_OFF = np.zeros((len(SFarr[0]), len(ys[0])), dtype=np.float64)\n",
    "    for seq in range(0, len(SFarr[0])): ## for every sequence\n",
    "    #         print('seq:' +str(SFarr[0][seq]))\n",
    "#         print('seq:' +str(seq))\n",
    "        for state in range(0, len(SFarr[1][0])): ## for every state in the sequence\n",
    "    #         print(\"states loop \" + str(range(0, len(SFarr[1][0]))[0]) + ' - ' +  str(range(0, len(SFarr[1][0]))[-1]))\n",
    "            s = SFarr[1][seq][state] ## try this to condense code. Basically, the state currently at\n",
    "            if s==0 or s==3 or s==5 or s==6: ## these are ON states\n",
    "#                 print('ON \"s\" state '+str(s))\n",
    "#                 print('\"state\" ' +str(state) + ' from ' + str(range((SFarr[2][seq][state][0]),(SFarr[2][seq][state][1]))))\n",
    "#                 print('sums from '+str(range((SFarr[2][seq][state][0]),(SFarr[2][seq][state][1]))[0]) +\n",
    "#                 ' - ' +str(range((SFarr[2][seq][state][0]),(SFarr[2][seq][state][1]))[-1]) + '\\n')\n",
    "                for p in range((SFarr[2][seq][state][0]),(SFarr[2][seq][state][1])): ##From 20-60 for example. SFarr[2] is the array of start to end pulses to sum\n",
    "                    temp_ON[seq] = np.add(temp_ON[seq],ys[p]) ## start with zeros, add to each iteratively\n",
    "            if s==1 or s==2 or s==4 or s==7: ## these are OFF states\n",
    "#                 print('OFF \"s\" state '+str(s))\n",
    "#                 print('\"state\" ' +str(state) + ' from ' + str(range((SFarr[2][seq][state][0]),(SFarr[2][seq][state][1]))))\n",
    "#                 print('sums from '+str(range((SFarr[2][seq][state][0]),(SFarr[2][seq][state][1]))[0]) +\n",
    "#                 ' - ' +str(range((SFarr[2][seq][state][0]),(SFarr[2][seq][state][1]))[-1]) + '\\n')\n",
    "                for p in range((SFarr[2][seq][state][0]),(SFarr[2][seq][state][1])):\n",
    "                    temp_OFF[seq] = np.add(temp_OFF[seq],ys[p])\n",
    "    return temp_ON, temp_OFF\n",
    "\n",
    "for i in range(len(ys_cut)):\n",
    "#     print('#################### channel: ' + str(i) + ' ##########################')\n",
    "    ON_sums[i], OFF_sums[i] = add_pulse(ys_cut[i], sequence)\n",
    "    \n",
    "# for i in range(len(ys_basesub)-12):\n",
    "#     print('#################### channel: ' + str(i) + ' ##########################')\n",
    "#     ON_sums[i], OFF_sums[i], ON_minus_sums[i], ON_plus_sums[i] = add_pulse(ys_basesub[i], sequence)\n",
    "\n",
    "end = time.time()\n",
    "print('summing pulses into their states time: ' + str(end-start))  "
   ]
  },
  {
   "cell_type": "code",
   "execution_count": 15,
   "metadata": {
    "scrolled": true
   },
   "outputs": [
    {
     "name": "stdout",
     "output_type": "stream",
     "text": [
      "13\n",
      "13\n",
      "8992\n",
      "13\n",
      "13\n",
      "8992\n"
     ]
    }
   ],
   "source": [
    "print(len(ON_sums))\n",
    "print(len(ON_sums[1]))\n",
    "print(len(ON_sums[1][1]))\n",
    "print(len(OFF_sums))\n",
    "print(len(OFF_sums[1]))\n",
    "print(len(OFF_sums[1][1]))\n",
    "# plt.plot(ON_sums[-1][0])"
   ]
  },
  {
   "cell_type": "markdown",
   "metadata": {},
   "source": [
    "### cleaned up fitting"
   ]
  },
  {
   "cell_type": "code",
   "execution_count": 37,
   "metadata": {},
   "outputs": [],
   "source": [
    "from scipy import odr\n",
    "from scipy.special import voigt_profile\n",
    "from scipy.optimize import curve_fit"
   ]
  },
  {
   "cell_type": "markdown",
   "metadata": {},
   "source": [
    "#### bg fitting"
   ]
  },
  {
   "cell_type": "code",
   "execution_count": 38,
   "metadata": {},
   "outputs": [],
   "source": [
    "bg_region1_beg = 4180\n",
    "bg_region1_end = 5450\n",
    "bg_region2_beg = 6250\n",
    "bg_region2_end = 8992\n",
    "bg_reg1 = [bg_region1_beg,bg_region1_end]\n",
    "bg_reg2 = [bg_region2_beg,bg_region2_end]\n",
    "fullrange = bg_reg2[1]-bg_reg1[0]"
   ]
  },
  {
   "cell_type": "code",
   "execution_count": 39,
   "metadata": {},
   "outputs": [
    {
     "name": "stdout",
     "output_type": "stream",
     "text": [
      "bg_ fitting time: 14.230054378509521\n"
     ]
    }
   ],
   "source": [
    "## change to 2nd order poly in cleaned up version\n",
    "start = time.time()\n",
    "\n",
    "def bg_fitsubtract(bef_res_reg, aft_res_reg, ys): ## before/after resonance region [start:end] respectively, ys[ch] to fit\n",
    "    binstot = aft_res_reg[1]-bef_res_reg[0]  ## total number of bins in whole region\n",
    "    x1 = np.arange(bef_res_reg[0], bef_res_reg[1],1)\n",
    "    x2 = np.arange(aft_res_reg[0], aft_res_reg[1],1)\n",
    "    x = np.append(x1,x2)\n",
    "    fullx = np.arange(bef_res_reg[0], aft_res_reg[1],1) ## an array of every x bin in entire region\n",
    "    ys_bgsub = []\n",
    "#     seq_bgsub = []\n",
    "    for seq in range(0, len(ys)): ## number of sequences, usually 13\n",
    "        fitdata1 = ys[seq][bef_res_reg[0]: bef_res_reg[1]]\n",
    "        fitdata2 = ys[seq][aft_res_reg[0]: aft_res_reg[1]]\n",
    "        datasplice = np.append(fitdata1, fitdata2)\n",
    "#         x = np.linspace(0, len(datasplice),len(datasplice))\n",
    "        y = datasplice\n",
    "        data = odr.Data(x, y)\n",
    "        poly_model2 = odr.polynomial(2)  # using third order polynomial model\n",
    "        odr_obj = odr.ODR(data, poly_model2)\n",
    "        output = odr_obj.run()  # running ODR fitting\n",
    "        poly2 = np.poly1d(output.beta[::-1])\n",
    "        poly_y2 = poly2(x)\n",
    "        fullpoly_y2 = poly2(fullx)\n",
    "        bgsubtracted = ys[seq][bef_res_reg[0]:aft_res_reg[1]] - fullpoly_y2  ## subtracts RealData-BackgroundFit\n",
    "#         seq_bgsub.append(bgsubtracted)\n",
    "        ys_bgsub.append(bgsubtracted)\n",
    "#     ys_bgsub.append(seq_bgsub)\n",
    "    return ys_bgsub\n",
    "\n",
    "## background subtraction currently only for NaI detectors\n",
    "num_fittingchs = len(ON_sums)-1  ## removes the Li detector, assumes it is there\n",
    "ON_bgsub = np.zeros((num_fittingchs,len(ON_sums[0]),fullrange), dtype = np.float64) ## channels, sequences, range of bg_ subtraction\n",
    "OFF_bgsub = np.zeros((num_fittingchs,len(ON_sums[0]),fullrange), dtype = np.float64) ## channels, sequences, range of bg_ subtraction\n",
    "\n",
    "for i in range(0, len(ON_sums)-1):\n",
    "    if chan_enab[i] == 24:\n",
    "        emessage = ('bg_ fit does not work for 6Li yet')\n",
    "#         logger.error(run_num + emessage)\n",
    "        raise Exception(emessage)\n",
    "#     print(chan_enab[i])\n",
    "    ON_bgsub[i]  = bg_fitsubtract(bg_reg1,bg_reg2, ON_sums[i])\n",
    "    OFF_bgsub[i] = bg_fitsubtract(bg_reg1,bg_reg2, OFF_sums[i])\n",
    "    \n",
    "# for i in range(len(testfunc)):\n",
    "#     plt.plot(xs_cut[1][bg_reg1[0]:bg_reg2[1]]*1e-6, testfunc[i], lw = '1.0', label='3rd Order polynomial background subtracted')\n",
    "\n",
    "end = time.time()\n",
    "print('bg_ fitting time: ' + str(end-start))  "
   ]
  },
  {
   "cell_type": "code",
   "execution_count": 40,
   "metadata": {
    "scrolled": true
   },
   "outputs": [
    {
     "name": "stdout",
     "output_type": "stream",
     "text": [
      "[[ 232.61737034  126.469696   -148.58176827 ...    7.28157444\n",
      "   -72.08306003   66.33203096]\n",
      " [  36.72748682   -1.02206552 -107.31333726 ...  -51.28547186\n",
      "   -72.70604916  -14.91868926]\n",
      " [  47.60978856  251.57539528  150.94355652 ...  102.54815697\n",
      "   191.08686068  -35.64955955]\n",
      " ...\n",
      " [  56.14806784  110.16607514  297.6637819  ...  -32.15749795\n",
      "   152.24417724  -39.49143224]\n",
      " [ 118.10689948 -124.75668039  254.72659031 ...   12.97582182\n",
      "     6.32906549  -47.58831846]\n",
      " [ 134.23725024 -108.13382321   20.90033795 ...  -90.70417729\n",
      "  -144.78268813 -168.45162094]]\n"
     ]
    }
   ],
   "source": [
    "print(ON_bgsub[-1])"
   ]
  },
  {
   "cell_type": "markdown",
   "metadata": {},
   "source": [
    "#### now voigt"
   ]
  },
  {
   "cell_type": "code",
   "execution_count": 41,
   "metadata": {},
   "outputs": [],
   "source": [
    "def voigt2(x, sig, gam, xshift, amp):\n",
    "    fit = voigt_profile(x-xshift, sig, gam)*amp\n",
    "    return fit"
   ]
  },
  {
   "cell_type": "code",
   "execution_count": 42,
   "metadata": {},
   "outputs": [],
   "source": [
    "# res_region_beg = 5450\n",
    "# res_region_end = 6250\n",
    "res_region_beg = bg_region1_end  ##currently res region is not selectable... inside of background region\n",
    "res_region_end = bg_region2_beg\n",
    "res_reg = [res_region_beg,res_region_end]\n",
    "if res_reg[0] < bg_reg1[1] or res_reg[1]>bg_reg2[0]:\n",
    "    emessage = ('Declared Background region and Resonance region have overlapping fitting regions')\n",
    "    logger.error(run_num + emessage)\n",
    "    raise Exception(emessage)\n",
    "\n",
    "xdata = xs_cut[0][res_reg[0]:res_reg[1]]*1e-6  ## just change all xs to ms and one array\n",
    "# ydata = ON_bgsub[1][0][bg_reg1[1]-bg_reg1[0]:bg_reg2[0]-bg_reg1[0]] ## generalize"
   ]
  },
  {
   "cell_type": "code",
   "execution_count": 43,
   "metadata": {},
   "outputs": [
    {
     "name": "stdout",
     "output_type": "stream",
     "text": [
      "800\n",
      "12\n",
      "13\n",
      "4812\n",
      "800\n"
     ]
    }
   ],
   "source": [
    "print(len(xdata))\n",
    "# print(len(ydata))\n",
    "print(len(ON_bgsub))\n",
    "print(len(ON_bgsub[0]))\n",
    "print(len(ON_bgsub[0][0]))\n",
    "print(res_reg[1]-res_reg[0])"
   ]
  },
  {
   "cell_type": "code",
   "execution_count": 44,
   "metadata": {},
   "outputs": [
    {
     "name": "stdout",
     "output_type": "stream",
     "text": [
      "12 13 800\n",
      "12 13 800\n"
     ]
    },
    {
     "name": "stderr",
     "output_type": "stream",
     "text": [
      "C:\\Users\\gabeo\\AppData\\Local\\Temp\\ipykernel_2176\\1067626576.py:2: RuntimeWarning: overflow encountered in multiply\n",
      "  fit = voigt_profile(x-xshift, sig, gam)*amp\n"
     ]
    },
    {
     "name": "stdout",
     "output_type": "stream",
     "text": [
      "0\n",
      "1\n",
      "2\n",
      "3\n",
      "4\n",
      "5\n",
      "6\n",
      "7\n",
      "8\n",
      "9\n",
      "10\n",
      "11\n",
      "12 13 800\n",
      "12 13 2 4\n",
      "bg_ fitting time: 3.330859661102295\n"
     ]
    }
   ],
   "source": [
    "# resonance region is assumed to be in between 2 background regions. Could maybe change this. 11.22.24\n",
    "\n",
    "start = time.time()\n",
    " \n",
    "def voigt_fitting(bef_res_reg, aft_res_reg,xs,ys):\n",
    "    fit_curves = []\n",
    "#     amplitudes = []\n",
    "    parameters = []\n",
    "#     parameters = []\n",
    "#     parameters_err = []\n",
    "    for seq in range(0, len(ys)): ## number of sequences, usually 13\n",
    "#         params = []\n",
    "#         params_err = []\n",
    "        ydata = ys[seq][bef_res_reg[1]-bef_res_reg[0]:aft_res_reg[0]-bef_res_reg[0]] \n",
    "        popt, pcov = curve_fit(voigt2, xs, ydata)\n",
    "        fitted_curve = voigt2(xs, popt[0],popt[1],popt[2],popt[3],) ## sigma, gamma, xshift (res. center), amp. related thing\n",
    "#         amp = max(fitted_curve)\n",
    "        fit_curves.append(fitted_curve)\n",
    "#         amplitudes.append(amp)\n",
    "        fit_params = popt\n",
    "        fit_errs = np.diagonal(pcov)\n",
    "        parameters.append([fit_params,fit_errs])\n",
    "#         parameters_err.append(fit_errs)\n",
    "#     return fit_curves, amplitudes, parameters, parameters_err\n",
    "#     return fit_curves, parameters, parameters_err\n",
    "    return fit_curves, parameters\n",
    "\n",
    "\n",
    "testcure, testparam = voigt_fitting(bg_reg1,bg_reg2, xdata,ON_bgsub[1]) ## can take this out later\n",
    "\n",
    "res_size = res_reg[1]-res_reg[0] \n",
    "ON_vfit = np.zeros((len(ON_bgsub),len(ON_bgsub[0]),res_size), dtype = np.float64) ## channels, sequences, range of V_ subtraction\n",
    "OFF_vfit = np.zeros((len(ON_bgsub),len(ON_bgsub[0]),res_size), dtype = np.float64) ## channels, sequences, range of V_ subtraction\n",
    "print(len(ON_vfit), len(ON_vfit[0]),len(ON_vfit[0][0]))\n",
    "ON_vfit_params = np.zeros((len(ON_bgsub),len(ON_bgsub[0]),2,4), dtype = np.float64) ## channels, sequences,[params, param_errs], [sigma, gamma, shift, amp thing]\n",
    "OFF_vfit_params = np.zeros((len(ON_bgsub),len(ON_bgsub[0]),2,4), dtype = np.float64)\n",
    "print(len(ON_vfit), len(ON_vfit[0]),len(ON_vfit[0][0]))\n",
    "\n",
    "for i in range(0, len(ON_sums)-1): \n",
    "    if chan_enab[i] == 24:\n",
    "        emessage = ('bg_ fit does not work for 6Li yet')\n",
    "#         logger.error(run_num + emessage)\n",
    "        raise Exception(emessage)\n",
    "    ON_vfit[i], ON_vfit_params[i]  = voigt_fitting(bg_reg1,bg_reg2,xdata, ON_bgsub[i])\n",
    "    OFF_vfit[i], OFF_vfit_params[i] = voigt_fitting(bg_reg1,bg_reg2,xdata, OFF_bgsub[i])\n",
    "    print(chan_enab[i])\n",
    "    \n",
    "print(len(ON_vfit), len(ON_vfit[0]), len(ON_vfit[0][0]))\n",
    "print(len(ON_vfit_params), len(ON_vfit_params[0]), len(ON_vfit_params[0][0]), len(ON_vfit_params[0][0][0]))\n",
    "end = time.time()\n",
    "print('bg_ fitting time: ' + str(end-start)) "
   ]
  },
  {
   "cell_type": "code",
   "execution_count": 229,
   "metadata": {},
   "outputs": [
    {
     "name": "stdout",
     "output_type": "stream",
     "text": [
      "0.024609129844617873 0.00017002884812790462\n",
      "0.06625330808248346 0.00012377074670681014\n",
      "5.617411487151225e-06 384.92257657804896\n"
     ]
    },
    {
     "data": {
      "text/plain": [
       "0.0003041156366356963"
      ]
     },
     "execution_count": 229,
     "metadata": {},
     "output_type": "execute_result"
    }
   ],
   "source": [
    "print(OFF_vfit_params[0][0][0][0], OFF_vfit_params[0][0][1][0])\n",
    "print(OFF_vfit_params[0][2][0][0], OFF_vfit_params[0][2][1][0])\n",
    "print(OFF_vfit_params[0][6][0][0], OFF_vfit_params[0][6][1][0])\n",
    "np.sqrt(OFF_vfit_params[0][0][1][0]**2+OFF_vfit_params[0][2][1][0]**2+OFF_vfit_params[0][3][1][0]**2)"
   ]
  },
  {
   "cell_type": "code",
   "execution_count": 227,
   "metadata": {},
   "outputs": [
    {
     "name": "stdout",
     "output_type": "stream",
     "text": [
      "0.16131414802785976\n",
      "0.16131414802785976\n"
     ]
    }
   ],
   "source": [
    "ch = 0\n",
    "testerr = []\n",
    "manual = 0\n",
    "for i in range(0,13):\n",
    "    testerr.append(OFF_vfit_params[ch][i][0][0])\n",
    "    manual = manual+OFF_vfit_params[ch][i][0][0]**2\n",
    "manual  = np.sqrt(manual)\n",
    "testtoterr = np.sqrt(sum([i**2 for i in testerr]))\n",
    "print(testtoterr)\n",
    "print(manual)"
   ]
  },
  {
   "cell_type": "code",
   "execution_count": 108,
   "metadata": {},
   "outputs": [
    {
     "name": "stdout",
     "output_type": "stream",
     "text": [
      "12\n",
      "13\n",
      "800\n"
     ]
    },
    {
     "data": {
      "text/plain": [
       "[<matplotlib.lines.Line2D at 0x1c6f4d00100>]"
      ]
     },
     "execution_count": 108,
     "metadata": {},
     "output_type": "execute_result"
    }
   ],
   "source": [
    "print(len(ON_vfit))\n",
    "print(len(ON_vfit[0]))\n",
    "print(len(ON_vfit[0][0]))\n",
    "plt.plot(ON_vfit[0][0])"
   ]
  },
  {
   "cell_type": "markdown",
   "metadata": {},
   "source": [
    "## now calc asym with \"amplitude\" "
   ]
  },
  {
   "cell_type": "code",
   "execution_count": 61,
   "metadata": {},
   "outputs": [],
   "source": [
    "## sum up all pulses, and then calculate asymmetry using \"amplitude\""
   ]
  },
  {
   "cell_type": "code",
   "execution_count": 162,
   "metadata": {},
   "outputs": [],
   "source": [
    "all_ONOFF = np.zeros((len(ON_sums),2, len(ON_sums[0][0])), dtype=np.float64) ## all summed ON[0] and OFF[1] pulses for each channel, not each sequence\n",
    "\n",
    "def all_onoff(ON_arr, OFF_arr):\n",
    "    tempallON = np.zeros((len(ON_arr[0])), dtype=np.float64)\n",
    "    tempallOFF = np.zeros((len(ON_arr[0])), dtype=np.float64)\n",
    "    for seq in range(0, len(ON_arr)): ## number of sequences\n",
    "        tempallON = np.add(ON_arr[seq],tempallON)\n",
    "        tempallOFF = np.add(OFF_arr[seq],tempallOFF)\n",
    "    return tempallON, tempallOFF\n",
    "\n",
    "for i in range(len(ON_sums)):\n",
    "    all_ONOFF[i][0], all_ONOFF[i][1] = all_onoff(ON_sums[i], OFF_sums[i]) ## channel, ON[0] or OFF[1], summed wave\n",
    "    # print('ch done')"
   ]
  },
  {
   "cell_type": "code",
   "execution_count": 194,
   "metadata": {},
   "outputs": [
    {
     "name": "stdout",
     "output_type": "stream",
     "text": [
      "ch done 0\n",
      "ch done 1\n",
      "ch done 2\n",
      "ch done 3\n",
      "ch done 4\n",
      "ch done 5\n",
      "ch done 6\n",
      "ch done 7\n",
      "ch done 8\n",
      "ch done 9\n",
      "ch done 10\n",
      "ch done 11\n"
     ]
    }
   ],
   "source": [
    "all_Vfitcurve_ON = np.zeros((len(ON_vfit), len(ON_vfit[0][0])), dtype=np.float64) ## all summed ON or OFF pulses for each channel, not each sequence\n",
    "all_Vfitcurve_OFF = np.zeros((len(ON_vfit), len(ON_vfit[0][0])), dtype=np.float64) ## all summed ON or OFF pulses for each channel, not each sequence\n",
    "\n",
    "def all_vfits(vfit_arrs):\n",
    "    tempall_vfits = np.zeros((len(vfit_arrs[0])), dtype=np.float64)\n",
    "    for seq in range(0, len(vfit_arrs)): ## number of sequences\n",
    "        tempall_vfits = np.add(vfit_arrs[seq],tempall_vfits)\n",
    "    return tempall_vfits\n",
    "\n",
    "for i in range(len(ON_vfit)):\n",
    "    all_Vfitcurve_ON[i]  = all_vfits(ON_vfit[i]) ## all added vfits for each channel\n",
    "    all_Vfitcurve_OFF[i] = all_vfits(OFF_vfit[i]) \n",
    "    print('ch done', i)"
   ]
  },
  {
   "cell_type": "code",
   "execution_count": 226,
   "metadata": {},
   "outputs": [
    {
     "name": "stdout",
     "output_type": "stream",
     "text": [
      "0.00017002884812790462\n",
      "0.0001135951598030077\n",
      "0.00025731205470882936\n",
      "0.00028361885563181916\n",
      "0.00012377074670681014\n",
      "9.085570877157162e-05\n",
      "0.00021967547316501093\n",
      "0.00012700158098452805\n",
      "0.00022056751254203346\n",
      "0.00011813791264626777\n",
      "0.0001619771601159589\n",
      "0.00024141111882508746\n",
      "384.92257657804896\n",
      "192.46128828903377\n",
      "0.0001060896280399255\n",
      "9.956967708960438e-05\n",
      "0.00010152799486667863\n",
      "0.000167263308088379\n",
      "411.0293247660196\n",
      "205.51466238304803\n",
      "7.203928902979635e-05\n",
      "0.0002617810852315276\n",
      "507.6939604381907\n",
      "475.3993042156525\n",
      "0.0001850511573131397\n",
      "9.96480437310956e-05\n",
      "param sum ch done 0\n",
      "5.484160802838755e-05\n",
      "5.4773360574230886e-05\n",
      "0.00013878732442864904\n",
      "8.142518363068749e-05\n",
      "9.101222548701685e-05\n",
      "5.6173486521069504e-05\n",
      "0.0001430692621734869\n",
      "101.97575546172916\n",
      "0.00011854718970503453\n",
      "7.445267018974476e-05\n",
      "7.130703273161321e-05\n",
      "6.830349360201171e-05\n",
      "10.281833915360052\n",
      "5.140916958548324\n",
      "7.795003092370198e-05\n",
      "0.001027370844250407\n",
      "0.0001016695880182322\n",
      "5.801464223513686e-05\n",
      "0.00011245457313948276\n",
      "6.874419497017805e-05\n",
      "0.00024348621298298062\n",
      "0.00014407737785647595\n",
      "0.00019174584454034985\n",
      "0.0001057899357666484\n",
      "0.00016318967856321956\n",
      "9.419069700143742e-05\n",
      "param sum ch done 1\n",
      "6.717510735687206e-05\n",
      "5.7736024936435896e-05\n",
      "0.00010965857845170953\n",
      "0.0001551285007285093\n",
      "7.212197918450369\n",
      "3.606098959324309\n",
      "0.0001714553499130001\n",
      "9.808798985743454e-05\n",
      "0.0004962637687811243\n",
      "0.0002512636198272338\n",
      "0.00012268153503228662\n",
      "7.324651999386011e-05\n",
      "0.00040709471163697584\n",
      "0.00021851906178426697\n",
      "0.00019381851927865933\n",
      "0.00010774347027015985\n",
      "0.00012606296697384008\n",
      "9.476478481109879e-05\n",
      "8.34291987274819e-05\n",
      "4.8956895366495305e-05\n",
      "0.00010899303602485864\n",
      "6.753589906187483e-05\n",
      "0.00017383057614065068\n",
      "0.00010284640851370385\n",
      "0.00012968344267791203\n",
      "8.019116421348862e-05\n",
      "param sum ch done 2\n",
      "0.00021516879407257607\n",
      "24.190465189343055\n",
      "0.0002717911913804512\n",
      "240.55420563096772\n",
      "9.874576763608618e-05\n",
      "0.00016388377167505808\n",
      "0.0013636186889684594\n",
      "0.0006950262311888415\n",
      "0.00022570809270056646\n",
      "50.89139824941918\n",
      "0.00012974621706480276\n",
      "8.811135391042409e-05\n",
      "0.00016825451452310826\n",
      "0.00014546873042984212\n",
      "0.0002768393215820782\n",
      "0.00015257509913474876\n",
      "0.0002381396231600503\n",
      "0.00013865629855147846\n",
      "0.0002445010655943631\n",
      "1.6912749895819148\n",
      "0.00017549531481602225\n",
      "0.0001278486062457505\n",
      "0.00011870661052161315\n",
      "0.00019589819556619265\n",
      "264.09156749139765\n",
      "132.04578575339772\n",
      "param sum ch done 3\n",
      "0.00021045933050825062\n",
      "0.00012929467506032506\n",
      "9.841686719296219e-05\n",
      "7.587511862998244e-05\n",
      "0.00016094448341136955\n",
      "0.00010853266342092964\n",
      "0.00011076981493447671\n",
      "7.457377354005562e-05\n",
      "33.780028526447154\n",
      "16.890014263488105\n",
      "7.31251350936568e-05\n",
      "9.581620421804526e-05\n",
      "0.00022057380757711301\n",
      "0.0001542974658835335\n",
      "1.9946662391214955\n",
      "0.997333127788033\n",
      "0.00012006565866530097\n",
      "9.163899433327944e-05\n",
      "0.00011517460216629982\n",
      "6.998499971508614e-05\n",
      "7.490776636806205e-05\n",
      "5.086233788486085e-05\n",
      "0.00013348054043097667\n",
      "0.00011500243158029777\n",
      "9.487167859999946e-05\n",
      "4.793729947330906\n",
      "param sum ch done 4\n",
      "0.0008988025414034749\n",
      "15.042177429140706\n",
      "0.0001718082907931953\n",
      "0.00010701757191344204\n",
      "0.0002480445272412293\n",
      "0.0001897124929725778\n",
      "0.00021661487720031202\n",
      "0.00016011379714694218\n",
      "9.596271856310163e-05\n",
      "0.000149401915211839\n",
      "0.00012318868167834082\n",
      "8.068997685684945e-05\n",
      "0.00015020549366769027\n",
      "0.00015837284974374615\n",
      "9.28386307065247e-05\n",
      "0.0003293789984769897\n",
      "0.00013818351219086847\n",
      "8.668129009877461e-05\n",
      "0.00012170485618240939\n",
      "8.956913497914019e-05\n",
      "0.00015813389676549785\n",
      "8.539042712281389e-05\n",
      "7.333863394511488e-05\n",
      "5.4957328283972505e-05\n",
      "0.0004626627729464127\n",
      "0.00023772642744413435\n",
      "param sum ch done 5\n",
      "0.00022833391934556796\n",
      "10.819173871581992\n",
      "0.0003398602326481903\n",
      "0.00041416046460255413\n",
      "0.00028271272877276806\n",
      "0.00018811055529674867\n",
      "0.0008003301431130157\n",
      "0.0004044339626512422\n",
      "0.00011912519477895467\n",
      "0.0001261189612479588\n",
      "0.0004557062488131433\n",
      "0.0002321217537462303\n",
      "0.00023055065701388182\n",
      "0.00018256430617722485\n",
      "0.001420498039021266\n",
      "0.0007153804972000781\n",
      "0.00014991789891280642\n",
      "0.0001320863297865397\n",
      "0.0003122991162159406\n",
      "0.0004771974465958942\n",
      "0.0009154387734836751\n",
      "0.0005022507229072632\n",
      "0.00017025058341047658\n",
      "0.00014988231941008632\n",
      "0.00014600726691550107\n",
      "0.00010087330071141257\n",
      "param sum ch done 6\n",
      "23.836506776837915\n",
      "11.918253388491001\n",
      "24.948624928098422\n",
      "12.474312464244923\n",
      "0.00011296695332770824\n",
      "0.00010339776534946307\n",
      "0.00010666416937479419\n",
      "6.781042182527296e-05\n",
      "0.0001841235989627666\n",
      "0.00013563162310023275\n",
      "7.220002906210973e-05\n",
      "7.160602679084453e-05\n",
      "0.00016480275191878895\n",
      "0.00013956562455517426\n",
      "0.00022431430160313063\n",
      "0.00013093038159052396\n",
      "0.00010415351653646942\n",
      "6.97022927440848e-05\n",
      "8.04989807960768e-05\n",
      "8.336916143922345e-05\n",
      "0.00010982061908704698\n",
      "8.292822515502835e-05\n",
      "0.00013486186670954082\n",
      "0.00013193418342632982\n",
      "0.0001652306108977301\n",
      "0.00011298968333573568\n",
      "param sum ch done 7\n",
      "0.00016826691898209312\n",
      "0.0002041939735726766\n",
      "0.00021430306496688379\n",
      "0.00011830034052449992\n",
      "292.74158671637053\n",
      "146.37079335819777\n",
      "0.0002467504465066393\n",
      "0.00021892579042764694\n",
      "0.00011449153631452727\n",
      "7.756185177050389e-05\n",
      "0.00014651528566506715\n",
      "0.00011642926857764793\n",
      "0.00014514764410660896\n",
      "0.00010657957961094234\n",
      "0.00016053301684394988\n",
      "8.879981763119737e-05\n",
      "0.00012256874151800838\n",
      "8.428683510306107e-05\n",
      "0.0001546209370491434\n",
      "9.587736095110657e-05\n",
      "321.17929201552494\n",
      "160.5896460077962\n",
      "0.00013744590201100667\n",
      "8.725693233556431e-05\n",
      "7.954245357075518e-05\n",
      "6.090803093310759e-05\n",
      "param sum ch done 8\n",
      "0.00022388109861331515\n",
      "0.0001354478562618426\n",
      "0.0001094489630825591\n",
      "0.0036969849787312765\n",
      "0.00021815808909545723\n",
      "0.0001384110871511387\n",
      "0.00021534560473476818\n",
      "0.000128272697008718\n",
      "0.0002928848839901407\n",
      "0.0001598894330928529\n",
      "0.0002113938740886918\n",
      "0.00013010585587562706\n",
      "0.00028110175736225594\n",
      "0.00015899131247098584\n",
      "0.00013163656906789093\n",
      "9.19936748346909e-05\n",
      "0.00038479647042867574\n",
      "0.0014185069524143697\n",
      "0.0002542675425763105\n",
      "0.0002967768282428228\n",
      "0.0004366549989687832\n",
      "0.0002372426049633812\n",
      "0.00013995021548874874\n",
      "0.000585175583499584\n",
      "0.18017426906990672\n",
      "0.09008717954183197\n",
      "param sum ch done 9\n",
      "6.234737294277773e-05\n",
      "5.918105949854543e-05\n",
      "0.00016433770678395425\n",
      "9.677955536832204e-05\n",
      "2.5828088704762635\n",
      "1.2914044367563102\n",
      "8.534146319955355e-05\n",
      "6.841572922226603e-05\n",
      "9.534827158807613e-05\n",
      "0.00010671832851956561\n",
      "0.0011587882574891717\n",
      "0.0005839003156046938\n",
      "0.041708895056176615\n",
      "0.020854522718686333\n",
      "0.0002754151162162348\n",
      "0.00014650206634670795\n",
      "0.00010233836918260924\n",
      "8.202114622696125e-05\n",
      "9.357890902301439e-05\n",
      "0.0002309177631994879\n",
      "0.00015773688342459206\n",
      "8.989878407126406e-05\n",
      "9.177637538878185e-05\n",
      "6.112674101406967e-05\n",
      "0.00010098703692102333\n",
      "0.0002081779366871488\n",
      "param sum ch done 10\n",
      "6.785205551546432e-05\n",
      "4.8119383257589305e-05\n",
      "0.00010732514163777014\n",
      "7.028322085507916e-05\n",
      "8.945051374626629e-05\n",
      "7.493157124902644e-05\n",
      "0.00012248205094638547\n",
      "109.71444454091855\n",
      "0.00021570992198837805\n",
      "0.00015108036154888634\n",
      "0.00011128267838329897\n",
      "7.98513958542645e-05\n",
      "0.00010310822752745727\n",
      "7.172959972501461e-05\n",
      "0.00010117823970439972\n",
      "0.00010567865061347709\n",
      "0.0006209462134594077\n",
      "0.0003118441021267407\n",
      "8.899008367328603e-05\n",
      "6.0797326956208826e-05\n",
      "20.55046460076057\n",
      "10.27523230056601\n",
      "92.66312435561998\n",
      "46.33156217784441\n",
      "8.773081204338108e-05\n",
      "146.53904863220836\n",
      "param sum ch done 11\n"
     ]
    }
   ],
   "source": [
    "## add and avg all sigma/gamma/xloc for ON and OFF per channel. Should not be dpendent on spin state.\n",
    "sig_ch = np.zeros((len(ON_vfit),2), dtype=np.float64) ## 1 sigma +/- error for each channel\n",
    "gam_ch = np.zeros((len(ON_vfit),2), dtype=np.float64) ## 1 gamma +/- error for each channel\n",
    "xloc_ch = np.zeros((len(ON_vfit),2), dtype=np.float64) ## 1 xlocation +/- error for each channel\n",
    "\n",
    "def sum_param(ON_params_arr, OFF_params_arr, key):  ## key choose between sigma gamma or xloc\n",
    "    if key != 'sigma' and key != 'gamma' and key != 'xloc':\n",
    "        emessage = ('not a valid Voigt fit parameter to sum')\n",
    "        logger.error(run_num + emessage)\n",
    "        raise Exception(emessage)\n",
    "    if key == 'sigma':\n",
    "        param = 0\n",
    "    if key == 'gamma':\n",
    "        param = 1\n",
    "    if key == 'xloc':\n",
    "        param = 2\n",
    "    tempsum = 0\n",
    "    temperr  = []\n",
    "    for seq in range(0, len(ON_params_arr)): ## number of sequences\n",
    "        seqsum = (ON_params_arr[seq][0][param]+OFF_params_arr[seq][0][param])/2  # \"normalize\" with /2 but not for #sequences\n",
    "        ## [0] above corresponds to the real values of the paramters, as opposed to their errors\n",
    "        ON_err = ON_params_arr[seq][1][param]\n",
    "        OFF_err = OFF_params_arr[seq][1][param]\n",
    "        ## above [1] is used which corresponds to the error in \"parameter\"\n",
    "        ON_deriv  =  1  ## left over from asym error to keep error prop consistent\n",
    "        OFF_deriv =  1\n",
    "        ## use err prop to get below\n",
    "#         seq_err = np.sqrt((ON_deriv**2)*(ON_err**2)+(OFF_deriv**2)*(OFF_err**2))/2\n",
    "        seq_err = np.sqrt((ON_err**2)+(OFF_err**2))/2\n",
    "        print(OFF_err)\n",
    "        print(seq_err)\n",
    "        temperr.append(seq_err) ## collect all errors for each sequence\n",
    "        tempsum = np.add(seqsum,tempsum)\n",
    "#         print(temperr)\n",
    "    ## add error or each sequence in quad.\n",
    "    toterr = np.sqrt(sum([i**2 for i in temperr]))  ## use list comprehension for sum of squares\n",
    "    out = [tempsum,toterr]\n",
    "    return out\n",
    "\n",
    "for i in range(len(ON_vfit)):\n",
    "    sig_ch[i] = sum_param(ON_vfit_params[i], OFF_vfit_params[i], key='sigma')\n",
    "#     gam_ch[i] = sum_param(ON_vfit_params[i], OFF_vfit_params[i], key='gamma') \n",
    "#     xloc_ch[i] = sum_param(ON_vfit_params[i], OFF_vfit_params[i], key='xloc') \n",
    "    print('param sum ch done', i)"
   ]
  },
  {
   "cell_type": "code",
   "execution_count": 212,
   "metadata": {},
   "outputs": [
    {
     "name": "stdout",
     "output_type": "stream",
     "text": [
      "[[4.96182089e-01 5.52523413e+02]\n",
      " [4.51443561e-01 1.02105258e+02]\n",
      " [4.89775072e-01 3.60609899e+00]\n",
      " [6.98576442e-01 2.80143515e+02]\n",
      " [4.72542563e-01 1.75854230e+01]\n",
      " [5.31530383e-01 1.50421774e+01]\n",
      " [6.68335991e-01 1.08191739e+01]\n",
      " [5.76539240e-01 1.72526298e+01]\n",
      " [4.98174725e-01 2.17286547e+02]\n",
      " [6.58065660e-01 9.01775846e-02]\n",
      " [4.53689016e-01 1.29157301e+00]\n",
      " [3.94639766e-01 1.89111465e+02]]\n"
     ]
    }
   ],
   "source": [
    "print(sig_ch)"
   ]
  },
  {
   "cell_type": "code",
   "execution_count": 182,
   "metadata": {},
   "outputs": [
    {
     "name": "stdout",
     "output_type": "stream",
     "text": [
      "asym ch done 0\n",
      "asym ch done 1\n",
      "asym ch done 2\n",
      "asym ch done 3\n",
      "asym ch done 4\n",
      "asym ch done 5\n",
      "asym ch done 6\n",
      "asym ch done 7\n",
      "asym ch done 8\n",
      "asym ch done 9\n",
      "asym ch done 10\n",
      "asym ch done 11\n"
     ]
    }
   ],
   "source": [
    "## new asym using \"amplitude\" parameter, with error prop\n",
    "\n",
    "# asym_pm = np.zeros((len(ONOFF_plus_sums),2, len(ONOFF_plus_sums[0][0][0])), dtype=np.float64) ## 1 Asym for each channel, not for each sequence (can change?)\n",
    "# asym_ch = np.zeros((len(ON_vfit)), dtype=np.float64) ## 1 Asym for each channel, not for each sequence (can change?)\n",
    "asym_ch_err = np.zeros((len(ON_vfit),2), dtype=np.float64) ## 1 Asym for each channel, not for each sequence (can change?)\n",
    "\n",
    "# def asym3(ON_params_arr, OFF_params_arr):\n",
    "#     tempasym = 0\n",
    "#     for seq in range(0, len(ON_params_arr)): ## number of sequences\n",
    "#         A_plus = ON_params_arr[seq][0][-1] ## just makes things cleaner\n",
    "#         A_min  = OFF_params_arr[seq][0][-1]\n",
    "# #         seqasym = ((ON_params_arr[seq][0][-1]-OFF_params_arr[seq][0][-1]) / (ON_params_arr[seq][0][-1]+OFF_params_arr[seq][0][-1]))\n",
    "#         ## [0] corresponds to the real values of the paramters, as opposed to their errors. [-1] is the \"amplitude\"\n",
    "#         seqasym = ((A_plus-A_min) / (A_plus+A_min))\n",
    "#         ON_err = ON_params_arr[seq][1][-1]\n",
    "#         OFF_err = OFF_params_arr[seq][1][-1]\n",
    "#         ## above [1] is used which corresponds to the error in \"amplitude\"\n",
    "#         tempasym = np.add(seqasym,tempasym)\n",
    "#     ## add error or each sequence asym in quad.\n",
    "#     return tempasym  ## don't normalize asymON_vfit_params this time...\n",
    "def asym3_err(ON_params_arr, OFF_params_arr):\n",
    "    tempasym = 0\n",
    "    temperr  = []\n",
    "    for seq in range(0, len(ON_params_arr)): ## number of sequences\n",
    "        A_plus = ON_params_arr[seq][0][-1] ## just makes things cleaner\n",
    "        A_min  = OFF_params_arr[seq][0][-1]\n",
    "#         seqasym = ((ON_params_arr[seq][0][-1]-OFF_params_arr[seq][0][-1]) / (ON_params_arr[seq][0][-1]+OFF_params_arr[seq][0][-1]))\n",
    "        ## [0] corresponds to the real values of the paramters, as opposed to their errors. [-1] is the \"amplitude\"\n",
    "        seqasym = ((A_plus-A_min) / (A_plus+A_min))\n",
    "        ON_err = ON_params_arr[seq][1][-1]\n",
    "        OFF_err = OFF_params_arr[seq][1][-1]\n",
    "        ## above [1] is used which corresponds to the error in \"amplitude\"\n",
    "        ON_deriv  =  2*A_min/ ((A_plus+A_min)**2)\n",
    "        OFF_deriv = -2*A_plus/((A_plus+A_min)**2)\n",
    "        ## use err prop to get below\n",
    "        seq_err = np.sqrt((ON_deriv**2)*(ON_err**2)+(OFF_deriv**2)*(OFF_err**2))\n",
    "#         seq_err = (1/(A_plus+A_min**2))*np.sqrt(4*(A_min**2)(ON_err)**2+4*(A_plus**2)(OFF_err)**2) ## alternate form\n",
    "        temperr.append(seq_err) ## collect all errors for each sequence\n",
    "        tempasym = np.add(seqasym,tempasym)\n",
    "#         print(temperr)\n",
    "    ## add error or each sequence asym in quad.\n",
    "    toterr = np.sqrt(sum([i**2 for i in temperr]))  ## use list comprehension for sum of squares\n",
    "    out = [tempasym,toterr]\n",
    "    return out  ## don't normalize asymON_vfit_params this time...\n",
    "\n",
    "for i in range(len(ON_vfit)):\n",
    "#     asym_ch[i] = asym3(ON_vfit_params[i], OFF_vfit_params[i])\n",
    "    asym_ch_err[i] = asym3_err(ON_vfit_params[i], OFF_vfit_params[i]) ## error is really high...\n",
    "    print('asym ch done', i)"
   ]
  },
  {
   "cell_type": "code",
   "execution_count": null,
   "metadata": {},
   "outputs": [],
   "source": []
  },
  {
   "cell_type": "code",
   "execution_count": 189,
   "metadata": {},
   "outputs": [
    {
     "name": "stdout",
     "output_type": "stream",
     "text": [
      "(12, 2)\n",
      "(12, 2)\n",
      "(12, 2)\n",
      "(12, 2)\n",
      "(12, 800)\n",
      "(12, 13, 800)\n",
      "(12, 13, 2, 4)\n"
     ]
    }
   ],
   "source": [
    "print(asym_ch_err.shape)\n",
    "print(sig_ch.shape)\n",
    "print(gam_ch.shape)\n",
    "print(xloc_ch.shape)\n",
    "print(all_Vfitcurve_ON.shape)\n",
    "print(ON_vfit.shape)\n",
    "print(ON_vfit_params.shape)"
   ]
  },
  {
   "cell_type": "code",
   "execution_count": 244,
   "metadata": {},
   "outputs": [
    {
     "name": "stdout",
     "output_type": "stream",
     "text": [
      "11.423205170413123 +/- 1.9028276106042556\n",
      "0.024609129844617873 +/- 0.00017002884812790462\n",
      "13.936569493307116 +/- 2.2676332417168203\n",
      "0.018999565893129067 +/- 0.00025731205470882936\n",
      "9.235846770587578 +/- 1.8682387217068122\n",
      "0.06625330808248346 +/- 0.00012377074670681014\n",
      "10.279405232172582 +/- 2.3719964227431873\n",
      "0.046493349684848376 +/- 0.00021967547316501093\n",
      "5.1453224504466935 +/- 1.5816678463561387\n",
      "0.1023112569967145 +/- 0.00022056751254203346\n",
      "12.685089546838453 +/- 2.123672936374117\n",
      "0.02478357356835918 +/- 0.0001619771601159589\n",
      "13.679137479030569 +/- 1.7095377110398913\n",
      "5.617411487151225e-06 +/- 384.92257657804896\n",
      "9.51500611163891 +/- 1.6370809902661922\n",
      "0.025898221054558034 +/- 0.0001060896280399255\n",
      "6.926362592069404 +/- 1.338846936459491\n",
      "0.05667636710496673 +/- 0.00010152799486667863\n",
      "14.278738315001899 +/- 1.7304923463902635\n",
      "4.182085456493605e-08 +/- 411.0293247660196\n",
      "7.567925375055115 +/- 1.2892820343000273\n",
      "0.05074840620676458 +/- 7.203928902979635e-05\n",
      "11.838921383377928 +/- 1.5775243038850524\n",
      "6.834334793737279e-06 +/- 507.6939604381907\n",
      "11.748107725341336 +/- 2.1764667640232402\n",
      "0.031054486011876974 +/- 0.0001850511573131397\n"
     ]
    }
   ],
   "source": [
    "## plots each vfit and the total vfit per ch. (and for on or off)\n",
    "%matplotlib qt\n",
    "ch = 0\n",
    "xs_bg_reg = xs_cut[1][bg_reg1[0]:bg_reg2[1]]*1e-6  ## new 11.21.24\n",
    "plt.plot(xs_bg_reg, ON_bgsub[ch][0])\n",
    "\n",
    "for i in range(0,13):\n",
    "    plt.plot(xdata, OFF_vfit[ch][i])\n",
    "    print(OFF_vfit_params[ch][i][0][3],'+/-' ,OFF_vfit_params[ch][i][1][3])\n",
    "    print(OFF_vfit_params[ch][i][0][0],'+/-' ,OFF_vfit_params[ch][i][1][0])\n",
    "\n",
    "\n",
    "# plt.plot(xdata, all_Vfitcurve_ON[ch])\n",
    "# plt.plot(xdata, all_Vfitcurve_OFF[ch])\n",
    "\n",
    "plt.show()"
   ]
  },
  {
   "cell_type": "code",
   "execution_count": null,
   "metadata": {},
   "outputs": [],
   "source": []
  },
  {
   "cell_type": "markdown",
   "metadata": {},
   "source": [
    "## save all on and off values and asymm + paramters. save out."
   ]
  },
  {
   "cell_type": "code",
   "execution_count": 191,
   "metadata": {},
   "outputs": [
    {
     "name": "stdout",
     "output_type": "stream",
     "text": [
      "saving hdf5: 0.13002467155456543\n"
     ]
    }
   ],
   "source": [
    "## old version\n",
    "\n",
    "start = time.time()\n",
    "# testch = 0\n",
    "\n",
    "with h5py.File(ONOFFSavename+'.h5', 'w') as hdf5_file:\n",
    "#     hdf5_file.create_dataset('ch '+str(np.char.zfill(str(chan_enab[0]), 2)), data=all_ONOFF[0], compression=\"gzip\")\n",
    "#     hdf5_file.create_dataset('ch '+str(np.char.zfill(str(chan_enab[0]), 2)), data=all_ONOFF[0])\n",
    "    hdf5_file.create_dataset('xs ', data=xs_cut[0]) ## all xs are the same, even though they are per channel...\n",
    "    hdf5_file.attrs['sequences'] = len(sequence[0])\n",
    "    hdf5_file.attrs['rownames'] = ['ON_Row0', 'OFF_Row1']\n",
    "    for i in range(0,len(ys_cut)):\n",
    "#         with h5py.File('test_allONOFFs'+'.h5', 'a') as hdf5_file:\n",
    "#         hdf5_file.create_dataset('ch '+str(np.char.zfill(str(chan_enab[i]), 2)), data=all_ONOFF[i], compression=\"gzip\")\n",
    "        hdf5_file.create_dataset('ch '+str(np.char.zfill(str(chan_enab[i]), 2)), data=all_ONOFF[i])\n",
    "#     a = hdf5_file.create_dataset('ch '+str(np.char.zfill(str(chan_enab[0]), 2)), data=all_ONOFF[0])\n",
    "#     a.attrs['rownames'] = ['ON_Row0', 'OFF_Row1']\n",
    "#     a.attrs['sequences'] = len(sequence[0])\n",
    "        \n",
    "end = time.time()\n",
    "print('saving hdf5: ' + str(end-start))    "
   ]
  },
  {
   "cell_type": "code",
   "execution_count": 190,
   "metadata": {},
   "outputs": [
    {
     "name": "stdout",
     "output_type": "stream",
     "text": [
      "[5450, 6250]\n"
     ]
    }
   ],
   "source": [
    "print(res_reg)"
   ]
  },
  {
   "cell_type": "code",
   "execution_count": 199,
   "metadata": {},
   "outputs": [
    {
     "name": "stdout",
     "output_type": "stream",
     "text": [
      "saving hdf5: 0.1019749641418457\n"
     ]
    }
   ],
   "source": [
    "## new version adds vfit curves\n",
    "\n",
    "start = time.time()\n",
    "# testch = 0\n",
    "\n",
    "with h5py.File(ONOFFSavename+'.h5', 'w') as hdf5_file:\n",
    "#     hdf5_file.create_dataset('ch '+str(np.char.zfill(str(chan_enab[0]), 2)), data=all_ONOFF[0], compression=\"gzip\")\n",
    "#     hdf5_file.create_dataset('ch '+str(np.char.zfill(str(chan_enab[0]), 2)), data=all_ONOFF[0])\n",
    "    hdf5_file.create_dataset('xs ', data=xs_cut[0]) ## all xs are the same, even though they are per channel...\n",
    "    hdf5_file.attrs['sequences'] = len(sequence[0])\n",
    "    for i in range(0,len(ys_cut)): ## change this to length of asymms!\n",
    "        Ch_grp = hdf5_file.create_group('ch_'+str(np.char.zfill(str(chan_enab[i]), 2)))\n",
    "        added_pulses_subgrp = Ch_grp.create_group('added_pulses')\n",
    "        added_vfits_subgrp = Ch_grp.create_group('added_vfits')\n",
    "        added_pulses_subgrp.attrs['rownames'] = ['ON_Row0', 'OFF_Row1']\n",
    "        added_pulses_subgrp.create_dataset('ch '+str(np.char.zfill(str(chan_enab[i]), 2)), data=all_ONOFF[i])\n",
    "        if chan_enab[i] == 24:\n",
    "            pass\n",
    "        else:\n",
    "            added_vfits_subgrp.attrs['resonance_region'] = res_reg\n",
    "            added_vfits_subgrp.attrs['note'] = 'added all Voigt fits for each ON or OFF state, per ch.'\n",
    "            added_vfits_subgrp.create_dataset('Vfit_curve_ON',data=all_Vfitcurve_ON[i])\n",
    "            added_vfits_subgrp.create_dataset('Vfit_curve_OFF',data=all_Vfitcurve_OFF[i])\n",
    "        \n",
    "end = time.time()\n",
    "print('saving hdf5: ' + str(end-start))    "
   ]
  },
  {
   "cell_type": "code",
   "execution_count": 200,
   "metadata": {},
   "outputs": [
    {
     "name": "stdout",
     "output_type": "stream",
     "text": [
      "saving hdf5: 0.13481402397155762\n"
     ]
    }
   ],
   "source": [
    "## testing create groups\n",
    "# test_dat_arr = ON_vfit_params[0]\n",
    "\n",
    "start = time.time()\n",
    "# testch = 0\n",
    "\n",
    "with h5py.File(AsymSavename+'.h5', 'w') as hdf5_file:\n",
    "#     hdf5_file.create_dataset('ch '+str(np.char.zfill(str(chan_enab[0]), 2)), data=all_ONOFF[0], compression=\"gzip\")\n",
    "#     hdf5_file.create_dataset('ch '+str(np.char.zfill(str(chan_enab[0]), 2)), data=all_ONOFF[0])\n",
    "    hdf5_file.create_dataset('xs ', data=xs_cut[0]) ## all xs are the same, even though they are per channel...\n",
    "    hdf5_file.attrs['sequences'] = len(sequence[0])\n",
    "    for i in range(0,len(asym_ch_err)): ## change this to length of asymms!\n",
    "        Ch_grp = hdf5_file.create_group('ch_'+str(np.char.zfill(str(chan_enab[i]), 2)))\n",
    "        Ch_grp.attrs['quick asym'] = asym_ch_err[i]\n",
    "        Ch_grp.attrs['avg_xloc']  = xloc_ch[i]\n",
    "        Ch_grp.attrs['avg_sigma'] = sig_ch[i]\n",
    "        Ch_grp.attrs['avg_gamma'] = gam_ch[i]\n",
    "        ON_subgrp = Ch_grp.create_group('ON')\n",
    "        OFF_subgrp = Ch_grp.create_group('OFF')\n",
    "        ON_subgrp.attrs['for_each_sequence'] = ['parameter (sigma, gamma, x_loc, \"amplitude\")', 'and its error']\n",
    "        OFF_subgrp.attrs['for_each_sequence'] = ['parameter (sigma, gamma, x_loc, \"amplitude\")', 'and its error']\n",
    "        ON_subgrp.create_dataset('parameters',data=ON_vfit_params[i])\n",
    "        OFF_subgrp.create_dataset('parameters',data=OFF_vfit_params[i])\n",
    "        ON_subgrp.create_dataset('Vfit_curves',data=ON_vfit[i])\n",
    "        OFF_subgrp.create_dataset('Vfit_curves',data=OFF_vfit[i])\n",
    "#         with h5py.File('test_allONOFFs'+'.h5', 'a') as hdf5_file:\n",
    "#         hdf5_file.create_dataset('ch '+str(np.char.zfill(str(chan_enab[i]), 2)), data=all_ONOFF[i], compression=\"gzip\")\n",
    "#         hdf5_file.create_dataset('ch '+str(np.char.zfill(str(chan_enab[i]), 2)), data=all_ONOFF[i])\n",
    "#     a = hdf5_file.create_dataset('ch '+str(np.char.zfill(str(chan_enab[0]), 2)), data=all_ONOFF[0])\n",
    "#     a.attrs['rownames'] = ['ON_Row0', 'OFF_Row1']\n",
    "#     a.attrs['sequences'] = len(sequence[0])\n",
    "        \n",
    "end = time.time()\n",
    "print('saving hdf5: ' + str(end-start))    "
   ]
  },
  {
   "cell_type": "code",
   "execution_count": null,
   "metadata": {},
   "outputs": [],
   "source": [
    "sig_ch[i] = gam_ch[i] \n",
    "    xloc_ch[i]"
   ]
  },
  {
   "cell_type": "code",
   "execution_count": null,
   "metadata": {},
   "outputs": [],
   "source": [
    "## testing reaad\n",
    "with h5py.File(ONOFFSavename+'.h5', 'r') as f:\n",
    "    print(f.attrs.keys())\n",
    "    print(f.attrs.get('sequences'))\n",
    "    print(f.attrs.get('rownames'))\n",
    "    f.close()\n",
    "    \n",
    "# f = h5py.File('test_allONOFFs'+'.h5', 'r')\n",
    "# # print(f['ch 00'].attrs.get('sequences'))\n",
    "# f.close()"
   ]
  },
  {
   "cell_type": "code",
   "execution_count": 230,
   "metadata": {},
   "outputs": [
    {
     "ename": "NameError",
     "evalue": "name 'fullx' is not defined",
     "output_type": "error",
     "traceback": [
      "\u001b[1;31m---------------------------------------------------------------------------\u001b[0m",
      "\u001b[1;31mNameError\u001b[0m                                 Traceback (most recent call last)",
      "\u001b[1;32m~\\AppData\\Local\\Temp\\ipykernel_2176\\2627530662.py\u001b[0m in \u001b[0;36m<module>\u001b[1;34m\u001b[0m\n\u001b[0;32m      6\u001b[0m \u001b[1;31m# plt.plot(xs_cut[ch], asym_ch_raw[ch], label='asymmetry')  ## there's no point in looking at asym for one channel. Need more data\u001b[0m\u001b[1;33m\u001b[0m\u001b[1;33m\u001b[0m\u001b[0m\n\u001b[0;32m      7\u001b[0m \u001b[1;31m# plt.plot(fullx, asym_ch_bg[ch], label='asymmetry')  # division by 0 is a problem...\u001b[0m\u001b[1;33m\u001b[0m\u001b[1;33m\u001b[0m\u001b[0m\n\u001b[1;32m----> 8\u001b[1;33m \u001b[0mplt\u001b[0m\u001b[1;33m.\u001b[0m\u001b[0mplot\u001b[0m\u001b[1;33m(\u001b[0m\u001b[1;33m(\u001b[0m\u001b[0mfullx\u001b[0m\u001b[1;33m-\u001b[0m\u001b[1;36m2000\u001b[0m\u001b[1;33m+\u001b[0m\u001b[1;36m8\u001b[0m\u001b[1;33m)\u001b[0m\u001b[1;33m*\u001b[0m\u001b[1;33m(\u001b[0m\u001b[0mdecFactor\u001b[0m\u001b[1;33m[\u001b[0m\u001b[1;36m1\u001b[0m\u001b[1;33m]\u001b[0m\u001b[1;33m*\u001b[0m\u001b[1;36m16\u001b[0m\u001b[1;33m*\u001b[0m\u001b[1;36m1e-6\u001b[0m\u001b[1;33m)\u001b[0m\u001b[1;33m,\u001b[0m \u001b[0masym_ch_bg\u001b[0m\u001b[1;33m[\u001b[0m\u001b[0mch\u001b[0m\u001b[1;33m]\u001b[0m\u001b[1;33m,\u001b[0m \u001b[0mlabel\u001b[0m\u001b[1;33m=\u001b[0m\u001b[1;34m'asymmetry'\u001b[0m\u001b[1;33m)\u001b[0m  \u001b[1;31m# division by 0 is a problem...\u001b[0m\u001b[1;33m\u001b[0m\u001b[1;33m\u001b[0m\u001b[0m\n\u001b[0m\u001b[0;32m      9\u001b[0m \u001b[1;33m\u001b[0m\u001b[0m\n\u001b[0;32m     10\u001b[0m \u001b[0mplt\u001b[0m\u001b[1;33m.\u001b[0m\u001b[0maxvline\u001b[0m\u001b[1;33m(\u001b[0m\u001b[0mx\u001b[0m \u001b[1;33m=\u001b[0m \u001b[1;36m1.97\u001b[0m\u001b[1;33m,\u001b[0m \u001b[0mlabel\u001b[0m\u001b[1;33m=\u001b[0m\u001b[1;34m'p-wave peak?'\u001b[0m\u001b[1;33m)\u001b[0m\u001b[1;33m\u001b[0m\u001b[1;33m\u001b[0m\u001b[0m\n",
      "\u001b[1;31mNameError\u001b[0m: name 'fullx' is not defined"
     ]
    }
   ],
   "source": [
    "%matplotlib qt\n",
    "ch = 2\n",
    "plt.title(f'Summed Pulses for channel {ch}')\n",
    "plt.plot(xs_cut[ch]*1e-6, all_ONOFF[ch][0], label='ON states')\n",
    "# plt.plot(xs_cut[ch], all_ONOFF[ch][1], label='OFF states')\n",
    "# plt.plot(xs_cut[ch], asym_ch_raw[ch], label='asymmetry')  ## there's no point in looking at asym for one channel. Need more data\n",
    "# plt.plot(fullx, asym_ch_bg[ch], label='asymmetry')  # division by 0 is a problem...\n",
    "plt.plot((fullx-2000+8)*(decFactor[1]*16*1e-6), asym_ch_bg[ch], label='asymmetry')  # division by 0 is a problem...\n",
    "\n",
    "plt.axvline(x = 1.97, label='p-wave peak?')\n",
    "\n",
    "plt.legend()\n",
    "plt.show()"
   ]
  },
  {
   "cell_type": "code",
   "execution_count": 21,
   "metadata": {},
   "outputs": [
    {
     "name": "stdout",
     "output_type": "stream",
     "text": [
      "saving hdf5: 0.061153411865234375\n"
     ]
    }
   ],
   "source": [
    "start = time.time()\n",
    "\n",
    "with h5py.File(AsymSavename+'.h5', 'w') as hdf5_file:\n",
    "#     hdf5_file.create_dataset('ch '+str(np.char.zfill(str(chan_enab[0]), 2)), data=all_ONOFF[0], compression=\"gzip\")\n",
    "    hdf5_file.create_dataset('xs ', data=xs_cut[0])\n",
    "    hdf5_file.attrs['sequences'] = len(sequence[0])\n",
    "    for i in range(0,len(ys_cut)):\n",
    "        hdf5_file.create_dataset('ch '+str(np.char.zfill(str(chan_enab[i]), 2)), data=asym_ch[i])\n",
    "        \n",
    "# f = gzip.GzipFile(\"testcompressednparr.npy.gz\", \"w\")\n",
    "# np.save(file=f, arr=ys_cut)\n",
    "# f.close()\n",
    "        \n",
    "end = time.time()\n",
    "print('saving hdf5: ' + str(end-start))    "
   ]
  },
  {
   "cell_type": "code",
   "execution_count": null,
   "metadata": {},
   "outputs": [],
   "source": [
    "## testing reaad\n",
    "with h5py.File(AsymSavename+'.h5', 'r') as f:\n",
    "    print(f.attrs.keys())\n",
    "    print(f.attrs.get('sequences'))\n",
    "    print(f.attrs.get('rownames'))\n",
    "    f.close()"
   ]
  },
  {
   "cell_type": "code",
   "execution_count": null,
   "metadata": {},
   "outputs": [],
   "source": [
    "# start = time.time()\n",
    "\n",
    "# np.save(os.getcwd() + '/testnpysave', asym_ch)\n",
    "# np.save(os.getcwd() + '/processed_data/'+ 'xs_cut', xs_cut)\n",
    "# # np.save(os.getcwd() + pmSavename, asym_pm)\n",
    "# # np.save(os.getcwd() + AsymSavename, Asym)\n",
    "# end = time.time()\n",
    "# print('saving as npy ' + str(end-start))  "
   ]
  },
  {
   "cell_type": "code",
   "execution_count": null,
   "metadata": {},
   "outputs": [],
   "source": [
    "fullend = time.time()\n",
    "print('full processing time: ' + str(fullend-fullstart))  \n",
    "print('finished ' + str(datetime.now())) \n",
    "print('\\n')"
   ]
  },
  {
   "cell_type": "markdown",
   "metadata": {},
   "source": [
    "## end of data processing ##"
   ]
  },
  {
   "cell_type": "code",
   "execution_count": 232,
   "metadata": {
    "scrolled": true
   },
   "outputs": [
    {
     "name": "stdout",
     "output_type": "stream",
     "text": [
      "[5.61741149e-06 4.33140510e-02 1.96993303e+00 1.36791375e+01]\n",
      "[[ 3.84922577e+02 -8.10138546e-02  3.30527249e-03 -8.98536446e+00]\n",
      " [-8.10138546e-02  4.72178576e-05 -7.01391053e-07  6.70753380e-03]\n",
      " [ 3.30527249e-03 -7.01391053e-07  1.46383296e-05 -7.83805934e-05]\n",
      " [-8.98536446e+00  6.70753380e-03 -7.83805934e-05  1.70953771e+00]]\n",
      "[ 34.41607826  23.34753564  63.08951546 -73.03935381 -19.47467192\n",
      "  15.21646023 -45.3119401  -27.49887262 -20.78847391 -28.22595977]\n"
     ]
    },
    {
     "name": "stderr",
     "output_type": "stream",
     "text": [
      "C:\\Users\\gabeo\\AppData\\Local\\Temp\\ipykernel_2176\\729578942.py:7: RuntimeWarning: overflow encountered in multiply\n",
      "  fit = voigt_profile(x-xshift, sig, gam)*amp\n"
     ]
    }
   ],
   "source": [
    "## old one channel curve/param\n",
    "\n",
    "xdata = xs_cut[0][res_reg[0]:res_reg[1]]*1e-6  ## just change all xs to ms and one array\n",
    "ydata = OFF_bgsub[0][6][bg_reg1[1]-bg_reg1[0]:bg_reg2[0]-bg_reg1[0]] ## generalize\n",
    "\n",
    "def voigt2(x, sig, gam, xshift, amp):\n",
    "    fit = voigt_profile(x-xshift, sig, gam)*amp\n",
    "    return fit\n",
    "\n",
    "popt, pcov = curve_fit(voigt2, xdata, ydata)\n",
    "print(popt)\n",
    "print(pcov)\n",
    "\n",
    "fitted_curve = voigt2(xdata, popt[0],popt[1],popt[2],popt[3],)\n",
    "print(ydata[10:20])"
   ]
  },
  {
   "cell_type": "markdown",
   "metadata": {},
   "source": [
    "### plotting etc."
   ]
  },
  {
   "cell_type": "code",
   "execution_count": 89,
   "metadata": {},
   "outputs": [
    {
     "name": "stdout",
     "output_type": "stream",
     "text": [
      "bg_ fitting time: 13.813642024993896\n"
     ]
    }
   ],
   "source": [
    "from scipy import odr\n",
    "start = time.time()\n",
    "\n",
    "bg_region1_beg = 4180\n",
    "bg_region1_end = 5450\n",
    "bg_region2_beg = 6250\n",
    "bg_region2_end = 8992\n",
    "bg_reg1 = [bg_region1_beg,bg_region1_end]\n",
    "bg_reg2 = [bg_region2_beg,bg_region2_end]\n",
    "fullrange = bg_reg2[1]-bg_reg1[0]\n",
    "# print(bg_reg1[0])\n",
    "\n",
    "def bg_fitsubtract(bef_res_reg, aft_res_reg, ys): ## before/after resonance region [start:end] respectively, ys[ch] to fit\n",
    "    binstot = aft_res_reg[1]-bef_res_reg[0]  ## total number of bins in whole region\n",
    "    x1 = np.arange(bef_res_reg[0], bef_res_reg[1],1)\n",
    "    x2 = np.arange(aft_res_reg[0], aft_res_reg[1],1)\n",
    "    x = np.append(x1,x2)\n",
    "    fullx = np.arange(bef_res_reg[0], aft_res_reg[1],1) ## an array of every x bin in entire region\n",
    "    ys_bgsub = []\n",
    "#     seq_bgsub = []\n",
    "    for seq in range(0, len(ys)): ## number of sequences, usually 13\n",
    "        fitdata1 = ys[seq][bef_res_reg[0]: bef_res_reg[1]]\n",
    "        fitdata2 = ys[seq][aft_res_reg[0]: aft_res_reg[1]]\n",
    "        datasplice = np.append(fitdata1, fitdata2)\n",
    "#         x = np.linspace(0, len(datasplice),len(datasplice))\n",
    "        y = datasplice\n",
    "        data = odr.Data(x, y)\n",
    "        poly_model2 = odr.polynomial(2)  # using second order polynomial model. 3rd order looks worse...\n",
    "        odr_obj = odr.ODR(data, poly_model2)\n",
    "        output = odr_obj.run()  # running ODR fitting\n",
    "        poly2 = np.poly1d(output.beta[::-1])\n",
    "        poly_y2 = poly2(x)\n",
    "        fullpoly_y2 = poly2(fullx)\n",
    "        bgsubtracted = ys[seq][bef_res_reg[0]:aft_res_reg[1]] - fullpoly_y2  ## subtracts RealData-BackgroundFit\n",
    "#         seq_bgsub.append(bgsubtracted)\n",
    "        ys_bgsub.append(bgsubtracted)\n",
    "#     ys_bgsub.append(seq_bgsub)\n",
    "    return ys_bgsub\n",
    "\n",
    "ON_bgsub = np.zeros((len(ON_sums),len(ON_sums[0]),fullrange), dtype = np.float64) ## channels, sequences, range of bg_ subtraction\n",
    "OFF_bgsub = np.zeros((len(ON_sums),len(ON_sums[0]),fullrange), dtype = np.float64) ## channels, sequences, range of bg_ subtraction\n",
    "\n",
    "# testfunc = [] ## channels, sequences, range of bg_ subtraction\n",
    "for i in range(0, len(ON_sums)-1):\n",
    "#     testfunc.append(bg_fitsubtract(bg_reg1,bg_reg2, ON_sums[i]))\n",
    "    if chan_enab[i] == 24:\n",
    "        emessage = ('bg_ fit does not work for 6Li yet')\n",
    "#         logger.error(run_num + emessage)\n",
    "        raise Exception(emessage)\n",
    "#     print(chan_enab[i])\n",
    "    ON_bgsub[i] = bg_fitsubtract(bg_reg1,bg_reg2, ON_sums[i])\n",
    "    OFF_bgsub[i] = bg_fitsubtract(bg_reg1,bg_reg2, OFF_sums[i])\n",
    "    \n",
    "# for i in range(len(testfunc)):\n",
    "#     plt.plot(xs_cut[1][bg_reg1[0]:bg_reg2[1]]*1e-6, testfunc[i], lw = '1.0', label='3rd Order polynomial background subtracted')\n",
    "\n",
    "end = time.time()\n",
    "print('bg_ fitting time: ' + str(end-start))  "
   ]
  },
  {
   "cell_type": "code",
   "execution_count": null,
   "metadata": {},
   "outputs": [],
   "source": []
  },
  {
   "cell_type": "code",
   "execution_count": 90,
   "metadata": {},
   "outputs": [
    {
     "name": "stdout",
     "output_type": "stream",
     "text": [
      "[4180 4181 4182 ... 5447 5448 5449]\n"
     ]
    }
   ],
   "source": [
    "print(np.arange(bg_reg1[0], bg_reg1[1],1))"
   ]
  },
  {
   "cell_type": "code",
   "execution_count": 91,
   "metadata": {},
   "outputs": [
    {
     "name": "stdout",
     "output_type": "stream",
     "text": [
      "[4180, 5450]\n",
      "[6250, 8992]\n",
      "[4180 4181 4182 ... 8989 8990 8991]\n",
      "4812\n"
     ]
    }
   ],
   "source": [
    "print(bg_reg1)\n",
    "print(bg_reg2)\n",
    "\n",
    "x = np.arange(bg_reg1[0], bg_reg2[1],1)\n",
    "print(x)\n",
    "print(len(x))\n",
    "\n"
   ]
  },
  {
   "cell_type": "code",
   "execution_count": 92,
   "metadata": {},
   "outputs": [
    {
     "name": "stdout",
     "output_type": "stream",
     "text": [
      "[ 91.85716498 -26.6762865   45.23122741  26.14433756 125.6897113\n",
      "  12.06456208  18.3728285   11.90043417  -6.43205842  43.58873621]\n",
      "[-44.61219734 -69.85721133  -0.9400176  172.54827681  18.50579762\n",
      "  88.29042414 134.06344318 230.09845498 127.20450247 -22.21520624]\n",
      "[ -5.57646622  50.42642147  90.67168414 101.16192818 -20.02007138\n",
      " -90.51371387  21.56399344 -66.30766847 -59.04258571 -34.84340476]\n",
      "[ 34.72002756  23.50808917  18.02011848 -43.95680667  42.00068885\n",
      " -14.05540668  74.33982505 -88.09354335 -71.75141583  39.61420569]\n",
      "[-28.61365319 -93.17055851 -56.96439506 -43.86827923  65.6700356\n",
      " 210.11394065 182.83799099  87.30622766 -30.90810715 -19.98034928]\n",
      "[ 10.28242523  -0.61333949 -33.74955058  50.52808345 -24.51689117\n",
      " -11.59157536 -14.67936853  -4.32918465  -6.30440643 -16.07932218]\n",
      "[-124.388234    -91.85322348   56.5720006   111.36442663  -42.83382303\n",
      "  -45.34414027  -29.71296976   -3.6072559    13.09727974 -160.66610087]\n",
      "[-23.81279319 -61.04524836 -94.03926327  34.58825252  -5.4374698\n",
      " -49.40799376  79.27351634 113.0063922  128.39984037 -57.32189189]\n",
      "\n",
      "[-82.61516725  70.72127966 -43.33812859 -87.5187031  -57.26640554\n",
      "  90.00147869 -17.39473898 -16.92341663 251.27162991  10.52042285]\n",
      "[  4.47256824 -25.27002634  14.58010037 -34.48849297 -78.38850143\n",
      " -34.92736051 -42.49418683  48.69558692 -31.19520478 -19.10327131]\n",
      "[148.3389835   38.65259254 -17.23427381  34.74061434 103.54784483\n",
      " -11.37923727   1.64958634 -77.95938386 104.86869252  41.73777935]\n",
      "[124.53683259 -22.27013981 -18.35042784 -20.32290081 -58.02021884\n",
      " -31.01826516   4.36648338 142.48058256  43.83837296 -84.03698271]\n",
      "[  5.04621169  91.43453476  23.82164027 -17.68265845   5.38155244\n",
      " 186.35620739  84.66848795 110.98948968  93.69282592  12.76880899]\n",
      "[ 77.35086537 -29.11908209 -84.36639077  67.84429741  43.9746091\n",
      "  98.11124172 191.61610468 -18.64850428  38.99827301   6.28436569]\n",
      "[-45.78121149  20.08391062  55.67001389 116.79950961  45.34775054\n",
      " 270.45632219 186.7888956   74.3591721   24.61232419   9.51832132]\n",
      "[-10.8080103  126.12071654  46.26188165  66.06804285  45.19701877\n",
      "  60.82609835 177.00586819   2.85380603 -68.6384385  -55.34092759]\n"
     ]
    }
   ],
   "source": [
    "## making sure these are all different\n",
    "\n",
    "# print((ON_bgsub[0][0][50:60]))\n",
    "# print((ON_bgsub[0][1][50:60]))\n",
    "# print((ON_bgsub[0][-1][50:60]))\n",
    "# print((ON_bgsub[0][-2][50:60]))\n",
    "# print((ON_bgsub[3][0][50:60]))\n",
    "# print((ON_bgsub[3][1][50:60]))\n",
    "# print((ON_bgsub[3][-1][50:60]))\n",
    "# print((ON_bgsub[3][-2][50:60]))\n",
    "# print()\n",
    "# print((OFF_bgsub[0][0][50:60]))\n",
    "# print((OFF_bgsub[0][1][50:60]))\n",
    "# print((OFF_bgsub[0][-1][50:60]))\n",
    "# print((OFF_bgsub[0][-2][50:60]))\n",
    "# print((OFF_bgsub[3][0][50:60]))\n",
    "# print((OFF_bgsub[3][1][50:60]))\n",
    "# print((OFF_bgsub[3][-1][50:60]))\n",
    "# print((OFF_bgsub[3][-2][50:60]))\n",
    "\n",
    "for i in range(len(ON_bgsub)):\n",
    "    plt.plot(xs_cut[1][bg_reg1[0]:bg_reg2[1]]*1e-6, ON_bgsub[i][0], lw = '1.0', label='3rd Order polynomial background subtracted')"
   ]
  },
  {
   "cell_type": "code",
   "execution_count": 93,
   "metadata": {},
   "outputs": [
    {
     "name": "stdout",
     "output_type": "stream",
     "text": [
      "13\n",
      "13\n",
      "8992\n",
      "8992\n",
      "8992\n",
      "8992\n",
      "1118208.0\n",
      "1768448.0\n",
      "2178048.0\n",
      "[1118208. 1118720. 1119232. ... 3580416. 3580928. 3581440.]\n",
      "4012\n"
     ]
    }
   ],
   "source": [
    "%matplotlib qt\n",
    "print(len(ON_sums))\n",
    "print(len(ON_sums[0]))\n",
    "print(len(ON_sums[0][0]))\n",
    "print(len(ON_sums[0][1]))\n",
    "print(len(ON_sums[0][2]))\n",
    "print(len(ON_sums[0][3]))\n",
    "plt.plot(xs_cut[1], ON_sums[1][0])\n",
    "plt.axvline(xs_cut[1][bg_reg1[0]])\n",
    "plt.axvline(xs_cut[1][bg_reg1[1]])\n",
    "plt.axvline(xs_cut[1][5850], color = 'r')\n",
    "plt.axvline(xs_cut[1][6250])\n",
    "# plt.axvline(xs_cut[1][bg_reg2[1]])\n",
    "print(xs_cut[1][bg_reg1[0]])\n",
    "print(xs_cut[1][bg_reg1[1]])\n",
    "print(xs_cut[1][6250])\n",
    "test_polyreg = ON_sums[1][0][bg_reg1[0]:bg_reg1[1]]\n",
    "test_polyregx = xs_cut[1][bg_reg1[0]:bg_reg1[1]]\n",
    "test_polyreg2 = ON_sums[1][0][6250:bg_reg2[1]]\n",
    "test_polyregx2 = xs_cut[1][6250:bg_reg2[1]]\n",
    "plt.plot(test_polyregx, test_polyreg, color = 'y')\n",
    "plt.plot(test_polyregx2, test_polyreg2, color = 'y')\n",
    "test_poly_splice = np.append(test_polyreg, test_polyreg2)\n",
    "test_poly_splicex = np.append(test_polyregx, test_polyregx2)\n",
    "print(test_poly_splicex)\n",
    "print(len(test_poly_splice))"
   ]
  },
  {
   "cell_type": "code",
   "execution_count": 96,
   "metadata": {},
   "outputs": [],
   "source": [
    "from scipy import odr\n",
    "\n",
    "# x = np.linspace(0.0, 5.0)\n",
    "# y = np.sin(x)\n",
    "test_polyreg = ON_sums[1][0][bg_reg1[0]:bg_reg1[1]]\n",
    "test_polyregx = xs_cut[1][bg_reg1[0]:bg_reg1[1]]\n",
    "test_polyreg2 = ON_sums[1][0][6250:bg_reg2[1]]\n",
    "test_polyregx2 = xs_cut[1][6250:bg_reg2[1]]\n",
    "plt.plot(test_polyregx, test_polyreg, color = 'y')\n",
    "plt.plot(test_polyregx2, test_polyreg2, color = 'y')\n",
    "test_poly_splice = np.append(test_polyreg, test_polyreg2)\n",
    "test_poly_splicex = np.append(test_polyregx, test_polyregx2)\n",
    "# x = np.linspace(0, len(fit_reg),len(fit_reg))+xs"
   ]
  },
  {
   "cell_type": "code",
   "execution_count": 97,
   "metadata": {},
   "outputs": [
    {
     "name": "stdout",
     "output_type": "stream",
     "text": [
      "4012\n",
      "486.646306330715\n",
      "4812\n",
      "461.6432204355993\n",
      "4812\n",
      "4812\n",
      "4012\n"
     ]
    }
   ],
   "source": [
    "## show difference between 2nd and 3rd order poly\n",
    "\n",
    "%matplotlib qt\n",
    "from scipy import odr\n",
    "\n",
    "# x = np.linspace(0.0, 5.0)\n",
    "# y = np.sin(x)\n",
    "y = test_poly_splice\n",
    "# fit_reg = test_poly_splice\n",
    "# x = np.linspace(0, len(y),len(y))\n",
    "x1 = np.arange(bg_reg1[0], bg_reg1[1],1)\n",
    "x2 = np.arange(bg_reg2[0], bg_reg2[1],1)\n",
    "x = np.append(x1,x2)\n",
    "# x = np.linspace(0, test_poly_splicex[-1],len(fit_reg))\n",
    "\n",
    "print(len(x))\n",
    "\n",
    "# y = test_poly_splice\n",
    "y = test_poly_splice\n",
    "data = odr.Data(x, y)\n",
    "poly_model2 = odr.polynomial(2)  # using third order polynomial model\n",
    "odr_obj = odr.ODR(data, poly_model2)\n",
    "output = odr_obj.run()  # running ODR fitting\n",
    "poly2 = np.poly1d(output.beta[::-1])\n",
    "poly_y2 = poly2(x)\n",
    "print(poly_y2[1])\n",
    "# fullx = np.linspace(0, len(ON_sums[1][0][bg_reg1[0]:bg_reg2[1]]),len(ON_sums[1][0][bg_reg1[0]:bg_reg2[1]]))\n",
    "fullx = np.arange(bg_reg1[0], bg_reg2[1],1)\n",
    "print(len(fullx))\n",
    "fullpoly_y2 = poly2(fullx)\n",
    "\n",
    "poly_model3 = odr.polynomial(3)  # using third order polynomial model\n",
    "odr_obj = odr.ODR(data, poly_model3)\n",
    "output = odr_obj.run()  # running ODR fitting\n",
    "poly3 = np.poly1d(output.beta[::-1])\n",
    "poly_y3 = poly3(x)\n",
    "print(poly_y3[1])\n",
    "# fullx = np.linspace(0, len(ON_sums[1][0][bg_reg1[0]:bg_reg2[1]]),len(ON_sums[1][0][bg_reg1[0]:bg_reg2[1]]))\n",
    "# fullx = np.linspace(0, len(ON_sums[1][0][bg_reg1[0]:bg_reg2[1]]),len(ON_sums[1][0][bg_reg1[0]:bg_reg2[1]]))\n",
    "print(len(fullx))\n",
    "fullpoly_y3 = poly3(fullx)\n",
    "print(len(fullpoly_y3))\n",
    "\n",
    "plt.plot(x, y, label=\"input data\")\n",
    "# plt.plot(x, (((poly_y2)*-1)+(poly_y2[0]*2)), label=\"polynomial ODR\")\n",
    "# plt.plot(x, (poly_y2), label=\"2nd order polynomial ODR\")\n",
    "# plt.plot(x[0:1270], (poly_y2[0:1270]), label=\"beginning?\")\n",
    "# plt.plot(x, (((poly_y3)*-1)+(poly_y3[0]*2)), label=\"polynomial ODR\")\n",
    "plt.plot(x, (poly_y3), label=\"3rd order polynomial ODR\")\n",
    "plt.plot(fullx, (fullpoly_y3), label=\"3rd order polynomial ODR\")\n",
    "# plt.plot(x[0:1270], (poly_y3[0:1270]), label=\"beginning?\")\n",
    "# plt.axvline(x[2180], color ='r')\n",
    "plt.title('fits to background data') \n",
    "plt.xlabel(\"bins\", fontsize = '12')\n",
    "plt.ylabel(\"ADC\", fontsize = '12')\n",
    "plt.legend()\n",
    "plt.show()\n",
    "print(len(poly_y2))\n"
   ]
  },
  {
   "cell_type": "code",
   "execution_count": 99,
   "metadata": {},
   "outputs": [],
   "source": [
    "plt.plot(xs_cut[1], ON_sums[1][0])\n",
    "\n",
    "plt.plot(xs_cut[1][bg_reg1[1]:6250], ON_sums[1][0][bg_reg1[1]:6250], label=\"input data\")\n",
    "# plt.plot(test_poly_splicex, (((poly_y)*-1)+(poly_y[0]*2)), label=\"polynomial ODR\")\n",
    "plt.plot(test_poly_splicex, (poly_y2), label=\"2nd order polynomial ODR\")\n",
    "plt.plot(test_poly_splicex, (poly_y3), label=\"3rd order polynomial ODR\")\n",
    "\n",
    "plt.legend()\n",
    "plt.show()"
   ]
  },
  {
   "cell_type": "code",
   "execution_count": 100,
   "metadata": {},
   "outputs": [],
   "source": [
    "plt.plot(xs_cut[1]*1e-6, ON_sums[1][0], lw = '1.0')\n",
    "# plt.plot(test_poly_splicex, y, label=\"Background input data\")\n",
    "plt.plot(test_polyregx*1e-6, test_polyreg, label='Background input data', color ='#ff7f0eff', lw = '1.0')\n",
    "plt.plot(test_polyregx2*1e-6, test_polyreg2, color = '#ff7f0eff', lw = '1.0')\n",
    "plt.plot(xs_cut[1][bg_reg1[1]:6250]*1e-6, ON_sums[1][0][bg_reg1[1]:6250], label=\"Resonance region\", color = 'r', lw = '1.0')\n",
    "# plt.plot(test_poly_splicex, (((poly_y)*-1)+(poly_y[0]*2)), label=\"polynomial ODR\")\n",
    "# plt.plot(test_poly_splicex, (poly_y), label=\"polynomial ODR\")\n",
    "plt.plot(xs_cut[1][bg_reg1[0]:bg_reg2[1]]*1e-6, (fullpoly_y2), label=\"2nd order background polynomial fit\", color = 'magenta', lw = '3.0', ls = '-')\n",
    "plt.plot(xs_cut[1][bg_reg1[0]:bg_reg2[1]]*1e-6, (fullpoly_y3), label=\"3rd order background polynomial fit\", color = 'g', lw = '3.0', ls = ':')\n",
    "# plt.plot(xs_cut[1][bg_reg1[0]:bg_reg2[1]]*1e-6, (poly_y2), label=\"2nd order background polynomial fit\", color = 'magenta', lw = '3.0', ls = '-')\n",
    "# plt.plot(xs_cut[1][bg_reg1[0]:bg_reg2[1]]*1e-6, (poly_y3), label=\"3rd order background polynomial fit\", color = 'g', lw = '3.0', ls = ':')\n",
    "\n",
    "plt.title('Fits to background (On sums, 160 pulses in 1 sequence)') \n",
    "plt.xlabel(\"tof (ms)\")\n",
    "plt.ylabel(\"Counts (arbitrary)\")\n",
    "plt.xlabel(\"tof (ms)\", fontsize = '12')\n",
    "plt.ylabel(\"ADC\", fontsize = '12')\n",
    "plt.legend()\n",
    "plt.show()"
   ]
  },
  {
   "cell_type": "code",
   "execution_count": null,
   "metadata": {},
   "outputs": [],
   "source": []
  },
  {
   "cell_type": "code",
   "execution_count": 101,
   "metadata": {},
   "outputs": [],
   "source": [
    "plt.plot(xs_cut[1]*1e-6, ON_sums[1][0], lw = '1.0')\n",
    "reg_full = ON_sums[1][0][bg_reg1[0]:8992]\n",
    "xs_bg_reg = xs_cut[1][bg_reg1[0]:bg_reg2[1]]*1e-6  ## new 11.21.24\n",
    "# left = ON_sums[1][0][bg_reg1[0]:bg_reg1[1]]-poly_y[0:1270]\n",
    "# right = ON_sums[1][0][6250:bg_reg2[1]]-poly_y[1270:]\n",
    "bgsubtracted2 = ON_sums[1][0][bg_reg1[0]:bg_reg2[1]] - fullpoly_y2\n",
    "bgsubtracted3 = ON_sums[1][0][bg_reg1[0]:bg_reg2[1]] - fullpoly_y3\n",
    "bgsubtracted2OFF = OFF_sums[1][0][bg_reg1[0]:bg_reg2[1]] - fullpoly_y2\n",
    "\n",
    "# plt.plot(test_polyregx, left, color = 'y')\n",
    "# plt.plot(test_polyregx2, right, color = 'r')\n",
    "plt.plot(xs_cut[1][bg_reg1[0]:8992]*1e-6, reg_full, color = '#ff7f0eff', lw = '1.0', label = 'full bg_ subtraction region')\n",
    "\n",
    "# res_only = np.append(left,ON_sums[1][0][bg_reg1[1]:6250])\n",
    "# res_only = np.append(res_only,right)\n",
    "plt.plot(xs_bg_reg, bgsubtracted2, color = 'r', lw = '1.0', label='2nd Order polynomial background subtracted')\n",
    "# plt.plot(xs_cut[1][bg_reg1[0]:bg_reg2[1]]*1e-6, bgsubtracted3, color = 'g', lw = '1.0', label='3rd Order polynomial background subtracted')\n",
    "# plt.plot(xs_cut[1][bg_reg1[0]:bg_reg2[1]]*1e-6, OFF_sums[1][0][bg_reg1[0]:bg_reg2[1]]-ON_sums[1][0][bg_reg1[0]:bg_reg2[1]], color = 'g', lw = '1.0', label='simple subtraction')\n",
    "# plt.plot(xs_cut[1][bg_reg1[0]:bg_reg2[1]]*1e-6, OFF_bgsub[1][0]-ON_bgsub[1][0], color = 'm', lw = '1.0', label='fit subtraction?')\n",
    "\n",
    "plt.axhline(0, ls='--')\n",
    "\n",
    "plt.title('Fits to background (On sums, 160 pulses in 1 sequence)') \n",
    "plt.xlabel(\"tof (ms)\")\n",
    "plt.ylabel(\"Counts (arbitrary)\")\n",
    "plt.xlabel(\"tof (ms)\", fontsize = '12')\n",
    "plt.ylabel(\"ADC\", fontsize = '12')\n",
    "plt.legend()\n",
    "plt.show()\n"
   ]
  },
  {
   "cell_type": "code",
   "execution_count": 28,
   "metadata": {},
   "outputs": [
    {
     "name": "stdout",
     "output_type": "stream",
     "text": [
      "[-461.66872657 -461.6370731  -461.6053824  ... -286.17578776 -286.21913013\n",
      " -286.26254094]\n",
      "[-467.08254142 -467.04754848 -467.01251754 ... -286.07465439 -286.123068\n",
      " -286.17155431]\n",
      "[  79.63744516 -139.36974854   24.19290166 ...   51.56799882  -81.48918699\n",
      "  -57.82290277]\n",
      "[ -16.43320231 -132.70170788  -47.03146727 ...    9.7021881  -104.31219871\n",
      "   -3.0115005 ]\n"
     ]
    },
    {
     "data": {
      "text/plain": [
       "[<matplotlib.lines.Line2D at 0x2aeaf613550>]"
      ]
     },
     "execution_count": 28,
     "metadata": {},
     "output_type": "execute_result"
    }
   ],
   "source": [
    "print(ON_bgsub[1][0] - ON_sums[1][0][bg_reg1[0]:bg_reg2[1]])\n",
    "print(OFF_bgsub[1][0] - OFF_sums[1][0][bg_reg1[0]:bg_reg2[1]])\n",
    "print(OFF_bgsub[1][0] - ON_bgsub[1][0])\n",
    "print(OFF_sums[1][1][bg_reg1[0]:bg_reg2[1]]-ON_sums[1][1][bg_reg1[0]:bg_reg2[1]])\n",
    "plt.plot(xs_cut[1][bg_reg1[0]:bg_reg2[1]]*1e-6,ON_bgsub[1][0] - ON_sums[1][0][bg_reg1[0]:bg_reg2[1]])"
   ]
  },
  {
   "cell_type": "markdown",
   "metadata": {},
   "source": [
    "now OFF ones"
   ]
  },
  {
   "cell_type": "code",
   "execution_count": null,
   "metadata": {},
   "outputs": [],
   "source": []
  },
  {
   "cell_type": "code",
   "execution_count": 29,
   "metadata": {},
   "outputs": [],
   "source": [
    "# test_polyreg = OFF_sums[1][0][bg_reg1[0]:bg_reg1[1]]\n",
    "# test_polyregx = xs_cut[1][bg_reg1[0]:bg_reg1[1]]\n",
    "# test_polyreg2 = OFF_sums[1][0][6250:bg_reg2[1]]\n",
    "# test_polyregx2 = xs_cut[1][6250:bg_reg2[1]]\n",
    "# # plt.plot(test_polyregx, test_polyreg, color = 'y')\n",
    "# # plt.plot(test_polyregx2, test_polyreg2, color = 'y')\n",
    "# test_poly_splice = np.append(test_polyreg, test_polyreg2)\n",
    "# test_poly_splicex = np.append(test_polyregx, test_polyregx2)\n",
    "# y = test_poly_splice\n",
    "# x = np.linspace(0, len(y),len(y))\n",
    "# # x = np.linspace(0, test_poly_splicex[-1],len(fit_reg))\n",
    "\n",
    "# print(len(x))\n",
    "\n",
    "# data = odr.Data(x, y)\n",
    "# poly_model3 = odr.polynomial(3)  # using third order polynomial model\n",
    "# odr_obj = odr.ODR(data, poly_model3)\n",
    "# output = odr_obj.run()  # running ODR fitting\n",
    "# poly3 = np.poly1d(output.beta[::-1])\n",
    "# poly_y3 = poly3(x)\n",
    "# print(poly_y3[1])\n",
    "# fullx = np.linspace(0, len(OFF_sums[1][0][bg_reg1[0]:bg_reg2[1]]),len(OFF_sums[1][0][bg_reg1[0]:bg_reg2[1]]))\n",
    "# print(len(fullx))\n",
    "# fullpoly_y3OFF = poly3(fullx)\n",
    "\n",
    "# plt.plot(x, y, label=\"input data\")\n",
    "# # plt.plot(x[0:1270], (poly_y2[0:1270]), label=\"beginning?\")\n",
    "# # plt.plot(x, (((poly_y3)*-1)+(poly_y3[0]*2)), label=\"polynomial ODR\")\n",
    "# plt.plot(x, (poly_y3), label=\"3rd order polynomial ODR\")\n",
    "# # plt.plot(x[0:1270], (poly_y3[0:1270]), label=\"beginning?\")\n",
    "# # plt.axvline(x[2180], color ='r')\n",
    "# plt.title('fits to background data OFF pulses') \n",
    "# plt.xlabel(\"bins\", fontsize = '12')\n",
    "# plt.ylabel(\"ADC\", fontsize = '12')\n",
    "# plt.legend()\n",
    "# plt.show()\n",
    "# print(len(poly_y2))"
   ]
  },
  {
   "cell_type": "code",
   "execution_count": 30,
   "metadata": {},
   "outputs": [],
   "source": [
    "# plt.plot(xs_cut[1]*1e-6, ON_sums[1][0], lw = '1.0')\n",
    "# reg_full = ON_sums[1][0][bg_reg1[0]:8992]\n",
    "# # left = ON_sums[1][0][bg_reg1[0]:bg_reg1[1]]-poly_y[0:1270]\n",
    "# # right = ON_sums[1][0][6250:bg_reg2[1]]-poly_y[1270:]\n",
    "# bgsubtracted = ON_sums[1][0][bg_reg1[0]:bg_reg2[1]] - fullpoly_y3\n",
    "# # plt.plot(test_polyregx, left, color = 'y')\n",
    "# # plt.plot(test_polyregx2, right, color = 'r')\n",
    "# # plt.plot(xs_cut[1][bg_reg1[0]:8992]*1e-6, reg_full, color = '#ff7f0eff', lw = '1.0', label = 'full fitting region')\n",
    "\n",
    "# # res_only = np.append(left,ON_sums[1][0][bg_reg1[1]:6250])\n",
    "# # res_only = np.append(res_only,right)\n",
    "# plt.plot(xs_cut[1][bg_reg1[0]:bg_reg2[1]]*1e-6, bgsubtracted, color = 'g', lw = '1.0', label='3rd Order polynomial background subtracted')\n",
    "# plt.axhline(0, ls='--')\n",
    "\n",
    "# plt.title('Fits to background (On sums, 160 pulses in 1 sequence)') \n",
    "# plt.xlabel(\"tof (ms)\")\n",
    "# plt.ylabel(\"Counts (arbitrary)\")\n",
    "# plt.xlabel(\"tof (ms)\", fontsize = '12')\n",
    "# plt.ylabel(\"ADC\", fontsize = '12')\n",
    "# plt.legend()\n",
    "# plt.show()"
   ]
  },
  {
   "cell_type": "code",
   "execution_count": null,
   "metadata": {},
   "outputs": [],
   "source": []
  },
  {
   "cell_type": "code",
   "execution_count": null,
   "metadata": {},
   "outputs": [],
   "source": []
  },
  {
   "cell_type": "markdown",
   "metadata": {},
   "source": [
    "Now voigt"
   ]
  },
  {
   "cell_type": "code",
   "execution_count": null,
   "metadata": {},
   "outputs": [],
   "source": []
  },
  {
   "cell_type": "code",
   "execution_count": 45,
   "metadata": {},
   "outputs": [],
   "source": [
    "# from scipy.special import voigt_profile\n",
    "# from scipy.optimize import curve_fit\n",
    "# voigt_profile(2, 1., 1.)\n",
    "# fig, ax = plt.subplots(figsize=(8, 8))\n",
    "# x = np.linspace(-10, 10, 500)\n",
    "# parameters_list = [(1.5, 0., \"solid\"), (1.3, 0.5, \"dashed\"),\n",
    "#                    (0., 1.8, \"dotted\"), (1., 1., \"dashdot\")]\n",
    "# for params in parameters_list:\n",
    "#     sigma, gamma, linestyle = params\n",
    "#     voigt = voigt_profile(x, sigma, gamma)\n",
    "#     ax.plot(x, voigt, label=rf\"$\\sigma={sigma},\\, \\gamma={gamma}$\",\n",
    "#             ls=linestyle)\n",
    "# plt.legend()\n",
    "# plt.show()"
   ]
  },
  {
   "cell_type": "code",
   "execution_count": 46,
   "metadata": {},
   "outputs": [
    {
     "name": "stdout",
     "output_type": "stream",
     "text": [
      "56345.656087718584\n"
     ]
    }
   ],
   "source": [
    "print(sum(voigt)/(1*np.sqrt(2*np.pi)))"
   ]
  },
  {
   "cell_type": "code",
   "execution_count": 48,
   "metadata": {},
   "outputs": [
    {
     "data": {
      "text/plain": [
       "[<matplotlib.lines.Line2D at 0x2aea9d3e5e0>]"
      ]
     },
     "execution_count": 48,
     "metadata": {},
     "output_type": "execute_result"
    }
   ],
   "source": [
    "## manual fitting\n",
    "\n",
    "from scipy.special import voigt_profile\n",
    "from scipy.optimize import curve_fit\n",
    "res_region_beg = 5450\n",
    "res_region_end = 6250\n",
    "res_reg = [res_region_beg,res_region_end]\n",
    "\n",
    "## checks that the resonance region and bg region do not overlap 11.21.24\n",
    "if res_reg[0] < bg_reg1[1] or res_reg[1]>bg_reg2[0]:\n",
    "    emessage = ('Declared Background region and Resonance region have overlapping fitting regions')\n",
    "    logger.error(run_num + emessage)\n",
    "    raise Exception(emessage)\n",
    "\n",
    "## manual fitting\n",
    "# sigma = 60\n",
    "# gamma = 30\n",
    "# beg = 5800\n",
    "# end = 5900\n",
    "sigma = 0.05\n",
    "gamma = 0.09\n",
    "beg = 5800\n",
    "end = 5900\n",
    "\n",
    "shift = 1.98\n",
    "mult = 100\n",
    "\n",
    "# xdata = np.arange(-(res_reg[1]-res_reg[0])/2,(res_reg[1]-res_reg[0])/2,1)  ## centered around 0 for initial fitting\n",
    "xdata = xs_cut[0][res_reg[0]:res_reg[1]]*1e-6\n",
    "\n",
    "ydata = ON_bgsub[1][0][bg_reg1[1]-bg_reg1[0]:bg_reg2[0]-bg_reg1[0]]\n",
    "\n",
    "voigt = voigt_profile(xdata-shift, sigma, gamma)*mult\n",
    "# print(voigt)\n",
    "# def voigt2(x, sig, gam, xshift, amp):\n",
    "#     fit = voigt_profile(x-xshift, sig, gam)*amp\n",
    "#     return fit\n",
    "\n",
    "plt.plot(xdata, voigt)\n",
    "plt.plot(xdata,ydata)"
   ]
  },
  {
   "cell_type": "code",
   "execution_count": 49,
   "metadata": {},
   "outputs": [],
   "source": [
    "# binstot = aft_res_reg[1]-bef_res_reg[0]  ## total number of bins in whole region\n",
    "# x1 = np.arange(bef_res_reg[0], bef_res_reg[1],1)\n",
    "# x2 = np.arange(aft_res_reg[0], aft_res_reg[1],1)\n",
    "# x = np.append(x1,x2)\n",
    "# fullx = np.arange(bef_res_reg[0], aft_res_reg[1],1) ## an array of every x bin in entire region\n",
    "# ys_bgsub = []\n",
    "# #     seq_bgsub = []\n",
    "# for seq in range(0, len(ys)): ## number of sequences, usually 13\n",
    "#     fitdata1 = ys[seq][bef_res_reg[0]: bef_res_reg[1]]\n",
    "#     fitdata2 = ys[seq][aft_res_reg[0]: aft_res_reg[1]]\n",
    "# binstot = res_reg[1]-res_reg[0]  ## total number of bins in whole region\n",
    "# print(binstot)\n",
    "# x1 = np.arange(bef_res_reg[0], bef_res_reg[1],1)\n",
    "# x2 = np.arange(aft_res_reg[0], aft_res_reg[1],1)\n",
    "# x = np.append(x1,x2)\n",
    "# fullx = np.arange(bef_res_reg[0], aft_res_reg[1],1) ## an array of every x bin in entire region\n",
    "# ys_bgsub = []\n",
    "# #     seq_bgsub = []\n",
    "# for seq in range(0, len(ys)): ## number of sequences, usually 13\n",
    "#     fitdata1 = ys[seq][bef_res_reg[0]: bef_res_reg[1]]\n",
    "#     fitdata2 = ys[seq][aft_res_reg[0]: aft_res_reg[1]]"
   ]
  },
  {
   "cell_type": "code",
   "execution_count": 50,
   "metadata": {},
   "outputs": [],
   "source": [
    "# xdata = np.arange(-(res_reg[1]-res_reg[0])/2,(res_reg[1]-res_reg[0])/2,1)\n",
    "# print(xdata)\n",
    "# ydata = ON_bgsub[1][0][bg_reg1[1]-bg_reg1[0]:bg_reg2[0]-bg_reg1[0]]\n",
    "# print(ydata)"
   ]
  },
  {
   "cell_type": "code",
   "execution_count": 51,
   "metadata": {},
   "outputs": [],
   "source": [
    "def rebin(ys, xs, rebinfactor):\n",
    "    outys = ys.reshape(-1, rebinfactor).mean(axis=1)\n",
    "    outxs = xs.reshape(-1, rebinfactor).mean(axis=1)\n",
    "    return outys, outxs\n"
   ]
  },
  {
   "cell_type": "code",
   "execution_count": 66,
   "metadata": {
    "scrolled": true
   },
   "outputs": [
    {
     "name": "stdout",
     "output_type": "stream",
     "text": [
      "[ 0.06832468 -0.02673279  1.96326366 14.02661661]\n",
      "[[ 9.48308080e-05 -1.81254284e-04 -8.45848374e-08 -1.18037678e-02]\n",
      " [-1.81254284e-04  3.75056807e-04  1.74621258e-07  2.68464332e-02]\n",
      " [-8.45848374e-08  1.74621258e-07  8.89331607e-06  1.22199150e-05]\n",
      " [-1.18037678e-02  2.68464332e-02  1.22199150e-05  2.40612053e+00]]\n",
      "115.32742747196691\n",
      "35.15951379275074\n",
      "81.90027718795059\n",
      "205.29355049943322\n",
      "5144.737175679104\n"
     ]
    }
   ],
   "source": [
    "res_region_beg = 5450\n",
    "res_region_end = 6250\n",
    "res_reg = [res_region_beg,res_region_end]\n",
    "xdata = xs_cut[0][res_reg[0]:res_reg[1]]*1e-6\n",
    "ydata = ON_bgsub[1][0][bg_reg1[1]-bg_reg1[0]:bg_reg2[0]-bg_reg1[0]]\n",
    "\n",
    "def voigt2(x, sig, gam, xshift, amp):\n",
    "    fit = voigt_profile(x-xshift, sig, gam)*amp\n",
    "    return fit\n",
    "\n",
    "popt, pcov = curve_fit(voigt2, xdata, ydata)\n",
    "print(popt)\n",
    "print(pcov)\n",
    "\n",
    "fitted_curve = voigt2(xdata, popt[0],popt[1],popt[2],popt[3],)\n",
    "\n",
    "print(max(fitted_curve))\n",
    "print((popt[3])*np.sqrt(2*np.pi))\n",
    "print((popt[3])/(np.sqrt(2*np.pi)*popt[0]))\n",
    "print((popt[3])/(popt[0]))\n",
    "print(sum(fitted_curve)*(popt[0]*np.sqrt(2*np.pi)))"
   ]
  },
  {
   "cell_type": "code",
   "execution_count": 40,
   "metadata": {},
   "outputs": [
    {
     "name": "stdout",
     "output_type": "stream",
     "text": [
      "[ 44.89368755 -20.04970421   0.9374364   57.76737562  49.75257973\n",
      "  -5.88365485   1.91440596  -9.56943578  28.80474814 -12.04822804]\n"
     ]
    },
    {
     "data": {
      "text/plain": [
       "[<matplotlib.lines.Line2D at 0x1b50a599400>]"
      ]
     },
     "execution_count": 40,
     "metadata": {},
     "output_type": "execute_result"
    },
    {
     "data": {
      "image/png": "[encoded data removed]",
      "text/plain": [
       "<Figure size 640x480 with 1 Axes>"
      ]
     },
     "metadata": {},
     "output_type": "display_data"
    }
   ],
   "source": [
    "print(ydata[10:20])\n",
    "plt.plot(xdata, fitted_curve)\n",
    "plt.plot(xdata,ydata)"
   ]
  },
  {
   "cell_type": "code",
   "execution_count": 41,
   "metadata": {},
   "outputs": [
    {
     "name": "stdout",
     "output_type": "stream",
     "text": [
      "[9.48308080e-05 3.75056807e-04 8.89331607e-06 2.40612053e+00]\n"
     ]
    }
   ],
   "source": [
    "print(np.diagonal(pcov))"
   ]
  },
  {
   "cell_type": "code",
   "execution_count": 197,
   "metadata": {},
   "outputs": [
    {
     "name": "stdout",
     "output_type": "stream",
     "text": [
      "101.14246629700477\n",
      "(array([382], dtype=int64),)\n",
      "[1.964032]\n",
      "20014.352374261165\n",
      "-160.8133132841212\n",
      "34.01536457894821\n",
      "\n",
      "2.1695839564401185\n",
      "2.091678587673097\n",
      "(array([631], dtype=int64),)\n"
     ]
    }
   ],
   "source": [
    "print(max(fitted_curve))\n",
    "print(np.where(fitted_curve==max(fitted_curve)))\n",
    "print(xdata[np.where(fitted_curve==max(fitted_curve))])\n",
    "print(np.sum(fitted_curve))\n",
    "print(np.sum(fitted_curve)*popt[0]*popt[1])\n",
    "print(popt[3]/(np.sqrt(2*np.pi)*popt[0]))\n",
    "print()\n",
    "sig = popt[0]\n",
    "gam = popt[1]\n",
    "fg = 2*sig*np.sqrt(2*np.log(2))\n",
    "fl = 2*sig\n",
    "fv = 0.5346*-fl + np.sqrt(0.2166*fl**2+fg**2)\n",
    "print(fg+popt[2])\n",
    "print(fv+popt[2])\n",
    "print(np.where(xdata == 2.09152))"
   ]
  },
  {
   "cell_type": "code",
   "execution_count": 189,
   "metadata": {},
   "outputs": [
    {
     "name": "stdout",
     "output_type": "stream",
     "text": [
      "0.1277801468127903\n"
     ]
    }
   ],
   "source": [
    "sig = popt[0]\n",
    "gam = popt[1]\n",
    "fg = 2*sig*np.sqrt(2*np.log(2))\n",
    "fl = 2*sig\n",
    "fv = 0.5346*-fl + np.sqrt(0.2166*fl**2+fg**2)\n",
    "print(fv)\n",
    "\n",
    "## plotting voigt fit ##\n",
    "\n",
    "# plt.plot(xs_cut[1]*1e-6, ON_sums[1][0], lw = '1.0')\n",
    "\n",
    "# plt.plot(xdata, voigt, label = 'manual fit')\n",
    "\n",
    "fitted_curve = voigt2(xdata, popt[0],popt[1],popt[2],popt[3],)\n",
    "plt.plot(xdata, fitted_curve, label = rf\"Voigt fit, $\\sigma={round(popt[0],2)},\\, \\gamma={round(popt[1],2)}$\")\n",
    "\n",
    "rebinf = 2\n",
    "rawdat_rebin, xs_cut_rebin = rebin(ydata, xdata, rebinf)\n",
    "\n",
    "# plt.plot(xdata,ydata, label = r'rawdata')\n",
    "plt.plot(xs_cut_rebin,rawdat_rebin, label = rf'rawdata, rebin {rebinf}')\n",
    "# plt.axhline(y = 0)\n",
    "plt.axvline(x = fv/2+popt[2])\n",
    "plt.axvline(x = popt[2]-fv/2)\n",
    "plt.axvline(x = popt[2])\n",
    "\n",
    "\n",
    "plt.title('Fits to background (On sums, 160 pulses in 1 sequence)') \n",
    "plt.xlabel(\"tof (ms)\")\n",
    "plt.ylabel(\"Counts (arbitrary)\")\n",
    "plt.xlabel(\"tof (ms)\", fontsize = '12')\n",
    "plt.ylabel(\"ADC\", fontsize = '12')\n",
    "plt.legend()\n",
    "plt.show()\n",
    "plt.legend()\n",
    "plt.show()"
   ]
  },
  {
   "cell_type": "code",
   "execution_count": 60,
   "metadata": {},
   "outputs": [],
   "source": [
    "## more plotting ##\n",
    "\n",
    "plt.plot(xs_cut[1]*1e-6, ON_sums[1][0], lw = '1.0')\n",
    "\n",
    "# plt.plot(xdata, voigt, label = 'manual fit')\n",
    "\n",
    "fitted_curve = voigt2(xdata, popt[0],popt[1],popt[2],popt[3],)\n",
    "plt.plot(xdata, fitted_curve, label = rf\"Voigt fit, $\\sigma={round(popt[0],2)},\\, \\gamma={round(popt[1],2)}$\")\n",
    "\n",
    "rebinf = 4\n",
    "rawdat_rebin, xs_cut_rebin = rebin(ydata, xdata, rebinf)\n",
    "\n",
    "# plt.plot(xdata,ydata, label = r'rawdata')\n",
    "plt.plot(xs_cut_rebin,rawdat_rebin, label = rf'rawdata for voigt fit, rebin {rebinf}')\n",
    "\n",
    "plt.axhline(y=0, ls = '--', lw = '0.5')\n",
    "plt.title('Voigt fit to background (On sums, 160 pulses in 1 sequence)') \n",
    "plt.xlabel(\"tof (ms)\")\n",
    "plt.ylabel(\"Counts (arbitrary)\")\n",
    "plt.xlabel(\"tof (ms)\", fontsize = '12')\n",
    "plt.ylabel(\"ADC\", fontsize = '12')\n",
    "plt.legend()\n",
    "plt.show()\n",
    "plt.legend()\n",
    "plt.show()"
   ]
  },
  {
   "cell_type": "code",
   "execution_count": 159,
   "metadata": {},
   "outputs": [
    {
     "ename": "ValueError",
     "evalue": "cannot reshape array of size 4809 into shape (4)",
     "output_type": "error",
     "traceback": [
      "\u001b[1;31m---------------------------------------------------------------------------\u001b[0m",
      "\u001b[1;31mValueError\u001b[0m                                Traceback (most recent call last)",
      "\u001b[1;32m~\\AppData\\Local\\Temp\\ipykernel_28244\\2271935141.py\u001b[0m in \u001b[0;36m<module>\u001b[1;34m\u001b[0m\n\u001b[0;32m      5\u001b[0m \u001b[0mrebinf\u001b[0m \u001b[1;33m=\u001b[0m \u001b[1;36m4\u001b[0m\u001b[1;33m\u001b[0m\u001b[1;33m\u001b[0m\u001b[0m\n\u001b[0;32m      6\u001b[0m \u001b[0mrawdat_rebin\u001b[0m\u001b[1;33m,\u001b[0m \u001b[0mxs_cut_rebin\u001b[0m \u001b[1;33m=\u001b[0m \u001b[0mrebin\u001b[0m\u001b[1;33m(\u001b[0m\u001b[0mydata\u001b[0m\u001b[1;33m,\u001b[0m \u001b[0mxdata\u001b[0m\u001b[1;33m,\u001b[0m \u001b[0mrebinf\u001b[0m\u001b[1;33m)\u001b[0m\u001b[1;33m\u001b[0m\u001b[1;33m\u001b[0m\u001b[0m\n\u001b[1;32m----> 7\u001b[1;33m \u001b[0mys_region_rebin\u001b[0m\u001b[1;33m,\u001b[0m \u001b[0mxs_region_rebin\u001b[0m \u001b[1;33m=\u001b[0m \u001b[0mrebin\u001b[0m\u001b[1;33m(\u001b[0m\u001b[0mbgsubtracted2\u001b[0m\u001b[1;33m[\u001b[0m\u001b[1;36m3\u001b[0m\u001b[1;33m:\u001b[0m\u001b[1;33m]\u001b[0m\u001b[1;33m,\u001b[0m \u001b[0mxs_bg_reg\u001b[0m\u001b[1;33m[\u001b[0m\u001b[1;36m3\u001b[0m\u001b[1;33m:\u001b[0m\u001b[1;33m]\u001b[0m\u001b[1;33m,\u001b[0m \u001b[0mrebinf\u001b[0m\u001b[1;33m)\u001b[0m\u001b[1;33m\u001b[0m\u001b[1;33m\u001b[0m\u001b[0m\n\u001b[0m\u001b[0;32m      8\u001b[0m \u001b[1;33m\u001b[0m\u001b[0m\n\u001b[0;32m      9\u001b[0m \u001b[1;33m\u001b[0m\u001b[0m\n",
      "\u001b[1;32m~\\AppData\\Local\\Temp\\ipykernel_28244\\295293631.py\u001b[0m in \u001b[0;36mrebin\u001b[1;34m(ys, xs, rebinfactor)\u001b[0m\n\u001b[0;32m      1\u001b[0m \u001b[1;32mdef\u001b[0m \u001b[0mrebin\u001b[0m\u001b[1;33m(\u001b[0m\u001b[0mys\u001b[0m\u001b[1;33m,\u001b[0m \u001b[0mxs\u001b[0m\u001b[1;33m,\u001b[0m \u001b[0mrebinfactor\u001b[0m\u001b[1;33m)\u001b[0m\u001b[1;33m:\u001b[0m\u001b[1;33m\u001b[0m\u001b[1;33m\u001b[0m\u001b[0m\n\u001b[1;32m----> 2\u001b[1;33m     \u001b[0moutys\u001b[0m \u001b[1;33m=\u001b[0m \u001b[0mys\u001b[0m\u001b[1;33m.\u001b[0m\u001b[0mreshape\u001b[0m\u001b[1;33m(\u001b[0m\u001b[1;33m-\u001b[0m\u001b[1;36m1\u001b[0m\u001b[1;33m,\u001b[0m \u001b[0mrebinfactor\u001b[0m\u001b[1;33m)\u001b[0m\u001b[1;33m.\u001b[0m\u001b[0mmean\u001b[0m\u001b[1;33m(\u001b[0m\u001b[0maxis\u001b[0m\u001b[1;33m=\u001b[0m\u001b[1;36m1\u001b[0m\u001b[1;33m)\u001b[0m\u001b[1;33m\u001b[0m\u001b[1;33m\u001b[0m\u001b[0m\n\u001b[0m\u001b[0;32m      3\u001b[0m     \u001b[0moutxs\u001b[0m \u001b[1;33m=\u001b[0m \u001b[0mxs\u001b[0m\u001b[1;33m.\u001b[0m\u001b[0mreshape\u001b[0m\u001b[1;33m(\u001b[0m\u001b[1;33m-\u001b[0m\u001b[1;36m1\u001b[0m\u001b[1;33m,\u001b[0m \u001b[0mrebinfactor\u001b[0m\u001b[1;33m)\u001b[0m\u001b[1;33m.\u001b[0m\u001b[0mmean\u001b[0m\u001b[1;33m(\u001b[0m\u001b[0maxis\u001b[0m\u001b[1;33m=\u001b[0m\u001b[1;36m1\u001b[0m\u001b[1;33m)\u001b[0m\u001b[1;33m\u001b[0m\u001b[1;33m\u001b[0m\u001b[0m\n\u001b[0;32m      4\u001b[0m     \u001b[1;32mreturn\u001b[0m \u001b[0moutys\u001b[0m\u001b[1;33m,\u001b[0m \u001b[0moutxs\u001b[0m\u001b[1;33m\u001b[0m\u001b[1;33m\u001b[0m\u001b[0m\n",
      "\u001b[1;31mValueError\u001b[0m: cannot reshape array of size 4809 into shape (4)"
     ]
    }
   ],
   "source": [
    "## more more plotting ##\n",
    "\n",
    "plt.plot(xs_cut[1]*1e-6, ON_sums[1][0], lw = '1.0')\n",
    "\n",
    "rebinf = 4\n",
    "rawdat_rebin, xs_cut_rebin = rebin(ydata, xdata, rebinf)\n",
    "ys_region_rebin, xs_region_rebin = rebin(bgsubtracted2[3:], xs_bg_reg[3:], rebinf)\n",
    "\n",
    "\n",
    "# plt.plot(xs_bg_reg, bgsubtracted2, color = 'orange', lw = '1.0', label='2nd Order polynomial background subtracted')\n",
    "plt.plot(xs_region_rebin, ys_region_rebin, color = 'orange', lw = '1.0', label='2nd Order polynomial background subtracted')\n",
    "plt.plot(xs_cut_rebin,rawdat_rebin, label = rf'rawdata for voigt fit, rebin {rebinf}', color = 'g')\n",
    "\n",
    "# plt.plot(xdata, voigt, label = 'manual fit')\n",
    "\n",
    "# plt.plot(xdata,ydata, label = r'rawdata')\n",
    "\n",
    "fitted_curve = voigt2(xdata, popt[0],popt[1],popt[2],popt[3],)\n",
    "plt.plot(xdata, fitted_curve, label = rf\"Voigt fit, $\\sigma={round(popt[0],2)},\\, \\gamma={round(popt[1],2)}$\", color = 'r')\n",
    "\n",
    "plt.axhline(y=0, ls = '--', lw = '0.5')\n",
    "plt.title('Voigt fit to background (On sums, 160 pulses in 1 sequence)') \n",
    "plt.xlabel(\"tof (ms)\")\n",
    "plt.ylabel(\"Counts (arbitrary)\")\n",
    "plt.xlabel(\"tof (ms)\", fontsize = '12')\n",
    "plt.ylabel(\"ADC\", fontsize = '12')\n",
    "plt.legend()\n",
    "plt.show()\n",
    "plt.legend()\n",
    "plt.show()"
   ]
  },
  {
   "cell_type": "code",
   "execution_count": 50,
   "metadata": {},
   "outputs": [
    {
     "name": "stdout",
     "output_type": "stream",
     "text": [
      "101.14246629700477\n",
      "-16.478186809814233\n",
      "20014.35237426118\n",
      "800\n"
     ]
    }
   ],
   "source": [
    "# print(fitted_curve)\n",
    "print(max(fitted_curve))\n",
    "print(min(fitted_curve))\n",
    "\n",
    "print(sum(fitted_curve))\n",
    "print(len(fitted_curve))"
   ]
  },
  {
   "cell_type": "markdown",
   "metadata": {},
   "source": [
    "## Other fitting methods "
   ]
  },
  {
   "cell_type": "markdown",
   "metadata": {},
   "source": [
    "try py spec kit"
   ]
  },
  {
   "cell_type": "code",
   "execution_count": 160,
   "metadata": {},
   "outputs": [
    {
     "name": "stdout",
     "output_type": "stream",
     "text": [
      "101.81577111002956\n",
      "35.092795844834\n",
      "20458.752461586395\n",
      "93814.49840452531\n",
      "93814.49840452542\n",
      "[ 0.06832468 -0.02673279  1.96326366 14.02661661]\n",
      "[[ 9.48308080e-05 -1.81254284e-04 -8.45848374e-08 -1.18037678e-02]\n",
      " [-1.81254284e-04  3.75056807e-04  1.74621258e-07  2.68464332e-02]\n",
      " [-8.45848374e-08  1.74621258e-07  8.89331607e-06  1.22199150e-05]\n",
      " [-1.18037678e-02  2.68464332e-02  1.22199150e-05  2.40612053e+00]]\n",
      "115.32742747196691\n",
      "35.15951379275074\n",
      "81.90027718795059\n",
      "205.29355049943322\n",
      "5144.737175679104\n",
      "8.04866123273715\n"
     ]
    },
    {
     "name": "stderr",
     "output_type": "stream",
     "text": [
      "Covariance of the parameters could not be estimated\n"
     ]
    }
   ],
   "source": [
    "import pyspeckit\n",
    "\n",
    "# from . import model\n",
    "# import numpy as np\n",
    "# from ...spectrum.moments import moments\n",
    "import types\n",
    "try:\n",
    "    import scipy.special\n",
    "    scipyOK = True\n",
    "except ImportError:\n",
    "    scipyOK = False\n",
    "\n",
    "def voigt_spec(xarr, amp, xcen, sigma, gamma, normalized=True):\n",
    "    if scipyOK:\n",
    "        z = ((xarr-xcen) + 1j*gamma) / (sigma * np.sqrt(2))\n",
    "        V = amp * np.real(scipy.special.wofz(z))\n",
    "        if normalized:\n",
    "            return V / (sigma*np.sqrt(2*np.pi))\n",
    "        else:\n",
    "            return V\n",
    "    else:\n",
    "        raise ImportError(\"Couldn't import scipy, therefore cannot do \"\n",
    "                          \"voigt profile stuff\")\n",
    "\n",
    "xdata = xs_cut[0][res_reg[0]:res_reg[1]]*1e-6\n",
    "ydata = ON_bgsub[1][0][bg_reg1[1]-bg_reg1[0]:bg_reg2[0]-bg_reg1[0]]\n",
    "\n",
    "xarr = xdata\n",
    "amp = 7*2*np.sqrt(np.pi*2)\n",
    "xcen = 1.96\n",
    "sigma = 0.087\n",
    "gamma = -0.09\n",
    "\n",
    "# specvoigt = pyspeckit.spectrum.models.inherited_voigtfitter.voigt(xarr, amp, xcen, sigma, gamma, normalized=False)\n",
    "specvoigt = voigt_spec(xarr, amp, xcen, sigma, gamma, normalized=False)\n",
    "\n",
    "print(max(specvoigt))\n",
    "print(amp)\n",
    "print(sum(specvoigt))\n",
    "print(sum(specvoigt)/(sigma*np.sqrt(2*np.pi)))\n",
    "trysum = (specvoigt)/(sigma*np.sqrt(2*np.pi))\n",
    "print(sum(trysum))\n",
    "\n",
    "plt.plot(xdata, specvoigt)\n",
    "plt.plot(xdata,ydata)\n",
    "\n",
    "popt_spec, pcov_spec = curve_fit(voigt_spec, xdata, ydata)\n",
    "print(popt)\n",
    "print(pcov)\n",
    "\n",
    "fitted_curve_spec = voigt_spec(xdata, popt[0],popt[1],popt[2],popt[3],)\n",
    "\n",
    "print(max(fitted_curve))\n",
    "print((popt[3])*np.sqrt(2*np.pi))\n",
    "print((popt[3])/(np.sqrt(2*np.pi)*popt[0]))\n",
    "print((popt[3])/(popt[0]))\n",
    "print(sum(fitted_curve)*(popt[0]*np.sqrt(2*np.pi)))\n",
    "\n",
    "print(101.14246/(2*np.pi*2))"
   ]
  },
  {
   "cell_type": "markdown",
   "metadata": {},
   "source": [
    "try astropy ..."
   ]
  },
  {
   "cell_type": "code",
   "execution_count": 53,
   "metadata": {},
   "outputs": [],
   "source": [
    "from astropy.modeling.models import Voigt1D\n",
    "\n",
    "# popt, pcov = curve_fit(Voigt1D, xdata, ydata)\n",
    "\n",
    "x = np.arange(1.7, 2.2, 0.01)\n",
    "v1 = Voigt1D(x_0=1.98, amplitude_L=100, fwhm_L=0.08, fwhm_G=0.01)\n",
    "plt.plot(x, v1(x))\n",
    "\n",
    "# v1 = Voigt1D(x_0=5, amplitude_L=10, fwhm_L=0.5, fwhm_G=0.9)\n",
    "# fitted_curve = Voigt1D(xdata, popt[0],popt[1],popt[2],)\n",
    "xdata = xs_cut[0][res_reg[0]:res_reg[1]]*1e-6\n",
    "\n",
    "ydata = ON_bgsub[1][0][bg_reg1[1]-bg_reg1[0]:bg_reg2[0]-bg_reg1[0]]\n",
    "\n",
    "# voigt = voigt_profile(xdata-shift, sigma, gamma)*mult\n",
    "# print(voigt)\n",
    "# def voigt2(x, sig, gam, xshift, amp):\n",
    "#     fit = voigt_profile(x-xshift, sig, gam)*amp\n",
    "#     return fit\n",
    "\n",
    "# plt.plot(xdata, voigt)\n",
    "plt.plot(xdata,ydata)\n",
    "plt.show()\n",
    "\n",
    "\n",
    "from astropy.modeling import models, fitting\n",
    "\n",
    "x = xdata\n",
    "y = ydata\n",
    "\n",
    "g_init = Voigt1D(x_0=1.98, amplitude_L=100, fwhm_L=0.08, fwhm_G=0.01)\n",
    "# fit_g = fitting.TRFLSQFitter(calc_uncertainties=False)\n",
    "# g = fit_g(g_init, x, y)\n",
    "\n",
    "testmax = (max(ydata))\n",
    "# g_init = Voigt1D(x_0=2, amplitude_L=1000, fwhm_L=0.636, fwhm_G=0.693)\n",
    "fit_g = fitting.TRFLSQFitter(calc_uncertainties=False)\n",
    "g = fit_g(g_init, x, y)\n",
    "\n",
    "# Plot the data with the best-fit model\n",
    "plt.figure(figsize=(8,5))\n",
    "plt.plot(x, y, 'ko')\n",
    "plt.plot(x, g(x), label='voigt astropy')\n",
    "# plt.xlabel('Position')\n",
    "# plt.ylabel('Flux')\n",
    "plt.legend(loc=2)\n",
    "print(fit_g)\n",
    "print(g)\n",
    "print(max(g(x)))\n",
    "print(np.std(g(x)))\n",
    "# fit_g.fit_info\n",
    "\n",
    "fit_g(g_init, x, y)\n",
    "\n"
   ]
  },
  {
   "cell_type": "markdown",
   "metadata": {},
   "source": [
    "## saving to hdf5 ##"
   ]
  },
  {
   "cell_type": "code",
   "execution_count": 28,
   "metadata": {},
   "outputs": [],
   "source": [
    "import h5py\n",
    "import gzip"
   ]
  },
  {
   "cell_type": "code",
   "execution_count": 25,
   "metadata": {},
   "outputs": [
    {
     "name": "stdout",
     "output_type": "stream",
     "text": [
      "11\n",
      "<class 'numpy.ndarray'>\n"
     ]
    }
   ],
   "source": [
    "b = np.char.zfill(str(chan_enab[11]), 2)\n",
    "print(b)\n",
    "print(type(b))\n",
    "ch_list = str(chan_enab)"
   ]
  },
  {
   "cell_type": "code",
   "execution_count": 30,
   "metadata": {},
   "outputs": [],
   "source": [
    "## straight numpy save\n",
    "# Save the NumPy array to an HDF5 file\n",
    "with h5py.File('testtesttest_ysh5'+'.h5', 'w') as hdf5_file:\n",
    "    hdf5_file.create_dataset('dataset', data=ys_cut)\n",
    "\n",
    "# # Read the NumPy array from the HDF5 file\n",
    "# with h5py.File(hdf5_file_path, 'r') as hdf5_file:\n",
    "#     loaded_array = hdf5_file['dataset'][:]"
   ]
  },
  {
   "cell_type": "code",
   "execution_count": 30,
   "metadata": {},
   "outputs": [
    {
     "name": "stdout",
     "output_type": "stream",
     "text": [
      "saving hdf5: 8.730424404144287\n"
     ]
    }
   ],
   "source": [
    "# try compression\n",
    "start = time.time()\n",
    "\n",
    "testch = 0\n",
    "\n",
    "with h5py.File('test_addingmultipleys'+'.h5', 'w') as hdf5_file:\n",
    "#     hdf5_file.create_dataset('ch '+str(chan_enab[testch]), data=ys_cut[testch])\n",
    "#     hdf5_file.create_dataset('ch '+str(np.char.zfill(str(chan_enab[0]), 2)), data=ys_cut[0], compression=\"gzip\")\n",
    "    hdf5_file.create_dataset('ch '+str(np.char.zfill(str(chan_enab[0]), 2)), data=ys_cut[testch])\n",
    "    \n",
    "# i = 2\n",
    "# with h5py.File('test_addingmultipleys'+'.h5', 'a') as hdf5_file:\n",
    "#     hdf5_file.create_dataset('ch '+str(chan_enab[i]), data=ys_cut[i])\n",
    "\n",
    "for i in range(1,len(ys_cut)):\n",
    "    with h5py.File('test_addingmultipleys'+'.h5', 'a') as hdf5_file:\n",
    "#         hdf5_file.create_dataset('ch '+str(np.char.zfill(str(chan_enab[i]), 2)), data=ys_cut[i], compression=\"gzip\")\n",
    "        hdf5_file.create_dataset('ch '+str(np.char.zfill(str(chan_enab[i]), 2)), data=ys_cut[i])\n",
    "        \n",
    "# f = gzip.GzipFile(\"testcompressednparr.npy.gz\", \"w\")\n",
    "# np.save(file=f, arr=ys_cut)\n",
    "# f.close()\n",
    "        \n",
    "end = time.time()\n",
    "print('saving hdf5: ' + str(end-start))"
   ]
  },
  {
   "cell_type": "code",
   "execution_count": 29,
   "metadata": {},
   "outputs": [
    {
     "name": "stdout",
     "output_type": "stream",
     "text": [
      "saving hdf5: 8.799411296844482\n"
     ]
    }
   ],
   "source": [
    "# Save the NumPy array to an HDF5 file\n",
    "start = time.time()\n",
    "\n",
    "testch = 0\n",
    "\n",
    "with h5py.File('test_addingmultipleys'+'.h5', 'w') as hdf5_file:\n",
    "#     hdf5_file.create_dataset('ch '+str(chan_enab[testch]), data=ys_cut[testch])\n",
    "    hdf5_file.create_dataset('ch '+str(np.char.zfill(str(chan_enab[0]), 2)), data=ys_cut[testch])\n",
    "\n",
    "    \n",
    "# i = 2\n",
    "# with h5py.File('test_addingmultipleys'+'.h5', 'a') as hdf5_file:\n",
    "#     hdf5_file.create_dataset('ch '+str(chan_enab[i]), data=ys_cut[i])\n",
    "\n",
    "for i in range(1,len(ys_cut)):\n",
    "    with h5py.File('test_addingmultipleys'+'.h5', 'a') as hdf5_file:\n",
    "        hdf5_file.create_dataset('ch '+str(np.char.zfill(str(chan_enab[i]), 2)), data=ys_cut[i])\n",
    "        \n",
    "end = time.time()\n",
    "print('saving hdf5: ' + str(end-start))    "
   ]
  },
  {
   "cell_type": "code",
   "execution_count": 33,
   "metadata": {},
   "outputs": [
    {
     "name": "stdout",
     "output_type": "stream",
     "text": [
      "saving hdf5: 236.83496618270874\n"
     ]
    }
   ],
   "source": [
    "## try compressed np array\n",
    "start = time.time()\n",
    "\n",
    "f = gzip.GzipFile(\"testcompressednparr.npy.gz\", \"w\")\n",
    "np.save(file=f, arr=ys_cut)\n",
    "f.close()\n",
    "\n",
    "end = time.time()\n",
    "print('saving hdf5: ' + str(end-start))   "
   ]
  },
  {
   "cell_type": "code",
   "execution_count": null,
   "metadata": {},
   "outputs": [],
   "source": []
  },
  {
   "cell_type": "code",
   "execution_count": 28,
   "metadata": {},
   "outputs": [],
   "source": [
    "testdf = pd.DataFrame(ys_cut[0])\n",
    "# print(testdf)\n",
    "testdf.to_hdf('testing1chdf.h5', key='df', mode='w')"
   ]
  },
  {
   "cell_type": "code",
   "execution_count": 12,
   "metadata": {},
   "outputs": [
    {
     "name": "stdout",
     "output_type": "stream",
     "text": [
      "aligning and cutting time: 10.02809476852417\n"
     ]
    }
   ],
   "source": [
    "start = time.time()\n",
    "\n",
    "np.save('testing_cutys_npoutput', ys_cut)\n",
    "\n",
    "end = time.time()\n",
    "print('aligning and cutting time: ' + str(end-start))   "
   ]
  },
  {
   "cell_type": "code",
   "execution_count": null,
   "metadata": {},
   "outputs": [],
   "source": []
  },
  {
   "cell_type": "code",
   "execution_count": null,
   "metadata": {},
   "outputs": [],
   "source": []
  },
  {
   "cell_type": "markdown",
   "metadata": {},
   "source": [
    "## older stuff ##"
   ]
  },
  {
   "cell_type": "code",
   "execution_count": 18,
   "metadata": {},
   "outputs": [
    {
     "name": "stdout",
     "output_type": "stream",
     "text": [
      "summing pulses into their states time: 0.7072417736053467\n"
     ]
    }
   ],
   "source": [
    "# OLD: changed to just saving ON and OFF pulses. Keeping if needed in later use. 09.30.2024\n",
    "\n",
    "#  add up pulses for their respective state, in each 8 step sequence ##\n",
    "#  turning into a by-channel function 06.13.24 ##\n",
    "\n",
    "start = time.time()\n",
    "sequence = np.asarray(sequence, dtype = object)\n",
    "\n",
    "# added_pulses = np.zeros((len(ys_cut), len(sequence[0]), 8, len(ys_cut[0][0])), dtype=np.float64) ## 13 sequences, 8 stages each works?\n",
    "# i channels, 13 sequences each, 8 states each sequence, 8992 num points ##\n",
    "\n",
    "ON_sums = np.zeros((len(ys_cut), len(sequence[0]), len(ys_cut[0][0])), dtype=np.float64) ## 13 channels, 13 sequences, added pulses for ON\n",
    "OFF_sums = np.zeros((len(ys_cut), len(sequence[0]), len(ys_cut[0][0])), dtype=np.float64) ## 13 channels, 13 sequences, added pulses for OFF\n",
    "ONOFF_minus_sums = np.zeros((len(ys_cut), len(sequence[0]),2, len(ys_cut[0][0])), dtype=np.float64) ## 13 channels, 13 sequences, added pulses for ON\n",
    "ONOFF_plus_sums = np.zeros((len(ys_cut), len(sequence[0]),2, len(ys_cut[0][0])), dtype=np.float64) ## 13 channels, 13 sequences, added pulses for OFF\n",
    "\n",
    "# ON_OFF_sums = np.zeros((len(ys_cut), len(sequence[0]), 2, len(ys_cut[0][0])), dtype=np.float64) ## 13 sequences, 2 for ON or OFF for each sequence\n",
    "# ON_sums = np.zeros((len(ys_basesub), len(sequence[0]), len(ys_basesub[0][0])), dtype=np.float64) ## 13 channels, 13 sequences, added pulses for ON\n",
    "# OFF_sums = np.zeros((len(ys_basesub), len(sequence[0]), len(ys_basesub[0][0])), dtype=np.float64) ## 13 channels, 13 sequences, added pulses for OFF\n",
    "# ON_minus_sums = np.zeros((len(ys_basesub), len(sequence[0]),2, len(ys_basesub[0][0])), dtype=np.float64) ## 13 channels, 13 sequences, added pulses for ON\n",
    "# ON_plus_sums = np.zeros((len(ys_basesub), len(sequence[0]),2, len(ys_basesub[0][0])), dtype=np.float64) ## 13 channels, 13 sequences, added pulses for OFF\n",
    "# ON_minus/plus_sums have their 2 for associated OFF states in the second array\n",
    "\n",
    "# @njit\n",
    "def add_pulse(ys, SFarr):\n",
    "#     tempadded_p = np.zeros((len(SFarr[0]), 8, len(ys[0])), dtype=np.float64)\n",
    "    temp_ON = np.zeros((len(SFarr[0]), len(ys[0])), dtype=np.float64)\n",
    "    temp_OFF = np.zeros((len(SFarr[0]), len(ys[0])), dtype=np.float64)\n",
    "    temp_ONOFF_min = np.zeros((len(SFarr[0]),2, len(ys[0])), dtype=np.float64)\n",
    "    temp_ONOFF_plu = np.zeros((len(SFarr[0]),2, len(ys[0])), dtype=np.float64)\n",
    "    for seq in range(0, len(SFarr[0])): ## for every sequence\n",
    "    #         print('seq:' +str(SFarr[0][seq]))\n",
    "#         print('seq:' +str(seq))\n",
    "        for state in range(0, len(SFarr[1][0])): ## for every state in the sequence\n",
    "    #         print(\"states loop \" + str(range(0, len(SFarr[1][0]))[0]) + ' - ' +  str(range(0, len(SFarr[1][0]))[-1]))\n",
    "            s = SFarr[1][seq][state] ## try this to condense code. Basically, the state currently at\n",
    "            if s==0 or s==3 or s==5 or s==6: ## these are ON states\n",
    "#                 print('ON \"s\" state '+str(s))\n",
    "#                 print('\"state\" ' +str(state) + ' from ' + str(range((SFarr[2][seq][state][0]),(SFarr[2][seq][state][1]))))\n",
    "#                 print('sums from '+str(range((SFarr[2][seq][state][0]),(SFarr[2][seq][state][1]))[0]) +\n",
    "#                 ' - ' +str(range((SFarr[2][seq][state][0]),(SFarr[2][seq][state][1]))[-1]) + '\\n')\n",
    "                for p in range((SFarr[2][seq][state][0]),(SFarr[2][seq][state][1])): ##From 20-60 for example. SFarr[2] is the array of start to end pulses to sum\n",
    "                    temp_ON[seq] = np.add(temp_ON[seq],ys[p]) ## start with zeros, add to each iteratively\n",
    "#                     print(p)\n",
    "                #         below is for splitting up into ON(-) and ON(+) and their associated OFF states (1 state forward for -, 1 state backward for +)\n",
    "                if s==0 or s==6: ## these or ON(-) states\n",
    "                    OFF_i = np.where(np.asarray(SFarr[1][0])==s+1)[0][0] ## find where in sequence state = s(ON-)+1    \n",
    "    #                 print('ON(-) \"s\" ' +str(s) + ' from ' + str(range((SFarr[2][seq][state][0]),(SFarr[2][seq][state][1]))))\n",
    "                    for p in range((SFarr[2][seq][state][0]),(SFarr[2][seq][state][1])): ##From 20-60 for example. SFarr[2] is the array of start to end pulses to sum\n",
    "                        temp_ONOFF_min[seq][0] = np.add(temp_ONOFF_min[seq][0],ys[p]) ## start with zeros, add to each iteratively\n",
    "    #                 print('OFF state ' + str(SFarr[1][seq][OFF_i]))\n",
    "                    for p in range((SFarr[2][seq][OFF_i][0]),(SFarr[2][seq][OFF_i][1])): ##From 20-60 for example. SFarr[2] is the array of start to end pulses to sum\n",
    "                        temp_ONOFF_min[seq][1] = np.add(temp_ONOFF_min[seq][1],ys[p]) ## start with zeros, add to each iteratively\n",
    "                if s==3 or s==5: ## these or ON(+) states\n",
    "                    OFF_i = np.where(np.asarray(SFarr[1][0])==s-1)[0][0] ## find where in sequence state = s(ON+)-1    \n",
    "    #                 print('ON(+) \"s\" ' +str(s) + ' from ' + str(range((SFarr[2][seq][state][0]),(SFarr[2][seq][state][1]))))\n",
    "                    for p in range((SFarr[2][seq][state][0]),(SFarr[2][seq][state][1])): ##From 20-60 for example. SFarr[2] is the array of start to end pulses to sum\n",
    "                        temp_ONOFF_plu[seq][0] = np.add(temp_ONOFF_plu[seq][0],ys[p]) ## start with zeros, add to each iteratively\n",
    "    #                 print('OFF state ' + str(SFarr[1][seq][OFF_i]))\n",
    "                    for p in range((SFarr[2][seq][OFF_i][0]),(SFarr[2][seq][OFF_i][1])): ##From 20-60 for example. SFarr[2] is the array of start to end pulses to sum\n",
    "                        temp_ONOFF_plu[seq][1] = np.add(temp_ONOFF_plu[seq][1],ys[p]) ## start with zeros, add to each iteratively\n",
    "            if s==1 or s==2 or s==4 or s==7: ## these are OFF states\n",
    "#                 print('OFF \"s\" state '+str(s))\n",
    "#                 print('\"state\" ' +str(state) + ' from ' + str(range((SFarr[2][seq][state][0]),(SFarr[2][seq][state][1]))))\n",
    "#                 print('sums from '+str(range((SFarr[2][seq][state][0]),(SFarr[2][seq][state][1]))[0]) +\n",
    "#                 ' - ' +str(range((SFarr[2][seq][state][0]),(SFarr[2][seq][state][1]))[-1]) + '\\n')\n",
    "                for p in range((SFarr[2][seq][state][0]),(SFarr[2][seq][state][1])): ##From 20-60 for example. SFarr[2] is the array of start to end pulses to sum\n",
    "                    temp_OFF[seq] = np.add(temp_OFF[seq],ys[p]) ## start with zeros, add to each iteratively\n",
    "#                     print(p)\n",
    "    return temp_ON, temp_OFF, temp_ONOFF_min, temp_ONOFF_plu\n",
    "\n",
    "for i in range(len(ys_cut)):\n",
    "#     print('#################### channel: ' + str(i) + ' ##########################')\n",
    "    ON_sums[i], OFF_sums[i], ONOFF_minus_sums[i], ONOFF_plus_sums[i] = add_pulse(ys_cut[i], sequence)\n",
    "    \n",
    "# for i in range(len(ys_basesub)-12):\n",
    "#     print('#################### channel: ' + str(i) + ' ##########################')\n",
    "#     ON_sums[i], OFF_sums[i], ON_minus_sums[i], ON_plus_sums[i] = add_pulse(ys_basesub[i], sequence)\n",
    "\n",
    "end = time.time()\n",
    "print('summing pulses into their states time: ' + str(end-start))  "
   ]
  },
  {
   "cell_type": "code",
   "execution_count": null,
   "metadata": {},
   "outputs": [],
   "source": []
  }
 ],
 "metadata": {
  "kernelspec": {
   "display_name": "Python 3 (ipykernel)",
   "language": "python",
   "name": "python3"
  },
  "language_info": {
   "codemirror_mode": {
    "name": "ipython",
    "version": 3
   },
   "file_extension": ".py",
   "mimetype": "text/x-python",
   "name": "python",
   "nbconvert_exporter": "python",
   "pygments_lexer": "ipython3",
   "version": "3.9.13"
  }
 },
 "nbformat": 4,
 "nbformat_minor": 2
}
