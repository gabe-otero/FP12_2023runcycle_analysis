{
 "cells": [
  {
   "cell_type": "code",
   "execution_count": 1,
   "id": "319045a4-edf5-4a62-b401-2218c7679be1",
   "metadata": {},
   "outputs": [
    {
     "name": "stdout",
     "output_type": "stream",
     "text": [
      "D:\\LANL\\analysis\n",
      "D:\\LANL\\SF_sorting_dataSFdaq_runs/\n"
     ]
    }
   ],
   "source": [
    "import numpy\n",
    "import matplotlib.pyplot as plt\n",
    "#import uproot\n",
    "import pandas as pd\n",
    "import scipy.optimize as opt\n",
    "import math\n",
    "import statistics as st\n",
    "import os\n",
    "import PyQt5\n",
    "\n",
    "print(os.getcwd())\n",
    "os.chdir('D:/LANL/SF_sorting_data/')\n",
    "folder = 'SFdaq_runs/'\n",
    "print(os.getcwd() + folder)\n",
    "\n",
    "%matplotlib qt\n",
    "\n",
    "run_num = \"09509\" ##This notebook is made to work with known state start/end, like run09509\n",
    "\n",
    "#chan_enab = [0,1,2,3,4,5,6,7,8,9,10,11,12,13,14,15,16,17,18,19,20,21,22,23,24,25]\n",
    "chan_enab = [26,27,28]\n",
    "\n",
    "read_data = []\n",
    "fileLength = []\n",
    "\n",
    "for el in chan_enab:\n",
    "    f = open(folder + 'run' + run_num + \"_ch\" + str(el) + \".bin\", 'rb')\n",
    "    read_data.append(numpy.fromfile(file=f, dtype=numpy.uint16))\n",
    "    f.close()\n",
    "    fileLength.append(len(read_data[-1]))"
   ]
  },
  {
   "cell_type": "markdown",
   "id": "12ff448e-fd59-42e0-b8b2-adb846e9318c",
   "metadata": {},
   "source": [
    "Store the big header for each channel in arrays"
   ]
  },
  {
   "cell_type": "code",
   "execution_count": 2,
   "id": "bcc0522c-582d-4057-b357-70512dd0fcd2",
   "metadata": {},
   "outputs": [
    {
     "name": "stdout",
     "output_type": "stream",
     "text": [
      "For channel 26, BoardID is 31; record length is 45000; num Samples is 45000; event counter is 0; dec factor is 32; chan dec is 1; postTrig is 80; group start is 0; group end is 45000; epoch time is 1704929748; first event size is 90040; and ETTT is -1886591935\n",
      "\n",
      "For channel 27, BoardID is 31; record length is 45000; num Samples is 45000; event counter is 0; dec factor is 32; chan dec is 1; postTrig is 80; group start is 0; group end is 45000; epoch time is 1704929748; first event size is 90040; and ETTT is -1886591935\n",
      "\n",
      "For channel 28, BoardID is 31; record length is 45000; num Samples is 45000; event counter is 0; dec factor is 32; chan dec is 1; postTrig is 80; group start is 0; group end is 45000; epoch time is 1704929766; first event size is 90040; and ETTT is -1886591935\n",
      "\n",
      "Target is La\n",
      "Foil is empty\n",
      "Shutter is open: False\n",
      "Facility t0 is on: False\n",
      "Spin flipper is on: True\n",
      "Spin filter is on: False\n",
      "Target is present: True\n",
      "Foil is present: False\n"
     ]
    }
   ],
   "source": [
    "BoardID = []\n",
    "recordLength = []\n",
    "numSamples = []\n",
    "eventCounter = []\n",
    "decFactor = []\n",
    "chanDec = []\n",
    "postTrig = []\n",
    "groupStart = []\n",
    "groupEnd = []\n",
    "timestamp= []\n",
    "sizeFirstEvent = []\n",
    "TTT = []\n",
    "\n",
    "targetDict = {0: \"La\", 1: \"Tb2O3\", 2: \"Yb2O3\", 3: \"Sm2O3\", 4: \"Er2O3\", 5: \"Ho2O3\", 6: \"other\"}\n",
    "foilDict = {0: \"TBD\", 1: \"TBD\", 2: \"TBD\", 3: \"TBD\", 4: \"TBD\", 5: \"TBD\", 6: \"other\"}\n",
    "\n",
    "target=(read_data[0][5]&0x00F0)>>4\n",
    "foil=read_data[0][5]&0x000F\n",
    "targetFlag = read_data[0][5]>>8&1\n",
    "foilFlag = read_data[0][5]>>9&1\n",
    "spinFiltFlag = read_data[0][5]>>10&1\n",
    "spinFlipFlag = read_data[0][5]>>11&1\n",
    "shutterFlag = read_data[0][5]>>12&1\n",
    "facilityTrigFlag = read_data[0][5]>>13&1\n",
    "\n",
    "if targetFlag:\n",
    "    target=targetDict[(read_data[0][5]&0x00F0)>>4]\n",
    "    \n",
    "else:\n",
    "    target = \"empty\"\n",
    "    \n",
    "    \n",
    "if foilFlag:\n",
    "    foil=foilDict[read_data[0][5]&0x000F]\n",
    "else:\n",
    "    foil = \"empty\"\n",
    "\n",
    "for i in range(0,len(chan_enab)):\n",
    "    BoardID.append(read_data[i][9]>>8)\n",
    "    recordLength.append(((read_data[i][9]&0x00FF)<<16)+read_data[i][8])\n",
    "    numSamples.append(((read_data[i][11]&0x00FF)<<16)+read_data[i][10])\n",
    "    eventCounter.append(read_data[i][6]+(read_data[i][7]<<16))\n",
    "    BoardID.append(read_data[i][9]>>8)  \n",
    "    decFactor.append(read_data[i][11]>>8)\n",
    "    chanDec.append(read_data[i][13]>>8)\n",
    "    postTrig.append(read_data[i][15]>>8)\n",
    "    groupStart.append(((read_data[i][13]&0x00FF)<<16)+read_data[i][12])\n",
    "    groupEnd.append(((read_data[i][15]&0x00FF)<<16)+read_data[i][14])\n",
    "    \n",
    "    timestamp.append(read_data[i][16]+(read_data[i][17]<<16)+(read_data[i][18]<<32)+(read_data[i][19]<<40))  \n",
    "    sizeFirstEvent.append(read_data[i][0]+(read_data[i][1]<<16))\n",
    "    TTT.append(read_data[i][2]+(read_data[i][3]<<16)+(read_data[i][4]<<32))\n",
    "    \n",
    "    print(\"For channel \" + str(chan_enab[i]) + \", BoardID is \" + str(BoardID[i])\n",
    "          + \"; record length is \" + str(recordLength[i]) + \"; num Samples is \" \n",
    "          + str(numSamples[i]) + \"; event counter is \" + str(eventCounter[i]) + \"; dec factor is \" + str(decFactor[i]) + \"; chan dec is \" \n",
    "          + str(chanDec[i]) + \"; postTrig is \" + str(postTrig[i]) + \"; group start is \" + str(groupStart[i]) + \"; group end is \" + str(groupEnd[i])\n",
    "          + \"; epoch time is \" + str(timestamp[i]) +  \"; first event size is \" + str(sizeFirstEvent[i]) + \"; and ETTT is \" + str(TTT[i]) + \"\\n\")\n",
    "    \n",
    "print(\"Target is \" + target)\n",
    "print(\"Foil is \" + foil)\n",
    "print(\"Shutter is open: \" + str(bool(shutterFlag)))\n",
    "print(\"Facility t0 is on: \" + str(bool(facilityTrigFlag)))\n",
    "print(\"Spin flipper is on: \" + str(bool(spinFlipFlag)))\n",
    "print(\"Spin filter is on: \" + str(bool(spinFiltFlag)))\n",
    "print(\"Target is present: \" + str(bool(targetFlag)))\n",
    "print(\"Foil is present: \" + str(bool(foilFlag)))\n"
   ]
  },
  {
   "cell_type": "markdown",
   "id": "9a9958e3-eb29-4529-b2bf-eaff422b6419",
   "metadata": {},
   "source": [
    "Determine the time axis for each channel"
   ]
  },
  {
   "cell_type": "code",
   "execution_count": 3,
   "id": "762903b1-1b4a-43a9-bd31-137f31cb6168",
   "metadata": {},
   "outputs": [
    {
     "name": "stdout",
     "output_type": "stream",
     "text": [
      "Pretime for channel 26 is 9000.0; start time is -4608000.0; end time is 18432000.0; resolution is 512ns\n",
      "Pretime for channel 27 is 9000.0; start time is -4608000.0; end time is 18432000.0; resolution is 512ns\n",
      "Pretime for channel 28 is 9000.0; start time is -4608000.0; end time is 18432000.0; resolution is 512ns\n",
      "45000\n",
      "17.578125\n"
     ]
    }
   ],
   "source": [
    "preTime = []\n",
    "startTime = []\n",
    "endTime = []\n",
    "resolution = []\n",
    "xs = [] \n",
    "\n",
    "for i in range(0,len(chan_enab)):\n",
    "    preTime.append((100-postTrig[i])*recordLength[i]/100)\n",
    "    startTime.append((-1*preTime[i]*16*decFactor[i] + groupStart[i]*16*decFactor[i]))\n",
    "    endTime.append((-1*preTime[i]*16*decFactor[i] + groupEnd[i]*16*decFactor[i]))\n",
    "    resolution.append(16*chanDec[i]*decFactor[i])\n",
    "    print(\"Pretime for channel\", chan_enab[i],\"is \" + str(preTime[i]) + \"; start time is \" + str(startTime[i]) + \"; end time is \" + str(endTime[i]) \n",
    "          + \"; resolution is \" + str(resolution[i]) + \"ns\")\n",
    "    xs.append(numpy.arange(startTime[i],(numSamples[i])*resolution[i]+startTime[i], resolution[i]))\n",
    "print(len(xs[0]))\n",
    "print(preTime[0]/512)"
   ]
  },
  {
   "cell_type": "markdown",
   "id": "b8276405-f7a7-4ee7-8952-3a1445c14ccb",
   "metadata": {},
   "source": [
    "Put ADC values in arrays for each channel (one array per event, an array of events per channel) and put the miniheader information in an array"
   ]
  },
  {
   "cell_type": "code",
   "execution_count": 47,
   "id": "945d0f45-5996-4019-9ec3-43c76a7e3130",
   "metadata": {
    "scrolled": false
   },
   "outputs": [
    {
     "name": "stdout",
     "output_type": "stream",
     "text": [
      "[]\n",
      "[[]]\n",
      "[-1886591935]\n",
      "[[-1886591935, -1761599035, -1636593249, -1511605697, -1386594229, 488374905, 613385931, 738376963, 863384891, 988372411, 1113396523, 1238377681, 1363395863, 1488395225, 1613394929, 1738394215, 1863393927, 1988393255, 2113393125, -2056603681, -1931581453, -1806600113, -1681576209, -1556605865, -1431577143, -1306577703, -1181577667, -1056600073, -931579129, -806606389, -681579619, -556580445, -431593921, -306608227, -181581551, -56589913, 68419507, 193416793, 318416851, 443415775, 568415323, 693415293, 818414893, 943414033, 1068413453, 1193413301, 1318412763, 1443408725, 1568411747, 1693397797, 1818410705, 1943410355, 2068409911, -2101583953, -1976558253, -1851586323, -1726558695, -1601580067, -1476559137, -1351560731, -1226557377, -1101580751, -976561923, -851562421, -726562863, -601563363, -476563481, -351582375, -226564429, -101593517, 23421015, 148406743, 273433251, 398432775, 523432631, 648431777, 773431491, 898407165, 1023430855, 1148430029, 1273430293, 1398429141, 1523428569, 1648428215, 1773424529, 1898427935, 2023426673, -2146565879, -2021552051, -1896569355, -1771547191, -1646542371, -1521541331, -1396544243, -1271544335, -1146544741, -1021544711, -896545703, -771551153, -646569811, -521546923, -396576765, -271547823, -146558123, -21548919, 103435545, 228450107, 353449741, 478449327, 603427073, 728448291, 853441133, 978447607, 1103418471, 1228446705, 1353446351, 1478445711, 1603421211, 1728444707, 1853444173, 1978443729, 2103419479, -2066524255, -1941552493, -1816525275, -1691546249, -1566526301, -1441526413, -1316533245, -1191553531, -1066528267, -941536387, -816534051, -691534213, -566530061, -441549355, -316531047, -191539395, -66531815, 58463765, 183452495, 308466689, 433467403, 558465905, 683465815, 808442405, 933456475, 1058463883, 1183463623, 1308462979, 1433463451, 1558434125, 1683462055, 1808433413, 1933461013, 2058438821, -2111514577, -1986517447, -1861506407, -1736508971, -1611508865, -1486510847, -1361510045, -1236514217, -1111510987, -986513357, -861511751, -736518197, -611512567, -486513601, -361514105, -236540465, -111514945, 13469285, 138485081, 263480373, 388483141, 513482705, 638482395, 763463055, 888481695, 1013451123, 1138481235, 1263480281, 1388480115, 1513419159, 1638478977, 1763448105, 1888478235, 2013452857, 2138476795, -2031490313, -1906490889, -1781514613, -1656492423, -1531492955, -1406493033, -1281520389, -1156493859, -1031508231, -906495221, -781495709, -656494265, -531525411, -406509881, -281511249, -156497793, -31528089, 93501877, 218500933, 343500115, 468499633, 593500517, 718498735, 843498519, 968497855, 1093497877, 1218469691, 1343496427, 1468496257, 1593495489, 1718495341, 1843494571, 1968481203, 2093478563, -2076498033, -1951474267, -1826487269, -1701475339, -1576502729, -1451476161, -1326481547, -1201475415, -1076477783, -951477753, -826478537, -701479099, -576485617, -451479629, -326480541, -201479901, -76481209, 48514603, 173517847, 298517529, 423505197, 548516187, 673515823, 798515285, 923515425, 1048514965, 1173514247, 1298513519, 1423485539, 1548513147, 1673512545, 1798512849, 1923511211, 2048511215, -2121457033, -1996457551, -1871457625, -1746456505, -1621481219, -1496459191, -1371488445, -1246459923, -1121461291, -996461217, -871461615, -746461973, -621462585, -496462429, -371462235, -246469165, -121494133, 3535401, 128514993, 253536165, 378503797, 503523629, 628532863, 753532449, 878532117, 1003531661, 1128523109, 1253530925, 1378530257, 1503529793, 1628530081, 1753530659, 1878528515, 2003527801, 2128527319, -2041440403, -1916440507, -1791441225, -1666441803, -1541441879, -1416442457, -1291457103, -1166452911, -1041441737, -916444413, -791444119, -666445149, -541445403, -416446259, -291445071, -166446723, -41447799, 83547369, 208553651, 333550877, 458551907, 583550057, 708553175, 833549075, 958551509, 1083548143, 1208547805, 1333520111, 1458548545, 1583547147, 1708547043, 1833545537, 1958545319, 2083519319, -2086422659, -1961437859, -1836423663, -1711438039, -1586424605, -1461425405, -1336423135], []]\n",
      "[-1886591935]\n",
      "[[-1886591935, -1761599035, -1636593249, -1511605697, -1386594229, 488374905, 613385931, 738376963, 863384891, 988372411, 1113396523, 1238377681, 1363395863, 1488395225, 1613394929, 1738394215, 1863393927, 1988393255, 2113393125, -2056603681, -1931581453, -1806600113, -1681576209, -1556605865, -1431577143, -1306577703, -1181577667, -1056600073, -931579129, -806606389, -681579619, -556580445, -431593921, -306608227, -181581551, -56589913, 68419507, 193416793, 318416851, 443415775, 568415323, 693415293, 818414893, 943414033, 1068413453, 1193413301, 1318412763, 1443408725, 1568411747, 1693397797, 1818410705, 1943410355, 2068409911, -2101583953, -1976558253, -1851586323, -1726558695, -1601580067, -1476559137, -1351560731, -1226557377, -1101580751, -976561923, -851562421, -726562863, -601563363, -476563481, -351582375, -226564429, -101593517, 23421015, 148406743, 273433251, 398432775, 523432631, 648431777, 773431491, 898407165, 1023430855, 1148430029, 1273430293, 1398429141, 1523428569, 1648428215, 1773424529, 1898427935, 2023426673, -2146565879, -2021552051, -1896569355, -1771547191, -1646542371, -1521541331, -1396544243, -1271544335, -1146544741, -1021544711, -896545703, -771551153, -646569811, -521546923, -396576765, -271547823, -146558123, -21548919, 103435545, 228450107, 353449741, 478449327, 603427073, 728448291, 853441133, 978447607, 1103418471, 1228446705, 1353446351, 1478445711, 1603421211, 1728444707, 1853444173, 1978443729, 2103419479, -2066524255, -1941552493, -1816525275, -1691546249, -1566526301, -1441526413, -1316533245, -1191553531, -1066528267, -941536387, -816534051, -691534213, -566530061, -441549355, -316531047, -191539395, -66531815, 58463765, 183452495, 308466689, 433467403, 558465905, 683465815, 808442405, 933456475, 1058463883, 1183463623, 1308462979, 1433463451, 1558434125, 1683462055, 1808433413, 1933461013, 2058438821, -2111514577, -1986517447, -1861506407, -1736508971, -1611508865, -1486510847, -1361510045, -1236514217, -1111510987, -986513357, -861511751, -736518197, -611512567, -486513601, -361514105, -236540465, -111514945, 13469285, 138485081, 263480373, 388483141, 513482705, 638482395, 763463055, 888481695, 1013451123, 1138481235, 1263480281, 1388480115, 1513419159, 1638478977, 1763448105, 1888478235, 2013452857, 2138476795, -2031490313, -1906490889, -1781514613, -1656492423, -1531492955, -1406493033, -1281520389, -1156493859, -1031508231, -906495221, -781495709, -656494265, -531525411, -406509881, -281511249, -156497793, -31528089, 93501877, 218500933, 343500115, 468499633, 593500517, 718498735, 843498519, 968497855, 1093497877, 1218469691, 1343496427, 1468496257, 1593495489, 1718495341, 1843494571, 1968481203, 2093478563, -2076498033, -1951474267, -1826487269, -1701475339, -1576502729, -1451476161, -1326481547, -1201475415, -1076477783, -951477753, -826478537, -701479099, -576485617, -451479629, -326480541, -201479901, -76481209, 48514603, 173517847, 298517529, 423505197, 548516187, 673515823, 798515285, 923515425, 1048514965, 1173514247, 1298513519, 1423485539, 1548513147, 1673512545, 1798512849, 1923511211, 2048511215, -2121457033, -1996457551, -1871457625, -1746456505, -1621481219, -1496459191, -1371488445, -1246459923, -1121461291, -996461217, -871461615, -746461973, -621462585, -496462429, -371462235, -246469165, -121494133, 3535401, 128514993, 253536165, 378503797, 503523629, 628532863, 753532449, 878532117, 1003531661, 1128523109, 1253530925, 1378530257, 1503529793, 1628530081, 1753530659, 1878528515, 2003527801, 2128527319, -2041440403, -1916440507, -1791441225, -1666441803, -1541441879, -1416442457, -1291457103, -1166452911, -1041441737, -916444413, -791444119, -666445149, -541445403, -416446259, -291445071, -166446723, -41447799, 83547369, 208553651, 333550877, 458551907, 583550057, 708553175, 833549075, 958551509, 1083548143, 1208547805, 1333520111, 1458548545, 1583547147, 1708547043, 1833545537, 1958545319, 2083519319, -2086422659, -1961437859, -1836423663, -1711438039, -1586424605, -1461425405, -1336423135], [-1886591935, -1761599035, -1636593249, -1511605697, -1386594229, 488374905, 613385931, 738376963, 863384891, 988372411, 1113396523, 1238377681, 1363395863, 1488395225, 1613394929, 1738394215, 1863393927, 1988393255, 2113393125, -2056603681, -1931581453, -1806600113, -1681576209, -1556605865, -1431577143, -1306577703, -1181577667, -1056600073, -931579129, -806606389, -681579619, -556580445, -431593921, -306608227, -181581551, -56589913, 68419507, 193416793, 318416851, 443415775, 568415323, 693415293, 818414893, 943414033, 1068413453, 1193413301, 1318412763, 1443408725, 1568411747, 1693397797, 1818410705, 1943410355, 2068409911, -2101583953, -1976558253, -1851586323, -1726558695, -1601580067, -1476559137, -1351560731, -1226557377, -1101580751, -976561923, -851562421, -726562863, -601563363, -476563481, -351582375, -226564429, -101593517, 23421015, 148406743, 273433251, 398432775, 523432631, 648431777, 773431491, 898407165, 1023430855, 1148430029, 1273430293, 1398429141, 1523428569, 1648428215, 1773424529, 1898427935, 2023426673, -2146565879, -2021552051, -1896569355, -1771547191, -1646542371, -1521541331, -1396544243, -1271544335, -1146544741, -1021544711, -896545703, -771551153, -646569811, -521546923, -396576765, -271547823, -146558123, -21548919, 103435545, 228450107, 353449741, 478449327, 603427073, 728448291, 853441133, 978447607, 1103418471, 1228446705, 1353446351, 1478445711, 1603421211, 1728444707, 1853444173, 1978443729, 2103419479, -2066524255, -1941552493, -1816525275, -1691546249, -1566526301, -1441526413, -1316533245, -1191553531, -1066528267, -941536387, -816534051, -691534213, -566530061, -441549355, -316531047, -191539395, -66531815, 58463765, 183452495, 308466689, 433467403, 558465905, 683465815, 808442405, 933456475, 1058463883, 1183463623, 1308462979, 1433463451, 1558434125, 1683462055, 1808433413, 1933461013, 2058438821, -2111514577, -1986517447, -1861506407, -1736508971, -1611508865, -1486510847, -1361510045, -1236514217, -1111510987, -986513357, -861511751, -736518197, -611512567, -486513601, -361514105, -236540465, -111514945, 13469285, 138485081, 263480373, 388483141, 513482705, 638482395, 763463055, 888481695, 1013451123, 1138481235, 1263480281, 1388480115, 1513419159, 1638478977, 1763448105, 1888478235, 2013452857, 2138476795, -2031490313, -1906490889, -1781514613, -1656492423, -1531492955, -1406493033, -1281520389, -1156493859, -1031508231, -906495221, -781495709, -656494265, -531525411, -406509881, -281511249, -156497793, -31528089, 93501877, 218500933, 343500115, 468499633, 593500517, 718498735, 843498519, 968497855, 1093497877, 1218469691, 1343496427, 1468496257, 1593495489, 1718495341, 1843494571, 1968481203, 2093478563, -2076498033, -1951474267, -1826487269, -1701475339, -1576502729, -1451476161, -1326481547, -1201475415, -1076477783, -951477753, -826478537, -701479099, -576485617, -451479629, -326480541, -201479901, -76481209, 48514603, 173517847, 298517529, 423505197, 548516187, 673515823, 798515285, 923515425, 1048514965, 1173514247, 1298513519, 1423485539, 1548513147, 1673512545, 1798512849, 1923511211, 2048511215, -2121457033, -1996457551, -1871457625, -1746456505, -1621481219, -1496459191, -1371488445, -1246459923, -1121461291, -996461217, -871461615, -746461973, -621462585, -496462429, -371462235, -246469165, -121494133, 3535401, 128514993, 253536165, 378503797, 503523629, 628532863, 753532449, 878532117, 1003531661, 1128523109, 1253530925, 1378530257, 1503529793, 1628530081, 1753530659, 1878528515, 2003527801, 2128527319, -2041440403, -1916440507, -1791441225, -1666441803, -1541441879, -1416442457, -1291457103, -1166452911, -1041441737, -916444413, -791444119, -666445149, -541445403, -416446259, -291445071, -166446723, -41447799, 83547369, 208553651, 333550877, 458551907, 583550057, 708553175, 833549075, 958551509, 1083548143, 1208547805, 1333520111, 1458548545, 1583547147, 1708547043, 1833545537, 1958545319, 2083519319, -2086422659, -1961437859, -1836423663, -1711438039, -1586424605, -1461425405, -1336423135], []]\n",
      "[-1886591935]\n"
     ]
    },
    {
     "name": "stdout",
     "output_type": "stream",
     "text": [
      "<class 'numpy.uint16'>\n",
      "<class 'numpy.intc'>\n",
      "<class 'numpy.intc'>\n"
     ]
    }
   ],
   "source": [
    "ys_arr = []\n",
    "ETTT_arr = []\n",
    "eventcount_arr = []\n",
    "print(ETTT_arr)\n",
    "\n",
    "for i in range(0,len(chan_enab)):\n",
    "    eventCount = 0\n",
    "    byteCounter = 0\n",
    "    ys_arr.append([])\n",
    "    eventcount_arr.append([])\n",
    "    ETTT_arr.append([])\n",
    "    \n",
    "    #byte counter is really 2bytecounter, lol\n",
    "    while byteCounter < fileLength[i]:\n",
    "        if byteCounter == 0:\n",
    "            ETTT_arr.append([])\n",
    "            print(ETTT_arr)\n",
    "            eventcount_arr.append([])\n",
    "            ETTT_arr[i].append(TTT[i])\n",
    "            print(ETTT_arr[i])\n",
    "            eventcount_arr[i].append(eventCounter[i])\n",
    "            byteCounter = 20\n",
    "        else:\n",
    "            ETTT_arr[i].append(read_data[i][byteCounter]+(read_data[i][byteCounter+1]<<16)+(read_data[i][byteCounter+2]<<32))\n",
    "            eventcount_arr[i].append(read_data[i][byteCounter+4]+(read_data[i][byteCounter+5]<<16))\n",
    "            byteCounter += 6\n",
    "        for j in range(0, numSamples[i]):\n",
    "            if j == 0:\n",
    "                ys_arr[i].append([])\n",
    "            ys_arr[i][eventCount].append(read_data[i][byteCounter]) \n",
    "            byteCounter += 1\n",
    "        eventCount += 1\n",
    "#read_data.clear()\n",
    "    #times_arr.append(list(map(list, zip(*headers_arr[i][1:])))[0])\n",
    "print(type(ys_arr[0][0][0]))\n",
    "print(type(ETTT_arr[0][0]))\n",
    "print(type(eventcount_arr[0][0]))"
   ]
  },
  {
   "cell_type": "code",
   "execution_count": 51,
   "id": "a57d8a56",
   "metadata": {},
   "outputs": [
    {
     "name": "stdout",
     "output_type": "stream",
     "text": [
      "3\n",
      "335\n",
      "3\n",
      "335\n",
      "-1886591935\n"
     ]
    }
   ],
   "source": [
    "print(len(ETTT_arr))\n",
    "print(len(ETTT_arr[0]))\n",
    "print(len(eventcount_arr))\n",
    "print(len(eventcount_arr[2]))\n",
    "print((ETTT_arr[0][0]))"
   ]
  },
  {
   "cell_type": "markdown",
   "id": "8ec628b4-06e7-4922-8888-6c49ae5a439a",
   "metadata": {},
   "source": [
    "Calculate the time difference between each event within a file - used to check for dropping pulses. It seems that if we make the record window 49.152 ms long, we miss every other pulse (at 20 Hz). This is not that surprising - we presumably will not need a lot of data (or any) with the full 50 ms time window."
   ]
  },
  {
   "cell_type": "code",
   "execution_count": 5,
   "id": "a24e8d6f-120a-407a-a0dd-f8ae41dc45dd",
   "metadata": {},
   "outputs": [
    {
     "name": "stdout",
     "output_type": "stream",
     "text": [
      "Min time difference for channel 26 is 999512352 ns\n",
      "Max time difference for channel 26 is 2114851184 ns \n",
      "\n",
      "Min time difference for channel 27 is 999512352 ns\n",
      "Max time difference for channel 27 is 2114851184 ns \n",
      "\n",
      "Min time difference for channel 28 is 999512352 ns\n",
      "Max time difference for channel 28 is 2114851184 ns \n",
      "\n"
     ]
    },
    {
     "name": "stderr",
     "output_type": "stream",
     "text": [
      "C:\\Users\\gabeo\\AppData\\Local\\Temp\\ipykernel_79584\\56284953.py:5: RuntimeWarning: overflow encountered in int_scalars\n",
      "  timeDif[i].append((ETTT_arr[i][j+1]-ETTT_arr[i][j])*8)\n"
     ]
    }
   ],
   "source": [
    "timeDif=[]\n",
    "for i in range(0,len(chan_enab)):\n",
    "    timeDif.append([])\n",
    "    for j in range(len(ETTT_arr[i])-1):\n",
    "        timeDif[i].append((ETTT_arr[i][j+1]-ETTT_arr[i][j])*8)\n",
    "    print(\"Min time difference for channel\", chan_enab[i], \"is\", min(timeDif[i]), \"ns\")\n",
    "    print(\"Max time difference for channel\", chan_enab[i], \"is\", max(timeDif[i]), \"ns \\n\")\n",
    "#print(timeDif)"
   ]
  },
  {
   "cell_type": "markdown",
   "id": "43eaafbc-18bb-43a4-9f55-39501aff3109",
   "metadata": {},
   "source": [
    "Plot each channels' events"
   ]
  },
  {
   "cell_type": "code",
   "execution_count": 9,
   "id": "3cc44baf-dbc9-481d-9483-44dfdacf5e41",
   "metadata": {
    "scrolled": false
   },
   "outputs": [
    {
     "name": "stdout",
     "output_type": "stream",
     "text": [
      "[ 26  69 112 155 198 241 284 327]\n",
      "1062.9929310344828\n",
      "440.10344827363224\n",
      "1080.0074137931035\n",
      "45547488.379373275\n",
      "1092.0522413793103\n",
      "1101059.137931013\n"
     ]
    }
   ],
   "source": [
    "#switchs = [31, 74, 117, 160, 203, 246, 289, 332]\n",
    "#%matplotlib notebook\n",
    "sums = []\n",
    "ys_basesub = []\n",
    "legend = ['LO', 'TR', 'R']\n",
    "statesID = ['111', '101', '100', '110','101','110','111','100','111']\n",
    "switchpulses = numpy.arange(26,370,43)\n",
    "print(switchpulses)\n",
    "p=2\n",
    "pulse = switchpulses[p]\n",
    "#print(pulse)\n",
    "\n",
    "#%matplotlib qt\n",
    "for i in range(0,len(chan_enab)):\n",
    "#for i in range(1,2):\n",
    "    s=pulse\n",
    "    t=s+1\n",
    "    #for j in range(0, len(ys_arr[i])):\n",
    "    for j in range(s, t):\n",
    "        ys_basesub.append(ys_arr[i] - numpy.mean(ys_arr[i][j][200:6000]))\n",
    "        print(numpy.mean(ys_arr[i][j][200:6000]))\n",
    "        print(sum(ys_basesub[i][j]))\n",
    "        sums.append(sum(ys_basesub[i][j][9000:-1]))\n",
    "        plt.plot(xs[i], ys_basesub[i][j], label=legend[i]+', Integral = '+str(sums[i]))\n",
    "\n",
    "#plt.xlim(-50000, 900000)\n",
    "#plt.ylim(3000,4100)\n",
    "plt.title('SF state transition '+statesID[p]+' -> '+statesID[p+1])\n",
    "plt.xlabel(\"time from trigger (ns)\")\n",
    "plt.ylabel(\"ADC\")\n",
    "#plt.text(1.5e7, 1200, 'test', fontsize=12)\n",
    "plt.legend()\n",
    "plt.show()\n",
    "#print(sums)\n",
    "#print(len(ys_arr[1]))\n",
    "#plt.hist(sums, 100)\n",
    "#plt.show()"
   ]
  },
  {
   "cell_type": "code",
   "execution_count": 13,
   "id": "e93ff4e4",
   "metadata": {},
   "outputs": [
    {
     "name": "stdout",
     "output_type": "stream",
     "text": [
      "[113.24034482472985, 639.8591379327731, 435.4756896533886, -4323.831896544789, 476.93275862272185, -529.5865517278185, 669.9277586184655, -796.9663793113609]\n",
      "[1361105.0, 3263.115862070501, 45547421.110925, -5424600.230348613, 4466560.423448873, -19120081.826903265, 5468464.211729317, -4464245.033623142]\n",
      "[13974265.937762318, -15159233.504298683, 1101042.3625861853, 13990248.625160526, -1020922.5951708585, 1345.966379311361, -13985297.023627324, 1089697.3125849988]\n"
     ]
    }
   ],
   "source": [
    "sumsLO = []\n",
    "sumsTR = []\n",
    "sumsR = []\n",
    "\n",
    "ys_basesub = []\n",
    "legend = ['LO', 'TR', 'R']\n",
    "statesID = ['111', '101', '100', '110','101','110','111','100','111']\n",
    "switchpulses = numpy.arange(26,370,43)\n",
    "\n",
    "for j in switchpulses:\n",
    "    ys_basesub.append(ys_arr[0] - numpy.mean(ys_arr[0][j][200:6000]))\n",
    "    sumsLO.append(sum(ys_basesub[0][j][9000:-1]))\n",
    "    #print((len(ys_basesub)))\n",
    "    ys_basesub = []\n",
    "for j in switchpulses:\n",
    "    ys_basesub.append(ys_arr[1] - numpy.mean(ys_arr[1][j][200:6000]))\n",
    "    sumsTR.append(sum(ys_basesub[0][j][9000:-1]))\n",
    "    #print((len(ys_basesub)))\n",
    "    ys_basesub = []\n",
    "for j in switchpulses:\n",
    "    ys_basesub.append(ys_arr[2] - numpy.mean(ys_arr[2][j][200:6000]))\n",
    "    sumsR.append(sum(ys_basesub[0][j][9000:-1]))\n",
    "    #print((len(ys_basesub)))\n",
    "    ys_basesub = []\n",
    "print(sumsLO)\n",
    "print(sumsTR)\n",
    "print(sumsR)"
   ]
  },
  {
   "cell_type": "code",
   "execution_count": 14,
   "id": "32eaa46f",
   "metadata": {},
   "outputs": [
    {
     "name": "stdout",
     "output_type": "stream",
     "text": [
      "SF OK\n",
      "SF OK\n",
      "SF OK\n",
      "SF OK\n",
      "SF OK\n",
      "SF OK\n",
      "SF OK\n",
      "[[ 26  26]\n",
      " [ 42  69]\n",
      " [ 42 112]\n",
      " [ 42 155]\n",
      " [ 42 198]\n",
      " [ 42 241]\n",
      " [ 42 284]\n",
      " [ 42 327]]\n"
     ]
    }
   ],
   "source": [
    "##Threshold testing\n",
    "TRThresh = 30 ## Note the threshold can change from statechange to statechange. Need to figure out a good value.\n",
    "RThresh = 30\n",
    "ys_basesub = []\n",
    "where = []\n",
    "pulseswitch_list = []\n",
    "zeros=0\n",
    "zeros_arr = []\n",
    "switchbin = []\n",
    "States_full = [zeros_arr,switchbin]\n",
    "\n",
    "#for i in range(0,len(chan_enab)):\n",
    "for i in range(1,2):\n",
    "    s=pulse\n",
    "    t=s+1\n",
    "    for j in range(0, len(ys_arr[i])):\n",
    "    #for j in range(s, t):\n",
    "        ys_basesub.append(ys_arr[i][j] - numpy.mean(ys_arr[i][j][200:6000]))\n",
    "        thresh_xing = numpy.diff(numpy.absolute(ys_basesub[j]) > TRThresh, prepend=False)\n",
    "        xing = numpy.argwhere(thresh_xing)[:,0]\n",
    "        #print(len(xing))\n",
    "        if len(xing)== 0:\n",
    "            #pulseswitch_list.append(0)  ## can now get rid of this, but illustrrates non-switch and switch pulses\n",
    "            zeros+=1\n",
    "        else:\n",
    "            #pulseswitch_list.append(xing[0])  ## can now get rid of this, but illustrrates non-switch and switch pulses\n",
    "            switchbin.append(j)\n",
    "            zeros_arr.append(zeros)\n",
    "            zeros=0\n",
    "        \n",
    "#for pulse in pulseswitch_list:\n",
    "#    #print(pulse)\n",
    "#    if pulse==0:\n",
    "#        #print(zeros[0])\n",
    "#        zeros+=1\n",
    "#    else:\n",
    "#        switchbin.append(pulse)\n",
    "#        zeros_arr.append(zeros)\n",
    "#        zeros=0\n",
    "        \n",
    "States_full = numpy.array(States_full).T\n",
    "            \n",
    "for state in States_full[1:]:\n",
    "    if state[0]!=42:\n",
    "        print('SF ERROR!')\n",
    "    else:\n",
    "        print('SF OK')\n",
    "        #where.append(numpy.where(ys_basesub[j] > TRThresh))\n",
    "        #print(numpy.mean(ys_arr[i][j][200:6000]))\n",
    "        #print(sum(ys_basesub[i][j]))\n",
    "        #sums.append(sum(ys_basesub[i][j][9000:-1]))\n",
    "        #plt.plot(xs[i], ys_basesub[i][j], label=legend[i]+', Integral = '+str(sums[i]))\n",
    "\n",
    "#print(pulseswitch_list)\n",
    "print(States_full)\n",
    "#print(zeros)"
   ]
  },
  {
   "cell_type": "markdown",
   "id": "83ac0d58",
   "metadata": {},
   "source": [
    "BELOW IS TESTING"
   ]
  },
  {
   "cell_type": "code",
   "execution_count": 15,
   "id": "8cc0ba04",
   "metadata": {},
   "outputs": [
    {
     "name": "stdout",
     "output_type": "stream",
     "text": [
      "1062.9956140350878\n",
      "1080.0108771929824\n",
      "1092.0043859649122\n",
      "6000\n"
     ]
    }
   ],
   "source": [
    "#print(numpy.mean(ys_arr[0][0:6000]))\n",
    "ys_basesub = []\n",
    "\n",
    "#for i in range(0,len(chan_enab)):\n",
    "#    ys_basesub.append(ys_arr[i] - numpy.mean(ys_arr[i][0:6000]))\n",
    "#    print(numpy.mean(ys_arr[i][0:6000]))\n",
    "\n",
    "for i in range(0,len(chan_enab)):\n",
    "#for i in range(0,1):\n",
    "    s=pulse\n",
    "    t=s+1\n",
    "    #for j in range(0, len(ys_arr[i])):\n",
    "    for j in range(s, t):\n",
    "        ys_basesub.append(ys_arr[i] - numpy.mean(ys_arr[i][j][300:6000]))\n",
    "        print(numpy.mean(ys_arr[i][j][300:6000]))\n",
    "        sums.append(sum(ys_arr[i][j]))\n",
    "        plt.plot(xs[i], ys_basesub[i][j], label=legend[i]+', Integral = '+str(sums[i]))\n",
    "\n",
    "#plt.xlim(-50000, 900000)\n",
    "#plt.ylim(3000,4100)\n",
    "plt.title('SF state transition '+statesID[p]+' -> '+statesID[p+1])\n",
    "plt.xlabel(\"time from trigger (ns)\")\n",
    "plt.ylabel(\"ADC\")\n",
    "#plt.text(1.5e7, 1200, 'test', fontsize=12)\n",
    "plt.legend()\n",
    "plt.show()\n",
    "    \n",
    "print(len(ys_basesub[0][26][0:6000]))"
   ]
  },
  {
   "cell_type": "code",
   "execution_count": 10,
   "id": "2da65ed8",
   "metadata": {},
   "outputs": [
    {
     "name": "stdout",
     "output_type": "stream",
     "text": [
      "[  31   74  117  160  203  246  289  332  375  418  461  504  547  590\n",
      "  633  676  719  762  805  848  891  934  977 1020 1063 1106 1149 1192\n",
      " 1235 1278 1321 1364 1407 1450 1493 1536 1579 1622 1665 1708 1751 1794\n",
      " 1837 1880]\n"
     ]
    },
    {
     "ename": "IndexError",
     "evalue": "list index out of range",
     "output_type": "error",
     "traceback": [
      "\u001b[0;31m---------------------------------------------------------------------------\u001b[0m",
      "\u001b[0;31mIndexError\u001b[0m                                Traceback (most recent call last)",
      "Input \u001b[0;32mIn [10]\u001b[0m, in \u001b[0;36m<cell line: 25>\u001b[0;34m()\u001b[0m\n\u001b[1;32m     25\u001b[0m \u001b[38;5;28;01mfor\u001b[39;00m i \u001b[38;5;129;01min\u001b[39;00m \u001b[38;5;28mrange\u001b[39m(\u001b[38;5;241m4\u001b[39m,\u001b[38;5;241m5\u001b[39m):\n\u001b[1;32m     26\u001b[0m     \u001b[38;5;28;01mfor\u001b[39;00m j \u001b[38;5;129;01min\u001b[39;00m switchs:\n\u001b[0;32m---> 27\u001b[0m         plt\u001b[38;5;241m.\u001b[39mplot(\u001b[43mxs\u001b[49m\u001b[43m[\u001b[49m\u001b[43mi\u001b[49m\u001b[43m]\u001b[49m, ys_arr[i][j])\n\u001b[1;32m     28\u001b[0m         sums\u001b[38;5;241m.\u001b[39mappend(\u001b[38;5;28msum\u001b[39m(ys_arr[i][j]))\n\u001b[1;32m     29\u001b[0m \u001b[38;5;66;03m#plt.xlim(-50000, 900000)\u001b[39;00m\n\u001b[1;32m     30\u001b[0m \u001b[38;5;66;03m#plt.ylim(3000,4100)\u001b[39;00m\n",
      "\u001b[0;31mIndexError\u001b[0m: list index out of range"
     ]
    }
   ],
   "source": [
    "#switchs = [31, 74, 117, 160, 203, 246, 289, 332]\n",
    "#%matplotlib notebook\n",
    "sums = []\n",
    "switchs = numpy.arange(31,1923,43)\n",
    "print(switchs)\n",
    "ys_basesub = []\n",
    "\n",
    "for i in range(0,len(chan_enab)):\n",
    "    ys_basesub.append(ys_arr[i] - numpy.mean(ys_arr[0][0:6000]))\n",
    "    \n",
    "#%matplotlib qt\n",
    "#for i in range(0,len(chan_enab)):\n",
    "#for i in range(2,5):\n",
    "#    s=375\n",
    "#    t=s+1\n",
    "#    #for j in range(0, len(ys_arr[i])):\n",
    "#    for j in range(s, t):\n",
    "#        plt.plot(xs[i], ys_arr[i][j])\n",
    "#for i in range(2,5):\n",
    "#    s=332\n",
    "#    t=s+1\n",
    "#    #for j in range(0, len(ys_arr[i])):\n",
    "#    for j in range(s, t):\n",
    "#        plt.plot(xs[i], ys_arr[i][j])\n",
    "for i in range(4,5):\n",
    "    for j in switchs:\n",
    "        plt.plot(xs[i], ys_arr[i][j])\n",
    "        sums.append(sum(ys_arr[i][j]))\n",
    "#plt.xlim(-50000, 900000)\n",
    "#plt.ylim(3000,4100)\n",
    "plt.xlabel(\"time from trigger (ns)\")\n",
    "plt.show()\n",
    "print(sums)\n",
    "print(len(ys_arr[1]))\n",
    "plt.hist(sums, 100)\n",
    "plt.show()"
   ]
  },
  {
   "cell_type": "code",
   "execution_count": null,
   "id": "02f234e6",
   "metadata": {},
   "outputs": [],
   "source": [
    "pulse = 289\n",
    "for i in range(4,5):\n",
    "    for j in switchs:\n",
    "        plt.plot(xs[i], ys_arr[i][pulse])\n",
    "print(ys_arr[4][pulse])\n",
    "print(sum(ys_arr[4][pulse]))"
   ]
  },
  {
   "cell_type": "markdown",
   "id": "9d29989c",
   "metadata": {},
   "source": [
    "summation for all channels"
   ]
  },
  {
   "cell_type": "code",
   "execution_count": null,
   "id": "f31cd15a",
   "metadata": {},
   "outputs": [],
   "source": [
    "NaIthres=3500\n",
    "Li6thres=200\n",
    "Hethres=0\n",
    "NaIsign=\"pos\"\n",
    "Li6sign=\"neg\"\n",
    "Hesign=\"\"\n",
    "threshold_array=[NaIthres,NaIthres,NaIthres,NaIthres,NaIthres,NaIthres,NaIthres,NaIthres,NaIthres,NaIthres,\n",
    "                 NaIthres,NaIthres,NaIthres,NaIthres,NaIthres,NaIthres,NaIthres,NaIthres,NaIthres,NaIthres,\n",
    "                NaIthres,NaIthres,NaIthres,NaIthres,Li6thres,Hethres]\n",
    "threshold_sign=[NaIsign,NaIsign,NaIsign,NaIsign,NaIsign,NaIsign,NaIsign,NaIsign,NaIsign,NaIsign,NaIsign,\n",
    "                NaIsign,NaIsign,NaIsign,NaIsign,NaIsign,NaIsign,NaIsign,NaIsign,NaIsign,NaIsign,NaIsign,\n",
    "                NaIsign,NaIsign,Li6sign,Hesign]\n",
    "xCrosses=[]#outer array is crossing arrays for given channel, inner array is crossing for each event\n",
    "modeCrosses=[] #single array with one value per channel\n",
    "xValues=[]\n",
    "xtimems=[]\n",
    "\n",
    "extendedRange=3\n",
    "for i in range(0,len(chan_enab)):\n",
    "    xCrosses.append([])\n",
    "    xValues.append([])\n",
    "    for j in ys_arr[i]:\n",
    "        newj = numpy.array(j)\n",
    "        if threshold_sign[i] == \"pos\":\n",
    "            thresh_xing = numpy.diff(newj > threshold_array[i], prepend=False)\n",
    "        elif threshold_sign[i] == \"neg\":\n",
    "            thresh_xing = numpy.diff(newj < threshold_array[i], prepend=False)\n",
    "        xing = numpy.argwhere(thresh_xing)[:,0]\n",
    "        xCrosses[i].append(xing[0])\n",
    "    modeCrosses.append(st.mode(xCrosses[i])) #find the most typical crossing value for each channel\n",
    "    xValues[i].append(numpy.arange(len(ys_arr[i][0])+2*extendedRange)-modeCrosses[i])\n",
    "    xtimems.append(xValues[i][-1]*resolution[i]*10**(-6))\n",
    "print(len(xtimems[1]))\n",
    "print(modeCrosses)\n",
    "print(xValues[0])\n",
    "\n",
    "                       "
   ]
  },
  {
   "cell_type": "code",
   "execution_count": null,
   "id": "ec4ab4a6",
   "metadata": {},
   "outputs": [],
   "source": [
    "#print(xCrosses)\n",
    "extendedRange = 3\n",
    "\n",
    "\n",
    "time_array=[]\n",
    "time_nparray=[]\n",
    "failedRuns=[]\n",
    "for i in range(0,len(chan_enab)):\n",
    "#for i in range(0,2):\n",
    "    time_array.append(numpy.zeros(len(ys_arr[i][0])+2*extendedRange))\n",
    "    time_nparray.append([])\n",
    "    for j in range(0, len(ys_arr[i])):\n",
    "        shiftedWave = ys_arr[i][j][:] - numpy.mean(ys_arr[i][j][0:int(xing[0]*0.80)]) #this subtracts the baseline -\n",
    "        #baseline is based on the first 80% of samples before the threshold crossing\n",
    "        offset = xCrosses[i][j]-modeCrosses[i]\n",
    "        if (abs(offset) < extendedRange+1):\n",
    "            for k in range(len(shiftedWave)):\n",
    "                time_array[i][k-offset+extendedRange]=time_array[i][k-offset+extendedRange]+shiftedWave[k]\n",
    "                #may need to switch this to subtracting offset\n",
    "        else:\n",
    "            failedRuns.append([i,j])\n",
    "    time_nparray[i]=numpy.array(time_array[i])\n",
    "#print(xCrosses)\n",
    "print(len(time_nparray[0]))"
   ]
  },
  {
   "cell_type": "code",
   "execution_count": null,
   "id": "0976c330",
   "metadata": {},
   "outputs": [],
   "source": [
    "for i in range(0,len(chan_enab)):\n",
    "#for i in range(0,1):\n",
    "    plt.plot(xtimems[i],time_nparray[i])\n",
    "    plt.xlabel('Time [ms]')\n",
    "    plt.ylabel('counts (arb)')\n",
    "    #plt.xlim(-0.1,0.2)\n",
    "    #plt.ylim(-600000,0)\n",
    "plt.show()"
   ]
  },
  {
   "cell_type": "code",
   "execution_count": null,
   "id": "594b74fd",
   "metadata": {},
   "outputs": [],
   "source": [
    "\n",
    "d = {\"right\": [0,1,8,9,10,11,14,15,16,17,18,19],\n",
    "     \"left\": [2,3,4,5,6,7,12,13,20,21,22,23],\n",
    "     \"up\": [12,13,14,15,16,17,18,19,20,21,22,23],\n",
    "     \"down\": [0,1,2,3,4,5,6,7,8,9,10,11],\n",
    "     \"corner\": [0,3,6,9,12,15,18,21],\n",
    "     \"noncorner\": [1,2,4,5,7,8,10,11,13,14,16,17,19,20,22,23],\n",
    "     \"top\": [0,1,2,3,4,11,12,13,14,15,16,23],\n",
    "     \"bottom\": [5,6,7,8,9,10,17,18,19,20,21,22],\n",
    "     \"Li6\": [24],\n",
    "     \"NaI\": [0,1,2,3,4,5,6,7,8,9,10,11,12,13,14,15,16,17,18,19,20,21,22,23],\n",
    "     \"He3\": [25]\n",
    "    }"
   ]
  },
  {
   "cell_type": "code",
   "execution_count": null,
   "id": "0e1de062",
   "metadata": {},
   "outputs": [],
   "source": [
    "type1=\"up\"\n",
    "type2=\"down\"\n",
    "type1_array=numpy.zeros(len(ys_arr[0][0]))\n",
    "type2_array=numpy.zeros(len(ys_arr[0][0]))\n",
    "for i in d[type1]: \n",
    "    type1_array = numpy.add(type1_array, time_nparray[i])\n",
    "    \n",
    "for i in d[type2]:\n",
    "    type2_array = numpy.add(type2_array, time_nparray[i])\n",
    "    plt.title(type1 + \" in blue, \" + type2 + \" in red\")\n",
    "plt.plot(xtimems[0], type1_array/len(d[type1]),'b', lw=1)\n",
    "plt.plot(xtimems[0], type2_array/len(d[type2]),'r',lw=1)\n",
    "plt.show()"
   ]
  },
  {
   "cell_type": "code",
   "execution_count": 1,
   "id": "2d051c3c",
   "metadata": {},
   "outputs": [],
   "source": [
    "%history -g -f SF State identification"
   ]
  },
  {
   "cell_type": "code",
   "execution_count": null,
   "id": "c21e543d",
   "metadata": {},
   "outputs": [],
   "source": []
  }
 ],
 "metadata": {
  "kernelspec": {
   "display_name": "Python 3 (ipykernel)",
   "language": "python",
   "name": "python3"
  },
  "language_info": {
   "codemirror_mode": {
    "name": "ipython",
    "version": 3
   },
   "file_extension": ".py",
   "mimetype": "text/x-python",
   "name": "python",
   "nbconvert_exporter": "python",
   "pygments_lexer": "ipython3",
   "version": "3.9.13"
  }
 },
 "nbformat": 4,
 "nbformat_minor": 5
}
