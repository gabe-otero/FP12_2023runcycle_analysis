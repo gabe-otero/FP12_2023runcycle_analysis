{
 "cells": [
  {
   "cell_type": "markdown",
   "id": "79c43acd",
   "metadata": {},
   "source": [
    "## figure out normalization and difference from last time...\n",
    "# take out run 109 and recreate La asym plot"
   ]
  },
  {
   "cell_type": "code",
   "execution_count": 1,
   "id": "fdf4de45",
   "metadata": {},
   "outputs": [
    {
     "name": "stdout",
     "output_type": "stream",
     "text": [
      "['0_vparams_La.h5', 'La_sample', '_temp_xs.npy', 'runs07862-08069', 'runs09919-10159', 'runs11121-11138', 'runs11139-11412', 'runs11413-11726', 'runs11727-12033', 'runs12034-12363', 'runs12364-12684', 'runs12686-13279', 'runs13280-13563', 'runs13564-13604', 'runs13605-13735', 'runs13736-13851', 'runs13852-14191', 'runs14192-14499', 'runs14500-15106', 'runs15114-15568', 'runs15569-16110', 'runs16135-16392', 'runs16453-16763', 'runs88888-99999', 'xs_cut.npy', 'xs_uncut.npy']\n",
      "runs11727-12033\n",
      "8 10\n",
      "3\n",
      "['runs11727-12033/', 'runs12034-12363/', 'runs12364-12684/']\n",
      "3\n",
      "3\n",
      "306\n",
      "954\n",
      "954\n",
      "954\n"
     ]
    }
   ],
   "source": [
    "import os\n",
    "import numpy as np\n",
    "import matplotlib.pyplot as plt\n",
    "import h5py\n",
    "import pandas as pd\n",
    "from numba import njit\n",
    "# from scipy import odr\n",
    "# from scipy.special import voigt_profile\n",
    "# from scipy.optimize import curve_fit\n",
    "# from scipy import stats as st\n",
    "import time\n",
    "\n",
    "# os.chdir('F:/LANL/processed_data/')\n",
    "# processedfolder = 'F:/LANL/processed_data/'\n",
    "\n",
    "os.chdir('F:/LANL/')\n",
    "# os.chdir('/mnt/c/Users/gabeo/Desktop/analysis_temp/')\n",
    "root = os.getcwd()\n",
    "\n",
    "processedfolder = '/processed_data/'\n",
    "\n",
    "search_arr = sorted(os.listdir(root + processedfolder))\n",
    "print(search_arr)\n",
    "# print(search_arr[0])\n",
    "# folders_start = 'runs'+'12364-12684'\n",
    "folders_start = 'runs'+'11727-12033'\n",
    "# folders_start = 'runs'+'12034-12363'\n",
    "# folders_end = 'runs'+'11727-12033'\n",
    "\n",
    "folders_end = 'runs'+'12364-12684'\n",
    "# folders_end = 'runs'+'12034-12363'\n",
    "print(folders_start)\n",
    "start_i = search_arr.index(folders_start)\n",
    "end_i = search_arr.index(folders_end)\n",
    "print(start_i, end_i)\n",
    "print(len(search_arr[start_i:end_i+1]))\n",
    "asymDendname = '/asym_D/'\n",
    "asymUendname = '/asym_U/'\n",
    "\n",
    "firstfile = sorted(os.listdir(root+processedfolder+folders_start+asymDendname))[0]\n",
    "folderslist = []\n",
    "if folders_start == folders_end:\n",
    "    currfolder = search_arr[start_i]+'/'\n",
    "    folderslist.append(currfolder)\n",
    "else:\n",
    "    for f in range(start_i, end_i+1):\n",
    "#         print(f)\n",
    "#         print(search_arr[f])\n",
    "        currfolder = root+processedfolder+search_arr[f]\n",
    "        currfolder = search_arr[f]+'/'\n",
    "#         print(currfolder)\n",
    "        folderslist.append(currfolder)\n",
    "#     runslist_D[f] = sorted(os.listdir(root+processedfolder+folders_start+'/asym_D'))\n",
    "#     runslist_U[f] = sorted(os.listdir(root+processedfolder+folders_start+'/asym_U'))\n",
    "\n",
    "numfolders = len(folderslist)\n",
    "print(folderslist)\n",
    "print(numfolders)\n",
    "\n",
    "## change below to multiple folders?\n",
    "runslist_D = []  ## array of runfolders, runs\n",
    "runslist_U = []\n",
    "for i in range(len(folderslist)):\n",
    "    runslist_D.append(sorted(os.listdir(root+processedfolder+folderslist[i]+'/asym_D')))\n",
    "    runslist_U.append(sorted(os.listdir(root+processedfolder+folderslist[i]+'/asym_U')))\n",
    "# runslist_D = sorted(os.listdir(root+processedfolder+folders_start+'/ONOFF_D')) ## has to be changed to an array\n",
    "# runslist_U = sorted(os.listdir(root+processedfolder+folders_start+'/ONOFF_U'))\n",
    "# runslist_D =np.asarray(runslist_D)\n",
    "# runslist_U =np.asarray(runslist_U)\n",
    "print(len(runslist_D))\n",
    "print(len(runslist_D[0]))\n",
    "# print(len(runslist_D[1]))\n",
    "## now flatten list so that all runs are in one array ## not sure I will use this\n",
    "flatrunslist_D = [run for folder in runslist_D for run in folder]\n",
    "flatrunslist_D = np.asarray(flatrunslist_D)\n",
    "flatrunslist_U = [run for folder in runslist_U for run in folder]\n",
    "flatrunslist_U = np.asarray(flatrunslist_U)\n",
    "print(len(flatrunslist_D))\n",
    "\n",
    "numruns_tot_D = len(flatrunslist_D) ## U and D should be the same? ## should change to num pulses maybe\n",
    "numruns_tot_U = len(flatrunslist_U) ## \n",
    "if numruns_tot_D != numruns_tot_U:\n",
    "    emessage = ('# upstream files and downstream files are not the same!')\n",
    "    # logger.error(run_num + emessage)\n",
    "    raise Exception(emessage)\n",
    "print(numruns_tot_D)\n",
    "print(numruns_tot_U)"
   ]
  },
  {
   "cell_type": "code",
   "execution_count": 2,
   "id": "31a15d00",
   "metadata": {},
   "outputs": [
    {
     "ename": "SyntaxError",
     "evalue": "invalid syntax (745205363.py, line 2)",
     "output_type": "error",
     "traceback": [
      "\u001b[1;36m  File \u001b[1;32m\"C:\\Users\\gabeo\\AppData\\Local\\Temp\\ipykernel_33904\\745205363.py\"\u001b[1;36m, line \u001b[1;32m2\u001b[0m\n\u001b[1;33m    mprof run executable\u001b[0m\n\u001b[1;37m          ^\u001b[0m\n\u001b[1;31mSyntaxError\u001b[0m\u001b[1;31m:\u001b[0m invalid syntax\n"
     ]
    }
   ],
   "source": [
    "import mprof\n",
    "mprof run executable\n",
    "mprof plot"
   ]
  },
  {
   "cell_type": "code",
   "execution_count": 2,
   "id": "6326b585",
   "metadata": {},
   "outputs": [
    {
     "name": "stdout",
     "output_type": "stream",
     "text": [
      "954\n"
     ]
    }
   ],
   "source": [
    "## allows h5 loads to be easier...\n",
    "foldersflat = []\n",
    "for i in range(0,len(folderslist)):\n",
    "    folder = folderslist[i]\n",
    "    numrunsfolder = len(runslist_D[i])\n",
    "    fpaths = [folder]*numrunsfolder\n",
    "    foldersflat.append(fpaths)\n",
    "\n",
    "foldersflat = [path for folder in foldersflat for path in folder]\n",
    "# print(foldersflat[0])\n",
    "print(len(foldersflat))\n",
    "# print(len(foldersflat[0]))\n",
    "# print(len(foldersflat[1]))\n",
    "# print(len(foldersflat))\n",
    "# print(foldersflat)"
   ]
  },
  {
   "cell_type": "code",
   "execution_count": 3,
   "id": "a7ad616e",
   "metadata": {},
   "outputs": [],
   "source": [
    "# print(len(runslist_D))\n",
    "# print(len(runslist_D[0]))\n",
    "# print(len(runslist_D[1]))\n",
    "# ## now flatten list so that all runs are in one array ## not sure I will use this\n",
    "# flatrunslist_D = [run for folder in runslist_D for run in folder]\n",
    "# flatrunslist_D = np.asarray(flatrunslist_D)\n",
    "# flatrunslist_U = [run for folder in runslist_U for run in folder]\n",
    "# flatrunslist_U = np.asarray(flatrunslist_U)\n",
    "# print(len(flatrunslist_D))\n",
    "\n",
    "# numruns_tot_D = len(flatrunslist_D) ## U and D should be the same? ## should change to num pulses maybe\n",
    "# numruns_tot_U = len(flatrunslist_U) ## \n",
    "# print(numruns_tot_D)\n",
    "# print(numruns_tot_U)"
   ]
  },
  {
   "cell_type": "code",
   "execution_count": 4,
   "id": "02c2e5c0",
   "metadata": {},
   "outputs": [
    {
     "name": "stdout",
     "output_type": "stream",
     "text": [
      "954 12 8992\n",
      "ch_23\n",
      "8992\n",
      "['ch_00', 'ch_01', 'ch_02', 'ch_03', 'ch_04', 'ch_05', 'ch_06', 'ch_07', 'ch_08', 'ch_09', 'ch_10', 'ch_11', 'xs ']\n",
      "['ch_12', 'ch_13', 'ch_14', 'ch_15', 'ch_16', 'ch_17', 'ch_18', 'ch_19', 'ch_20', 'ch_21', 'ch_22', 'ch_23', 'xs ']\n",
      "['ch_00' 'ch_01' 'ch_02' 'ch_03' 'ch_04' 'ch_05' 'ch_06' 'ch_07' 'ch_08'\n",
      " 'ch_09' 'ch_10' 'ch_11' 'ch_12' 'ch_13' 'ch_14' 'ch_15' 'ch_16' 'ch_17'\n",
      " 'ch_18' 'ch_19' 'ch_20' 'ch_21' 'ch_22' 'ch_23']\n"
     ]
    }
   ],
   "source": [
    "## load in the x array. Also helps in determining sizes\n",
    "## NO 6LI FOR THESE HDF5 FILES\n",
    "\n",
    "channels_all = []\n",
    "folderpath = root+processedfolder+folderslist[0]\n",
    "with h5py.File(folderpath+'/asym_D/'+runslist_D[0][0], 'r') as f: ## new arr_sizer\n",
    "    channels_D = list(f.keys())\n",
    "    channels_all.append(channels_D[:-1])\n",
    "    numchannels = len(channels_D)-1\n",
    "    dataset = f[channels_D[-1]]   ## this is the xs dataset\n",
    "#     xs = np.array(dataset)*1e-6 ## now in ms\n",
    "#     numpoints = len(xs)\n",
    "    f.close()\n",
    "    \n",
    "with h5py.File(folderpath+'/asym_U/'+runslist_U[0][0], 'r') as f: ## new arr_sizer\n",
    "    channels_U = list(f.keys())\n",
    "    channels_all=np.append(channels_all, channels_U[:-1])\n",
    "#     channels_all.append(channels[:-1])\n",
    "    numchannels = len(channels_U)-1\n",
    "    dataset = f[channels_U[-1]]   ## this is the xs dataset\n",
    "    xs = np.array(dataset)*1e-6 ## now in ms\n",
    "    numpoints = len(xs)\n",
    "    f.close()\n",
    "# print(channels_all)\n",
    "# channels_all = np.asarray(channels_all, dtype=object)\n",
    "# print(channels_all)\n",
    "# channels_all = channels_all.flatten()\n",
    "print(numruns_tot_D,numchannels,numpoints)\n",
    "# print(data.shape)\n",
    "# print(data[seq][0][0])\n",
    "# print(channels_all[:])\n",
    "print(channels_all[-1])\n",
    "print(len(xs))\n",
    "\n",
    "print(channels_D)\n",
    "print(channels_U)\n",
    "print(channels_all)\n",
    "\n",
    "# print(channels_all.flatten())\n",
    "# print(data)"
   ]
  },
  {
   "cell_type": "code",
   "execution_count": 5,
   "id": "2fe5323f",
   "metadata": {},
   "outputs": [
    {
     "name": "stdout",
     "output_type": "stream",
     "text": [
      "F:\\LANL/processed_data/runs11727-12033/asym_D/11727_D.h5\n",
      "Keys: <KeysViewHDF5 ['ch_00', 'ch_01', 'ch_02', 'ch_03', 'ch_04', 'ch_05', 'ch_06', 'ch_07', 'ch_08', 'ch_09', 'ch_10', 'ch_11', 'xs ']>\n",
      "F:\\LANL/processed_data/runs11727-12033/asym_D/11728_D.h5\n",
      "Keys: <KeysViewHDF5 ['ch_00', 'ch_01', 'ch_02', 'ch_03', 'ch_04', 'ch_05', 'ch_06', 'ch_07', 'ch_08', 'ch_09', 'ch_10', 'ch_11', 'xs ']>\n",
      "F:\\LANL/processed_data/runs11727-12033/asym_D/11729_D.h5\n",
      "Keys: <KeysViewHDF5 ['ch_00', 'ch_01', 'ch_02', 'ch_03', 'ch_04', 'ch_05', 'ch_06', 'ch_07', 'ch_08', 'ch_09', 'ch_10', 'ch_11', 'xs ']>\n"
     ]
    }
   ],
   "source": [
    "# ## loads on/off added pulses. not needed for asym based on multiplicative factor ##\n",
    "numsequences = []\n",
    "run_ampasym_D = []\n",
    "run_ampasym_U = []\n",
    "run_rawasym_D = []\n",
    "run_rawasym_U = []\n",
    "# totnumchan = len(run_asyms_D[0])+len(run_asyms_U_noLi[0])\n",
    "\n",
    "folderpath = root+processedfolder+folderslist[0]  ## generalize this to all folders\n",
    "\n",
    "for i in range(0,len(runslist_D)):\n",
    "    runname = folderpath+'asym_D/'+runslist_D[0][i]  ##[0] indicates the first folder\n",
    "    print(runname)\n",
    "    with h5py.File(runname, 'r') as f:\n",
    "        print(\"Keys: %s\" % f.keys())\n",
    "        channels = list(f.keys())\n",
    "        numchannels = len(channels)-1\n",
    "        num_seq = f.attrs.get('sequences')\n",
    "        numsequences.append(num_seq)\n",
    "        runamp = []\n",
    "        runraw = []\n",
    "#             print(str(np.char.zfill(str(chan_enab[i]),2)))\n",
    "#             dataset = f['ch '+str(np.char.zfill(str(chan_enab[i]), 2))]\n",
    "        for i in range(0,numchannels):\n",
    "            chsubgrp = f[channels[i]]  ##change this to match channels[i]\n",
    "#             print(list(chsubgrp.attrs))\n",
    "            asym_amp_data = np.array(chsubgrp.attrs.get('asym_amp'))\n",
    "            asym_raw_chdataset = np.array(chsubgrp['asym_raw'])\n",
    "#             print(asym_raw_chdataset)\n",
    "            runamp.append(asym_amp_data)\n",
    "            runraw.append(asym_raw_chdataset)\n",
    "        run_ampasym_D.append(runamp)\n",
    "        run_rawasym_D.append(runraw)\n",
    "        f.close()\n",
    "#         folderpath = root+processedfolder+folderslist[0]  ## generalize this to all folders\n"
   ]
  },
  {
   "cell_type": "code",
   "execution_count": 6,
   "id": "dfe3e045",
   "metadata": {},
   "outputs": [
    {
     "name": "stdout",
     "output_type": "stream",
     "text": [
      "3\n",
      "12\n",
      "8992\n",
      "\n",
      "3\n",
      "12\n",
      "2\n"
     ]
    }
   ],
   "source": [
    "print(len(run_rawasym_D)) ## no. folders\n",
    "print(len(run_rawasym_D[0])) ## no. channels\n",
    "print(len(run_rawasym_D[0][0])) ## no. points\n",
    "print()\n",
    "print(len(run_ampasym_D)) ## no. folders\n",
    "print(len(run_ampasym_D[0])) ## no. channels\n",
    "print(len(run_ampasym_D[0][0])) ## parameter, error\n"
   ]
  },
  {
   "cell_type": "code",
   "execution_count": 7,
   "id": "0e5935aa",
   "metadata": {
    "scrolled": false
   },
   "outputs": [
    {
     "name": "stdout",
     "output_type": "stream",
     "text": [
      "['11836_D.h5']\n"
     ]
    }
   ],
   "source": [
    "print(flatrunslist_D[109:110])"
   ]
  },
  {
   "cell_type": "code",
   "execution_count": 8,
   "id": "a7d06932",
   "metadata": {},
   "outputs": [
    {
     "name": "stdout",
     "output_type": "stream",
     "text": [
      "1/5 runs complete  191\n",
      "1/5 runs complete  382\n",
      "1/5 runs complete  572\n",
      "1/5 runs complete  763\n",
      "1/5 runs complete  953\n",
      "(954, 12, 8992)\n",
      "(12, 954, 8992)\n",
      "(954, 12)\n",
      "(12, 954)\n",
      "(12, 954)\n",
      "(12, 954)\n",
      "loaded files time:  98.90889024734497\n"
     ]
    }
   ],
   "source": [
    "\n",
    "def loadrun_asym(run, processedpath): ## not sure if this is the fastest way, or passing a list of runs...\n",
    "    runname = processedpath+run\n",
    "    runamp = []\n",
    "    runintegral = []\n",
    "#     print(runname)\n",
    "#     numsequences = []\n",
    "    with h5py.File(runname, 'r') as f:\n",
    "        channels = list(f.keys())\n",
    "        numchannels = len(channels)-1\n",
    "        num_seq = f.attrs.get('sequences')\n",
    "        puck = f.attrs.get('puck_state')\n",
    "#         print(puck)\n",
    "        if puck != 0:\n",
    "            print(run, puck)\n",
    "        runraw = np.zeros((numchannels,numpoints),dtype = np.float64) ## numpoints gotten from few cells up\n",
    "        for i in range(0,numchannels):\n",
    "            chsubgrp = f[channels[i]]\n",
    "            chraw = np.array(chsubgrp['asym_raw'])  ##change this to match channels[i]\n",
    "            runraw[i] = runraw[i]+chraw\n",
    "            runampch = chsubgrp.attrs.get('asym_amp')\n",
    "            runintegralch = chsubgrp.attrs.get('asym_integral')\n",
    "            runamp.append(runampch[0])  #[0] is the asym from amp as opposed to the error [1]\n",
    "            runintegral.append(runintegralch)  # currently no error for integral, just scaler\n",
    "        f.close()\n",
    "#     print((runamp))\n",
    "#     print(num_seq)\n",
    "    return runraw, runamp, runintegral, num_seq \n",
    "\n",
    "start=time.time()\n",
    "# all_D = [] ## in this case cannot be np array because it is not same size arrays ## will be run, channel, numpoints\n",
    "all_raw_D = np.zeros((numruns_tot_D, numchannels,numpoints),dtype = np.float64) ## run, channel, numpoints ## works if flatten the folders\n",
    "all_raw_U = np.zeros((numruns_tot_U, numchannels,numpoints),dtype = np.float64) ## run, channel, numpoints ## works if flatten the folders\n",
    "all_amp_D = np.zeros((numruns_tot_D, numchannels),dtype = np.float64) ## run, channel \n",
    "all_amp_U = np.zeros((numruns_tot_U, numchannels),dtype = np.float64) ## run, channel \n",
    "all_integral_D = np.zeros((numruns_tot_D, numchannels),dtype = np.float64) ## run, channel \n",
    "all_integral_U = np.zeros((numruns_tot_U, numchannels),dtype = np.float64) ## run, channel \n",
    "all_sequences = np.zeros((numruns_tot_D),dtype = np.float64) ## num runs\n",
    "# print(len(all_amp_D))\n",
    "\n",
    "for r in range(0, len(flatrunslist_D)):\n",
    "    fpath = root+processedfolder+foldersflat[r]\n",
    "    full = len(flatrunslist_D)\n",
    "#     print(fpath)\n",
    "#     print(len(all_amp_D[r]))\n",
    "    if r == round(full/5) or r == round(2*full/5) or r == round(3*full/5) or r == round(4*full/5) or r == full-1:\n",
    "        print('1/5 runs complete ', r)\n",
    "#     print(flatrunslist_D[r])\n",
    "    all_raw_D[r], all_amp_D[r], all_integral_D[r], all_sequences[r] = loadrun_asym(flatrunslist_D[r], fpath+'/asym_D/')\n",
    "    all_raw_U[r], all_amp_U[r], all_integral_U[r], all_sequences[r] = loadrun_asym(flatrunslist_U[r], fpath+'/asym_U/')\n",
    "\n",
    "print(all_raw_D.shape)\n",
    "all_raw_D = np.asarray(all_raw_D.transpose(1,0,2))  ## re-shape into ch, run, points\n",
    "all_raw_U = np.asarray(all_raw_U.transpose(1,0,2))\n",
    "print(all_raw_D.shape)\n",
    "\n",
    "print(all_amp_D.shape)\n",
    "all_amp_D = np.asarray(all_amp_D.transpose(1,0))\n",
    "all_amp_U = np.asarray(all_amp_U.transpose(1,0))\n",
    "print(all_amp_D.shape)\n",
    "\n",
    "print(all_amp_D.shape)\n",
    "all_integral_D = np.asarray(all_integral_D.transpose(1,0))\n",
    "all_integral_U = np.asarray(all_integral_U.transpose(1,0))\n",
    "print(all_amp_D.shape)\n",
    "\n",
    "all_raw = np.vstack((all_raw_D,all_raw_U))\n",
    "# del all_raw_D ## might help with memory issues\n",
    "# del all_raw_U\n",
    "all_amp = np.vstack((all_amp_D,all_amp_U))\n",
    "all_integral = np.vstack((all_integral_D,all_integral_U))\n",
    "\n",
    "all_amp_norm = all_amp/(all_sequences) # need weighted avg?\n",
    "all_integral_norm = all_integral/(all_sequences) # need weighted avg?\n",
    "\n",
    "end=time.time()\n",
    "print('loaded files time: ', end-start)"
   ]
  },
  {
   "cell_type": "code",
   "execution_count": 9,
   "id": "242c8ab8",
   "metadata": {},
   "outputs": [
    {
     "name": "stdout",
     "output_type": "stream",
     "text": [
      "Memory usage of the list: 136 bytes\n",
      "Memory usage of the list: 120 bytes\n",
      "Memory usage of the list: 120 bytes\n",
      "Memory usage of the list: 88 bytes\n",
      "Memory usage of the list: 88 bytes\n",
      "Memory usage of the list: 38264 bytes\n",
      "                       all_raw:  1.5 GiB\n",
      "                       all_amp: 179.0 KiB\n",
      "                  all_integral: 179.0 KiB\n",
      "                  all_amp_norm: 179.0 KiB\n",
      "             all_integral_norm: 179.0 KiB\n",
      "                            xs: 70.4 KiB\n",
      "            asym_raw_chdataset: 70.4 KiB\n",
      "                flatrunslist_D: 37.4 KiB\n",
      "                flatrunslist_U: 37.4 KiB\n",
      "                   foldersflat:  7.6 KiB\n"
     ]
    }
   ],
   "source": [
    "import sys\n",
    "memory_usage = sys.getsizeof(all_raw_D)\n",
    "print(f\"Memory usage of the list: {memory_usage} bytes\")\n",
    "memory_usage = sys.getsizeof(all_amp_D)\n",
    "print(f\"Memory usage of the list: {memory_usage} bytes\")\n",
    "memory_usage = sys.getsizeof(all_integral_D)\n",
    "print(f\"Memory usage of the list: {memory_usage} bytes\")\n",
    "\n",
    "# del all_raw_D ## might help with memory issues\n",
    "# del all_raw_U\n",
    "\n",
    "memory_usage = sys.getsizeof(run_rawasym_D)\n",
    "print(f\"Memory usage of the list: {memory_usage} bytes\")\n",
    "memory_usage = sys.getsizeof(run_ampasym_D)\n",
    "print(f\"Memory usage of the list: {memory_usage} bytes\")\n",
    "memory_usage = sys.getsizeof(flatrunslist_D)\n",
    "print(f\"Memory usage of the list: {memory_usage} bytes\")\n",
    "\n",
    "def sizeof_fmt(num, suffix='B'):\n",
    "    ''' by Fred Cirera,  https://stackoverflow.com/a/1094933/1870254, modified'''\n",
    "    for unit in ['','Ki','Mi','Gi','Ti','Pi','Ei','Zi']:\n",
    "        if abs(num) < 1024.0:\n",
    "            return \"%3.1f %s%s\" % (num, unit, suffix)\n",
    "        num /= 1024.0\n",
    "    return \"%.1f %s%s\" % (num, 'Yi', suffix)\n",
    "\n",
    "for name, size in sorted(((name, sys.getsizeof(value)) for name, value in list(\n",
    "                          locals().items())), key= lambda x: -x[1])[:10]:\n",
    "    print(\"{:>30}: {:>8}\".format(name, sizeof_fmt(size)))\n"
   ]
  },
  {
   "cell_type": "code",
   "execution_count": null,
   "id": "e01d0f6a",
   "metadata": {},
   "outputs": [],
   "source": []
  },
  {
   "cell_type": "code",
   "execution_count": 10,
   "id": "9c1fb335",
   "metadata": {},
   "outputs": [],
   "source": [
    "del all_raw_D ## might help with memory issues\n",
    "del all_raw_U\n",
    "del run_rawasym_D\n",
    "del run_rawasym_U\n",
    "del run_ampasym_D\n",
    "del run_ampasym_U\n",
    "del flatrunslist_D\n",
    "del flatrunslist_U\n",
    "del asym_raw_chdataset"
   ]
  },
  {
   "cell_type": "code",
   "execution_count": 11,
   "id": "104c83a5",
   "metadata": {
    "scrolled": false
   },
   "outputs": [
    {
     "name": "stdout",
     "output_type": "stream",
     "text": [
      "24 24\n",
      "8992\n",
      "8992\n",
      "[-0.00638228 -0.00643593 -0.00604714 -0.00506055 -0.00602146 -0.00508488\n",
      " -0.00634729 -0.00595921 -0.00471928 -0.00626886 -0.00571832 -0.006874\n",
      " -0.00576297 -0.0060494  -0.00663443 -0.00687203 -0.00643414 -0.00678733\n",
      " -0.00683418 -0.00645499 -0.00703146 -0.00639737 -0.00616873 -0.00604589]\n"
     ]
    },
    {
     "data": {
      "image/png": "[encoded data removed]",
      "text/plain": [
       "<Figure size 640x480 with 1 Axes>"
      ]
     },
     "metadata": {},
     "output_type": "display_data"
    }
   ],
   "source": [
    "## testing things to see the large values...\n",
    "## downstream looks okay for 12364 runs\n",
    "## something happened with 11727:12033 runs\n",
    "## problem at run 11727+109 starting \n",
    "\n",
    "sum_ch_raw = []\n",
    "sum_ch_amp = []\n",
    "p1 = 109\n",
    "p2 = -1\n",
    "for ch in range(0, len(all_raw)):\n",
    "    chraw = np.sum(all_raw[ch,p1:p2], axis = 0)\n",
    "    champ = np.sum(all_amp[ch,p1:p2], axis = 0)\n",
    "    sum_ch_raw.append(chraw)\n",
    "    sum_ch_amp.append(champ)\n",
    "\n",
    "    \n",
    "sum_ch_amp = sum_ch_amp/np.sum(all_sequences) ## normalize sum of amplitudes!\n",
    "    \n",
    "print(len(sum_ch_raw), len(sum_ch_amp))\n",
    "print(len(sum_ch_raw[0]))\n",
    "    \n",
    "allNaI_raw = np.sum(sum_ch_raw[0:24], axis = 0)\n",
    "%matplotlib inline\n",
    "print(len(allNaI_raw))\n",
    "plt.plot(xs, sum_ch_raw[1]/np.sum(all_sequences))\n",
    "plt.plot(xs, allNaI_raw/np.sum(all_sequences)/24)\n",
    "plt.ylim(-0.05, 0.05)\n",
    "plt.xlim(-0.01, 3.5)\n",
    "# print(len(all_raw_D[0]))\n",
    "print(sum_ch_amp)"
   ]
  },
  {
   "cell_type": "markdown",
   "id": "df6d5ab1",
   "metadata": {},
   "source": [
    "### only run once!"
   ]
  },
  {
   "cell_type": "code",
   "execution_count": 12,
   "id": "0d6ad8af",
   "metadata": {},
   "outputs": [
    {
     "name": "stdout",
     "output_type": "stream",
     "text": [
      "24 24\n",
      "8992\n",
      "8992\n"
     ]
    },
    {
     "data": {
      "image/png": "[encoded data removed]",
      "text/plain": [
       "<Figure size 640x480 with 1 Axes>"
      ]
     },
     "metadata": {},
     "output_type": "display_data"
    },
    {
     "name": "stdout",
     "output_type": "stream",
     "text": [
      "(24, 954, 8992)\n",
      "deleted a run 109. New shape:  (24, 953, 8992)\n",
      "24 24\n",
      "8992\n",
      "8992\n"
     ]
    },
    {
     "data": {
      "image/png": "[encoded data removed]",
      "text/plain": [
       "<Figure size 640x480 with 1 Axes>"
      ]
     },
     "metadata": {},
     "output_type": "display_data"
    }
   ],
   "source": [
    "## Testing deleting a specific troublesome run\n",
    "\n",
    "sum_ch_raw = []\n",
    "sum_ch_amp = []\n",
    "for ch in range(0, len(all_raw)):\n",
    "    chraw = np.sum(all_raw[ch,:], axis = 0)\n",
    "    champ = np.sum(all_amp[ch,:], axis = 0)\n",
    "    sum_ch_raw.append(chraw)\n",
    "    sum_ch_amp.append(champ)\n",
    "\n",
    "    \n",
    "sum_ch_amp = sum_ch_amp/np.sum(all_sequences) ## normalize sum of amplitudes!\n",
    "    \n",
    "print(len(sum_ch_raw), len(sum_ch_amp))\n",
    "print(len(sum_ch_raw[0]))\n",
    "\n",
    "allNaI_raw = np.sum(sum_ch_raw[:], axis = 0)\n",
    "print(len(allNaI_raw))\n",
    "\n",
    "plt.figure()\n",
    "%matplotlib inline\n",
    "plt.plot(xs, sum_ch_raw[1]/np.sum(all_sequences))\n",
    "plt.plot(xs, allNaI_raw/np.sum(all_sequences)/24)\n",
    "plt.ylim(-0.05, 0.05)\n",
    "plt.xlim(-0.01, 3.5)\n",
    "plt.show()\n",
    "# print(len(all_raw_D[0]))\n",
    "# print(sum_ch_amp)\n",
    "\n",
    "#############################################################################\n",
    "if folders_start == 'runs11727-12033':\n",
    "    tb = 109\n",
    "    print(all_raw.shape)\n",
    "    all_raw = np.delete(all_raw, tb,1)\n",
    "    print(f'deleted a run {tb}. New shape: ', all_raw.shape)\n",
    "else:\n",
    "    print('No runs deleted. Shape: ', all_raw.shape)\n",
    "#############################################################################\n",
    "sum_ch_raw = []\n",
    "sum_ch_amp = []\n",
    "for ch in range(0, len(all_raw)):\n",
    "    chraw = np.sum(all_raw[ch,:], axis = 0)\n",
    "    champ = np.sum(all_amp[ch,:], axis = 0)\n",
    "    sum_ch_raw.append(chraw)\n",
    "    sum_ch_amp.append(champ)\n",
    "\n",
    "    \n",
    "sum_ch_amp = sum_ch_amp/np.sum(all_sequences) ## normalize sum of amplitudes!\n",
    "    \n",
    "print(len(sum_ch_raw), len(sum_ch_amp))\n",
    "print(len(sum_ch_raw[0]))\n",
    "\n",
    "allNaI_raw = np.sum(sum_ch_raw[:], axis = 0)\n",
    "print(len(allNaI_raw))\n",
    "\n",
    "plt.figure()\n",
    "plt.plot(xs, sum_ch_raw[1]/np.sum(all_sequences))\n",
    "plt.plot(xs, allNaI_raw/np.sum(all_sequences)/24)\n",
    "plt.ylim(-0.05, 0.05)\n",
    "plt.xlim(-0.01, 3.5)\n",
    "plt.show()\n",
    "# print(len(all_raw_D[0]))\n"
   ]
  },
  {
   "cell_type": "code",
   "execution_count": 14,
   "id": "2609d0f6",
   "metadata": {},
   "outputs": [
    {
     "name": "stdout",
     "output_type": "stream",
     "text": [
      "                       all_raw:  1.5 GiB\n",
      "                       all_amp: 179.0 KiB\n",
      "                  all_integral: 179.0 KiB\n",
      "                  all_amp_norm: 179.0 KiB\n",
      "             all_integral_norm: 179.0 KiB\n",
      "                            xs: 70.4 KiB\n",
      "                         chraw: 70.4 KiB\n",
      "                    allNaI_raw: 70.4 KiB\n",
      "                   foldersflat:  7.6 KiB\n",
      "                 all_sequences:  7.6 KiB\n"
     ]
    }
   ],
   "source": [
    "def sizeof_fmt(num, suffix='B'):\n",
    "    ''' by Fred Cirera,  https://stackoverflow.com/a/1094933/1870254, modified'''\n",
    "    for unit in ['','Ki','Mi','Gi','Ti','Pi','Ei','Zi']:\n",
    "        if abs(num) < 1024.0:\n",
    "            return \"%3.1f %s%s\" % (num, unit, suffix)\n",
    "        num /= 1024.0\n",
    "    return \"%.1f %s%s\" % (num, 'Yi', suffix)\n",
    "\n",
    "for name, size in sorted(((name, sys.getsizeof(value)) for name, value in list(\n",
    "                          locals().items())), key= lambda x: -x[1])[:10]:\n",
    "    print(\"{:>30}: {:>8}\".format(name, sizeof_fmt(size)))"
   ]
  },
  {
   "cell_type": "code",
   "execution_count": 15,
   "id": "9cfaa22d",
   "metadata": {},
   "outputs": [
    {
     "name": "stdout",
     "output_type": "stream",
     "text": [
      "F:\\LANL/processed_data/runs11727-12033/ done\n",
      "F:\\LANL/processed_data/runs12034-12363/ done\n",
      "F:\\LANL/processed_data/runs12364-12684/ done\n",
      "(954, 13, 8992)\n",
      "(13, 954, 8992)\n",
      "loaded pulseadd files time:  78.33136487007141\n"
     ]
    }
   ],
   "source": [
    "\n",
    "def loadrun_pulseadd(run, processedpath): ## not sure if this is the fastest way, or passing a list of runs...\n",
    "    runname = processedpath+run\n",
    "#     print(runname)\n",
    "    with h5py.File(runname, 'r') as f:\n",
    "        channels = list(f.keys())\n",
    "        numchannels = len(channels)-1\n",
    "        arrsizer = f[channels[-1]] ## gets the xs array\n",
    "        arrsizer = np.asarray(arrsizer)\n",
    "        numpoints = len(arrsizer)\n",
    "#             num_seq = f.attrs.get('sequences')\n",
    "#             numsequences.append(num_seq)\n",
    "        rundat = np.zeros((numchannels,numpoints),dtype = np.float64)\n",
    "#             print(str(np.char.zfill(str(chan_enab[i]),2)))\n",
    "#             dataset = f['ch '+str(np.char.zfill(str(chan_enab[i]), 2))]\n",
    "        for i in range(0,numchannels):\n",
    "            dataset = f[channels[i]+'/added_pulses/'+channels[i]][:]  ##change this to match channels[i]\n",
    "            chdata = np.array(dataset)\n",
    "#                     print(chdata)\n",
    "#                     print(np.size(chdata))\n",
    "#                     print(len(chdata[0]))\n",
    "#                     print(rundat)\n",
    "            rundat[i] = rundat[i]+chdata\n",
    "        f.close()\n",
    "    return rundat\n",
    "\n",
    "start=time.time()\n",
    "# all_D = [] ## in this case cannot be np array because it is not same size arrays ## will be run, channel, numpoints\n",
    "# all_D = np.zeros((numruns_tot_D, numchannels,numpoints),dtype = np.float64) ## run, channel, numpoints ## works if flatten the folders\n",
    "# all_U = np.zeros((numruns_tot_U, numchannels,numpoints),dtype = np.float64) ## run, channel, numpoints ## works if flatten the folders\n",
    "all_D = []\n",
    "all_U = []\n",
    "\n",
    "for f in range(0,len(folderslist)):\n",
    "    fpath = root+processedfolder+folderslist[f]\n",
    "    for r in range(0, len(runslist_D[f])):\n",
    "#         print(runslist_D[f][r])\n",
    "#         all_D.append(loadrun_pulseadd(runslist_D[f][r], fpath+'/pulseadd_D/'))\n",
    "#         print(r)\n",
    "#         all_D[r] = loadrun_pulseadd(runslist_D[f][r], fpath+'/pulseadd_D/')\n",
    "#         all_U[r] = loadrun_pulseadd(runslist_U[f][r], fpath+'/pulseadd_U/')\n",
    "        all_D.append(loadrun_pulseadd(runslist_D[f][r][:5]+'_pulseadd_D.h5', fpath+'/pulseadd_D/'))  ## added pulseadd str to this\n",
    "        all_U.append(loadrun_pulseadd(runslist_U[f][r][:5]+'_pulseadd_U.h5', fpath+'/pulseadd_U/'))\n",
    "#         print(all_D[r])\n",
    "    print(fpath+' done')\n",
    "\n",
    "all_D = np.asarray(all_D)\n",
    "all_U = np.asarray(all_U)\n",
    "    \n",
    "print(all_D.shape)\n",
    "all_D = np.asarray(all_D.transpose(1,0,2))  ## re-shape into ch, run, points\n",
    "all_U = np.asarray(all_U.transpose(1,0,2))\n",
    "print(all_D.shape)\n",
    "    \n",
    "end=time.time()\n",
    "print('loaded pulseadd files time: ', end-start)"
   ]
  },
  {
   "cell_type": "code",
   "execution_count": 18,
   "id": "132bd946",
   "metadata": {},
   "outputs": [
    {
     "name": "stdout",
     "output_type": "stream",
     "text": [
      "Memory usage of the list: 136 bytes\n",
      "                       all_raw:  1.5 GiB\n",
      "                       all_amp: 179.0 KiB\n",
      "                  all_integral: 179.0 KiB\n",
      "                  all_amp_norm: 179.0 KiB\n",
      "             all_integral_norm: 179.0 KiB\n",
      "                            xs: 70.4 KiB\n",
      "                         chraw: 70.4 KiB\n",
      "                    allNaI_raw: 70.4 KiB\n",
      "                   foldersflat:  7.6 KiB\n",
      "                 all_sequences:  7.6 KiB\n"
     ]
    }
   ],
   "source": [
    "memory_usage = sys.getsizeof(all_D)\n",
    "print(f\"Memory usage of the list: {memory_usage} bytes\")\n",
    "\n",
    "def sizeof_fmt(num, suffix='B'):\n",
    "    ''' by Fred Cirera,  https://stackoverflow.com/a/1094933/1870254, modified'''\n",
    "    for unit in ['','Ki','Mi','Gi','Ti','Pi','Ei','Zi']:\n",
    "        if abs(num) < 1024.0:\n",
    "            return \"%3.1f %s%s\" % (num, unit, suffix)\n",
    "        num /= 1024.0\n",
    "    return \"%.1f %s%s\" % (num, 'Yi', suffix)\n",
    "\n",
    "for name, size in sorted(((name, sys.getsizeof(value)) for name, value in list(\n",
    "                          locals().items())), key= lambda x: -x[1])[:10]:\n",
    "    print(\"{:>30}: {:>8}\".format(name, sizeof_fmt(size)))"
   ]
  },
  {
   "cell_type": "markdown",
   "id": "ba614fef",
   "metadata": {},
   "source": [
    "### only run once!"
   ]
  },
  {
   "cell_type": "code",
   "execution_count": 26,
   "id": "87335221",
   "metadata": {},
   "outputs": [
    {
     "name": "stdout",
     "output_type": "stream",
     "text": [
      "(13, 954, 8992) (13, 954, 8992)\n",
      "deleted a run 109. New shape:  (13, 953, 8992) (13, 953, 8992)\n"
     ]
    }
   ],
   "source": [
    "if folders_start == 'runs11727-12033':\n",
    "    tb = 109\n",
    "    print(all_D.shape, all_U.shape)\n",
    "    all_D = np.delete(all_D, tb,1)\n",
    "    all_U = np.delete(all_U, tb,1)\n",
    "    print(f'deleted a run {tb}. New shape: ', all_D.shape, all_U.shape)\n",
    "else:\n",
    "    print('No runs deleted. Shape: ', all_D.shape, all_U.shape)"
   ]
  },
  {
   "cell_type": "code",
   "execution_count": 60,
   "id": "0f8fd21a",
   "metadata": {},
   "outputs": [
    {
     "name": "stdout",
     "output_type": "stream",
     "text": [
      "(13, 8992)\n"
     ]
    },
    {
     "data": {
      "text/plain": [
       "[<matplotlib.lines.Line2D at 0x19dca4fdf70>]"
      ]
     },
     "execution_count": 60,
     "metadata": {},
     "output_type": "execute_result"
    }
   ],
   "source": [
    "testsum = np.sum(all_D[:], axis = 1)\n",
    "print(testsum.shape)\n",
    "# plt.plot(testsum[1])\n",
    "plt.plot(allNaI_raw[2001:8500])"
   ]
  },
  {
   "cell_type": "markdown",
   "id": "5bba9fd7",
   "metadata": {},
   "source": [
    "### plotting for paper"
   ]
  },
  {
   "cell_type": "code",
   "execution_count": 162,
   "id": "4b430c96",
   "metadata": {},
   "outputs": [],
   "source": [
    "from functools import reduce\n",
    "def factors(n):\n",
    "    return set(reduce(list.__add__,([i, n//i] for i in range(1, int(n**0.5) + 1) if n % i == 0)))\n",
    "\n",
    "def rebin(ys, xs, rebinfactor):\n",
    "    outys = ys.reshape(-1, rebinfactor).mean(axis=1)\n",
    "    outxs = xs.reshape(-1, rebinfactor).mean(axis=1)\n",
    "    return outys, outxs\n",
    "\n",
    "# rebinf = rebinfactors[6]\n",
    "# print(f'using factor {rebinf}')\n",
    "# y2_rebin, x_rebin = rebin(y2, x, rebinf)\n"
   ]
  },
  {
   "cell_type": "code",
   "execution_count": 163,
   "id": "e9384398",
   "metadata": {},
   "outputs": [
    {
     "name": "stdout",
     "output_type": "stream",
     "text": [
      "possible factors are  [   1    2    4    5   10   13   20   25   26   50   52   65  100  125\n",
      "  130  250  260  325  500  650 1300 1625 3250 6500]\n",
      "using factor 20\n"
     ]
    }
   ],
   "source": [
    "pulseadd_D = np.sum(all_D[:], axis = 1)\n",
    "\n",
    "# Sample data\n",
    "# r = 550\n",
    "r1 = 2001\n",
    "r2 = 8501\n",
    "\n",
    "ch = 1\n",
    "x = xs[r1:r2]\n",
    "y1 = pulseadd_D[ch][r1:r2]\n",
    "# y2 = allNaI_raw[r1:r2]/np.sum(all_sequences)/24*-1 ## flip the sign for plotting\n",
    "y2 = sum_ch_raw[ch][r1:r2]/np.sum(all_sequences)*-1 ## flip the sign for plotting\n",
    "\n",
    "rebinfactors = np.sort(np.array(list(factors(len(y2)))))\n",
    "print(f'possible factors are ', rebinfactors)\n",
    "\n",
    "rebinf = rebinfactors[6]\n",
    "print(f'using factor {rebinf}')\n",
    "y2_rebin, x_rebin = rebin(y2, x, rebinf)\n",
    "\n",
    "y2_rebin, x_rebin = rebin(y2, x, rebinf)"
   ]
  },
  {
   "cell_type": "code",
   "execution_count": 164,
   "id": "dc747f2f",
   "metadata": {},
   "outputs": [],
   "source": [
    "%matplotlib qt\n",
    "# Create the main plot\n",
    "fig, ax1 = plt.subplots()\n",
    "lw = 1.2\n",
    "\n",
    "# Plot the first dataset\n",
    "ax1.plot(x, y1, color='blue', label=f'La spectra {channels_all[ch]}', linewidth = lw)\n",
    "ax1.set_ylabel(r'Counts [arb.]', fontsize='large', color = 'blue')\n",
    "ax1.set_xlabel('ToF [ms]', fontsize='large')\n",
    "ax1.tick_params(axis='x', labelsize = 'large')\n",
    "ax1.tick_params(axis='y', labelsize = 'large', labelcolor = 'blue')\n",
    "# plt.ylim(0,20)\n",
    "\n",
    "# Create a twin axes sharing the x-axis\n",
    "ax2 = ax1.twinx()\n",
    "\n",
    "# Plot the second dataset\n",
    "\n",
    "# ax2.plot(x, ydata, color ='blue',alpha = 0.6)\n",
    "ax2.plot(x_rebin, y2_rebin, ls = '-', color='red', alpha = 1.0, label='asymmetry', linewidth = lw)\n",
    "# ax2.set_xlabel('Energy [eV]',fontsize = 'large')\n",
    "ax2.set_ylabel('Asymmetry [absolute]', fontsize='large', color='red')\n",
    "ax2.tick_params(axis='y', labelsize = 'large', labelcolor = 'red')\n",
    "\n",
    "\n",
    "# Set y-axis limits\n",
    "ax1.set_ylim(-0.01e9, 0.5e9)\n",
    "ax2.set_ylim(-0.004, 0.006)\n",
    "\n",
    "# Add legends\n",
    "# fig.legend(loc=\"upper right\", bbox_to_anchor=(0.1, 0.95))\n",
    "\n",
    "\n",
    "# Display the plot\n",
    "\n",
    "plt.title(r'La spectrum and asymmetry new temp ', fontsize = 'xx-large')\n",
    "\n",
    "# plt.xticks(np.arange(-1.0,4.0, 0.5),fontsize = 'large')\n",
    "ax1.grid(True, which='both',axis = 'both', alpha = 0.75, ls = ':')\n",
    "ax1.minorticks_on()\n",
    "# plt.xticks(fontsize = 'xx-large')\n",
    "# plt.yticks(fontsize = 'x-small')\n",
    "fig.legend(loc=\"upper right\", bbox_to_anchor=(0.90, 0.88))\n",
    "\n",
    "# plt.ylabel('NMR Signal Amplitude [mV]',fontsize = 'x-large')\n",
    "# plt.xlabel('Energy [eV]',fontsize = 'x-large')\n",
    "\n",
    "# plt.legend(fontsize = 'medium')\n",
    "plt.show()"
   ]
  },
  {
   "cell_type": "code",
   "execution_count": 28,
   "id": "e9717d69",
   "metadata": {},
   "outputs": [
    {
     "name": "stdout",
     "output_type": "stream",
     "text": [
      "[-0.27143494 -0.01734818 -0.07542289 -0.06809608 -0.20393952 -0.11542692\n",
      " -0.16874052  0.19981005 -0.02376801 -0.00760241]\n",
      "[-0.02087961 -0.00133448 -0.00580176 -0.00523816 -0.01568766 -0.01049336\n",
      " -0.01298004  0.01537    -0.00182831 -0.0005848 ]\n",
      "[-0.02087961 -0.00133448 -0.00580176 -0.00523816 -0.01568766 -0.00887899\n",
      " -0.01298004  0.01537    -0.00182831 -0.0005848 ]\n"
     ]
    }
   ],
   "source": [
    "print(all_amp[1][630:640])\n",
    "print(all_amp_norm[1][630:640])\n",
    "print(all_amp[1][630:640]/13)\n"
   ]
  },
  {
   "cell_type": "code",
   "execution_count": 29,
   "id": "31dea9f7",
   "metadata": {},
   "outputs": [
    {
     "name": "stdout",
     "output_type": "stream",
     "text": [
      "954\n",
      "954\n",
      "(array([635, 953], dtype=int64),)\n",
      "[11.  3.]\n",
      "12390.0\n",
      "12402\n"
     ]
    }
   ],
   "source": [
    "# print(round(len(flatrunslist_D)/5))\n",
    "print(len(all_sequences))\n",
    "print(len(all_amp[0]))\n",
    "# print(len(np.sum(all_amp)))\n",
    "print((np.where(all_sequences<=12)))\n",
    "print(all_sequences[(np.where(all_sequences<=12))])\n",
    "print(np.sum(all_sequences))\n",
    "print(13*954)\n",
    "# print(all_amp)\n"
   ]
  },
  {
   "cell_type": "code",
   "execution_count": 18,
   "id": "201e7f82",
   "metadata": {},
   "outputs": [],
   "source": [
    "# ## previously used for checking vstack\n",
    "\n",
    "# %matplotlib inline\n",
    "# # all_raw = np.vstack((all_raw_D,all_raw_U))\n",
    "# # all_amp = np.vstack((all_amp_D,all_amp_U))\n",
    "# # all_amp_norm = all_amp/all_sequences\n",
    "\n",
    "# # plt.plot(xs, all_raw_D[-1][20])\n",
    "# # plt.plot(xs, all_raw[11][20])\n",
    "# plt.plot(xs, all_raw_U[-1][20])\n",
    "# plt.plot(xs, all_raw[-1][20])\n",
    "# plt.ylim(-100, 100)\n",
    "# plt.xlim(-0.01, 3)\n",
    "# # print(len(all_raw_D[0]))\n",
    "# for i in range(0,12):\n",
    "#     if all_raw_U[i][20][50] == all_raw[i+12][20][50]:\n",
    "#         print('yay')\n",
    "#     if all_raw_D[i][20][50] == all_raw[i][20][50]:\n",
    "#         print('yay 2')\n",
    "#     else: \n",
    "#         print('boo')\n",
    "# # testrans = np.asarray(all_raw_D.transpose(1,0,2))\n",
    "# # testranssum = np.sum(testrans[ch,:], axis = 0)\n",
    "# # plt.plot(xs, testranssum)"
   ]
  },
  {
   "cell_type": "code",
   "execution_count": 19,
   "id": "7f34912d",
   "metadata": {},
   "outputs": [],
   "source": [
    "## testing delete\n",
    "\n",
    "# import numpy as np\n",
    "\n",
    "# all_raw_D = np.zeros((950, 24,8992),dtype = np.float64) ## run, channel, numpoints ## works if flatten the folders\n",
    "# arr = all_raw_D\n",
    "# print(arr.shape)\n",
    "\n",
    "# arr = np.delete(arr, 109, 0)\n",
    "# print(arr.shape)\n",
    "# all_raw_D = np.zeros((24, 950,8992),dtype = np.float64) ## run, channel, numpoints ## works if flatten the folders\n",
    "# arr = all_raw_D\n",
    "# print(arr.shape)\n",
    "\n",
    "# arr = np.delete(arr, 109, 1)\n",
    "# print(arr.shape)"
   ]
  },
  {
   "cell_type": "code",
   "execution_count": 51,
   "id": "e3301ecc",
   "metadata": {},
   "outputs": [
    {
     "name": "stdout",
     "output_type": "stream",
     "text": [
      "8992\n"
     ]
    }
   ],
   "source": [
    "print(len(all_raw[0]))"
   ]
  },
  {
   "cell_type": "code",
   "execution_count": 80,
   "id": "9e7353a7",
   "metadata": {},
   "outputs": [
    {
     "name": "stdout",
     "output_type": "stream",
     "text": [
      "8992\n"
     ]
    },
    {
     "data": {
      "text/plain": [
       "(-0.01, 4.0)"
      ]
     },
     "execution_count": 80,
     "metadata": {},
     "output_type": "execute_result"
    }
   ],
   "source": [
    "allNaI_raw = np.sum(sum_ch_raw[3:5], axis = 0)\n",
    "%matplotlib qt\n",
    "print(len(allNaI_raw))\n",
    "plt.plot(xs, sum_ch_raw[1]/np.sum(all_sequences))\n",
    "plt.plot(xs, allNaI_raw/np.sum(all_sequences)/24)\n",
    "plt.ylim(-0.005, 0.005)\n",
    "plt.xlim(-0.01, 4.0)"
   ]
  },
  {
   "cell_type": "code",
   "execution_count": 65,
   "id": "e64defff",
   "metadata": {},
   "outputs": [
    {
     "name": "stdout",
     "output_type": "stream",
     "text": [
      "(24, 648, 8992)\n"
     ]
    },
    {
     "data": {
      "text/plain": [
       "(-10.0, 10.0)"
      ]
     },
     "execution_count": 65,
     "metadata": {},
     "output_type": "execute_result"
    }
   ],
   "source": [
    "print(np.array(all_raw).shape)\n",
    "# print(np.where(all_raw[0][:][:]<= 5))\n",
    "p1 = 0\n",
    "p2 = 150\n",
    "for i in range(p1,p2):\n",
    "    plt.plot(all_raw[3][i])\n",
    "\n",
    "plt.xlim(2200,9000)\n",
    "plt.ylim(-10, 10)\n",
    "# plt.show()"
   ]
  },
  {
   "cell_type": "code",
   "execution_count": 15,
   "id": "4a459c32",
   "metadata": {},
   "outputs": [
    {
     "name": "stdout",
     "output_type": "stream",
     "text": [
      "-0.09356903344776943\n"
     ]
    },
    {
     "data": {
      "image/png": "[encoded data removed]",
      "text/plain": [
       "<Figure size 640x480 with 1 Axes>"
      ]
     },
     "metadata": {},
     "output_type": "display_data"
    }
   ],
   "source": [
    "%matplotlib inline\n",
    "ch = 1\n",
    "plt.hist(all_amp[ch], bins = 100)\n",
    "chmean = np.mean(all_amp[ch])\n",
    "print(chmean)\n",
    "plt.axvline(x=chmean,ls='--', c ='r')\n",
    "\n",
    "plt.xlabel('asymmetry absolute')\n",
    "plt.ylabel('')\n",
    "plt.title(f'testing all channel {ch}')\n",
    "# plt.legend()\n",
    "plt.show()"
   ]
  },
  {
   "cell_type": "code",
   "execution_count": 71,
   "id": "7ff9ad5b",
   "metadata": {},
   "outputs": [
    {
     "data": {
      "image/png": "[encoded data removed]",
      "text/plain": [
       "<Figure size 640x480 with 1 Axes>"
      ]
     },
     "metadata": {},
     "output_type": "display_data"
    }
   ],
   "source": [
    "%matplotlib inline\n",
    "ch = 21\n",
    "bval = 100\n",
    "r = [-0.1,0.1]\n",
    "# factor = all_sequences[ch]\n",
    "plt.title(rf'Distribution of asymmetry values, using \"Amplitude\" factor', fontsize = 'xx-large')\n",
    "mean = np.round(np.mean(all_amp_norm[ch]),6)\n",
    "std = np.round(np.std(all_amp_norm[ch]),6)\n",
    "mean2 = np.round(np.mean(all_amp_norm[ch+1]),6)\n",
    "std2 = np.round(np.std(all_amp_norm[ch+1]),6)\n",
    "plt.hist(all_amp_norm[ch], bins =bval, range = r,  label = channels_all[ch]+f', mean = {mean}, (plain) std = {std}')  ## all runs, ch, parameters array, sigma value\n",
    "# plt.figure()\n",
    "plt.hist(all_amp_norm[ch+1], bins =bval, range = r, alpha =0.9, hatch='--',histtype='step', label = channels_all[ch+1]+f', mean = {mean2}, (plain) std = {std2}')  ## all runs, ch, parameters array, sigma value\n",
    "plt.legend(fontsize = 'medium')\n",
    "plt.show()"
   ]
  },
  {
   "cell_type": "code",
   "execution_count": 34,
   "id": "87069dc5",
   "metadata": {},
   "outputs": [
    {
     "data": {
      "image/png": "[encoded data removed]",
      "text/plain": [
       "<Figure size 640x480 with 1 Axes>"
      ]
     },
     "metadata": {},
     "output_type": "display_data"
    }
   ],
   "source": [
    "# ch = 8\n",
    "bval = 100\n",
    "r = [-0.1,0.1]\n",
    "# factor = all_sequences[ch]\n",
    "plt.title(rf'Distribution of asymmetry values, using integral over FWHM', fontsize = 'xx-large')\n",
    "mean = np.round(np.mean(all_integral_norm[ch]),6)\n",
    "std = np.round(np.std(all_integral_norm[ch]),6)\n",
    "mean2 = np.round(np.mean(all_integral_norm[ch+1]),6)\n",
    "std2 = np.round(np.std(all_integral_norm[ch+1]),6)\n",
    "plt.hist(all_integral_norm[ch], bins =bval, range = r,  label = channels_all[ch]+f', mean = {mean}, (plain) std = {std}')  ## all runs, ch, parameters array, sigma value\n",
    "# plt.figure()\n",
    "plt.hist(all_integral_norm[ch+1], bins =bval, range = r, alpha =0.9, hatch='--',histtype='step', label = channels_all[ch+1]+f', mean = {mean2}, (plain) std = {std2}')  ## all runs, ch, parameters array, sigma value\n",
    "plt.legend(fontsize = 'medium')\n",
    "plt.show()"
   ]
  },
  {
   "cell_type": "code",
   "execution_count": 61,
   "id": "74aaf2ac",
   "metadata": {},
   "outputs": [
    {
     "name": "stdout",
     "output_type": "stream",
     "text": [
      "[[ 0.00054928 -0.00517103  0.00174947 ...  0.017767   -0.02546249\n",
      "   0.02823435]\n",
      " [-0.0101769  -0.00806859 -0.01638475 ... -0.02095239 -0.00631015\n",
      "  -0.01165471]\n",
      " [ 0.00614144 -0.00601199  0.00762255 ... -0.00239619  0.00248809\n",
      "  -0.00722871]\n",
      " ...\n",
      " [-0.01416182  0.01833566 -0.01975102 ...  0.01111865  0.02836832\n",
      "   0.08564222]\n",
      " [-0.02645048 -0.02517123 -0.01391918 ... -0.01546825 -0.04327674\n",
      "   0.00280181]\n",
      " [-0.00875754 -0.01164343 -0.00022954 ... -0.00505947 -0.01495651\n",
      "   0.0279442 ]]\n"
     ]
    }
   ],
   "source": [
    "print(all_amp_norm)"
   ]
  },
  {
   "cell_type": "code",
   "execution_count": 54,
   "id": "6f38f36d",
   "metadata": {
    "scrolled": true
   },
   "outputs": [
    {
     "name": "stdout",
     "output_type": "stream",
     "text": [
      "        0         1         2         3         4         5         6   \\\n",
      "0 -0.00722 -0.007209 -0.006485 -0.006016 -0.006753 -0.005417 -0.006922   \n",
      "1 -0.00705 -0.007286 -0.006552 -0.006597 -0.007036 -0.005757 -0.007422   \n",
      "\n",
      "         7         8         9   ...        14        15        16        17  \\\n",
      "0 -0.006828 -0.005362 -0.007030  ... -0.007538 -0.007692 -0.007282 -0.007624   \n",
      "1 -0.007021 -0.005752 -0.007276  ... -0.007834 -0.008081 -0.007393 -0.007944   \n",
      "\n",
      "         18        19        20        21        22        23  \n",
      "0 -0.007452 -0.007115 -0.007786 -0.007206 -0.006979 -0.006847  \n",
      "1 -0.007815 -0.007224 -0.007823 -0.007760 -0.007292 -0.007047  \n",
      "\n",
      "[2 rows x 24 columns]\n",
      "[-1.70181928e-04  7.75860458e-05  6.68602568e-05  5.81198862e-04\n",
      "  2.83106257e-04  3.40306866e-04  5.00535942e-04  1.93614230e-04\n",
      "  3.90177855e-04  2.46454904e-04  1.09776994e-04  1.82950871e-04\n",
      "  2.01348108e-04  6.03982172e-04  2.96120882e-04  3.88377393e-04\n",
      "  1.10980447e-04  3.19538950e-04  3.63018700e-04  1.08684741e-04\n",
      "  3.72443492e-05  5.53863093e-04  3.12377425e-04  2.00334442e-04]\n"
     ]
    }
   ],
   "source": [
    "amp_integral_means = [[],[]]\n",
    "amp_integral_stds = [[],[]]\n",
    "\n",
    "for ch in range(0, len(all_amp)):\n",
    "    mamp = np.mean(all_amp_norm[ch])\n",
    "    samp = np.std(all_amp_norm[ch])\n",
    "    mint = np.mean(all_integral_norm[ch])\n",
    "    sint = np.std(all_integral_norm[ch])\n",
    "    amp_integral_means[0].append(mamp)\n",
    "    amp_integral_stds[0].append(samp)\n",
    "    amp_integral_means[1].append(mint)\n",
    "    amp_integral_stds[1].append(sint)\n",
    "\n",
    "amp_integral_means = np.asarray(amp_integral_means)\n",
    "amp_integral_stds = np.asarray(amp_integral_stds)\n",
    "mean_diffs = amp_integral_means[0]-amp_integral_means[1]\n",
    "# print(amp_integral_means[0])\n",
    "\n",
    "# print(amp_integral_means)\n",
    "\n",
    "df1 = pd.DataFrame(amp_integral_means)\n",
    "print(df1)\n",
    "print(mean_diffs)"
   ]
  },
  {
   "cell_type": "code",
   "execution_count": 56,
   "id": "47907c87",
   "metadata": {},
   "outputs": [
    {
     "name": "stdout",
     "output_type": "stream",
     "text": [
      "24\n"
     ]
    }
   ],
   "source": [
    "print(len(all_integral_norm))"
   ]
  },
  {
   "cell_type": "code",
   "execution_count": 104,
   "id": "522d3146",
   "metadata": {},
   "outputs": [
    {
     "data": {
      "image/png": "[encoded data removed]",
      "text/plain": [
       "<Figure size 640x480 with 1 Axes>"
      ]
     },
     "metadata": {},
     "output_type": "display_data"
    },
    {
     "name": "stdout",
     "output_type": "stream",
     "text": [
      "-0.006931\n",
      "-0.006943079505144253\n"
     ]
    }
   ],
   "source": [
    "%matplotlib inline\n",
    "all_NaI_amp = all_amp_norm.flatten()\n",
    "# all_NaI_amp = np.sum(all_amp_norm, axis = 0)\n",
    "# print(len(testsum))\n",
    "plt.title(rf'maybe all 24 detectors using \"Amplitude\" factor', fontsize = 'xx-large')\n",
    "mean = np.round(np.mean(all_NaI_amp),6)\n",
    "std = np.round(np.std(all_NaI_amp),6)\n",
    "\n",
    "plt.hist(all_NaI_amp, bins = 100, label = rf'mean = {mean}, std = {std}')\n",
    "plt.legend()\n",
    "plt.show()\n",
    "print(mean)\n",
    "print(np.mean(sum_ch_amp))\n"
   ]
  },
  {
   "cell_type": "code",
   "execution_count": 58,
   "id": "21296636",
   "metadata": {},
   "outputs": [
    {
     "data": {
      "image/png": "[encoded data removed]",
      "text/plain": [
       "<Figure size 640x480 with 1 Axes>"
      ]
     },
     "metadata": {},
     "output_type": "display_data"
    },
    {
     "name": "stdout",
     "output_type": "stream",
     "text": [
      "-0.007194\n"
     ]
    }
   ],
   "source": [
    "all_NaI_integral = all_integral_norm.flatten()\n",
    "# all_NaI_integral = np.sum(all_integral_norm, axis = 0)\n",
    "# print(len(testsum))\n",
    "plt.title(rf'maybe all 24 detectors using integral over FWHM', fontsize = 'xx-large')\n",
    "mean = np.round(np.mean(all_NaI_integral),6)\n",
    "std = np.round(np.std(all_NaI_integral),6)\n",
    "\n",
    "plt.hist(all_NaI_integral, bins = 100, label = rf'mean = {mean}, std = {std}')\n",
    "plt.legend()\n",
    "plt.show()\n",
    "print(mean)\n",
    "# print(np.mean(sum_ch_integral))"
   ]
  },
  {
   "cell_type": "code",
   "execution_count": 107,
   "id": "f6f09b6f",
   "metadata": {},
   "outputs": [
    {
     "name": "stdout",
     "output_type": "stream",
     "text": [
      "[[ 0.0071407  -0.06722333  0.02274316 ...  0.23097104 -0.33101243\n",
      "   0.08470306]\n",
      " [-0.13229966 -0.10489163 -0.21300171 ... -0.27238105 -0.08203189\n",
      "  -0.03496412]\n",
      " [ 0.07983867 -0.0781559   0.09909321 ... -0.03115049  0.03234518\n",
      "  -0.02168614]\n",
      " ...\n",
      " [ 0.03186871 -0.19991411 -0.09141157 ... -0.29162101  0.1518063\n",
      "   0.01173862]\n",
      " [ 0.02590104 -0.15350694 -0.49450641 ... -0.22006048 -0.13032074\n",
      "  -0.07798562]\n",
      " [ 0.01365963 -0.36381785 -0.09476588 ... -0.14430003  0.09575141\n",
      "  -0.05893015]]\n",
      "954\n",
      "[ 0.00054928 -0.00517103  0.00174947 ... -0.0111      0.00736549\n",
      " -0.01964338]\n"
     ]
    }
   ],
   "source": [
    "print((all_amp_D))\n",
    "print(len(all_sequences))\n",
    "print((all_amp_norm_D))\n"
   ]
  },
  {
   "cell_type": "code",
   "execution_count": 111,
   "id": "2640f5af",
   "metadata": {},
   "outputs": [
    {
     "name": "stdout",
     "output_type": "stream",
     "text": [
      "11448\n"
     ]
    },
    {
     "data": {
      "image/png": "[encoded data removed]",
      "text/plain": [
       "<Figure size 640x480 with 1 Axes>"
      ]
     },
     "metadata": {},
     "output_type": "display_data"
    },
    {
     "name": "stdout",
     "output_type": "stream",
     "text": [
      "11448\n"
     ]
    },
    {
     "data": {
      "image/png": "[encoded data removed]",
      "text/plain": [
       "<Figure size 640x480 with 1 Axes>"
      ]
     },
     "metadata": {},
     "output_type": "display_data"
    }
   ],
   "source": [
    "%matplotlib inline\n",
    "r = [-0.1,0.1]\n",
    "b = 100\n",
    "all_amp_norm_D = (all_amp_D/all_sequences).flatten()\n",
    "print(len(all_amp_norm_D))\n",
    "plt.title(rf'maybe all 12 donwstream detectors using \"Amplitude\" factor', fontsize = 'xx-large')\n",
    "mean = np.round(np.mean(all_amp_norm_D),6)\n",
    "# std = np.round(np.std(all_amp_norm_D),6)\n",
    "std = np.round(np.std(all_amp_norm_D)/(np.sqrt(numruns_tot_D*12)),6)\n",
    "\n",
    "\n",
    "plt.hist(all_amp_norm_D, bins = b, range=r, label = rf'mean = {mean}, std = {std}')\n",
    "plt.legend()\n",
    "plt.show()\n",
    "\n",
    "all_amp_norm_U = (all_amp_U/all_sequences).flatten()\n",
    "print(len(all_amp_norm_U))\n",
    "plt.title(rf'maybe all 12 upstream detectors using \"Amplitude\" factor', fontsize = 'xx-large')\n",
    "mean = np.round(np.mean(all_amp_norm_U),6)\n",
    "# std = np.round(np.std(all_amp_norm_U),6)\n",
    "std = np.round(np.std(all_amp_norm_U)/(np.sqrt(numruns_tot_U*12)),6)\n",
    "\n",
    "\n",
    "plt.hist(all_amp_norm_U, bins = b, range=r, label = rf'mean = {mean}, std = {std}')\n",
    "plt.legend()\n",
    "plt.show()"
   ]
  },
  {
   "cell_type": "code",
   "execution_count": 121,
   "id": "6b611f37",
   "metadata": {},
   "outputs": [
    {
     "name": "stdout",
     "output_type": "stream",
     "text": [
      "24\n",
      "(7632,)\n",
      "(7632,)\n"
     ]
    },
    {
     "data": {
      "image/png": "[encoded data removed]",
      "text/plain": [
       "<Figure size 640x480 with 1 Axes>"
      ]
     },
     "metadata": {},
     "output_type": "display_data"
    },
    {
     "name": "stdout",
     "output_type": "stream",
     "text": [
      "(15264,)\n",
      "15264\n"
     ]
    },
    {
     "data": {
      "image/png": "[encoded data removed]",
      "text/plain": [
       "<Figure size 640x480 with 1 Axes>"
      ]
     },
     "metadata": {},
     "output_type": "display_data"
    }
   ],
   "source": [
    "print(len(all_amp_norm))\n",
    "corners = [0,3,6,9,12,15,18,21]\n",
    "corner_amp_norm = np.asarray(all_amp_norm[corners]).flatten()\n",
    "print((corner_amp_norm.shape))\n",
    "# corner_amp_norm = corner_amp_norm.flatten()\n",
    "print((corner_amp_norm.shape))\n",
    "\n",
    "mean = np.round(np.mean(corner_amp_norm),6)\n",
    "# std = np.round(np.std(all_amp_norm_U),6)\n",
    "std = np.round(np.std(corner_amp_norm)/(np.sqrt(len(corner_amp_norm)*8)),6) ##std not working yet\n",
    "\n",
    "plt.hist(corner_amp_norm, bins = b, range=r, label = rf'mean = {mean}, std = {std}')\n",
    "plt.legend()\n",
    "plt.show()\n",
    "\n",
    "noncorners = [1,2,4,5,7,8,10,11,13,14,16,17,19,20,22,23]\n",
    "noncorner_amp_norm = np.asarray(all_amp_norm[noncorners]).flatten()\n",
    "print((noncorner_amp_norm.shape))\n",
    "# noncorner_amp_norm = noncorner_amp_norm[0].flatten()\n",
    "print(len(noncorner_amp_norm))\n",
    "\n",
    "mean = np.round(np.mean(noncorner_amp_norm),6)\n",
    "# std = np.round(np.std(all_amp_norm_U),6)\n",
    "std = np.round(np.std(noncorner_amp_norm)/(np.sqrt(len(noncorner_amp_norm)*8)),6) ##std not working yet\n",
    "\n",
    "plt.hist(noncorner_amp_norm, bins = b, range=r, label = rf'mean = {mean}, std = {std}')\n",
    "plt.legend()\n",
    "plt.show()"
   ]
  },
  {
   "cell_type": "markdown",
   "id": "507eb6ea",
   "metadata": {},
   "source": [
    "## ended here"
   ]
  },
  {
   "cell_type": "code",
   "execution_count": null,
   "id": "bebdff47",
   "metadata": {},
   "outputs": [],
   "source": []
  },
  {
   "cell_type": "code",
   "execution_count": null,
   "id": "82a08417",
   "metadata": {},
   "outputs": [],
   "source": []
  },
  {
   "cell_type": "code",
   "execution_count": null,
   "id": "797ab77e",
   "metadata": {},
   "outputs": [],
   "source": []
  },
  {
   "cell_type": "code",
   "execution_count": null,
   "id": "152743c8",
   "metadata": {},
   "outputs": [],
   "source": []
  },
  {
   "cell_type": "code",
   "execution_count": null,
   "id": "d0ab6446",
   "metadata": {},
   "outputs": [],
   "source": []
  },
  {
   "cell_type": "code",
   "execution_count": null,
   "id": "2f079704",
   "metadata": {},
   "outputs": [],
   "source": []
  },
  {
   "cell_type": "code",
   "execution_count": 192,
   "id": "167a27a5",
   "metadata": {},
   "outputs": [
    {
     "name": "stdout",
     "output_type": "stream",
     "text": [
      "8992\n",
      "[3.77280648e+03 8.52370423e+01 3.22309869e+04 ... 8.21254420e+00\n",
      " 7.29478682e+00 7.68468218e+00]\n",
      "[-1.021952 -1.02144  -1.020928 ...  3.580416  3.580928  3.58144 ]\n",
      "12\n",
      "[3.77280648e+03 8.52370423e+01 3.22309869e+04 ... 8.21254420e+00\n",
      " 7.29478682e+00 7.68468218e+00]\n"
     ]
    }
   ],
   "source": [
    "ch = 10\n",
    "print(len(np.sum(all_raw_D[:,ch], axis = 0)))\n",
    "testsum = np.sum(all_raw_D[:,ch], axis = 0)\n",
    "print(testsum)\n",
    "%matplotlib qt\n",
    "print(xs)\n",
    "plt.plot(xs, testsum)\n",
    "plt.ylim(-100, 100)\n",
    "plt.xlim(-0.01, 3)\n",
    "print(len(all_raw_D[0]))\n",
    "\n",
    "testrans = np.asarray(all_raw_D.transpose(1,0,2))\n",
    "testranssum = np.sum(testrans[ch,:], axis = 0)\n",
    "plt.plot(xs, testranssum)\n",
    "print(testranssum)"
   ]
  },
  {
   "cell_type": "code",
   "execution_count": 185,
   "id": "53ce865d",
   "metadata": {},
   "outputs": [
    {
     "name": "stdout",
     "output_type": "stream",
     "text": [
      "(636, 12, 8992)\n",
      "[ 42.10536834   0.49624384  10.69471701 -21.74036183  32.21412419\n",
      " -15.25067682  15.21694059  11.04733538 -60.47922312  -0.58353548]\n",
      "[  5.43475669  19.3607907   18.19386519  36.15928555  13.78356287\n",
      "  13.87217111  34.28298049  18.01152043 -56.81306022  20.88652147]\n",
      "(12, 636, 8992)\n",
      "[ 42.10536834   0.49624384  10.69471701 -21.74036183  32.21412419\n",
      " -15.25067682  15.21694059  11.04733538 -60.47922312  -0.58353548]\n",
      "[  5.43475669  19.3607907   18.19386519  36.15928555  13.78356287\n",
      "  13.87217111  34.28298049  18.01152043 -56.81306022  20.88652147]\n"
     ]
    }
   ],
   "source": [
    "print(all_raw_D.shape)\n",
    "print(all_raw_D[14][5][20:30])\n",
    "print(all_raw_D[31][6][20:30])\n",
    "\n",
    "testrans = np.asarray(all_raw_D.transpose(1,0,2))\n",
    "print(testrans.shape)\n",
    "print(testrans[5][14][20:30])\n",
    "print(testrans[6][31][20:30])"
   ]
  },
  {
   "cell_type": "code",
   "execution_count": 173,
   "id": "c300900d",
   "metadata": {},
   "outputs": [
    {
     "name": "stdout",
     "output_type": "stream",
     "text": [
      "12\n"
     ]
    },
    {
     "data": {
      "text/plain": [
       "[<matplotlib.lines.Line2D at 0x1e3daa67b50>]"
      ]
     },
     "execution_count": 173,
     "metadata": {},
     "output_type": "execute_result"
    }
   ],
   "source": [
    "asyms_raw_summed = []\n",
    "for ch in range(0, len(all_raw_D[0])):\n",
    "    chsum = np.sum(all_raw_D[:,ch], axis = 0) \n",
    "    asyms_raw_summed.append(chsum)\n",
    "    \n",
    "print(len(asyms_raw_summed))\n",
    "plt.plot(xs, asyms_raw_summed[2])"
   ]
  },
  {
   "cell_type": "code",
   "execution_count": 175,
   "id": "e126d688",
   "metadata": {},
   "outputs": [
    {
     "name": "stdout",
     "output_type": "stream",
     "text": [
      "8992\n"
     ]
    },
    {
     "data": {
      "text/plain": [
       "[<matplotlib.lines.Line2D at 0x1e3dafae790>]"
      ]
     },
     "execution_count": 175,
     "metadata": {},
     "output_type": "execute_result"
    }
   ],
   "source": [
    "asyms_raw_allNaI = np.sum(asyms_raw_summed[:], axis = 0) \n",
    "print(len(asyms_raw_allNaI))\n",
    "plt.plot(asyms_raw_allNaI)"
   ]
  },
  {
   "cell_type": "code",
   "execution_count": 24,
   "id": "4fcb8504",
   "metadata": {},
   "outputs": [
    {
     "ename": "NameError",
     "evalue": "name 'numruns' is not defined",
     "output_type": "error",
     "traceback": [
      "\u001b[1;31m---------------------------------------------------------------------------\u001b[0m",
      "\u001b[1;31mNameError\u001b[0m                                 Traceback (most recent call last)",
      "\u001b[1;32m~\\AppData\\Local\\Temp\\ipykernel_35560\\1784149792.py\u001b[0m in \u001b[0;36m<module>\u001b[1;34m\u001b[0m\n\u001b[0;32m      1\u001b[0m \u001b[1;31m## need to make this into function and faster\u001b[0m\u001b[1;33m\u001b[0m\u001b[1;33m\u001b[0m\u001b[0m\n\u001b[0;32m      2\u001b[0m \u001b[1;33m\u001b[0m\u001b[0m\n\u001b[1;32m----> 3\u001b[1;33m \u001b[0mrun_asyms_D\u001b[0m \u001b[1;33m=\u001b[0m \u001b[0mnp\u001b[0m\u001b[1;33m.\u001b[0m\u001b[0mzeros\u001b[0m\u001b[1;33m(\u001b[0m\u001b[1;33m(\u001b[0m\u001b[0mnumruns\u001b[0m\u001b[1;33m,\u001b[0m\u001b[0mlen\u001b[0m\u001b[1;33m(\u001b[0m\u001b[0marr_sizer\u001b[0m\u001b[1;33m)\u001b[0m\u001b[1;33m,\u001b[0m\u001b[0mlen\u001b[0m\u001b[1;33m(\u001b[0m\u001b[0marr_sizer\u001b[0m\u001b[1;33m[\u001b[0m\u001b[1;36m0\u001b[0m\u001b[1;33m]\u001b[0m\u001b[1;33m)\u001b[0m\u001b[1;33m)\u001b[0m\u001b[1;33m,\u001b[0m \u001b[0mdtype\u001b[0m\u001b[1;33m=\u001b[0m\u001b[0mfloat\u001b[0m\u001b[1;33m)\u001b[0m \u001b[1;31m## num pulses, num channels, num points (one dataset per pulse per channel)\u001b[0m\u001b[1;33m\u001b[0m\u001b[1;33m\u001b[0m\u001b[0m\n\u001b[0m\u001b[0;32m      4\u001b[0m \u001b[0mrun_asyms_U\u001b[0m \u001b[1;33m=\u001b[0m \u001b[0mnp\u001b[0m\u001b[1;33m.\u001b[0m\u001b[0mzeros\u001b[0m\u001b[1;33m(\u001b[0m\u001b[1;33m(\u001b[0m\u001b[0mnumruns\u001b[0m\u001b[1;33m,\u001b[0m\u001b[0mlen\u001b[0m\u001b[1;33m(\u001b[0m\u001b[0marr_sizer\u001b[0m\u001b[1;33m)\u001b[0m\u001b[1;33m,\u001b[0m\u001b[0mlen\u001b[0m\u001b[1;33m(\u001b[0m\u001b[0marr_sizer\u001b[0m\u001b[1;33m[\u001b[0m\u001b[1;36m0\u001b[0m\u001b[1;33m]\u001b[0m\u001b[1;33m)\u001b[0m\u001b[1;33m)\u001b[0m\u001b[1;33m,\u001b[0m \u001b[0mdtype\u001b[0m\u001b[1;33m=\u001b[0m\u001b[0mfloat\u001b[0m\u001b[1;33m)\u001b[0m \u001b[1;31m## num pulses, num channels, num points (one dataset per pulse per channel)\u001b[0m\u001b[1;33m\u001b[0m\u001b[1;33m\u001b[0m\u001b[0m\n\u001b[0;32m      5\u001b[0m \u001b[0mrun_asyms_U_noLi\u001b[0m \u001b[1;33m=\u001b[0m \u001b[0mnp\u001b[0m\u001b[1;33m.\u001b[0m\u001b[0mzeros\u001b[0m\u001b[1;33m(\u001b[0m\u001b[1;33m(\u001b[0m\u001b[0mnumruns\u001b[0m\u001b[1;33m,\u001b[0m\u001b[0mlen\u001b[0m\u001b[1;33m(\u001b[0m\u001b[0marr_sizer\u001b[0m\u001b[1;33m)\u001b[0m\u001b[1;33m-\u001b[0m\u001b[1;36m1\u001b[0m\u001b[1;33m,\u001b[0m\u001b[0mlen\u001b[0m\u001b[1;33m(\u001b[0m\u001b[0marr_sizer\u001b[0m\u001b[1;33m[\u001b[0m\u001b[1;36m0\u001b[0m\u001b[1;33m]\u001b[0m\u001b[1;33m)\u001b[0m\u001b[1;33m)\u001b[0m\u001b[1;33m,\u001b[0m \u001b[0mdtype\u001b[0m\u001b[1;33m=\u001b[0m\u001b[0mfloat\u001b[0m\u001b[1;33m)\u001b[0m \u001b[1;31m## take out 6Li in upstream (can this be done above?)\u001b[0m\u001b[1;33m\u001b[0m\u001b[1;33m\u001b[0m\u001b[0m\n",
      "\u001b[1;31mNameError\u001b[0m: name 'numruns' is not defined"
     ]
    }
   ],
   "source": [
    "## need to make this into function and faster\n",
    "\n",
    "run_asyms_D = np.zeros((numruns,len(arr_sizer),len(arr_sizer[0])), dtype=float) ## num pulses, num channels, num points (one dataset per pulse per channel)\n",
    "run_asyms_U = np.zeros((numruns,len(arr_sizer),len(arr_sizer[0])), dtype=float) ## num pulses, num channels, num points (one dataset per pulse per channel)\n",
    "run_asyms_U_noLi = np.zeros((numruns,len(arr_sizer)-1,len(arr_sizer[0])), dtype=float) ## take out 6Li in upstream (can this be done above?)\n",
    "run_asyms_All = np.zeros((numruns,25,len(arr_sizer[0])), dtype=float) ## num pulses, num channels, num points (one dataset per pulse per channel)\n",
    "\n",
    "\n",
    "for i in range(numruns):\n",
    "    run_asyms_D[i] = np.load(root+processedfolder+folders_start+asymDendname+runslist_D[i])\n",
    "    run_asyms_U[i] = np.load(root+processedfolder+folders_start+asymUendname+runslist_U[i])\n",
    "    run_asyms_U_noLi[i] = run_asyms_U[i,:-1].copy()\n",
    "    run_asyms_All[i] = np.vstack((run_asyms_U_noLi[i], run_asyms_D[i]))\n",
    "    \n",
    "print(len(run_asyms_U_noLi))\n",
    "print(len(run_asyms_U_noLi[0]))\n",
    "print(len(run_asyms_U_noLi[0][0]))\n",
    "print(len(run_asyms_D))\n",
    "print(len(run_asyms_D[0]))\n",
    "print(len(run_asyms_D[0][0]))\n",
    "\n",
    "print(len(run_asyms_All))\n",
    "print(len(run_asyms_All[0]))\n",
    "print(len(run_asyms_All[0][0]))\n",
    "\n",
    "ch_asyms_All = run_asyms_All.transpose(1, 0, 2) ## switches first array to channels and second array to pulses\n",
    "\n",
    "print(len(ch_asyms_All))\n",
    "print(len(ch_asyms_All[0]))\n",
    "print(len(ch_asyms_All[0][0]))\n",
    "\n",
    "print((ch_asyms_All[0][0][0:5]))\n",
    "print((run_asyms_U_noLi[0][0][0:5]))\n",
    "print((run_asyms_D[0][0][0:5]))\n",
    "print()\n",
    "print((ch_asyms_All[-1][0][0:5]))\n",
    "print((run_asyms_D[0][-1][0:5]))\n",
    "print()\n",
    "print((ch_asyms_All[12][0][0:5]))\n",
    "print((run_asyms_D[0][0][0:5]))\n",
    "print((ch_asyms_All[11][0][0:5]))\n",
    "print((run_asyms_U_noLi[0][-1][0:5]))\n",
    "print()\n",
    "print((ch_asyms_All[-1][0][0:5]))\n",
    "print((ch_asyms_All[-1][-1][0:5]))\n",
    "\n",
    "# print((run_asyms_U_noLi[0][0][0:5]))\n",
    "# print((run_asyms_D[0][0][0:5]))\n",
    "\n",
    "# print((run_asyms_All[0][0][0:5]))\n",
    "# print((run_asyms_All[0][-1][0:5]))\n",
    "# print((run_asyms_D[0][-1][0:5]))\n"
   ]
  },
  {
   "cell_type": "code",
   "execution_count": 10,
   "id": "2f993263",
   "metadata": {},
   "outputs": [],
   "source": [
    "# print((new_run_asyms_All[0][1][0:5]))\n",
    "# print((new_run_asyms_All[0][0][0:5]))\n",
    "\n",
    "# print((new_run_asyms_All[2][-1][0:5]))\n",
    "# print((new_run_asyms_All[2][-2][0:5]))"
   ]
  },
  {
   "cell_type": "code",
   "execution_count": 11,
   "id": "be7d6fa7",
   "metadata": {},
   "outputs": [
    {
     "name": "stdout",
     "output_type": "stream",
     "text": [
      "330\n",
      "13\n",
      "9000\n"
     ]
    }
   ],
   "source": [
    "print(len(run_asyms_D))\n",
    "print(len(run_asyms_D[0]))\n",
    "print(len(run_asyms_D[0][0]))"
   ]
  },
  {
   "cell_type": "code",
   "execution_count": 12,
   "id": "55c7e817",
   "metadata": {},
   "outputs": [
    {
     "name": "stdout",
     "output_type": "stream",
     "text": [
      "13\n",
      "8992\n",
      "13\n",
      "9000\n"
     ]
    }
   ],
   "source": [
    "\n",
    "xs_cut = np.load(root+processedfolder+'xs_cut.npy')\n",
    "xs_uncut = np.load(root+processedfolder+'xs_uncut.npy')\n",
    "xs_cut = xs_cut/1000000\n",
    "xs_uncut = xs_uncut/1000000  ## convert to ms...\n",
    "\n",
    "print(len(xs_cut))\n",
    "print(len(xs_cut[0]))\n",
    "\n",
    "print(len(xs_uncut))\n",
    "print(len(xs_uncut[0]))"
   ]
  },
  {
   "cell_type": "code",
   "execution_count": 13,
   "id": "a0cab2b3",
   "metadata": {},
   "outputs": [
    {
     "name": "stdout",
     "output_type": "stream",
     "text": [
      "0\n",
      "1\n",
      "2\n",
      "3\n",
      "4\n",
      "5\n",
      "6\n",
      "7\n",
      "8\n",
      "9\n",
      "10\n",
      "11\n",
      "\n",
      "12\n",
      "13\n",
      "14\n",
      "15\n",
      "16\n",
      "17\n",
      "18\n",
      "19\n",
      "20\n",
      "21\n",
      "22\n",
      "23\n",
      "9000\n",
      "9000\n",
      "\n",
      "24\n",
      "9000\n"
     ]
    }
   ],
   "source": [
    "All_Li6_asyms = np.zeros((len(arr_sizer[0])), dtype=float) ## num points\n",
    "for r in range(len(ch_asyms_All[0])):\n",
    "    All_Li6_asyms = All_Li6_asyms + ch_asyms_All[-1][r]\n",
    "All_Li6_asyms = All_Li6_asyms/numruns\n",
    "    \n",
    "NaI_asyms = np.zeros((len(ch_asyms_All)-1, len(arr_sizer[0])), dtype=float) ## num points\n",
    "for i in range(24): ## 0-11, (24 is 6Li)\n",
    "    for r in range(len(ch_asyms_All[0])):\n",
    "        NaI_asyms[i] = NaI_asyms[i] + ch_asyms_All[i][r]\n",
    "NaI_asyms = NaI_asyms/numruns\n",
    "        \n",
    "All_NaI_asyms = np.zeros((len(arr_sizer[0])), dtype=float) ## num points\n",
    "for i in range(24): ## 0-23, not 0-24 (24 is 6Li)\n",
    "    for r in range(len(ch_asyms_All[0])):\n",
    "        All_NaI_asyms = All_NaI_asyms + ch_asyms_All[i][r]\n",
    "All_NaI_asyms = All_NaI_asyms/numruns\n",
    "\n",
    "upstrm = np.zeros((len(arr_sizer[0])), dtype=float) ## num points\n",
    "for i in range(12): ## 0-23, not 0-24 (24 is 6Li)\n",
    "    print(i)\n",
    "    for r in range(len(ch_asyms_All[0])):\n",
    "        upstrm = upstrm + ch_asyms_All[i][r]\n",
    "upstrm = upstrm/numruns\n",
    "print()\n",
    "dnstrm = np.zeros((len(arr_sizer[0])), dtype=float) ## num points\n",
    "for i in range(12,24): ## 0-23, not 0-24 (24 is 6Li)\n",
    "    print(i)\n",
    "    for r in range(len(ch_asyms_All[0])):\n",
    "        dnstrm = dnstrm + ch_asyms_All[i][r]\n",
    "dnstrm = dnstrm/numruns\n",
    "# Upstrm_NaI_asyms = np.zeros((len(arr_sizer[0])), dtype=float) ## num points\n",
    "# for i in range(12): ## 0-11, (24 is 6Li)\n",
    "#     for r in range(len(ch_asyms_All[0])):\n",
    "#         Upstrm_NaI_asyms = Upstrm_NaI_asyms + ch_asyms_All[i][r]\n",
    "\n",
    "# Dnstrm_NaI_asyms = np.zeros((len(arr_sizer[0])), dtype=float) ## num points\n",
    "\n",
    "# for i in range(12,24): ## 12-23, not 12-24 (24 is 6Li)\n",
    "# #     print( i )\n",
    "#     Dnstrm_NaI_asyms = Dnstrm_NaI_asyms + ch_asyms_All[i]\n",
    "\n",
    "print(len(All_NaI_asyms))\n",
    "print(len(All_Li6_asyms))\n",
    "print()\n",
    "\n",
    "print(len(NaI_asyms))\n",
    "print(len(NaI_asyms[0]))\n",
    "# print(len(Upstrm_NaI_asyms))\n",
    "# print(len(Dnstrm_NaI_asyms))\n"
   ]
  },
  {
   "cell_type": "code",
   "execution_count": 14,
   "id": "94c66c66",
   "metadata": {},
   "outputs": [
    {
     "name": "stdout",
     "output_type": "stream",
     "text": [
      "330\n"
     ]
    }
   ],
   "source": [
    "print(numruns)"
   ]
  },
  {
   "cell_type": "code",
   "execution_count": 15,
   "id": "41a4e509",
   "metadata": {},
   "outputs": [
    {
     "name": "stdout",
     "output_type": "stream",
     "text": [
      "330\n",
      "[-0.00019739 -0.00019493 -0.00019349 -0.00019422 -0.00019638 -0.00019512\n",
      " -0.00019456 -0.00019479 -0.00019415 -0.00019385]\n",
      "[-0.00019739 -0.00019493 -0.00019349 -0.00019422 -0.00019638 -0.00019512\n",
      " -0.00019456 -0.00019479 -0.00019415 -0.00019385]\n",
      "330\n",
      "0\n",
      "0.13468340116256292\n",
      "0.0004081315186744347\n"
     ]
    }
   ],
   "source": [
    "print(len(run_asyms_U_noLi))\n",
    "print(run_asyms_U_noLi[20,11,2000:2010])\n",
    "print(run_asyms_U_noLi[20][11][2000:2010])\n",
    "\n",
    "print(len(run_asyms_U_noLi[0:330,11,2000:2010]))\n",
    "print(len(run_asyms_U_noLi[0:330][11][2000:2010]))\n",
    "\n",
    "# print((run_asyms_U_noLi[0][5][4000:4010]*330))\n",
    "print(np.average(run_asyms_U_noLi[0:380,11,7900]*330))\n",
    "print(NaI_asyms[11][7900])"
   ]
  },
  {
   "cell_type": "code",
   "execution_count": 16,
   "id": "d5c3213f",
   "metadata": {},
   "outputs": [
    {
     "name": "stdout",
     "output_type": "stream",
     "text": [
      "9000\n",
      "1125\n",
      "1124\n",
      "1125\n",
      "1124\n"
     ]
    }
   ],
   "source": [
    "m = 8\n",
    "# a = All_Li6_asyms\n",
    "a = All_NaI_asyms\n",
    "b = a.reshape(-1, m).mean(axis=1)\n",
    "c = xs_cut[0]\n",
    "d = c.reshape(-1, m).mean(axis=1)\n",
    "print(len(a))\n",
    "print(len(b))\n",
    "print(len(d))\n",
    "\n",
    "def rebin(ys, xs, rebinfactor):\n",
    "    outys = ys.reshape(-1, rebinfactor).mean(axis=1)\n",
    "    outxs = xs.reshape(-1, rebinfactor).mean(axis=1)\n",
    "    return outys, outxs\n",
    "\n",
    "rebinf = 8\n",
    "All_NaI_asyms_rebin8, xs_cut_rebin8 = rebin(All_NaI_asyms, xs_cut[0], rebinf)\n",
    "All_Li6_asyms_rebin8, xs_cut_rebin8 = rebin(All_Li6_asyms, xs_cut[0], rebinf)\n",
    "\n",
    "print(len(All_NaI_asyms_rebin8))\n",
    "print(len(xs_cut_rebin8))"
   ]
  },
  {
   "cell_type": "code",
   "execution_count": 17,
   "id": "0a852c18",
   "metadata": {},
   "outputs": [
    {
     "name": "stdout",
     "output_type": "stream",
     "text": [
      "330\n"
     ]
    }
   ],
   "source": [
    "print(numruns)"
   ]
  },
  {
   "cell_type": "code",
   "execution_count": 21,
   "id": "af07a54e",
   "metadata": {},
   "outputs": [],
   "source": [
    "# legend = []\n",
    "%matplotlib qt\n",
    "\n",
    "# plt.plot(xs_uncut[0], NaI_asyms[1] , label='NaI D1')\n",
    "# plt.plot(xs_cut[0], NaI_asyms[1] , label='NaI D1')\n",
    "# plt.plot(xs_cut[0], All_NaI_asyms/(24), label='All NaI')\n",
    "# plt.plot(xs_cut[0], (All_NaI_asyms/(24)), label='All NaI, no rebinning: ')\n",
    "# plt.plot(xs_uncut[0], (All_NaI_asyms/(24)), label='All NaI, no rebinning. No t0 alignment')\n",
    "# plt.plot(xs_cut[0], (upstrm/(12)), label='upstrm, no rebinning: ')\n",
    "# plt.plot(xs_cut[0], (dnstrm/(12)), label='dnstrm, no rebinning: ')\n",
    "\n",
    "# plt.plot(xs_cut[0], (All_Li6_asyms), label='Li6, no rebinning: ')\n",
    "# plt.plot(xs_cut_rebin8, (All_NaI_asyms_rebin8/(24)), label='All NaI, rebinning: ' + str(rebinf))\n",
    "# plt.plot(xs_cut_rebin8, (All_Li6_asyms_rebin8), label='Li6, rebinning: ' + str(rebinf))\n",
    "\n",
    "# plt.plot(xs_uncut[0], NaI_asyms[7] , label='NaI D1')\n",
    "plt.plot(d, b[:-1]/24, label='All NaI')\n",
    "\n",
    "# plt.plot(xs_uncut[0], All_Li6_asyms , label='6Li')\n",
    "# plt.plot(xs_cut, All_Li6_asyms/4275 , label='6Li')\n",
    "# plt.plot(d, b, label='6Li')\n",
    "\n",
    "    \n",
    "plt.title(f'asym, {numruns} runs, (' + str(numruns*4/60) + ' hours)') \n",
    "plt.xlabel(\"time from trigger (ms)\")\n",
    "plt.ylabel('absolute')\n",
    "\n",
    "plt.ylim(-0.5,0.5)\n",
    "# plt.xlim(xs_cut[1800],xs_cut[-1])\n",
    "# plt.xlim(xs_uncut[0][1800],xs_uncut[0][-1])\n",
    "\n",
    "# plt.axvline(xs[0][baseL], ls = '--')\n",
    "# plt.axvline(xs[0][baseR], ls = '--')\n",
    "# plt.axvline(xs_cut[1][7800], ls = '--', c ='g')\n",
    "plt.axvline(xs_cut[1][7500], ls = '--', c ='r')\n",
    "plt.axvline(xs_cut[1][7200], ls = '--', c ='r')\n",
    "\n",
    "#plt.axvline(xs[1][intgrR], ls = '--', c ='g')\n",
    "#plt.axvline(xs[2][HeintgrL], ls = '--', c ='r')\n",
    "#plt.axvline(xs[2][HeintgrR], ls = '--', c ='r')\n",
    "\n",
    "plt.legend()\n",
    "plt.show()"
   ]
  },
  {
   "cell_type": "code",
   "execution_count": null,
   "id": "5b3dccdd",
   "metadata": {},
   "outputs": [],
   "source": []
  },
  {
   "cell_type": "code",
   "execution_count": null,
   "id": "ee3cfa35",
   "metadata": {},
   "outputs": [],
   "source": []
  },
  {
   "cell_type": "code",
   "execution_count": null,
   "id": "314cce52",
   "metadata": {},
   "outputs": [],
   "source": []
  },
  {
   "cell_type": "code",
   "execution_count": null,
   "id": "dde06a52",
   "metadata": {},
   "outputs": [],
   "source": []
  },
  {
   "cell_type": "code",
   "execution_count": null,
   "id": "b03cf3c4",
   "metadata": {},
   "outputs": [],
   "source": [
    "print(root+processedfolder+folders_start+'/asym_D/'+runslist_D[1])"
   ]
  },
  {
   "cell_type": "code",
   "execution_count": null,
   "id": "9c461148",
   "metadata": {},
   "outputs": [],
   "source": [
    "xs_uncut = np.load(root+processedfolder+'xs_uncut.npy')\n",
    "print(len(xs_uncut[0]))"
   ]
  },
  {
   "cell_type": "code",
   "execution_count": 16,
   "id": "6caa392f",
   "metadata": {},
   "outputs": [
    {
     "name": "stdout",
     "output_type": "stream",
     "text": [
      "13\n",
      "8992\n"
     ]
    }
   ],
   "source": [
    "testload0 = np.load(root+processedfolder+folders_start+'/asym_D/'+runslist_D[0])\n",
    "testload1 = np.load(root+processedfolder+folders_start+'/asym_D/'+runslist_D[1])\n",
    "testload2 = np.load(root+processedfolder+folders_start+'/asym_D/'+runslist_D[2])\n",
    "testload3 = np.load(root+processedfolder+folders_start+'/asym_D/'+runslist_D[3])\n",
    "testload4 = np.load(root+processedfolder+folders_start+'/asym_D/'+runslist_D[4])\n",
    "testload5 = np.load(root+processedfolder+folders_start+'/asym_D/'+runslist_D[5])\n",
    "testload6 = np.load(root+processedfolder+folders_start+'/asym_D/'+runslist_D[6])\n",
    "testload7 = np.load(root+processedfolder+folders_start+'/asym_D/'+runslist_D[7])\n",
    "testload8 = np.load(root+processedfolder+folders_start+'/asym_D/'+runslist_D[8])\n",
    "testload9 = np.load(root+processedfolder+folders_start+'/asym_D/'+runslist_D[9])\n",
    "testload10 = np.load(root+processedfolder+folders_start+'/asym_D/'+runslist_D[10])\n",
    "testload11 = np.load(root+processedfolder+folders_start+'/asym_D/'+runslist_D[11])\n",
    "testload12 = np.load(root+processedfolder+folders_start+'/asym_D/'+runslist_D[12])\n",
    "testload13 = np.load(root+processedfolder+folders_start+'/asym_D/'+runslist_D[13])\n",
    "testload14 = np.load(root+processedfolder+folders_start+'/asym_D/'+runslist_D[14])\n",
    "testload15 = np.load(root+processedfolder+folders_start+'/asym_D/'+runslist_D[15])\n",
    "testloads = [testload1, testload2, testload3, testload4, testload5, testload6, testload7, testload8, testload9, testload10, testload11, testload12, testload13, testload14, testload15, testload0]\n",
    "\n",
    "print(len(testload0))\n",
    "print(len(testload0[0]))\n"
   ]
  },
  {
   "cell_type": "code",
   "execution_count": 17,
   "id": "592e8bfb",
   "metadata": {},
   "outputs": [
    {
     "name": "stdout",
     "output_type": "stream",
     "text": [
      "<class 'numpy.ndarray'>\n",
      "13\n",
      "8992\n",
      "[ 0.00545513 -0.00232839  0.00913183  0.00257728 -0.00176993  0.00101849\n",
      "  0.00163765  0.00434007  0.00353119  0.00101663]\n",
      "<class 'numpy.ndarray'>\n",
      "13\n",
      "8992\n",
      "[ 0.00149679 -0.00161068 -0.00074242 -0.0005354  -0.00117681 -0.00113059\n",
      "  0.0050438  -0.00223947 -0.00453362 -0.00859197]\n"
     ]
    }
   ],
   "source": [
    "print(type(testload12))\n",
    "print(len(testload12))\n",
    "print(len(testload12[1]))\n",
    "print(testload12[1][2100:2110])\n",
    "\n",
    "print(type(testload1))\n",
    "print(len(testload1))\n",
    "print(len(testload1[1]))\n",
    "print(testload1[1][2100:2110])"
   ]
  },
  {
   "cell_type": "code",
   "execution_count": 18,
   "id": "6cd24eed",
   "metadata": {},
   "outputs": [
    {
     "name": "stdout",
     "output_type": "stream",
     "text": [
      "[7 6 9]\n",
      "[7 6 9]\n"
     ]
    }
   ],
   "source": [
    "testa = np.array([1,4,10])\n",
    "testb = np.array([6,2,-1])\n",
    "tests = [testa, testb]\n",
    "\n",
    "print(np.sum(tests, axis =0))\n",
    "print(testa+testb)"
   ]
  },
  {
   "cell_type": "code",
   "execution_count": 19,
   "id": "e7f22412",
   "metadata": {},
   "outputs": [],
   "source": [
    "alltests = np.zeros((len(testload1),len(testload1[0])), dtype=np.float64)\n",
    "for i in range(len(testloads)):\n",
    "    for ch in range(len(testloads[0])):\n",
    "        alltests = np.add(alltests,testloads[i][ch])\n",
    "\n"
   ]
  },
  {
   "cell_type": "code",
   "execution_count": 20,
   "id": "eb1488d4",
   "metadata": {},
   "outputs": [
    {
     "name": "stdout",
     "output_type": "stream",
     "text": [
      "13\n",
      "8992\n",
      "[ 0.06580914 -0.00674936  0.01945315 -0.04193713  0.00197393  0.0245911\n",
      "  0.07918334  0.07143564  0.00753719  0.00066482]\n",
      "[ 0.00239088  0.00161905 -0.00045938 -0.00167427  0.00082221  0.00120667\n",
      " -0.00058788 -0.00259709  0.00513048  0.00540297]\n"
     ]
    }
   ],
   "source": [
    "# alltests = np.sum(testloads, axis =0)\n",
    "print(len(alltests))\n",
    "print(len(alltests[0]))\n",
    "print(alltests[-1][2100:2110])\n",
    "print(testloads[-1][2][2100:2110])"
   ]
  },
  {
   "cell_type": "code",
   "execution_count": 23,
   "id": "5bd1bd68",
   "metadata": {},
   "outputs": [],
   "source": [
    "# legend = []\n",
    "%matplotlib qt\n",
    "\n",
    "# plt.plot(xs_uncut[0], alltests[0] , label='alltests')\n",
    "# plt.plot(xs_uncut[0], testload1[1] , label='testload1')\n",
    "# plt.plot(xs_cut[0], NaI_asyms[0] , label='NaI D1')\n",
    "# plt.plot(xs_cut, NaI_asyms[5] , label='NaI D1')\n",
    "# plt.plot(xs_cut, NaI_asyms[19] , label='NaI D1')\n",
    "# plt.plot(xs_cut, NaI_asyms[21] , label='NaI D1')\n",
    "\n",
    "# plt.plot(xs_cut, ch_asyms[2] , label='NaI D1')\n",
    "# plt.plot(xs_cut, All_NaI_asyms/24, label='All NaI')\n",
    "# plt.plot(d, b/24, label='All NaI')\n",
    "\n",
    "# plt.plot(xs_cut, All_Li6_asyms , label='6Li')\n",
    "# plt.plot(xs_cut, All_Li6_asyms/4275 , label='6Li')\n",
    "# plt.plot(d, b, label='6Li')\n",
    "\n",
    "    \n",
    "plt.title('asym') \n",
    "plt.xlabel(\"time from trigger (ns)\")\n",
    "plt.ylabel(\"ADC\")\n",
    "\n",
    "plt.ylim(-3,3)\n",
    "# plt.xlim(xs_cut[1800],xs_cut[-1])\n",
    "plt.xlim(xs_uncut[0][1800],xs_uncut[0][-1])\n",
    "\n",
    "# plt.axvline(xs[0][baseL], ls = '--')\n",
    "# plt.axvline(xs[0][baseR], ls = '--')\n",
    "#plt.axvline(xs[1][intgrL], ls = '--', c ='g')\n",
    "#plt.axvline(xs[1][intgrR], ls = '--', c ='g')\n",
    "#plt.axvline(xs[2][HeintgrL], ls = '--', c ='r')\n",
    "#plt.axvline(xs[2][HeintgrR], ls = '--', c ='r')\n",
    "\n",
    "plt.legend()\n",
    "plt.show()"
   ]
  },
  {
   "cell_type": "code",
   "execution_count": 18,
   "id": "04da87ee",
   "metadata": {},
   "outputs": [
    {
     "name": "stderr",
     "output_type": "stream",
     "text": [
      "C:\\Users\\gabeo\\AppData\\Local\\Temp\\ipykernel_85532\\1335267064.py:1: VisibleDeprecationWarning: Creating an ndarray from ragged nested sequences (which is a list-or-tuple of lists-or-tuples-or ndarrays with different lengths or shapes) is deprecated. If you meant to do this, you must specify 'dtype=object' when creating the ndarray.\n",
      "  a = np.array([[2,6,8,9,30], [2,6,8,9,30]*4])\n",
      "C:\\Users\\gabeo\\AppData\\Local\\Temp\\ipykernel_85532\\1335267064.py:2: VisibleDeprecationWarning: Creating an ndarray from ragged nested sequences (which is a list-or-tuple of lists-or-tuples-or ndarrays with different lengths or shapes) is deprecated. If you meant to do this, you must specify 'dtype=object' when creating the ndarray.\n",
      "  b = np.array([[1,3,2,3,10], [2,6,8,9,30]*2])\n"
     ]
    },
    {
     "ename": "TypeError",
     "evalue": "unsupported operand type(s) for /: 'list' and 'list'",
     "output_type": "error",
     "traceback": [
      "\u001b[1;31m---------------------------------------------------------------------------\u001b[0m",
      "\u001b[1;31mTypeError\u001b[0m                                 Traceback (most recent call last)",
      "\u001b[1;32m~\\AppData\\Local\\Temp\\ipykernel_85532\\1335267064.py\u001b[0m in \u001b[0;36m<module>\u001b[1;34m\u001b[0m\n\u001b[0;32m      1\u001b[0m \u001b[0ma\u001b[0m \u001b[1;33m=\u001b[0m \u001b[0mnp\u001b[0m\u001b[1;33m.\u001b[0m\u001b[0marray\u001b[0m\u001b[1;33m(\u001b[0m\u001b[1;33m[\u001b[0m\u001b[1;33m[\u001b[0m\u001b[1;36m2\u001b[0m\u001b[1;33m,\u001b[0m\u001b[1;36m6\u001b[0m\u001b[1;33m,\u001b[0m\u001b[1;36m8\u001b[0m\u001b[1;33m,\u001b[0m\u001b[1;36m9\u001b[0m\u001b[1;33m,\u001b[0m\u001b[1;36m30\u001b[0m\u001b[1;33m]\u001b[0m\u001b[1;33m,\u001b[0m \u001b[1;33m[\u001b[0m\u001b[1;36m2\u001b[0m\u001b[1;33m,\u001b[0m\u001b[1;36m6\u001b[0m\u001b[1;33m,\u001b[0m\u001b[1;36m8\u001b[0m\u001b[1;33m,\u001b[0m\u001b[1;36m9\u001b[0m\u001b[1;33m,\u001b[0m\u001b[1;36m30\u001b[0m\u001b[1;33m]\u001b[0m\u001b[1;33m*\u001b[0m\u001b[1;36m4\u001b[0m\u001b[1;33m]\u001b[0m\u001b[1;33m)\u001b[0m\u001b[1;33m\u001b[0m\u001b[1;33m\u001b[0m\u001b[0m\n\u001b[0;32m      2\u001b[0m \u001b[0mb\u001b[0m \u001b[1;33m=\u001b[0m \u001b[0mnp\u001b[0m\u001b[1;33m.\u001b[0m\u001b[0marray\u001b[0m\u001b[1;33m(\u001b[0m\u001b[1;33m[\u001b[0m\u001b[1;33m[\u001b[0m\u001b[1;36m1\u001b[0m\u001b[1;33m,\u001b[0m\u001b[1;36m3\u001b[0m\u001b[1;33m,\u001b[0m\u001b[1;36m2\u001b[0m\u001b[1;33m,\u001b[0m\u001b[1;36m3\u001b[0m\u001b[1;33m,\u001b[0m\u001b[1;36m10\u001b[0m\u001b[1;33m]\u001b[0m\u001b[1;33m,\u001b[0m \u001b[1;33m[\u001b[0m\u001b[1;36m2\u001b[0m\u001b[1;33m,\u001b[0m\u001b[1;36m6\u001b[0m\u001b[1;33m,\u001b[0m\u001b[1;36m8\u001b[0m\u001b[1;33m,\u001b[0m\u001b[1;36m9\u001b[0m\u001b[1;33m,\u001b[0m\u001b[1;36m30\u001b[0m\u001b[1;33m]\u001b[0m\u001b[1;33m*\u001b[0m\u001b[1;36m2\u001b[0m\u001b[1;33m]\u001b[0m\u001b[1;33m)\u001b[0m\u001b[1;33m\u001b[0m\u001b[1;33m\u001b[0m\u001b[0m\n\u001b[1;32m----> 3\u001b[1;33m \u001b[0mc\u001b[0m \u001b[1;33m=\u001b[0m \u001b[0mnp\u001b[0m\u001b[1;33m.\u001b[0m\u001b[0mdivide\u001b[0m\u001b[1;33m(\u001b[0m\u001b[0ma\u001b[0m\u001b[1;33m,\u001b[0m\u001b[0mb\u001b[0m\u001b[1;33m)\u001b[0m\u001b[1;33m\u001b[0m\u001b[1;33m\u001b[0m\u001b[0m\n\u001b[0m\u001b[0;32m      4\u001b[0m \u001b[0mprint\u001b[0m\u001b[1;33m(\u001b[0m\u001b[0mc\u001b[0m\u001b[1;33m)\u001b[0m\u001b[1;33m\u001b[0m\u001b[1;33m\u001b[0m\u001b[0m\n",
      "\u001b[1;31mTypeError\u001b[0m: unsupported operand type(s) for /: 'list' and 'list'"
     ]
    }
   ],
   "source": [
    "a = np.array([[2,6,8,9,30], [2,6,8,9,30]*4])\n",
    "b = np.array([[1,3,2,3,10], [2,6,8,9,30]*2])\n",
    "c = np.divide(a,b)\n",
    "print(c)"
   ]
  },
  {
   "cell_type": "code",
   "execution_count": 24,
   "id": "c38af1ae-86d4-4261-bbee-944c04c5caf3",
   "metadata": {},
   "outputs": [
    {
     "name": "stdout",
     "output_type": "stream",
     "text": [
      "['La_sample', '_temp_xs.npy', 'runs11139-11412', 'runs11413-11726', 'runs11727-12033', 'runs12034-12363', 'runs12364-12684', 'runs13564-13604', 'runs13605-13735', 'runs13736-13851', 'runs88888-99999', 'testother', 'testother2', 'xs_cut.npy', 'xs_uncut.npy']\n",
      "La_sample\n",
      "runs12034-12363\n",
      "5\n",
      "6\n",
      "[[-3.69633597e-01 -2.63165523e+00 -3.56222096e-01 ...  7.36716205e-02\n",
      "  -2.55044314e-02 -1.71281466e-02]\n",
      " [ 6.17067505e-03 -1.30841489e+00  6.78591744e-01 ... -1.34713175e-04\n",
      "  -5.34848008e-02 -7.30152590e-02]\n",
      " [ 2.31972124e-02 -1.91469631e+00  5.00007395e-02 ... -2.82448048e-02\n",
      "  -3.13920185e-02 -3.43898985e-02]\n",
      " ...\n",
      " [ 8.50719814e-01  1.38581159e+00 -2.28252735e+00 ... -1.04070546e-02\n",
      "  -7.99308281e-02  2.57297331e-02]\n",
      " [-8.17663618e-03 -1.30692453e+00  3.52806129e+00 ...  2.36817996e-02\n",
      "  -3.65283320e-02 -3.03282009e-02]\n",
      " [ 4.34295148e-03  6.05849456e-02 -5.80115256e-02 ... -4.32947513e-03\n",
      "  -8.30378287e-03  1.41922170e-04]]\n",
      "2\n",
      "13\n",
      "8992\n",
      "runs12034-12363\n",
      "12034_asym_D.npy\n",
      "12035_asym_D.npy\n",
      "12036_asym_D.npy\n",
      "12037_asym_D.npy\n",
      "12038_asym_D.npy\n",
      "12039_asym_D.npy\n",
      "12040_asym_D.npy\n",
      "12041_asym_D.npy\n",
      "12042_asym_D.npy\n",
      "12043_asym_D.npy\n",
      "12044_asym_D.npy\n",
      "12045_asym_D.npy\n",
      "12046_asym_D.npy\n",
      "12047_asym_D.npy\n",
      "12048_asym_D.npy\n",
      "12049_asym_D.npy\n",
      "12050_asym_D.npy\n",
      "12051_asym_D.npy\n",
      "12052_asym_D.npy\n",
      "12053_asym_D.npy\n",
      "12054_asym_D.npy\n",
      "12055_asym_D.npy\n",
      "12056_asym_D.npy\n",
      "12057_asym_D.npy\n",
      "12058_asym_D.npy\n",
      "12059_asym_D.npy\n",
      "12060_asym_D.npy\n",
      "12061_asym_D.npy\n",
      "12062_asym_D.npy\n",
      "12063_asym_D.npy\n",
      "12064_asym_D.npy\n",
      "12065_asym_D.npy\n",
      "12066_asym_D.npy\n",
      "12067_asym_D.npy\n",
      "12068_asym_D.npy\n",
      "12069_asym_D.npy\n",
      "12070_asym_D.npy\n",
      "12071_asym_D.npy\n",
      "12072_asym_D.npy\n",
      "12073_asym_D.npy\n",
      "12074_asym_D.npy\n",
      "12075_asym_D.npy\n",
      "12076_asym_D.npy\n",
      "12077_asym_D.npy\n",
      "12078_asym_D.npy\n",
      "12079_asym_D.npy\n",
      "12080_asym_D.npy\n",
      "12081_asym_D.npy\n",
      "12082_asym_D.npy\n",
      "12083_asym_D.npy\n",
      "12084_asym_D.npy\n",
      "12085_asym_D.npy\n",
      "12086_asym_D.npy\n",
      "12087_asym_D.npy\n",
      "12088_asym_D.npy\n",
      "12089_asym_D.npy\n",
      "12090_asym_D.npy\n",
      "12091_asym_D.npy\n",
      "12092_asym_D.npy\n",
      "12093_asym_D.npy\n",
      "12094_asym_D.npy\n",
      "12095_asym_D.npy\n",
      "12096_asym_D.npy\n",
      "12097_asym_D.npy\n",
      "12098_asym_D.npy\n",
      "12099_asym_D.npy\n",
      "12100_asym_D.npy\n",
      "12101_asym_D.npy\n",
      "12102_asym_D.npy\n",
      "12103_asym_D.npy\n",
      "12104_asym_D.npy\n",
      "12105_asym_D.npy\n",
      "12106_asym_D.npy\n",
      "12107_asym_D.npy\n",
      "12108_asym_D.npy\n",
      "12109_asym_D.npy\n",
      "12110_asym_D.npy\n",
      "12111_asym_D.npy\n",
      "12112_asym_D.npy\n",
      "12113_asym_D.npy\n",
      "12114_asym_D.npy\n",
      "12115_asym_D.npy\n",
      "12116_asym_D.npy\n",
      "12117_asym_D.npy\n",
      "12118_asym_D.npy\n",
      "12119_asym_D.npy\n",
      "12120_asym_D.npy\n",
      "12121_asym_D.npy\n",
      "12122_asym_D.npy\n",
      "12123_asym_D.npy\n",
      "12124_asym_D.npy\n",
      "12125_asym_D.npy\n",
      "12126_asym_D.npy\n",
      "12127_asym_D.npy\n",
      "12128_asym_D.npy\n",
      "12129_asym_D.npy\n",
      "12130_asym_D.npy\n",
      "12131_asym_D.npy\n",
      "12132_asym_D.npy\n",
      "12133_asym_D.npy\n",
      "12134_asym_D.npy\n",
      "12135_asym_D.npy\n",
      "12136_asym_D.npy\n",
      "12137_asym_D.npy\n",
      "12138_asym_D.npy\n",
      "12139_asym_D.npy\n",
      "12140_asym_D.npy\n",
      "12141_asym_D.npy\n",
      "12142_asym_D.npy\n",
      "12143_asym_D.npy\n",
      "12144_asym_D.npy\n",
      "12145_asym_D.npy\n",
      "12146_asym_D.npy\n",
      "12147_asym_D.npy\n",
      "12148_asym_D.npy\n",
      "12149_asym_D.npy\n",
      "12150_asym_D.npy\n",
      "12151_asym_D.npy\n",
      "12152_asym_D.npy\n",
      "12153_asym_D.npy\n",
      "12154_asym_D.npy\n",
      "12155_asym_D.npy\n",
      "12156_asym_D.npy\n",
      "12157_asym_D.npy\n",
      "12158_asym_D.npy\n",
      "12159_asym_D.npy\n",
      "12160_asym_D.npy\n",
      "12161_asym_D.npy\n",
      "12162_asym_D.npy\n",
      "12163_asym_D.npy\n",
      "12164_asym_D.npy\n",
      "12165_asym_D.npy\n",
      "12166_asym_D.npy\n",
      "12167_asym_D.npy\n",
      "12168_asym_D.npy\n",
      "12169_asym_D.npy\n",
      "12170_asym_D.npy\n",
      "12171_asym_D.npy\n",
      "12172_asym_D.npy\n",
      "12173_asym_D.npy\n",
      "12174_asym_D.npy\n",
      "12175_asym_D.npy\n",
      "12176_asym_D.npy\n",
      "12177_asym_D.npy\n",
      "12178_asym_D.npy\n",
      "12179_asym_D.npy\n",
      "12180_asym_D.npy\n",
      "12181_asym_D.npy\n",
      "12182_asym_D.npy\n",
      "12183_asym_D.npy\n",
      "12184_asym_D.npy\n",
      "12185_asym_D.npy\n",
      "12186_asym_D.npy\n",
      "12187_asym_D.npy\n",
      "12188_asym_D.npy\n",
      "12189_asym_D.npy\n",
      "12190_asym_D.npy\n",
      "12191_asym_D.npy\n",
      "12192_asym_D.npy\n",
      "12193_asym_D.npy\n",
      "12194_asym_D.npy\n",
      "12195_asym_D.npy\n",
      "12196_asym_D.npy\n",
      "12197_asym_D.npy\n",
      "12198_asym_D.npy\n",
      "12199_asym_D.npy\n",
      "12200_asym_D.npy\n",
      "12201_asym_D.npy\n",
      "12202_asym_D.npy\n",
      "12203_asym_D.npy\n",
      "12204_asym_D.npy\n",
      "12205_asym_D.npy\n",
      "12206_asym_D.npy\n",
      "12207_asym_D.npy\n",
      "12208_asym_D.npy\n",
      "12209_asym_D.npy\n",
      "12210_asym_D.npy\n",
      "12211_asym_D.npy\n",
      "12212_asym_D.npy\n",
      "12213_asym_D.npy\n",
      "12214_asym_D.npy\n",
      "12215_asym_D.npy\n",
      "12216_asym_D.npy\n",
      "12217_asym_D.npy\n",
      "12218_asym_D.npy\n",
      "12219_asym_D.npy\n",
      "12220_asym_D.npy\n",
      "12221_asym_D.npy\n",
      "12222_asym_D.npy\n",
      "12223_asym_D.npy\n",
      "12224_asym_D.npy\n",
      "12225_asym_D.npy\n",
      "12226_asym_D.npy\n",
      "12227_asym_D.npy\n",
      "12228_asym_D.npy\n",
      "12229_asym_D.npy\n",
      "12230_asym_D.npy\n",
      "12231_asym_D.npy\n",
      "12232_asym_D.npy\n",
      "12233_asym_D.npy\n",
      "12234_asym_D.npy\n",
      "12235_asym_D.npy\n",
      "12236_asym_D.npy\n",
      "12237_asym_D.npy\n",
      "12238_asym_D.npy\n",
      "12239_asym_D.npy\n",
      "12240_asym_D.npy\n",
      "12241_asym_D.npy\n",
      "12242_asym_D.npy\n",
      "12243_asym_D.npy\n",
      "12244_asym_D.npy\n",
      "12245_asym_D.npy\n",
      "12246_asym_D.npy\n",
      "12247_asym_D.npy\n",
      "12248_asym_D.npy\n",
      "12249_asym_D.npy\n",
      "12250_asym_D.npy\n",
      "12251_asym_D.npy\n",
      "12252_asym_D.npy\n",
      "12253_asym_D.npy\n",
      "12254_asym_D.npy\n",
      "12255_asym_D.npy\n",
      "12256_asym_D.npy\n",
      "12257_asym_D.npy\n",
      "12258_asym_D.npy\n",
      "12259_asym_D.npy\n",
      "12260_asym_D.npy\n",
      "12261_asym_D.npy\n",
      "12262_asym_D.npy\n",
      "12263_asym_D.npy\n",
      "12264_asym_D.npy\n",
      "12265_asym_D.npy\n",
      "12266_asym_D.npy\n",
      "12267_asym_D.npy\n",
      "12268_asym_D.npy\n",
      "12269_asym_D.npy\n",
      "12270_asym_D.npy\n",
      "12271_asym_D.npy\n",
      "12272_asym_D.npy\n",
      "12273_asym_D.npy\n",
      "12274_asym_D.npy\n",
      "12275_asym_D.npy\n",
      "12276_asym_D.npy\n",
      "12277_asym_D.npy\n",
      "12278_asym_D.npy\n",
      "12279_asym_D.npy\n",
      "12280_asym_D.npy\n",
      "12281_asym_D.npy\n",
      "12282_asym_D.npy\n",
      "12283_asym_D.npy\n",
      "12284_asym_D.npy\n",
      "12285_asym_D.npy\n",
      "12286_asym_D.npy\n",
      "12287_asym_D.npy\n",
      "12288_asym_D.npy\n",
      "12289_asym_D.npy\n",
      "12290_asym_D.npy\n",
      "12291_asym_D.npy\n",
      "12292_asym_D.npy\n",
      "12293_asym_D.npy\n",
      "12294_asym_D.npy\n",
      "12295_asym_D.npy\n",
      "12296_asym_D.npy\n",
      "12297_asym_D.npy\n",
      "12298_asym_D.npy\n",
      "12299_asym_D.npy\n",
      "12300_asym_D.npy\n",
      "12301_asym_D.npy\n",
      "12302_asym_D.npy\n",
      "12303_asym_D.npy\n",
      "12304_asym_D.npy\n",
      "12305_asym_D.npy\n",
      "12306_asym_D.npy\n",
      "12307_asym_D.npy\n",
      "12308_asym_D.npy\n",
      "12309_asym_D.npy\n",
      "12310_asym_D.npy\n",
      "12311_asym_D.npy\n",
      "12312_asym_D.npy\n",
      "12313_asym_D.npy\n",
      "12314_asym_D.npy\n",
      "12315_asym_D.npy\n",
      "12316_asym_D.npy\n",
      "12317_asym_D.npy\n",
      "12318_asym_D.npy\n",
      "12319_asym_D.npy\n",
      "12320_asym_D.npy\n",
      "12321_asym_D.npy\n",
      "12322_asym_D.npy\n",
      "12323_asym_D.npy\n",
      "12324_asym_D.npy\n",
      "12325_asym_D.npy\n",
      "12326_asym_D.npy\n",
      "12327_asym_D.npy\n",
      "12328_asym_D.npy\n",
      "12329_asym_D.npy\n",
      "12330_asym_D.npy\n",
      "12331_asym_D.npy\n",
      "12332_asym_D.npy\n",
      "12333_asym_D.npy\n",
      "12334_asym_D.npy\n",
      "12335_asym_D.npy\n",
      "12336_asym_D.npy\n",
      "12337_asym_D.npy\n",
      "12338_asym_D.npy\n",
      "12339_asym_D.npy\n",
      "12340_asym_D.npy\n",
      "12341_asym_D.npy\n",
      "12342_asym_D.npy\n",
      "12343_asym_D.npy\n",
      "12344_asym_D.npy\n",
      "12345_asym_D.npy\n",
      "12346_asym_D.npy\n",
      "12347_asym_D.npy\n",
      "12348_asym_D.npy\n",
      "12349_asym_D.npy\n",
      "12350_asym_D.npy\n",
      "12351_asym_D.npy\n",
      "12352_asym_D.npy\n",
      "12353_asym_D.npy\n",
      "12354_asym_D.npy\n",
      "12355_asym_D.npy\n",
      "12356_asym_D.npy\n",
      "12357_asym_D.npy\n",
      "12358_asym_D.npy\n",
      "12359_asym_D.npy\n",
      "12360_asym_D.npy\n",
      "12361_asym_D.npy\n",
      "12362_asym_D.npy\n",
      "12363_asym_D.npy\n",
      "runs12364-12684\n",
      "12364_asym_D.npy\n",
      "12365_asym_D.npy\n",
      "12366_asym_D.npy\n",
      "12367_asym_D.npy\n",
      "12368_asym_D.npy\n",
      "12369_asym_D.npy\n",
      "12370_asym_D.npy\n",
      "12372_asym_D.npy\n",
      "12373_asym_D.npy\n",
      "12374_asym_D.npy\n",
      "12375_asym_D.npy\n",
      "12376_asym_D.npy\n",
      "12377_asym_D.npy\n",
      "12378_asym_D.npy\n",
      "12379_asym_D.npy\n",
      "12380_asym_D.npy\n",
      "12381_asym_D.npy\n",
      "12382_asym_D.npy\n",
      "12383_asym_D.npy\n",
      "12384_asym_D.npy\n",
      "12385_asym_D.npy\n",
      "12386_asym_D.npy\n",
      "12387_asym_D.npy\n",
      "12388_asym_D.npy\n",
      "12389_asym_D.npy\n",
      "12390_asym_D.npy\n",
      "12391_asym_D.npy\n",
      "12392_asym_D.npy\n",
      "12393_asym_D.npy\n",
      "12394_asym_D.npy\n",
      "12395_asym_D.npy\n",
      "12396_asym_D.npy\n",
      "12397_asym_D.npy\n",
      "12398_asym_D.npy\n",
      "12399_asym_D.npy\n",
      "12400_asym_D.npy\n",
      "12401_asym_D.npy\n",
      "12402_asym_D.npy\n",
      "12403_asym_D.npy\n",
      "12404_asym_D.npy\n",
      "12405_asym_D.npy\n",
      "12406_asym_D.npy\n",
      "12407_asym_D.npy\n",
      "12408_asym_D.npy\n",
      "12409_asym_D.npy\n",
      "12410_asym_D.npy\n",
      "12411_asym_D.npy\n",
      "12412_asym_D.npy\n",
      "12413_asym_D.npy\n",
      "12414_asym_D.npy\n",
      "12415_asym_D.npy\n",
      "12416_asym_D.npy\n",
      "12417_asym_D.npy\n",
      "12418_asym_D.npy\n",
      "12419_asym_D.npy\n",
      "12420_asym_D.npy\n",
      "12421_asym_D.npy\n",
      "12422_asym_D.npy\n",
      "12423_asym_D.npy\n",
      "12424_asym_D.npy\n",
      "12425_asym_D.npy\n",
      "12426_asym_D.npy\n",
      "12427_asym_D.npy\n",
      "12428_asym_D.npy\n",
      "12429_asym_D.npy\n",
      "12430_asym_D.npy\n",
      "12431_asym_D.npy\n",
      "12432_asym_D.npy\n",
      "12433_asym_D.npy\n",
      "12434_asym_D.npy\n",
      "12435_asym_D.npy\n",
      "12436_asym_D.npy\n",
      "12437_asym_D.npy\n",
      "12438_asym_D.npy\n",
      "12439_asym_D.npy\n",
      "12440_asym_D.npy\n",
      "12441_asym_D.npy\n",
      "12442_asym_D.npy\n",
      "12443_asym_D.npy\n",
      "12444_asym_D.npy\n",
      "12445_asym_D.npy\n",
      "12446_asym_D.npy\n",
      "12447_asym_D.npy\n",
      "12448_asym_D.npy\n",
      "12449_asym_D.npy\n",
      "12450_asym_D.npy\n",
      "12451_asym_D.npy\n",
      "12452_asym_D.npy\n",
      "12453_asym_D.npy\n",
      "12454_asym_D.npy\n",
      "12455_asym_D.npy\n",
      "12456_asym_D.npy\n",
      "12457_asym_D.npy\n",
      "12458_asym_D.npy\n",
      "12459_asym_D.npy\n",
      "12460_asym_D.npy\n",
      "12461_asym_D.npy\n",
      "12462_asym_D.npy\n",
      "12463_asym_D.npy\n",
      "12464_asym_D.npy\n",
      "12465_asym_D.npy\n",
      "12466_asym_D.npy\n",
      "12467_asym_D.npy\n",
      "12468_asym_D.npy\n",
      "12469_asym_D.npy\n",
      "12470_asym_D.npy\n",
      "12471_asym_D.npy\n",
      "12472_asym_D.npy\n",
      "12473_asym_D.npy\n",
      "12474_asym_D.npy\n",
      "12475_asym_D.npy\n",
      "12476_asym_D.npy\n",
      "12477_asym_D.npy\n",
      "12478_asym_D.npy\n",
      "12479_asym_D.npy\n",
      "12480_asym_D.npy\n",
      "12481_asym_D.npy\n",
      "12482_asym_D.npy\n",
      "12483_asym_D.npy\n",
      "12484_asym_D.npy\n",
      "12485_asym_D.npy\n",
      "12486_asym_D.npy\n",
      "12487_asym_D.npy\n",
      "12488_asym_D.npy\n",
      "12489_asym_D.npy\n",
      "12490_asym_D.npy\n",
      "12491_asym_D.npy\n",
      "12492_asym_D.npy\n",
      "12493_asym_D.npy\n",
      "12494_asym_D.npy\n",
      "12495_asym_D.npy\n",
      "12496_asym_D.npy\n",
      "12497_asym_D.npy\n",
      "12498_asym_D.npy\n",
      "12499_asym_D.npy\n",
      "12500_asym_D.npy\n",
      "12501_asym_D.npy\n",
      "12502_asym_D.npy\n",
      "12503_asym_D.npy\n",
      "12504_asym_D.npy\n",
      "12505_asym_D.npy\n",
      "12506_asym_D.npy\n",
      "12507_asym_D.npy\n",
      "12508_asym_D.npy\n",
      "12509_asym_D.npy\n",
      "12510_asym_D.npy\n",
      "12511_asym_D.npy\n",
      "12512_asym_D.npy\n",
      "12513_asym_D.npy\n",
      "12514_asym_D.npy\n",
      "12515_asym_D.npy\n",
      "12516_asym_D.npy\n",
      "12517_asym_D.npy\n",
      "12518_asym_D.npy\n",
      "12519_asym_D.npy\n",
      "12520_asym_D.npy\n",
      "12521_asym_D.npy\n",
      "12522_asym_D.npy\n",
      "12523_asym_D.npy\n",
      "12524_asym_D.npy\n",
      "12525_asym_D.npy\n",
      "12526_asym_D.npy\n",
      "12527_asym_D.npy\n",
      "12528_asym_D.npy\n",
      "12529_asym_D.npy\n",
      "12530_asym_D.npy\n",
      "12531_asym_D.npy\n",
      "12532_asym_D.npy\n",
      "12533_asym_D.npy\n",
      "12534_asym_D.npy\n",
      "12535_asym_D.npy\n",
      "12536_asym_D.npy\n",
      "12537_asym_D.npy\n",
      "12538_asym_D.npy\n",
      "12539_asym_D.npy\n",
      "12540_asym_D.npy\n",
      "12541_asym_D.npy\n",
      "12542_asym_D.npy\n",
      "12543_asym_D.npy\n",
      "12544_asym_D.npy\n",
      "12545_asym_D.npy\n",
      "12546_asym_D.npy\n",
      "12547_asym_D.npy\n",
      "12548_asym_D.npy\n",
      "12549_asym_D.npy\n",
      "12550_asym_D.npy\n",
      "12551_asym_D.npy\n",
      "12552_asym_D.npy\n",
      "12553_asym_D.npy\n",
      "12554_asym_D.npy\n",
      "12555_asym_D.npy\n",
      "12556_asym_D.npy\n",
      "12557_asym_D.npy\n",
      "12558_asym_D.npy\n",
      "12559_asym_D.npy\n",
      "12560_asym_D.npy\n",
      "12561_asym_D.npy\n",
      "12562_asym_D.npy\n",
      "12563_asym_D.npy\n",
      "12564_asym_D.npy\n",
      "12565_asym_D.npy\n",
      "12566_asym_D.npy\n",
      "12567_asym_D.npy\n",
      "12568_asym_D.npy\n",
      "12569_asym_D.npy\n",
      "12570_asym_D.npy\n",
      "12571_asym_D.npy\n",
      "12572_asym_D.npy\n",
      "12573_asym_D.npy\n",
      "12574_asym_D.npy\n",
      "12575_asym_D.npy\n",
      "12576_asym_D.npy\n",
      "12577_asym_D.npy\n",
      "12578_asym_D.npy\n",
      "12579_asym_D.npy\n",
      "12580_asym_D.npy\n",
      "12581_asym_D.npy\n",
      "12582_asym_D.npy\n",
      "12583_asym_D.npy\n",
      "12584_asym_D.npy\n",
      "12585_asym_D.npy\n",
      "12586_asym_D.npy\n",
      "12587_asym_D.npy\n",
      "12588_asym_D.npy\n",
      "12589_asym_D.npy\n",
      "12590_asym_D.npy\n",
      "12591_asym_D.npy\n",
      "12592_asym_D.npy\n",
      "12593_asym_D.npy\n",
      "12594_asym_D.npy\n",
      "12596_asym_D.npy\n",
      "12597_asym_D.npy\n",
      "12598_asym_D.npy\n",
      "12599_asym_D.npy\n",
      "12600_asym_D.npy\n",
      "12601_asym_D.npy\n",
      "12602_asym_D.npy\n",
      "12603_asym_D.npy\n",
      "12604_asym_D.npy\n",
      "12605_asym_D.npy\n",
      "12606_asym_D.npy\n",
      "12607_asym_D.npy\n",
      "12608_asym_D.npy\n",
      "12609_asym_D.npy\n",
      "12610_asym_D.npy\n",
      "12611_asym_D.npy\n",
      "12612_asym_D.npy\n",
      "12613_asym_D.npy\n",
      "12614_asym_D.npy\n",
      "12615_asym_D.npy\n",
      "12616_asym_D.npy\n",
      "12617_asym_D.npy\n",
      "12618_asym_D.npy\n",
      "12619_asym_D.npy\n",
      "12620_asym_D.npy\n",
      "12621_asym_D.npy\n",
      "12622_asym_D.npy\n",
      "12623_asym_D.npy\n",
      "12624_asym_D.npy\n",
      "12625_asym_D.npy\n",
      "12626_asym_D.npy\n",
      "12627_asym_D.npy\n",
      "12628_asym_D.npy\n",
      "12629_asym_D.npy\n",
      "12630_asym_D.npy\n",
      "12631_asym_D.npy\n",
      "12632_asym_D.npy\n",
      "12633_asym_D.npy\n",
      "12634_asym_D.npy\n",
      "12635_asym_D.npy\n",
      "12636_asym_D.npy\n",
      "12637_asym_D.npy\n",
      "12638_asym_D.npy\n",
      "12639_asym_D.npy\n",
      "12641_asym_D.npy\n",
      "12642_asym_D.npy\n",
      "12643_asym_D.npy\n",
      "12644_asym_D.npy\n",
      "12645_asym_D.npy\n",
      "12646_asym_D.npy\n",
      "12647_asym_D.npy\n",
      "12648_asym_D.npy\n",
      "12649_asym_D.npy\n",
      "12651_asym_D.npy\n",
      "12652_asym_D.npy\n",
      "12653_asym_D.npy\n",
      "12654_asym_D.npy\n",
      "12655_asym_D.npy\n",
      "12656_asym_D.npy\n",
      "12657_asym_D.npy\n",
      "12658_asym_D.npy\n",
      "12659_asym_D.npy\n",
      "12660_asym_D.npy\n",
      "12661_asym_D.npy\n",
      "12662_asym_D.npy\n",
      "12663_asym_D.npy\n",
      "12664_asym_D.npy\n",
      "12665_asym_D.npy\n",
      "12666_asym_D.npy\n",
      "12667_asym_D.npy\n",
      "12668_asym_D.npy\n",
      "12669_asym_D.npy\n",
      "12670_asym_D.npy\n",
      "12671_asym_D.npy\n",
      "12672_asym_D.npy\n",
      "12673_asym_D.npy\n",
      "12674_asym_D.npy\n",
      "12675_asym_D.npy\n",
      "12676_asym_D.npy\n",
      "12677_asym_D.npy\n",
      "12678_asym_D.npy\n",
      "12679_asym_D.npy\n",
      "12680_asym_D.npy\n",
      "12681_asym_D.npy\n",
      "12682_asym_D.npy\n",
      "12683_asym_D.npy\n",
      "12684_asym_D.npy\n"
     ]
    }
   ],
   "source": [
    "import os\n",
    "import numpy as np\n",
    "os.chdir('F:/LANL/processed_data/')\n",
    "\n",
    "searchfolder = 'F:/LANL/processed_data/'\n",
    "search_arr = sorted(os.listdir(os.getcwd()))\n",
    "print(search_arr)\n",
    "print(search_arr[0])\n",
    "folder_start = 'runs'+'12034-12363'\n",
    "folder_end = 'runs'+'12364-12684'\n",
    "# folder_end = 'testother2'\n",
    "print(folder_start)\n",
    "start_i = search_arr.index(folder_start)\n",
    "end_i = search_arr.index(folder_end)\n",
    "print(start_i)\n",
    "print(end_i)\n",
    "\n",
    "firstfile = sorted(os.listdir(searchfolder+folder_start+'/asym_D'))[0]\n",
    "arr_sizer = np.load(searchfolder+folder_start+'/asym_D/'+firstfile)\n",
    "print(arr_sizer)\n",
    "print(len(search_arr[start_i:end_i+1]))\n",
    "print(len(arr_sizer))\n",
    "print(len(arr_sizer[0]))\n",
    "# print(len(arr_size[0][0]))\n",
    "numruns = len(sorted(os.listdir(searchfolder+folder_start+'/asym_D')))\n",
    "# print(numruns)\n",
    "# run_asyms = np.zeros((numruns,len(arr_sizer),len(arr_sizer[0])), dtype=float)\n",
    "# print(len(run_asyms))\n",
    "# print(len(run_asyms[0]))\n",
    "# print(len(run_asyms[0][0]))\n",
    "\n",
    "folder_arr = []\n",
    "\n",
    "# dir = folder_start + folder_start\n",
    "for dir in search_arr[start_i:end_i+1]:\n",
    "    run_asyms = np.zeros((numruns,len(arr_sizer),len(arr_sizer[0])), dtype=float)\n",
    "    # folder_arr.append(run_asyms)\n",
    "    print(dir)\n",
    "    for file in ((sorted(os.listdir(searchfolder+dir+'/asym_D')))):\n",
    "        # print(file)\n",
    "        if file[-5] == 'U': ## Up and Down stream. Case sensitive!\n",
    "            print(file)\n",
    "        elif file[-5] == 'D':\n",
    "            ## add to downstream sums\n",
    "            print(file)\n",
    "            # print(os.listdir(searchfolder+dir+'/asym')[file]+'hihihi')\n",
    "        # if file.endswith == 'D.npy':\n",
    "        #     print(os.listdir(searchfolder+dir+'/asym')[file]+'hihihi')\n",
    "    #     run_asyms[file] = np.load(searchfolder+dir+'/asym/'+file)\n",
    "    # folder_arr.append(run_asyms)"
   ]
  },
  {
   "cell_type": "code",
   "execution_count": 3,
   "id": "7ed8f396-1d0a-4b4c-831f-efe3ad878a4d",
   "metadata": {},
   "outputs": [
    {
     "name": "stdout",
     "output_type": "stream",
     "text": [
      "Channel is [ 0  1  2  3  4  5  6  7  8  9 10 11 24]\n",
      "12.803877115249634\n"
     ]
    }
   ],
   "source": [
    "\n",
    "# In[13]:\n",
    "import sys\n",
    "import numpy as np\n",
    "import matplotlib.pyplot as plt\n",
    "#import uproot\n",
    "import pandas as pd\n",
    "import statistics as st\n",
    "import os\n",
    "from numba import njit\n",
    "import time\n",
    "from numba.core.errors import NumbaDeprecationWarning, NumbaPendingDeprecationWarning\n",
    "import warnings\n",
    "from loguru import logger\n",
    "\n",
    "warnings.simplefilter('ignore', category=NumbaDeprecationWarning)\n",
    "warnings.simplefilter('ignore', category=NumbaPendingDeprecationWarning)\n",
    "warnings.simplefilter(action='ignore', category=pd.errors.PerformanceWarning)\n",
    "\n",
    "# for arg in sys.argv:\n",
    "#     run_num=str(arg).zfill(5)\n",
    "#     # print(run_num)\n",
    "\n",
    "# chan_enab = int(sys.argv[-1])\n",
    "# run_start=str(sys.argv[1]).zfill(5)\n",
    "# run_end=str(sys.argv[2]).zfill(5)\n",
    "# run_num=str(sys.argv[3]).zfill(5)\n",
    "run_num = \"11164\" \n",
    "\n",
    "# print(os.getcwd())\n",
    "os.chdir('F:/LANL/')\n",
    "datadir = 'D:\\LANSCE_FP12_2023\\data/'\n",
    "folder = 'runs11139-11412/'\n",
    "SFNormFile = 'SF_Norm_files/'+folder+run_num\n",
    "# datadir = 'D:/LANSCE_FP12_2023/data/' ## add directory of hard drive\n",
    "# uniquefolder = \"runs\" + str(run_start) + \"-\" + str(run_end) +\"/\"\n",
    "# SFNormFile = 'SF_Norm_files/'+uniquefolder+run_num\n",
    "\n",
    "statefileloc = 'F:\\LANL\\SF_Norm_files\\TR_R_expected_avgs_stds_afterclip.csv'\n",
    "# processedpulsefolder = '/processed_data/'+uniquefolder+'pulses_added/'\n",
    "# processedasymfolder = '/processed_data/'+uniquefolder+'asym/'\n",
    "# AddedPulseSavename = processedpulsefolder+run_num+'_pulsesadded_d'\n",
    "# AsymSavename = processedasymfolder+run_num+'_asym_d'\n",
    "# logger.add(\"F:/LANL/processed_data/\" + uniquefolder + '0_ErrorLog_'+run_start+'_'+run_end+'.txt', delay = False)\n",
    "\n",
    "# print('processing data: ' + uniquefolder + '/run' + run_num)\n",
    "\n",
    "# AddedPulseSavename = processedpulsefolder+uniquefolder+run_num+'_pulsesadded_d'\n",
    "# AsymSavename = processedasymfolder+uniquefolder+run_num+'_asym_d'\n",
    "# print(os.getcwd()+processedpulsefolder)\n",
    "# if not os.path.exists(os.getcwd()+processedpulsefolder) or not os.path.exists(os.getcwd()+processedasymfolder):\n",
    "#     # Create the directory\n",
    "#     os.makedirs(os.getcwd()+processedpulsefolder)\n",
    "#     os.makedirs(os.getcwd()+processedasymfolder)\n",
    "#     print(\"Directory created successfully\")\n",
    "# else:\n",
    "#     pass\n",
    "\n",
    "# print(os.getcwd() + folder)\n",
    "\n",
    "# get_ipython().run_line_magic('matplotlib', 'qt')\n",
    "\n",
    "start = time.time()\n",
    "fullstart = time.time()\n",
    "\n",
    "## cannot handle all 24 detectors at once, memory issue... can look into np.empty and deleting variables if needed\n",
    "#chan_enab = np.array([0,1,2,3,4,5,6,7,8,9,10,11,12,13,14,15,16,17,18,19,20,21,22,23,24]) ## all\n",
    "chan_enab = np.array([0,1,2,3,4,5,6,7,8,9,10,11,24]) ## downstream\n",
    "#chan_enab = np.array([12,13,14,15,16,17,18,19,20,21,22,23,24]) ## upstream\n",
    "\n",
    "#@jit(nopython = True)\n",
    "# read_data = np.array([])\n",
    "# fileLength = np.array([])\n",
    "read_data = []\n",
    "fileLength = []\n",
    "\n",
    "\n",
    "def open_file():\n",
    "    for el in chan_enab:\n",
    "        f = open(datadir + folder + 'run' + run_num + \"_ch\" + str(el) + \".bin\", 'rb')\n",
    "        # f = open(datadir+uniquefolder + 'run' + str(run_num) + \"_ch\" +str(el) + \".bin\", 'rb')\n",
    "        read_data.append(np.fromfile(file=f, dtype=np.uint16))\n",
    "        f.close()\n",
    "        fileLength.append(len(read_data[-1]))\n",
    "    return read_data, fileLength\n",
    "\n",
    "open_file()\n",
    "\n",
    "fileLength = np.asarray(fileLength)\n",
    "read_data = np.asarray(read_data) ## in detector's case, all are the same size samples, so can do read_data as np array\n",
    "\n",
    "if chan_enab[-1] != 24:\n",
    "    emessage = ('last channel is not 6Li detector')\n",
    "    # logger.error(run_num + emessage)\n",
    "    raise Exception(emessage)\n",
    "\n",
    "end = time.time()\n",
    "# print('file open time: ' + str(end-start))            \n",
    "\n",
    "# print('saving processed data to ' + AsymSavename)\n",
    "print(\"Channel is \" + str(chan_enab))\n",
    "end = time.time()\n",
    "print(end-start)\n",
    "# print(read_data)\n",
    "\n",
    "\n",
    "# Store the big header for each channel in arrays\n"
   ]
  },
  {
   "cell_type": "code",
   "execution_count": null,
   "id": "0aa6a839",
   "metadata": {},
   "outputs": [],
   "source": [
    "import os\n",
    "import numpy as np\n",
    "import matplotlib.pyplot as plt\n",
    "\n",
    "# os.chdir('F:/LANL/processed_data/')\n",
    "# processedfolder = 'F:/LANL/processed_data/'\n",
    "\n",
    "os.chdir('C:/Users/gabeo/Desktop/analysis_temp/')\n",
    "# os.chdir('/mnt/c/Users/gabeo/Desktop/analysis_temp/')\n",
    "root = os.getcwd()\n",
    "\n",
    "processedfolder = '/processed_data/'\n",
    "   \n",
    "search_arr = sorted(os.listdir(root + processedfolder))\n",
    "print(search_arr)\n",
    "print(search_arr[0])\n",
    "folders_start = 'runs'+'12364-12684'\n",
    "# folders_end = 'runs'+'88888-99999'\n",
    "folders_end = 'testing'\n",
    "print(folders_start)\n",
    "start_i = search_arr.index(folders_start)\n",
    "end_i = search_arr.index(folders_end)\n",
    "print(start_i)\n",
    "print(end_i)\n",
    "print(len(search_arr[start_i:end_i+1]))\n",
    "firstfile = sorted(os.listdir(root+processedfolder+folders_start+'/asym_D/'))[0]\n",
    "arr_sizer = np.load(root+processedfolder+folders_start+'/asym_D/'+firstfile)\n",
    "# print(arr_sizer)\n",
    "print(len(arr_sizer))\n",
    "print(len(arr_sizer[0]))\n",
    "print(len(search_arr[start_i:end_i+1]))\n",
    "   \n",
    "runslist_D = np.zeros((len(search_arr[start_i:end_i+1]), numruns,len(arr_sizer),len(arr_sizer[0])), dtype=[int, in\n",
    "t, int, str]) ## num pulses, num channels, num points (one dataset per pulse per channel)\n",
    "runslist_F = runslist_D\n",
    "   \n",
    "for f in range(start_i, end_i):\n",
    "    print(f)\n",
    "    print(search_arr[f])\n",
    "    runslist_D[f] = sorted(os.listdir(root+processedfolder+folders_start+'/asym_D'))\n",
    "    runslist_U[f] = sorted(os.listdir(root+processedfolder+folders_start+'/asym_U'))\n",
    "\n",
    "numruns = len(runslist_U)\n",
    "print(numruns)\n",
    "# run_asyms_D = np.zeros((numruns,len(arr_sizer),len(arr_sizer[0])), dtype=float)\n",
    "# print(len(run_asyms_D))\n",
    "# print(len(run_asyms_D[0]))\n",
    "# print(len(run_asyms_D[0][0]))"
   ]
  },
  {
   "cell_type": "code",
   "execution_count": 2,
   "id": "7af9f97e-08f3-458c-b841-6811a08dec8b",
   "metadata": {},
   "outputs": [
    {
     "name": "stdout",
     "output_type": "stream",
     "text": [
      "Target is La\n"
     ]
    }
   ],
   "source": [
    "# In[14]:\n",
    "\n",
    "BoardID = []\n",
    "recordLength = []\n",
    "numSamples = []\n",
    "eventCounter = []\n",
    "decFactor = []\n",
    "chanDec = []\n",
    "postTrig = []\n",
    "groupStart = []\n",
    "groupEnd = []\n",
    "timestamp= []\n",
    "sizeFirstEvent = []\n",
    "TTT = []\n"
   ]
  },
  {
   "cell_type": "code",
   "execution_count": 3,
   "id": "84971117-756c-4294-944b-e0d373b75b68",
   "metadata": {},
   "outputs": [
    {
     "name": "stdout",
     "output_type": "stream",
     "text": [
      "dataread from binary time: 2.5880939960479736\n"
     ]
    }
   ],
   "source": [
    "# In[15]:\n",
    "\n",
    "preTime = []\n",
    "startTime = []\n",
    "endTime = []\n",
    "resolution = []\n",
    "xs = [] \n",
    "\n",
    "for i in range(0,len(chan_enab)):\n",
    "    preTime.append((100-postTrig[i])*recordLength[i]/100)\n",
    "    startTime.append((-1*preTime[i]*16*decFactor[i] + groupStart[i]*16*decFactor[i]))\n",
    "    endTime.append((-1*preTime[i]*16*decFactor[i] + groupEnd[i]*16*decFactor[i]))\n",
    "    resolution.append(16*chanDec[i]*decFactor[i])\n",
    "#     print(\"Pretime for channel\", chan_enab[i],\"is \" + str(preTime[i]) + \"; start time is \" + str(startTime[i]) + \"; end time is \" + str(endTime[i]) \n",
    "#           + \"; resolution is \" + str(resolution[i]) + \"ns\")\n",
    "    xs.append(np.arange(startTime[i],(numSamples[i])*resolution[i]+startTime[i], resolution[i]))\n",
    "\n",
    "#np.asarray(preTime)\n",
    "#np.asarray(startTime)\n",
    "#np.asarray(endTime)\n",
    "#np.asarray(resolution)\n",
    "xs = np.asarray(xs) ## can convert xs to np array here because all detectors same numsamples\n",
    "\n",
    "# In[16]:\n",
    "\n",
    "start=time.time()\n",
    "\n",
    "@njit\n",
    "def dataread(data, channels, fileLen, numSamps):\n",
    "    numRuns = int((fileLen[0]-20-numSamps[0])/(numSamps[0]+6)+1)\n",
    "    ys_arr = np.zeros((len(channels), numRuns,numSamps[0]), dtype=np.uint16)\n",
    "    ETTT_arr = np.zeros((len(channels), numRuns), dtype=np.intc)\n",
    "    eventcount_arr = np.zeros((len(channels), numRuns), dtype=np.intc)\n",
    "    for i in range(0,len(channels)):\n",
    "        eventCount = 0\n",
    "        byteCounter = 0\n",
    "            #byte counter is really 2bytecounter, lol\n",
    "        while byteCounter < fileLen[i]:\n",
    "            if byteCounter == 0:\n",
    "                ETTT_arr[i]=TTT[i]\n",
    "                #ETTT_arr[i].append(TTT[i])\n",
    "                eventcount_arr[i]=(eventCounter[i])\n",
    "                byteCounter = 20\n",
    "            else:\n",
    "                ETTT_arr[i]=(data[i][byteCounter]+(data[i][byteCounter+1]<<16)+(data[i][byteCounter+2]<<32))\n",
    "                eventcount_arr[i]=(data[i][byteCounter+4]+(data[i][byteCounter+5]<<16))\n",
    "                byteCounter += 6\n",
    "            for j in range(0, numSamps[i]):\n",
    "                #if j == 0:\n",
    "                    #ys_arr[i].append([])\n",
    "                #print(byteCounter)\n",
    "                ys_arr[i][eventCount][j]=data[i][byteCounter]\n",
    "                byteCounter += 1\n",
    "            eventCount += 1\n",
    "    return ys_arr, ETTT_arr, eventcount_arr\n",
    "\n",
    "#start=time.time()\n",
    "#ys_arrHe, ETTT_arrHe, eventcount_arrHe  = dataread(read_data, [25], fileLength, numSamples) ##hardcoded channel 25 for He\n",
    "ys_arr, ETTT_arr, eventcount_arr  = dataread(read_data, chan_enab, fileLength, numSamples) ##hardcoded channels for coils\n",
    "\n",
    "end = time.time()\n",
    "print('dataread from binary time: ' + str(end-start))            \n"
   ]
  },
  {
   "cell_type": "code",
   "execution_count": 4,
   "id": "bc7c0a2f-30dc-4788-8cfa-55bdf9b6172b",
   "metadata": {},
   "outputs": [],
   "source": [
    "# In[17]:\n",
    "timeDif=[]\n",
    "for i in range(0,len(chan_enab)):\n",
    "    timeDif.append([])\n",
    "    for j in range(len(ETTT_arr[i])-1):\n",
    "        timeDif[i].append((ETTT_arr[i][j+1]-ETTT_arr[i][j])*8)\n",
    "#     print(\"Min time difference for channel\", chan_enab[i], \"is\", min(timeDif[i]), \"ns\")\n",
    "#     print(\"Max time difference for channel\", chan_enab[i], \"is\", max(timeDif[i]), \"ns \\n\")\n",
    "#print(timeDif)\n",
    "# In[18]:\n",
    "\n",
    "## basesub and plotting ##\n",
    "baseL = 0\n",
    "baseR = int(((preTime[0]-groupStart[0])*0.70)/chanDec[0])\n",
    "numRuns = int((fileLength[0]-20-numSamples[0])/(numSamples[0]+6)+1)\n",
    "    \n",
    "legend =  ['NaI', 'R']\n",
    "\n",
    "start = time.time()\n",
    "\n",
    "s = 0 ## pulse to look at\n",
    "t=s+1\n",
    "\n",
    "## dont know why this is so slow ##\n",
    "def plotter(ys, xs, baseR, numpoints):\n",
    "    tempys_basesub = np.zeros((len(ys), numRuns,numpoints[0]), dtype=float)\n",
    "    for i in range((len(ys))):\n",
    "        for pulse in range((len(eventcount_arr[0]))): ## all have 5000 pulses\n",
    "            tempys_basesub[i][pulse]=np.subtract(ys[i][pulse], np.mean(ys[i][pulse][baseL:baseR]))\n",
    "        for j in range(s, t): ## plot only interested pulses\n",
    "            plt.plot(xs[i], tempys_basesub[i][j]) #label=legend[i]) #+str(sums[1][j])) ## sums[j] will not work for more than just TR   \n",
    "            plt.axvline(xs[0][baseL], ls = '--')\n",
    "            plt.axvline(xs[0][baseR], ls = '--')\n",
    "            #plt.axvline(xs[0][int(((preTime[0]-groupStart[0])*0.70)/chanDec[0])], ls = '--', c ='m')\n",
    "            plt.axvline(xs[0][baseR+5], ls = '--', c ='r') ## BaseR+5 line marks the beginning of the integral, until the end of samples.\n",
    "#             plt.title('SF state transition' + transitions[p]) \n",
    "#             plt.xlabel(\"time from trigger (ns)\")\n",
    "#             plt.ylabel(\"ADC\")\n",
    "            plt.legend()\n",
    "            \n",
    "#plotter(ys_arr[9:], xs[9:], baseR, numSamples) ##plot coils"
   ]
  },
  {
   "cell_type": "code",
   "execution_count": 5,
   "id": "63f91569-76f3-4556-8880-76cb3866f58c",
   "metadata": {},
   "outputs": [
    {
     "name": "stdout",
     "output_type": "stream",
     "text": [
      "plotting and/or base subtraction time: 4.809298276901245\n",
      "[[5 6 7 0 1 2 3 4 5 6 7 0 1 2 3 4 5 6 7 0 1 2 3 4 5 6 7 0 1 2 3 4 5 6 7 0\n",
      "  1 2 3 4 5 6 7 0 1 2 3 4 5 6 7 0 1 2 3 4 5 6 7 0 1 2 3 4 5 6 7 0 1 2 3 4\n",
      "  5 6 7 0 1 2 3 4 5 6 7 0 1 2 3 4 5 6 7 0 1 2 3 4 5 6 7 0 1 2 3 4 5 6 7 0\n",
      "  1 2 3 4]\n",
      " [0 45 90 135 180 225 270 315 360 405 450 495 540 585 630 675 720 765 810\n",
      "  855 900 945 990 1035 1080 1125 1170 1215 1260 1305 1350 1395 1440 1485\n",
      "  1530 1575 1620 1665 1710 1755 1800 1845 1890 1935 1980 2025 2070 2115\n",
      "  2160 2205 2250 2295 2340 2385 2430 2475 2520 2565 2610 2655 2700 2745\n",
      "  2790 2835 2880 2925 2970 3015 3060 3105 3150 3195 3240 3285 3330 3375\n",
      "  3420 3465 3510 3555 3600 3645 3690 3735 3780 3825 3870 3915 3960 4005\n",
      "  4050 4095 4140 4185 4230 4275 4320 4365 4410 4455 4500 4545 4590 4635\n",
      "  4680 4725 4770 4815 4860 4905 4950 4995]]\n",
      "112\n"
     ]
    }
   ],
   "source": [
    "ys_basesub = np.zeros((len(ys_arr), numRuns,numSamples[0]), dtype=np.float64)\n",
    "\n",
    "@njit ## jit is faster for large # channels, slower for small # channels\n",
    "def basesub(ys, baseRight, numpoints): \n",
    "    tempys_basesub = np.zeros((numRuns,numpoints[0]), dtype=np.float64)\n",
    "    for pulse in range((len(eventcount_arr[0]))): ## all have 5000 pulses\n",
    "        tempys_basesub[pulse]=np.subtract(ys[pulse], np.mean(ys[pulse][baseL:baseRight]))\n",
    "    return tempys_basesub\n",
    "\n",
    "## got rid of sums here, should be done after aligning and cutting\n",
    "## got rid of xs in basesub, don't think we need them as an input 06.10.24\n",
    "\n",
    "for i in range(len(ys_basesub)):\n",
    "    ys_basesub[i] = basesub(ys_arr[i], baseR, numSamples)\n",
    "\n",
    "ys_basesub[-1] = ys_basesub[-1]*-1 ## invert 6Li to positive signal. Comment out if not using\n",
    "\n",
    "end = time.time()\n",
    "print('plotting and/or base subtraction time: ' + str(end-start))            \n",
    "\n",
    "# ## Load SF Sorting and norm ##\n",
    "\n",
    "# In[19]:\n",
    "\n",
    "## Load in SF and He normalization information \n",
    "df_SF = pd.read_hdf(SFNormFile + '.h5', key='df_0')\n",
    "df_HE = pd.read_hdf(SFNormFile + '.h5', key='df_1')\n",
    "\n",
    "SF_Sort_arr = df_SF[['nicknames', 'transition_locations']].to_numpy().T\n",
    "He_Norm_arr = df_HE[['pulse', 'norms']].to_numpy().T\n",
    "\n",
    "print((SF_Sort_arr))\n",
    "print(len(SF_Sort_arr[1]))\n",
    "\n",
    "NormFactor = 100000  ## He integrals are huge, this normalizes all of those by a constant value for ease of use\n",
    "HeNorms= (He_Norm_arr[1])/NormFactor\n"
   ]
  },
  {
   "cell_type": "code",
   "execution_count": 11,
   "id": "e2768605-26a3-49e0-871b-827ff997f5f8",
   "metadata": {},
   "outputs": [
    {
     "name": "stdout",
     "output_type": "stream",
     "text": [
      "5000\n",
      "[1, 2, 3, 4, 5, 6, 7, 8, 9, 10, 11, 12, 13]\n",
      "3\n",
      "[[6, 7, 0, 1, 2, 3, 4, 5], [6, 7, 0, 1, 2, 3, 4, 5], [6, 7, 0, 1, 2, 3, 4, 5], [6, 7, 0, 1, 2, 3, 4, 5], [6, 7, 0, 1, 2, 3, 4, 5], [6, 7, 0, 1, 2, 3, 4, 5], [6, 7, 0, 1, 2, 3, 4, 5], [6, 7, 0, 1, 2, 3, 4, 5], [6, 7, 0, 1, 2, 3, 4, 5], [6, 7, 0, 1, 2, 3, 4, 5], [6, 7, 0, 1, 2, 3, 4, 5], [6, 7, 0, 1, 2, 3, 4, 5], [6, 7, 0, 1, 2, 3, 4, 5]]\n",
      "[[14], [[6, 7, 0, 1, 2, 3, 4]], [[[4685, 4725], [4730, 4770], [4775, 4815], [4820, 4860], [4865, 4905], [4910, 4950], [4955, 4995]]]]\n",
      "sequences [1, 2, 3, 4, 5, 6, 7, 8, 9, 10, 11, 12, 13]\n",
      "sequence order: [6, 7, 0, 1, 2, 3, 4, 5]\n"
     ]
    }
   ],
   "source": [
    "# In[20]:\n",
    "\n",
    "# for ind in df.index:\n",
    "#     print('transition: '+ str(df['nicknames'][ind]) + ' location: ' + str(df['transition_locations'][ind]))\n",
    "#print(df['transition_locations'],df['nicknames'] )\n",
    "\n",
    "# try:\n",
    "## this could probably be prettier, but it seems to work...\n",
    "def organize_SF(SFsort_info): ## sometimes pulse 0 has the state switch. In that case, need to account by if clauses below\n",
    "    counter = 0\n",
    "    seq = 0\n",
    "    seq_arr = ([[],[],[]])\n",
    "    smallerseq = []\n",
    "    smallerstateis = []\n",
    "    for i in range(len(SFsort_info[1])-(np.mod((len(SFsort_info[1])), 8))):  ##111 mod 8 = 7, so essentially 111-7 = 104\n",
    "        counter = counter+1\n",
    "        if counter < 8:\n",
    "            if (SF_Sort_arr[1][i]) == 0:\n",
    "                smallerstateis.append([(SFsort_info[1][i])+5,(SFsort_info[1][i+1])])\n",
    "                smallerseq.append(SFsort_info[0][i+1])\n",
    "                seq = seq+1\n",
    "                continue\n",
    "            smallerstateis.append([(SFsort_info[1][i])+5,(SFsort_info[1][i+1])])\n",
    "            smallerseq.append(SFsort_info[0][i+1])\n",
    "            # print(SF_Sort_arr[0][i+1])\n",
    "            # print(smallerseq)\n",
    "        elif counter == 8:\n",
    "            if ((SF_Sort_arr[1][i])+5) == 5000:\n",
    "                print(((SF_Sort_arr[1][i])+5))\n",
    "                seq = seq+1\n",
    "                seq_arr[0].append(seq)\n",
    "                seq_arr[1].append(smallerseq)   \n",
    "                seq_arr[2].append(smallerstateis)\n",
    "                seq_arr[0] = [x-1 for x in seq_arr[0]] ## reset to sequences are 1-14 instead of 2-15\n",
    "                break\n",
    "            seq = seq+1\n",
    "            smallerstateis.append([(SFsort_info[1][i])+5,(SFsort_info[1][i+1])])\n",
    "            smallerseq.append(SFsort_info[0][i+1])\n",
    "            seq_arr[0].append(seq)\n",
    "            seq_arr[1].append(smallerseq)   \n",
    "            seq_arr[2].append(smallerstateis)\n",
    "            smallerseq = []\n",
    "            smallerstateis = []\n",
    "            counter  = 0\n",
    "    return seq_arr\n",
    "\n",
    "def find_leftover(SFsort_info, seq_arr):\n",
    "    left = [[seq_arr[0][-1]+1],[],[]]\n",
    "    counter = 0\n",
    "    for i in range((len(SFsort_info[1])-(np.mod((len(SFsort_info[1])), 8))), len(SFsort_info[1])-1):\n",
    "        counter = counter+1\n",
    "        if counter < 8:\n",
    "            left[1].append(SFsort_info[0][i+1])\n",
    "            left[2].append([(SFsort_info[1][i])+5,(SFsort_info[1][i+1])])\n",
    "    return left\n",
    "\n",
    "#try:\n",
    "sequence = organize_SF(SF_Sort_arr)\n",
    "if len(sequence[0]) == 14:\n",
    "    leftovers = [[sequence[0][-1]],[sequence[1][-1]],[sequence[2][-1]]]\n",
    "    for i in range(len(sequence)):\n",
    "        sequence[i].pop(-1)\n",
    "else:\n",
    "    leftovers = find_leftover(SF_Sort_arr, sequence)\n",
    "\n",
    "# except Exception as e:\n",
    "#     logger.error(run_num + ' failed during sequencing')\n",
    "#     logger.exception(e)\n",
    "\n",
    "print((sequence[0]))\n",
    "print(len(sequence))\n",
    "print((sequence[1]))\n",
    "    \n",
    "        # sequence[i] = sequence[i].pop(-1)\n",
    "# leftovers = [[sequence[0][-1]+1],[],[]]\n",
    "\n",
    "# except Exception as e:\n",
    "#     logger.error(run_num + ' failed during leftovers sequencing')\n",
    "#     logger.exception(e)\n",
    "# leftovers = find_leftover(SF_Sort_arr)\n",
    "\n",
    "print(leftovers)\n",
    "\n",
    "print('sequences '+str(sequence[0]))\n",
    "print('sequence order: '+str(sequence[1][0]))\n",
    "# print(leftovers)\n"
   ]
  },
  {
   "cell_type": "code",
   "execution_count": 13,
   "id": "eec1d945-1459-4326-8ce9-8ac2ecdb0e98",
   "metadata": {},
   "outputs": [
    {
     "name": "stdout",
     "output_type": "stream",
     "text": [
      "[1, 2, 3, 4, 5, 6, 7, 8, 9, 10, 11, 12, 13]\n",
      "[[6, 7, 0, 1, 2, 3, 4, 5], [6, 7, 0, 1, 2, 3, 4, 5], [6, 7, 0, 1, 2, 3, 4, 5], [6, 7, 0, 1, 2, 3, 4, 5], [6, 7, 0, 1, 2, 3, 4, 5], [6, 7, 0, 1, 2, 3, 4, 5], [6, 7, 0, 1, 2, 3, 4, 5], [6, 7, 0, 1, 2, 3, 4, 5], [6, 7, 0, 1, 2, 3, 4, 5], [6, 7, 0, 1, 2, 3, 4, 5], [6, 7, 0, 1, 2, 3, 4, 5], [6, 7, 0, 1, 2, 3, 4, 5], [6, 7, 0, 1, 2, 3, 4, 5]]\n",
      "13\n",
      "13\n",
      "13\n",
      "[[5, 45], [50, 90], [95, 135], [140, 180], [185, 225], [230, 270], [275, 315], [320, 360]]\n",
      "[[4325, 4365], [4370, 4410], [4415, 4455], [4460, 4500], [4505, 4545], [4550, 4590], [4595, 4635], [4640, 4680]]\n",
      "5\n",
      "45\n"
     ]
    }
   ],
   "source": [
    "print(sequence[0])\n",
    "print(sequence[1])\n",
    "print(len(sequence[0]))\n",
    "print(len(sequence[1]))\n",
    "print(len(sequence[2]))\n",
    "print((sequence[2][0]))\n",
    "print((sequence[2][-1]))\n",
    "print((SF_Sort_arr[1][0])+5)\n",
    "print(SF_Sort_arr[1][0+1])"
   ]
  },
  {
   "cell_type": "code",
   "execution_count": null,
   "id": "8ca8398d-4b3c-4022-820f-d4dd8a5238c2",
   "metadata": {},
   "outputs": [],
   "source": []
  }
 ],
 "metadata": {
  "kernelspec": {
   "display_name": "Python 3 (ipykernel)",
   "language": "python",
   "name": "python3"
  },
  "language_info": {
   "codemirror_mode": {
    "name": "ipython",
    "version": 3
   },
   "file_extension": ".py",
   "mimetype": "text/x-python",
   "name": "python",
   "nbconvert_exporter": "python",
   "pygments_lexer": "ipython3",
   "version": "3.9.13"
  }
 },
 "nbformat": 4,
 "nbformat_minor": 5
}
