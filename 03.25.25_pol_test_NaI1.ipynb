{
 "cells": [
  {
   "cell_type": "code",
   "execution_count": 1,
   "metadata": {},
   "outputs": [
    {
     "name": "stdout",
     "output_type": "stream",
     "text": [
      "processing data: debug_sample/runs07862-08069//run07862\n",
      "saving processed data to F:/LANL/testing_asyms\n",
      "Channel is [ 0  1  2  3  4  5  6  7  8  9 10 11 24]\n"
     ]
    }
   ],
   "source": [
    "import sys\n",
    "import numpy as np\n",
    "import matplotlib.pyplot as plt\n",
    "#import uproot\n",
    "import pandas as pd\n",
    "import statistics as st\n",
    "import os\n",
    "from numba import njit\n",
    "import time\n",
    "from numba.core.errors import NumbaDeprecationWarning, NumbaPendingDeprecationWarning\n",
    "import warnings\n",
    "from loguru import logger\n",
    "from datetime import datetime\n",
    "import h5py\n",
    "import gzip\n",
    "\n",
    "# warnings.simplefilter('ignore', category=NumbaDeprecationWarning)\n",
    "# warnings.simplefilter('ignore', category=NumbaPendingDeprecationWarning)\n",
    "# warnings.simplefilter(action='ignore', category=pd.errors.PerformanceWarning)\n",
    "\n",
    "############## real running ##############\n",
    "\n",
    "# for arg in sys.argv:\n",
    "#     run_num=str(arg).zfill(5)\n",
    "#     # print(run_num)\n",
    "\n",
    "# chan_enab = int(sys.argv[-1])\n",
    "# run_start=str(sys.argv[1]).zfill(5)\n",
    "# run_end=str(sys.argv[2]).zfill(5)\n",
    "# run_num=str(sys.argv[3]).zfill(5)\n",
    "\n",
    "# os.chdir('F:/LANL/')\n",
    "# datadir = 'D:/LANSCE_FP12_2023/data/' ## add directory of hard drive\n",
    "# uniquefolder = \"runs\" + str(run_start) + \"-\" + str(run_end) +\"/\"\n",
    "# SFNormFile = 'SF_Norm_files/'+uniquefolder+run_num\n",
    "# statefileloc = 'F:\\LANL\\SF_Norm_files\\TR_R_expected_avgs_stds_afterclip.csv'\n",
    "# processedONOFFfolder = '/processed_data/'+uniquefolder+'ONOFF_D/'\n",
    "# processedasymfolder = '/processed_data/'+uniquefolder+'asym_D/'\n",
    "# processedasymfolder_bg = '/processed_data/'+uniquefolder+'asym_bg_D/'\n",
    "# ONOFFSavename = os.getcwd()+processedONOFFfolder+run_num+'_ONOFF_D'\n",
    "# AsymSavename = os.getcwd()+processedasymfolder+run_num+'_asym_D'\n",
    "# AsymSavename_bg = os.getcwd()+processedasymfolder_bg+run_num+'_asym_bg_D'\n",
    "# logger.add(\"F:/LANL/processed_data/\" + uniquefolder + '0_ErrorLog_'+run_start+'_'+run_end+'_D.txt', delay = False)\n",
    "\n",
    "# if not os.path.exists(os.getcwd()+processedONOFFfolder) or not os.path.exists(os.getcwd()+processedasymfolder) or not os.path.exists(os.getcwd()+processedasymfolder_bg):\n",
    "#     # Create the directory\n",
    "#     os.makedirs(os.getcwd()+processedONOFFfolder)\n",
    "#     os.makedirs(os.getcwd()+processedasymfolder)\n",
    "#     os.makedirs(os.getcwd()+processedasymfolder_bg)\n",
    "#     print(\"Directory created successfully\")\n",
    "# else:\n",
    "#     pass\n",
    "\n",
    "############## test running ##############\n",
    "\n",
    "run_num = '07862'\n",
    "os.chdir('F:/LANL/')\n",
    "datadir = 'sample_data/'\n",
    "runs_folder = 'runs07862-08069/'\n",
    "uniquefolder = 'debug_sample/'+runs_folder\n",
    "# uniquefolder = 'La_sample/'\n",
    "SFNormFile = 'SF_Norm_files/'+'runs07862-08069/'+run_num\n",
    "# SFNormFile = 'SF_Norm_files/'+runs_folder+run_num\n",
    "# AsymSavename = '****testing testing testing'\n",
    "ONOFFSavename = 'F:/LANL/testing_ONOFF'\n",
    "AsymSavename = 'F:/LANL/testing_asyms'\n",
    "\n",
    "##########################################\n",
    "\n",
    "# cannot handle all 24 detectors at once, memory issue... can look into np.empty and deleting variables if needed ##\n",
    "# chan_enab = np.array([0,1,2,3,4,5,6,7,8,9,10,11,12,13,14,15,16,17,18,19,20,21,22,23,24]) ## all\n",
    "\n",
    "## added 3He and La Puck below 03.25.25\n",
    "chan_enab = np.array([0,1,2,3,4,5,6,7,8,9,10,11,24]) ## downstream\n",
    "# chan_enab = np.array([12,13,14,15,16,17,18,19,20,21,22,23,24]) ## upstream\n",
    "chan_enab_He = np.array([25]) ## downstream\n",
    "\n",
    "\n",
    "print('processing data: ' + uniquefolder + '/run' + run_num)\n",
    "\n",
    "# print(os.getcwd() + folder)\n",
    "\n",
    "start = time.time()\n",
    "fullstart = time.time()\n",
    "\n",
    "read_data = []\n",
    "fileLength = []\n",
    "\n",
    "def open_file():\n",
    "    for el in chan_enab:\n",
    "        # f = open(datadir + folder + 'run' + run_num + \"_ch\" + str(el) + \".bin\", 'rb')\n",
    "        f = open(datadir+uniquefolder + 'run' + str(run_num) + \"_ch\" +str(el) + \".bin\", 'rb')\n",
    "        read_data.append(np.fromfile(file=f, dtype=np.uint16))\n",
    "        f.close()\n",
    "        fileLength.append(len(read_data[-1]))\n",
    "    return read_data, fileLength\n",
    "\n",
    "open_file()\n",
    "\n",
    "fileLength = np.asarray(fileLength)\n",
    "read_data = np.asarray(read_data) ## in detector's case, all are the same size samples, so can do read_data as np array\n",
    "\n",
    "########### New 3He check ###################\n",
    "\n",
    "read_data_He = []\n",
    "fileLength_He = []\n",
    "\n",
    "for el in chan_enab_He:\n",
    "    # f = open(datadir + folder + 'run' + run_num + \"_ch\" + str(el) + \".bin\", 'rb')\n",
    "    f = open(datadir+uniquefolder + 'run' + str(run_num) + \"_ch\" +str(el) + \".bin\", 'rb')\n",
    "    read_data_He.append(np.fromfile(file=f, dtype=np.uint16))\n",
    "    f.close()\n",
    "    fileLength_He.append(len(read_data[-1]))\n",
    "# return read_data_He, fileLength_He\n",
    "\n",
    "fileLength_He = np.asarray(fileLength_He)\n",
    "read_data_He = np.asarray(read_data_He)\n",
    "\n",
    "##########################################\n",
    "\n",
    "if chan_enab[-1] != 24:\n",
    "    emessage = ('last channel is not 6Li detector')\n",
    "    logger.error('run '+run_num + emessage)\n",
    "    raise Exception(emessage)\n",
    "\n",
    "end = time.time()\n",
    "\n",
    "# print('file open time: ' + str(end-start))            \n",
    "print('saving processed data to ' + AsymSavename)\n",
    "print(\"Channel is \" + str(chan_enab))"
   ]
  },
  {
   "cell_type": "code",
   "execution_count": 2,
   "metadata": {},
   "outputs": [
    {
     "name": "stdout",
     "output_type": "stream",
     "text": [
      "Target is empty\n"
     ]
    }
   ],
   "source": [
    "# Store the big header for each channel in arrays\n",
    "\n",
    "BoardID = []\n",
    "recordLength = []\n",
    "numSamples = []\n",
    "eventCounter = []\n",
    "decFactor = []\n",
    "chanDec = []\n",
    "postTrig = []\n",
    "groupStart = []\n",
    "groupEnd = []\n",
    "timestamp= []\n",
    "sizeFirstEvent = []\n",
    "TTT = []\n",
    "\n",
    "targetDict = {0: \"La\", 1: \"Tb2O3\", 2: \"Yb2O3\", 3: \"Sm2O3\", 4: \"Er2O3\", 5: \"Ho2O3\", 6: \"other\"}\n",
    "foilDict = {0: \"TBD\", 1: \"TBD\", 2: \"TBD\", 3: \"TBD\", 4: \"TBD\", 5: \"TBD\", 6: \"other\"}\n",
    "\n",
    "target=(read_data[0][5]&0x00F0)>>4\n",
    "foil=read_data[0][5]&0x000F\n",
    "targetFlag = read_data[0][5]>>8&1\n",
    "foilFlag = read_data[0][5]>>9&1\n",
    "spinFiltFlag = read_data[0][5]>>10&1\n",
    "spinFlipFlag = read_data[0][5]>>11&1\n",
    "shutterFlag = read_data[0][5]>>12&1\n",
    "facilityTrigFlag = read_data[0][5]>>13&1\n",
    "\n",
    "if targetFlag:\n",
    "    target=targetDict[(read_data[0][5]&0x00F0)>>4]\n",
    "else:\n",
    "    target = \"empty\"\n",
    "if foilFlag:\n",
    "    foil=foilDict[read_data[0][5]&0x000F]\n",
    "else:\n",
    "    foil = \"empty\"\n",
    "for i in range(0,len(chan_enab)):\n",
    "    BoardID.append(read_data[i][9]>>8)\n",
    "    recordLength.append(((read_data[i][9]&0x00FF)<<16)+read_data[i][8])\n",
    "    numSamples.append(((read_data[i][11]&0x00FF)<<16)+read_data[i][10])\n",
    "    eventCounter.append(read_data[i][6]+(read_data[i][7]<<16))\n",
    "    BoardID.append(read_data[i][9]>>8)  \n",
    "    decFactor.append(read_data[i][11]>>8)\n",
    "    chanDec.append(read_data[i][13]>>8)\n",
    "    postTrig.append(read_data[i][15]>>8)\n",
    "    groupStart.append(((read_data[i][13]&0x00FF)<<16)+read_data[i][12])\n",
    "    groupEnd.append(((read_data[i][15]&0x00FF)<<16)+read_data[i][14])\n",
    "    \n",
    "    timestamp.append(read_data[i][16]+(read_data[i][17]<<16)+(read_data[i][18]<<32)+(read_data[i][19]<<40))  \n",
    "    sizeFirstEvent.append(read_data[i][0]+(read_data[i][1]<<16))\n",
    "    TTT.append(read_data[i][2]+(read_data[i][3]<<16)+(read_data[i][4]<<32))\n",
    "    \n",
    "#     print(\"For channel \" + str(chan_enab[i]) + \", BoardID is \" + str(BoardID[i])\n",
    "#           + \"; record length is \" + str(recordLength[i]) + \"; num Samples is \" \n",
    "#           + str(numSamples[i]) + \"; event counter is \" + str(eventCounter[i]) + \"; dec factor is \" + str(decFactor[i]) + \"; chan dec is \" \n",
    "#           + str(chanDec[i]) + \"; postTrig is \" + str(postTrig[i]) + \"; group start is \" + str(groupStart[i]) + \"; group end is \" + str(groupEnd[i])\n",
    "#           + \"; epoch time is \" + str(timestamp[i]) +  \"; first event size is \" + str(sizeFirstEvent[i]) + \"; and ETTT is \" + str(TTT[i]) + \"\\n\")\n",
    "\n",
    "BoardID = np.asarray(BoardID) \n",
    "recordLength = np.asarray(recordLength)\n",
    "numSamples = np.asarray(numSamples)\n",
    "eventCounter = np.asarray(eventCounter)\n",
    "decFactor = np.asarray(decFactor)\n",
    "chanDec = np.asarray(chanDec)\n",
    "postTrig = np.asarray(postTrig)\n",
    "groupStart = np.asarray(groupStart)\n",
    "groupEnd = np.asarray(groupEnd)\n",
    "timestamp = np.asarray(timestamp)\n",
    "sizeFirstEvent = np.asarray(sizeFirstEvent)\n",
    "TTT = np.asarray(TTT)\n",
    "\n",
    "print(\"Target is \" + target)\n",
    "# print(\"Foil is \" + foil)\n",
    "# print(\"Shutter is open: \" + str(bool(shutterFlag)))\n",
    "# print(\"Facility t0 is on: \" + str(bool(facilityTrigFlag)))\n",
    "# print(\"Spin flipper is on: \" + str(bool(spinFlipFlag)))\n",
    "# print(\"Spin filter is on: \" + str(bool(spinFiltFlag)))\n",
    "# print(\"Target is present: \" + str(bool(targetFlag)))\n",
    "# print(\"Foil is present: \" + str(bool(foilFlag)))"
   ]
  },
  {
   "cell_type": "code",
   "execution_count": 3,
   "metadata": {},
   "outputs": [],
   "source": [
    "# Determine the time axis for each channel\n",
    "\n",
    "preTime = []\n",
    "startTime = []\n",
    "endTime = []\n",
    "resolution = []\n",
    "xs = [] \n",
    "\n",
    "for i in range(0,len(chan_enab)):\n",
    "    preTime.append((100-postTrig[i])*recordLength[i]/100)\n",
    "    startTime.append((-1*preTime[i]*16*decFactor[i] + groupStart[i]*16*decFactor[i]))\n",
    "    endTime.append((-1*preTime[i]*16*decFactor[i] + groupEnd[i]*16*decFactor[i]))\n",
    "    resolution.append(16*chanDec[i]*decFactor[i])\n",
    "#     print(\"Pretime for channel\", chan_enab[i],\"is \" + str(preTime[i]) + \"; start time is \" + str(startTime[i]) + \"; end time is \" + str(endTime[i]) \n",
    "#           + \"; resolution is \" + str(resolution[i]) + \"ns\")\n",
    "    xs.append(np.arange(startTime[i],(numSamples[i])*resolution[i]+startTime[i], resolution[i]))\n",
    "\n",
    "np.asarray(preTime)\n",
    "np.asarray(startTime)\n",
    "np.asarray(endTime)\n",
    "np.asarray(resolution)\n",
    "\n",
    "xs = np.asarray(xs) ## can convert xs to np array here because all detectors same numsamples"
   ]
  },
  {
   "cell_type": "code",
   "execution_count": 4,
   "metadata": {},
   "outputs": [
    {
     "name": "stderr",
     "output_type": "stream",
     "text": [
      "C:\\Users\\gabeo\\anaconda3\\lib\\site-packages\\numba\\core\\ir_utils.py:2152: NumbaPendingDeprecationWarning: \u001b[1m\n",
      "Encountered the use of a type that is scheduled for deprecation: type 'reflected list' found for argument 'channels' of function 'dataread'.\n",
      "\n",
      "For more information visit https://numba.readthedocs.io/en/stable/reference/deprecation.html#deprecation-of-reflection-for-list-and-set-types\n",
      "\u001b[1m\n",
      "File \"C:\\Users\\gabeo\\AppData\\Local\\Temp\\ipykernel_23056\\2559654803.py\", line 4:\u001b[0m\n",
      "\u001b[1m@njit\n",
      "\u001b[1mdef dataread(data, channels, fileLen, numSamps):\n",
      "\u001b[0m\u001b[1m^\u001b[0m\u001b[0m\n",
      "\u001b[0m\n",
      "  warnings.warn(NumbaPendingDeprecationWarning(msg, loc=loc))\n"
     ]
    },
    {
     "name": "stdout",
     "output_type": "stream",
     "text": [
      "dataread from binary time: 2.44767427444458\n"
     ]
    }
   ],
   "source": [
    "start=time.time()\n",
    "\n",
    "@njit\n",
    "def dataread(data, channels, fileLen, numSamps):\n",
    "    numRuns = int((fileLen[0]-20-numSamps[0])/(numSamps[0]+6)+1)\n",
    "    ys_arr = np.zeros((len(channels), numRuns,numSamps[0]), dtype=np.uint16)\n",
    "    ETTT_arr = np.zeros((len(channels), numRuns), dtype=np.intc)\n",
    "    eventcount_arr = np.zeros((len(channels), numRuns), dtype=np.intc)\n",
    "    for i in range(0,len(channels)):\n",
    "        eventCount = 0\n",
    "        byteCounter = 0\n",
    "            #byte counter is really 2bytecounter, lol\n",
    "        while byteCounter < fileLen[i]:\n",
    "            if byteCounter == 0:\n",
    "                ETTT_arr[i]=TTT[i]\n",
    "                #ETTT_arr[i].append(TTT[i])\n",
    "                eventcount_arr[i]=(eventCounter[i])\n",
    "                byteCounter = 20\n",
    "            else:\n",
    "                ETTT_arr[i]=(data[i][byteCounter]+(data[i][byteCounter+1]<<16)+(data[i][byteCounter+2]<<32))\n",
    "                eventcount_arr[i]=(data[i][byteCounter+4]+(data[i][byteCounter+5]<<16))\n",
    "                byteCounter += 6\n",
    "            for j in range(0, numSamps[i]):\n",
    "                #if j == 0:\n",
    "                    #ys_arr[i].append([])\n",
    "                #print(byteCounter)\n",
    "                ys_arr[i][eventCount][j]=data[i][byteCounter]\n",
    "                byteCounter += 1\n",
    "            eventCount += 1\n",
    "    return ys_arr, ETTT_arr, eventcount_arr\n",
    "\n",
    "start=time.time()\n",
    "ys_arrHe, ETTT_arrHe, eventcount_arrHe  = dataread(read_data, [25], fileLength, numSamples) ##hardcoded channel 25 for He\n",
    "ys_arr, ETTT_arr, eventcount_arr  = dataread(read_data, chan_enab, fileLength, numSamples) ##hardcoded channels for coils\n",
    "\n",
    "end = time.time()\n",
    "print('dataread from binary time: ' + str(end-start))"
   ]
  },
  {
   "cell_type": "code",
   "execution_count": 5,
   "metadata": {},
   "outputs": [],
   "source": [
    "timeDif=[]\n",
    "for i in range(0,len(chan_enab)):\n",
    "    timeDif.append([])\n",
    "    for j in range(len(ETTT_arr[i])-1):\n",
    "        timeDif[i].append((ETTT_arr[i][j+1]-ETTT_arr[i][j])*8)\n",
    "#     print(\"Min time difference for channel\", chan_enab[i], \"is\", min(timeDif[i]), \"ns\")\n",
    "#     print(\"Max time difference for channel\", chan_enab[i], \"is\", max(timeDif[i]), \"ns \\n\")\n",
    "#print(timeDif)"
   ]
  },
  {
   "cell_type": "code",
   "execution_count": 6,
   "metadata": {},
   "outputs": [],
   "source": [
    "## Not loading SF info for polarization\n",
    "\n",
    "# Load in SF and He normalization information ##\n",
    "# SFNormFile2 = 'F:/LANL/SF_Norm_files/runs12034-12363/12036.h5' ## change sf norm file here or use default\n",
    "\n",
    "try:\n",
    "    df_SF = pd.read_hdf(SFNormFile + '.h5', key='df_0')\n",
    "#     df_SF = pd.read_hdf(SFNormFile2, key='df_0')\n",
    "    df_HE = pd.read_hdf(SFNormFile + '.h5', key='df_1')\n",
    "#     df_HE = pd.read_hdf(SFNormFile2, key='df_1')\n",
    "except Exception as e:\n",
    "    logger.error('run '+run_num + ' failed during SFNormFile load')\n",
    "    logger.exception(e)\n",
    "\n",
    "# SF_Sort_arr = df_SF[['nicknames', 'transition_locations']].to_numpy().T\n",
    "He_Norm_arr = df_HE[['pulse', 'norms']].to_numpy().T\n",
    "\n",
    "NormFactor = 1000000  ## He integrals are huge, this normalizes all of those by a constant value for ease of use\n",
    "HeNorms= (He_Norm_arr[1])/NormFactor\n",
    "\n",
    "# print(SF_Sort_arr)\n",
    "# print(He_Norm_arr[1]/NormFactor)"
   ]
  },
  {
   "cell_type": "code",
   "execution_count": null,
   "metadata": {},
   "outputs": [],
   "source": []
  },
  {
   "cell_type": "code",
   "execution_count": null,
   "metadata": {},
   "outputs": [],
   "source": []
  },
  {
   "cell_type": "code",
   "execution_count": null,
   "metadata": {},
   "outputs": [],
   "source": []
  },
  {
   "cell_type": "code",
   "execution_count": null,
   "metadata": {},
   "outputs": [],
   "source": []
  },
  {
   "cell_type": "code",
   "execution_count": null,
   "metadata": {},
   "outputs": [],
   "source": []
  },
  {
   "cell_type": "code",
   "execution_count": null,
   "metadata": {},
   "outputs": [],
   "source": []
  },
  {
   "cell_type": "code",
   "execution_count": null,
   "metadata": {},
   "outputs": [],
   "source": []
  },
  {
   "cell_type": "code",
   "execution_count": 7,
   "metadata": {},
   "outputs": [
    {
     "name": "stdout",
     "output_type": "stream",
     "text": [
      "plotting and/or base subtraction time: 4.204049825668335\n"
     ]
    }
   ],
   "source": [
    "# basesub and plotting ##\n",
    "start = time.time()\n",
    "\n",
    "baseL = 0\n",
    "baseR = int(((preTime[0]-groupStart[0])*0.70)/chanDec[0])  ##70% before the trigger\n",
    "numRuns = int((fileLength[0]-20-numSamples[0])/(numSamples[0]+6)+1)\n",
    "legend =  ['NaI', 'R']\n",
    "\n",
    "s = 20 ## pulse to look at\n",
    "t=s+1\n",
    "\n",
    "#  dont know why this is so slow ##\n",
    "def plotter(ys, xs, baseR, numpoints):\n",
    "    tempys_basesub = np.zeros((len(ys), numRuns,numpoints[0]), dtype=float)\n",
    "    for i in range((len(ys))):\n",
    "        for pulse in range((len(eventcount_arr[0]))): ## all have 5000 pulses\n",
    "            tempys_basesub[i][pulse]=np.subtract(ys[i][pulse], np.mean(ys[i][pulse][baseL:baseR]))\n",
    "        for j in range(s, t): ## plot only interested pulses\n",
    "            plt.plot(xs[i], tempys_basesub[i][j]) #label=legend[i]) #+str(sums[1][j])) ## sums[j] will not work for more than just TR   \n",
    "            plt.axvline(xs[0][baseL], ls = '--')\n",
    "            plt.axvline(xs[0][baseR], ls = '--')\n",
    "            #plt.axvline(xs[0][int(((preTime[0]-groupStart[0])*0.70)/chanDec[0])], ls = '--', c ='m')\n",
    "            plt.axvline(xs[0][baseR+5], ls = '--', c ='r') ## BaseR+5 line marks the beginning of the integral, until the end of samples.\n",
    "#             plt.title('SF state transition' + transitions[p]) \n",
    "#             plt.xlabel(\"time from trigger (ns)\")\n",
    "#             plt.ylabel(\"ADC\")\n",
    "            plt.legend()\n",
    "            \n",
    "# plotter(ys_arr[9:], xs[9:], baseR, numSamples) ##plot coils\n",
    "\n",
    "@njit ## jit is faster for large # channels, slower for small # channels\n",
    "def basesub(ys, baseRight, numpoints): \n",
    "    tempys_basesub = np.zeros((numRuns,numpoints[0]), dtype=np.float64)\n",
    "    for pulse in range((len(eventcount_arr[0]))): ## all have 5000 pulses\n",
    "        tempys_basesub[pulse]=np.subtract(ys[pulse], np.mean(ys[pulse][baseL:baseRight]))\n",
    "    return tempys_basesub\n",
    "\n",
    "@njit ## jit is faster for large # channels, slower for small # channels\n",
    "def basesub_norm(ys, baseRight, numpoints): \n",
    "    tempys_basesub = np.zeros((numRuns,numpoints[0]), dtype=np.float64)\n",
    "    for pulse in range((len(eventcount_arr[0]))): ## all have 5000 pulses\n",
    "        tempys_basesub[pulse]=np.subtract(ys[pulse], np.mean(ys[pulse][baseL:baseRight]))\n",
    "        tempys_basesub[pulse]=tempys_basesub[pulse]/HeNorms[pulse] \n",
    "    return tempys_basesub\n",
    "\n",
    "ys_basesub = np.zeros((len(ys_arr), numRuns,numSamples[0]), dtype=np.float64)\n",
    "# ys_basesub_norm = np.zeros((len(ys_arr), numRuns,numSamples[0]), dtype=np.float64)\n",
    "\n",
    "for i in range(len(ys_basesub)): ## feeding y arrays into function 1 channel at  a time is faster than all at once\n",
    "    ys_basesub[i] = basesub(ys_arr[i], baseR, numSamples)\n",
    "# for i in range(len(ys_basesub)): ## feeding y arrays into function 1 channel at  a time is faster than all at once\n",
    "#     ys_basesub[i] = basesub_norm(ys_arr[i], baseR, numSamples)\n",
    "\n",
    "ys_basesub[-1] = ys_basesub[-1]*-1 ## invert 6Li to positive signal. Comment out if not using\n",
    "# ys_basesub_norm[-1] = ys_basesub_norm[-1]*-1 ## invert 6Li to positive signal. Comment out if not using\n",
    "\n",
    "end = time.time()\n",
    "print('plotting and/or base subtraction time: ' + str(end-start))            "
   ]
  },
  {
   "cell_type": "code",
   "execution_count": 31,
   "metadata": {},
   "outputs": [
    {
     "name": "stdout",
     "output_type": "stream",
     "text": [
      "[591  27   0   0   0   0   0   0]\n",
      "[592 405   0   0   0   0   0   0]\n",
      "[592 592 185   0   0   0   0   0]\n",
      "[388   0   0   0   0   0   0   0]\n",
      "[592 178   0   0   0   0   0   0]\n",
      "[550   0   0   0   0   0   0   0]\n",
      "[443   0   0   0   0   0   0   0]\n",
      "[348   0   0   0   0   0   0   0]\n",
      "[591  69   0   0   0   0   0   0]\n",
      "[554   0   0   0   0   0   0   0]\n",
      "[592 276   0   0   0   0   0   0]\n",
      "[592 591   0   0   0   0   0   0]\n",
      "[592 496   0   0   0   0   0   0]\n",
      "[592 592 217   0   0   0   0   0]\n",
      "[592 592 530   0   0   0   0   0]\n",
      "[250   0   0   0   0   0   0   0]\n",
      "[146   0   0   0   0   0   0   0]\n",
      "[461   0   0   0   0   0   0   0]\n",
      "[365   0   0   0   0   0   0   0]\n",
      "[591  85   0   0   0   0   0   0]\n"
     ]
    }
   ],
   "source": [
    "# %matplotlib qt\n",
    "# plt.plot(ys_arr[0][0])\n",
    "# plt.plot(ys_arr[0][0])\n",
    "for i in range(0,20):\n",
    "    plt.plot(ys_basesub[4][i], label = '6Li')\n",
    "plt.legend()\n",
    "plt.show()\n",
    "for i in range(0,20):\n",
    "    print(ys_arr[-1][i][1996:2004])"
   ]
  },
  {
   "cell_type": "code",
   "execution_count": 32,
   "metadata": {},
   "outputs": [
    {
     "name": "stdout",
     "output_type": "stream",
     "text": [
      "finding offset time: 0.6061263084411621\n"
     ]
    }
   ],
   "source": [
    "# use 6Li t0 for all instead of for themselves individually ##\n",
    "\n",
    "start = time.time()\n",
    "\n",
    "NaIthresh=2000\n",
    "Li6thresh=1000 \n",
    "# Li6thresh=400  ## had to lower this for no-target\n",
    "threshold_array = (np.full(len(ys_basesub), NaIthresh))\n",
    "threshold_array[-1] = Li6thresh\n",
    "\n",
    "# njit ## numba does not support reversed, but this could be changed if it's slow\n",
    "def find_offset(ys, thresharr):\n",
    "    xCrosses = np.zeros((len(ys), numRuns)) #outer array is crossing arrays for given channel, inner array is crossing for each event\n",
    "    offset = np.zeros((len(ys), numRuns), dtype=np.int32) ##offset in bins for each channel, each pulse\n",
    "    modeCrosses = np.zeros((len(ys)), dtype=np.float64)\n",
    "    for i in reversed(range(len(ys))):\n",
    "        #xValues.append([])\n",
    "        for p in range(len(ys[i])):\n",
    "            xing = np.argmax(ys[i][p] > thresharr[i])\n",
    "            #print(xing)\n",
    "            xCrosses[i][p] = xing\n",
    "        modeCrosses[i] = (st.mode(xCrosses[i])) #find the most typical crossing value for each channel\n",
    "        for p in range(len(xCrosses[i])):\n",
    "            offset[i][p] = (modeCrosses[-1] - xCrosses[i][p]) ## make sure this is the correct sign!!! \n",
    "    if (np.all(xCrosses[-1])) == False:\n",
    "        emessage = ('ERROR: 6Li threshold was not reached for at least one pulse')\n",
    "        logger.error('run '+run_num + emessage)\n",
    "        raise Exception(emessage)\n",
    "    return offset, xCrosses, modeCrosses\n",
    "                           \n",
    "offset, xCrosses, modeCrosses = find_offset(ys_basesub, threshold_array)\n",
    "\n",
    "end = time.time()\n",
    "print('finding offset time: ' + str(end-start))  "
   ]
  },
  {
   "cell_type": "code",
   "execution_count": 33,
   "metadata": {},
   "outputs": [
    {
     "name": "stdout",
     "output_type": "stream",
     "text": [
      "aligning and cutting time: 9.883031129837036\n"
     ]
    }
   ],
   "source": [
    "# extend all arrays by a value, check that the max number of offset on 6Li is less than that value ##\n",
    "start = time.time()\n",
    "\n",
    "extendedRange = 3 ## must be a positive value which to extend ys_arr\n",
    "if abs(max(offset[-1], key = abs)) > extendedRange: ## if the max offset of 6Li is >extendedRange, something is wrong\n",
    "    emessage = ('ERROR: largest offset greater than extended range')\n",
    "    logger.error('run '+run_num + emessage)\n",
    "    raise Exception(emessage)\n",
    "\n",
    "try:\n",
    "    ys_ext = np.zeros((len(ys_basesub), len(ys_basesub[0]), len(ys_basesub[0][0])+extendedRange*2), dtype=np.float64)\n",
    "    ys_cut = np.zeros((len(ys_basesub), len(ys_basesub[0]), (len(ys_ext[0][0])-((extendedRange*2)+1)*2)))\n",
    "    xs_cut = np.zeros((len(ys_cut), len(ys_cut[0][0])))\n",
    "except Exception as e:\n",
    "    logger.error('run '+run_num + ' failed during ys_cut array creation')\n",
    "    logger.exception(e)\n",
    "\n",
    "# cant use jit because np.pad is not supported ##\n",
    "def align_cut(ys, xs_arr, extendedr):\n",
    "    tempys_ext = np.zeros((len(ys), len(ys[0])+extendedr*2), dtype=np.float64)\n",
    "    tempys_cut = np.zeros((len(ys), (len(tempys_ext[0])-((extendedr*2)+1)*2)))\n",
    "    tempxs_cut = np.zeros(len(tempys_cut[0]))\n",
    "    for p in range(len(ys)):\n",
    "        tempys_ext[p] = np.pad(ys[p], extendedr, 'constant', constant_values=(0))\n",
    "        tempys_ext[p] = np.roll(tempys_ext[p],offset[-1][p]) ## assumes 6Li at -1 position\n",
    "        tempys_cut[p] = tempys_ext[p][((extendedr*2)+1):-((extendedr*2)+1)].copy() ## cut by 7 (if extRange == 3)\n",
    "        tempys_cut[p] = tempys_cut[p]/HeNorms[p] ## normalize by 3He integral  ## comment out if using basesub_norm\n",
    "    x_cut_amt = int((len(ys[0]) - len(tempys_cut[0]))/2)\n",
    "    tempxs_cut = xs_arr[x_cut_amt:-x_cut_amt].copy()\n",
    "    return tempys_cut, tempxs_cut\n",
    "\n",
    "# looping every channel through function is 5x faster ##\n",
    "try:\n",
    "    for i in range(len(ys_basesub)):\n",
    "        ys_cut[i], xs_cut[i] = align_cut(ys_basesub[i], xs[i], extendedRange)\n",
    "except Exception as e:\n",
    "    logger.error('run '+run_num + ' failed aligning and cutting')\n",
    "    logger.exception(e)\n",
    "    \n",
    "# checkp = 2053\n",
    "# print(offset[-1][checkp]) ## checking offset for one example checkpulse\n",
    "# print('original index for checkpulse: '+str(np.argmax(ys_basesub[0][checkp]> 2000))) ## we can follow the index as it changes with extension/cut\n",
    "# #print('extended range index for checkpulse: '+str(np.argmax(ys_ext[0][checkp]> 2000)))\n",
    "# print('cut array index for checkpulse: '+str(np.argmax((ys_cut[0][checkp]*HeNorms[checkp])> 2000)))\n",
    "\n",
    "del ys_ext ## might help with memory issues\n",
    "del ys_basesub\n",
    "\n",
    "end = time.time()\n",
    "print('aligning and cutting time: ' + str(end-start))            "
   ]
  },
  {
   "cell_type": "code",
   "execution_count": null,
   "metadata": {},
   "outputs": [],
   "source": []
  },
  {
   "cell_type": "markdown",
   "metadata": {},
   "source": [
    "### add pulses?"
   ]
  },
  {
   "cell_type": "code",
   "execution_count": 34,
   "metadata": {},
   "outputs": [
    {
     "name": "stdout",
     "output_type": "stream",
     "text": [
      "summing pulses time: 0.3920009136199951\n"
     ]
    }
   ],
   "source": [
    "start = time.time()\n",
    "## new pulse add for polarization attempt ##\n",
    "\n",
    "# ys_basesub = np.zeros((len(ys_arr), numRuns,numSamples[0]), dtype=np.float64)\n",
    "added_pulses = np.zeros((len(ys_cut), len(ys_cut[0][0])), dtype=np.float64)  ## channels, 8992 data points each\n",
    "\n",
    "# @njit\n",
    "def add_pulse_noSF(ys):\n",
    "    pulses_sum  = np.zeros((len(ys[0])), dtype=np.float64)\n",
    "    for p in range(0, len(ys)):\n",
    "        # print('pulse ',p)\n",
    "        pulses_sum = np.add(pulses_sum,ys[p])\n",
    "    return pulses_sum\n",
    "\n",
    "for i in range(len(ys_cut)):\n",
    "    # print('#################### channel: ' + str(i) + ' ##########################')\n",
    "    added_pulses[i] = add_pulse_noSF(ys_cut[i])\n",
    "\n",
    "end = time.time()\n",
    "print('summing pulses time: ' + str(end-start))  "
   ]
  },
  {
   "cell_type": "code",
   "execution_count": 46,
   "metadata": {},
   "outputs": [
    {
     "data": {
      "text/plain": [
       "[<matplotlib.lines.Line2D at 0x20b6a8c9580>]"
      ]
     },
     "execution_count": 46,
     "metadata": {},
     "output_type": "execute_result"
    }
   ],
   "source": [
    "plt.plot(added_pulses[0])\n",
    "plt.plot(added_pulses[-1])\n"
   ]
  },
  {
   "cell_type": "code",
   "execution_count": 52,
   "metadata": {},
   "outputs": [
    {
     "name": "stdout",
     "output_type": "stream",
     "text": [
      "8992\n"
     ]
    },
    {
     "data": {
      "text/plain": [
       "[<matplotlib.lines.Line2D at 0x20b6eaf0910>]"
      ]
     },
     "execution_count": 52,
     "metadata": {},
     "output_type": "execute_result"
    }
   ],
   "source": [
    "%matplotlib qt\n",
    "\n",
    "T_0 = np.genfromtxt(\"F:/LANL/sample_data/pol_unpol/unpol_09919.csv\", delimiter=\",\")\n",
    "T_0 = T_0[4:-4]\n",
    "print(len(T_0))\n",
    "T_n = added_pulses[-1]*-1\n",
    "plt.plot(T_0/max(T_0))\n",
    "plt.plot(T_n/max(T_n))"
   ]
  },
  {
   "cell_type": "code",
   "execution_count": 56,
   "metadata": {},
   "outputs": [
    {
     "data": {
      "text/plain": [
       "[<matplotlib.lines.Line2D at 0x20b6fc91cd0>]"
      ]
     },
     "execution_count": 56,
     "metadata": {},
     "output_type": "execute_result"
    }
   ],
   "source": [
    "justLa = T_0/max(T_0)-T_n/max(T_n)\n",
    "# plt.plot(justLa)\n",
    "plt.plot(T_0 - justLa)"
   ]
  },
  {
   "cell_type": "code",
   "execution_count": 38,
   "metadata": {},
   "outputs": [
    {
     "name": "stderr",
     "output_type": "stream",
     "text": [
      "No artists with labels found to put in legend.  Note that artists whose label start with an underscore are ignored when legend() is called with no argument.\n"
     ]
    },
    {
     "name": "stdout",
     "output_type": "stream",
     "text": [
      "8992\n"
     ]
    }
   ],
   "source": [
    "%matplotlib qt\n",
    "\n",
    "T_0 = np.genfromtxt(\"F:/LANL/sample_data/pol_unpol/unpol_09919.csv\", delimiter=\",\")\n",
    "T_0 = T_0[4:-4]\n",
    "print(len(T_0))\n",
    "T_n = added_pulses[-1]*-1\n",
    "\n",
    "Npol_Nunpol = T_n/T_0\n",
    "\n",
    "plt.plot(xs_cut[1], Npol_Nunpol) \n",
    "    \n",
    "#plt.xlim(-50000, 900000)\n",
    "#plt.ylim(3000,4100)\n",
    "plt.title('3He N_pol/N_unpol ratio') \n",
    "plt.xlabel(\"TOF (ns)\")\n",
    "plt.ylabel(\"Npol/Nunpol\")\n",
    "\n",
    "#plt.axvline(xs[0][baseL], ls = '--')\n",
    "#plt.axvline(xs[0][baseR], ls = '--')\n",
    "#plt.axvline(xs[1][intgrL], ls = '--', c ='g')\n",
    "#plt.axvline(xs[1][intgrR], ls = '--', c ='g')\n",
    "#plt.axvline(xs[2][HeintgrL], ls = '--', c ='r')\n",
    "#plt.axvline(xs[2][HeintgrR], ls = '--', c ='r')\n",
    "\n",
    "#plt.text(1.5e7, 1200, 'test', fontsize=12)\n",
    "plt.legend()\n",
    "plt.show()\n"
   ]
  },
  {
   "cell_type": "code",
   "execution_count": 39,
   "metadata": {},
   "outputs": [
    {
     "name": "stdout",
     "output_type": "stream",
     "text": [
      "8992\n",
      "8992\n",
      "8992\n"
     ]
    }
   ],
   "source": [
    "print(len(T_0))\n",
    "print(len(T_n))\n",
    "print(len(xs_cut[1]))"
   ]
  },
  {
   "cell_type": "code",
   "execution_count": 40,
   "metadata": {},
   "outputs": [
    {
     "name": "stderr",
     "output_type": "stream",
     "text": [
      "No artists with labels found to put in legend.  Note that artists whose label start with an underscore are ignored when legend() is called with no argument.\n"
     ]
    },
    {
     "name": "stdout",
     "output_type": "stream",
     "text": [
      "6991\n",
      "100.2581965201499\n",
      "204800.0\n",
      "14860771.179199215\n",
      "5.12e-07\n"
     ]
    }
   ],
   "source": [
    "T_0 = np.genfromtxt(\"F:/LANL/sample_data/pol_unpol/unpol_09919.csv\", delimiter=\",\")\n",
    "T_0 = T_0[4:-4]\n",
    "T_0 = T_0[2001:]\n",
    "T_n = added_pulses[-1][2001:]\n",
    "print(len(T_0**2/T_n**2))\n",
    "x_E = 3.895662*10**(-6)*(1/(xs_cut[1][2001:]*10**(-9))**2)\n",
    "print((x_E[380]))\n",
    "print(xs[1][2400])\n",
    "print(3.895662*10**(-6)*(1/(512*10**(-9)))**2)\n",
    "print((512*10**(-9)))\n",
    "\n",
    "\n",
    "P_E = np.sqrt(np.absolute(1 - (T_0**2/T_n**2)))\n",
    "\n",
    "# plt.plot(x_E[380:-1], P_E[380:-1])\n",
    "xs_cut2 = (xs_cut[1][2001:])\n",
    "plt.plot(xs_cut2[380:-1]*10**-6, P_E[380:-1]) \n",
    "\n",
    "    \n",
    "#plt.xlim(-50000, 900000)\n",
    "#plt.ylim(3000,4100)\n",
    "plt.title('3He Polarization P(E)') \n",
    "plt.xlabel(\"E [eV]\")\n",
    "plt.ylabel(\"P(E)\")\n",
    "\n",
    "#plt.axvline(xs[0][baseL], ls = '--')\n",
    "#plt.axvline(xs[0][baseR], ls = '--')\n",
    "#plt.axvline(xs[1][intgrL], ls = '--', c ='g')\n",
    "#plt.axvline(xs[1][intgrR], ls = '--', c ='g')\n",
    "#plt.axvline(xs[2][HeintgrL], ls = '--', c ='r')\n",
    "#plt.axvline(xs[2][HeintgrR], ls = '--', c ='r')\n",
    "\n",
    "#plt.text(1.5e7, 1200, 'test', fontsize=12)\n",
    "plt.legend()\n",
    "plt.show()\n"
   ]
  },
  {
   "cell_type": "markdown",
   "metadata": {},
   "source": []
  },
  {
   "cell_type": "code",
   "execution_count": null,
   "metadata": {},
   "outputs": [],
   "source": []
  },
  {
   "cell_type": "code",
   "execution_count": null,
   "metadata": {},
   "outputs": [],
   "source": []
  },
  {
   "cell_type": "code",
   "execution_count": 10,
   "metadata": {},
   "outputs": [
    {
     "name": "stdout",
     "output_type": "stream",
     "text": [
      "   nicknames transition transition_locations  sumsTR_R      TR_R_avgs  \\\n",
      "0          7   100->111                   36  -27026.0  -27027.651603   \n",
      "1          0   111->101                   81  118504.0  118485.342566   \n",
      "2          1   101->100                  126 -116447.0 -116448.357143   \n",
      "3          2   100->110                  171  340066.0  339956.354227   \n",
      "4          3   110->101                  216   65802.0   65772.785714   \n",
      "5          4   101->110                  261   27089.0   27012.142857   \n",
      "6          5   110->111                  306 -176666.0 -176773.571429   \n",
      "7          6   111->100                  351  -65840.0  -65863.692308   \n",
      "8          7   100->111                  396  -27064.0  -27027.651603   \n",
      "9          0   111->101                  441  118471.0  118485.342566   \n",
      "\n",
      "    TR_R_stds  \n",
      "0   40.467677  \n",
      "1   44.114028  \n",
      "2    8.268763  \n",
      "3   93.211060  \n",
      "4   55.503125  \n",
      "5   55.156734  \n",
      "6  108.376799  \n",
      "7   42.709006  \n",
      "8   40.467677  \n",
      "9   44.114028  \n"
     ]
    }
   ],
   "source": [
    "print(df_SF[0:10])"
   ]
  },
  {
   "cell_type": "markdown",
   "metadata": {},
   "source": [
    "## begin SF organization ##"
   ]
  },
  {
   "cell_type": "code",
   "execution_count": 12,
   "metadata": {},
   "outputs": [
    {
     "name": "stderr",
     "output_type": "stream",
     "text": [
      "\u001b[32m2025-04-01 15:14:09.901\u001b[0m | \u001b[31m\u001b[1mERROR   \u001b[0m | \u001b[36m__main__\u001b[0m:\u001b[36m<module>\u001b[0m:\u001b[36m56\u001b[0m - \u001b[31m\u001b[1mrun 12400 failed during sequencing\u001b[0m\n",
      "\u001b[32m2025-04-01 15:14:09.905\u001b[0m | \u001b[31m\u001b[1mERROR   \u001b[0m | \u001b[36m__main__\u001b[0m:\u001b[36m<module>\u001b[0m:\u001b[36m57\u001b[0m - \u001b[31m\u001b[1mname 'SF_Sort_arr' is not defined\u001b[0m\n",
      "\u001b[33m\u001b[1mTraceback (most recent call last):\u001b[0m\n",
      "\n",
      "  File \"\u001b[32mC:\\Users\\gabeo\\anaconda3\\lib\\\u001b[0m\u001b[32m\u001b[1mrunpy.py\u001b[0m\", line \u001b[33m197\u001b[0m, in \u001b[35m_run_module_as_main\u001b[0m\n",
      "    \u001b[35m\u001b[1mreturn\u001b[0m \u001b[1m_run_code\u001b[0m\u001b[1m(\u001b[0m\u001b[1mcode\u001b[0m\u001b[1m,\u001b[0m \u001b[1mmain_globals\u001b[0m\u001b[1m,\u001b[0m \u001b[36m\u001b[1mNone\u001b[0m\u001b[1m,\u001b[0m\n",
      "    \u001b[36m       │         │     └ \u001b[0m\u001b[36m\u001b[1m{'__name__': '__main__', '__doc__': 'Entry point for launching an IPython kernel.\\n\\nThis is separate from the ipykernel pack...\u001b[0m\n",
      "    \u001b[36m       │         └ \u001b[0m\u001b[36m\u001b[1m<code object <module> at 0x000001DFFB3B43A0, file \"C:\\Users\\gabeo\\anaconda3\\lib\\site-packages\\ipykernel_launcher.py\", line 1>\u001b[0m\n",
      "    \u001b[36m       └ \u001b[0m\u001b[36m\u001b[1m<function _run_code at 0x000001DFFB5AF040>\u001b[0m\n",
      "\n",
      "  File \"\u001b[32mC:\\Users\\gabeo\\anaconda3\\lib\\\u001b[0m\u001b[32m\u001b[1mrunpy.py\u001b[0m\", line \u001b[33m87\u001b[0m, in \u001b[35m_run_code\u001b[0m\n",
      "    \u001b[1mexec\u001b[0m\u001b[1m(\u001b[0m\u001b[1mcode\u001b[0m\u001b[1m,\u001b[0m \u001b[1mrun_globals\u001b[0m\u001b[1m)\u001b[0m\n",
      "    \u001b[36m     │     └ \u001b[0m\u001b[36m\u001b[1m{'__name__': '__main__', '__doc__': 'Entry point for launching an IPython kernel.\\n\\nThis is separate from the ipykernel pack...\u001b[0m\n",
      "    \u001b[36m     └ \u001b[0m\u001b[36m\u001b[1m<code object <module> at 0x000001DFFB3B43A0, file \"C:\\Users\\gabeo\\anaconda3\\lib\\site-packages\\ipykernel_launcher.py\", line 1>\u001b[0m\n",
      "\n",
      "  File \"\u001b[32mC:\\Users\\gabeo\\anaconda3\\lib\\site-packages\\\u001b[0m\u001b[32m\u001b[1mipykernel_launcher.py\u001b[0m\", line \u001b[33m17\u001b[0m, in \u001b[35m<module>\u001b[0m\n",
      "    \u001b[1mapp\u001b[0m\u001b[35m\u001b[1m.\u001b[0m\u001b[1mlaunch_new_instance\u001b[0m\u001b[1m(\u001b[0m\u001b[1m)\u001b[0m\n",
      "    \u001b[36m│   └ \u001b[0m\u001b[36m\u001b[1m<bound method Application.launch_instance of <class 'ipykernel.kernelapp.IPKernelApp'>>\u001b[0m\n",
      "    \u001b[36m└ \u001b[0m\u001b[36m\u001b[1m<module 'ipykernel.kernelapp' from 'C:\\\\Users\\\\gabeo\\\\anaconda3\\\\lib\\\\site-packages\\\\ipykernel\\\\kernelapp.py'>\u001b[0m\n",
      "\n",
      "  File \"\u001b[32mC:\\Users\\gabeo\\anaconda3\\lib\\site-packages\\traitlets\\config\\\u001b[0m\u001b[32m\u001b[1mapplication.py\u001b[0m\", line \u001b[33m846\u001b[0m, in \u001b[35mlaunch_instance\u001b[0m\n",
      "    \u001b[1mapp\u001b[0m\u001b[35m\u001b[1m.\u001b[0m\u001b[1mstart\u001b[0m\u001b[1m(\u001b[0m\u001b[1m)\u001b[0m\n",
      "    \u001b[36m│   └ \u001b[0m\u001b[36m\u001b[1m<function IPKernelApp.start at 0x000001DFFFB92B80>\u001b[0m\n",
      "    \u001b[36m└ \u001b[0m\u001b[36m\u001b[1m<ipykernel.kernelapp.IPKernelApp object at 0x000001DFFAD4A0A0>\u001b[0m\n",
      "\n",
      "  File \"\u001b[32mC:\\Users\\gabeo\\anaconda3\\lib\\site-packages\\ipykernel\\\u001b[0m\u001b[32m\u001b[1mkernelapp.py\u001b[0m\", line \u001b[33m712\u001b[0m, in \u001b[35mstart\u001b[0m\n",
      "    \u001b[1mself\u001b[0m\u001b[35m\u001b[1m.\u001b[0m\u001b[1mio_loop\u001b[0m\u001b[35m\u001b[1m.\u001b[0m\u001b[1mstart\u001b[0m\u001b[1m(\u001b[0m\u001b[1m)\u001b[0m\n",
      "    \u001b[36m│    │       └ \u001b[0m\u001b[36m\u001b[1m<function BaseAsyncIOLoop.start at 0x000001DFFDAC6430>\u001b[0m\n",
      "    \u001b[36m│    └ \u001b[0m\u001b[36m\u001b[1m<tornado.platform.asyncio.AsyncIOMainLoop object at 0x000001DFFF8755E0>\u001b[0m\n",
      "    \u001b[36m└ \u001b[0m\u001b[36m\u001b[1m<ipykernel.kernelapp.IPKernelApp object at 0x000001DFFAD4A0A0>\u001b[0m\n",
      "\n",
      "  File \"\u001b[32mC:\\Users\\gabeo\\anaconda3\\lib\\site-packages\\tornado\\platform\\\u001b[0m\u001b[32m\u001b[1masyncio.py\u001b[0m\", line \u001b[33m199\u001b[0m, in \u001b[35mstart\u001b[0m\n",
      "    \u001b[1mself\u001b[0m\u001b[35m\u001b[1m.\u001b[0m\u001b[1masyncio_loop\u001b[0m\u001b[35m\u001b[1m.\u001b[0m\u001b[1mrun_forever\u001b[0m\u001b[1m(\u001b[0m\u001b[1m)\u001b[0m\n",
      "    \u001b[36m│    │            └ \u001b[0m\u001b[36m\u001b[1m<function BaseEventLoop.run_forever at 0x000001DFFD29D790>\u001b[0m\n",
      "    \u001b[36m│    └ \u001b[0m\u001b[36m\u001b[1m<_WindowsSelectorEventLoop running=True closed=False debug=False>\u001b[0m\n",
      "    \u001b[36m└ \u001b[0m\u001b[36m\u001b[1m<tornado.platform.asyncio.AsyncIOMainLoop object at 0x000001DFFF8755E0>\u001b[0m\n",
      "\n",
      "  File \"\u001b[32mC:\\Users\\gabeo\\anaconda3\\lib\\asyncio\\\u001b[0m\u001b[32m\u001b[1mbase_events.py\u001b[0m\", line \u001b[33m601\u001b[0m, in \u001b[35mrun_forever\u001b[0m\n",
      "    \u001b[1mself\u001b[0m\u001b[35m\u001b[1m.\u001b[0m\u001b[1m_run_once\u001b[0m\u001b[1m(\u001b[0m\u001b[1m)\u001b[0m\n",
      "    \u001b[36m│    └ \u001b[0m\u001b[36m\u001b[1m<function BaseEventLoop._run_once at 0x000001DFFD29F310>\u001b[0m\n",
      "    \u001b[36m└ \u001b[0m\u001b[36m\u001b[1m<_WindowsSelectorEventLoop running=True closed=False debug=False>\u001b[0m\n",
      "\n",
      "  File \"\u001b[32mC:\\Users\\gabeo\\anaconda3\\lib\\asyncio\\\u001b[0m\u001b[32m\u001b[1mbase_events.py\u001b[0m\", line \u001b[33m1905\u001b[0m, in \u001b[35m_run_once\u001b[0m\n",
      "    \u001b[1mhandle\u001b[0m\u001b[35m\u001b[1m.\u001b[0m\u001b[1m_run\u001b[0m\u001b[1m(\u001b[0m\u001b[1m)\u001b[0m\n",
      "    \u001b[36m│      └ \u001b[0m\u001b[36m\u001b[1m<function Handle._run at 0x000001DFFD23DD30>\u001b[0m\n",
      "    \u001b[36m└ \u001b[0m\u001b[36m\u001b[1m<Handle <TaskWakeupMethWrapper object at 0x000001DF8D5FBB80>(<Future finis...720>, ...],))>)>\u001b[0m\n",
      "\n",
      "  File \"\u001b[32mC:\\Users\\gabeo\\anaconda3\\lib\\asyncio\\\u001b[0m\u001b[32m\u001b[1mevents.py\u001b[0m\", line \u001b[33m80\u001b[0m, in \u001b[35m_run\u001b[0m\n",
      "    \u001b[1mself\u001b[0m\u001b[35m\u001b[1m.\u001b[0m\u001b[1m_context\u001b[0m\u001b[35m\u001b[1m.\u001b[0m\u001b[1mrun\u001b[0m\u001b[1m(\u001b[0m\u001b[1mself\u001b[0m\u001b[35m\u001b[1m.\u001b[0m\u001b[1m_callback\u001b[0m\u001b[1m,\u001b[0m \u001b[35m\u001b[1m*\u001b[0m\u001b[1mself\u001b[0m\u001b[35m\u001b[1m.\u001b[0m\u001b[1m_args\u001b[0m\u001b[1m)\u001b[0m\n",
      "    \u001b[36m│    │            │    │           │    └ \u001b[0m\u001b[36m\u001b[1m<member '_args' of 'Handle' objects>\u001b[0m\n",
      "    \u001b[36m│    │            │    │           └ \u001b[0m\u001b[36m\u001b[1m<Handle <TaskWakeupMethWrapper object at 0x000001DF8D5FBB80>(<Future finis...720>, ...],))>)>\u001b[0m\n",
      "    \u001b[36m│    │            │    └ \u001b[0m\u001b[36m\u001b[1m<member '_callback' of 'Handle' objects>\u001b[0m\n",
      "    \u001b[36m│    │            └ \u001b[0m\u001b[36m\u001b[1m<Handle <TaskWakeupMethWrapper object at 0x000001DF8D5FBB80>(<Future finis...720>, ...],))>)>\u001b[0m\n",
      "    \u001b[36m│    └ \u001b[0m\u001b[36m\u001b[1m<member '_context' of 'Handle' objects>\u001b[0m\n",
      "    \u001b[36m└ \u001b[0m\u001b[36m\u001b[1m<Handle <TaskWakeupMethWrapper object at 0x000001DF8D5FBB80>(<Future finis...720>, ...],))>)>\u001b[0m\n",
      "\n",
      "  File \"\u001b[32mC:\\Users\\gabeo\\anaconda3\\lib\\site-packages\\ipykernel\\\u001b[0m\u001b[32m\u001b[1mkernelbase.py\u001b[0m\", line \u001b[33m510\u001b[0m, in \u001b[35mdispatch_queue\u001b[0m\n",
      "    \u001b[35m\u001b[1mawait\u001b[0m \u001b[1mself\u001b[0m\u001b[35m\u001b[1m.\u001b[0m\u001b[1mprocess_one\u001b[0m\u001b[1m(\u001b[0m\u001b[1m)\u001b[0m\n",
      "    \u001b[36m      │    └ \u001b[0m\u001b[36m\u001b[1m<function Kernel.process_one at 0x000001DFFF2C2E50>\u001b[0m\n",
      "    \u001b[36m      └ \u001b[0m\u001b[36m\u001b[1m<ipykernel.ipkernel.IPythonKernel object at 0x000001DFFF7DFD90>\u001b[0m\n",
      "\n",
      "  File \"\u001b[32mC:\\Users\\gabeo\\anaconda3\\lib\\site-packages\\ipykernel\\\u001b[0m\u001b[32m\u001b[1mkernelbase.py\u001b[0m\", line \u001b[33m499\u001b[0m, in \u001b[35mprocess_one\u001b[0m\n",
      "    \u001b[35m\u001b[1mawait\u001b[0m \u001b[1mdispatch\u001b[0m\u001b[1m(\u001b[0m\u001b[35m\u001b[1m*\u001b[0m\u001b[1margs\u001b[0m\u001b[1m)\u001b[0m\n",
      "    \u001b[36m      │         └ \u001b[0m\u001b[36m\u001b[1m([<zmq.sugar.frame.Frame object at 0x000001DFFFC29670>, <zmq.sugar.frame.Frame object at 0x000001DFFFC29510>, <zmq.sugar.fram...\u001b[0m\n",
      "    \u001b[36m      └ \u001b[0m\u001b[36m\u001b[1m<bound method Kernel.dispatch_shell of <ipykernel.ipkernel.IPythonKernel object at 0x000001DFFF7DFD90>>\u001b[0m\n",
      "\n",
      "  File \"\u001b[32mC:\\Users\\gabeo\\anaconda3\\lib\\site-packages\\ipykernel\\\u001b[0m\u001b[32m\u001b[1mkernelbase.py\u001b[0m\", line \u001b[33m406\u001b[0m, in \u001b[35mdispatch_shell\u001b[0m\n",
      "    \u001b[35m\u001b[1mawait\u001b[0m \u001b[1mresult\u001b[0m\n",
      "    \u001b[36m      └ \u001b[0m\u001b[36m\u001b[1m<coroutine object Kernel.execute_request at 0x000001DF8C342DC0>\u001b[0m\n",
      "\n",
      "  File \"\u001b[32mC:\\Users\\gabeo\\anaconda3\\lib\\site-packages\\ipykernel\\\u001b[0m\u001b[32m\u001b[1mkernelbase.py\u001b[0m\", line \u001b[33m730\u001b[0m, in \u001b[35mexecute_request\u001b[0m\n",
      "    \u001b[1mreply_content\u001b[0m \u001b[35m\u001b[1m=\u001b[0m \u001b[35m\u001b[1mawait\u001b[0m \u001b[1mreply_content\u001b[0m\n",
      "    \u001b[36m                      └ \u001b[0m\u001b[36m\u001b[1m<coroutine object IPythonKernel.do_execute at 0x000001DF8C367640>\u001b[0m\n",
      "\n",
      "  File \"\u001b[32mC:\\Users\\gabeo\\anaconda3\\lib\\site-packages\\ipykernel\\\u001b[0m\u001b[32m\u001b[1mipkernel.py\u001b[0m\", line \u001b[33m390\u001b[0m, in \u001b[35mdo_execute\u001b[0m\n",
      "    \u001b[1mres\u001b[0m \u001b[35m\u001b[1m=\u001b[0m \u001b[1mshell\u001b[0m\u001b[35m\u001b[1m.\u001b[0m\u001b[1mrun_cell\u001b[0m\u001b[1m(\u001b[0m\u001b[1mcode\u001b[0m\u001b[1m,\u001b[0m \u001b[1mstore_history\u001b[0m\u001b[35m\u001b[1m=\u001b[0m\u001b[1mstore_history\u001b[0m\u001b[1m,\u001b[0m \u001b[1msilent\u001b[0m\u001b[35m\u001b[1m=\u001b[0m\u001b[1msilent\u001b[0m\u001b[1m)\u001b[0m\n",
      "    \u001b[36m      │     │        │                   │                     └ \u001b[0m\u001b[36m\u001b[1mFalse\u001b[0m\n",
      "    \u001b[36m      │     │        │                   └ \u001b[0m\u001b[36m\u001b[1mTrue\u001b[0m\n",
      "    \u001b[36m      │     │        └ \u001b[0m\u001b[36m\u001b[1m\"def organize_SF(SFsort_info): ## sometimes pulse 0 has the state switch. In that case, need to account by if clauses below\\n...\u001b[0m\n",
      "    \u001b[36m      │     └ \u001b[0m\u001b[36m\u001b[1m<function ZMQInteractiveShell.run_cell at 0x000001DFFFB883A0>\u001b[0m\n",
      "    \u001b[36m      └ \u001b[0m\u001b[36m\u001b[1m<ipykernel.zmqshell.ZMQInteractiveShell object at 0x000001DFFF8784C0>\u001b[0m\n",
      "\n",
      "  File \"\u001b[32mC:\\Users\\gabeo\\anaconda3\\lib\\site-packages\\ipykernel\\\u001b[0m\u001b[32m\u001b[1mzmqshell.py\u001b[0m\", line \u001b[33m528\u001b[0m, in \u001b[35mrun_cell\u001b[0m\n",
      "    \u001b[35m\u001b[1mreturn\u001b[0m \u001b[1msuper\u001b[0m\u001b[1m(\u001b[0m\u001b[1m)\u001b[0m\u001b[35m\u001b[1m.\u001b[0m\u001b[1mrun_cell\u001b[0m\u001b[1m(\u001b[0m\u001b[35m\u001b[1m*\u001b[0m\u001b[1margs\u001b[0m\u001b[1m,\u001b[0m \u001b[35m\u001b[1m**\u001b[0m\u001b[1mkwargs\u001b[0m\u001b[1m)\u001b[0m\n",
      "    \u001b[36m                         │       └ \u001b[0m\u001b[36m\u001b[1m{'store_history': True, 'silent': False}\u001b[0m\n",
      "    \u001b[36m                         └ \u001b[0m\u001b[36m\u001b[1m(\"def organize_SF(SFsort_info): ## sometimes pulse 0 has the state switch. In that case, need to account by if clauses below\\...\u001b[0m\n",
      "\n",
      "  File \"\u001b[32mC:\\Users\\gabeo\\anaconda3\\lib\\site-packages\\IPython\\core\\\u001b[0m\u001b[32m\u001b[1minteractiveshell.py\u001b[0m\", line \u001b[33m2914\u001b[0m, in \u001b[35mrun_cell\u001b[0m\n",
      "    \u001b[1mresult\u001b[0m \u001b[35m\u001b[1m=\u001b[0m \u001b[1mself\u001b[0m\u001b[35m\u001b[1m.\u001b[0m\u001b[1m_run_cell\u001b[0m\u001b[1m(\u001b[0m\n",
      "    \u001b[36m         │    └ \u001b[0m\u001b[36m\u001b[1m<function InteractiveShell._run_cell at 0x000001DFFE024820>\u001b[0m\n",
      "    \u001b[36m         └ \u001b[0m\u001b[36m\u001b[1m<ipykernel.zmqshell.ZMQInteractiveShell object at 0x000001DFFF8784C0>\u001b[0m\n",
      "\n",
      "  File \"\u001b[32mC:\\Users\\gabeo\\anaconda3\\lib\\site-packages\\IPython\\core\\\u001b[0m\u001b[32m\u001b[1minteractiveshell.py\u001b[0m\", line \u001b[33m2960\u001b[0m, in \u001b[35m_run_cell\u001b[0m\n",
      "    \u001b[35m\u001b[1mreturn\u001b[0m \u001b[1mrunner\u001b[0m\u001b[1m(\u001b[0m\u001b[1mcoro\u001b[0m\u001b[1m)\u001b[0m\n",
      "    \u001b[36m       │      └ \u001b[0m\u001b[36m\u001b[1m<coroutine object InteractiveShell.run_cell_async at 0x000001DF8646C0C0>\u001b[0m\n",
      "    \u001b[36m       └ \u001b[0m\u001b[36m\u001b[1m<function _pseudo_sync_runner at 0x000001DFFE00DE50>\u001b[0m\n",
      "\n",
      "  File \"\u001b[32mC:\\Users\\gabeo\\anaconda3\\lib\\site-packages\\IPython\\core\\\u001b[0m\u001b[32m\u001b[1masync_helpers.py\u001b[0m\", line \u001b[33m78\u001b[0m, in \u001b[35m_pseudo_sync_runner\u001b[0m\n",
      "    \u001b[1mcoro\u001b[0m\u001b[35m\u001b[1m.\u001b[0m\u001b[1msend\u001b[0m\u001b[1m(\u001b[0m\u001b[36m\u001b[1mNone\u001b[0m\u001b[1m)\u001b[0m\n",
      "    \u001b[36m│    └ \u001b[0m\u001b[36m\u001b[1m<method 'send' of 'coroutine' objects>\u001b[0m\n",
      "    \u001b[36m└ \u001b[0m\u001b[36m\u001b[1m<coroutine object InteractiveShell.run_cell_async at 0x000001DF8646C0C0>\u001b[0m\n",
      "\n",
      "  File \"\u001b[32mC:\\Users\\gabeo\\anaconda3\\lib\\site-packages\\IPython\\core\\\u001b[0m\u001b[32m\u001b[1minteractiveshell.py\u001b[0m\", line \u001b[33m3185\u001b[0m, in \u001b[35mrun_cell_async\u001b[0m\n",
      "    \u001b[1mhas_raised\u001b[0m \u001b[35m\u001b[1m=\u001b[0m \u001b[35m\u001b[1mawait\u001b[0m \u001b[1mself\u001b[0m\u001b[35m\u001b[1m.\u001b[0m\u001b[1mrun_ast_nodes\u001b[0m\u001b[1m(\u001b[0m\u001b[1mcode_ast\u001b[0m\u001b[35m\u001b[1m.\u001b[0m\u001b[1mbody\u001b[0m\u001b[1m,\u001b[0m \u001b[1mcell_name\u001b[0m\u001b[1m,\u001b[0m\n",
      "    \u001b[36m                   │    │             │        │     └ \u001b[0m\u001b[36m\u001b[1m'C:\\\\Users\\\\gabeo\\\\AppData\\\\Local\\\\Temp\\\\ipykernel_15984\\\\4199254819.py'\u001b[0m\n",
      "    \u001b[36m                   │    │             │        └ \u001b[0m\u001b[36m\u001b[1m[<ast.FunctionDef object at 0x000001DF8D8FD8E0>, <ast.FunctionDef object at 0x000001DF8DA9E280>, <ast.Try object at 0x000001D...\u001b[0m\n",
      "    \u001b[36m                   │    │             └ \u001b[0m\u001b[36m\u001b[1m<ast.Module object at 0x000001DF8D8FD8B0>\u001b[0m\n",
      "    \u001b[36m                   │    └ \u001b[0m\u001b[36m\u001b[1m<function InteractiveShell.run_ast_nodes at 0x000001DFFE024AF0>\u001b[0m\n",
      "    \u001b[36m                   └ \u001b[0m\u001b[36m\u001b[1m<ipykernel.zmqshell.ZMQInteractiveShell object at 0x000001DFFF8784C0>\u001b[0m\n",
      "\n",
      "  File \"\u001b[32mC:\\Users\\gabeo\\anaconda3\\lib\\site-packages\\IPython\\core\\\u001b[0m\u001b[32m\u001b[1minteractiveshell.py\u001b[0m\", line \u001b[33m3377\u001b[0m, in \u001b[35mrun_ast_nodes\u001b[0m\n",
      "    \u001b[35m\u001b[1mif\u001b[0m \u001b[1m(\u001b[0m\u001b[35m\u001b[1mawait\u001b[0m \u001b[1mself\u001b[0m\u001b[35m\u001b[1m.\u001b[0m\u001b[1mrun_code\u001b[0m\u001b[1m(\u001b[0m\u001b[1mcode\u001b[0m\u001b[1m,\u001b[0m \u001b[1mresult\u001b[0m\u001b[1m,\u001b[0m  \u001b[1masync_\u001b[0m\u001b[35m\u001b[1m=\u001b[0m\u001b[1masy\u001b[0m\u001b[1m)\u001b[0m\u001b[1m)\u001b[0m\u001b[1m:\u001b[0m\n",
      "    \u001b[36m          │    │        │     │               └ \u001b[0m\u001b[36m\u001b[1mFalse\u001b[0m\n",
      "    \u001b[36m          │    │        │     └ \u001b[0m\u001b[36m\u001b[1m<ExecutionResult object at 1df8d7a7fa0, execution_count=12 error_before_exec=None error_in_exec=None info=<ExecutionInfo obje...\u001b[0m\n",
      "    \u001b[36m          │    │        └ \u001b[0m\u001b[36m\u001b[1m<code object <module> at 0x000001DF8DAAE0E0, file \"C:\\Users\\gabeo\\AppData\\Local\\Temp\\ipykernel_15984\\4199254819.py\", line 47>\u001b[0m\n",
      "    \u001b[36m          │    └ \u001b[0m\u001b[36m\u001b[1m<function InteractiveShell.run_code at 0x000001DFFE024C10>\u001b[0m\n",
      "    \u001b[36m          └ \u001b[0m\u001b[36m\u001b[1m<ipykernel.zmqshell.ZMQInteractiveShell object at 0x000001DFFF8784C0>\u001b[0m\n",
      "\n",
      "  File \"\u001b[32mC:\\Users\\gabeo\\anaconda3\\lib\\site-packages\\IPython\\core\\\u001b[0m\u001b[32m\u001b[1minteractiveshell.py\u001b[0m\", line \u001b[33m3457\u001b[0m, in \u001b[35mrun_code\u001b[0m\n",
      "    \u001b[1mexec\u001b[0m\u001b[1m(\u001b[0m\u001b[1mcode_obj\u001b[0m\u001b[1m,\u001b[0m \u001b[1mself\u001b[0m\u001b[35m\u001b[1m.\u001b[0m\u001b[1muser_global_ns\u001b[0m\u001b[1m,\u001b[0m \u001b[1mself\u001b[0m\u001b[35m\u001b[1m.\u001b[0m\u001b[1muser_ns\u001b[0m\u001b[1m)\u001b[0m\n",
      "    \u001b[36m     │         │    │               │    └ \u001b[0m\u001b[36m\u001b[1m{'__name__': '__main__', '__doc__': 'Automatically created module for IPython interactive environment', '__package__': None, ...\u001b[0m\n",
      "    \u001b[36m     │         │    │               └ \u001b[0m\u001b[36m\u001b[1m<ipykernel.zmqshell.ZMQInteractiveShell object at 0x000001DFFF8784C0>\u001b[0m\n",
      "    \u001b[36m     │         │    └ \u001b[0m\u001b[36m\u001b[1m<property object at 0x000001DFFE016720>\u001b[0m\n",
      "    \u001b[36m     │         └ \u001b[0m\u001b[36m\u001b[1m<ipykernel.zmqshell.ZMQInteractiveShell object at 0x000001DFFF8784C0>\u001b[0m\n",
      "    \u001b[36m     └ \u001b[0m\u001b[36m\u001b[1m<code object <module> at 0x000001DF8DAAE0E0, file \"C:\\Users\\gabeo\\AppData\\Local\\Temp\\ipykernel_15984\\4199254819.py\", line 47>\u001b[0m\n",
      "\n",
      "> File \"\u001b[32mC:\\Users\\gabeo\\AppData\\Local\\Temp\\ipykernel_15984\\\u001b[0m\u001b[32m\u001b[1m4199254819.py\u001b[0m\", line \u001b[33m48\u001b[0m, in \u001b[35m<module>\u001b[0m\n",
      "    \u001b[1msequence\u001b[0m \u001b[35m\u001b[1m=\u001b[0m \u001b[1morganize_SF\u001b[0m\u001b[1m(\u001b[0m\u001b[1mSF_Sort_arr\u001b[0m\u001b[1m)\u001b[0m\n",
      "    \u001b[36m           └ \u001b[0m\u001b[36m\u001b[1m<function organize_SF at 0x000001DF8DA69B80>\u001b[0m\n",
      "\n",
      "\u001b[31m\u001b[1mNameError\u001b[0m:\u001b[1m name 'SF_Sort_arr' is not defined\u001b[0m\n"
     ]
    },
    {
     "ename": "NameError",
     "evalue": "name 'sequence' is not defined",
     "output_type": "error",
     "traceback": [
      "\u001b[1;31m---------------------------------------------------------------------------\u001b[0m",
      "\u001b[1;31mNameError\u001b[0m                                 Traceback (most recent call last)",
      "\u001b[1;32m~\\AppData\\Local\\Temp\\ipykernel_15984\\4199254819.py\u001b[0m in \u001b[0;36m<module>\u001b[1;34m\u001b[0m\n\u001b[0;32m     58\u001b[0m \u001b[1;33m\u001b[0m\u001b[0m\n\u001b[0;32m     59\u001b[0m \u001b[1;31m# print('sequences '+str(sequence[0]))\u001b[0m\u001b[1;33m\u001b[0m\u001b[1;33m\u001b[0m\u001b[0m\n\u001b[1;32m---> 60\u001b[1;33m \u001b[0mprint\u001b[0m\u001b[1;33m(\u001b[0m\u001b[0mstr\u001b[0m\u001b[1;33m(\u001b[0m\u001b[0mlen\u001b[0m\u001b[1;33m(\u001b[0m\u001b[0msequence\u001b[0m\u001b[1;33m[\u001b[0m\u001b[1;36m0\u001b[0m\u001b[1;33m]\u001b[0m\u001b[1;33m)\u001b[0m\u001b[1;33m)\u001b[0m\u001b[1;33m+\u001b[0m\u001b[1;34m' sequences with sequence order: '\u001b[0m\u001b[1;33m+\u001b[0m\u001b[0mstr\u001b[0m\u001b[1;33m(\u001b[0m\u001b[0msequence\u001b[0m\u001b[1;33m[\u001b[0m\u001b[1;36m1\u001b[0m\u001b[1;33m]\u001b[0m\u001b[1;33m[\u001b[0m\u001b[1;36m0\u001b[0m\u001b[1;33m]\u001b[0m\u001b[1;33m)\u001b[0m\u001b[1;33m)\u001b[0m\u001b[1;33m\u001b[0m\u001b[1;33m\u001b[0m\u001b[0m\n\u001b[0m\u001b[0;32m     61\u001b[0m \u001b[1;31m# print(leftovers)\u001b[0m\u001b[1;33m\u001b[0m\u001b[1;33m\u001b[0m\u001b[0m\n",
      "\u001b[1;31mNameError\u001b[0m: name 'sequence' is not defined"
     ]
    }
   ],
   "source": [
    "def organize_SF(SFsort_info): ## sometimes pulse 0 has the state switch. In that case, need to account by if clauses below\n",
    "    counter = 0\n",
    "    seq = 0\n",
    "    seq_arr = ([[],[],[]])\n",
    "    smallerseq = []\n",
    "    smallerstateis = []\n",
    "    for i in range(len(SFsort_info[1])-(np.mod((len(SFsort_info[1])), 8))):  ##111 mod 8 = 7, so essentially 111-7 = 104\n",
    "        counter = counter+1\n",
    "        if counter < 8:\n",
    "            if (SF_Sort_arr[1][i]) == 0: ## catches state switches at pulse 0\n",
    "                smallerstateis.append([(SFsort_info[1][i])+5,(SFsort_info[1][i+1])])\n",
    "                smallerseq.append(SFsort_info[0][i+1])\n",
    "                seq = seq+1\n",
    "                continue\n",
    "            smallerstateis.append([(SFsort_info[1][i])+5,(SFsort_info[1][i+1])])\n",
    "            smallerseq.append(SFsort_info[0][i+1])\n",
    "        elif counter == 8:\n",
    "            if ((SF_Sort_arr[1][i])+45) >= 5000: ## breaks for state switches at pulse 0\n",
    "                print(((SF_Sort_arr[1][i])+5))\n",
    "                seq = seq+1\n",
    "                seq_arr[0].append(seq)\n",
    "                seq_arr[1].append(smallerseq)   \n",
    "                seq_arr[2].append(smallerstateis)\n",
    "                seq_arr[0] = [x-1 for x in seq_arr[0]] ## reset so sequences are 1-14 instead of 2-15\n",
    "                break\n",
    "            seq = seq+1 ## otherwise continue regular sorting\n",
    "            smallerstateis.append([(SFsort_info[1][i])+5,(SFsort_info[1][i+1])])\n",
    "            smallerseq.append(SFsort_info[0][i+1])\n",
    "            seq_arr[0].append(seq)\n",
    "            seq_arr[1].append(smallerseq)   \n",
    "            seq_arr[2].append(smallerstateis)\n",
    "            smallerseq = []\n",
    "            smallerstateis = []\n",
    "            counter  = 0\n",
    "    return seq_arr\n",
    "\n",
    "def find_leftover(SFsort_info, seq_arr): ## in case we want to use the other 6 states left over\n",
    "    left = [[seq_arr[0][-1]+1],[],[]]\n",
    "    counter = 0\n",
    "    for i in range((len(SFsort_info[1])-(np.mod((len(SFsort_info[1])), 8))), len(SFsort_info[1])-1):\n",
    "        counter = counter+1\n",
    "        if counter < 8:\n",
    "            left[1].append(SFsort_info[0][i+1])\n",
    "            left[2].append([(SFsort_info[1][i])+5,(SFsort_info[1][i+1])])\n",
    "    return left\n",
    "\n",
    "try:\n",
    "    sequence = organize_SF(SF_Sort_arr)\n",
    "    if len(sequence[0]) == 14: ## catches state switches at pulse 0, leftovers are at the end of the regular sequence\n",
    "        leftovers = [[sequence[0][-1]],[sequence[1][-1]],[sequence[2][-1]]]\n",
    "        for i in range(len(sequence)):\n",
    "            sequence[i].pop(-1) ## deletes the leftovers sequence for state switches at pulse 0\n",
    "    else:\n",
    "        leftovers = find_leftover(SF_Sort_arr, sequence) ## otherwise can use normal function\n",
    "except Exception as e:\n",
    "    logger.error('run '+run_num + ' failed during sequencing')\n",
    "    logger.exception(e)\n",
    "\n",
    "# print('sequences '+str(sequence[0]))\n",
    "print(str(len(sequence[0]))+' sequences with sequence order: '+str(sequence[1][0]))\n",
    "# print(leftovers)"
   ]
  },
  {
   "cell_type": "code",
   "execution_count": 318,
   "metadata": {},
   "outputs": [
    {
     "name": "stdout",
     "output_type": "stream",
     "text": [
      "[[1, 2, 3, 4, 5, 6, 7, 8, 9, 10, 11, 12, 13], [[6, 7, 0, 1, 2, 3, 4, 5], [6, 7, 0, 1, 2, 3, 4, 5], [6, 7, 0, 1, 2, 3, 4, 5], [6, 7, 0, 1, 2, 3, 4, 5], [6, 7, 0, 1, 2, 3, 4, 5], [6, 7, 0, 1, 2, 3, 4, 5], [6, 7, 0, 1, 2, 3, 4, 5], [6, 7, 0, 1, 2, 3, 4, 5], [6, 7, 0, 1, 2, 3, 4, 5], [6, 7, 0, 1, 2, 3, 4, 5], [6, 7, 0, 1, 2, 3, 4, 5], [6, 7, 0, 1, 2, 3, 4, 5], [6, 7, 0, 1, 2, 3, 4, 5]], [[[33, 73], [78, 118], [123, 163], [168, 208], [213, 253], [258, 298], [303, 343], [348, 388]], [[393, 433], [438, 478], [483, 523], [528, 568], [573, 613], [618, 658], [663, 703], [708, 748]], [[753, 793], [798, 838], [843, 883], [888, 928], [933, 973], [978, 1018], [1023, 1063], [1068, 1108]], [[1113, 1153], [1158, 1198], [1203, 1243], [1248, 1288], [1293, 1333], [1338, 1378], [1383, 1423], [1428, 1468]], [[1473, 1513], [1518, 1558], [1563, 1603], [1608, 1648], [1653, 1693], [1698, 1738], [1743, 1783], [1788, 1828]], [[1833, 1873], [1878, 1918], [1923, 1963], [1968, 2008], [2013, 2053], [2058, 2098], [2103, 2143], [2148, 2188]], [[2193, 2233], [2238, 2278], [2283, 2323], [2328, 2368], [2373, 2413], [2418, 2458], [2463, 2503], [2508, 2548]], [[2553, 2593], [2598, 2638], [2643, 2683], [2688, 2728], [2733, 2773], [2778, 2818], [2823, 2863], [2868, 2908]], [[2913, 2953], [2958, 2998], [3003, 3043], [3048, 3088], [3093, 3133], [3138, 3178], [3183, 3223], [3228, 3268]], [[3273, 3313], [3318, 3358], [3363, 3403], [3408, 3448], [3453, 3493], [3498, 3538], [3543, 3583], [3588, 3628]], [[3633, 3673], [3678, 3718], [3723, 3763], [3768, 3808], [3813, 3853], [3858, 3898], [3903, 3943], [3948, 3988]], [[3993, 4033], [4038, 4078], [4083, 4123], [4128, 4168], [4173, 4213], [4218, 4258], [4263, 4303], [4308, 4348]], [[4353, 4393], [4398, 4438], [4443, 4483], [4488, 4528], [4533, 4573], [4578, 4618], [4623, 4663], [4668, 4708]]]]\n",
      "<class 'list'>\n"
     ]
    }
   ],
   "source": [
    "print(sequence)\n",
    "print(type(sequence))"
   ]
  },
  {
   "cell_type": "code",
   "execution_count": 323,
   "metadata": {},
   "outputs": [
    {
     "name": "stdout",
     "output_type": "stream",
     "text": [
      "[ 464  808  810 1458 1523 1634 1635 1890 1891 3749 3996 3997 4251 4253]\n",
      "808\n",
      "13\n",
      "464\n",
      "uh oh [438, 478] seq  1\n",
      "808\n",
      "uh oh [798, 838] seq  2\n",
      "810\n",
      "uh oh [798, 838] seq  2\n",
      "1458\n",
      "uh oh [1428, 1468] seq  3\n",
      "1523\n",
      "uh oh [1518, 1558] seq  4\n",
      "1634\n",
      "uh oh [1608, 1648] seq  4\n",
      "1635\n",
      "uh oh [1608, 1648] seq  4\n",
      "1890\n",
      "uh oh [1878, 1918] seq  5\n",
      "1891\n",
      "uh oh [1878, 1918] seq  5\n",
      "3749\n",
      "uh oh [3723, 3763] seq  10\n",
      "3996\n",
      "uh oh [3993, 4033] seq  11\n",
      "3997\n",
      "uh oh [3993, 4033] seq  11\n",
      "4251\n",
      "uh oh [4218, 4258] seq  11\n",
      "4253\n",
      "uh oh [4218, 4258] seq  11\n"
     ]
    }
   ],
   "source": [
    "## continue here\n",
    "\n",
    "print(problems)\n",
    "print(problems[1])\n",
    "# print(sequence[2][7])\n",
    "print(len(sequence[2]))\n",
    "for prob in range(len(problems)):\n",
    "    print(problems[prob])\n",
    "    for seq in range(len(sequence[2])):\n",
    "        for reg in range(len(sequence[2][seq])):\n",
    "            stateregs = sequence[2][seq][reg]\n",
    "    #         print(stateregs[0])\n",
    "    #         print(sequence[2][seq][reg])\n",
    "    #     print(len(sequence[2][seq]))\n",
    "#             print(problems[prob])\n",
    "            if stateregs[0]<=problems[prob]<=stateregs[1]:\n",
    "                print('uh oh', str(stateregs), 'seq ', str(seq))\n",
    "                break"
   ]
  },
  {
   "cell_type": "code",
   "execution_count": 321,
   "metadata": {},
   "outputs": [
    {
     "name": "stdout",
     "output_type": "stream",
     "text": [
      "[ 464  808  810 1458 1523 1634 1635 1890 1891 3749 3996 3997 4251 4253]\n",
      "808\n",
      "13\n",
      "uh oh [1428, 1468] seq  3\n",
      "1458\n"
     ]
    }
   ],
   "source": [
    "## continue here\n",
    "\n",
    "print(problems)\n",
    "print(problems[1])\n",
    "# print(sequence[2][7])\n",
    "print(len(sequence[2]))\n",
    "#     print(problems[prob])\n",
    "for seq in range(len(sequence[2])):\n",
    "    for reg in range(len(sequence[2][seq])):\n",
    "        stateregs = sequence[2][seq][reg]\n",
    "#         print(stateregs[0])\n",
    "#         print(sequence[2][seq][reg])\n",
    "#     print(len(sequence[2][seq]))\n",
    "#             print(problems[prob])\n",
    "#     print(stateregs)\n",
    "    for prob in range(len(problems)):\n",
    "        if stateregs[0]<=problems[prob]<=stateregs[1]:\n",
    "            print('uh oh', str(stateregs), 'seq ', str(seq))\n",
    "            print(problems[prob])\n",
    "            break"
   ]
  },
  {
   "cell_type": "code",
   "execution_count": 285,
   "metadata": {},
   "outputs": [],
   "source": [
    "import copy"
   ]
  },
  {
   "cell_type": "code",
   "execution_count": 287,
   "metadata": {},
   "outputs": [
    {
     "name": "stdout",
     "output_type": "stream",
     "text": [
      "[1, 2, 3, 4, 5, 6, 7, 8, 9, 10, 11, 12, 13]\n",
      "[[2553, 2593], [2598, 2638], [2643, 2683], [2688, 2728], [2733, 2773], [2778, 2818], [2823, 2863], [2868, 2908]]\n",
      "3\n",
      "13\n",
      "13\n",
      "[1 2 3 4 5 6 7 9 10 11 12 13]\n",
      "[[2913, 2953], [2958, 2998], [3003, 3043], [3048, 3088], [3093, 3133], [3138, 3178], [3183, 3223], [3228, 3268]]\n",
      "3\n",
      "12\n",
      "12\n"
     ]
    }
   ],
   "source": [
    "# test = [del sequence[0], 7,del sequence[1], 7,del sequence[2], 7]\n",
    "# print(problems)\n",
    "# print(sequence[2][7])\n",
    "test = copy.deepcopy(sequence)\n",
    "print(test[0])\n",
    "print(test[2][7])\n",
    "print(len(test))\n",
    "print(len(test[1]))\n",
    "print(len(test[0]))\n",
    "test = np.delete(test,7,1)\n",
    "print(test[0])\n",
    "print(test[2][7])\n",
    "print(len(test))\n",
    "print(len(test[1]))\n",
    "print(len(test[0]))\n",
    "# test = [np.delete(test[0],7)]\n",
    "# print(np.delete(test,7,1))\n",
    "# print(len(test[0]))\n",
    "\n",
    "# del test[0][7]\n",
    "# del test[1][7]\n",
    "# del test[2][7]\n",
    "# print(len(test))\n",
    "# print(len(sequence))\n",
    "# # print(len(test))\n",
    "# print(len(sequence[1]))\n",
    "# print(test)"
   ]
  },
  {
   "cell_type": "code",
   "execution_count": 242,
   "metadata": {},
   "outputs": [
    {
     "name": "stdout",
     "output_type": "stream",
     "text": [
      "[[2553, 2593], [2598, 2638], [2643, 2683], [2688, 2728], [2733, 2773], [2778, 2818], [2823, 2863], [2868, 2908]]\n"
     ]
    }
   ],
   "source": [
    "print(sequence[2][7])\n",
    "# print(sequence[0], sequence[2])\n",
    "# print(test[0], test[2])"
   ]
  },
  {
   "cell_type": "code",
   "execution_count": null,
   "metadata": {},
   "outputs": [],
   "source": []
  },
  {
   "cell_type": "code",
   "execution_count": null,
   "metadata": {},
   "outputs": [],
   "source": []
  },
  {
   "cell_type": "code",
   "execution_count": null,
   "metadata": {},
   "outputs": [],
   "source": []
  },
  {
   "cell_type": "code",
   "execution_count": null,
   "metadata": {},
   "outputs": [],
   "source": []
  },
  {
   "cell_type": "code",
   "execution_count": null,
   "metadata": {},
   "outputs": [],
   "source": []
  },
  {
   "cell_type": "code",
   "execution_count": 13,
   "metadata": {},
   "outputs": [
    {
     "ename": "NameError",
     "evalue": "name 'sequence' is not defined",
     "output_type": "error",
     "traceback": [
      "\u001b[1;31m---------------------------------------------------------------------------\u001b[0m",
      "\u001b[1;31mNameError\u001b[0m                                 Traceback (most recent call last)",
      "\u001b[1;32m~\\AppData\\Local\\Temp\\ipykernel_15984\\1293733107.py\u001b[0m in \u001b[0;36m<module>\u001b[1;34m\u001b[0m\n\u001b[0;32m      3\u001b[0m \u001b[1;33m\u001b[0m\u001b[0m\n\u001b[0;32m      4\u001b[0m \u001b[0mstart\u001b[0m \u001b[1;33m=\u001b[0m \u001b[0mtime\u001b[0m\u001b[1;33m.\u001b[0m\u001b[0mtime\u001b[0m\u001b[1;33m(\u001b[0m\u001b[1;33m)\u001b[0m\u001b[1;33m\u001b[0m\u001b[1;33m\u001b[0m\u001b[0m\n\u001b[1;32m----> 5\u001b[1;33m \u001b[0msequence\u001b[0m \u001b[1;33m=\u001b[0m \u001b[0mnp\u001b[0m\u001b[1;33m.\u001b[0m\u001b[0masarray\u001b[0m\u001b[1;33m(\u001b[0m\u001b[0msequence\u001b[0m\u001b[1;33m,\u001b[0m \u001b[0mdtype\u001b[0m \u001b[1;33m=\u001b[0m \u001b[0mobject\u001b[0m\u001b[1;33m)\u001b[0m\u001b[1;33m\u001b[0m\u001b[1;33m\u001b[0m\u001b[0m\n\u001b[0m\u001b[0;32m      6\u001b[0m \u001b[1;33m\u001b[0m\u001b[0m\n\u001b[0;32m      7\u001b[0m \u001b[0mON_sums\u001b[0m \u001b[1;33m=\u001b[0m \u001b[0mnp\u001b[0m\u001b[1;33m.\u001b[0m\u001b[0mzeros\u001b[0m\u001b[1;33m(\u001b[0m\u001b[1;33m(\u001b[0m\u001b[0mlen\u001b[0m\u001b[1;33m(\u001b[0m\u001b[0mys_cut\u001b[0m\u001b[1;33m)\u001b[0m\u001b[1;33m,\u001b[0m \u001b[0mlen\u001b[0m\u001b[1;33m(\u001b[0m\u001b[0msequence\u001b[0m\u001b[1;33m[\u001b[0m\u001b[1;36m0\u001b[0m\u001b[1;33m]\u001b[0m\u001b[1;33m)\u001b[0m\u001b[1;33m,\u001b[0m \u001b[0mlen\u001b[0m\u001b[1;33m(\u001b[0m\u001b[0mys_cut\u001b[0m\u001b[1;33m[\u001b[0m\u001b[1;36m0\u001b[0m\u001b[1;33m]\u001b[0m\u001b[1;33m[\u001b[0m\u001b[1;36m0\u001b[0m\u001b[1;33m]\u001b[0m\u001b[1;33m)\u001b[0m\u001b[1;33m)\u001b[0m\u001b[1;33m,\u001b[0m \u001b[0mdtype\u001b[0m\u001b[1;33m=\u001b[0m\u001b[0mnp\u001b[0m\u001b[1;33m.\u001b[0m\u001b[0mfloat64\u001b[0m\u001b[1;33m)\u001b[0m \u001b[1;31m## 13 channels, 13 sequences, added pulses for ON\u001b[0m\u001b[1;33m\u001b[0m\u001b[1;33m\u001b[0m\u001b[0m\n",
      "\u001b[1;31mNameError\u001b[0m: name 'sequence' is not defined"
     ]
    }
   ],
   "source": [
    "#  add up pulses for their respective state, in each 8 step sequence ##\n",
    "#  turning into a by-channel function 06.13.24 ##\n",
    "\n",
    "start = time.time()\n",
    "sequence = np.asarray(sequence, dtype = object)\n",
    "\n",
    "ON_sums = np.zeros((len(ys_cut), len(sequence[0]), len(ys_cut[0][0])), dtype=np.float64) ## 13 channels, 13 sequences, added pulses for ON\n",
    "OFF_sums = np.zeros((len(ys_cut), len(sequence[0]), len(ys_cut[0][0])), dtype=np.float64) ## 13 channels, 13 sequences, added pulses for OFF\n",
    "\n",
    "# @njit\n",
    "def add_pulse(ys, SFarr):\n",
    "    temp_ON = np.zeros((len(SFarr[0]), len(ys[0])), dtype=np.float64)\n",
    "    temp_OFF = np.zeros((len(SFarr[0]), len(ys[0])), dtype=np.float64)\n",
    "    for seq in range(0, len(SFarr[0])): ## for every sequence\n",
    "    #         print('seq:' +str(SFarr[0][seq]))\n",
    "#         print('seq:' +str(seq))\n",
    "        for state in range(0, len(SFarr[1][0])): ## for every state in the sequence\n",
    "    #         print(\"states loop \" + str(range(0, len(SFarr[1][0]))[0]) + ' - ' +  str(range(0, len(SFarr[1][0]))[-1]))\n",
    "            s = SFarr[1][seq][state] ## try this to condense code. Basically, the state currently at\n",
    "            if s==0 or s==3 or s==5 or s==6: ## these are ON states\n",
    "#                 print('ON \"s\" state '+str(s))\n",
    "#                 print('\"state\" ' +str(state) + ' from ' + str(range((SFarr[2][seq][state][0]),(SFarr[2][seq][state][1]))))\n",
    "#                 print('sums from '+str(range((SFarr[2][seq][state][0]),(SFarr[2][seq][state][1]))[0]) +\n",
    "#                 ' - ' +str(range((SFarr[2][seq][state][0]),(SFarr[2][seq][state][1]))[-1]) + '\\n')\n",
    "                for p in range((SFarr[2][seq][state][0]),(SFarr[2][seq][state][1])): ##From 20-60 for example. SFarr[2] is the array of start to end pulses to sum\n",
    "                    temp_ON[seq] = np.add(temp_ON[seq],ys[p]) ## start with zeros, add to each iteratively\n",
    "            if s==1 or s==2 or s==4 or s==7: ## these are OFF states\n",
    "#                 print('OFF \"s\" state '+str(s))\n",
    "#                 print('\"state\" ' +str(state) + ' from ' + str(range((SFarr[2][seq][state][0]),(SFarr[2][seq][state][1]))))\n",
    "#                 print('sums from '+str(range((SFarr[2][seq][state][0]),(SFarr[2][seq][state][1]))[0]) +\n",
    "#                 ' - ' +str(range((SFarr[2][seq][state][0]),(SFarr[2][seq][state][1]))[-1]) + '\\n')\n",
    "                for p in range((SFarr[2][seq][state][0]),(SFarr[2][seq][state][1])):\n",
    "                    temp_OFF[seq] = np.add(temp_OFF[seq],ys[p])\n",
    "    return temp_ON, temp_OFF\n",
    "\n",
    "for i in range(len(ys_cut)):\n",
    "#     print('#################### channel: ' + str(i) + ' ##########################')\n",
    "    ON_sums[i], OFF_sums[i] = add_pulse(ys_cut[i], sequence)\n",
    "    \n",
    "# for i in range(len(ys_basesub)-12):\n",
    "#     print('#################### channel: ' + str(i) + ' ##########################')\n",
    "#     ON_sums[i], OFF_sums[i], ON_minus_sums[i], ON_plus_sums[i] = add_pulse(ys_basesub[i], sequence)\n",
    "\n",
    "end = time.time()\n",
    "print('summing pulses into their states time: ' + str(end-start))  "
   ]
  },
  {
   "cell_type": "code",
   "execution_count": 15,
   "metadata": {
    "scrolled": true
   },
   "outputs": [
    {
     "name": "stdout",
     "output_type": "stream",
     "text": [
      "13\n",
      "13\n",
      "8992\n",
      "13\n",
      "13\n",
      "8992\n"
     ]
    }
   ],
   "source": [
    "print(len(ON_sums))\n",
    "print(len(ON_sums[1]))\n",
    "print(len(ON_sums[1][1]))\n",
    "print(len(OFF_sums))\n",
    "print(len(OFF_sums[1]))\n",
    "print(len(OFF_sums[1][1]))\n",
    "# plt.plot(ON_sums[-1][0])"
   ]
  },
  {
   "cell_type": "markdown",
   "metadata": {},
   "source": [
    "### cleaned up fitting"
   ]
  },
  {
   "cell_type": "code",
   "execution_count": 16,
   "metadata": {},
   "outputs": [],
   "source": [
    "from scipy import odr\n",
    "from scipy.special import voigt_profile\n",
    "from scipy.optimize import curve_fit"
   ]
  },
  {
   "cell_type": "markdown",
   "metadata": {},
   "source": [
    "#### bg fitting"
   ]
  },
  {
   "cell_type": "code",
   "execution_count": 17,
   "metadata": {},
   "outputs": [],
   "source": [
    "bg_region1_beg = 4180\n",
    "bg_region1_end = 5450\n",
    "bg_region2_beg = 6250\n",
    "bg_region2_end = 8992\n",
    "bg_reg1 = [bg_region1_beg,bg_region1_end]\n",
    "bg_reg2 = [bg_region2_beg,bg_region2_end]\n",
    "fullrange = bg_reg2[1]-bg_reg1[0]"
   ]
  },
  {
   "cell_type": "code",
   "execution_count": 18,
   "metadata": {},
   "outputs": [
    {
     "name": "stdout",
     "output_type": "stream",
     "text": [
      "bg_ fitting time: 13.960756540298462\n"
     ]
    }
   ],
   "source": [
    "## change to 2nd order poly in cleaned up version\n",
    "start = time.time()\n",
    "\n",
    "def bg_fitsubtract(bef_res_reg, aft_res_reg, ys): ## before/after resonance region [start:end] respectively, ys[ch] to fit\n",
    "    binstot = aft_res_reg[1]-bef_res_reg[0]  ## total number of bins in whole region\n",
    "    x1 = np.arange(bef_res_reg[0], bef_res_reg[1],1)\n",
    "    x2 = np.arange(aft_res_reg[0], aft_res_reg[1],1)\n",
    "    x = np.append(x1,x2)\n",
    "    fullx = np.arange(bef_res_reg[0], aft_res_reg[1],1) ## an array of every x bin in entire region\n",
    "    ys_bgsub = []\n",
    "#     seq_bgsub = []\n",
    "    for seq in range(0, len(ys)): ## number of sequences, usually 13\n",
    "        fitdata1 = ys[seq][bef_res_reg[0]: bef_res_reg[1]]\n",
    "        fitdata2 = ys[seq][aft_res_reg[0]: aft_res_reg[1]]\n",
    "        datasplice = np.append(fitdata1, fitdata2)\n",
    "#         x = np.linspace(0, len(datasplice),len(datasplice))\n",
    "        y = datasplice\n",
    "        data = odr.Data(x, y)\n",
    "        poly_model2 = odr.polynomial(2)  # using third order polynomial model\n",
    "        odr_obj = odr.ODR(data, poly_model2)\n",
    "        output = odr_obj.run()  # running ODR fitting\n",
    "        poly2 = np.poly1d(output.beta[::-1])\n",
    "        poly_y2 = poly2(x)\n",
    "        fullpoly_y2 = poly2(fullx)\n",
    "        bgsubtracted = ys[seq][bef_res_reg[0]:aft_res_reg[1]] - fullpoly_y2  ## subtracts RealData-BackgroundFit\n",
    "#         seq_bgsub.append(bgsubtracted)\n",
    "        ys_bgsub.append(bgsubtracted)\n",
    "#     ys_bgsub.append(seq_bgsub)\n",
    "    return ys_bgsub\n",
    "\n",
    "## background subtraction currently only for NaI detectors\n",
    "num_fittingchs = len(ON_sums)-1  ## removes the Li detector, assumes it is there\n",
    "ON_bgsub = np.zeros((num_fittingchs,len(ON_sums[0]),fullrange), dtype = np.float64) ## channels, sequences, range of bg_ subtraction\n",
    "OFF_bgsub = np.zeros((num_fittingchs,len(ON_sums[0]),fullrange), dtype = np.float64) ## channels, sequences, range of bg_ subtraction\n",
    "\n",
    "for i in range(0, len(ON_sums)-1):\n",
    "    if chan_enab[i] == 24:\n",
    "        emessage = ('bg_ fit does not work for 6Li yet')\n",
    "#         logger.error(run_num + emessage)\n",
    "        raise Exception(emessage)\n",
    "#     print(chan_enab[i])\n",
    "    ON_bgsub[i]  = bg_fitsubtract(bg_reg1,bg_reg2, ON_sums[i])\n",
    "    OFF_bgsub[i] = bg_fitsubtract(bg_reg1,bg_reg2, OFF_sums[i])\n",
    "    \n",
    "# for i in range(len(testfunc)):\n",
    "#     plt.plot(xs_cut[1][bg_reg1[0]:bg_reg2[1]]*1e-6, testfunc[i], lw = '1.0', label='3rd Order polynomial background subtracted')\n",
    "\n",
    "end = time.time()\n",
    "print('bg_ fitting time: ' + str(end-start))  "
   ]
  },
  {
   "cell_type": "code",
   "execution_count": 19,
   "metadata": {},
   "outputs": [
    {
     "data": {
      "text/plain": [
       "[<matplotlib.lines.Line2D at 0x1e24dd493d0>]"
      ]
     },
     "execution_count": 19,
     "metadata": {},
     "output_type": "execute_result"
    },
    {
     "data": {
      "image/png": "[encoded data removed]",
      "text/plain": [
       "<Figure size 640x480 with 1 Axes>"
      ]
     },
     "metadata": {},
     "output_type": "display_data"
    }
   ],
   "source": [
    "plt.plot(ON_bgsub[0][0])"
   ]
  },
  {
   "cell_type": "code",
   "execution_count": 20,
   "metadata": {},
   "outputs": [],
   "source": [
    "%matplotlib qt\n",
    "ch = 1\n",
    "seq = 0\n",
    "plt.plot(xs_cut[1]*1e-6, ON_sums[ch][seq], lw = '1.0')\n",
    "reg_full = ON_sums[ch][seq][bg_reg1[0]:8992]\n",
    "xs_bg_reg = xs_cut[ch][bg_reg1[0]:bg_reg2[1]]*1e-6  ## new 11.21.24\n",
    "# left = ON_sums[1][0][bg_reg1[0]:bg_reg1[1]]-poly_y[0:1270]\n",
    "# right = ON_sums[1][0][6250:bg_reg2[1]]-poly_y[1270:]\n",
    "# bgsubtracted2 = ON_sums[ch][0][bg_reg1[0]:bg_reg2[1]] - fullpoly_y2\n",
    "# bgsubtracted3 = ON_sums[ch][0][bg_reg1[0]:bg_reg2[1]] - fullpoly_y3\n",
    "# bgsubtracted2OFF = OFF_sums[ch][0][bg_reg1[0]:bg_reg2[1]] - fullpoly_y2\n",
    "\n",
    "bgsubtracted2 = ON_bgsub[ch][seq]\n",
    "\n",
    "# plt.plot(test_polyregx, left, color = 'y')\n",
    "# plt.plot(test_polyregx2, right, color = 'r')\n",
    "plt.plot(xs_cut[1][bg_reg1[0]:8992]*1e-6, reg_full, color = '#ff7f0eff', lw = '1.0', label = 'full bg_ subtraction region')\n",
    "\n",
    "# res_only = np.append(left,ON_sums[1][0][bg_reg1[1]:6250])\n",
    "# res_only = np.append(res_only,right)\n",
    "plt.plot(xs_bg_reg, bgsubtracted2, color = 'r', lw = '1.0', label='2nd Order polynomial background subtracted')\n",
    "# plt.plot(xs_cut[1][bg_reg1[0]:bg_reg2[1]]*1e-6, bgsubtracted3, color = 'g', lw = '1.0', label='3rd Order polynomial background subtracted')\n",
    "# plt.plot(xs_cut[1][bg_reg1[0]:bg_reg2[1]]*1e-6, OFF_sums[1][0][bg_reg1[0]:bg_reg2[1]]-ON_sums[1][0][bg_reg1[0]:bg_reg2[1]], color = 'g', lw = '1.0', label='simple subtraction')\n",
    "# plt.plot(xs_cut[1][bg_reg1[0]:bg_reg2[1]]*1e-6, OFF_bgsub[1][0]-ON_bgsub[1][0], color = 'm', lw = '1.0', label='fit subtraction?')\n",
    "\n",
    "plt.axhline(0, ls='--')\n",
    "\n",
    "plt.title('Fits to background (On sums, 160 pulses in 1 sequence)') \n",
    "plt.xlabel(\"tof (ms)\")\n",
    "plt.ylabel(\"Counts (arbitrary)\")\n",
    "plt.xlabel(\"tof (ms)\", fontsize = '12')\n",
    "plt.ylabel(\"ADC\", fontsize = '12')\n",
    "plt.legend()\n",
    "plt.show()"
   ]
  },
  {
   "cell_type": "code",
   "execution_count": 21,
   "metadata": {
    "scrolled": true
   },
   "outputs": [
    {
     "name": "stdout",
     "output_type": "stream",
     "text": [
      "[[  30.41604415  131.68166886   17.53360467 ... -146.78749339\n",
      "  -186.8637918   -94.85704659]\n",
      " [-122.0030031    42.8910971   111.30101504 ...    6.10219344\n",
      "   150.7868438    86.12156165]\n",
      " [ -18.89787493   89.81747056   18.64327656 ... -109.14017166\n",
      "   -29.90670034  -65.78030222]\n",
      " ...\n",
      " [ 418.7636542   131.89452534 -198.63553538 ... -126.85054427\n",
      "    16.17900581  -18.98797325]\n",
      " [  69.76274621  131.57485578  120.61444849 ...  177.82934001\n",
      "  -113.13022574  -28.7810197 ]\n",
      " [ 141.76371352  275.27522321   38.67418833 ... -159.8721108\n",
      "    -8.74978203  -67.0955684 ]]\n"
     ]
    }
   ],
   "source": [
    "print(ON_bgsub[-1])"
   ]
  },
  {
   "cell_type": "markdown",
   "metadata": {},
   "source": [
    "#### now voigt"
   ]
  },
  {
   "cell_type": "code",
   "execution_count": 22,
   "metadata": {},
   "outputs": [],
   "source": [
    "def voigt2(x, sig, gam, xshift, amp):\n",
    "    fit = voigt_profile(x-xshift, sig, gam)*amp\n",
    "    return fit"
   ]
  },
  {
   "cell_type": "code",
   "execution_count": 23,
   "metadata": {},
   "outputs": [],
   "source": [
    "# res_region_beg = 5450\n",
    "# res_region_end = 6250\n",
    "res_region_beg = bg_region1_end  ##currently res region is not selectable... inside of background region\n",
    "res_region_end = bg_region2_beg\n",
    "res_reg = [res_region_beg,res_region_end]\n",
    "if res_reg[0] < bg_reg1[1] or res_reg[1]>bg_reg2[0]:\n",
    "    emessage = ('Declared Background region and Resonance region have overlapping fitting regions')\n",
    "    logger.error('run '+run_num + emessage)\n",
    "    raise Exception(emessage)\n",
    "\n",
    "xdata = xs_cut[0][res_reg[0]:res_reg[1]]*1e-6  ## just change all xs to ms and one array\n",
    "# ydata = ON_bgsub[1][0][bg_reg1[1]-bg_reg1[0]:bg_reg2[0]-bg_reg1[0]] ## generalize"
   ]
  },
  {
   "cell_type": "code",
   "execution_count": 24,
   "metadata": {},
   "outputs": [
    {
     "name": "stdout",
     "output_type": "stream",
     "text": [
      "800\n",
      "12\n",
      "13\n",
      "4812\n",
      "800\n"
     ]
    }
   ],
   "source": [
    "print(len(xdata))\n",
    "# print(len(ydata))\n",
    "print(len(ON_bgsub))\n",
    "print(len(ON_bgsub[0]))\n",
    "print(len(ON_bgsub[0][0]))\n",
    "print(res_reg[1]-res_reg[0])"
   ]
  },
  {
   "cell_type": "code",
   "execution_count": 25,
   "metadata": {},
   "outputs": [
    {
     "name": "stdout",
     "output_type": "stream",
     "text": [
      "12 13 800\n",
      "12 13 800\n",
      "0\n",
      "1\n",
      "2\n",
      "3\n",
      "4\n",
      "5\n",
      "6\n",
      "7\n",
      "8\n",
      "9\n",
      "10\n",
      "11\n",
      "12 13 800\n",
      "12 13 2 4\n",
      "bg_ fitting time: 11.510457754135132\n"
     ]
    }
   ],
   "source": [
    "# resonance region is assumed to be in between 2 background regions. Could maybe change this. 11.22.24\n",
    "\n",
    "start = time.time()\n",
    " \n",
    "def voigt_fitting(bef_res_reg, aft_res_reg,xs,ys):\n",
    "    fit_curves = []\n",
    "#     amplitudes = []\n",
    "    parameters = []\n",
    "#     parameters = []\n",
    "#     parameters_err = []\n",
    "    for seq in range(0, len(ys)): ## number of sequences, usually 13\n",
    "#         params = []\n",
    "#         params_err = []\n",
    "        ydata = ys[seq][bef_res_reg[1]-bef_res_reg[0]:aft_res_reg[0]-bef_res_reg[0]] \n",
    "        popt, pcov = curve_fit(voigt2, xs, ydata, bounds = ([0,0,0,-np.inf], [np.inf,np.inf,np.inf, np.inf]))\n",
    "        fitted_curve = voigt2(xs, popt[0],popt[1],popt[2],popt[3],) ## sigma, gamma, xshift (res. center), amp. related thing\n",
    "#         amp = max(fitted_curve)\n",
    "        fit_curves.append(fitted_curve)\n",
    "#         amplitudes.append(amp)\n",
    "        fit_params = popt\n",
    "        fit_errs = np.diagonal(pcov)\n",
    "        parameters.append([fit_params,fit_errs])\n",
    "#         parameters_err.append(fit_errs)\n",
    "#     return fit_curves, amplitudes, parameters, parameters_err\n",
    "#     return fit_curves, parameters, parameters_err\n",
    "    return fit_curves, parameters\n",
    "\n",
    "\n",
    "# testcure, testparam = voigt_fitting(bg_reg1,bg_reg2, xdata,ON_bgsub[1]) ## can take this out later\n",
    "\n",
    "res_size = res_reg[1]-res_reg[0] \n",
    "ON_vfit = np.zeros((len(ON_bgsub),len(ON_bgsub[0]),res_size), dtype = np.float64) ## channels, sequences, range of V_ subtraction\n",
    "OFF_vfit = np.zeros((len(ON_bgsub),len(ON_bgsub[0]),res_size), dtype = np.float64) ## channels, sequences, range of V_ subtraction\n",
    "print(len(ON_vfit), len(ON_vfit[0]),len(ON_vfit[0][0]))\n",
    "ON_vfit_params = np.zeros((len(ON_bgsub),len(ON_bgsub[0]),2,4), dtype = np.float64) ## channels, sequences,[params, param_errs], [sigma, gamma, shift, amp thing]\n",
    "OFF_vfit_params = np.zeros((len(ON_bgsub),len(ON_bgsub[0]),2,4), dtype = np.float64)\n",
    "print(len(ON_vfit), len(ON_vfit[0]),len(ON_vfit[0][0]))\n",
    "\n",
    "for i in range(0, len(ON_sums)-1): \n",
    "    if chan_enab[i] == 24:\n",
    "        emessage = ('bg_ fit does not work for 6Li yet')\n",
    "        logger.error('run '+run_num + emessage)\n",
    "        raise Exception(emessage)\n",
    "    try:\n",
    "        print(chan_enab[i])\n",
    "        ON_vfit[i], ON_vfit_params[i]  = voigt_fitting(bg_reg1,bg_reg2,xdata, ON_bgsub[i])\n",
    "        OFF_vfit[i], OFF_vfit_params[i] = voigt_fitting(bg_reg1,bg_reg2,xdata, OFF_bgsub[i])\n",
    "    except Exception as e:\n",
    "        logger.error('run '+run_num + ' failed during Voigt fitting')\n",
    "        logger.exception(e)\n",
    "    \n",
    "print(len(ON_vfit), len(ON_vfit[0]), len(ON_vfit[0][0]))\n",
    "print(len(ON_vfit_params), len(ON_vfit_params[0]), len(ON_vfit_params[0][0]), len(ON_vfit_params[0][0][0]))\n",
    "end = time.time()\n",
    "print('bg_ fitting time: ' + str(end-start)) "
   ]
  },
  {
   "cell_type": "code",
   "execution_count": 26,
   "metadata": {},
   "outputs": [],
   "source": [
    "%matplotlib qt\n",
    "ch = 6\n",
    "seq = 5\n",
    "plt.plot(xs_cut[1]*1e-6, ON_sums[ch][seq], lw = '1.0')\n",
    "reg_full = OFF_sums[ch][seq][bg_reg1[0]:8992]\n",
    "xs_bg_reg = xs_cut[ch][bg_reg1[0]:bg_reg2[1]]*1e-6  ## new 11.21.24\n",
    "# left = ON_sums[1][0][bg_reg1[0]:bg_reg1[1]]-poly_y[0:1270]\n",
    "# right = ON_sums[1][0][6250:bg_reg2[1]]-poly_y[1270:]\n",
    "# bgsubtracted2 = ON_sums[ch][0][bg_reg1[0]:bg_reg2[1]] - fullpoly_y2\n",
    "# bgsubtracted3 = ON_sums[ch][0][bg_reg1[0]:bg_reg2[1]] - fullpoly_y3\n",
    "# bgsubtracted2OFF = OFF_sums[ch][0][bg_reg1[0]:bg_reg2[1]] - fullpoly_y2\n",
    "\n",
    "# bgsubtracted2 = ON_bgsub[ch][seq]\n",
    "bgsubtracted2 = OFF_bgsub[ch][seq]\n",
    "\n",
    "# plt.plot(test_polyregx, left, color = 'y')\n",
    "# plt.plot(test_polyregx2, right, color = 'r')\n",
    "plt.plot(xs_cut[1][bg_reg1[0]:8992]*1e-6, reg_full, color = '#ff7f0eff', lw = '1.0', label = 'full bg_ subtraction region')\n",
    "\n",
    "# res_only = np.append(left,ON_sums[1][0][bg_reg1[1]:6250])\n",
    "# res_only = np.append(res_only,right)\n",
    "plt.plot(xs_bg_reg, bgsubtracted2, color = 'r', lw = '1.0', label='2nd Order polynomial background subtracted')\n",
    "# plt.plot(xs_cut[1][bg_reg1[0]:bg_reg2[1]]*1e-6, bgsubtracted3, color = 'g', lw = '1.0', label='3rd Order polynomial background subtracted')\n",
    "# plt.plot(xs_cut[1][bg_reg1[0]:bg_reg2[1]]*1e-6, OFF_sums[1][0][bg_reg1[0]:bg_reg2[1]]-ON_sums[1][0][bg_reg1[0]:bg_reg2[1]], color = 'g', lw = '1.0', label='simple subtraction')\n",
    "# plt.plot(xs_cut[1][bg_reg1[0]:bg_reg2[1]]*1e-6, OFF_bgsub[1][0]-ON_bgsub[1][0], color = 'm', lw = '1.0', label='fit subtraction?')\n",
    "\n",
    "plt.axhline(0, ls='--')\n",
    "\n",
    "plt.title('Fits to background (On sums, 160 pulses in 1 sequence)') \n",
    "plt.xlabel(\"tof (ms)\")\n",
    "plt.ylabel(\"Counts (arbitrary)\")\n",
    "plt.xlabel(\"tof (ms)\", fontsize = '12')\n",
    "plt.ylabel(\"ADC\", fontsize = '12')\n",
    "plt.legend()\n",
    "plt.show()"
   ]
  },
  {
   "cell_type": "code",
   "execution_count": 139,
   "metadata": {
    "scrolled": true
   },
   "outputs": [
    {
     "name": "stdout",
     "output_type": "stream",
     "text": [
      "[ 0.01860775  0.03096939  1.97015874 16.13343916]\n",
      "[[ 1.14582745e-04 -9.62602550e-05  7.36551066e-09 -9.57414661e-03]\n",
      " [-9.62602550e-05  9.52180003e-05 -7.61195378e-09  1.10185728e-02]\n",
      " [ 7.36551066e-09 -7.61195378e-09  6.41858429e-06 -9.81151556e-07]\n",
      " [-9.57414661e-03  1.10185728e-02 -9.81151556e-07  1.92084611e+00]]\n"
     ]
    }
   ],
   "source": [
    "ch = 10\n",
    "seq = 3\n",
    "res_region_beg = 5450\n",
    "res_region_end = 6250\n",
    "res_reg = [res_region_beg,res_region_end]\n",
    "xdata = xs_cut[ch][res_reg[0]:res_reg[1]]*1e-6\n",
    "# ydata = ON_bgsub[ch][seq][bg_reg1[1]-bg_reg1[0]:bg_reg2[0]-bg_reg1[0]]\n",
    "ydata = OFF_bgsub[ch][seq][bg_reg1[1]-bg_reg1[0]:bg_reg2[0]-bg_reg1[0]]\n",
    "\n",
    "\n",
    "def voigt2(x, sig, gam, xshift, amp):\n",
    "#     sig = 0.055\n",
    "#     xshift = 1.96767\n",
    "    fit = voigt_profile(x-xshift, sig, gam)*amp\n",
    "    return fit\n",
    "\n",
    "popt, pcov = curve_fit(voigt2, xdata, ydata, bounds = ([0,0,0,-np.inf], [np.inf,np.inf,np.inf, np.inf]))\n",
    "print(popt)\n",
    "print(pcov)\n",
    "\n",
    "fitted_curve = voigt2(xdata, popt[0], popt[1], popt[2], popt[3],)\n",
    "\n",
    "# print(max(fitted_curve))\n",
    "# print((popt[3])*np.sqrt(2*np.pi))\n",
    "# print((popt[3])/(np.sqrt(2*np.pi)*popt[0]))\n",
    "# print((popt[3])/(popt[0]))\n",
    "# print(sum(fitted_curve)*(popt[0]*np.sqrt(2*np.pi)))"
   ]
  },
  {
   "cell_type": "code",
   "execution_count": 140,
   "metadata": {},
   "outputs": [
    {
     "name": "stdout",
     "output_type": "stream",
     "text": [
      "[ 79.23274267  24.35352391  95.58994256 -32.34376382 -70.43580095\n",
      "  28.24846706 -45.98816308 141.49192521   8.09565566 -92.51695376]\n",
      "[4.12180377 4.14338225 4.16513057 4.18705052 4.20914391 4.23141257\n",
      " 4.25385835 4.27648314 4.29928885 4.3222774 ]\n"
     ]
    },
    {
     "data": {
      "text/plain": [
       "[<matplotlib.lines.Line2D at 0x1e265ce4940>]"
      ]
     },
     "execution_count": 140,
     "metadata": {},
     "output_type": "execute_result"
    }
   ],
   "source": [
    "print(ydata[10:20])\n",
    "print(fitted_curve[10:20])\n",
    "\n",
    "plt.plot(xdata,ydata, ls = 'none', marker = '.')\n",
    "plt.plot(xdata, fitted_curve)"
   ]
  },
  {
   "cell_type": "code",
   "execution_count": 141,
   "metadata": {},
   "outputs": [],
   "source": [
    "from scipy import stats as st\n"
   ]
  },
  {
   "cell_type": "code",
   "execution_count": 142,
   "metadata": {},
   "outputs": [
    {
     "name": "stdout",
     "output_type": "stream",
     "text": [
      "800\n",
      "800\n",
      "26412.106388483757\n",
      "26412.106388483757\n"
     ]
    }
   ],
   "source": [
    "print(len(ydata))\n",
    "print(len(fitted_curve))\n",
    "print(np.sum(ydata))\n",
    "print(np.sum((np.sum(ydata)/np.sum(fitted_curve))*fitted_curve))"
   ]
  },
  {
   "cell_type": "code",
   "execution_count": 143,
   "metadata": {},
   "outputs": [
    {
     "name": "stdout",
     "output_type": "stream",
     "text": [
      "Power_divergenceResult(statistic=333909.30819295463, pvalue=0.0)\n"
     ]
    }
   ],
   "source": [
    "st.chisquare(ydata, f_exp=(np.sum(ydata)/np.sum(fitted_curve))*fitted_curve)\n",
    "print(st.chisquare(ydata, f_exp=(np.sum(ydata)/np.sum(fitted_curve))*fitted_curve, ddof=4))"
   ]
  },
  {
   "cell_type": "code",
   "execution_count": null,
   "metadata": {},
   "outputs": [],
   "source": []
  },
  {
   "cell_type": "code",
   "execution_count": 39,
   "metadata": {},
   "outputs": [],
   "source": [
    "from lmfit.models import VoigtModel\n",
    "from lmfit import Parameters,minimize, fit_report\n",
    "params = Parameters()\n",
    "# # Slope is bounded between min value of 1.0 and max value of 3.0\n",
    "# params.add('a', min= 0.0, max= 23.0)\n",
    "# # Intercept is made fixed at 0.0 value\n",
    "# params.add('b', min= 0.0, max= 1.0)"
   ]
  },
  {
   "cell_type": "code",
   "execution_count": 40,
   "metadata": {},
   "outputs": [
    {
     "name": "stdout",
     "output_type": "stream",
     "text": [
      "<class 'lmfit.models.VoigtModel'>\n"
     ]
    }
   ],
   "source": [
    "print(VoigtModel)\n",
    "from lmfit.models import LorentzianModel\n"
   ]
  },
  {
   "cell_type": "code",
   "execution_count": 63,
   "metadata": {},
   "outputs": [
    {
     "name": "stdout",
     "output_type": "stream",
     "text": [
      "[[Model]]\n",
      "    Model(gaussian)\n",
      "[[Fit Statistics]]\n",
      "    # fitting method   = leastsq\n",
      "    # function evals   = 132\n",
      "    # data points      = 800\n",
      "    # variables        = 4\n",
      "    chi-square         = 3565482.53\n",
      "    reduced chi-square = 4479.24941\n",
      "    Akaike info crit   = 6729.75858\n",
      "    Bayesian info crit = 6748.49703\n",
      "    R-squared          = 0.08782471\n",
      "##  Warning: uncertainties could not be estimated:\n",
      "[[Variables]]\n",
      "    amplitude:  6.79346154 (init = 251.2307)\n",
      "    center:     1.96950990 (init = 1.983244)\n",
      "    sigma:      0.05426106 (init = 0.203008)\n",
      "    fwhm:       0.12777503 == '2.3548200*sigma'\n",
      "    height:     49.9474061 == '0.3989423*amplitude/max(1e-15, sigma)'\n",
      "    gamma:      0.00000000 (init = 0)\n"
     ]
    },
    {
     "data": {
      "text/plain": [
       "[<matplotlib.lines.Line2D at 0x1e26042e970>]"
      ]
     },
     "execution_count": 63,
     "metadata": {},
     "output_type": "execute_result"
    }
   ],
   "source": [
    "## this might work...\n",
    "\n",
    "from lmfit.models import GaussianModel\n",
    "\n",
    "ch = 6\n",
    "seq = 5\n",
    "res_region_beg = 5450\n",
    "res_region_end = 6250\n",
    "res_reg = [res_region_beg,res_region_end]\n",
    "xdata = xs_cut[ch][res_reg[0]:res_reg[1]]*1e-6\n",
    "# ydata = ON_bgsub[ch][seq][bg_reg1[1]-bg_reg1[0]:bg_reg2[0]-bg_reg1[0]]\n",
    "ydata = OFF_bgsub[ch][seq][bg_reg1[1]-bg_reg1[0]:bg_reg2[0]-bg_reg1[0]]\n",
    "x = xdata\n",
    "y = ydata\n",
    "\n",
    "mod = GaussianModel()\n",
    "\n",
    "pars = mod.guess(y, x=x)\n",
    "pars.add('gamma', min == 0)\n",
    "# pars = Parameters()\n",
    "# # Slope is bounded between min value of 1.0 and max value of 3.0\n",
    "# pars.add('amplitude', min= 0)\n",
    "# # Intercept is made fixed at 0.0 value\n",
    "# pars.add('center', value = 1.967)\n",
    "# pars.add('sigma', min= 0)\n",
    "# # pars.add('gamma', min= 0)\n",
    "out = mod.fit(y, pars, x=x)\n",
    "# print(out.best_fit)\n",
    "\n",
    "print(out.fit_report(min_correl=0.25))\n",
    "plt.plot(xdata,ydata)\n",
    "# plt.plot(xdata, out.init_fit, ls = '--')\n",
    "plt.plot(xdata, out.best_fit, ls = '--')"
   ]
  },
  {
   "cell_type": "code",
   "execution_count": 102,
   "metadata": {},
   "outputs": [
    {
     "name": "stdout",
     "output_type": "stream",
     "text": [
      "dict_keys(['model', 'method', 'ndata', 'nvarys', 'nfree', 'chisqr', 'redchi', 'aic', 'bic', 'rsquared', 'nfev', 'max_nfev', 'aborted', 'errorbars', 'success', 'message', 'lmdif_message', 'ier', 'nan_policy', 'scale_covar', 'calc_covar', 'ci_out', 'col_deriv', 'flatchain', 'call_kws', 'var_names', 'user_options', 'kws', 'init_values', 'best_values', 'params'])\n",
      "{'amplitude': 6.793461536565543, 'center': 1.9695099049118192, 'sigma': 0.054261059429250746}\n",
      "('amplitude', 6.793461536565543, True, None, -inf, inf, None, None, None, 251.23067397419084, None)\n",
      "('center', 1.9695099049118192, True, None, -inf, inf, None, None, None, 1.9832440144404329, None)\n",
      "('sigma', 0.054261059429250746, True, None, 0.0, inf, None, None, None, 0.20300799999999997, None)\n",
      "('fwhm', 0.12777502796518825, False, '2.3548200*sigma', -inf, inf, None, None, None, 0.47804729855999994, None)\n",
      "('height', 49.947406093180575, False, '0.3989423*amplitude/max(1e-15, sigma)', -inf, inf, None, None, None, 493.70735589638764, None)\n",
      "('gamma', 0.0, True, None, -inf, inf, None, None, None, False, None)\n",
      "4479.249412215679\n",
      "True\n"
     ]
    }
   ],
   "source": [
    "print((out.summary()).keys())\n",
    "print((out.summary())['best_values'])\n",
    "print((out.summary())['params'][0])\n",
    "print((out.summary())['params'][1])\n",
    "print((out.summary())['params'][2])\n",
    "print((out.summary())['params'][3])\n",
    "print((out.summary())['params'][4])\n",
    "print((out.summary())['params'][5])\n",
    "print((out.summary())['redchi'])\n",
    "print((out.summary())['calc_covar'])\n"
   ]
  },
  {
   "cell_type": "code",
   "execution_count": 104,
   "metadata": {},
   "outputs": [
    {
     "name": "stdout",
     "output_type": "stream",
     "text": [
      "Figure(640x640)\n"
     ]
    }
   ],
   "source": [
    "print(out.plot())"
   ]
  },
  {
   "cell_type": "code",
   "execution_count": 25,
   "metadata": {},
   "outputs": [
    {
     "ename": "SyntaxError",
     "evalue": "positional argument follows keyword argument (3908195555.py, line 24)",
     "output_type": "error",
     "traceback": [
      "\u001b[1;36m  File \u001b[1;32m\"C:\\Users\\gabeo\\AppData\\Local\\Temp\\ipykernel_30268\\3908195555.py\"\u001b[1;36m, line \u001b[1;32m24\u001b[0m\n\u001b[1;33m    curve = VM.fit(y,x=x, params)\u001b[0m\n\u001b[1;37m                                ^\u001b[0m\n\u001b[1;31mSyntaxError\u001b[0m\u001b[1;31m:\u001b[0m positional argument follows keyword argument\n"
     ]
    }
   ],
   "source": [
    "# def power_fitting_lmfit(params,x,y):\n",
    "#     a = params['a']\n",
    "#     b = params['b']\n",
    "#     y_fit = a* x **b\n",
    "#     return y_fit-y\n",
    "\n",
    "xdata = xs_cut[ch][res_reg[0]:res_reg[1]]*1e-6\n",
    "# ydata = ON_bgsub[ch][seq][bg_reg1[1]-bg_reg1[0]:bg_reg2[0]-bg_reg1[0]]\n",
    "ydata = OFF_bgsub[ch][seq][bg_reg1[1]-bg_reg1[0]:bg_reg2[0]-bg_reg1[0]]\n",
    "x=xdata\n",
    "y=ydata\n",
    "\n",
    "VM = VoigtModel()\n",
    "\n",
    "params = Parameters()\n",
    "# Slope is bounded between min value of 1.0 and max value of 3.0\n",
    "params.add('amplitude', min= 0)\n",
    "# Intercept is made fixed at 0.0 value\n",
    "params.add('center', value = 1.967)\n",
    "params.add('sigma', min= 0)\n",
    "params.add('gamma', min= 0)\n",
    "\n",
    "print(VM.param_names)\n",
    "curve = VM.fit(y,x=x, params)\n",
    "print(curve.fit_report())\n",
    "\n",
    "plt.plot(curve)\n",
    "# Calling the minimize function. Args contains the x and y data.\n",
    "# fitted_params = minimize(VoigtModel, params, args=(xdata,ydata,), method='least_squares')\n",
    "\n",
    "# # Getting the fitted values\n",
    "# a = fitted_params.params['amplitude'].value\n",
    "# b = fitted_params.params['center'].value    \n",
    "\n",
    "# # Printing the fitted values\n",
    "# print('The a is ', a)\n",
    "# print('The b is ', b)\n",
    "\n",
    "# # Pretty printing all the statistical data\n",
    "# print(fit_report(fitted_params))"
   ]
  },
  {
   "cell_type": "code",
   "execution_count": 34,
   "metadata": {},
   "outputs": [
    {
     "name": "stdout",
     "output_type": "stream",
     "text": [
      "[[Model]]\n",
      "    Model(voigt)\n",
      "[[Fit Statistics]]\n",
      "    # fitting method   = leastsq\n",
      "    # function evals   = 94\n",
      "    # data points      = 800\n",
      "    # variables        = 3\n",
      "    chi-square         = 3580689.63\n",
      "    reduced chi-square = 4492.70970\n",
      "    Akaike info crit   = 6731.16340\n",
      "    Bayesian info crit = 6745.21723\n",
      "    R-squared          = 0.08393420\n",
      "[[Variables]]\n",
      "    amplitude:  7.41259001 +/- 0.97598954 (13.17%) (init = 376.846)\n",
      "    center:     1.96642394 +/- 0.00667519 (0.34%) (init = 1.983244)\n",
      "    sigma:      0.02850368 +/- 0.00488835 (17.15%) (init = 0.1319552)\n",
      "    gamma:      0.02850368 +/- 0.00488835 (17.15%) == 'sigma'\n",
      "    fwhm:       0.10265004 +/- 0.01760438 (17.15%) == '1.0692*gamma+sqrt(0.8664*gamma**2+5.545083*sigma**2)'\n",
      "    height:     54.2763695 +/- 7.11631934 (13.11%) == '(amplitude/(max(1e-15, sigma*sqrt(2*pi))))*real(wofz((1j*gamma)/(max(1e-15, sigma*sqrt(2)))))'\n",
      "[[Correlations]] (unreported correlations are < 0.250)\n",
      "    C(amplitude, sigma) = +0.6545\n"
     ]
    }
   ],
   "source": [
    "x = xdata\n",
    "y = ydata\n",
    "\n",
    "mod = VoigtModel()\n",
    "\n",
    "pars = mod.guess(y, x=x)\n",
    "out = mod.fit(y, pars, x=x)\n",
    "\n",
    "print(out.fit_report(min_correl=0.25))\n",
    "# plt.plot(out)\n",
    "# plt.plot(xdata,ydata)"
   ]
  },
  {
   "cell_type": "code",
   "execution_count": 30,
   "metadata": {},
   "outputs": [
    {
     "data": {
      "text/plain": [
       "<matplotlib.legend.Legend at 0x162cd062220>"
      ]
     },
     "execution_count": 30,
     "metadata": {},
     "output_type": "execute_result"
    }
   ],
   "source": [
    "## manual fitting\n",
    "ch = 6\n",
    "seq = 5\n",
    "\n",
    "from scipy.special import voigt_profile\n",
    "from scipy.optimize import curve_fit\n",
    "res_region_beg = 5450\n",
    "res_region_end = 6250\n",
    "res_reg = [res_region_beg,res_region_end]\n",
    "\n",
    "## checks that the resonance region and bg region do not overlap 11.21.24\n",
    "if res_reg[0] < bg_reg1[1] or res_reg[1]>bg_reg2[0]:\n",
    "    emessage = ('Declared Background region and Resonance region have overlapping fitting regions')\n",
    "    logger.error('run '+run_num + emessage)\n",
    "    raise Exception(emessage)\n",
    "\n",
    "## manual fitting\n",
    "# sigma = 60\n",
    "# gamma = 30\n",
    "# beg = 5800\n",
    "# end = 5900\n",
    "sigma = 0.055\n",
    "gamma = 0.02\n",
    "beg = 5800\n",
    "end = 5900\n",
    "\n",
    "shift = 1.96767\n",
    "mult = 20\n",
    "\n",
    "# xdata = np.arange(-(res_reg[1]-res_reg[0])/2,(res_reg[1]-res_reg[0])/2,1)  ## centered around 0 for initial fitting\n",
    "xdata = xs_cut[ch][res_reg[0]:res_reg[1]]*1e-6\n",
    "\n",
    "# ydata = ON_bgsub[ch][seq][bg_reg1[1]-bg_reg1[0]:bg_reg2[0]-bg_reg1[0]]\n",
    "ydata = OFF_bgsub[ch][seq][bg_reg1[1]-bg_reg1[0]:bg_reg2[0]-bg_reg1[0]]\n",
    "\n",
    "for i in range(0,2):\n",
    "    voigt = voigt_profile(xdata-shift, sigma, gamma)*i\n",
    "    plt.plot(xdata, voigt, label = str(i))\n",
    "    \n",
    "\n",
    "# print(voigt)\n",
    "# def voigt2(x, sig, gam, xshift, amp):\n",
    "#     fit = voigt_profile(x-xshift, sig, gam)*amp\n",
    "#     return fit\n",
    "plt.plot(xdata,ydata)\n",
    "plt.legend()\n"
   ]
  },
  {
   "cell_type": "code",
   "execution_count": 48,
   "metadata": {},
   "outputs": [],
   "source": [
    "def rebin(ys, xs, rebinfactor):\n",
    "    outys = ys.reshape(-1, rebinfactor).mean(axis=1)\n",
    "    outxs = xs.reshape(-1, rebinfactor).mean(axis=1)\n",
    "    return outys, outxs\n"
   ]
  },
  {
   "cell_type": "code",
   "execution_count": 31,
   "metadata": {},
   "outputs": [
    {
     "ename": "NameError",
     "evalue": "name 'popt' is not defined",
     "output_type": "error",
     "traceback": [
      "\u001b[1;31m---------------------------------------------------------------------------\u001b[0m",
      "\u001b[1;31mNameError\u001b[0m                                 Traceback (most recent call last)",
      "\u001b[1;32m~\\AppData\\Local\\Temp\\ipykernel_18988\\1425168839.py\u001b[0m in \u001b[0;36m<module>\u001b[1;34m\u001b[0m\n\u001b[1;32m----> 1\u001b[1;33m \u001b[0msig\u001b[0m \u001b[1;33m=\u001b[0m \u001b[0mpopt\u001b[0m\u001b[1;33m[\u001b[0m\u001b[1;36m0\u001b[0m\u001b[1;33m]\u001b[0m\u001b[1;33m\u001b[0m\u001b[1;33m\u001b[0m\u001b[0m\n\u001b[0m\u001b[0;32m      2\u001b[0m \u001b[0mgam\u001b[0m \u001b[1;33m=\u001b[0m \u001b[0mpopt\u001b[0m\u001b[1;33m[\u001b[0m\u001b[1;36m1\u001b[0m\u001b[1;33m]\u001b[0m\u001b[1;33m\u001b[0m\u001b[1;33m\u001b[0m\u001b[0m\n\u001b[0;32m      3\u001b[0m \u001b[0mfg\u001b[0m \u001b[1;33m=\u001b[0m \u001b[1;36m2\u001b[0m\u001b[1;33m*\u001b[0m\u001b[0msig\u001b[0m\u001b[1;33m*\u001b[0m\u001b[0mnp\u001b[0m\u001b[1;33m.\u001b[0m\u001b[0msqrt\u001b[0m\u001b[1;33m(\u001b[0m\u001b[1;36m2\u001b[0m\u001b[1;33m*\u001b[0m\u001b[0mnp\u001b[0m\u001b[1;33m.\u001b[0m\u001b[0mlog\u001b[0m\u001b[1;33m(\u001b[0m\u001b[1;36m2\u001b[0m\u001b[1;33m)\u001b[0m\u001b[1;33m)\u001b[0m\u001b[1;33m\u001b[0m\u001b[1;33m\u001b[0m\u001b[0m\n\u001b[0;32m      4\u001b[0m \u001b[0mfl\u001b[0m \u001b[1;33m=\u001b[0m \u001b[1;36m2\u001b[0m\u001b[1;33m*\u001b[0m\u001b[0msig\u001b[0m\u001b[1;33m\u001b[0m\u001b[1;33m\u001b[0m\u001b[0m\n\u001b[0;32m      5\u001b[0m \u001b[0mfv\u001b[0m \u001b[1;33m=\u001b[0m \u001b[1;36m0.5346\u001b[0m\u001b[1;33m*\u001b[0m\u001b[1;33m-\u001b[0m\u001b[0mfl\u001b[0m \u001b[1;33m+\u001b[0m \u001b[0mnp\u001b[0m\u001b[1;33m.\u001b[0m\u001b[0msqrt\u001b[0m\u001b[1;33m(\u001b[0m\u001b[1;36m0.2166\u001b[0m\u001b[1;33m*\u001b[0m\u001b[0mfl\u001b[0m\u001b[1;33m**\u001b[0m\u001b[1;36m2\u001b[0m\u001b[1;33m+\u001b[0m\u001b[0mfg\u001b[0m\u001b[1;33m**\u001b[0m\u001b[1;36m2\u001b[0m\u001b[1;33m)\u001b[0m\u001b[1;33m\u001b[0m\u001b[1;33m\u001b[0m\u001b[0m\n",
      "\u001b[1;31mNameError\u001b[0m: name 'popt' is not defined"
     ]
    }
   ],
   "source": [
    "sig = popt[0]\n",
    "gam = popt[1]\n",
    "fg = 2*sig*np.sqrt(2*np.log(2))\n",
    "fl = 2*sig\n",
    "fv = 0.5346*-fl + np.sqrt(0.2166*fl**2+fg**2)\n",
    "print(fv)\n",
    "\n",
    "## plotting voigt fit ##\n",
    "\n",
    "# plt.plot(xs_cut[1]*1e-6, ON_sums[1][0], lw = '1.0')\n",
    "\n",
    "# plt.plot(xdata, voigt, label = 'manual fit')\n",
    "\n",
    "fitted_curve = voigt2(xdata, popt[0],popt[1],popt[2],popt[3],)\n",
    "plt.plot(xdata, fitted_curve, label = rf\"Voigt fit, $\\sigma={round(popt[0],2)},\\, \\gamma={round(popt[1],2)}$\")\n",
    "\n",
    "rebinf = 2\n",
    "rawdat_rebin, xs_cut_rebin = rebin(ydata, xdata, rebinf)\n",
    "\n",
    "# plt.plot(xdata,ydata, label = r'rawdata')\n",
    "plt.plot(xs_cut_rebin,rawdat_rebin, label = rf'rawdata, rebin {rebinf}')\n",
    "# plt.axhline(y = 0)\n",
    "plt.axvline(x = fv/2+popt[2])\n",
    "plt.axvline(x = popt[2]-fv/2)\n",
    "plt.axvline(x = popt[2])\n",
    "\n",
    "\n",
    "plt.title('Fits to background (On sums, 160 pulses in 1 sequence)') \n",
    "plt.xlabel(\"tof (ms)\")\n",
    "plt.ylabel(\"Counts (arbitrary)\")\n",
    "plt.xlabel(\"tof (ms)\", fontsize = '12')\n",
    "plt.ylabel(\"ADC\", fontsize = '12')\n",
    "plt.legend()\n",
    "plt.show()\n",
    "plt.legend()\n",
    "plt.show()"
   ]
  },
  {
   "cell_type": "code",
   "execution_count": null,
   "metadata": {},
   "outputs": [],
   "source": []
  },
  {
   "cell_type": "code",
   "execution_count": 229,
   "metadata": {},
   "outputs": [
    {
     "name": "stdout",
     "output_type": "stream",
     "text": [
      "0.024609129844617873 0.00017002884812790462\n",
      "0.06625330808248346 0.00012377074670681014\n",
      "5.617411487151225e-06 384.92257657804896\n"
     ]
    },
    {
     "data": {
      "text/plain": [
       "0.0003041156366356963"
      ]
     },
     "execution_count": 229,
     "metadata": {},
     "output_type": "execute_result"
    }
   ],
   "source": [
    "print(OFF_vfit_params[0][0][0][0], OFF_vfit_params[0][0][1][0])\n",
    "print(OFF_vfit_params[0][2][0][0], OFF_vfit_params[0][2][1][0])\n",
    "print(OFF_vfit_params[0][6][0][0], OFF_vfit_params[0][6][1][0])\n",
    "np.sqrt(OFF_vfit_params[0][0][1][0]**2+OFF_vfit_params[0][2][1][0]**2+OFF_vfit_params[0][3][1][0]**2)"
   ]
  },
  {
   "cell_type": "code",
   "execution_count": 227,
   "metadata": {},
   "outputs": [
    {
     "name": "stdout",
     "output_type": "stream",
     "text": [
      "0.16131414802785976\n",
      "0.16131414802785976\n"
     ]
    }
   ],
   "source": [
    "ch = 0\n",
    "testerr = []\n",
    "manual = 0\n",
    "for i in range(0,13):\n",
    "    testerr.append(OFF_vfit_params[ch][i][0][0])\n",
    "    manual = manual+OFF_vfit_params[ch][i][0][0]**2\n",
    "manual  = np.sqrt(manual)\n",
    "testtoterr = np.sqrt(sum([i**2 for i in testerr]))\n",
    "print(testtoterr)\n",
    "print(manual)"
   ]
  },
  {
   "cell_type": "code",
   "execution_count": 108,
   "metadata": {},
   "outputs": [
    {
     "name": "stdout",
     "output_type": "stream",
     "text": [
      "12\n",
      "13\n",
      "800\n"
     ]
    },
    {
     "data": {
      "text/plain": [
       "[<matplotlib.lines.Line2D at 0x1c6f4d00100>]"
      ]
     },
     "execution_count": 108,
     "metadata": {},
     "output_type": "execute_result"
    }
   ],
   "source": [
    "print(len(ON_vfit))\n",
    "print(len(ON_vfit[0]))\n",
    "print(len(ON_vfit[0][0]))\n",
    "plt.plot(ON_vfit[0][0])"
   ]
  },
  {
   "cell_type": "markdown",
   "metadata": {},
   "source": [
    "## now calc asym with \"amplitude\" "
   ]
  },
  {
   "cell_type": "code",
   "execution_count": 61,
   "metadata": {},
   "outputs": [],
   "source": [
    "## sum up all pulses, and then calculate asymmetry using \"amplitude\""
   ]
  },
  {
   "cell_type": "code",
   "execution_count": 162,
   "metadata": {},
   "outputs": [],
   "source": [
    "all_ONOFF = np.zeros((len(ON_sums),2, len(ON_sums[0][0])), dtype=np.float64) ## all summed ON[0] and OFF[1] pulses for each channel, not each sequence\n",
    "\n",
    "def all_onoff(ON_arr, OFF_arr):\n",
    "    tempallON = np.zeros((len(ON_arr[0])), dtype=np.float64)\n",
    "    tempallOFF = np.zeros((len(ON_arr[0])), dtype=np.float64)\n",
    "    for seq in range(0, len(ON_arr)): ## number of sequences\n",
    "        tempallON = np.add(ON_arr[seq],tempallON)\n",
    "        tempallOFF = np.add(OFF_arr[seq],tempallOFF)\n",
    "    return tempallON, tempallOFF\n",
    "\n",
    "for i in range(len(ON_sums)):\n",
    "    all_ONOFF[i][0], all_ONOFF[i][1] = all_onoff(ON_sums[i], OFF_sums[i]) ## channel, ON[0] or OFF[1], summed wave\n",
    "    # print('ch done')"
   ]
  },
  {
   "cell_type": "code",
   "execution_count": 194,
   "metadata": {},
   "outputs": [
    {
     "name": "stdout",
     "output_type": "stream",
     "text": [
      "ch done 0\n",
      "ch done 1\n",
      "ch done 2\n",
      "ch done 3\n",
      "ch done 4\n",
      "ch done 5\n",
      "ch done 6\n",
      "ch done 7\n",
      "ch done 8\n",
      "ch done 9\n",
      "ch done 10\n",
      "ch done 11\n"
     ]
    }
   ],
   "source": [
    "all_Vfitcurve_ON = np.zeros((len(ON_vfit), len(ON_vfit[0][0])), dtype=np.float64) ## all summed ON or OFF pulses for each channel, not each sequence\n",
    "all_Vfitcurve_OFF = np.zeros((len(ON_vfit), len(ON_vfit[0][0])), dtype=np.float64) ## all summed ON or OFF pulses for each channel, not each sequence\n",
    "\n",
    "def all_vfits(vfit_arrs):\n",
    "    tempall_vfits = np.zeros((len(vfit_arrs[0])), dtype=np.float64)\n",
    "    for seq in range(0, len(vfit_arrs)): ## number of sequences\n",
    "        tempall_vfits = np.add(vfit_arrs[seq],tempall_vfits)\n",
    "    return tempall_vfits\n",
    "\n",
    "for i in range(len(ON_vfit)):\n",
    "    all_Vfitcurve_ON[i]  = all_vfits(ON_vfit[i]) ## all added vfits for each channel\n",
    "    all_Vfitcurve_OFF[i] = all_vfits(OFF_vfit[i]) \n",
    "    print('ch done', i)"
   ]
  },
  {
   "cell_type": "code",
   "execution_count": 226,
   "metadata": {},
   "outputs": [
    {
     "name": "stdout",
     "output_type": "stream",
     "text": [
      "0.00017002884812790462\n",
      "0.0001135951598030077\n",
      "0.00025731205470882936\n",
      "0.00028361885563181916\n",
      "0.00012377074670681014\n",
      "9.085570877157162e-05\n",
      "0.00021967547316501093\n",
      "0.00012700158098452805\n",
      "0.00022056751254203346\n",
      "0.00011813791264626777\n",
      "0.0001619771601159589\n",
      "0.00024141111882508746\n",
      "384.92257657804896\n",
      "192.46128828903377\n",
      "0.0001060896280399255\n",
      "9.956967708960438e-05\n",
      "0.00010152799486667863\n",
      "0.000167263308088379\n",
      "411.0293247660196\n",
      "205.51466238304803\n",
      "7.203928902979635e-05\n",
      "0.0002617810852315276\n",
      "507.6939604381907\n",
      "475.3993042156525\n",
      "0.0001850511573131397\n",
      "9.96480437310956e-05\n",
      "param sum ch done 0\n",
      "5.484160802838755e-05\n",
      "5.4773360574230886e-05\n",
      "0.00013878732442864904\n",
      "8.142518363068749e-05\n",
      "9.101222548701685e-05\n",
      "5.6173486521069504e-05\n",
      "0.0001430692621734869\n",
      "101.97575546172916\n",
      "0.00011854718970503453\n",
      "7.445267018974476e-05\n",
      "7.130703273161321e-05\n",
      "6.830349360201171e-05\n",
      "10.281833915360052\n",
      "5.140916958548324\n",
      "7.795003092370198e-05\n",
      "0.001027370844250407\n",
      "0.0001016695880182322\n",
      "5.801464223513686e-05\n",
      "0.00011245457313948276\n",
      "6.874419497017805e-05\n",
      "0.00024348621298298062\n",
      "0.00014407737785647595\n",
      "0.00019174584454034985\n",
      "0.0001057899357666484\n",
      "0.00016318967856321956\n",
      "9.419069700143742e-05\n",
      "param sum ch done 1\n",
      "6.717510735687206e-05\n",
      "5.7736024936435896e-05\n",
      "0.00010965857845170953\n",
      "0.0001551285007285093\n",
      "7.212197918450369\n",
      "3.606098959324309\n",
      "0.0001714553499130001\n",
      "9.808798985743454e-05\n",
      "0.0004962637687811243\n",
      "0.0002512636198272338\n",
      "0.00012268153503228662\n",
      "7.324651999386011e-05\n",
      "0.00040709471163697584\n",
      "0.00021851906178426697\n",
      "0.00019381851927865933\n",
      "0.00010774347027015985\n",
      "0.00012606296697384008\n",
      "9.476478481109879e-05\n",
      "8.34291987274819e-05\n",
      "4.8956895366495305e-05\n",
      "0.00010899303602485864\n",
      "6.753589906187483e-05\n",
      "0.00017383057614065068\n",
      "0.00010284640851370385\n",
      "0.00012968344267791203\n",
      "8.019116421348862e-05\n",
      "param sum ch done 2\n",
      "0.00021516879407257607\n",
      "24.190465189343055\n",
      "0.0002717911913804512\n",
      "240.55420563096772\n",
      "9.874576763608618e-05\n",
      "0.00016388377167505808\n",
      "0.0013636186889684594\n",
      "0.0006950262311888415\n",
      "0.00022570809270056646\n",
      "50.89139824941918\n",
      "0.00012974621706480276\n",
      "8.811135391042409e-05\n",
      "0.00016825451452310826\n",
      "0.00014546873042984212\n",
      "0.0002768393215820782\n",
      "0.00015257509913474876\n",
      "0.0002381396231600503\n",
      "0.00013865629855147846\n",
      "0.0002445010655943631\n",
      "1.6912749895819148\n",
      "0.00017549531481602225\n",
      "0.0001278486062457505\n",
      "0.00011870661052161315\n",
      "0.00019589819556619265\n",
      "264.09156749139765\n",
      "132.04578575339772\n",
      "param sum ch done 3\n",
      "0.00021045933050825062\n",
      "0.00012929467506032506\n",
      "9.841686719296219e-05\n",
      "7.587511862998244e-05\n",
      "0.00016094448341136955\n",
      "0.00010853266342092964\n",
      "0.00011076981493447671\n",
      "7.457377354005562e-05\n",
      "33.780028526447154\n",
      "16.890014263488105\n",
      "7.31251350936568e-05\n",
      "9.581620421804526e-05\n",
      "0.00022057380757711301\n",
      "0.0001542974658835335\n",
      "1.9946662391214955\n",
      "0.997333127788033\n",
      "0.00012006565866530097\n",
      "9.163899433327944e-05\n",
      "0.00011517460216629982\n",
      "6.998499971508614e-05\n",
      "7.490776636806205e-05\n",
      "5.086233788486085e-05\n",
      "0.00013348054043097667\n",
      "0.00011500243158029777\n",
      "9.487167859999946e-05\n",
      "4.793729947330906\n",
      "param sum ch done 4\n",
      "0.0008988025414034749\n",
      "15.042177429140706\n",
      "0.0001718082907931953\n",
      "0.00010701757191344204\n",
      "0.0002480445272412293\n",
      "0.0001897124929725778\n",
      "0.00021661487720031202\n",
      "0.00016011379714694218\n",
      "9.596271856310163e-05\n",
      "0.000149401915211839\n",
      "0.00012318868167834082\n",
      "8.068997685684945e-05\n",
      "0.00015020549366769027\n",
      "0.00015837284974374615\n",
      "9.28386307065247e-05\n",
      "0.0003293789984769897\n",
      "0.00013818351219086847\n",
      "8.668129009877461e-05\n",
      "0.00012170485618240939\n",
      "8.956913497914019e-05\n",
      "0.00015813389676549785\n",
      "8.539042712281389e-05\n",
      "7.333863394511488e-05\n",
      "5.4957328283972505e-05\n",
      "0.0004626627729464127\n",
      "0.00023772642744413435\n",
      "param sum ch done 5\n",
      "0.00022833391934556796\n",
      "10.819173871581992\n",
      "0.0003398602326481903\n",
      "0.00041416046460255413\n",
      "0.00028271272877276806\n",
      "0.00018811055529674867\n",
      "0.0008003301431130157\n",
      "0.0004044339626512422\n",
      "0.00011912519477895467\n",
      "0.0001261189612479588\n",
      "0.0004557062488131433\n",
      "0.0002321217537462303\n",
      "0.00023055065701388182\n",
      "0.00018256430617722485\n",
      "0.001420498039021266\n",
      "0.0007153804972000781\n",
      "0.00014991789891280642\n",
      "0.0001320863297865397\n",
      "0.0003122991162159406\n",
      "0.0004771974465958942\n",
      "0.0009154387734836751\n",
      "0.0005022507229072632\n",
      "0.00017025058341047658\n",
      "0.00014988231941008632\n",
      "0.00014600726691550107\n",
      "0.00010087330071141257\n",
      "param sum ch done 6\n",
      "23.836506776837915\n",
      "11.918253388491001\n",
      "24.948624928098422\n",
      "12.474312464244923\n",
      "0.00011296695332770824\n",
      "0.00010339776534946307\n",
      "0.00010666416937479419\n",
      "6.781042182527296e-05\n",
      "0.0001841235989627666\n",
      "0.00013563162310023275\n",
      "7.220002906210973e-05\n",
      "7.160602679084453e-05\n",
      "0.00016480275191878895\n",
      "0.00013956562455517426\n",
      "0.00022431430160313063\n",
      "0.00013093038159052396\n",
      "0.00010415351653646942\n",
      "6.97022927440848e-05\n",
      "8.04989807960768e-05\n",
      "8.336916143922345e-05\n",
      "0.00010982061908704698\n",
      "8.292822515502835e-05\n",
      "0.00013486186670954082\n",
      "0.00013193418342632982\n",
      "0.0001652306108977301\n",
      "0.00011298968333573568\n",
      "param sum ch done 7\n",
      "0.00016826691898209312\n",
      "0.0002041939735726766\n",
      "0.00021430306496688379\n",
      "0.00011830034052449992\n",
      "292.74158671637053\n",
      "146.37079335819777\n",
      "0.0002467504465066393\n",
      "0.00021892579042764694\n",
      "0.00011449153631452727\n",
      "7.756185177050389e-05\n",
      "0.00014651528566506715\n",
      "0.00011642926857764793\n",
      "0.00014514764410660896\n",
      "0.00010657957961094234\n",
      "0.00016053301684394988\n",
      "8.879981763119737e-05\n",
      "0.00012256874151800838\n",
      "8.428683510306107e-05\n",
      "0.0001546209370491434\n",
      "9.587736095110657e-05\n",
      "321.17929201552494\n",
      "160.5896460077962\n",
      "0.00013744590201100667\n",
      "8.725693233556431e-05\n",
      "7.954245357075518e-05\n",
      "6.090803093310759e-05\n",
      "param sum ch done 8\n",
      "0.00022388109861331515\n",
      "0.0001354478562618426\n",
      "0.0001094489630825591\n",
      "0.0036969849787312765\n",
      "0.00021815808909545723\n",
      "0.0001384110871511387\n",
      "0.00021534560473476818\n",
      "0.000128272697008718\n",
      "0.0002928848839901407\n",
      "0.0001598894330928529\n",
      "0.0002113938740886918\n",
      "0.00013010585587562706\n",
      "0.00028110175736225594\n",
      "0.00015899131247098584\n",
      "0.00013163656906789093\n",
      "9.19936748346909e-05\n",
      "0.00038479647042867574\n",
      "0.0014185069524143697\n",
      "0.0002542675425763105\n",
      "0.0002967768282428228\n",
      "0.0004366549989687832\n",
      "0.0002372426049633812\n",
      "0.00013995021548874874\n",
      "0.000585175583499584\n",
      "0.18017426906990672\n",
      "0.09008717954183197\n",
      "param sum ch done 9\n",
      "6.234737294277773e-05\n",
      "5.918105949854543e-05\n",
      "0.00016433770678395425\n",
      "9.677955536832204e-05\n",
      "2.5828088704762635\n",
      "1.2914044367563102\n",
      "8.534146319955355e-05\n",
      "6.841572922226603e-05\n",
      "9.534827158807613e-05\n",
      "0.00010671832851956561\n",
      "0.0011587882574891717\n",
      "0.0005839003156046938\n",
      "0.041708895056176615\n",
      "0.020854522718686333\n",
      "0.0002754151162162348\n",
      "0.00014650206634670795\n",
      "0.00010233836918260924\n",
      "8.202114622696125e-05\n",
      "9.357890902301439e-05\n",
      "0.0002309177631994879\n",
      "0.00015773688342459206\n",
      "8.989878407126406e-05\n",
      "9.177637538878185e-05\n",
      "6.112674101406967e-05\n",
      "0.00010098703692102333\n",
      "0.0002081779366871488\n",
      "param sum ch done 10\n",
      "6.785205551546432e-05\n",
      "4.8119383257589305e-05\n",
      "0.00010732514163777014\n",
      "7.028322085507916e-05\n",
      "8.945051374626629e-05\n",
      "7.493157124902644e-05\n",
      "0.00012248205094638547\n",
      "109.71444454091855\n",
      "0.00021570992198837805\n",
      "0.00015108036154888634\n",
      "0.00011128267838329897\n",
      "7.98513958542645e-05\n",
      "0.00010310822752745727\n",
      "7.172959972501461e-05\n",
      "0.00010117823970439972\n",
      "0.00010567865061347709\n",
      "0.0006209462134594077\n",
      "0.0003118441021267407\n",
      "8.899008367328603e-05\n",
      "6.0797326956208826e-05\n",
      "20.55046460076057\n",
      "10.27523230056601\n",
      "92.66312435561998\n",
      "46.33156217784441\n",
      "8.773081204338108e-05\n",
      "146.53904863220836\n",
      "param sum ch done 11\n"
     ]
    }
   ],
   "source": [
    "## add and avg all sigma/gamma/xloc for ON and OFF per channel. Should not be dpendent on spin state.\n",
    "sig_ch = np.zeros((len(ON_vfit),2), dtype=np.float64) ## 1 sigma +/- error for each channel\n",
    "gam_ch = np.zeros((len(ON_vfit),2), dtype=np.float64) ## 1 gamma +/- error for each channel\n",
    "xloc_ch = np.zeros((len(ON_vfit),2), dtype=np.float64) ## 1 xlocation +/- error for each channel\n",
    "\n",
    "def sum_param(ON_params_arr, OFF_params_arr, key):  ## key choose between sigma gamma or xloc\n",
    "    if key != 'sigma' and key != 'gamma' and key != 'xloc':\n",
    "        emessage = ('not a valid Voigt fit parameter to sum')\n",
    "        logger.error('run '+run_num + emessage)\n",
    "        raise Exception(emessage)\n",
    "    if key == 'sigma':\n",
    "        param = 0\n",
    "    if key == 'gamma':\n",
    "        param = 1\n",
    "    if key == 'xloc':\n",
    "        param = 2\n",
    "    tempsum = 0\n",
    "    temperr  = []\n",
    "    for seq in range(0, len(ON_params_arr)): ## number of sequences\n",
    "        seqsum = (ON_params_arr[seq][0][param]+OFF_params_arr[seq][0][param])/2  # \"normalize\" with /2 but not for #sequences\n",
    "        ## [0] above corresponds to the real values of the paramters, as opposed to their errors\n",
    "        ON_err = ON_params_arr[seq][1][param]\n",
    "        OFF_err = OFF_params_arr[seq][1][param]\n",
    "        ## above [1] is used which corresponds to the error in \"parameter\"\n",
    "        ON_deriv  =  1  ## left over from asym error to keep error prop consistent\n",
    "        OFF_deriv =  1\n",
    "        ## use err prop to get below\n",
    "#         seq_err = np.sqrt((ON_deriv**2)*(ON_err**2)+(OFF_deriv**2)*(OFF_err**2))/2\n",
    "        seq_err = np.sqrt((ON_err**2)+(OFF_err**2))/2\n",
    "        print(OFF_err)\n",
    "        print(seq_err)\n",
    "        temperr.append(seq_err) ## collect all errors for each sequence\n",
    "        tempsum = np.add(seqsum,tempsum)\n",
    "#         print(temperr)\n",
    "    ## add error or each sequence in quad.\n",
    "    toterr = np.sqrt(sum([i**2 for i in temperr]))  ## use list comprehension for sum of squares\n",
    "    out = [tempsum,toterr]\n",
    "    return out\n",
    "\n",
    "for i in range(len(ON_vfit)):\n",
    "    sig_ch[i] = sum_param(ON_vfit_params[i], OFF_vfit_params[i], key='sigma')\n",
    "#     gam_ch[i] = sum_param(ON_vfit_params[i], OFF_vfit_params[i], key='gamma') \n",
    "#     xloc_ch[i] = sum_param(ON_vfit_params[i], OFF_vfit_params[i], key='xloc') \n",
    "    print('param sum ch done', i)"
   ]
  },
  {
   "cell_type": "code",
   "execution_count": 212,
   "metadata": {},
   "outputs": [
    {
     "name": "stdout",
     "output_type": "stream",
     "text": [
      "[[4.96182089e-01 5.52523413e+02]\n",
      " [4.51443561e-01 1.02105258e+02]\n",
      " [4.89775072e-01 3.60609899e+00]\n",
      " [6.98576442e-01 2.80143515e+02]\n",
      " [4.72542563e-01 1.75854230e+01]\n",
      " [5.31530383e-01 1.50421774e+01]\n",
      " [6.68335991e-01 1.08191739e+01]\n",
      " [5.76539240e-01 1.72526298e+01]\n",
      " [4.98174725e-01 2.17286547e+02]\n",
      " [6.58065660e-01 9.01775846e-02]\n",
      " [4.53689016e-01 1.29157301e+00]\n",
      " [3.94639766e-01 1.89111465e+02]]\n"
     ]
    }
   ],
   "source": [
    "print(sig_ch)"
   ]
  },
  {
   "cell_type": "code",
   "execution_count": 182,
   "metadata": {},
   "outputs": [
    {
     "name": "stdout",
     "output_type": "stream",
     "text": [
      "asym ch done 0\n",
      "asym ch done 1\n",
      "asym ch done 2\n",
      "asym ch done 3\n",
      "asym ch done 4\n",
      "asym ch done 5\n",
      "asym ch done 6\n",
      "asym ch done 7\n",
      "asym ch done 8\n",
      "asym ch done 9\n",
      "asym ch done 10\n",
      "asym ch done 11\n"
     ]
    }
   ],
   "source": [
    "## new asym using \"amplitude\" parameter, with error prop\n",
    "\n",
    "# asym_pm = np.zeros((len(ONOFF_plus_sums),2, len(ONOFF_plus_sums[0][0][0])), dtype=np.float64) ## 1 Asym for each channel, not for each sequence (can change?)\n",
    "# asym_ch = np.zeros((len(ON_vfit)), dtype=np.float64) ## 1 Asym for each channel, not for each sequence (can change?)\n",
    "asym_ch_err = np.zeros((len(ON_vfit),2), dtype=np.float64) ## 1 Asym for each channel, not for each sequence (can change?)\n",
    "\n",
    "# def asym3(ON_params_arr, OFF_params_arr):\n",
    "#     tempasym = 0\n",
    "#     for seq in range(0, len(ON_params_arr)): ## number of sequences\n",
    "#         A_plus = ON_params_arr[seq][0][-1] ## just makes things cleaner\n",
    "#         A_min  = OFF_params_arr[seq][0][-1]\n",
    "# #         seqasym = ((ON_params_arr[seq][0][-1]-OFF_params_arr[seq][0][-1]) / (ON_params_arr[seq][0][-1]+OFF_params_arr[seq][0][-1]))\n",
    "#         ## [0] corresponds to the real values of the paramters, as opposed to their errors. [-1] is the \"amplitude\"\n",
    "#         seqasym = ((A_plus-A_min) / (A_plus+A_min))\n",
    "#         ON_err = ON_params_arr[seq][1][-1]\n",
    "#         OFF_err = OFF_params_arr[seq][1][-1]\n",
    "#         ## above [1] is used which corresponds to the error in \"amplitude\"\n",
    "#         tempasym = np.add(seqasym,tempasym)\n",
    "#     ## add error or each sequence asym in quad.\n",
    "#     return tempasym  ## don't normalize asymON_vfit_params this time...\n",
    "def asym3_err(ON_params_arr, OFF_params_arr):\n",
    "    tempasym = 0\n",
    "    temperr  = []\n",
    "    for seq in range(0, len(ON_params_arr)): ## number of sequences\n",
    "        A_plus = ON_params_arr[seq][0][-1] ## just makes things cleaner\n",
    "        A_min  = OFF_params_arr[seq][0][-1]\n",
    "#         seqasym = ((ON_params_arr[seq][0][-1]-OFF_params_arr[seq][0][-1]) / (ON_params_arr[seq][0][-1]+OFF_params_arr[seq][0][-1]))\n",
    "        ## [0] corresponds to the real values of the paramters, as opposed to their errors. [-1] is the \"amplitude\"\n",
    "        seqasym = ((A_plus-A_min) / (A_plus+A_min))\n",
    "        ON_err = ON_params_arr[seq][1][-1]\n",
    "        OFF_err = OFF_params_arr[seq][1][-1]\n",
    "        ## above [1] is used which corresponds to the error in \"amplitude\"\n",
    "        ON_deriv  =  2*A_min/ ((A_plus+A_min)**2)\n",
    "        OFF_deriv = -2*A_plus/((A_plus+A_min)**2)\n",
    "        ## use err prop to get below\n",
    "        seq_err = np.sqrt((ON_deriv**2)*(ON_err**2)+(OFF_deriv**2)*(OFF_err**2))\n",
    "#         seq_err = (1/(A_plus+A_min**2))*np.sqrt(4*(A_min**2)(ON_err)**2+4*(A_plus**2)(OFF_err)**2) ## alternate form\n",
    "        temperr.append(seq_err) ## collect all errors for each sequence\n",
    "        tempasym = np.add(seqasym,tempasym)\n",
    "#         print(temperr)\n",
    "    ## add error or each sequence asym in quad.\n",
    "    toterr = np.sqrt(sum([i**2 for i in temperr]))  ## use list comprehension for sum of squares\n",
    "    out = [tempasym,toterr]\n",
    "    return out  ## don't normalize asymON_vfit_params this time...\n",
    "\n",
    "for i in range(len(ON_vfit)):\n",
    "#     asym_ch[i] = asym3(ON_vfit_params[i], OFF_vfit_params[i])\n",
    "    asym_ch_err[i] = asym3_err(ON_vfit_params[i], OFF_vfit_params[i]) ## error is really high...\n",
    "    print('asym ch done', i)"
   ]
  },
  {
   "cell_type": "code",
   "execution_count": null,
   "metadata": {},
   "outputs": [],
   "source": []
  },
  {
   "cell_type": "code",
   "execution_count": 189,
   "metadata": {},
   "outputs": [
    {
     "name": "stdout",
     "output_type": "stream",
     "text": [
      "(12, 2)\n",
      "(12, 2)\n",
      "(12, 2)\n",
      "(12, 2)\n",
      "(12, 800)\n",
      "(12, 13, 800)\n",
      "(12, 13, 2, 4)\n"
     ]
    }
   ],
   "source": [
    "print(asym_ch_err.shape)\n",
    "print(sig_ch.shape)\n",
    "print(gam_ch.shape)\n",
    "print(xloc_ch.shape)\n",
    "print(all_Vfitcurve_ON.shape)\n",
    "print(ON_vfit.shape)\n",
    "print(ON_vfit_params.shape)"
   ]
  },
  {
   "cell_type": "code",
   "execution_count": 244,
   "metadata": {},
   "outputs": [
    {
     "name": "stdout",
     "output_type": "stream",
     "text": [
      "11.423205170413123 +/- 1.9028276106042556\n",
      "0.024609129844617873 +/- 0.00017002884812790462\n",
      "13.936569493307116 +/- 2.2676332417168203\n",
      "0.018999565893129067 +/- 0.00025731205470882936\n",
      "9.235846770587578 +/- 1.8682387217068122\n",
      "0.06625330808248346 +/- 0.00012377074670681014\n",
      "10.279405232172582 +/- 2.3719964227431873\n",
      "0.046493349684848376 +/- 0.00021967547316501093\n",
      "5.1453224504466935 +/- 1.5816678463561387\n",
      "0.1023112569967145 +/- 0.00022056751254203346\n",
      "12.685089546838453 +/- 2.123672936374117\n",
      "0.02478357356835918 +/- 0.0001619771601159589\n",
      "13.679137479030569 +/- 1.7095377110398913\n",
      "5.617411487151225e-06 +/- 384.92257657804896\n",
      "9.51500611163891 +/- 1.6370809902661922\n",
      "0.025898221054558034 +/- 0.0001060896280399255\n",
      "6.926362592069404 +/- 1.338846936459491\n",
      "0.05667636710496673 +/- 0.00010152799486667863\n",
      "14.278738315001899 +/- 1.7304923463902635\n",
      "4.182085456493605e-08 +/- 411.0293247660196\n",
      "7.567925375055115 +/- 1.2892820343000273\n",
      "0.05074840620676458 +/- 7.203928902979635e-05\n",
      "11.838921383377928 +/- 1.5775243038850524\n",
      "6.834334793737279e-06 +/- 507.6939604381907\n",
      "11.748107725341336 +/- 2.1764667640232402\n",
      "0.031054486011876974 +/- 0.0001850511573131397\n"
     ]
    }
   ],
   "source": [
    "## plots each vfit and the total vfit per ch. (and for on or off)\n",
    "%matplotlib qt\n",
    "ch = 0\n",
    "xs_bg_reg = xs_cut[1][bg_reg1[0]:bg_reg2[1]]*1e-6  ## new 11.21.24\n",
    "plt.plot(xs_bg_reg, ON_bgsub[ch][0])\n",
    "\n",
    "for i in range(0,13):\n",
    "    plt.plot(xdata, OFF_vfit[ch][i])\n",
    "    print(OFF_vfit_params[ch][i][0][3],'+/-' ,OFF_vfit_params[ch][i][1][3])\n",
    "    print(OFF_vfit_params[ch][i][0][0],'+/-' ,OFF_vfit_params[ch][i][1][0])\n",
    "\n",
    "\n",
    "# plt.plot(xdata, all_Vfitcurve_ON[ch])\n",
    "# plt.plot(xdata, all_Vfitcurve_OFF[ch])\n",
    "\n",
    "plt.show()"
   ]
  },
  {
   "cell_type": "code",
   "execution_count": null,
   "metadata": {},
   "outputs": [],
   "source": []
  },
  {
   "cell_type": "markdown",
   "metadata": {},
   "source": [
    "## save all on and off values and asymm + paramters. save out."
   ]
  },
  {
   "cell_type": "code",
   "execution_count": 191,
   "metadata": {},
   "outputs": [
    {
     "name": "stdout",
     "output_type": "stream",
     "text": [
      "saving hdf5: 0.13002467155456543\n"
     ]
    }
   ],
   "source": [
    "## old version\n",
    "\n",
    "start = time.time()\n",
    "# testch = 0\n",
    "\n",
    "with h5py.File(ONOFFSavename+'.h5', 'w') as hdf5_file:\n",
    "#     hdf5_file.create_dataset('ch '+str(np.char.zfill(str(chan_enab[0]), 2)), data=all_ONOFF[0], compression=\"gzip\")\n",
    "#     hdf5_file.create_dataset('ch '+str(np.char.zfill(str(chan_enab[0]), 2)), data=all_ONOFF[0])\n",
    "    hdf5_file.create_dataset('xs ', data=xs_cut[0]) ## all xs are the same, even though they are per channel...\n",
    "    hdf5_file.attrs['sequences'] = len(sequence[0])\n",
    "    hdf5_file.attrs['rownames'] = ['ON_Row0', 'OFF_Row1']\n",
    "    for i in range(0,len(ys_cut)):\n",
    "#         with h5py.File('test_allONOFFs'+'.h5', 'a') as hdf5_file:\n",
    "#         hdf5_file.create_dataset('ch '+str(np.char.zfill(str(chan_enab[i]), 2)), data=all_ONOFF[i], compression=\"gzip\")\n",
    "        hdf5_file.create_dataset('ch '+str(np.char.zfill(str(chan_enab[i]), 2)), data=all_ONOFF[i])\n",
    "#     a = hdf5_file.create_dataset('ch '+str(np.char.zfill(str(chan_enab[0]), 2)), data=all_ONOFF[0])\n",
    "#     a.attrs['rownames'] = ['ON_Row0', 'OFF_Row1']\n",
    "#     a.attrs['sequences'] = len(sequence[0])\n",
    "        \n",
    "end = time.time()\n",
    "print('saving hdf5: ' + str(end-start))    "
   ]
  },
  {
   "cell_type": "code",
   "execution_count": 190,
   "metadata": {},
   "outputs": [
    {
     "name": "stdout",
     "output_type": "stream",
     "text": [
      "[5450, 6250]\n"
     ]
    }
   ],
   "source": [
    "print(res_reg)"
   ]
  },
  {
   "cell_type": "code",
   "execution_count": 199,
   "metadata": {},
   "outputs": [
    {
     "name": "stdout",
     "output_type": "stream",
     "text": [
      "saving hdf5: 0.1019749641418457\n"
     ]
    }
   ],
   "source": [
    "## new version adds vfit curves\n",
    "\n",
    "start = time.time()\n",
    "# testch = 0\n",
    "\n",
    "with h5py.File(ONOFFSavename+'.h5', 'w') as hdf5_file:\n",
    "#     hdf5_file.create_dataset('ch '+str(np.char.zfill(str(chan_enab[0]), 2)), data=all_ONOFF[0], compression=\"gzip\")\n",
    "#     hdf5_file.create_dataset('ch '+str(np.char.zfill(str(chan_enab[0]), 2)), data=all_ONOFF[0])\n",
    "    hdf5_file.create_dataset('xs ', data=xs_cut[0]) ## all xs are the same, even though they are per channel...\n",
    "    hdf5_file.attrs['sequences'] = len(sequence[0])\n",
    "    for i in range(0,len(ys_cut)): ## change this to length of asymms!\n",
    "        Ch_grp = hdf5_file.create_group('ch_'+str(np.char.zfill(str(chan_enab[i]), 2)))\n",
    "        added_pulses_subgrp = Ch_grp.create_group('added_pulses')\n",
    "        added_vfits_subgrp = Ch_grp.create_group('added_vfits')\n",
    "        added_pulses_subgrp.attrs['rownames'] = ['ON_Row0', 'OFF_Row1']\n",
    "        added_pulses_subgrp.create_dataset('ch '+str(np.char.zfill(str(chan_enab[i]), 2)), data=all_ONOFF[i])\n",
    "        if chan_enab[i] == 24:\n",
    "            pass\n",
    "        else:\n",
    "            added_vfits_subgrp.attrs['resonance_region'] = res_reg\n",
    "            added_vfits_subgrp.attrs['note'] = 'added all Voigt fits for each ON or OFF state, per ch.'\n",
    "            added_vfits_subgrp.create_dataset('Vfit_curve_ON',data=all_Vfitcurve_ON[i])\n",
    "            added_vfits_subgrp.create_dataset('Vfit_curve_OFF',data=all_Vfitcurve_OFF[i])\n",
    "        \n",
    "end = time.time()\n",
    "print('saving hdf5: ' + str(end-start))    "
   ]
  },
  {
   "cell_type": "code",
   "execution_count": 200,
   "metadata": {},
   "outputs": [
    {
     "name": "stdout",
     "output_type": "stream",
     "text": [
      "saving hdf5: 0.13481402397155762\n"
     ]
    }
   ],
   "source": [
    "## testing create groups\n",
    "# test_dat_arr = ON_vfit_params[0]\n",
    "\n",
    "start = time.time()\n",
    "# testch = 0\n",
    "\n",
    "with h5py.File(AsymSavename+'.h5', 'w') as hdf5_file:\n",
    "#     hdf5_file.create_dataset('ch '+str(np.char.zfill(str(chan_enab[0]), 2)), data=all_ONOFF[0], compression=\"gzip\")\n",
    "#     hdf5_file.create_dataset('ch '+str(np.char.zfill(str(chan_enab[0]), 2)), data=all_ONOFF[0])\n",
    "    hdf5_file.create_dataset('xs ', data=xs_cut[0]) ## all xs are the same, even though they are per channel...\n",
    "    hdf5_file.attrs['sequences'] = len(sequence[0])\n",
    "    for i in range(0,len(asym_ch_err)): ## change this to length of asymms!\n",
    "        Ch_grp = hdf5_file.create_group('ch_'+str(np.char.zfill(str(chan_enab[i]), 2)))\n",
    "        Ch_grp.attrs['quick asym'] = asym_ch_err[i]\n",
    "        Ch_grp.attrs['avg_xloc']  = xloc_ch[i]\n",
    "        Ch_grp.attrs['avg_sigma'] = sig_ch[i]\n",
    "        Ch_grp.attrs['avg_gamma'] = gam_ch[i]\n",
    "        ON_subgrp = Ch_grp.create_group('ON')\n",
    "        OFF_subgrp = Ch_grp.create_group('OFF')\n",
    "        ON_subgrp.attrs['for_each_sequence'] = ['parameter (sigma, gamma, x_loc, \"amplitude\")', 'and its error']\n",
    "        OFF_subgrp.attrs['for_each_sequence'] = ['parameter (sigma, gamma, x_loc, \"amplitude\")', 'and its error']\n",
    "        ON_subgrp.create_dataset('parameters',data=ON_vfit_params[i])\n",
    "        OFF_subgrp.create_dataset('parameters',data=OFF_vfit_params[i])\n",
    "        ON_subgrp.create_dataset('Vfit_curves',data=ON_vfit[i])\n",
    "        OFF_subgrp.create_dataset('Vfit_curves',data=OFF_vfit[i])\n",
    "#         with h5py.File('test_allONOFFs'+'.h5', 'a') as hdf5_file:\n",
    "#         hdf5_file.create_dataset('ch '+str(np.char.zfill(str(chan_enab[i]), 2)), data=all_ONOFF[i], compression=\"gzip\")\n",
    "#         hdf5_file.create_dataset('ch '+str(np.char.zfill(str(chan_enab[i]), 2)), data=all_ONOFF[i])\n",
    "#     a = hdf5_file.create_dataset('ch '+str(np.char.zfill(str(chan_enab[0]), 2)), data=all_ONOFF[0])\n",
    "#     a.attrs['rownames'] = ['ON_Row0', 'OFF_Row1']\n",
    "#     a.attrs['sequences'] = len(sequence[0])\n",
    "        \n",
    "end = time.time()\n",
    "print('saving hdf5: ' + str(end-start))    "
   ]
  },
  {
   "cell_type": "code",
   "execution_count": null,
   "metadata": {},
   "outputs": [],
   "source": [
    "sig_ch[i] = gam_ch[i] \n",
    "    xloc_ch[i]"
   ]
  },
  {
   "cell_type": "code",
   "execution_count": null,
   "metadata": {},
   "outputs": [],
   "source": [
    "## testing reaad\n",
    "with h5py.File(ONOFFSavename+'.h5', 'r') as f:\n",
    "    print(f.attrs.keys())\n",
    "    print(f.attrs.get('sequences'))\n",
    "    print(f.attrs.get('rownames'))\n",
    "    f.close()\n",
    "    \n",
    "# f = h5py.File('test_allONOFFs'+'.h5', 'r')\n",
    "# # print(f['ch 00'].attrs.get('sequences'))\n",
    "# f.close()"
   ]
  },
  {
   "cell_type": "code",
   "execution_count": 230,
   "metadata": {},
   "outputs": [
    {
     "ename": "NameError",
     "evalue": "name 'fullx' is not defined",
     "output_type": "error",
     "traceback": [
      "\u001b[1;31m---------------------------------------------------------------------------\u001b[0m",
      "\u001b[1;31mNameError\u001b[0m                                 Traceback (most recent call last)",
      "\u001b[1;32m~\\AppData\\Local\\Temp\\ipykernel_2176\\2627530662.py\u001b[0m in \u001b[0;36m<module>\u001b[1;34m\u001b[0m\n\u001b[0;32m      6\u001b[0m \u001b[1;31m# plt.plot(xs_cut[ch], asym_ch_raw[ch], label='asymmetry')  ## there's no point in looking at asym for one channel. Need more data\u001b[0m\u001b[1;33m\u001b[0m\u001b[1;33m\u001b[0m\u001b[0m\n\u001b[0;32m      7\u001b[0m \u001b[1;31m# plt.plot(fullx, asym_ch_bg[ch], label='asymmetry')  # division by 0 is a problem...\u001b[0m\u001b[1;33m\u001b[0m\u001b[1;33m\u001b[0m\u001b[0m\n\u001b[1;32m----> 8\u001b[1;33m \u001b[0mplt\u001b[0m\u001b[1;33m.\u001b[0m\u001b[0mplot\u001b[0m\u001b[1;33m(\u001b[0m\u001b[1;33m(\u001b[0m\u001b[0mfullx\u001b[0m\u001b[1;33m-\u001b[0m\u001b[1;36m2000\u001b[0m\u001b[1;33m+\u001b[0m\u001b[1;36m8\u001b[0m\u001b[1;33m)\u001b[0m\u001b[1;33m*\u001b[0m\u001b[1;33m(\u001b[0m\u001b[0mdecFactor\u001b[0m\u001b[1;33m[\u001b[0m\u001b[1;36m1\u001b[0m\u001b[1;33m]\u001b[0m\u001b[1;33m*\u001b[0m\u001b[1;36m16\u001b[0m\u001b[1;33m*\u001b[0m\u001b[1;36m1e-6\u001b[0m\u001b[1;33m)\u001b[0m\u001b[1;33m,\u001b[0m \u001b[0masym_ch_bg\u001b[0m\u001b[1;33m[\u001b[0m\u001b[0mch\u001b[0m\u001b[1;33m]\u001b[0m\u001b[1;33m,\u001b[0m \u001b[0mlabel\u001b[0m\u001b[1;33m=\u001b[0m\u001b[1;34m'asymmetry'\u001b[0m\u001b[1;33m)\u001b[0m  \u001b[1;31m# division by 0 is a problem...\u001b[0m\u001b[1;33m\u001b[0m\u001b[1;33m\u001b[0m\u001b[0m\n\u001b[0m\u001b[0;32m      9\u001b[0m \u001b[1;33m\u001b[0m\u001b[0m\n\u001b[0;32m     10\u001b[0m \u001b[0mplt\u001b[0m\u001b[1;33m.\u001b[0m\u001b[0maxvline\u001b[0m\u001b[1;33m(\u001b[0m\u001b[0mx\u001b[0m \u001b[1;33m=\u001b[0m \u001b[1;36m1.97\u001b[0m\u001b[1;33m,\u001b[0m \u001b[0mlabel\u001b[0m\u001b[1;33m=\u001b[0m\u001b[1;34m'p-wave peak?'\u001b[0m\u001b[1;33m)\u001b[0m\u001b[1;33m\u001b[0m\u001b[1;33m\u001b[0m\u001b[0m\n",
      "\u001b[1;31mNameError\u001b[0m: name 'fullx' is not defined"
     ]
    }
   ],
   "source": [
    "%matplotlib qt\n",
    "ch = 2\n",
    "plt.title(f'Summed Pulses for channel {ch}')\n",
    "plt.plot(xs_cut[ch]*1e-6, all_ONOFF[ch][0], label='ON states')\n",
    "# plt.plot(xs_cut[ch], all_ONOFF[ch][1], label='OFF states')\n",
    "# plt.plot(xs_cut[ch], asym_ch_raw[ch], label='asymmetry')  ## there's no point in looking at asym for one channel. Need more data\n",
    "# plt.plot(fullx, asym_ch_bg[ch], label='asymmetry')  # division by 0 is a problem...\n",
    "plt.plot((fullx-2000+8)*(decFactor[1]*16*1e-6), asym_ch_bg[ch], label='asymmetry')  # division by 0 is a problem...\n",
    "\n",
    "plt.axvline(x = 1.97, label='p-wave peak?')\n",
    "\n",
    "plt.legend()\n",
    "plt.show()"
   ]
  },
  {
   "cell_type": "code",
   "execution_count": 21,
   "metadata": {},
   "outputs": [
    {
     "name": "stdout",
     "output_type": "stream",
     "text": [
      "saving hdf5: 0.061153411865234375\n"
     ]
    }
   ],
   "source": [
    "start = time.time()\n",
    "\n",
    "with h5py.File(AsymSavename+'.h5', 'w') as hdf5_file:\n",
    "#     hdf5_file.create_dataset('ch '+str(np.char.zfill(str(chan_enab[0]), 2)), data=all_ONOFF[0], compression=\"gzip\")\n",
    "    hdf5_file.create_dataset('xs ', data=xs_cut[0])\n",
    "    hdf5_file.attrs['sequences'] = len(sequence[0])\n",
    "    for i in range(0,len(ys_cut)):\n",
    "        hdf5_file.create_dataset('ch '+str(np.char.zfill(str(chan_enab[i]), 2)), data=asym_ch[i])\n",
    "        \n",
    "# f = gzip.GzipFile(\"testcompressednparr.npy.gz\", \"w\")\n",
    "# np.save(file=f, arr=ys_cut)\n",
    "# f.close()\n",
    "        \n",
    "end = time.time()\n",
    "print('saving hdf5: ' + str(end-start))    "
   ]
  },
  {
   "cell_type": "code",
   "execution_count": null,
   "metadata": {},
   "outputs": [],
   "source": [
    "## testing reaad\n",
    "with h5py.File(AsymSavename+'.h5', 'r') as f:\n",
    "    print(f.attrs.keys())\n",
    "    print(f.attrs.get('sequences'))\n",
    "    print(f.attrs.get('rownames'))\n",
    "    f.close()"
   ]
  },
  {
   "cell_type": "code",
   "execution_count": null,
   "metadata": {},
   "outputs": [],
   "source": [
    "# start = time.time()\n",
    "\n",
    "# np.save(os.getcwd() + '/testnpysave', asym_ch)\n",
    "# np.save(os.getcwd() + '/processed_data/'+ 'xs_cut', xs_cut)\n",
    "# # np.save(os.getcwd() + pmSavename, asym_pm)\n",
    "# # np.save(os.getcwd() + AsymSavename, Asym)\n",
    "# end = time.time()\n",
    "# print('saving as npy ' + str(end-start))  "
   ]
  },
  {
   "cell_type": "code",
   "execution_count": null,
   "metadata": {},
   "outputs": [],
   "source": [
    "fullend = time.time()\n",
    "print('full processing time: ' + str(fullend-fullstart))  \n",
    "print('finished ' + str(datetime.now())) \n",
    "print('\\n')"
   ]
  },
  {
   "cell_type": "markdown",
   "metadata": {},
   "source": [
    "## end of data processing ##"
   ]
  },
  {
   "cell_type": "code",
   "execution_count": null,
   "metadata": {},
   "outputs": [],
   "source": []
  },
  {
   "cell_type": "code",
   "execution_count": null,
   "metadata": {},
   "outputs": [],
   "source": []
  },
  {
   "cell_type": "markdown",
   "metadata": {},
   "source": [
    "## Exploring discarding pulses because of small or rapidly changing n flux "
   ]
  },
  {
   "cell_type": "code",
   "execution_count": 9,
   "metadata": {},
   "outputs": [
    {
     "name": "stdout",
     "output_type": "stream",
     "text": [
      "(array([ 346,  347, 1111, 1112, 1113, 1114, 1115, 1116, 1117, 1118, 1119,\n",
      "       1120, 1121, 1122, 1123, 1124, 1125, 1126, 1127, 1128, 1129, 1130,\n",
      "       1131, 1132, 1133, 1134, 1135, 1136, 1137, 1138, 1139, 1140, 1141,\n",
      "       1142, 1143, 1144, 1145, 1146, 1147, 1148, 1149, 1150, 1151, 1152,\n",
      "       1153, 1154, 1155, 1156, 1157, 1158, 1159, 1160, 1161, 1162, 1163,\n",
      "       1164, 1165, 1166, 1167, 1168, 1169, 1170, 1171, 1172, 1173, 1174,\n",
      "       1176, 1178, 1181, 1183, 1185, 1186, 1187, 3542, 3543, 3544, 3545,\n",
      "       3626, 3627, 3628, 3629], dtype=int64),)\n",
      "5000\n"
     ]
    },
    {
     "data": {
      "text/plain": [
       "[<matplotlib.lines.Line2D at 0x223d117f370>]"
      ]
     },
     "execution_count": 9,
     "metadata": {},
     "output_type": "execute_result"
    },
    {
     "data": {
      "image/png": "[encoded data removed]",
      "text/plain": [
       "<Figure size 640x480 with 1 Axes>"
      ]
     },
     "metadata": {},
     "output_type": "display_data"
    }
   ],
   "source": [
    "print((np.where(HeNorms<5.3)))\n",
    "x = HeNorms\n",
    "\n",
    "dx = x[1]-x[0]\n",
    "y = x**2 + 1\n",
    "dydx = np.gradient(y, dx)\n",
    "print(len(dydx))\n",
    "plt.plot(dydx)"
   ]
  },
  {
   "cell_type": "code",
   "execution_count": 10,
   "metadata": {},
   "outputs": [
    {
     "name": "stdout",
     "output_type": "stream",
     "text": [
      "5000\n"
     ]
    },
    {
     "data": {
      "text/plain": [
       "[<matplotlib.lines.Line2D at 0x223d13b2f70>]"
      ]
     },
     "execution_count": 10,
     "metadata": {},
     "output_type": "execute_result"
    },
    {
     "data": {
      "image/png": "[encoded data removed]",
      "text/plain": [
       "<Figure size 640x480 with 1 Axes>"
      ]
     },
     "metadata": {},
     "output_type": "display_data"
    }
   ],
   "source": [
    "x2 = dydx\n",
    "\n",
    "dx2 = x2[1]-x2[0]\n",
    "y2 = x2**2 + 1\n",
    "dydx2 = np.gradient(y2, dx2)\n",
    "print(len(dydx2))\n",
    "plt.plot(dydx2)"
   ]
  },
  {
   "cell_type": "code",
   "execution_count": 53,
   "metadata": {},
   "outputs": [
    {
     "name": "stdout",
     "output_type": "stream",
     "text": [
      "SF_Norm_files/runs12034-12363/12126\n",
      "12035\n",
      "(array([1635, 1636, 1646, 1891, 1892, 1901], dtype=int64),)\n",
      "12039\n",
      "(array([], dtype=int64),)\n",
      "12063\n",
      "(array([], dtype=int64),)\n",
      "12064\n",
      "(array([4707], dtype=int64),)\n",
      "12065\n",
      "(array([], dtype=int64),)\n",
      "12067\n",
      "(array([], dtype=int64),)\n",
      "12068\n",
      "(array([3471], dtype=int64),)\n",
      "12070\n",
      "(array([], dtype=int64),)\n",
      "12073\n",
      "(array([], dtype=int64),)\n",
      "12079\n",
      "(array([], dtype=int64),)\n",
      "12095\n",
      "(array([], dtype=int64),)\n",
      "12098\n",
      "(array([], dtype=int64),)\n",
      "12106\n",
      "(array([], dtype=int64),)\n",
      "12115\n",
      "(array([4300], dtype=int64),)\n",
      "12118\n",
      "(array([], dtype=int64),)\n",
      "12119\n",
      "(array([3976], dtype=int64),)\n",
      "12120\n",
      "(array([], dtype=int64),)\n",
      "12122\n",
      "(array([], dtype=int64),)\n",
      "12125\n",
      "(array([], dtype=int64),)\n",
      "12126\n",
      "(array([1111, 1112], dtype=int64),)\n",
      "12127\n",
      "(array([], dtype=int64),)\n",
      "12132\n",
      "(array([], dtype=int64),)\n",
      "12137\n",
      "(array([1857, 1858], dtype=int64),)\n",
      "12139\n",
      "(array([], dtype=int64),)\n",
      "12146\n",
      "(array([], dtype=int64),)\n",
      "12159\n",
      "(array([], dtype=int64),)\n",
      "12161\n",
      "(array([], dtype=int64),)\n",
      "12162\n",
      "(array([2813], dtype=int64),)\n",
      "12163\n",
      "(array([], dtype=int64),)\n",
      "12165\n",
      "(array([3824, 3825], dtype=int64),)\n",
      "12168\n",
      "(array([], dtype=int64),)\n",
      "12170\n",
      "(array([], dtype=int64),)\n",
      "12174\n",
      "(array([], dtype=int64),)\n",
      "12176\n",
      "(array([4479, 4480], dtype=int64),)\n",
      "12179\n",
      "(array([3705, 3706], dtype=int64),)\n",
      "12181\n",
      "(array([4332, 4333, 4334], dtype=int64),)\n",
      "12188\n",
      "(array([], dtype=int64),)\n",
      "12189\n",
      "(array([], dtype=int64),)\n"
     ]
    },
    {
     "data": {
      "text/plain": [
       "<matplotlib.lines.Line2D at 0x22753297e50>"
      ]
     },
     "execution_count": 53,
     "metadata": {},
     "output_type": "execute_result"
    }
   ],
   "source": [
    "## Not loading SF info for polarization\n",
    "%matplotlib qt\n",
    "\n",
    "# Load in SF and He normalization information ##\n",
    "# SFNormFile2 = 'F:/LANL/SF_Norm_files/runs12034-12363/12036.h5' ## change sf norm file here or use default\n",
    "print(SFNormFile)\n",
    "temp = 'SF_Norm_files/runs12034-12363/'\n",
    "\n",
    "for i in range(12034,12200):\n",
    "#     print(i)\n",
    "    try:\n",
    "        df_SF = pd.read_hdf(temp+str(i) + '.h5', key='df_0')\n",
    "    #     df_SF = pd.read_hdf(SFNormFile2, key='df_0')\n",
    "        df_HE = pd.read_hdf(temp+str(i) + '.h5', key='df_1')\n",
    "    #     df_HE = pd.read_hdf(SFNormFile2, key='df_1')\n",
    "    except Exception as e:\n",
    "        logger.error('run '+i + ' failed during SFNormFile load')\n",
    "        logger.exception(e)\n",
    "\n",
    "    # SF_Sort_arr = df_SF[['nicknames', 'transition_locations']].to_numpy().T\n",
    "    He_Norm_arr = df_HE[['pulse', 'norms']].to_numpy().T\n",
    "\n",
    "    NormFactor = 1000000  ## He integrals are huge, this normalizes all of those by a constant value for ease of use\n",
    "    HeNorms= (He_Norm_arr[1])/NormFactor\n",
    "\n",
    "    # print(SF_Sort_arr)\n",
    "    # print(He_Norm_arr[1]/NormFactor)\n",
    "    if len((np.where(HeNorms<2.0)[0])) > 0:\n",
    "        print(i)\n",
    "        print((np.where(HeNorms<1.0)))\n",
    "    x = HeNorms\n",
    "\n",
    "    dx = x[1]-x[0]\n",
    "    y = x**2 + 1\n",
    "    dydx = np.gradient(y, dx)\n",
    "#     print(len(dydx))\n",
    "    if np.mean(np.abs(dydx))>60:\n",
    "        plt.plot(dydx, label=str(i))\n",
    "        plt.legend()\n",
    "\n",
    "    x2 = dydx\n",
    "\n",
    "    dx2 = x2[1]-x2[0]\n",
    "    y2 = x2**2 + 1\n",
    "    dydx2 = np.gradient(y2, dx2)\n",
    "    if len([*filter(lambda x: x >= 30000, np.abs(dydx2))]) > 0:\n",
    "#         print(len(dydx2))\n",
    "        plt.plot(dydx, label = str(i)+ ' baddie!')\n",
    "plt.axhline(200, ls = '--')"
   ]
  },
  {
   "cell_type": "code",
   "execution_count": null,
   "metadata": {},
   "outputs": [],
   "source": [
    "# print(np.where(np.abs(dydx)>90))\n",
    "problems = np.where(np.abs(dydx)>100)[0]\n",
    "print(problems)"
   ]
  },
  {
   "cell_type": "code",
   "execution_count": 310,
   "metadata": {},
   "outputs": [
    {
     "name": "stdout",
     "output_type": "stream",
     "text": [
      "[6.75914521 6.7224181  6.82175878 ... 6.42678369 6.47034032 6.41850394]\n"
     ]
    }
   ],
   "source": [
    "print(HeNorms)\n",
    "\n",
    "baseL = 0\n",
    "baseR = int(((preTime[0]-groupStart[0])*0.70)/chanDec[0])  ##70% before the trigger\n",
    "numRuns = int((fileLength[0]-20-numSamples[0])/(numSamples[0]+6)+1)\n",
    "legend =  ['NaI', 'R']\n",
    "\n",
    "s = 20 ## pulse to look at\n",
    "t=s+1\n",
    "\n",
    "#  dont know why this is so slow ##\n",
    "def plotter(ys, xs, baseR, numpoints):\n",
    "    tempys_basesub = np.zeros((len(ys), numRuns,numpoints[0]), dtype=float)\n",
    "    for i in range((len(ys))):\n",
    "        for pulse in range((len(eventcount_arr[0]))): ## all have 5000 pulses\n",
    "            tempys_basesub[i][pulse]=np.subtract(ys[i][pulse], np.mean(ys[i][pulse][baseL:baseR]))\n",
    "        for j in range(s, t): ## plot only interested pulses\n",
    "            plt.plot(xs[i], tempys_basesub[i][j]) #label=legend[i]) #+str(sums[1][j])) ## sums[j] will not work for more than just TR   \n",
    "            plt.axvline(xs[0][baseL], ls = '--')\n",
    "            plt.axvline(xs[0][baseR], ls = '--')\n",
    "            #plt.axvline(xs[0][int(((preTime[0]-groupStart[0])*0.70)/chanDec[0])], ls = '--', c ='m')\n",
    "            plt.axvline(xs[0][baseR+5], ls = '--', c ='r') ## BaseR+5 line marks the beginning of the integral, until the end of samples.\n",
    "#             plt.title('SF state transition' + transitions[p]) \n",
    "#             plt.xlabel(\"time from trigger (ns)\")\n",
    "#             plt.ylabel(\"ADC\")\n",
    "#             plt.legend()\n",
    "            \n",
    "plotter(ys_arr[10:], xs[10:], baseR, numSamples) ##plot coils"
   ]
  },
  {
   "cell_type": "code",
   "execution_count": null,
   "metadata": {},
   "outputs": [],
   "source": []
  },
  {
   "cell_type": "code",
   "execution_count": null,
   "metadata": {},
   "outputs": [],
   "source": []
  },
  {
   "cell_type": "code",
   "execution_count": null,
   "metadata": {},
   "outputs": [],
   "source": []
  },
  {
   "cell_type": "code",
   "execution_count": null,
   "metadata": {},
   "outputs": [],
   "source": []
  },
  {
   "cell_type": "code",
   "execution_count": 232,
   "metadata": {
    "scrolled": true
   },
   "outputs": [
    {
     "name": "stdout",
     "output_type": "stream",
     "text": [
      "[5.61741149e-06 4.33140510e-02 1.96993303e+00 1.36791375e+01]\n",
      "[[ 3.84922577e+02 -8.10138546e-02  3.30527249e-03 -8.98536446e+00]\n",
      " [-8.10138546e-02  4.72178576e-05 -7.01391053e-07  6.70753380e-03]\n",
      " [ 3.30527249e-03 -7.01391053e-07  1.46383296e-05 -7.83805934e-05]\n",
      " [-8.98536446e+00  6.70753380e-03 -7.83805934e-05  1.70953771e+00]]\n",
      "[ 34.41607826  23.34753564  63.08951546 -73.03935381 -19.47467192\n",
      "  15.21646023 -45.3119401  -27.49887262 -20.78847391 -28.22595977]\n"
     ]
    },
    {
     "name": "stderr",
     "output_type": "stream",
     "text": [
      "C:\\Users\\gabeo\\AppData\\Local\\Temp\\ipykernel_2176\\729578942.py:7: RuntimeWarning: overflow encountered in multiply\n",
      "  fit = voigt_profile(x-xshift, sig, gam)*amp\n"
     ]
    }
   ],
   "source": [
    "## old one channel curve/param\n",
    "\n",
    "xdata = xs_cut[0][res_reg[0]:res_reg[1]]*1e-6  ## just change all xs to ms and one array\n",
    "ydata = OFF_bgsub[0][6][bg_reg1[1]-bg_reg1[0]:bg_reg2[0]-bg_reg1[0]] ## generalize\n",
    "\n",
    "def voigt2(x, sig, gam, xshift, amp):\n",
    "    fit = voigt_profile(x-xshift, sig, gam)*amp\n",
    "    return fit\n",
    "\n",
    "popt, pcov = curve_fit(voigt2, xdata, ydata)\n",
    "print(popt)\n",
    "print(pcov)\n",
    "\n",
    "fitted_curve = voigt2(xdata, popt[0],popt[1],popt[2],popt[3],)\n",
    "print(ydata[10:20])"
   ]
  },
  {
   "cell_type": "markdown",
   "metadata": {},
   "source": [
    "### plotting etc."
   ]
  },
  {
   "cell_type": "code",
   "execution_count": 89,
   "metadata": {},
   "outputs": [
    {
     "name": "stdout",
     "output_type": "stream",
     "text": [
      "bg_ fitting time: 13.813642024993896\n"
     ]
    }
   ],
   "source": [
    "from scipy import odr\n",
    "start = time.time()\n",
    "\n",
    "bg_region1_beg = 4180\n",
    "bg_region1_end = 5450\n",
    "bg_region2_beg = 6250\n",
    "bg_region2_end = 8992\n",
    "bg_reg1 = [bg_region1_beg,bg_region1_end]\n",
    "bg_reg2 = [bg_region2_beg,bg_region2_end]\n",
    "fullrange = bg_reg2[1]-bg_reg1[0]\n",
    "# print(bg_reg1[0])\n",
    "\n",
    "def bg_fitsubtract(bef_res_reg, aft_res_reg, ys): ## before/after resonance region [start:end] respectively, ys[ch] to fit\n",
    "    binstot = aft_res_reg[1]-bef_res_reg[0]  ## total number of bins in whole region\n",
    "    x1 = np.arange(bef_res_reg[0], bef_res_reg[1],1)\n",
    "    x2 = np.arange(aft_res_reg[0], aft_res_reg[1],1)\n",
    "    x = np.append(x1,x2)\n",
    "    fullx = np.arange(bef_res_reg[0], aft_res_reg[1],1) ## an array of every x bin in entire region\n",
    "    ys_bgsub = []\n",
    "#     seq_bgsub = []\n",
    "    for seq in range(0, len(ys)): ## number of sequences, usually 13\n",
    "        fitdata1 = ys[seq][bef_res_reg[0]: bef_res_reg[1]]\n",
    "        fitdata2 = ys[seq][aft_res_reg[0]: aft_res_reg[1]]\n",
    "        datasplice = np.append(fitdata1, fitdata2)\n",
    "#         x = np.linspace(0, len(datasplice),len(datasplice))\n",
    "        y = datasplice\n",
    "        data = odr.Data(x, y)\n",
    "        poly_model2 = odr.polynomial(2)  # using second order polynomial model. 3rd order looks worse...\n",
    "        odr_obj = odr.ODR(data, poly_model2)\n",
    "        output = odr_obj.run()  # running ODR fitting\n",
    "        poly2 = np.poly1d(output.beta[::-1])\n",
    "        poly_y2 = poly2(x)\n",
    "        fullpoly_y2 = poly2(fullx)\n",
    "        bgsubtracted = ys[seq][bef_res_reg[0]:aft_res_reg[1]] - fullpoly_y2  ## subtracts RealData-BackgroundFit\n",
    "#         seq_bgsub.append(bgsubtracted)\n",
    "        ys_bgsub.append(bgsubtracted)\n",
    "#     ys_bgsub.append(seq_bgsub)\n",
    "    return ys_bgsub\n",
    "\n",
    "ON_bgsub = np.zeros((len(ON_sums),len(ON_sums[0]),fullrange), dtype = np.float64) ## channels, sequences, range of bg_ subtraction\n",
    "OFF_bgsub = np.zeros((len(ON_sums),len(ON_sums[0]),fullrange), dtype = np.float64) ## channels, sequences, range of bg_ subtraction\n",
    "\n",
    "# testfunc = [] ## channels, sequences, range of bg_ subtraction\n",
    "for i in range(0, len(ON_sums)-1):\n",
    "#     testfunc.append(bg_fitsubtract(bg_reg1,bg_reg2, ON_sums[i]))\n",
    "    if chan_enab[i] == 24:\n",
    "        emessage = ('bg_ fit does not work for 6Li yet')\n",
    "#         logger.error(run_num + emessage)\n",
    "        raise Exception(emessage)\n",
    "#     print(chan_enab[i])\n",
    "    ON_bgsub[i] = bg_fitsubtract(bg_reg1,bg_reg2, ON_sums[i])\n",
    "    OFF_bgsub[i] = bg_fitsubtract(bg_reg1,bg_reg2, OFF_sums[i])\n",
    "    \n",
    "# for i in range(len(testfunc)):\n",
    "#     plt.plot(xs_cut[1][bg_reg1[0]:bg_reg2[1]]*1e-6, testfunc[i], lw = '1.0', label='3rd Order polynomial background subtracted')\n",
    "\n",
    "end = time.time()\n",
    "print('bg_ fitting time: ' + str(end-start))  "
   ]
  },
  {
   "cell_type": "code",
   "execution_count": null,
   "metadata": {},
   "outputs": [],
   "source": []
  },
  {
   "cell_type": "code",
   "execution_count": 90,
   "metadata": {},
   "outputs": [
    {
     "name": "stdout",
     "output_type": "stream",
     "text": [
      "[4180 4181 4182 ... 5447 5448 5449]\n"
     ]
    }
   ],
   "source": [
    "print(np.arange(bg_reg1[0], bg_reg1[1],1))"
   ]
  },
  {
   "cell_type": "code",
   "execution_count": 91,
   "metadata": {},
   "outputs": [
    {
     "name": "stdout",
     "output_type": "stream",
     "text": [
      "[4180, 5450]\n",
      "[6250, 8992]\n",
      "[4180 4181 4182 ... 8989 8990 8991]\n",
      "4812\n"
     ]
    }
   ],
   "source": [
    "print(bg_reg1)\n",
    "print(bg_reg2)\n",
    "\n",
    "x = np.arange(bg_reg1[0], bg_reg2[1],1)\n",
    "print(x)\n",
    "print(len(x))\n",
    "\n"
   ]
  },
  {
   "cell_type": "code",
   "execution_count": 92,
   "metadata": {},
   "outputs": [
    {
     "name": "stdout",
     "output_type": "stream",
     "text": [
      "[ 91.85716498 -26.6762865   45.23122741  26.14433756 125.6897113\n",
      "  12.06456208  18.3728285   11.90043417  -6.43205842  43.58873621]\n",
      "[-44.61219734 -69.85721133  -0.9400176  172.54827681  18.50579762\n",
      "  88.29042414 134.06344318 230.09845498 127.20450247 -22.21520624]\n",
      "[ -5.57646622  50.42642147  90.67168414 101.16192818 -20.02007138\n",
      " -90.51371387  21.56399344 -66.30766847 -59.04258571 -34.84340476]\n",
      "[ 34.72002756  23.50808917  18.02011848 -43.95680667  42.00068885\n",
      " -14.05540668  74.33982505 -88.09354335 -71.75141583  39.61420569]\n",
      "[-28.61365319 -93.17055851 -56.96439506 -43.86827923  65.6700356\n",
      " 210.11394065 182.83799099  87.30622766 -30.90810715 -19.98034928]\n",
      "[ 10.28242523  -0.61333949 -33.74955058  50.52808345 -24.51689117\n",
      " -11.59157536 -14.67936853  -4.32918465  -6.30440643 -16.07932218]\n",
      "[-124.388234    -91.85322348   56.5720006   111.36442663  -42.83382303\n",
      "  -45.34414027  -29.71296976   -3.6072559    13.09727974 -160.66610087]\n",
      "[-23.81279319 -61.04524836 -94.03926327  34.58825252  -5.4374698\n",
      " -49.40799376  79.27351634 113.0063922  128.39984037 -57.32189189]\n",
      "\n",
      "[-82.61516725  70.72127966 -43.33812859 -87.5187031  -57.26640554\n",
      "  90.00147869 -17.39473898 -16.92341663 251.27162991  10.52042285]\n",
      "[  4.47256824 -25.27002634  14.58010037 -34.48849297 -78.38850143\n",
      " -34.92736051 -42.49418683  48.69558692 -31.19520478 -19.10327131]\n",
      "[148.3389835   38.65259254 -17.23427381  34.74061434 103.54784483\n",
      " -11.37923727   1.64958634 -77.95938386 104.86869252  41.73777935]\n",
      "[124.53683259 -22.27013981 -18.35042784 -20.32290081 -58.02021884\n",
      " -31.01826516   4.36648338 142.48058256  43.83837296 -84.03698271]\n",
      "[  5.04621169  91.43453476  23.82164027 -17.68265845   5.38155244\n",
      " 186.35620739  84.66848795 110.98948968  93.69282592  12.76880899]\n",
      "[ 77.35086537 -29.11908209 -84.36639077  67.84429741  43.9746091\n",
      "  98.11124172 191.61610468 -18.64850428  38.99827301   6.28436569]\n",
      "[-45.78121149  20.08391062  55.67001389 116.79950961  45.34775054\n",
      " 270.45632219 186.7888956   74.3591721   24.61232419   9.51832132]\n",
      "[-10.8080103  126.12071654  46.26188165  66.06804285  45.19701877\n",
      "  60.82609835 177.00586819   2.85380603 -68.6384385  -55.34092759]\n"
     ]
    }
   ],
   "source": [
    "## making sure these are all different\n",
    "\n",
    "# print((ON_bgsub[0][0][50:60]))\n",
    "# print((ON_bgsub[0][1][50:60]))\n",
    "# print((ON_bgsub[0][-1][50:60]))\n",
    "# print((ON_bgsub[0][-2][50:60]))\n",
    "# print((ON_bgsub[3][0][50:60]))\n",
    "# print((ON_bgsub[3][1][50:60]))\n",
    "# print((ON_bgsub[3][-1][50:60]))\n",
    "# print((ON_bgsub[3][-2][50:60]))\n",
    "# print()\n",
    "# print((OFF_bgsub[0][0][50:60]))\n",
    "# print((OFF_bgsub[0][1][50:60]))\n",
    "# print((OFF_bgsub[0][-1][50:60]))\n",
    "# print((OFF_bgsub[0][-2][50:60]))\n",
    "# print((OFF_bgsub[3][0][50:60]))\n",
    "# print((OFF_bgsub[3][1][50:60]))\n",
    "# print((OFF_bgsub[3][-1][50:60]))\n",
    "# print((OFF_bgsub[3][-2][50:60]))\n",
    "\n",
    "for i in range(len(ON_bgsub)):\n",
    "    plt.plot(xs_cut[1][bg_reg1[0]:bg_reg2[1]]*1e-6, ON_bgsub[i][0], lw = '1.0', label='3rd Order polynomial background subtracted')"
   ]
  },
  {
   "cell_type": "code",
   "execution_count": 93,
   "metadata": {},
   "outputs": [
    {
     "name": "stdout",
     "output_type": "stream",
     "text": [
      "13\n",
      "13\n",
      "8992\n",
      "8992\n",
      "8992\n",
      "8992\n",
      "1118208.0\n",
      "1768448.0\n",
      "2178048.0\n",
      "[1118208. 1118720. 1119232. ... 3580416. 3580928. 3581440.]\n",
      "4012\n"
     ]
    }
   ],
   "source": [
    "%matplotlib qt\n",
    "print(len(ON_sums))\n",
    "print(len(ON_sums[0]))\n",
    "print(len(ON_sums[0][0]))\n",
    "print(len(ON_sums[0][1]))\n",
    "print(len(ON_sums[0][2]))\n",
    "print(len(ON_sums[0][3]))\n",
    "plt.plot(xs_cut[1], ON_sums[1][0])\n",
    "plt.axvline(xs_cut[1][bg_reg1[0]])\n",
    "plt.axvline(xs_cut[1][bg_reg1[1]])\n",
    "plt.axvline(xs_cut[1][5850], color = 'r')\n",
    "plt.axvline(xs_cut[1][6250])\n",
    "# plt.axvline(xs_cut[1][bg_reg2[1]])\n",
    "print(xs_cut[1][bg_reg1[0]])\n",
    "print(xs_cut[1][bg_reg1[1]])\n",
    "print(xs_cut[1][6250])\n",
    "test_polyreg = ON_sums[1][0][bg_reg1[0]:bg_reg1[1]]\n",
    "test_polyregx = xs_cut[1][bg_reg1[0]:bg_reg1[1]]\n",
    "test_polyreg2 = ON_sums[1][0][6250:bg_reg2[1]]\n",
    "test_polyregx2 = xs_cut[1][6250:bg_reg2[1]]\n",
    "plt.plot(test_polyregx, test_polyreg, color = 'y')\n",
    "plt.plot(test_polyregx2, test_polyreg2, color = 'y')\n",
    "test_poly_splice = np.append(test_polyreg, test_polyreg2)\n",
    "test_poly_splicex = np.append(test_polyregx, test_polyregx2)\n",
    "print(test_poly_splicex)\n",
    "print(len(test_poly_splice))"
   ]
  },
  {
   "cell_type": "code",
   "execution_count": 21,
   "metadata": {},
   "outputs": [],
   "source": [
    "from scipy import odr\n",
    "\n",
    "# x = np.linspace(0.0, 5.0)\n",
    "# y = np.sin(x)\n",
    "test_polyreg = ON_sums[1][0][bg_reg1[0]:bg_reg1[1]]\n",
    "test_polyregx = xs_cut[1][bg_reg1[0]:bg_reg1[1]]\n",
    "test_polyreg2 = ON_sums[1][0][6250:bg_reg2[1]]\n",
    "test_polyregx2 = xs_cut[1][6250:bg_reg2[1]]\n",
    "plt.plot(test_polyregx, test_polyreg, color = 'y')\n",
    "plt.plot(test_polyregx2, test_polyreg2, color = 'y')\n",
    "test_poly_splice = np.append(test_polyreg, test_polyreg2)\n",
    "test_poly_splicex = np.append(test_polyregx, test_polyregx2)\n",
    "# x = np.linspace(0, len(fit_reg),len(fit_reg))+xs"
   ]
  },
  {
   "cell_type": "code",
   "execution_count": 22,
   "metadata": {},
   "outputs": [
    {
     "name": "stdout",
     "output_type": "stream",
     "text": [
      "4012\n",
      "488.4258267607462\n",
      "4812\n",
      "462.32694952779104\n",
      "4812\n",
      "4812\n",
      "4012\n"
     ]
    }
   ],
   "source": [
    "## show difference between 2nd and 3rd order poly\n",
    "\n",
    "%matplotlib qt\n",
    "from scipy import odr\n",
    "\n",
    "# x = np.linspace(0.0, 5.0)\n",
    "# y = np.sin(x)\n",
    "y = test_poly_splice\n",
    "# fit_reg = test_poly_splice\n",
    "# x = np.linspace(0, len(y),len(y))\n",
    "x1 = np.arange(bg_reg1[0], bg_reg1[1],1)\n",
    "x2 = np.arange(bg_reg2[0], bg_reg2[1],1)\n",
    "x = np.append(x1,x2)\n",
    "# x = np.linspace(0, test_poly_splicex[-1],len(fit_reg))\n",
    "\n",
    "print(len(x))\n",
    "\n",
    "# y = test_poly_splice\n",
    "y = test_poly_splice\n",
    "data = odr.Data(x, y)\n",
    "poly_model2 = odr.polynomial(2)  # using third order polynomial model\n",
    "odr_obj = odr.ODR(data, poly_model2)\n",
    "output = odr_obj.run()  # running ODR fitting\n",
    "poly2 = np.poly1d(output.beta[::-1])\n",
    "poly_y2 = poly2(x)\n",
    "print(poly_y2[1])\n",
    "# fullx = np.linspace(0, len(ON_sums[1][0][bg_reg1[0]:bg_reg2[1]]),len(ON_sums[1][0][bg_reg1[0]:bg_reg2[1]]))\n",
    "fullx = np.arange(bg_reg1[0], bg_reg2[1],1)\n",
    "print(len(fullx))\n",
    "fullpoly_y2 = poly2(fullx)\n",
    "\n",
    "poly_model3 = odr.polynomial(3)  # using third order polynomial model\n",
    "odr_obj = odr.ODR(data, poly_model3)\n",
    "output = odr_obj.run()  # running ODR fitting\n",
    "poly3 = np.poly1d(output.beta[::-1])\n",
    "poly_y3 = poly3(x)\n",
    "print(poly_y3[1])\n",
    "# fullx = np.linspace(0, len(ON_sums[1][0][bg_reg1[0]:bg_reg2[1]]),len(ON_sums[1][0][bg_reg1[0]:bg_reg2[1]]))\n",
    "# fullx = np.linspace(0, len(ON_sums[1][0][bg_reg1[0]:bg_reg2[1]]),len(ON_sums[1][0][bg_reg1[0]:bg_reg2[1]]))\n",
    "print(len(fullx))\n",
    "fullpoly_y3 = poly3(fullx)\n",
    "print(len(fullpoly_y3))\n",
    "\n",
    "plt.plot(x, y, label=\"input data\")\n",
    "# plt.plot(x, (((poly_y2)*-1)+(poly_y2[0]*2)), label=\"polynomial ODR\")\n",
    "# plt.plot(x, (poly_y2), label=\"2nd order polynomial ODR\")\n",
    "# plt.plot(x[0:1270], (poly_y2[0:1270]), label=\"beginning?\")\n",
    "# plt.plot(x, (((poly_y3)*-1)+(poly_y3[0]*2)), label=\"polynomial ODR\")\n",
    "plt.plot(x, (poly_y3), label=\"3rd order polynomial ODR\")\n",
    "plt.plot(fullx, (fullpoly_y3), label=\"3rd order polynomial ODR\")\n",
    "# plt.plot(x[0:1270], (poly_y3[0:1270]), label=\"beginning?\")\n",
    "# plt.axvline(x[2180], color ='r')\n",
    "plt.title('fits to background data') \n",
    "plt.xlabel(\"bins\", fontsize = '12')\n",
    "plt.ylabel(\"ADC\", fontsize = '12')\n",
    "plt.legend()\n",
    "plt.show()\n",
    "print(len(poly_y2))\n"
   ]
  },
  {
   "cell_type": "code",
   "execution_count": 23,
   "metadata": {},
   "outputs": [],
   "source": [
    "plt.plot(xs_cut[1], ON_sums[1][0])\n",
    "\n",
    "plt.plot(xs_cut[1][bg_reg1[1]:6250], ON_sums[1][0][bg_reg1[1]:6250], label=\"input data\")\n",
    "# plt.plot(test_poly_splicex, (((poly_y)*-1)+(poly_y[0]*2)), label=\"polynomial ODR\")\n",
    "plt.plot(test_poly_splicex, (poly_y2), label=\"2nd order polynomial ODR\")\n",
    "plt.plot(test_poly_splicex, (poly_y3), label=\"3rd order polynomial ODR\")\n",
    "\n",
    "plt.legend()\n",
    "plt.show()"
   ]
  },
  {
   "cell_type": "code",
   "execution_count": 28,
   "metadata": {},
   "outputs": [],
   "source": [
    "plt.plot(xs_cut[1]*1e-6, ON_sums[1][0], lw = '1.0')\n",
    "# plt.plot(test_poly_splicex, y, label=\"Background input data\")\n",
    "plt.plot(test_polyregx*1e-6, test_polyreg, label='Background input data', color ='#ff7f0eff', lw = '1.0')\n",
    "plt.plot(test_polyregx2*1e-6, test_polyreg2, color = '#ff7f0eff', lw = '1.0')\n",
    "plt.plot(xs_cut[1][bg_reg1[1]:6250]*1e-6, ON_sums[1][0][bg_reg1[1]:6250], label=\"Resonance region\", color = 'r', lw = '1.0')\n",
    "# plt.plot(test_poly_splicex, (((poly_y)*-1)+(poly_y[0]*2)), label=\"polynomial ODR\")\n",
    "# plt.plot(test_poly_splicex, (poly_y), label=\"polynomial ODR\")\n",
    "plt.plot(xs_cut[1][bg_reg1[0]:bg_reg2[1]]*1e-6, (fullpoly_y2), label=\"2nd order background polynomial fit\", color = 'magenta', lw = '3.0', ls = '-')\n",
    "plt.plot(xs_cut[1][bg_reg1[0]:bg_reg2[1]]*1e-6, (fullpoly_y3), label=\"3rd order background polynomial fit\", color = 'g', lw = '3.0', ls = ':')\n",
    "# plt.plot(xs_cut[1][bg_reg1[0]:bg_reg2[1]]*1e-6, (poly_y2), label=\"2nd order background polynomial fit\", color = 'magenta', lw = '3.0', ls = '-')\n",
    "# plt.plot(xs_cut[1][bg_reg1[0]:bg_reg2[1]]*1e-6, (poly_y3), label=\"3rd order background polynomial fit\", color = 'g', lw = '3.0', ls = ':')\n",
    "\n",
    "plt.title('Fits to background (On sums, 160 pulses in 1 sequence)') \n",
    "plt.xlabel(\"tof (ms)\")\n",
    "plt.ylabel(\"Counts (arbitrary)\")\n",
    "plt.xlabel(\"tof (ms)\", fontsize = '12')\n",
    "plt.ylabel(\"ADC\", fontsize = '12')\n",
    "plt.legend()\n",
    "plt.show()"
   ]
  },
  {
   "cell_type": "code",
   "execution_count": null,
   "metadata": {},
   "outputs": [],
   "source": []
  },
  {
   "cell_type": "code",
   "execution_count": 29,
   "metadata": {},
   "outputs": [],
   "source": [
    "plt.plot(xs_cut[1]*1e-6, ON_sums[1][0], lw = '1.0')\n",
    "reg_full = ON_sums[1][0][bg_reg1[0]:8992]\n",
    "xs_bg_reg = xs_cut[1][bg_reg1[0]:bg_reg2[1]]*1e-6  ## new 11.21.24\n",
    "# left = ON_sums[1][0][bg_reg1[0]:bg_reg1[1]]-poly_y[0:1270]\n",
    "# right = ON_sums[1][0][6250:bg_reg2[1]]-poly_y[1270:]\n",
    "bgsubtracted2 = ON_sums[1][0][bg_reg1[0]:bg_reg2[1]] - fullpoly_y2\n",
    "bgsubtracted3 = ON_sums[1][0][bg_reg1[0]:bg_reg2[1]] - fullpoly_y3\n",
    "bgsubtracted2OFF = OFF_sums[1][0][bg_reg1[0]:bg_reg2[1]] - fullpoly_y2\n",
    "\n",
    "# plt.plot(test_polyregx, left, color = 'y')\n",
    "# plt.plot(test_polyregx2, right, color = 'r')\n",
    "plt.plot(xs_cut[1][bg_reg1[0]:8992]*1e-6, reg_full, color = '#ff7f0eff', lw = '1.0', label = 'full bg_ subtraction region')\n",
    "\n",
    "# res_only = np.append(left,ON_sums[1][0][bg_reg1[1]:6250])\n",
    "# res_only = np.append(res_only,right)\n",
    "plt.plot(xs_bg_reg, bgsubtracted2, color = 'r', lw = '1.0', label='2nd Order polynomial background subtracted')\n",
    "# plt.plot(xs_cut[1][bg_reg1[0]:bg_reg2[1]]*1e-6, bgsubtracted3, color = 'g', lw = '1.0', label='3rd Order polynomial background subtracted')\n",
    "# plt.plot(xs_cut[1][bg_reg1[0]:bg_reg2[1]]*1e-6, OFF_sums[1][0][bg_reg1[0]:bg_reg2[1]]-ON_sums[1][0][bg_reg1[0]:bg_reg2[1]], color = 'g', lw = '1.0', label='simple subtraction')\n",
    "# plt.plot(xs_cut[1][bg_reg1[0]:bg_reg2[1]]*1e-6, OFF_bgsub[1][0]-ON_bgsub[1][0], color = 'm', lw = '1.0', label='fit subtraction?')\n",
    "\n",
    "plt.axhline(0, ls='--')\n",
    "\n",
    "plt.title('Fits to background (On sums, 160 pulses in 1 sequence)') \n",
    "plt.xlabel(\"tof (ms)\")\n",
    "plt.ylabel(\"Counts (arbitrary)\")\n",
    "plt.xlabel(\"tof (ms)\", fontsize = '12')\n",
    "plt.ylabel(\"ADC\", fontsize = '12')\n",
    "plt.legend()\n",
    "plt.show()\n"
   ]
  },
  {
   "cell_type": "code",
   "execution_count": 28,
   "metadata": {},
   "outputs": [
    {
     "name": "stdout",
     "output_type": "stream",
     "text": [
      "[-461.66872657 -461.6370731  -461.6053824  ... -286.17578776 -286.21913013\n",
      " -286.26254094]\n",
      "[-467.08254142 -467.04754848 -467.01251754 ... -286.07465439 -286.123068\n",
      " -286.17155431]\n",
      "[  79.63744516 -139.36974854   24.19290166 ...   51.56799882  -81.48918699\n",
      "  -57.82290277]\n",
      "[ -16.43320231 -132.70170788  -47.03146727 ...    9.7021881  -104.31219871\n",
      "   -3.0115005 ]\n"
     ]
    },
    {
     "data": {
      "text/plain": [
       "[<matplotlib.lines.Line2D at 0x2aeaf613550>]"
      ]
     },
     "execution_count": 28,
     "metadata": {},
     "output_type": "execute_result"
    }
   ],
   "source": [
    "print(ON_bgsub[1][0] - ON_sums[1][0][bg_reg1[0]:bg_reg2[1]])\n",
    "print(OFF_bgsub[1][0] - OFF_sums[1][0][bg_reg1[0]:bg_reg2[1]])\n",
    "print(OFF_bgsub[1][0] - ON_bgsub[1][0])\n",
    "print(OFF_sums[1][1][bg_reg1[0]:bg_reg2[1]]-ON_sums[1][1][bg_reg1[0]:bg_reg2[1]])\n",
    "plt.plot(xs_cut[1][bg_reg1[0]:bg_reg2[1]]*1e-6,ON_bgsub[1][0] - ON_sums[1][0][bg_reg1[0]:bg_reg2[1]])"
   ]
  },
  {
   "cell_type": "markdown",
   "metadata": {},
   "source": [
    "now OFF ones"
   ]
  },
  {
   "cell_type": "code",
   "execution_count": null,
   "metadata": {},
   "outputs": [],
   "source": []
  },
  {
   "cell_type": "code",
   "execution_count": 29,
   "metadata": {},
   "outputs": [],
   "source": [
    "# test_polyreg = OFF_sums[1][0][bg_reg1[0]:bg_reg1[1]]\n",
    "# test_polyregx = xs_cut[1][bg_reg1[0]:bg_reg1[1]]\n",
    "# test_polyreg2 = OFF_sums[1][0][6250:bg_reg2[1]]\n",
    "# test_polyregx2 = xs_cut[1][6250:bg_reg2[1]]\n",
    "# # plt.plot(test_polyregx, test_polyreg, color = 'y')\n",
    "# # plt.plot(test_polyregx2, test_polyreg2, color = 'y')\n",
    "# test_poly_splice = np.append(test_polyreg, test_polyreg2)\n",
    "# test_poly_splicex = np.append(test_polyregx, test_polyregx2)\n",
    "# y = test_poly_splice\n",
    "# x = np.linspace(0, len(y),len(y))\n",
    "# # x = np.linspace(0, test_poly_splicex[-1],len(fit_reg))\n",
    "\n",
    "# print(len(x))\n",
    "\n",
    "# data = odr.Data(x, y)\n",
    "# poly_model3 = odr.polynomial(3)  # using third order polynomial model\n",
    "# odr_obj = odr.ODR(data, poly_model3)\n",
    "# output = odr_obj.run()  # running ODR fitting\n",
    "# poly3 = np.poly1d(output.beta[::-1])\n",
    "# poly_y3 = poly3(x)\n",
    "# print(poly_y3[1])\n",
    "# fullx = np.linspace(0, len(OFF_sums[1][0][bg_reg1[0]:bg_reg2[1]]),len(OFF_sums[1][0][bg_reg1[0]:bg_reg2[1]]))\n",
    "# print(len(fullx))\n",
    "# fullpoly_y3OFF = poly3(fullx)\n",
    "\n",
    "# plt.plot(x, y, label=\"input data\")\n",
    "# # plt.plot(x[0:1270], (poly_y2[0:1270]), label=\"beginning?\")\n",
    "# # plt.plot(x, (((poly_y3)*-1)+(poly_y3[0]*2)), label=\"polynomial ODR\")\n",
    "# plt.plot(x, (poly_y3), label=\"3rd order polynomial ODR\")\n",
    "# # plt.plot(x[0:1270], (poly_y3[0:1270]), label=\"beginning?\")\n",
    "# # plt.axvline(x[2180], color ='r')\n",
    "# plt.title('fits to background data OFF pulses') \n",
    "# plt.xlabel(\"bins\", fontsize = '12')\n",
    "# plt.ylabel(\"ADC\", fontsize = '12')\n",
    "# plt.legend()\n",
    "# plt.show()\n",
    "# print(len(poly_y2))"
   ]
  },
  {
   "cell_type": "code",
   "execution_count": 30,
   "metadata": {},
   "outputs": [],
   "source": [
    "# plt.plot(xs_cut[1]*1e-6, ON_sums[1][0], lw = '1.0')\n",
    "# reg_full = ON_sums[1][0][bg_reg1[0]:8992]\n",
    "# # left = ON_sums[1][0][bg_reg1[0]:bg_reg1[1]]-poly_y[0:1270]\n",
    "# # right = ON_sums[1][0][6250:bg_reg2[1]]-poly_y[1270:]\n",
    "# bgsubtracted = ON_sums[1][0][bg_reg1[0]:bg_reg2[1]] - fullpoly_y3\n",
    "# # plt.plot(test_polyregx, left, color = 'y')\n",
    "# # plt.plot(test_polyregx2, right, color = 'r')\n",
    "# # plt.plot(xs_cut[1][bg_reg1[0]:8992]*1e-6, reg_full, color = '#ff7f0eff', lw = '1.0', label = 'full fitting region')\n",
    "\n",
    "# # res_only = np.append(left,ON_sums[1][0][bg_reg1[1]:6250])\n",
    "# # res_only = np.append(res_only,right)\n",
    "# plt.plot(xs_cut[1][bg_reg1[0]:bg_reg2[1]]*1e-6, bgsubtracted, color = 'g', lw = '1.0', label='3rd Order polynomial background subtracted')\n",
    "# plt.axhline(0, ls='--')\n",
    "\n",
    "# plt.title('Fits to background (On sums, 160 pulses in 1 sequence)') \n",
    "# plt.xlabel(\"tof (ms)\")\n",
    "# plt.ylabel(\"Counts (arbitrary)\")\n",
    "# plt.xlabel(\"tof (ms)\", fontsize = '12')\n",
    "# plt.ylabel(\"ADC\", fontsize = '12')\n",
    "# plt.legend()\n",
    "# plt.show()"
   ]
  },
  {
   "cell_type": "code",
   "execution_count": null,
   "metadata": {},
   "outputs": [],
   "source": []
  },
  {
   "cell_type": "code",
   "execution_count": null,
   "metadata": {},
   "outputs": [],
   "source": []
  },
  {
   "cell_type": "markdown",
   "metadata": {},
   "source": [
    "Now voigt"
   ]
  },
  {
   "cell_type": "code",
   "execution_count": null,
   "metadata": {},
   "outputs": [],
   "source": []
  },
  {
   "cell_type": "code",
   "execution_count": 45,
   "metadata": {},
   "outputs": [],
   "source": [
    "# from scipy.special import voigt_profile\n",
    "# from scipy.optimize import curve_fit\n",
    "# voigt_profile(2, 1., 1.)\n",
    "# fig, ax = plt.subplots(figsize=(8, 8))\n",
    "# x = np.linspace(-10, 10, 500)\n",
    "# parameters_list = [(1.5, 0., \"solid\"), (1.3, 0.5, \"dashed\"),\n",
    "#                    (0., 1.8, \"dotted\"), (1., 1., \"dashdot\")]\n",
    "# for params in parameters_list:\n",
    "#     sigma, gamma, linestyle = params\n",
    "#     voigt = voigt_profile(x, sigma, gamma)\n",
    "#     ax.plot(x, voigt, label=rf\"$\\sigma={sigma},\\, \\gamma={gamma}$\",\n",
    "#             ls=linestyle)\n",
    "# plt.legend()\n",
    "# plt.show()"
   ]
  },
  {
   "cell_type": "code",
   "execution_count": 46,
   "metadata": {},
   "outputs": [
    {
     "name": "stdout",
     "output_type": "stream",
     "text": [
      "56345.656087718584\n"
     ]
    }
   ],
   "source": [
    "print(sum(voigt)/(1*np.sqrt(2*np.pi)))"
   ]
  },
  {
   "cell_type": "code",
   "execution_count": 48,
   "metadata": {},
   "outputs": [
    {
     "data": {
      "text/plain": [
       "[<matplotlib.lines.Line2D at 0x2aea9d3e5e0>]"
      ]
     },
     "execution_count": 48,
     "metadata": {},
     "output_type": "execute_result"
    }
   ],
   "source": [
    "## manual fitting\n",
    "\n",
    "from scipy.special import voigt_profile\n",
    "from scipy.optimize import curve_fit\n",
    "res_region_beg = 5450\n",
    "res_region_end = 6250\n",
    "res_reg = [res_region_beg,res_region_end]\n",
    "\n",
    "## checks that the resonance region and bg region do not overlap 11.21.24\n",
    "if res_reg[0] < bg_reg1[1] or res_reg[1]>bg_reg2[0]:\n",
    "    emessage = ('Declared Background region and Resonance region have overlapping fitting regions')\n",
    "    logger.error('run '+run_num + emessage)\n",
    "    raise Exception(emessage)\n",
    "\n",
    "## manual fitting\n",
    "# sigma = 60\n",
    "# gamma = 30\n",
    "# beg = 5800\n",
    "# end = 5900\n",
    "sigma = 0.05\n",
    "gamma = 0.09\n",
    "beg = 5800\n",
    "end = 5900\n",
    "\n",
    "shift = 1.98\n",
    "mult = 100\n",
    "\n",
    "# xdata = np.arange(-(res_reg[1]-res_reg[0])/2,(res_reg[1]-res_reg[0])/2,1)  ## centered around 0 for initial fitting\n",
    "xdata = xs_cut[0][res_reg[0]:res_reg[1]]*1e-6\n",
    "\n",
    "ydata = ON_bgsub[1][0][bg_reg1[1]-bg_reg1[0]:bg_reg2[0]-bg_reg1[0]]\n",
    "\n",
    "voigt = voigt_profile(xdata-shift, sigma, gamma)*mult\n",
    "# print(voigt)\n",
    "# def voigt2(x, sig, gam, xshift, amp):\n",
    "#     fit = voigt_profile(x-xshift, sig, gam)*amp\n",
    "#     return fit\n",
    "\n",
    "plt.plot(xdata, voigt)\n",
    "plt.plot(xdata,ydata)"
   ]
  },
  {
   "cell_type": "code",
   "execution_count": 49,
   "metadata": {},
   "outputs": [],
   "source": [
    "# binstot = aft_res_reg[1]-bef_res_reg[0]  ## total number of bins in whole region\n",
    "# x1 = np.arange(bef_res_reg[0], bef_res_reg[1],1)\n",
    "# x2 = np.arange(aft_res_reg[0], aft_res_reg[1],1)\n",
    "# x = np.append(x1,x2)\n",
    "# fullx = np.arange(bef_res_reg[0], aft_res_reg[1],1) ## an array of every x bin in entire region\n",
    "# ys_bgsub = []\n",
    "# #     seq_bgsub = []\n",
    "# for seq in range(0, len(ys)): ## number of sequences, usually 13\n",
    "#     fitdata1 = ys[seq][bef_res_reg[0]: bef_res_reg[1]]\n",
    "#     fitdata2 = ys[seq][aft_res_reg[0]: aft_res_reg[1]]\n",
    "# binstot = res_reg[1]-res_reg[0]  ## total number of bins in whole region\n",
    "# print(binstot)\n",
    "# x1 = np.arange(bef_res_reg[0], bef_res_reg[1],1)\n",
    "# x2 = np.arange(aft_res_reg[0], aft_res_reg[1],1)\n",
    "# x = np.append(x1,x2)\n",
    "# fullx = np.arange(bef_res_reg[0], aft_res_reg[1],1) ## an array of every x bin in entire region\n",
    "# ys_bgsub = []\n",
    "# #     seq_bgsub = []\n",
    "# for seq in range(0, len(ys)): ## number of sequences, usually 13\n",
    "#     fitdata1 = ys[seq][bef_res_reg[0]: bef_res_reg[1]]\n",
    "#     fitdata2 = ys[seq][aft_res_reg[0]: aft_res_reg[1]]"
   ]
  },
  {
   "cell_type": "code",
   "execution_count": 50,
   "metadata": {},
   "outputs": [],
   "source": [
    "# xdata = np.arange(-(res_reg[1]-res_reg[0])/2,(res_reg[1]-res_reg[0])/2,1)\n",
    "# print(xdata)\n",
    "# ydata = ON_bgsub[1][0][bg_reg1[1]-bg_reg1[0]:bg_reg2[0]-bg_reg1[0]]\n",
    "# print(ydata)"
   ]
  },
  {
   "cell_type": "code",
   "execution_count": 51,
   "metadata": {},
   "outputs": [],
   "source": [
    "def rebin(ys, xs, rebinfactor):\n",
    "    outys = ys.reshape(-1, rebinfactor).mean(axis=1)\n",
    "    outxs = xs.reshape(-1, rebinfactor).mean(axis=1)\n",
    "    return outys, outxs\n"
   ]
  },
  {
   "cell_type": "code",
   "execution_count": 66,
   "metadata": {
    "scrolled": true
   },
   "outputs": [
    {
     "name": "stdout",
     "output_type": "stream",
     "text": [
      "[ 0.06832468 -0.02673279  1.96326366 14.02661661]\n",
      "[[ 9.48308080e-05 -1.81254284e-04 -8.45848374e-08 -1.18037678e-02]\n",
      " [-1.81254284e-04  3.75056807e-04  1.74621258e-07  2.68464332e-02]\n",
      " [-8.45848374e-08  1.74621258e-07  8.89331607e-06  1.22199150e-05]\n",
      " [-1.18037678e-02  2.68464332e-02  1.22199150e-05  2.40612053e+00]]\n",
      "115.32742747196691\n",
      "35.15951379275074\n",
      "81.90027718795059\n",
      "205.29355049943322\n",
      "5144.737175679104\n"
     ]
    }
   ],
   "source": [
    "res_region_beg = 5450\n",
    "res_region_end = 6250\n",
    "res_reg = [res_region_beg,res_region_end]\n",
    "xdata = xs_cut[0][res_reg[0]:res_reg[1]]*1e-6\n",
    "ydata = ON_bgsub[1][0][bg_reg1[1]-bg_reg1[0]:bg_reg2[0]-bg_reg1[0]]\n",
    "\n",
    "def voigt2(x, sig, gam, xshift, amp):\n",
    "    fit = voigt_profile(x-xshift, sig, gam)*amp\n",
    "    return fit\n",
    "\n",
    "popt, pcov = curve_fit(voigt2, xdata, ydata)\n",
    "print(popt)\n",
    "print(pcov)\n",
    "\n",
    "fitted_curve = voigt2(xdata, popt[0],popt[1],popt[2],popt[3],)\n",
    "\n",
    "print(max(fitted_curve))\n",
    "print((popt[3])*np.sqrt(2*np.pi))\n",
    "print((popt[3])/(np.sqrt(2*np.pi)*popt[0]))\n",
    "print((popt[3])/(popt[0]))\n",
    "print(sum(fitted_curve)*(popt[0]*np.sqrt(2*np.pi)))"
   ]
  },
  {
   "cell_type": "code",
   "execution_count": 40,
   "metadata": {},
   "outputs": [
    {
     "name": "stdout",
     "output_type": "stream",
     "text": [
      "[ 44.89368755 -20.04970421   0.9374364   57.76737562  49.75257973\n",
      "  -5.88365485   1.91440596  -9.56943578  28.80474814 -12.04822804]\n"
     ]
    },
    {
     "data": {
      "text/plain": [
       "[<matplotlib.lines.Line2D at 0x1b50a599400>]"
      ]
     },
     "execution_count": 40,
     "metadata": {},
     "output_type": "execute_result"
    },
    {
     "data": {
      "image/png": "[encoded data removed]",
      "text/plain": [
       "<Figure size 640x480 with 1 Axes>"
      ]
     },
     "metadata": {},
     "output_type": "display_data"
    }
   ],
   "source": [
    "print(ydata[10:20])\n",
    "plt.plot(xdata, fitted_curve)\n",
    "plt.plot(xdata,ydata)"
   ]
  },
  {
   "cell_type": "code",
   "execution_count": 41,
   "metadata": {},
   "outputs": [
    {
     "name": "stdout",
     "output_type": "stream",
     "text": [
      "[9.48308080e-05 3.75056807e-04 8.89331607e-06 2.40612053e+00]\n"
     ]
    }
   ],
   "source": [
    "print(np.diagonal(pcov))"
   ]
  },
  {
   "cell_type": "code",
   "execution_count": 197,
   "metadata": {},
   "outputs": [
    {
     "name": "stdout",
     "output_type": "stream",
     "text": [
      "101.14246629700477\n",
      "(array([382], dtype=int64),)\n",
      "[1.964032]\n",
      "20014.352374261165\n",
      "-160.8133132841212\n",
      "34.01536457894821\n",
      "\n",
      "2.1695839564401185\n",
      "2.091678587673097\n",
      "(array([631], dtype=int64),)\n"
     ]
    }
   ],
   "source": [
    "print(max(fitted_curve))\n",
    "print(np.where(fitted_curve==max(fitted_curve)))\n",
    "print(xdata[np.where(fitted_curve==max(fitted_curve))])\n",
    "print(np.sum(fitted_curve))\n",
    "print(np.sum(fitted_curve)*popt[0]*popt[1])\n",
    "print(popt[3]/(np.sqrt(2*np.pi)*popt[0]))\n",
    "print()\n",
    "sig = popt[0]\n",
    "gam = popt[1]\n",
    "fg = 2*sig*np.sqrt(2*np.log(2))\n",
    "fl = 2*sig\n",
    "fv = 0.5346*-fl + np.sqrt(0.2166*fl**2+fg**2)\n",
    "print(fg+popt[2])\n",
    "print(fv+popt[2])\n",
    "print(np.where(xdata == 2.09152))"
   ]
  },
  {
   "cell_type": "code",
   "execution_count": 189,
   "metadata": {},
   "outputs": [
    {
     "name": "stdout",
     "output_type": "stream",
     "text": [
      "0.1277801468127903\n"
     ]
    }
   ],
   "source": [
    "sig = popt[0]\n",
    "gam = popt[1]\n",
    "fg = 2*sig*np.sqrt(2*np.log(2))\n",
    "fl = 2*sig\n",
    "fv = 0.5346*-fl + np.sqrt(0.2166*fl**2+fg**2)\n",
    "print(fv)\n",
    "\n",
    "## plotting voigt fit ##\n",
    "\n",
    "# plt.plot(xs_cut[1]*1e-6, ON_sums[1][0], lw = '1.0')\n",
    "\n",
    "# plt.plot(xdata, voigt, label = 'manual fit')\n",
    "\n",
    "fitted_curve = voigt2(xdata, popt[0],popt[1],popt[2],popt[3],)\n",
    "plt.plot(xdata, fitted_curve, label = rf\"Voigt fit, $\\sigma={round(popt[0],2)},\\, \\gamma={round(popt[1],2)}$\")\n",
    "\n",
    "rebinf = 2\n",
    "rawdat_rebin, xs_cut_rebin = rebin(ydata, xdata, rebinf)\n",
    "\n",
    "# plt.plot(xdata,ydata, label = r'rawdata')\n",
    "plt.plot(xs_cut_rebin,rawdat_rebin, label = rf'rawdata, rebin {rebinf}')\n",
    "# plt.axhline(y = 0)\n",
    "plt.axvline(x = fv/2+popt[2])\n",
    "plt.axvline(x = popt[2]-fv/2)\n",
    "plt.axvline(x = popt[2])\n",
    "\n",
    "\n",
    "plt.title('Fits to background (On sums, 160 pulses in 1 sequence)') \n",
    "plt.xlabel(\"tof (ms)\")\n",
    "plt.ylabel(\"Counts (arbitrary)\")\n",
    "plt.xlabel(\"tof (ms)\", fontsize = '12')\n",
    "plt.ylabel(\"ADC\", fontsize = '12')\n",
    "plt.legend()\n",
    "plt.show()\n",
    "plt.legend()\n",
    "plt.show()"
   ]
  },
  {
   "cell_type": "code",
   "execution_count": 60,
   "metadata": {},
   "outputs": [],
   "source": [
    "## more plotting ##\n",
    "\n",
    "plt.plot(xs_cut[1]*1e-6, ON_sums[1][0], lw = '1.0')\n",
    "\n",
    "# plt.plot(xdata, voigt, label = 'manual fit')\n",
    "\n",
    "fitted_curve = voigt2(xdata, popt[0],popt[1],popt[2],popt[3],)\n",
    "plt.plot(xdata, fitted_curve, label = rf\"Voigt fit, $\\sigma={round(popt[0],2)},\\, \\gamma={round(popt[1],2)}$\")\n",
    "\n",
    "rebinf = 4\n",
    "rawdat_rebin, xs_cut_rebin = rebin(ydata, xdata, rebinf)\n",
    "\n",
    "# plt.plot(xdata,ydata, label = r'rawdata')\n",
    "plt.plot(xs_cut_rebin,rawdat_rebin, label = rf'rawdata for voigt fit, rebin {rebinf}')\n",
    "\n",
    "plt.axhline(y=0, ls = '--', lw = '0.5')\n",
    "plt.title('Voigt fit to background (On sums, 160 pulses in 1 sequence)') \n",
    "plt.xlabel(\"tof (ms)\")\n",
    "plt.ylabel(\"Counts (arbitrary)\")\n",
    "plt.xlabel(\"tof (ms)\", fontsize = '12')\n",
    "plt.ylabel(\"ADC\", fontsize = '12')\n",
    "plt.legend()\n",
    "plt.show()\n",
    "plt.legend()\n",
    "plt.show()"
   ]
  },
  {
   "cell_type": "code",
   "execution_count": 159,
   "metadata": {},
   "outputs": [
    {
     "ename": "ValueError",
     "evalue": "cannot reshape array of size 4809 into shape (4)",
     "output_type": "error",
     "traceback": [
      "\u001b[1;31m---------------------------------------------------------------------------\u001b[0m",
      "\u001b[1;31mValueError\u001b[0m                                Traceback (most recent call last)",
      "\u001b[1;32m~\\AppData\\Local\\Temp\\ipykernel_28244\\2271935141.py\u001b[0m in \u001b[0;36m<module>\u001b[1;34m\u001b[0m\n\u001b[0;32m      5\u001b[0m \u001b[0mrebinf\u001b[0m \u001b[1;33m=\u001b[0m \u001b[1;36m4\u001b[0m\u001b[1;33m\u001b[0m\u001b[1;33m\u001b[0m\u001b[0m\n\u001b[0;32m      6\u001b[0m \u001b[0mrawdat_rebin\u001b[0m\u001b[1;33m,\u001b[0m \u001b[0mxs_cut_rebin\u001b[0m \u001b[1;33m=\u001b[0m \u001b[0mrebin\u001b[0m\u001b[1;33m(\u001b[0m\u001b[0mydata\u001b[0m\u001b[1;33m,\u001b[0m \u001b[0mxdata\u001b[0m\u001b[1;33m,\u001b[0m \u001b[0mrebinf\u001b[0m\u001b[1;33m)\u001b[0m\u001b[1;33m\u001b[0m\u001b[1;33m\u001b[0m\u001b[0m\n\u001b[1;32m----> 7\u001b[1;33m \u001b[0mys_region_rebin\u001b[0m\u001b[1;33m,\u001b[0m \u001b[0mxs_region_rebin\u001b[0m \u001b[1;33m=\u001b[0m \u001b[0mrebin\u001b[0m\u001b[1;33m(\u001b[0m\u001b[0mbgsubtracted2\u001b[0m\u001b[1;33m[\u001b[0m\u001b[1;36m3\u001b[0m\u001b[1;33m:\u001b[0m\u001b[1;33m]\u001b[0m\u001b[1;33m,\u001b[0m \u001b[0mxs_bg_reg\u001b[0m\u001b[1;33m[\u001b[0m\u001b[1;36m3\u001b[0m\u001b[1;33m:\u001b[0m\u001b[1;33m]\u001b[0m\u001b[1;33m,\u001b[0m \u001b[0mrebinf\u001b[0m\u001b[1;33m)\u001b[0m\u001b[1;33m\u001b[0m\u001b[1;33m\u001b[0m\u001b[0m\n\u001b[0m\u001b[0;32m      8\u001b[0m \u001b[1;33m\u001b[0m\u001b[0m\n\u001b[0;32m      9\u001b[0m \u001b[1;33m\u001b[0m\u001b[0m\n",
      "\u001b[1;32m~\\AppData\\Local\\Temp\\ipykernel_28244\\295293631.py\u001b[0m in \u001b[0;36mrebin\u001b[1;34m(ys, xs, rebinfactor)\u001b[0m\n\u001b[0;32m      1\u001b[0m \u001b[1;32mdef\u001b[0m \u001b[0mrebin\u001b[0m\u001b[1;33m(\u001b[0m\u001b[0mys\u001b[0m\u001b[1;33m,\u001b[0m \u001b[0mxs\u001b[0m\u001b[1;33m,\u001b[0m \u001b[0mrebinfactor\u001b[0m\u001b[1;33m)\u001b[0m\u001b[1;33m:\u001b[0m\u001b[1;33m\u001b[0m\u001b[1;33m\u001b[0m\u001b[0m\n\u001b[1;32m----> 2\u001b[1;33m     \u001b[0moutys\u001b[0m \u001b[1;33m=\u001b[0m \u001b[0mys\u001b[0m\u001b[1;33m.\u001b[0m\u001b[0mreshape\u001b[0m\u001b[1;33m(\u001b[0m\u001b[1;33m-\u001b[0m\u001b[1;36m1\u001b[0m\u001b[1;33m,\u001b[0m \u001b[0mrebinfactor\u001b[0m\u001b[1;33m)\u001b[0m\u001b[1;33m.\u001b[0m\u001b[0mmean\u001b[0m\u001b[1;33m(\u001b[0m\u001b[0maxis\u001b[0m\u001b[1;33m=\u001b[0m\u001b[1;36m1\u001b[0m\u001b[1;33m)\u001b[0m\u001b[1;33m\u001b[0m\u001b[1;33m\u001b[0m\u001b[0m\n\u001b[0m\u001b[0;32m      3\u001b[0m     \u001b[0moutxs\u001b[0m \u001b[1;33m=\u001b[0m \u001b[0mxs\u001b[0m\u001b[1;33m.\u001b[0m\u001b[0mreshape\u001b[0m\u001b[1;33m(\u001b[0m\u001b[1;33m-\u001b[0m\u001b[1;36m1\u001b[0m\u001b[1;33m,\u001b[0m \u001b[0mrebinfactor\u001b[0m\u001b[1;33m)\u001b[0m\u001b[1;33m.\u001b[0m\u001b[0mmean\u001b[0m\u001b[1;33m(\u001b[0m\u001b[0maxis\u001b[0m\u001b[1;33m=\u001b[0m\u001b[1;36m1\u001b[0m\u001b[1;33m)\u001b[0m\u001b[1;33m\u001b[0m\u001b[1;33m\u001b[0m\u001b[0m\n\u001b[0;32m      4\u001b[0m     \u001b[1;32mreturn\u001b[0m \u001b[0moutys\u001b[0m\u001b[1;33m,\u001b[0m \u001b[0moutxs\u001b[0m\u001b[1;33m\u001b[0m\u001b[1;33m\u001b[0m\u001b[0m\n",
      "\u001b[1;31mValueError\u001b[0m: cannot reshape array of size 4809 into shape (4)"
     ]
    }
   ],
   "source": [
    "## more more plotting ##\n",
    "\n",
    "plt.plot(xs_cut[1]*1e-6, ON_sums[1][0], lw = '1.0')\n",
    "\n",
    "rebinf = 4\n",
    "rawdat_rebin, xs_cut_rebin = rebin(ydata, xdata, rebinf)\n",
    "ys_region_rebin, xs_region_rebin = rebin(bgsubtracted2[3:], xs_bg_reg[3:], rebinf)\n",
    "\n",
    "\n",
    "# plt.plot(xs_bg_reg, bgsubtracted2, color = 'orange', lw = '1.0', label='2nd Order polynomial background subtracted')\n",
    "plt.plot(xs_region_rebin, ys_region_rebin, color = 'orange', lw = '1.0', label='2nd Order polynomial background subtracted')\n",
    "plt.plot(xs_cut_rebin,rawdat_rebin, label = rf'rawdata for voigt fit, rebin {rebinf}', color = 'g')\n",
    "\n",
    "# plt.plot(xdata, voigt, label = 'manual fit')\n",
    "\n",
    "# plt.plot(xdata,ydata, label = r'rawdata')\n",
    "\n",
    "fitted_curve = voigt2(xdata, popt[0],popt[1],popt[2],popt[3],)\n",
    "plt.plot(xdata, fitted_curve, label = rf\"Voigt fit, $\\sigma={round(popt[0],2)},\\, \\gamma={round(popt[1],2)}$\", color = 'r')\n",
    "\n",
    "plt.axhline(y=0, ls = '--', lw = '0.5')\n",
    "plt.title('Voigt fit to background (On sums, 160 pulses in 1 sequence)') \n",
    "plt.xlabel(\"tof (ms)\")\n",
    "plt.ylabel(\"Counts (arbitrary)\")\n",
    "plt.xlabel(\"tof (ms)\", fontsize = '12')\n",
    "plt.ylabel(\"ADC\", fontsize = '12')\n",
    "plt.legend()\n",
    "plt.show()\n",
    "plt.legend()\n",
    "plt.show()"
   ]
  },
  {
   "cell_type": "code",
   "execution_count": 50,
   "metadata": {},
   "outputs": [
    {
     "name": "stdout",
     "output_type": "stream",
     "text": [
      "101.14246629700477\n",
      "-16.478186809814233\n",
      "20014.35237426118\n",
      "800\n"
     ]
    }
   ],
   "source": [
    "# print(fitted_curve)\n",
    "print(max(fitted_curve))\n",
    "print(min(fitted_curve))\n",
    "\n",
    "print(sum(fitted_curve))\n",
    "print(len(fitted_curve))"
   ]
  },
  {
   "cell_type": "markdown",
   "metadata": {},
   "source": [
    "## Other fitting methods "
   ]
  },
  {
   "cell_type": "markdown",
   "metadata": {},
   "source": [
    "try py spec kit"
   ]
  },
  {
   "cell_type": "code",
   "execution_count": 160,
   "metadata": {},
   "outputs": [
    {
     "name": "stdout",
     "output_type": "stream",
     "text": [
      "101.81577111002956\n",
      "35.092795844834\n",
      "20458.752461586395\n",
      "93814.49840452531\n",
      "93814.49840452542\n",
      "[ 0.06832468 -0.02673279  1.96326366 14.02661661]\n",
      "[[ 9.48308080e-05 -1.81254284e-04 -8.45848374e-08 -1.18037678e-02]\n",
      " [-1.81254284e-04  3.75056807e-04  1.74621258e-07  2.68464332e-02]\n",
      " [-8.45848374e-08  1.74621258e-07  8.89331607e-06  1.22199150e-05]\n",
      " [-1.18037678e-02  2.68464332e-02  1.22199150e-05  2.40612053e+00]]\n",
      "115.32742747196691\n",
      "35.15951379275074\n",
      "81.90027718795059\n",
      "205.29355049943322\n",
      "5144.737175679104\n",
      "8.04866123273715\n"
     ]
    },
    {
     "name": "stderr",
     "output_type": "stream",
     "text": [
      "Covariance of the parameters could not be estimated\n"
     ]
    }
   ],
   "source": [
    "import pyspeckit\n",
    "\n",
    "# from . import model\n",
    "# import numpy as np\n",
    "# from ...spectrum.moments import moments\n",
    "import types\n",
    "try:\n",
    "    import scipy.special\n",
    "    scipyOK = True\n",
    "except ImportError:\n",
    "    scipyOK = False\n",
    "\n",
    "def voigt_spec(xarr, amp, xcen, sigma, gamma, normalized=True):\n",
    "    if scipyOK:\n",
    "        z = ((xarr-xcen) + 1j*gamma) / (sigma * np.sqrt(2))\n",
    "        V = amp * np.real(scipy.special.wofz(z))\n",
    "        if normalized:\n",
    "            return V / (sigma*np.sqrt(2*np.pi))\n",
    "        else:\n",
    "            return V\n",
    "    else:\n",
    "        raise ImportError(\"Couldn't import scipy, therefore cannot do \"\n",
    "                          \"voigt profile stuff\")\n",
    "\n",
    "xdata = xs_cut[0][res_reg[0]:res_reg[1]]*1e-6\n",
    "ydata = ON_bgsub[1][0][bg_reg1[1]-bg_reg1[0]:bg_reg2[0]-bg_reg1[0]]\n",
    "\n",
    "xarr = xdata\n",
    "amp = 7*2*np.sqrt(np.pi*2)\n",
    "xcen = 1.96\n",
    "sigma = 0.087\n",
    "gamma = -0.09\n",
    "\n",
    "# specvoigt = pyspeckit.spectrum.models.inherited_voigtfitter.voigt(xarr, amp, xcen, sigma, gamma, normalized=False)\n",
    "specvoigt = voigt_spec(xarr, amp, xcen, sigma, gamma, normalized=False)\n",
    "\n",
    "print(max(specvoigt))\n",
    "print(amp)\n",
    "print(sum(specvoigt))\n",
    "print(sum(specvoigt)/(sigma*np.sqrt(2*np.pi)))\n",
    "trysum = (specvoigt)/(sigma*np.sqrt(2*np.pi))\n",
    "print(sum(trysum))\n",
    "\n",
    "plt.plot(xdata, specvoigt)\n",
    "plt.plot(xdata,ydata)\n",
    "\n",
    "popt_spec, pcov_spec = curve_fit(voigt_spec, xdata, ydata)\n",
    "print(popt)\n",
    "print(pcov)\n",
    "\n",
    "fitted_curve_spec = voigt_spec(xdata, popt[0],popt[1],popt[2],popt[3],)\n",
    "\n",
    "print(max(fitted_curve))\n",
    "print((popt[3])*np.sqrt(2*np.pi))\n",
    "print((popt[3])/(np.sqrt(2*np.pi)*popt[0]))\n",
    "print((popt[3])/(popt[0]))\n",
    "print(sum(fitted_curve)*(popt[0]*np.sqrt(2*np.pi)))\n",
    "\n",
    "print(101.14246/(2*np.pi*2))"
   ]
  },
  {
   "cell_type": "markdown",
   "metadata": {},
   "source": [
    "try astropy ..."
   ]
  },
  {
   "cell_type": "code",
   "execution_count": 53,
   "metadata": {},
   "outputs": [],
   "source": [
    "from astropy.modeling.models import Voigt1D\n",
    "\n",
    "# popt, pcov = curve_fit(Voigt1D, xdata, ydata)\n",
    "\n",
    "x = np.arange(1.7, 2.2, 0.01)\n",
    "v1 = Voigt1D(x_0=1.98, amplitude_L=100, fwhm_L=0.08, fwhm_G=0.01)\n",
    "plt.plot(x, v1(x))\n",
    "\n",
    "# v1 = Voigt1D(x_0=5, amplitude_L=10, fwhm_L=0.5, fwhm_G=0.9)\n",
    "# fitted_curve = Voigt1D(xdata, popt[0],popt[1],popt[2],)\n",
    "xdata = xs_cut[0][res_reg[0]:res_reg[1]]*1e-6\n",
    "\n",
    "ydata = ON_bgsub[1][0][bg_reg1[1]-bg_reg1[0]:bg_reg2[0]-bg_reg1[0]]\n",
    "\n",
    "# voigt = voigt_profile(xdata-shift, sigma, gamma)*mult\n",
    "# print(voigt)\n",
    "# def voigt2(x, sig, gam, xshift, amp):\n",
    "#     fit = voigt_profile(x-xshift, sig, gam)*amp\n",
    "#     return fit\n",
    "\n",
    "# plt.plot(xdata, voigt)\n",
    "plt.plot(xdata,ydata)\n",
    "plt.show()\n",
    "\n",
    "\n",
    "from astropy.modeling import models, fitting\n",
    "\n",
    "x = xdata\n",
    "y = ydata\n",
    "\n",
    "g_init = Voigt1D(x_0=1.98, amplitude_L=100, fwhm_L=0.08, fwhm_G=0.01)\n",
    "# fit_g = fitting.TRFLSQFitter(calc_uncertainties=False)\n",
    "# g = fit_g(g_init, x, y)\n",
    "\n",
    "testmax = (max(ydata))\n",
    "# g_init = Voigt1D(x_0=2, amplitude_L=1000, fwhm_L=0.636, fwhm_G=0.693)\n",
    "fit_g = fitting.TRFLSQFitter(calc_uncertainties=False)\n",
    "g = fit_g(g_init, x, y)\n",
    "\n",
    "# Plot the data with the best-fit model\n",
    "plt.figure(figsize=(8,5))\n",
    "plt.plot(x, y, 'ko')\n",
    "plt.plot(x, g(x), label='voigt astropy')\n",
    "# plt.xlabel('Position')\n",
    "# plt.ylabel('Flux')\n",
    "plt.legend(loc=2)\n",
    "print(fit_g)\n",
    "print(g)\n",
    "print(max(g(x)))\n",
    "print(np.std(g(x)))\n",
    "# fit_g.fit_info\n",
    "\n",
    "fit_g(g_init, x, y)\n",
    "\n"
   ]
  },
  {
   "cell_type": "markdown",
   "metadata": {},
   "source": [
    "## saving to hdf5 ##"
   ]
  },
  {
   "cell_type": "code",
   "execution_count": 28,
   "metadata": {},
   "outputs": [],
   "source": [
    "import h5py\n",
    "import gzip"
   ]
  },
  {
   "cell_type": "code",
   "execution_count": 25,
   "metadata": {},
   "outputs": [
    {
     "name": "stdout",
     "output_type": "stream",
     "text": [
      "11\n",
      "<class 'numpy.ndarray'>\n"
     ]
    }
   ],
   "source": [
    "b = np.char.zfill(str(chan_enab[11]), 2)\n",
    "print(b)\n",
    "print(type(b))\n",
    "ch_list = str(chan_enab)"
   ]
  },
  {
   "cell_type": "code",
   "execution_count": 30,
   "metadata": {},
   "outputs": [],
   "source": [
    "## straight numpy save\n",
    "# Save the NumPy array to an HDF5 file\n",
    "with h5py.File('testtesttest_ysh5'+'.h5', 'w') as hdf5_file:\n",
    "    hdf5_file.create_dataset('dataset', data=ys_cut)\n",
    "\n",
    "# # Read the NumPy array from the HDF5 file\n",
    "# with h5py.File(hdf5_file_path, 'r') as hdf5_file:\n",
    "#     loaded_array = hdf5_file['dataset'][:]"
   ]
  },
  {
   "cell_type": "code",
   "execution_count": 30,
   "metadata": {},
   "outputs": [
    {
     "name": "stdout",
     "output_type": "stream",
     "text": [
      "saving hdf5: 8.730424404144287\n"
     ]
    }
   ],
   "source": [
    "# try compression\n",
    "start = time.time()\n",
    "\n",
    "testch = 0\n",
    "\n",
    "with h5py.File('test_addingmultipleys'+'.h5', 'w') as hdf5_file:\n",
    "#     hdf5_file.create_dataset('ch '+str(chan_enab[testch]), data=ys_cut[testch])\n",
    "#     hdf5_file.create_dataset('ch '+str(np.char.zfill(str(chan_enab[0]), 2)), data=ys_cut[0], compression=\"gzip\")\n",
    "    hdf5_file.create_dataset('ch '+str(np.char.zfill(str(chan_enab[0]), 2)), data=ys_cut[testch])\n",
    "    \n",
    "# i = 2\n",
    "# with h5py.File('test_addingmultipleys'+'.h5', 'a') as hdf5_file:\n",
    "#     hdf5_file.create_dataset('ch '+str(chan_enab[i]), data=ys_cut[i])\n",
    "\n",
    "for i in range(1,len(ys_cut)):\n",
    "    with h5py.File('test_addingmultipleys'+'.h5', 'a') as hdf5_file:\n",
    "#         hdf5_file.create_dataset('ch '+str(np.char.zfill(str(chan_enab[i]), 2)), data=ys_cut[i], compression=\"gzip\")\n",
    "        hdf5_file.create_dataset('ch '+str(np.char.zfill(str(chan_enab[i]), 2)), data=ys_cut[i])\n",
    "        \n",
    "# f = gzip.GzipFile(\"testcompressednparr.npy.gz\", \"w\")\n",
    "# np.save(file=f, arr=ys_cut)\n",
    "# f.close()\n",
    "        \n",
    "end = time.time()\n",
    "print('saving hdf5: ' + str(end-start))"
   ]
  },
  {
   "cell_type": "code",
   "execution_count": 29,
   "metadata": {},
   "outputs": [
    {
     "name": "stdout",
     "output_type": "stream",
     "text": [
      "saving hdf5: 8.799411296844482\n"
     ]
    }
   ],
   "source": [
    "# Save the NumPy array to an HDF5 file\n",
    "start = time.time()\n",
    "\n",
    "testch = 0\n",
    "\n",
    "with h5py.File('test_addingmultipleys'+'.h5', 'w') as hdf5_file:\n",
    "#     hdf5_file.create_dataset('ch '+str(chan_enab[testch]), data=ys_cut[testch])\n",
    "    hdf5_file.create_dataset('ch '+str(np.char.zfill(str(chan_enab[0]), 2)), data=ys_cut[testch])\n",
    "\n",
    "    \n",
    "# i = 2\n",
    "# with h5py.File('test_addingmultipleys'+'.h5', 'a') as hdf5_file:\n",
    "#     hdf5_file.create_dataset('ch '+str(chan_enab[i]), data=ys_cut[i])\n",
    "\n",
    "for i in range(1,len(ys_cut)):\n",
    "    with h5py.File('test_addingmultipleys'+'.h5', 'a') as hdf5_file:\n",
    "        hdf5_file.create_dataset('ch '+str(np.char.zfill(str(chan_enab[i]), 2)), data=ys_cut[i])\n",
    "        \n",
    "end = time.time()\n",
    "print('saving hdf5: ' + str(end-start))    "
   ]
  },
  {
   "cell_type": "code",
   "execution_count": 33,
   "metadata": {},
   "outputs": [
    {
     "name": "stdout",
     "output_type": "stream",
     "text": [
      "saving hdf5: 236.83496618270874\n"
     ]
    }
   ],
   "source": [
    "## try compressed np array\n",
    "start = time.time()\n",
    "\n",
    "f = gzip.GzipFile(\"testcompressednparr.npy.gz\", \"w\")\n",
    "np.save(file=f, arr=ys_cut)\n",
    "f.close()\n",
    "\n",
    "end = time.time()\n",
    "print('saving hdf5: ' + str(end-start))   "
   ]
  },
  {
   "cell_type": "code",
   "execution_count": null,
   "metadata": {},
   "outputs": [],
   "source": []
  },
  {
   "cell_type": "code",
   "execution_count": 28,
   "metadata": {},
   "outputs": [],
   "source": [
    "testdf = pd.DataFrame(ys_cut[0])\n",
    "# print(testdf)\n",
    "testdf.to_hdf('testing1chdf.h5', key='df', mode='w')"
   ]
  },
  {
   "cell_type": "code",
   "execution_count": 12,
   "metadata": {},
   "outputs": [
    {
     "name": "stdout",
     "output_type": "stream",
     "text": [
      "aligning and cutting time: 10.02809476852417\n"
     ]
    }
   ],
   "source": [
    "start = time.time()\n",
    "\n",
    "np.save('testing_cutys_npoutput', ys_cut)\n",
    "\n",
    "end = time.time()\n",
    "print('aligning and cutting time: ' + str(end-start))   "
   ]
  },
  {
   "cell_type": "code",
   "execution_count": null,
   "metadata": {},
   "outputs": [],
   "source": []
  },
  {
   "cell_type": "code",
   "execution_count": null,
   "metadata": {},
   "outputs": [],
   "source": []
  },
  {
   "cell_type": "markdown",
   "metadata": {},
   "source": [
    "## older stuff ##"
   ]
  },
  {
   "cell_type": "code",
   "execution_count": 18,
   "metadata": {},
   "outputs": [
    {
     "name": "stdout",
     "output_type": "stream",
     "text": [
      "summing pulses into their states time: 0.7072417736053467\n"
     ]
    }
   ],
   "source": [
    "# OLD: changed to just saving ON and OFF pulses. Keeping if needed in later use. 09.30.2024\n",
    "\n",
    "#  add up pulses for their respective state, in each 8 step sequence ##\n",
    "#  turning into a by-channel function 06.13.24 ##\n",
    "\n",
    "start = time.time()\n",
    "sequence = np.asarray(sequence, dtype = object)\n",
    "\n",
    "# added_pulses = np.zeros((len(ys_cut), len(sequence[0]), 8, len(ys_cut[0][0])), dtype=np.float64) ## 13 sequences, 8 stages each works?\n",
    "# i channels, 13 sequences each, 8 states each sequence, 8992 num points ##\n",
    "\n",
    "ON_sums = np.zeros((len(ys_cut), len(sequence[0]), len(ys_cut[0][0])), dtype=np.float64) ## 13 channels, 13 sequences, added pulses for ON\n",
    "OFF_sums = np.zeros((len(ys_cut), len(sequence[0]), len(ys_cut[0][0])), dtype=np.float64) ## 13 channels, 13 sequences, added pulses for OFF\n",
    "ONOFF_minus_sums = np.zeros((len(ys_cut), len(sequence[0]),2, len(ys_cut[0][0])), dtype=np.float64) ## 13 channels, 13 sequences, added pulses for ON\n",
    "ONOFF_plus_sums = np.zeros((len(ys_cut), len(sequence[0]),2, len(ys_cut[0][0])), dtype=np.float64) ## 13 channels, 13 sequences, added pulses for OFF\n",
    "\n",
    "# ON_OFF_sums = np.zeros((len(ys_cut), len(sequence[0]), 2, len(ys_cut[0][0])), dtype=np.float64) ## 13 sequences, 2 for ON or OFF for each sequence\n",
    "# ON_sums = np.zeros((len(ys_basesub), len(sequence[0]), len(ys_basesub[0][0])), dtype=np.float64) ## 13 channels, 13 sequences, added pulses for ON\n",
    "# OFF_sums = np.zeros((len(ys_basesub), len(sequence[0]), len(ys_basesub[0][0])), dtype=np.float64) ## 13 channels, 13 sequences, added pulses for OFF\n",
    "# ON_minus_sums = np.zeros((len(ys_basesub), len(sequence[0]),2, len(ys_basesub[0][0])), dtype=np.float64) ## 13 channels, 13 sequences, added pulses for ON\n",
    "# ON_plus_sums = np.zeros((len(ys_basesub), len(sequence[0]),2, len(ys_basesub[0][0])), dtype=np.float64) ## 13 channels, 13 sequences, added pulses for OFF\n",
    "# ON_minus/plus_sums have their 2 for associated OFF states in the second array\n",
    "\n",
    "# @njit\n",
    "def add_pulse(ys, SFarr):\n",
    "#     tempadded_p = np.zeros((len(SFarr[0]), 8, len(ys[0])), dtype=np.float64)\n",
    "    temp_ON = np.zeros((len(SFarr[0]), len(ys[0])), dtype=np.float64)\n",
    "    temp_OFF = np.zeros((len(SFarr[0]), len(ys[0])), dtype=np.float64)\n",
    "    temp_ONOFF_min = np.zeros((len(SFarr[0]),2, len(ys[0])), dtype=np.float64)\n",
    "    temp_ONOFF_plu = np.zeros((len(SFarr[0]),2, len(ys[0])), dtype=np.float64)\n",
    "    for seq in range(0, len(SFarr[0])): ## for every sequence\n",
    "    #         print('seq:' +str(SFarr[0][seq]))\n",
    "#         print('seq:' +str(seq))\n",
    "        for state in range(0, len(SFarr[1][0])): ## for every state in the sequence\n",
    "    #         print(\"states loop \" + str(range(0, len(SFarr[1][0]))[0]) + ' - ' +  str(range(0, len(SFarr[1][0]))[-1]))\n",
    "            s = SFarr[1][seq][state] ## try this to condense code. Basically, the state currently at\n",
    "            if s==0 or s==3 or s==5 or s==6: ## these are ON states\n",
    "#                 print('ON \"s\" state '+str(s))\n",
    "#                 print('\"state\" ' +str(state) + ' from ' + str(range((SFarr[2][seq][state][0]),(SFarr[2][seq][state][1]))))\n",
    "#                 print('sums from '+str(range((SFarr[2][seq][state][0]),(SFarr[2][seq][state][1]))[0]) +\n",
    "#                 ' - ' +str(range((SFarr[2][seq][state][0]),(SFarr[2][seq][state][1]))[-1]) + '\\n')\n",
    "                for p in range((SFarr[2][seq][state][0]),(SFarr[2][seq][state][1])): ##From 20-60 for example. SFarr[2] is the array of start to end pulses to sum\n",
    "                    temp_ON[seq] = np.add(temp_ON[seq],ys[p]) ## start with zeros, add to each iteratively\n",
    "#                     print(p)\n",
    "                #         below is for splitting up into ON(-) and ON(+) and their associated OFF states (1 state forward for -, 1 state backward for +)\n",
    "                if s==0 or s==6: ## these or ON(-) states\n",
    "                    OFF_i = np.where(np.asarray(SFarr[1][0])==s+1)[0][0] ## find where in sequence state = s(ON-)+1    \n",
    "    #                 print('ON(-) \"s\" ' +str(s) + ' from ' + str(range((SFarr[2][seq][state][0]),(SFarr[2][seq][state][1]))))\n",
    "                    for p in range((SFarr[2][seq][state][0]),(SFarr[2][seq][state][1])): ##From 20-60 for example. SFarr[2] is the array of start to end pulses to sum\n",
    "                        temp_ONOFF_min[seq][0] = np.add(temp_ONOFF_min[seq][0],ys[p]) ## start with zeros, add to each iteratively\n",
    "    #                 print('OFF state ' + str(SFarr[1][seq][OFF_i]))\n",
    "                    for p in range((SFarr[2][seq][OFF_i][0]),(SFarr[2][seq][OFF_i][1])): ##From 20-60 for example. SFarr[2] is the array of start to end pulses to sum\n",
    "                        temp_ONOFF_min[seq][1] = np.add(temp_ONOFF_min[seq][1],ys[p]) ## start with zeros, add to each iteratively\n",
    "                if s==3 or s==5: ## these or ON(+) states\n",
    "                    OFF_i = np.where(np.asarray(SFarr[1][0])==s-1)[0][0] ## find where in sequence state = s(ON+)-1    \n",
    "    #                 print('ON(+) \"s\" ' +str(s) + ' from ' + str(range((SFarr[2][seq][state][0]),(SFarr[2][seq][state][1]))))\n",
    "                    for p in range((SFarr[2][seq][state][0]),(SFarr[2][seq][state][1])): ##From 20-60 for example. SFarr[2] is the array of start to end pulses to sum\n",
    "                        temp_ONOFF_plu[seq][0] = np.add(temp_ONOFF_plu[seq][0],ys[p]) ## start with zeros, add to each iteratively\n",
    "    #                 print('OFF state ' + str(SFarr[1][seq][OFF_i]))\n",
    "                    for p in range((SFarr[2][seq][OFF_i][0]),(SFarr[2][seq][OFF_i][1])): ##From 20-60 for example. SFarr[2] is the array of start to end pulses to sum\n",
    "                        temp_ONOFF_plu[seq][1] = np.add(temp_ONOFF_plu[seq][1],ys[p]) ## start with zeros, add to each iteratively\n",
    "            if s==1 or s==2 or s==4 or s==7: ## these are OFF states\n",
    "#                 print('OFF \"s\" state '+str(s))\n",
    "#                 print('\"state\" ' +str(state) + ' from ' + str(range((SFarr[2][seq][state][0]),(SFarr[2][seq][state][1]))))\n",
    "#                 print('sums from '+str(range((SFarr[2][seq][state][0]),(SFarr[2][seq][state][1]))[0]) +\n",
    "#                 ' - ' +str(range((SFarr[2][seq][state][0]),(SFarr[2][seq][state][1]))[-1]) + '\\n')\n",
    "                for p in range((SFarr[2][seq][state][0]),(SFarr[2][seq][state][1])): ##From 20-60 for example. SFarr[2] is the array of start to end pulses to sum\n",
    "                    temp_OFF[seq] = np.add(temp_OFF[seq],ys[p]) ## start with zeros, add to each iteratively\n",
    "#                     print(p)\n",
    "    return temp_ON, temp_OFF, temp_ONOFF_min, temp_ONOFF_plu\n",
    "\n",
    "for i in range(len(ys_cut)):\n",
    "#     print('#################### channel: ' + str(i) + ' ##########################')\n",
    "    ON_sums[i], OFF_sums[i], ONOFF_minus_sums[i], ONOFF_plus_sums[i] = add_pulse(ys_cut[i], sequence)\n",
    "    \n",
    "# for i in range(len(ys_basesub)-12):\n",
    "#     print('#################### channel: ' + str(i) + ' ##########################')\n",
    "#     ON_sums[i], OFF_sums[i], ON_minus_sums[i], ON_plus_sums[i] = add_pulse(ys_basesub[i], sequence)\n",
    "\n",
    "end = time.time()\n",
    "print('summing pulses into their states time: ' + str(end-start))  "
   ]
  },
  {
   "cell_type": "code",
   "execution_count": null,
   "metadata": {},
   "outputs": [],
   "source": []
  }
 ],
 "metadata": {
  "kernelspec": {
   "display_name": "Python 3 (ipykernel)",
   "language": "python",
   "name": "python3"
  },
  "language_info": {
   "codemirror_mode": {
    "name": "ipython",
    "version": 3
   },
   "file_extension": ".py",
   "mimetype": "text/x-python",
   "name": "python",
   "nbconvert_exporter": "python",
   "pygments_lexer": "ipython3",
   "version": "3.9.13"
  }
 },
 "nbformat": 4,
 "nbformat_minor": 2
}
